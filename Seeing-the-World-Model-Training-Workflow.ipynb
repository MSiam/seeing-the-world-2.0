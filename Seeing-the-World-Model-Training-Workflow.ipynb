{
 "cells": [
  {
   "cell_type": "markdown",
   "metadata": {},
   "source": [
    "## Seeing the World: Model Training"
   ]
  },
  {
   "cell_type": "markdown",
   "metadata": {},
   "source": [
    "### Specify train and validate input folders"
   ]
  },
  {
   "cell_type": "code",
   "execution_count": 1,
   "metadata": {},
   "outputs": [],
   "source": [
    "#train input folder\n",
    "train_input_folder = '/data/data4/farmer_market'\n",
    "\n",
    "#validation input folder\n",
    "validate_input_folder = '/data/data4/validate/farmer_market'"
   ]
  },
  {
   "cell_type": "code",
   "execution_count": 2,
   "metadata": {},
   "outputs": [],
   "source": [
    "from imutils import paths\n",
    "import os\n",
    "import shutil\n",
    "import random\n",
    "\n",
    "def split_data(directory, validate_directory='validation', split=0.8): \n",
    "  directories = [os.path.join(directory, o) for o in os.listdir(directory) \n",
    "                    if os.path.isdir(os.path.join(directory,o))]\n",
    "  for directory in directories:\n",
    "    image_paths = list(paths.list_images(directory))\n",
    "    \n",
    "    random.seed(32)\n",
    "    random.shuffle(image_paths)\n",
    "    image_paths\n",
    "   \n",
    "    # compute the training and testing split\n",
    "    i = int(len(image_paths) * split)    \n",
    "    train_paths = image_paths[:i]\n",
    "    selected_for_validation_paths = image_paths[i:]\n",
    "    for path in selected_for_validation_paths:\n",
    "       category = os.path.basename(os.path.normpath(directory)) \n",
    "       dest_path = os.path.join(validate_directory, category)\n",
    "       if not os.path.exists(dest_path):\n",
    "           os.makedirs(dest_path)\n",
    "           os.chmod(dest_path, 0o777)\n",
    "       try: \n",
    "           shutil.move(path, dest_path)\n",
    "       except OSError as e:\n",
    "           if e.errno == errno.EEXIST:\n",
    "               print('Image already exists.')\n",
    "           else:\n",
    "               raise     \n",
    "\n",
    "  "
   ]
  },
  {
   "cell_type": "code",
   "execution_count": 3,
   "metadata": {},
   "outputs": [],
   "source": [
    "split_data(directory='/data/data4/farmer_market',\n",
    "           validate_directory= '/data/data4/validate/farmer_market') "
   ]
  },
  {
   "cell_type": "markdown",
   "metadata": {},
   "source": [
    "### Create train and validate data generators"
   ]
  },
  {
   "cell_type": "code",
   "execution_count": 4,
   "metadata": {},
   "outputs": [],
   "source": [
    "from tensorflow.keras.preprocessing.image import ImageDataGenerator\n",
    "\n",
    "#apply image augmentation\n",
    "train_image_generator = ImageDataGenerator(\n",
    "    rescale=1./255,\n",
    "    shear_range=0.2,\n",
    "    zoom_range=0.2,\n",
    "    brightness_range=[0.5, 1.5],\n",
    "    horizontal_flip=True,\n",
    "    vertical_flip=True,\n",
    "    rotation_range=40,\n",
    "    width_shift_range=0.2,\n",
    "    height_shift_range=0.2)\n",
    "\n",
    "validate_image_generator = ImageDataGenerator(rescale=1./255)\n",
    "\n"
   ]
  },
  {
   "cell_type": "code",
   "execution_count": 5,
   "metadata": {},
   "outputs": [
    {
     "name": "stdout",
     "output_type": "stream",
     "text": [
      "Found 1539 images belonging to 64 classes.\n",
      "Found 414 images belonging to 64 classes.\n"
     ]
    }
   ],
   "source": [
    "batch_size = 30\n",
    "image_width = 224\n",
    "image_height = 224\n",
    "IMAGE_WIDTH_HEIGHT = (image_width, image_height)\n",
    "\n",
    "class_mode = 'categorical'\n",
    "\n",
    "#create train data generator flowing from train_input_folder\n",
    "train_generator = train_image_generator.flow_from_directory(\n",
    "            train_input_folder,\n",
    "            target_size=IMAGE_WIDTH_HEIGHT,\n",
    "            batch_size=batch_size,\n",
    "            class_mode=class_mode)\n",
    "\n",
    "#create validation data generator flowing from validate_input_folder\n",
    "validation_generator = validate_image_generator.flow_from_directory(\n",
    "        validate_input_folder,\n",
    "        target_size=IMAGE_WIDTH_HEIGHT,\n",
    "        batch_size=batch_size,\n",
    "        class_mode=class_mode)"
   ]
  },
  {
   "cell_type": "markdown",
   "metadata": {},
   "source": [
    "### Create Custom Model"
   ]
  },
  {
   "cell_type": "code",
   "execution_count": 6,
   "metadata": {},
   "outputs": [],
   "source": [
    "from tensorflow.keras import layers\n",
    "from tensorflow.keras import Model\n",
    "from tensorflow.keras.optimizers import Adam\n",
    "\n",
    "total_classes = 60\n",
    "activation_function = 'softmax'\n",
    "loss = 'categorical_crossentropy'\n",
    "\n",
    "img_input = layers.Input(shape=(image_width, image_height, 3))\n",
    "\n",
    "x = layers.Conv2D(32, 3, activation='relu')(img_input)\n",
    "x = layers.MaxPooling2D(2)(x)\n",
    "\n",
    "x = layers.Conv2D(64, 3, activation='relu')(x)\n",
    "x = layers.MaxPooling2D(2)(x)\n",
    "\n",
    "x = layers.Flatten()(x)\n",
    "\n",
    "x = layers.Dense(512, activation='relu')(x)\n",
    "\n",
    "x = layers.Dropout(0.5)(x)\n",
    "\n",
    "output = layers.Dense(total_classes, activation=activation_function)(x)\n",
    "\n",
    "model = Model(img_input, output)\n",
    "model.compile(loss=loss,\n",
    "              optimizer=Adam(lr=0.001),\n",
    "              metrics=['accuracy'])"
   ]
  },
  {
   "cell_type": "markdown",
   "metadata": {},
   "source": [
    "### Train Custom Model"
   ]
  },
  {
   "cell_type": "code",
   "execution_count": 8,
   "metadata": {},
   "outputs": [
    {
     "name": "stdout",
     "output_type": "stream",
     "text": [
      "Epoch 1/5\n",
      "23/23 [==============================] - 140s 6s/step - loss: 3.0907 - accuracy: 0.2127 - val_loss: 2.9866 - val_accuracy: 0.2726\n",
      "Epoch 2/5\n",
      "23/23 [==============================] - 137s 6s/step - loss: 2.7565 - accuracy: 0.2703 - val_loss: 2.7382 - val_accuracy: 0.2462\n",
      "Epoch 3/5\n",
      "23/23 [==============================] - 137s 6s/step - loss: 2.5411 - accuracy: 0.2866 - val_loss: 2.5862 - val_accuracy: 0.3453\n",
      "Epoch 4/5\n",
      "23/23 [==============================] - 133s 6s/step - loss: 2.1530 - accuracy: 0.3604 - val_loss: 2.2663 - val_accuracy: 0.4547\n",
      "Epoch 5/5\n",
      "23/23 [==============================] - 134s 6s/step - loss: 2.0415 - accuracy: 0.3855 - val_loss: 2.1194 - val_accuracy: 0.5026\n"
     ]
    }
   ],
   "source": [
    "import os, datetime\n",
    "import tensorflow as tf\n",
    "\n",
    "epochs = 5\n",
    "steps_per_epoch = train_generator.n // train_generator.batch_size\n",
    "validation_steps = validation_generator.n // validation_generator.batch_size\n",
    "\n",
    "logdir = os.path.join(\"tf_logs\", datetime.datetime.now().strftime(\"%Y%m%d-%H%M%S\"))\n",
    "tensorboard_callback = tf.keras.callbacks.TensorBoard(logdir, histogram_freq=1)\n",
    "\n",
    "history = model.fit_generator(\n",
    "      train_generator,\n",
    "      steps_per_epoch=steps_per_epoch,\n",
    "      validation_data=validation_generator,\n",
    "      validation_steps=validation_steps,\n",
    "      callbacks=[tensorboard_callback],\n",
    "      epochs=epochs)"
   ]
  },
  {
   "cell_type": "code",
   "execution_count": null,
   "metadata": {},
   "outputs": [],
   "source": [
    "%matplotlib inline\n",
    "import matplotlib.pyplot as plt\n",
    "import matplotlib.image as mpimg\n",
    "\n",
    "acc = history.history['accuracy']\n",
    "val_acc = history.history['val_accuracy']\n",
    "\n",
    "loss = history.history['loss']\n",
    "val_loss = history.history['val_loss']\n",
    "\n",
    "plt.figure(figsize=(8, 8))\n",
    "plt.subplot(2, 1, 1)\n",
    "plt.plot(acc, label='Training Accuracy')\n",
    "plt.plot(val_acc, label='Validation Accuracy')\n",
    "plt.legend(loc='lower right')\n",
    "plt.ylabel('Accuracy')\n",
    "plt.ylim([min(plt.ylim()), 1])\n",
    "plt.title('Training and Validation Accuracy')\n",
    "\n",
    "plt.subplot(2, 1, 2)\n",
    "plt.plot(loss, label='Training Loss')\n",
    "plt.plot(val_loss, label='Validation Loss')\n",
    "plt.legend(loc='upper right')\n",
    "plt.ylabel('Cross Entropy')\n",
    "plt.ylim([0, 1.0])\n",
    "plt.title('Training and Validation Loss')\n",
    "plt.xlabel('epoch')"
   ]
  },
  {
   "cell_type": "markdown",
   "metadata": {},
   "source": [
    "### Using Transfer Learning"
   ]
  },
  {
   "cell_type": "code",
   "execution_count": 6,
   "metadata": {},
   "outputs": [
    {
     "name": "stdout",
     "output_type": "stream",
     "text": [
      "Model: \"vgg19\"\n",
      "_________________________________________________________________\n",
      "Layer (type)                 Output Shape              Param #   \n",
      "=================================================================\n",
      "input_1 (InputLayer)         [(None, 224, 224, 3)]     0         \n",
      "_________________________________________________________________\n",
      "block1_conv1 (Conv2D)        (None, 224, 224, 64)      1792      \n",
      "_________________________________________________________________\n",
      "block1_conv2 (Conv2D)        (None, 224, 224, 64)      36928     \n",
      "_________________________________________________________________\n",
      "block1_pool (MaxPooling2D)   (None, 112, 112, 64)      0         \n",
      "_________________________________________________________________\n",
      "block2_conv1 (Conv2D)        (None, 112, 112, 128)     73856     \n",
      "_________________________________________________________________\n",
      "block2_conv2 (Conv2D)        (None, 112, 112, 128)     147584    \n",
      "_________________________________________________________________\n",
      "block2_pool (MaxPooling2D)   (None, 56, 56, 128)       0         \n",
      "_________________________________________________________________\n",
      "block3_conv1 (Conv2D)        (None, 56, 56, 256)       295168    \n",
      "_________________________________________________________________\n",
      "block3_conv2 (Conv2D)        (None, 56, 56, 256)       590080    \n",
      "_________________________________________________________________\n",
      "block3_conv3 (Conv2D)        (None, 56, 56, 256)       590080    \n",
      "_________________________________________________________________\n",
      "block3_conv4 (Conv2D)        (None, 56, 56, 256)       590080    \n",
      "_________________________________________________________________\n",
      "block3_pool (MaxPooling2D)   (None, 28, 28, 256)       0         \n",
      "_________________________________________________________________\n",
      "block4_conv1 (Conv2D)        (None, 28, 28, 512)       1180160   \n",
      "_________________________________________________________________\n",
      "block4_conv2 (Conv2D)        (None, 28, 28, 512)       2359808   \n",
      "_________________________________________________________________\n",
      "block4_conv3 (Conv2D)        (None, 28, 28, 512)       2359808   \n",
      "_________________________________________________________________\n",
      "block4_conv4 (Conv2D)        (None, 28, 28, 512)       2359808   \n",
      "_________________________________________________________________\n",
      "block4_pool (MaxPooling2D)   (None, 14, 14, 512)       0         \n",
      "_________________________________________________________________\n",
      "block5_conv1 (Conv2D)        (None, 14, 14, 512)       2359808   \n",
      "_________________________________________________________________\n",
      "block5_conv2 (Conv2D)        (None, 14, 14, 512)       2359808   \n",
      "_________________________________________________________________\n",
      "block5_conv3 (Conv2D)        (None, 14, 14, 512)       2359808   \n",
      "_________________________________________________________________\n",
      "block5_conv4 (Conv2D)        (None, 14, 14, 512)       2359808   \n",
      "_________________________________________________________________\n",
      "block5_pool (MaxPooling2D)   (None, 7, 7, 512)         0         \n",
      "=================================================================\n",
      "Total params: 20,024,384\n",
      "Trainable params: 20,024,384\n",
      "Non-trainable params: 0\n",
      "_________________________________________________________________\n"
     ]
    }
   ],
   "source": [
    "import tensorflow as tf\n",
    "from tensorflow.keras.applications.vgg16 import VGG16\n",
    "from tensorflow.keras.applications.vgg19 import VGG19\n",
    "\n",
    "image_width=224\n",
    "image_height=224\n",
    "IMAGE_SHAPE = (image_width, image_height, 3)\n",
    "\n",
    "base_model = tf.keras.applications.VGG19(input_shape=IMAGE_SHAPE, include_top=False,weights='imagenet')\n",
    "\n",
    "base_model.summary()\n"
   ]
  },
  {
   "cell_type": "code",
   "execution_count": 7,
   "metadata": {},
   "outputs": [
    {
     "name": "stdout",
     "output_type": "stream",
     "text": [
      "Found 1539 images belonging to 64 classes.\n",
      "Found 414 images belonging to 64 classes.\n"
     ]
    }
   ],
   "source": [
    "keras = tf.keras\n",
    "IMAGE_WIDTH_HEIGHT = (image_width, image_height)\n",
    "batch_size=30\n",
    "class_mode=\"categorical\"\n",
    "\n",
    "total_classes = 64\n",
    "activation_function = 'softmax'\n",
    "loss = 'categorical_crossentropy'\n",
    "\n",
    "\n",
    "train_image_generator = tf.keras.preprocessing.image.ImageDataGenerator(\n",
    "            preprocessing_function=keras.applications.vgg19.preprocess_input,\n",
    "            rescale=1.0/255.0,\n",
    "            shear_range=0.2, \n",
    "            zoom_range=[0.9, 1.25],\n",
    "            brightness_range=[0.5, 1.5],\n",
    "            horizontal_flip=True,\n",
    "            vertical_flip=True)\n",
    "\n",
    "     \n",
    "validation_image_generator = tf.keras.preprocessing.image.ImageDataGenerator(\n",
    "            preprocessing_function=keras.applications.vgg19.preprocess_input,\n",
    "            rescale=1.0/255.0)\n",
    "\n",
    "\n",
    "train_generator = train_image_generator.flow_from_directory(\n",
    "            train_input_folder,\n",
    "            target_size=IMAGE_WIDTH_HEIGHT,\n",
    "            batch_size=batch_size,\n",
    "            class_mode=class_mode)\n",
    "\n",
    "validation_generator = validation_image_generator.flow_from_directory(\n",
    "            validate_input_folder,\n",
    "            target_size=IMAGE_WIDTH_HEIGHT,\n",
    "            batch_size=batch_size,\n",
    "            class_mode=class_mode)"
   ]
  },
  {
   "cell_type": "code",
   "execution_count": 8,
   "metadata": {},
   "outputs": [
    {
     "name": "stdout",
     "output_type": "stream",
     "text": [
      "no checkpointed weights\n",
      "Number of layers in the base model:  22\n",
      "Model: \"sequential\"\n",
      "_________________________________________________________________\n",
      "Layer (type)                 Output Shape              Param #   \n",
      "=================================================================\n",
      "vgg19 (Model)                (None, 7, 7, 512)         20024384  \n",
      "_________________________________________________________________\n",
      "global_average_pooling2d (Gl (None, 512)               0         \n",
      "_________________________________________________________________\n",
      "dense (Dense)                (None, 64)                32832     \n",
      "=================================================================\n",
      "Total params: 20,057,216\n",
      "Trainable params: 32,832\n",
      "Non-trainable params: 20,024,384\n",
      "_________________________________________________________________\n"
     ]
    }
   ],
   "source": [
    "from tensorflow.keras import layers\n",
    "from tensorflow.keras import Model\n",
    "from tensorflow.keras.optimizers import Adam\n",
    "import os\n",
    "\n",
    "reload_checkpoint=True\n",
    "\n",
    "total_classes=64\n",
    "img_input = layers.Input(shape=(image_width, image_height, 3))\n",
    "\n",
    "global_average_layer = layers.GlobalAveragePooling2D()\n",
    "prediction_layer = layers.Dense(total_classes, activation='softmax')\n",
    "\n",
    "\n",
    "model = tf.keras.Sequential([\n",
    "  base_model,\n",
    "  global_average_layer,\n",
    "  prediction_layer\n",
    "])\n",
    "\n",
    "checkpoint_path = \"/data/train_model_fruit_veggie_9/chkpt\"\n",
    "checkpoint_dir = os.path.dirname(checkpoint_path)\n",
    "\n",
    "\n",
    "if (reload_checkpoint and os.path.isdir(checkpoint_path)):\n",
    "   try:\n",
    "      model.load_weights(checkpoint_path)\n",
    "      print('loaded weights from checkpoint')  \n",
    "   except Exception:\n",
    "      print('no checkpointed weights')\n",
    "      pass\n",
    "\n",
    "if not os.path.isdir(checkpoint_path):\n",
    "   os.makedirs(checkpoint_path)\n",
    "\n",
    "\n",
    "print(\"Number of layers in the base model: \", len(base_model.layers))\n",
    "\n",
    "base_model.trainable = False\n",
    "\n",
    "model.compile(loss=loss,\n",
    "              optimizer=Adam(lr=0.001),\n",
    "              metrics=['accuracy'])\n",
    "\n",
    "model.summary()\n",
    "\n",
    "\n",
    "\n",
    "\n"
   ]
  },
  {
   "cell_type": "code",
   "execution_count": 9,
   "metadata": {},
   "outputs": [
    {
     "name": "stdout",
     "output_type": "stream",
     "text": [
      "Epoch 1/20\n",
      "50/51 [============================>.] - ETA: 2s - loss: 3.6522 - accuracy: 0.1116\n",
      "Epoch 00001: val_loss improved from inf to 3.32191, saving model to /data/train_model_fruit_veggie_9/chkpt\n",
      "51/51 [==============================] - 158s 3s/step - loss: 3.6442 - accuracy: 0.1160 - val_loss: 3.3219 - val_accuracy: 0.2256\n",
      "Epoch 2/20\n",
      "50/51 [============================>.] - ETA: 2s - loss: 3.1175 - accuracy: 0.3063\n",
      "Epoch 00002: val_loss improved from 3.32191 to 2.93810, saving model to /data/train_model_fruit_veggie_9/chkpt\n",
      "51/51 [==============================] - 156s 3s/step - loss: 3.1184 - accuracy: 0.3088 - val_loss: 2.9381 - val_accuracy: 0.4564\n",
      "Epoch 3/20\n",
      "50/51 [============================>.] - ETA: 2s - loss: 2.8081 - accuracy: 0.4402\n",
      "Epoch 00003: val_loss improved from 2.93810 to 2.62928, saving model to /data/train_model_fruit_veggie_9/chkpt\n",
      "51/51 [==============================] - 154s 3s/step - loss: 2.8028 - accuracy: 0.4427 - val_loss: 2.6293 - val_accuracy: 0.5103\n",
      "Epoch 4/20\n",
      "50/51 [============================>.] - ETA: 2s - loss: 2.5919 - accuracy: 0.4949\n",
      "Epoch 00004: val_loss improved from 2.62928 to 2.36278, saving model to /data/train_model_fruit_veggie_9/chkpt\n",
      "51/51 [==============================] - 156s 3s/step - loss: 2.5886 - accuracy: 0.4983 - val_loss: 2.3628 - val_accuracy: 0.5692\n",
      "Epoch 5/20\n",
      "50/51 [============================>.] - ETA: 2s - loss: 2.3218 - accuracy: 0.5916\n",
      "Epoch 00005: val_loss improved from 2.36278 to 2.14002, saving model to /data/train_model_fruit_veggie_9/chkpt\n",
      "51/51 [==============================] - 155s 3s/step - loss: 2.3135 - accuracy: 0.5938 - val_loss: 2.1400 - val_accuracy: 0.6231\n",
      "Epoch 6/20\n",
      "50/51 [============================>.] - ETA: 2s - loss: 2.1427 - accuracy: 0.6078\n",
      "Epoch 00006: val_loss improved from 2.14002 to 1.94993, saving model to /data/train_model_fruit_veggie_9/chkpt\n",
      "51/51 [==============================] - 154s 3s/step - loss: 2.1361 - accuracy: 0.6110 - val_loss: 1.9499 - val_accuracy: 0.6590\n",
      "Epoch 7/20\n",
      "50/51 [============================>.] - ETA: 2s - loss: 1.9885 - accuracy: 0.6450\n",
      "Epoch 00007: val_loss improved from 1.94993 to 1.80280, saving model to /data/train_model_fruit_veggie_9/chkpt\n",
      "51/51 [==============================] - 155s 3s/step - loss: 1.9894 - accuracy: 0.6448 - val_loss: 1.8028 - val_accuracy: 0.6692\n",
      "Epoch 8/20\n",
      "50/51 [============================>.] - ETA: 2s - loss: 1.8575 - accuracy: 0.6633\n",
      "Epoch 00008: val_loss improved from 1.80280 to 1.66918, saving model to /data/train_model_fruit_veggie_9/chkpt\n",
      "51/51 [==============================] - 154s 3s/step - loss: 1.8547 - accuracy: 0.6653 - val_loss: 1.6692 - val_accuracy: 0.6692\n",
      "Epoch 9/20\n",
      "50/51 [============================>.] - ETA: 2s - loss: 1.7186 - accuracy: 0.6964\n",
      "Epoch 00009: val_loss improved from 1.66918 to 1.55895, saving model to /data/train_model_fruit_veggie_9/chkpt\n",
      "51/51 [==============================] - 156s 3s/step - loss: 1.7193 - accuracy: 0.6958 - val_loss: 1.5589 - val_accuracy: 0.6923\n",
      "Epoch 10/20\n",
      "50/51 [============================>.] - ETA: 2s - loss: 1.6063 - accuracy: 0.7093\n",
      "Epoch 00010: val_loss improved from 1.55895 to 1.45363, saving model to /data/train_model_fruit_veggie_9/chkpt\n",
      "51/51 [==============================] - 155s 3s/step - loss: 1.6006 - accuracy: 0.7124 - val_loss: 1.4536 - val_accuracy: 0.6897\n",
      "Epoch 11/20\n",
      "50/51 [============================>.] - ETA: 2s - loss: 1.5083 - accuracy: 0.7174\n",
      "Epoch 00011: val_loss improved from 1.45363 to 1.37795, saving model to /data/train_model_fruit_veggie_9/chkpt\n",
      "51/51 [==============================] - 154s 3s/step - loss: 1.5077 - accuracy: 0.7177 - val_loss: 1.3779 - val_accuracy: 0.7000\n",
      "Epoch 12/20\n",
      "50/51 [============================>.] - ETA: 2s - loss: 1.4554 - accuracy: 0.7119\n",
      "Epoch 00012: val_loss improved from 1.37795 to 1.30358, saving model to /data/train_model_fruit_veggie_9/chkpt\n",
      "51/51 [==============================] - 153s 3s/step - loss: 1.4583 - accuracy: 0.7103 - val_loss: 1.3036 - val_accuracy: 0.7128\n",
      "Epoch 13/20\n",
      "50/51 [============================>.] - ETA: 2s - loss: 1.4144 - accuracy: 0.7323\n",
      "Epoch 00013: val_loss improved from 1.30358 to 1.23542, saving model to /data/train_model_fruit_veggie_9/chkpt\n",
      "51/51 [==============================] - 156s 3s/step - loss: 1.4148 - accuracy: 0.7303 - val_loss: 1.2354 - val_accuracy: 0.7103\n",
      "Epoch 14/20\n",
      "50/51 [============================>.] - ETA: 2s - loss: 1.2626 - accuracy: 0.7687\n",
      "Epoch 00014: val_loss improved from 1.23542 to 1.17811, saving model to /data/train_model_fruit_veggie_9/chkpt\n",
      "51/51 [==============================] - 151s 3s/step - loss: 1.2656 - accuracy: 0.7660 - val_loss: 1.1781 - val_accuracy: 0.7359\n",
      "Epoch 15/20\n",
      "50/51 [============================>.] - ETA: 2s - loss: 1.2314 - accuracy: 0.7870\n",
      "Epoch 00015: val_loss improved from 1.17811 to 1.12287, saving model to /data/train_model_fruit_veggie_9/chkpt\n",
      "51/51 [==============================] - 151s 3s/step - loss: 1.2323 - accuracy: 0.7853 - val_loss: 1.1229 - val_accuracy: 0.7436\n",
      "Epoch 16/20\n",
      "50/51 [============================>.] - ETA: 2s - loss: 1.1814 - accuracy: 0.7908\n",
      "Epoch 00016: val_loss improved from 1.12287 to 1.07265, saving model to /data/train_model_fruit_veggie_9/chkpt\n",
      "51/51 [==============================] - 149s 3s/step - loss: 1.1721 - accuracy: 0.7930 - val_loss: 1.0726 - val_accuracy: 0.7615\n",
      "Epoch 17/20\n",
      "50/51 [============================>.] - ETA: 2s - loss: 1.1295 - accuracy: 0.7924\n",
      "Epoch 00017: val_loss improved from 1.07265 to 1.03536, saving model to /data/train_model_fruit_veggie_9/chkpt\n",
      "51/51 [==============================] - 148s 3s/step - loss: 1.1228 - accuracy: 0.7932 - val_loss: 1.0354 - val_accuracy: 0.7667\n",
      "Epoch 18/20\n",
      "50/51 [============================>.] - ETA: 2s - loss: 1.0966 - accuracy: 0.8073\n",
      "Epoch 00018: val_loss improved from 1.03536 to 0.99621, saving model to /data/train_model_fruit_veggie_9/chkpt\n",
      "51/51 [==============================] - 147s 3s/step - loss: 1.0997 - accuracy: 0.8052 - val_loss: 0.9962 - val_accuracy: 0.7718\n",
      "Epoch 19/20\n",
      "50/51 [============================>.] - ETA: 2s - loss: 1.0596 - accuracy: 0.8026\n",
      "Epoch 00019: val_loss improved from 0.99621 to 0.94924, saving model to /data/train_model_fruit_veggie_9/chkpt\n",
      "51/51 [==============================] - 150s 3s/step - loss: 1.0637 - accuracy: 0.8005 - val_loss: 0.9492 - val_accuracy: 0.7897\n",
      "Epoch 20/20\n",
      "50/51 [============================>.] - ETA: 2s - loss: 0.9689 - accuracy: 0.8208\n",
      "Epoch 00020: val_loss improved from 0.94924 to 0.93236, saving model to /data/train_model_fruit_veggie_9/chkpt\n",
      "51/51 [==============================] - 144s 3s/step - loss: 0.9707 - accuracy: 0.8184 - val_loss: 0.9324 - val_accuracy: 0.7744\n"
     ]
    }
   ],
   "source": [
    "import datetime, os\n",
    "\n",
    "epochs = 20\n",
    "steps_per_epoch = train_generator.n // train_generator.batch_size\n",
    "validation_steps = validation_generator.n // validation_generator.batch_size\n",
    "#steps_per_epoch = 50\n",
    "#validation_steps = 50\n",
    "\n",
    "logdir = os.path.join(\"/data/tf_logs_9\", datetime.datetime.now().strftime(\"%Y%m%d-%H%M%S\"))\n",
    "tensorboard_callback = tf.keras.callbacks.TensorBoard(logdir, histogram_freq=1)\n",
    "checkpoint_callback = tf.keras.callbacks.ModelCheckpoint(filepath=checkpoint_path, \n",
    "                                                         save_weights_only=True, save_best_only=True,\n",
    "                                                         verbose=1)\n",
    "\n",
    "history = model.fit_generator(\n",
    "      train_generator,\n",
    "      steps_per_epoch=steps_per_epoch,\n",
    "      validation_data=validation_generator,\n",
    "      validation_steps=validation_steps,\n",
    "      callbacks=[checkpoint_callback, tensorboard_callback],\n",
    "      epochs=epochs)\n",
    "\n"
   ]
  },
  {
   "cell_type": "code",
   "execution_count": 10,
   "metadata": {
    "scrolled": true
   },
   "outputs": [
    {
     "data": {
      "text/plain": [
       "Text(0.5, 0, 'epoch')"
      ]
     },
     "execution_count": 10,
     "metadata": {},
     "output_type": "execute_result"
    },
    {
     "data": {
      "image/png": "[encoded data removed]",
      "text/plain": [
       "<Figure size 576x576 with 2 Axes>"
      ]
     },
     "metadata": {
      "needs_background": "light"
     },
     "output_type": "display_data"
    }
   ],
   "source": [
    "%matplotlib inline\n",
    "import matplotlib.pyplot as plt\n",
    "import matplotlib.image as mpimg\n",
    "\n",
    "acc = history.history['accuracy']\n",
    "val_acc = history.history['val_accuracy']\n",
    "\n",
    "loss = history.history['loss']\n",
    "val_loss = history.history['val_loss']\n",
    "\n",
    "plt.figure(figsize=(8, 8))\n",
    "plt.subplot(2, 1, 1)\n",
    "plt.plot(acc, label='Training Accuracy')\n",
    "plt.plot(val_acc, label='Validation Accuracy')\n",
    "plt.legend(loc='lower right')\n",
    "plt.ylabel('Accuracy')\n",
    "plt.ylim([min(plt.ylim()), 1])\n",
    "plt.title('Training and Validation Accuracy')\n",
    "\n",
    "plt.subplot(2, 1, 2)\n",
    "plt.plot(loss, label='Training Loss')\n",
    "plt.plot(val_loss, label='Validation Loss')\n",
    "plt.legend(loc='upper right')\n",
    "plt.ylabel('Cross Entropy')\n",
    "plt.ylim([0, 3])\n",
    "plt.title('Training and Validation Loss')\n",
    "plt.xlabel('epoch')"
   ]
  },
  {
   "cell_type": "markdown",
   "metadata": {},
   "source": [
    "### Continue Training"
   ]
  },
  {
   "cell_type": "code",
   "execution_count": 11,
   "metadata": {},
   "outputs": [
    {
     "name": "stdout",
     "output_type": "stream",
     "text": [
      "Epoch 1/20\n",
      "50/51 [============================>.] - ETA: 2s - loss: 0.9806 - accuracy: 0.8229\n",
      "Epoch 00001: val_loss improved from inf to 0.88820, saving model to /data/train_model_fruit_veggie_9/chkpt\n",
      "51/51 [==============================] - 158s 3s/step - loss: 0.9780 - accuracy: 0.8237 - val_loss: 0.8882 - val_accuracy: 0.8026\n",
      "Epoch 2/20\n",
      "50/51 [============================>.] - ETA: 2s - loss: 0.9473 - accuracy: 0.8303\n",
      "Epoch 00002: val_loss improved from 0.88820 to 0.86395, saving model to /data/train_model_fruit_veggie_9/chkpt\n",
      "51/51 [==============================] - 158s 3s/step - loss: 0.9518 - accuracy: 0.8284 - val_loss: 0.8640 - val_accuracy: 0.8026\n",
      "Epoch 3/20\n",
      "50/51 [============================>.] - ETA: 2s - loss: 0.8999 - accuracy: 0.8404\n",
      "Epoch 00003: val_loss improved from 0.86395 to 0.84120, saving model to /data/train_model_fruit_veggie_9/chkpt\n",
      "51/51 [==============================] - 155s 3s/step - loss: 0.9054 - accuracy: 0.8383 - val_loss: 0.8412 - val_accuracy: 0.8026\n",
      "Epoch 4/20\n",
      "50/51 [============================>.] - ETA: 2s - loss: 0.8643 - accuracy: 0.8506\n",
      "Epoch 00004: val_loss improved from 0.84120 to 0.81223, saving model to /data/train_model_fruit_veggie_9/chkpt\n",
      "51/51 [==============================] - 155s 3s/step - loss: 0.8641 - accuracy: 0.8516 - val_loss: 0.8122 - val_accuracy: 0.8128\n",
      "Epoch 5/20\n",
      "50/51 [============================>.] - ETA: 2s - loss: 0.8650 - accuracy: 0.8350\n",
      "Epoch 00005: val_loss improved from 0.81223 to 0.79052, saving model to /data/train_model_fruit_veggie_9/chkpt\n",
      "51/51 [==============================] - 156s 3s/step - loss: 0.8692 - accuracy: 0.8343 - val_loss: 0.7905 - val_accuracy: 0.8308\n",
      "Epoch 6/20\n",
      "50/51 [============================>.] - ETA: 2s - loss: 0.8398 - accuracy: 0.8594\n",
      "Epoch 00006: val_loss improved from 0.79052 to 0.76927, saving model to /data/train_model_fruit_veggie_9/chkpt\n",
      "51/51 [==============================] - 154s 3s/step - loss: 0.8451 - accuracy: 0.8549 - val_loss: 0.7693 - val_accuracy: 0.8333\n",
      "Epoch 7/20\n",
      "50/51 [============================>.] - ETA: 2s - loss: 0.7847 - accuracy: 0.8661\n",
      "Epoch 00007: val_loss improved from 0.76927 to 0.74301, saving model to /data/train_model_fruit_veggie_9/chkpt\n",
      "51/51 [==============================] - 156s 3s/step - loss: 0.7839 - accuracy: 0.8668 - val_loss: 0.7430 - val_accuracy: 0.8513\n",
      "Epoch 8/20\n",
      "50/51 [============================>.] - ETA: 2s - loss: 0.7893 - accuracy: 0.8573\n",
      "Epoch 00008: val_loss improved from 0.74301 to 0.72369, saving model to /data/train_model_fruit_veggie_9/chkpt\n",
      "51/51 [==============================] - 156s 3s/step - loss: 0.7966 - accuracy: 0.8542 - val_loss: 0.7237 - val_accuracy: 0.8436\n",
      "Epoch 9/20\n",
      "50/51 [============================>.] - ETA: 2s - loss: 0.7299 - accuracy: 0.8702\n",
      "Epoch 00009: val_loss improved from 0.72369 to 0.70946, saving model to /data/train_model_fruit_veggie_9/chkpt\n",
      "51/51 [==============================] - 153s 3s/step - loss: 0.7339 - accuracy: 0.8681 - val_loss: 0.7095 - val_accuracy: 0.8436\n",
      "Epoch 10/20\n",
      "50/51 [============================>.] - ETA: 2s - loss: 0.7534 - accuracy: 0.8697\n",
      "Epoch 00010: val_loss improved from 0.70946 to 0.69141, saving model to /data/train_model_fruit_veggie_9/chkpt\n",
      "51/51 [==============================] - 153s 3s/step - loss: 0.7531 - accuracy: 0.8690 - val_loss: 0.6914 - val_accuracy: 0.8487\n",
      "Epoch 11/20\n",
      "50/51 [============================>.] - ETA: 2s - loss: 0.6959 - accuracy: 0.8776\n",
      "Epoch 00011: val_loss improved from 0.69141 to 0.67274, saving model to /data/train_model_fruit_veggie_9/chkpt\n",
      "51/51 [==============================] - 152s 3s/step - loss: 0.6985 - accuracy: 0.8761 - val_loss: 0.6727 - val_accuracy: 0.8538\n",
      "Epoch 12/20\n",
      "50/51 [============================>.] - ETA: 2s - loss: 0.7179 - accuracy: 0.8695\n",
      "Epoch 00012: val_loss improved from 0.67274 to 0.65709, saving model to /data/train_model_fruit_veggie_9/chkpt\n",
      "51/51 [==============================] - 153s 3s/step - loss: 0.7174 - accuracy: 0.8681 - val_loss: 0.6571 - val_accuracy: 0.8564\n",
      "Epoch 13/20\n",
      "50/51 [============================>.] - ETA: 2s - loss: 0.6825 - accuracy: 0.8884\n",
      "Epoch 00013: val_loss improved from 0.65709 to 0.63938, saving model to /data/train_model_fruit_veggie_9/chkpt\n",
      "51/51 [==============================] - 151s 3s/step - loss: 0.6879 - accuracy: 0.8873 - val_loss: 0.6394 - val_accuracy: 0.8564\n",
      "Epoch 14/20\n",
      "50/51 [============================>.] - ETA: 2s - loss: 0.6887 - accuracy: 0.8688\n",
      "Epoch 00014: val_loss improved from 0.63938 to 0.62663, saving model to /data/train_model_fruit_veggie_9/chkpt\n",
      "51/51 [==============================] - 151s 3s/step - loss: 0.6859 - accuracy: 0.8694 - val_loss: 0.6266 - val_accuracy: 0.8590\n",
      "Epoch 15/20\n",
      "50/51 [============================>.] - ETA: 2s - loss: 0.6396 - accuracy: 0.8871\n",
      "Epoch 00015: val_loss improved from 0.62663 to 0.61303, saving model to /data/train_model_fruit_veggie_9/chkpt\n",
      "51/51 [==============================] - 150s 3s/step - loss: 0.6369 - accuracy: 0.8893 - val_loss: 0.6130 - val_accuracy: 0.8564\n",
      "Epoch 16/20\n",
      "50/51 [============================>.] - ETA: 2s - loss: 0.6686 - accuracy: 0.8807\n",
      "Epoch 00016: val_loss improved from 0.61303 to 0.60396, saving model to /data/train_model_fruit_veggie_9/chkpt\n",
      "51/51 [==============================] - 153s 3s/step - loss: 0.6689 - accuracy: 0.8810 - val_loss: 0.6040 - val_accuracy: 0.8615\n",
      "Epoch 17/20\n",
      "50/51 [============================>.] - ETA: 2s - loss: 0.6009 - accuracy: 0.8957\n",
      "Epoch 00017: val_loss improved from 0.60396 to 0.58653, saving model to /data/train_model_fruit_veggie_9/chkpt\n",
      "51/51 [==============================] - 146s 3s/step - loss: 0.5979 - accuracy: 0.8965 - val_loss: 0.5865 - val_accuracy: 0.8692\n",
      "Epoch 18/20\n",
      "50/51 [============================>.] - ETA: 2s - loss: 0.6362 - accuracy: 0.8824\n",
      "Epoch 00018: val_loss improved from 0.58653 to 0.57468, saving model to /data/train_model_fruit_veggie_9/chkpt\n",
      "51/51 [==============================] - 148s 3s/step - loss: 0.6375 - accuracy: 0.8827 - val_loss: 0.5747 - val_accuracy: 0.8667\n",
      "Epoch 19/20\n",
      "50/51 [============================>.] - ETA: 2s - loss: 0.5942 - accuracy: 0.8925\n",
      "Epoch 00019: val_loss improved from 0.57468 to 0.55586, saving model to /data/train_model_fruit_veggie_9/chkpt\n",
      "51/51 [==============================] - 149s 3s/step - loss: 0.6017 - accuracy: 0.8907 - val_loss: 0.5559 - val_accuracy: 0.8718\n",
      "Epoch 20/20\n",
      "50/51 [============================>.] - ETA: 2s - loss: 0.5841 - accuracy: 0.8952\n",
      "Epoch 00020: val_loss improved from 0.55586 to 0.55316, saving model to /data/train_model_fruit_veggie_9/chkpt\n",
      "51/51 [==============================] - 149s 3s/step - loss: 0.5882 - accuracy: 0.8953 - val_loss: 0.5532 - val_accuracy: 0.8718\n"
     ]
    }
   ],
   "source": [
    "import datetime, os\n",
    "\n",
    "epochs = 20\n",
    "steps_per_epoch = train_generator.n // train_generator.batch_size\n",
    "validation_steps = validation_generator.n // validation_generator.batch_size\n",
    "#steps_per_epoch = 50\n",
    "#validation_steps = 50\n",
    "\n",
    "logdir = os.path.join(\"/data/tf_logs_9\", datetime.datetime.now().strftime(\"%Y%m%d-%H%M%S\"))\n",
    "tensorboard_callback = tf.keras.callbacks.TensorBoard(logdir, histogram_freq=1)\n",
    "checkpoint_callback = tf.keras.callbacks.ModelCheckpoint(filepath=checkpoint_path, \n",
    "                                                         save_weights_only=True, save_best_only=True,\n",
    "                                                         verbose=1)\n",
    "\n",
    "history = model.fit_generator(\n",
    "      train_generator,\n",
    "      steps_per_epoch=steps_per_epoch,\n",
    "      validation_data=validation_generator,\n",
    "      validation_steps=validation_steps,\n",
    "      callbacks=[checkpoint_callback, tensorboard_callback],\n",
    "      epochs=epochs)\n",
    "\n"
   ]
  },
  {
   "cell_type": "code",
   "execution_count": 12,
   "metadata": {},
   "outputs": [
    {
     "data": {
      "text/plain": [
       "Text(0.5, 0, 'epoch')"
      ]
     },
     "execution_count": 12,
     "metadata": {},
     "output_type": "execute_result"
    },
    {
     "data": {
      "image/png": "[encoded data removed]",
      "text/plain": [
       "<Figure size 576x576 with 2 Axes>"
      ]
     },
     "metadata": {
      "needs_background": "light"
     },
     "output_type": "display_data"
    }
   ],
   "source": [
    "%matplotlib inline\n",
    "import matplotlib.pyplot as plt\n",
    "import matplotlib.image as mpimg\n",
    "\n",
    "acc = history.history['accuracy']\n",
    "val_acc = history.history['val_accuracy']\n",
    "\n",
    "loss = history.history['loss']\n",
    "val_loss = history.history['val_loss']\n",
    "\n",
    "plt.figure(figsize=(8, 8))\n",
    "plt.subplot(2, 1, 1)\n",
    "plt.plot(acc, label='Training Accuracy')\n",
    "plt.plot(val_acc, label='Validation Accuracy')\n",
    "plt.legend(loc='lower right')\n",
    "plt.ylabel('Accuracy')\n",
    "plt.ylim([min(plt.ylim()), 1])\n",
    "plt.title('Training and Validation Accuracy')\n",
    "\n",
    "plt.subplot(2, 1, 2)\n",
    "plt.plot(loss, label='Training Loss')\n",
    "plt.plot(val_loss, label='Validation Loss')\n",
    "plt.legend(loc='upper right')\n",
    "plt.ylabel('Cross Entropy')\n",
    "plt.ylim([0, 3])\n",
    "plt.title('Training and Validation Loss')\n",
    "plt.xlabel('epoch')"
   ]
  },
  {
   "cell_type": "markdown",
   "metadata": {},
   "source": [
    "### Continue Training"
   ]
  },
  {
   "cell_type": "code",
   "execution_count": 13,
   "metadata": {},
   "outputs": [
    {
     "name": "stdout",
     "output_type": "stream",
     "text": [
      "Epoch 1/20\n",
      "50/51 [============================>.] - ETA: 2s - loss: 0.5618 - accuracy: 0.8993\n",
      "Epoch 00001: val_loss improved from inf to 0.53764, saving model to /data/train_model_fruit_veggie_9/chkpt\n",
      "51/51 [==============================] - 157s 3s/step - loss: 0.5629 - accuracy: 0.8993 - val_loss: 0.5376 - val_accuracy: 0.8769\n",
      "Epoch 2/20\n",
      "50/51 [============================>.] - ETA: 2s - loss: 0.5700 - accuracy: 0.9040\n",
      "Epoch 00002: val_loss improved from 0.53764 to 0.52669, saving model to /data/train_model_fruit_veggie_9/chkpt\n",
      "51/51 [==============================] - 155s 3s/step - loss: 0.5674 - accuracy: 0.9039 - val_loss: 0.5267 - val_accuracy: 0.8744\n",
      "Epoch 3/20\n",
      "50/51 [============================>.] - ETA: 2s - loss: 0.5428 - accuracy: 0.9040\n",
      "Epoch 00003: val_loss improved from 0.52669 to 0.51983, saving model to /data/train_model_fruit_veggie_9/chkpt\n",
      "51/51 [==============================] - 157s 3s/step - loss: 0.5413 - accuracy: 0.9052 - val_loss: 0.5198 - val_accuracy: 0.8795\n",
      "Epoch 4/20\n",
      "50/51 [============================>.] - ETA: 2s - loss: 0.5348 - accuracy: 0.9162\n",
      "Epoch 00004: val_loss improved from 0.51983 to 0.51328, saving model to /data/train_model_fruit_veggie_9/chkpt\n",
      "51/51 [==============================] - 154s 3s/step - loss: 0.5335 - accuracy: 0.9178 - val_loss: 0.5133 - val_accuracy: 0.8795\n",
      "Epoch 5/20\n",
      "50/51 [============================>.] - ETA: 2s - loss: 0.5380 - accuracy: 0.9053\n",
      "Epoch 00005: val_loss improved from 0.51328 to 0.49926, saving model to /data/train_model_fruit_veggie_9/chkpt\n",
      "51/51 [==============================] - 154s 3s/step - loss: 0.5430 - accuracy: 0.9046 - val_loss: 0.4993 - val_accuracy: 0.8821\n",
      "Epoch 6/20\n",
      "50/51 [============================>.] - ETA: 2s - loss: 0.5043 - accuracy: 0.9114\n",
      "Epoch 00006: val_loss improved from 0.49926 to 0.49377, saving model to /data/train_model_fruit_veggie_9/chkpt\n",
      "51/51 [==============================] - 155s 3s/step - loss: 0.5067 - accuracy: 0.9125 - val_loss: 0.4938 - val_accuracy: 0.8821\n",
      "Epoch 7/20\n",
      "50/51 [============================>.] - ETA: 2s - loss: 0.5045 - accuracy: 0.9108\n",
      "Epoch 00007: val_loss improved from 0.49377 to 0.48655, saving model to /data/train_model_fruit_veggie_9/chkpt\n",
      "51/51 [==============================] - 155s 3s/step - loss: 0.5057 - accuracy: 0.9099 - val_loss: 0.4866 - val_accuracy: 0.8795\n",
      "Epoch 8/20\n",
      "50/51 [============================>.] - ETA: 2s - loss: 0.5022 - accuracy: 0.9148\n",
      "Epoch 00008: val_loss improved from 0.48655 to 0.47689, saving model to /data/train_model_fruit_veggie_9/chkpt\n",
      "51/51 [==============================] - 155s 3s/step - loss: 0.5026 - accuracy: 0.9152 - val_loss: 0.4769 - val_accuracy: 0.8821\n",
      "Epoch 9/20\n",
      "50/51 [============================>.] - ETA: 2s - loss: 0.5057 - accuracy: 0.9114\n",
      "Epoch 00009: val_loss improved from 0.47689 to 0.46715, saving model to /data/train_model_fruit_veggie_9/chkpt\n",
      "51/51 [==============================] - 154s 3s/step - loss: 0.5029 - accuracy: 0.9119 - val_loss: 0.4672 - val_accuracy: 0.8846\n",
      "Epoch 10/20\n",
      "50/51 [============================>.] - ETA: 2s - loss: 0.4736 - accuracy: 0.9209\n",
      "Epoch 00010: val_loss improved from 0.46715 to 0.46423, saving model to /data/train_model_fruit_veggie_9/chkpt\n",
      "51/51 [==============================] - 153s 3s/step - loss: 0.4719 - accuracy: 0.9211 - val_loss: 0.4642 - val_accuracy: 0.8872\n",
      "Epoch 11/20\n",
      "50/51 [============================>.] - ETA: 2s - loss: 0.4825 - accuracy: 0.9202\n",
      "Epoch 00011: val_loss improved from 0.46423 to 0.45209, saving model to /data/train_model_fruit_veggie_9/chkpt\n",
      "51/51 [==============================] - 154s 3s/step - loss: 0.4835 - accuracy: 0.9198 - val_loss: 0.4521 - val_accuracy: 0.8923\n",
      "Epoch 12/20\n",
      "50/51 [============================>.] - ETA: 2s - loss: 0.4600 - accuracy: 0.9162\n",
      "Epoch 00012: val_loss did not improve from 0.45209\n",
      "51/51 [==============================] - 151s 3s/step - loss: 0.4600 - accuracy: 0.9165 - val_loss: 0.4523 - val_accuracy: 0.8846\n",
      "Epoch 13/20\n",
      "50/51 [============================>.] - ETA: 2s - loss: 0.4581 - accuracy: 0.9249\n",
      "Epoch 00013: val_loss improved from 0.45209 to 0.44261, saving model to /data/train_model_fruit_veggie_9/chkpt\n",
      "51/51 [==============================] - 149s 3s/step - loss: 0.4575 - accuracy: 0.9258 - val_loss: 0.4426 - val_accuracy: 0.8897\n",
      "Epoch 14/20\n",
      "50/51 [============================>.] - ETA: 2s - loss: 0.4633 - accuracy: 0.9175\n",
      "Epoch 00014: val_loss improved from 0.44261 to 0.43670, saving model to /data/train_model_fruit_veggie_9/chkpt\n",
      "51/51 [==============================] - 153s 3s/step - loss: 0.4607 - accuracy: 0.9185 - val_loss: 0.4367 - val_accuracy: 0.8923\n",
      "Epoch 15/20\n",
      "50/51 [============================>.] - ETA: 2s - loss: 0.4481 - accuracy: 0.9283\n",
      "Epoch 00015: val_loss improved from 0.43670 to 0.42393, saving model to /data/train_model_fruit_veggie_9/chkpt\n",
      "51/51 [==============================] - 151s 3s/step - loss: 0.4487 - accuracy: 0.9284 - val_loss: 0.4239 - val_accuracy: 0.9026\n",
      "Epoch 16/20\n",
      "50/51 [============================>.] - ETA: 2s - loss: 0.4254 - accuracy: 0.9213\n",
      "Epoch 00016: val_loss improved from 0.42393 to 0.41672, saving model to /data/train_model_fruit_veggie_9/chkpt\n",
      "51/51 [==============================] - 149s 3s/step - loss: 0.4279 - accuracy: 0.9216 - val_loss: 0.4167 - val_accuracy: 0.9077\n",
      "Epoch 17/20\n",
      "50/51 [============================>.] - ETA: 2s - loss: 0.4008 - accuracy: 0.9369\n",
      "Epoch 00017: val_loss improved from 0.41672 to 0.41620, saving model to /data/train_model_fruit_veggie_9/chkpt\n",
      "51/51 [==============================] - 148s 3s/step - loss: 0.4037 - accuracy: 0.9362 - val_loss: 0.4162 - val_accuracy: 0.9000\n",
      "Epoch 18/20\n",
      "50/51 [============================>.] - ETA: 2s - loss: 0.4213 - accuracy: 0.9378\n",
      "Epoch 00018: val_loss improved from 0.41620 to 0.40869, saving model to /data/train_model_fruit_veggie_9/chkpt\n",
      "51/51 [==============================] - 147s 3s/step - loss: 0.4217 - accuracy: 0.9370 - val_loss: 0.4087 - val_accuracy: 0.9000\n",
      "Epoch 19/20\n",
      "50/51 [============================>.] - ETA: 2s - loss: 0.4149 - accuracy: 0.9307\n",
      "Epoch 00019: val_loss improved from 0.40869 to 0.40653, saving model to /data/train_model_fruit_veggie_9/chkpt\n",
      "51/51 [==============================] - 147s 3s/step - loss: 0.4201 - accuracy: 0.9294 - val_loss: 0.4065 - val_accuracy: 0.9077\n",
      "Epoch 20/20\n",
      "50/51 [============================>.] - ETA: 2s - loss: 0.3923 - accuracy: 0.9391\n",
      "Epoch 00020: val_loss improved from 0.40653 to 0.39779, saving model to /data/train_model_fruit_veggie_9/chkpt\n",
      "51/51 [==============================] - 146s 3s/step - loss: 0.3960 - accuracy: 0.9370 - val_loss: 0.3978 - val_accuracy: 0.9231\n"
     ]
    }
   ],
   "source": [
    "import datetime, os\n",
    "\n",
    "epochs = 20\n",
    "steps_per_epoch = train_generator.n // train_generator.batch_size\n",
    "validation_steps = validation_generator.n // validation_generator.batch_size\n",
    "#steps_per_epoch = 50\n",
    "#validation_steps = 50\n",
    "\n",
    "logdir = os.path.join(\"/data/tf_logs_9\", datetime.datetime.now().strftime(\"%Y%m%d-%H%M%S\"))\n",
    "tensorboard_callback = tf.keras.callbacks.TensorBoard(logdir, histogram_freq=1)\n",
    "checkpoint_callback = tf.keras.callbacks.ModelCheckpoint(filepath=checkpoint_path, \n",
    "                                                         save_weights_only=True, save_best_only=True,\n",
    "                                                         verbose=1)\n",
    "\n",
    "history = model.fit_generator(\n",
    "      train_generator,\n",
    "      steps_per_epoch=steps_per_epoch,\n",
    "      validation_data=validation_generator,\n",
    "      validation_steps=validation_steps,\n",
    "      callbacks=[checkpoint_callback, tensorboard_callback],\n",
    "      epochs=epochs)\n",
    "\n"
   ]
  },
  {
   "cell_type": "code",
   "execution_count": 14,
   "metadata": {},
   "outputs": [
    {
     "data": {
      "text/plain": [
       "Text(0.5, 0, 'epoch')"
      ]
     },
     "execution_count": 14,
     "metadata": {},
     "output_type": "execute_result"
    },
    {
     "data": {
      "image/png": "[encoded data removed]",
      "text/plain": [
       "<Figure size 576x576 with 2 Axes>"
      ]
     },
     "metadata": {
      "needs_background": "light"
     },
     "output_type": "display_data"
    }
   ],
   "source": [
    "%matplotlib inline\n",
    "import matplotlib.pyplot as plt\n",
    "import matplotlib.image as mpimg\n",
    "\n",
    "acc = history.history['accuracy']\n",
    "val_acc = history.history['val_accuracy']\n",
    "\n",
    "loss = history.history['loss']\n",
    "val_loss = history.history['val_loss']\n",
    "\n",
    "plt.figure(figsize=(8, 8))\n",
    "plt.subplot(2, 1, 1)\n",
    "plt.plot(acc, label='Training Accuracy')\n",
    "plt.plot(val_acc, label='Validation Accuracy')\n",
    "plt.legend(loc='lower right')\n",
    "plt.ylabel('Accuracy')\n",
    "plt.ylim([min(plt.ylim()), 1])\n",
    "plt.title('Training and Validation Accuracy')\n",
    "\n",
    "plt.subplot(2, 1, 2)\n",
    "plt.plot(loss, label='Training Loss')\n",
    "plt.plot(val_loss, label='Validation Loss')\n",
    "plt.legend(loc='upper right')\n",
    "plt.ylabel('Cross Entropy')\n",
    "plt.ylim([0, 3])\n",
    "plt.title('Training and Validation Loss')\n",
    "plt.xlabel('epoch')"
   ]
  },
  {
   "cell_type": "markdown",
   "metadata": {},
   "source": [
    "### Continue Training"
   ]
  },
  {
   "cell_type": "code",
   "execution_count": 15,
   "metadata": {},
   "outputs": [
    {
     "name": "stdout",
     "output_type": "stream",
     "text": [
      "Epoch 1/20\n",
      "50/51 [============================>.] - ETA: 2s - loss: 0.4014 - accuracy: 0.9391\n",
      "Epoch 00001: val_loss improved from inf to 0.39068, saving model to /data/train_model_fruit_veggie_9/chkpt\n",
      "51/51 [==============================] - 157s 3s/step - loss: 0.4034 - accuracy: 0.9390 - val_loss: 0.3907 - val_accuracy: 0.9154\n",
      "Epoch 2/20\n",
      "50/51 [============================>.] - ETA: 2s - loss: 0.3765 - accuracy: 0.9412\n",
      "Epoch 00002: val_loss improved from 0.39068 to 0.38798, saving model to /data/train_model_fruit_veggie_9/chkpt\n",
      "51/51 [==============================] - 156s 3s/step - loss: 0.3769 - accuracy: 0.9404 - val_loss: 0.3880 - val_accuracy: 0.9154\n",
      "Epoch 3/20\n",
      "50/51 [============================>.] - ETA: 2s - loss: 0.3780 - accuracy: 0.9439\n",
      "Epoch 00003: val_loss improved from 0.38798 to 0.38089, saving model to /data/train_model_fruit_veggie_9/chkpt\n",
      "51/51 [==============================] - 153s 3s/step - loss: 0.3766 - accuracy: 0.9443 - val_loss: 0.3809 - val_accuracy: 0.9179\n",
      "Epoch 4/20\n",
      "50/51 [============================>.] - ETA: 2s - loss: 0.3809 - accuracy: 0.9371\n",
      "Epoch 00004: val_loss improved from 0.38089 to 0.37777, saving model to /data/train_model_fruit_veggie_9/chkpt\n",
      "51/51 [==============================] - 155s 3s/step - loss: 0.3839 - accuracy: 0.9364 - val_loss: 0.3778 - val_accuracy: 0.9128\n",
      "Epoch 5/20\n",
      "50/51 [============================>.] - ETA: 2s - loss: 0.3775 - accuracy: 0.9425\n",
      "Epoch 00005: val_loss improved from 0.37777 to 0.37431, saving model to /data/train_model_fruit_veggie_9/chkpt\n",
      "51/51 [==============================] - 156s 3s/step - loss: 0.3762 - accuracy: 0.9417 - val_loss: 0.3743 - val_accuracy: 0.9154\n",
      "Epoch 6/20\n",
      "50/51 [============================>.] - ETA: 2s - loss: 0.3607 - accuracy: 0.9479\n",
      "Epoch 00006: val_loss improved from 0.37431 to 0.37336, saving model to /data/train_model_fruit_veggie_9/chkpt\n",
      "51/51 [==============================] - 151s 3s/step - loss: 0.3584 - accuracy: 0.9483 - val_loss: 0.3734 - val_accuracy: 0.9205\n",
      "Epoch 7/20\n",
      "50/51 [============================>.] - ETA: 2s - loss: 0.3552 - accuracy: 0.9432\n",
      "Epoch 00007: val_loss improved from 0.37336 to 0.36141, saving model to /data/train_model_fruit_veggie_9/chkpt\n",
      "51/51 [==============================] - 155s 3s/step - loss: 0.3538 - accuracy: 0.9437 - val_loss: 0.3614 - val_accuracy: 0.9154\n",
      "Epoch 8/20\n",
      "50/51 [============================>.] - ETA: 2s - loss: 0.3611 - accuracy: 0.9425\n",
      "Epoch 00008: val_loss improved from 0.36141 to 0.35773, saving model to /data/train_model_fruit_veggie_9/chkpt\n",
      "51/51 [==============================] - 154s 3s/step - loss: 0.3593 - accuracy: 0.9437 - val_loss: 0.3577 - val_accuracy: 0.9231\n",
      "Epoch 9/20\n",
      "50/51 [============================>.] - ETA: 2s - loss: 0.3416 - accuracy: 0.9466\n",
      "Epoch 00009: val_loss improved from 0.35773 to 0.35550, saving model to /data/train_model_fruit_veggie_9/chkpt\n",
      "51/51 [==============================] - 153s 3s/step - loss: 0.3420 - accuracy: 0.9470 - val_loss: 0.3555 - val_accuracy: 0.9282\n",
      "Epoch 10/20\n",
      "50/51 [============================>.] - ETA: 2s - loss: 0.3429 - accuracy: 0.9486\n",
      "Epoch 00010: val_loss improved from 0.35550 to 0.34903, saving model to /data/train_model_fruit_veggie_9/chkpt\n",
      "51/51 [==============================] - 152s 3s/step - loss: 0.3408 - accuracy: 0.9496 - val_loss: 0.3490 - val_accuracy: 0.9333\n",
      "Epoch 11/20\n",
      "50/51 [============================>.] - ETA: 2s - loss: 0.3265 - accuracy: 0.9459\n",
      "Epoch 00011: val_loss improved from 0.34903 to 0.34498, saving model to /data/train_model_fruit_veggie_9/chkpt\n",
      "51/51 [==============================] - 153s 3s/step - loss: 0.3274 - accuracy: 0.9470 - val_loss: 0.3450 - val_accuracy: 0.9282\n",
      "Epoch 12/20\n",
      "50/51 [============================>.] - ETA: 2s - loss: 0.3303 - accuracy: 0.9500\n",
      "Epoch 00012: val_loss improved from 0.34498 to 0.34447, saving model to /data/train_model_fruit_veggie_9/chkpt\n",
      "51/51 [==============================] - 150s 3s/step - loss: 0.3305 - accuracy: 0.9497 - val_loss: 0.3445 - val_accuracy: 0.9333\n",
      "Epoch 13/20\n",
      "50/51 [============================>.] - ETA: 2s - loss: 0.3315 - accuracy: 0.9492\n",
      "Epoch 00013: val_loss improved from 0.34447 to 0.33781, saving model to /data/train_model_fruit_veggie_9/chkpt\n",
      "51/51 [==============================] - 152s 3s/step - loss: 0.3345 - accuracy: 0.9476 - val_loss: 0.3378 - val_accuracy: 0.9231\n",
      "Epoch 14/20\n",
      "50/51 [============================>.] - ETA: 2s - loss: 0.3160 - accuracy: 0.9533\n",
      "Epoch 00014: val_loss improved from 0.33781 to 0.33570, saving model to /data/train_model_fruit_veggie_9/chkpt\n",
      "51/51 [==============================] - 150s 3s/step - loss: 0.3146 - accuracy: 0.9536 - val_loss: 0.3357 - val_accuracy: 0.9333\n",
      "Epoch 15/20\n",
      "50/51 [============================>.] - ETA: 2s - loss: 0.3330 - accuracy: 0.9452\n",
      "Epoch 00015: val_loss improved from 0.33570 to 0.33461, saving model to /data/train_model_fruit_veggie_9/chkpt\n",
      "51/51 [==============================] - 148s 3s/step - loss: 0.3318 - accuracy: 0.9463 - val_loss: 0.3346 - val_accuracy: 0.9282\n",
      "Epoch 16/20\n",
      "50/51 [============================>.] - ETA: 2s - loss: 0.3336 - accuracy: 0.9473\n",
      "Epoch 00016: val_loss improved from 0.33461 to 0.32756, saving model to /data/train_model_fruit_veggie_9/chkpt\n",
      "51/51 [==============================] - 150s 3s/step - loss: 0.3339 - accuracy: 0.9470 - val_loss: 0.3276 - val_accuracy: 0.9333\n",
      "Epoch 17/20\n",
      "50/51 [============================>.] - ETA: 2s - loss: 0.2868 - accuracy: 0.9547\n",
      "Epoch 00017: val_loss improved from 0.32756 to 0.32270, saving model to /data/train_model_fruit_veggie_9/chkpt\n",
      "51/51 [==============================] - 147s 3s/step - loss: 0.2864 - accuracy: 0.9549 - val_loss: 0.3227 - val_accuracy: 0.9282\n",
      "Epoch 18/20\n",
      "50/51 [============================>.] - ETA: 2s - loss: 0.3018 - accuracy: 0.9547\n",
      "Epoch 00018: val_loss did not improve from 0.32270\n",
      "51/51 [==============================] - 147s 3s/step - loss: 0.3055 - accuracy: 0.9529 - val_loss: 0.3253 - val_accuracy: 0.9256\n",
      "Epoch 19/20\n",
      "50/51 [============================>.] - ETA: 2s - loss: 0.3100 - accuracy: 0.9588\n",
      "Epoch 00019: val_loss improved from 0.32270 to 0.31760, saving model to /data/train_model_fruit_veggie_9/chkpt\n",
      "51/51 [==============================] - 148s 3s/step - loss: 0.3110 - accuracy: 0.9576 - val_loss: 0.3176 - val_accuracy: 0.9308\n",
      "Epoch 20/20\n",
      "50/51 [============================>.] - ETA: 2s - loss: 0.3080 - accuracy: 0.9567\n",
      "Epoch 00020: val_loss did not improve from 0.31760\n",
      "51/51 [==============================] - 144s 3s/step - loss: 0.3056 - accuracy: 0.9563 - val_loss: 0.3201 - val_accuracy: 0.9308\n"
     ]
    }
   ],
   "source": [
    "import datetime, os\n",
    "\n",
    "epochs = 20\n",
    "steps_per_epoch = train_generator.n // train_generator.batch_size\n",
    "validation_steps = validation_generator.n // validation_generator.batch_size\n",
    "#steps_per_epoch = 50\n",
    "#validation_steps = 50\n",
    "\n",
    "logdir = os.path.join(\"/data/tf_logs_9\", datetime.datetime.now().strftime(\"%Y%m%d-%H%M%S\"))\n",
    "tensorboard_callback = tf.keras.callbacks.TensorBoard(logdir, histogram_freq=1)\n",
    "checkpoint_callback = tf.keras.callbacks.ModelCheckpoint(filepath=checkpoint_path, \n",
    "                                                         save_weights_only=True, save_best_only=True,\n",
    "                                                         verbose=1)\n",
    "\n",
    "history = model.fit_generator(\n",
    "      train_generator,\n",
    "      steps_per_epoch=steps_per_epoch,\n",
    "      validation_data=validation_generator,\n",
    "      validation_steps=validation_steps,\n",
    "      callbacks=[checkpoint_callback, tensorboard_callback],\n",
    "      epochs=epochs)\n",
    "\n"
   ]
  },
  {
   "cell_type": "code",
   "execution_count": 16,
   "metadata": {},
   "outputs": [
    {
     "data": {
      "text/plain": [
       "Text(0.5, 0, 'epoch')"
      ]
     },
     "execution_count": 16,
     "metadata": {},
     "output_type": "execute_result"
    },
    {
     "data": {
      "image/png": "[encoded data removed]",
      "text/plain": [
       "<Figure size 576x576 with 2 Axes>"
      ]
     },
     "metadata": {
      "needs_background": "light"
     },
     "output_type": "display_data"
    }
   ],
   "source": [
    "%matplotlib inline\n",
    "import matplotlib.pyplot as plt\n",
    "import matplotlib.image as mpimg\n",
    "\n",
    "acc = history.history['accuracy']\n",
    "val_acc = history.history['val_accuracy']\n",
    "\n",
    "loss = history.history['loss']\n",
    "val_loss = history.history['val_loss']\n",
    "\n",
    "plt.figure(figsize=(8, 8))\n",
    "plt.subplot(2, 1, 1)\n",
    "plt.plot(acc, label='Training Accuracy')\n",
    "plt.plot(val_acc, label='Validation Accuracy')\n",
    "plt.legend(loc='lower right')\n",
    "plt.ylabel('Accuracy')\n",
    "plt.ylim([min(plt.ylim()), 1])\n",
    "plt.title('Training and Validation Accuracy')\n",
    "\n",
    "plt.subplot(2, 1, 2)\n",
    "plt.plot(loss, label='Training Loss')\n",
    "plt.plot(val_loss, label='Validation Loss')\n",
    "plt.legend(loc='upper right')\n",
    "plt.ylabel('Cross Entropy')\n",
    "plt.ylim([0, 3])\n",
    "plt.title('Training and Validation Loss')\n",
    "plt.xlabel('epoch')"
   ]
  },
  {
   "cell_type": "markdown",
   "metadata": {},
   "source": [
    "### Continue Training"
   ]
  },
  {
   "cell_type": "code",
   "execution_count": 17,
   "metadata": {},
   "outputs": [
    {
     "name": "stdout",
     "output_type": "stream",
     "text": [
      "Epoch 1/20\n",
      "50/51 [============================>.] - ETA: 2s - loss: 0.2906 - accuracy: 0.9587\n",
      "Epoch 00001: val_loss improved from inf to 0.31028, saving model to /data/train_model_fruit_veggie_9/chkpt\n",
      "51/51 [==============================] - 158s 3s/step - loss: 0.2918 - accuracy: 0.9589 - val_loss: 0.3103 - val_accuracy: 0.9333\n",
      "Epoch 2/20\n",
      "50/51 [============================>.] - ETA: 2s - loss: 0.2899 - accuracy: 0.9540\n",
      "Epoch 00002: val_loss improved from 0.31028 to 0.30393, saving model to /data/train_model_fruit_veggie_9/chkpt\n",
      "51/51 [==============================] - 156s 3s/step - loss: 0.2892 - accuracy: 0.9543 - val_loss: 0.3039 - val_accuracy: 0.9410\n",
      "Epoch 3/20\n",
      "50/51 [============================>.] - ETA: 2s - loss: 0.2933 - accuracy: 0.9567\n",
      "Epoch 00003: val_loss did not improve from 0.30393\n",
      "51/51 [==============================] - 155s 3s/step - loss: 0.2966 - accuracy: 0.9556 - val_loss: 0.3046 - val_accuracy: 0.9282\n",
      "Epoch 4/20\n",
      "50/51 [============================>.] - ETA: 2s - loss: 0.2932 - accuracy: 0.9669\n",
      "Epoch 00004: val_loss did not improve from 0.30393\n",
      "51/51 [==============================] - 154s 3s/step - loss: 0.2916 - accuracy: 0.9662 - val_loss: 0.3076 - val_accuracy: 0.9231\n",
      "Epoch 5/20\n",
      "50/51 [============================>.] - ETA: 2s - loss: 0.2865 - accuracy: 0.9479\n",
      "Epoch 00005: val_loss improved from 0.30393 to 0.29650, saving model to /data/train_model_fruit_veggie_9/chkpt\n",
      "51/51 [==============================] - 154s 3s/step - loss: 0.2863 - accuracy: 0.9476 - val_loss: 0.2965 - val_accuracy: 0.9436\n",
      "Epoch 6/20\n",
      "50/51 [============================>.] - ETA: 2s - loss: 0.2607 - accuracy: 0.9655\n",
      "Epoch 00006: val_loss improved from 0.29650 to 0.29239, saving model to /data/train_model_fruit_veggie_9/chkpt\n",
      "51/51 [==============================] - 154s 3s/step - loss: 0.2603 - accuracy: 0.9655 - val_loss: 0.2924 - val_accuracy: 0.9410\n",
      "Epoch 7/20\n",
      "50/51 [============================>.] - ETA: 2s - loss: 0.2769 - accuracy: 0.9588\n",
      "Epoch 00007: val_loss did not improve from 0.29239\n",
      "51/51 [==============================] - 154s 3s/step - loss: 0.2781 - accuracy: 0.9589 - val_loss: 0.2926 - val_accuracy: 0.9308\n",
      "Epoch 8/20\n",
      "50/51 [============================>.] - ETA: 2s - loss: 0.2706 - accuracy: 0.9594\n",
      "Epoch 00008: val_loss improved from 0.29239 to 0.28957, saving model to /data/train_model_fruit_veggie_9/chkpt\n",
      "51/51 [==============================] - 156s 3s/step - loss: 0.2727 - accuracy: 0.9583 - val_loss: 0.2896 - val_accuracy: 0.9359\n",
      "Epoch 9/20\n",
      "50/51 [============================>.] - ETA: 2s - loss: 0.2810 - accuracy: 0.9574\n",
      "Epoch 00009: val_loss improved from 0.28957 to 0.28662, saving model to /data/train_model_fruit_veggie_9/chkpt\n",
      "51/51 [==============================] - 154s 3s/step - loss: 0.2824 - accuracy: 0.9576 - val_loss: 0.2866 - val_accuracy: 0.9410\n",
      "Epoch 10/20\n",
      "50/51 [============================>.] - ETA: 2s - loss: 0.2565 - accuracy: 0.9608\n",
      "Epoch 00010: val_loss improved from 0.28662 to 0.28400, saving model to /data/train_model_fruit_veggie_9/chkpt\n",
      "51/51 [==============================] - 155s 3s/step - loss: 0.2572 - accuracy: 0.9602 - val_loss: 0.2840 - val_accuracy: 0.9333\n",
      "Epoch 11/20\n",
      "50/51 [============================>.] - ETA: 2s - loss: 0.2658 - accuracy: 0.9581\n",
      "Epoch 00011: val_loss improved from 0.28400 to 0.28329, saving model to /data/train_model_fruit_veggie_9/chkpt\n",
      "51/51 [==============================] - 151s 3s/step - loss: 0.2651 - accuracy: 0.9589 - val_loss: 0.2833 - val_accuracy: 0.9385\n",
      "Epoch 12/20\n",
      "50/51 [============================>.] - ETA: 2s - loss: 0.2618 - accuracy: 0.9615\n",
      "Epoch 00012: val_loss improved from 0.28329 to 0.27944, saving model to /data/train_model_fruit_veggie_9/chkpt\n",
      "51/51 [==============================] - 153s 3s/step - loss: 0.2595 - accuracy: 0.9622 - val_loss: 0.2794 - val_accuracy: 0.9410\n",
      "Epoch 13/20\n",
      "50/51 [============================>.] - ETA: 2s - loss: 0.2630 - accuracy: 0.9653\n",
      "Epoch 00013: val_loss improved from 0.27944 to 0.27890, saving model to /data/train_model_fruit_veggie_9/chkpt\n",
      "51/51 [==============================] - 153s 3s/step - loss: 0.2644 - accuracy: 0.9649 - val_loss: 0.2789 - val_accuracy: 0.9385\n",
      "Epoch 14/20\n",
      "50/51 [============================>.] - ETA: 2s - loss: 0.2376 - accuracy: 0.9667\n",
      "Epoch 00014: val_loss did not improve from 0.27890\n",
      "51/51 [==============================] - 150s 3s/step - loss: 0.2368 - accuracy: 0.9667 - val_loss: 0.2789 - val_accuracy: 0.9333\n",
      "Epoch 15/20\n",
      "50/51 [============================>.] - ETA: 2s - loss: 0.2565 - accuracy: 0.9568\n",
      "Epoch 00015: val_loss improved from 0.27890 to 0.27345, saving model to /data/train_model_fruit_veggie_9/chkpt\n",
      "51/51 [==============================] - 148s 3s/step - loss: 0.2577 - accuracy: 0.9556 - val_loss: 0.2734 - val_accuracy: 0.9487\n",
      "Epoch 16/20\n",
      "50/51 [============================>.] - ETA: 2s - loss: 0.2220 - accuracy: 0.9740\n",
      "Epoch 00016: val_loss improved from 0.27345 to 0.26782, saving model to /data/train_model_fruit_veggie_9/chkpt\n",
      "51/51 [==============================] - 150s 3s/step - loss: 0.2212 - accuracy: 0.9745 - val_loss: 0.2678 - val_accuracy: 0.9487\n",
      "Epoch 17/20\n",
      "50/51 [============================>.] - ETA: 2s - loss: 0.2393 - accuracy: 0.9705\n",
      "Epoch 00017: val_loss did not improve from 0.26782\n",
      "51/51 [==============================] - 146s 3s/step - loss: 0.2441 - accuracy: 0.9684 - val_loss: 0.2687 - val_accuracy: 0.9462\n",
      "Epoch 18/20\n",
      "50/51 [============================>.] - ETA: 2s - loss: 0.2496 - accuracy: 0.9635\n",
      "Epoch 00018: val_loss improved from 0.26782 to 0.26427, saving model to /data/train_model_fruit_veggie_9/chkpt\n",
      "51/51 [==============================] - 148s 3s/step - loss: 0.2471 - accuracy: 0.9636 - val_loss: 0.2643 - val_accuracy: 0.9487\n",
      "Epoch 19/20\n",
      "50/51 [============================>.] - ETA: 2s - loss: 0.2380 - accuracy: 0.9607\n",
      "Epoch 00019: val_loss improved from 0.26427 to 0.25864, saving model to /data/train_model_fruit_veggie_9/chkpt\n",
      "51/51 [==============================] - 150s 3s/step - loss: 0.2363 - accuracy: 0.9614 - val_loss: 0.2586 - val_accuracy: 0.9410\n",
      "Epoch 20/20\n",
      "50/51 [============================>.] - ETA: 2s - loss: 0.2292 - accuracy: 0.9678\n",
      "Epoch 00020: val_loss did not improve from 0.25864\n",
      "51/51 [==============================] - 145s 3s/step - loss: 0.2315 - accuracy: 0.9671 - val_loss: 0.2648 - val_accuracy: 0.9410\n"
     ]
    }
   ],
   "source": [
    "import datetime, os\n",
    "\n",
    "epochs = 20\n",
    "steps_per_epoch = train_generator.n // train_generator.batch_size\n",
    "validation_steps = validation_generator.n // validation_generator.batch_size\n",
    "#steps_per_epoch = 50\n",
    "#validation_steps = 50\n",
    "\n",
    "logdir = os.path.join(\"/data/tf_logs_9\", datetime.datetime.now().strftime(\"%Y%m%d-%H%M%S\"))\n",
    "tensorboard_callback = tf.keras.callbacks.TensorBoard(logdir, histogram_freq=1)\n",
    "checkpoint_callback = tf.keras.callbacks.ModelCheckpoint(filepath=checkpoint_path, \n",
    "                                                         save_weights_only=True, save_best_only=True,\n",
    "                                                         verbose=1)\n",
    "\n",
    "history = model.fit_generator(\n",
    "      train_generator,\n",
    "      steps_per_epoch=steps_per_epoch,\n",
    "      validation_data=validation_generator,\n",
    "      validation_steps=validation_steps,\n",
    "      callbacks=[checkpoint_callback, tensorboard_callback],\n",
    "      epochs=epochs)\n",
    "\n"
   ]
  },
  {
   "cell_type": "code",
   "execution_count": 18,
   "metadata": {},
   "outputs": [
    {
     "data": {
      "text/plain": [
       "Text(0.5, 0, 'epoch')"
      ]
     },
     "execution_count": 18,
     "metadata": {},
     "output_type": "execute_result"
    },
    {
     "data": {
      "image/png": "[encoded data removed]",
      "text/plain": [
       "<Figure size 576x576 with 2 Axes>"
      ]
     },
     "metadata": {
      "needs_background": "light"
     },
     "output_type": "display_data"
    }
   ],
   "source": [
    "%matplotlib inline\n",
    "import matplotlib.pyplot as plt\n",
    "import matplotlib.image as mpimg\n",
    "\n",
    "acc = history.history['accuracy']\n",
    "val_acc = history.history['val_accuracy']\n",
    "\n",
    "loss = history.history['loss']\n",
    "val_loss = history.history['val_loss']\n",
    "\n",
    "plt.figure(figsize=(8, 8))\n",
    "plt.subplot(2, 1, 1)\n",
    "plt.plot(acc, label='Training Accuracy')\n",
    "plt.plot(val_acc, label='Validation Accuracy')\n",
    "plt.legend(loc='lower right')\n",
    "plt.ylabel('Accuracy')\n",
    "plt.ylim([min(plt.ylim()), 1])\n",
    "plt.title('Training and Validation Accuracy')\n",
    "\n",
    "plt.subplot(2, 1, 2)\n",
    "plt.plot(loss, label='Training Loss')\n",
    "plt.plot(val_loss, label='Validation Loss')\n",
    "plt.legend(loc='upper right')\n",
    "plt.ylabel('Cross Entropy')\n",
    "plt.ylim([0, 3])\n",
    "plt.title('Training and Validation Loss')\n",
    "plt.xlabel('epoch')"
   ]
  },
  {
   "cell_type": "markdown",
   "metadata": {},
   "source": [
    "### Fine Tuning"
   ]
  },
  {
   "cell_type": "code",
   "execution_count": 19,
   "metadata": {},
   "outputs": [
    {
     "name": "stdout",
     "output_type": "stream",
     "text": [
      "Model: \"sequential\"\n",
      "_________________________________________________________________\n",
      "Layer (type)                 Output Shape              Param #   \n",
      "=================================================================\n",
      "vgg19 (Model)                (None, 7, 7, 512)         20024384  \n",
      "_________________________________________________________________\n",
      "global_average_pooling2d (Gl (None, 512)               0         \n",
      "_________________________________________________________________\n",
      "dense_2 (Dense)              (None, 60)                30780     \n",
      "=================================================================\n",
      "Total params: 20,055,164\n",
      "Trainable params: 18,319,676\n",
      "Non-trainable params: 1,735,488\n",
      "_________________________________________________________________\n"
     ]
    }
   ],
   "source": [
    "import datetime, os\n",
    "\n",
    "loss = 'categorical_crossentropy'\n",
    "\n",
    "checkpoint_path = \"/data/train_model_fruit_veggie_9/chkpt\"\n",
    "checkpoint_dir = os.path.dirname(checkpoint_path)\n",
    "\n",
    "\n",
    "if (reload_checkpoint and os.path.isdir(checkpoint_path)):\n",
    "   try:\n",
    "      model.load_weights(checkpoint_path)\n",
    "   except Exception:\n",
    "      pass\n",
    "\n",
    "if not os.path.isdir(checkpoint_path):\n",
    "   os.makedirs(checkpoint_path)\n",
    "\n",
    "base_model.trainable = True\n",
    "\n",
    "# Fine tune start from layer 10\n",
    "fine_tune_at = 10\n",
    "\n",
    "# Freeze all layers before the `fine_tune_at` layer\n",
    "for layer in base_model.layers[:fine_tune_at]:\n",
    "     layer.trainable = False\n",
    "\n",
    "model.compile(loss=loss,\n",
    "              optimizer=Adam(lr=0.001),\n",
    "              metrics=['accuracy'])\n",
    "\n",
    "model.summary()\n"
   ]
  },
  {
   "cell_type": "code",
   "execution_count": 20,
   "metadata": {},
   "outputs": [
    {
     "name": "stdout",
     "output_type": "stream",
     "text": [
      "Epoch 1/10\n",
      "38/39 [============================>.] - ETA: 2s - loss: 14.7042 - accuracy: 0.0860\n",
      "Epoch 00001: val_loss improved from inf to 15.11363, saving model to /data/train_model_fruit_veggie_6/chkpt\n",
      "39/39 [==============================] - 142s 4s/step - loss: 14.7136 - accuracy: 0.0855 - val_loss: 15.1136 - val_accuracy: 0.0623\n",
      "Epoch 2/10\n",
      "38/39 [============================>.] - ETA: 2s - loss: 14.8032 - accuracy: 0.0833\n",
      "Epoch 00002: val_loss did not improve from 15.11363\n",
      "39/39 [==============================] - 138s 4s/step - loss: 14.7673 - accuracy: 0.0855 - val_loss: 15.1136 - val_accuracy: 0.0623\n",
      "Epoch 3/10\n",
      "38/39 [============================>.] - ETA: 2s - loss: 14.7466 - accuracy: 0.0851\n",
      "Epoch 00003: val_loss did not improve from 15.11363\n",
      "39/39 [==============================] - 138s 4s/step - loss: 14.7267 - accuracy: 0.0863 - val_loss: 15.1136 - val_accuracy: 0.0623\n",
      "Epoch 4/10\n",
      "38/39 [============================>.] - ETA: 2s - loss: 14.8315 - accuracy: 0.0833\n",
      "Epoch 00004: val_loss did not improve from 15.11363\n",
      "39/39 [==============================] - 137s 4s/step - loss: 14.8355 - accuracy: 0.0829 - val_loss: 15.1136 - val_accuracy: 0.0623\n",
      "Epoch 5/10\n",
      "38/39 [============================>.] - ETA: 2s - loss: 14.8456 - accuracy: 0.0806\n",
      "Epoch 00005: val_loss did not improve from 15.11363\n",
      "39/39 [==============================] - 139s 4s/step - loss: 14.7949 - accuracy: 0.0838 - val_loss: 15.1136 - val_accuracy: 0.0623\n",
      "Epoch 6/10\n",
      "38/39 [============================>.] - ETA: 2s - loss: 14.7325 - accuracy: 0.0842\n",
      "Epoch 00006: val_loss did not improve from 15.11363\n",
      "39/39 [==============================] - 139s 4s/step - loss: 14.7412 - accuracy: 0.0838 - val_loss: 15.1136 - val_accuracy: 0.0623\n",
      "Epoch 7/10\n",
      "38/39 [============================>.] - ETA: 2s - loss: 14.7325 - accuracy: 0.0878\n",
      "Epoch 00007: val_loss did not improve from 15.11363\n",
      "39/39 [==============================] - 138s 4s/step - loss: 14.7535 - accuracy: 0.0864 - val_loss: 15.1136 - val_accuracy: 0.0623\n",
      "Epoch 8/10\n",
      "38/39 [============================>.] - ETA: 2s - loss: 14.6335 - accuracy: 0.0905\n",
      "Epoch 00008: val_loss did not improve from 15.11363\n",
      "39/39 [==============================] - 136s 3s/step - loss: 14.6309 - accuracy: 0.0908 - val_loss: 15.1136 - val_accuracy: 0.0623\n",
      "Epoch 9/10\n",
      "38/39 [============================>.] - ETA: 2s - loss: 14.9022 - accuracy: 0.0754\n",
      "Epoch 00009: val_loss did not improve from 15.11363\n",
      "39/39 [==============================] - 138s 4s/step - loss: 14.8369 - accuracy: 0.0795 - val_loss: 15.1136 - val_accuracy: 0.0623\n",
      "Epoch 10/10\n",
      "38/39 [============================>.] - ETA: 2s - loss: 14.6901 - accuracy: 0.0925\n",
      "Epoch 00010: val_loss did not improve from 15.11363\n",
      "39/39 [==============================] - 135s 3s/step - loss: 14.6563 - accuracy: 0.0945 - val_loss: 15.1136 - val_accuracy: 0.0623\n"
     ]
    }
   ],
   "source": [
    "import datetime, os\n",
    "\n",
    "epochs = 10\n",
    "steps_per_epoch = train_generator.n // train_generator.batch_size\n",
    "validation_steps = validation_generator.n // validation_generator.batch_size\n",
    "#steps_per_epoch = 50\n",
    "#validation_steps = 50\n",
    "\n",
    "logdir = os.path.join(\"/data/tf_logs_9\", datetime.datetime.now().strftime(\"%Y%m%d-%H%M%S\"))\n",
    "tensorboard_callback = tf.keras.callbacks.TensorBoard(logdir, histogram_freq=1)\n",
    "checkpoint_callback = tf.keras.callbacks.ModelCheckpoint(filepath=checkpoint_path, \n",
    "                                                         save_weights_only=True, save_best_only=True,\n",
    "                                                         verbose=1)\n",
    "history = model.fit_generator(\n",
    "      train_generator,\n",
    "      steps_per_epoch=steps_per_epoch,\n",
    "      validation_data=validation_generator,\n",
    "      validation_steps=validation_steps,\n",
    "      callbacks=[checkpoint_callback, tensorboard_callback],\n",
    "      epochs=epochs)\n",
    "\n"
   ]
  },
  {
   "cell_type": "code",
   "execution_count": 21,
   "metadata": {},
   "outputs": [
    {
     "data": {
      "text/plain": [
       "Text(0.5, 0, 'epoch')"
      ]
     },
     "execution_count": 21,
     "metadata": {},
     "output_type": "execute_result"
    },
    {
     "data": {
      "image/png": "[encoded data removed]",
      "text/plain": [
       "<Figure size 576x576 with 2 Axes>"
      ]
     },
     "metadata": {
      "needs_background": "light"
     },
     "output_type": "display_data"
    }
   ],
   "source": [
    "%matplotlib inline\n",
    "import matplotlib.pyplot as plt\n",
    "import matplotlib.image as mpimg\n",
    "\n",
    "acc = history.history['accuracy']\n",
    "val_acc = history.history['val_accuracy']\n",
    "\n",
    "loss = history.history['loss']\n",
    "val_loss = history.history['val_loss']\n",
    "\n",
    "plt.figure(figsize=(8, 8))\n",
    "plt.subplot(2, 1, 1)\n",
    "plt.plot(acc, label='Training Accuracy')\n",
    "plt.plot(val_acc, label='Validation Accuracy')\n",
    "plt.legend(loc='lower right')\n",
    "plt.ylabel('Accuracy')\n",
    "plt.ylim([min(plt.ylim()), 1])\n",
    "plt.title('Training and Validation Accuracy')\n",
    "\n",
    "plt.subplot(2, 1, 2)\n",
    "plt.plot(loss, label='Training Loss')\n",
    "plt.plot(val_loss, label='Validation Loss')\n",
    "plt.legend(loc='upper right')\n",
    "plt.ylabel('Cross Entropy')\n",
    "plt.ylim([0, 1.0])\n",
    "plt.title('Training and Validation Loss')\n",
    "plt.xlabel('epoch')"
   ]
  },
  {
   "cell_type": "markdown",
   "metadata": {},
   "source": [
    "### Save Model"
   ]
  },
  {
   "cell_type": "code",
   "execution_count": 19,
   "metadata": {},
   "outputs": [],
   "source": [
    "def export(model, path):\n",
    "       model.save(path, save_format='tf')"
   ]
  },
  {
   "cell_type": "code",
   "execution_count": 20,
   "metadata": {},
   "outputs": [
    {
     "name": "stdout",
     "output_type": "stream",
     "text": [
      "WARNING:tensorflow:From /home/seeingtheworld/.conda/envs/tf2/lib/python3.7/site-packages/tensorflow_core/python/ops/resource_variable_ops.py:1781: calling BaseResourceVariable.__init__ (from tensorflow.python.ops.resource_variable_ops) with constraint is deprecated and will be removed in a future version.\n",
      "Instructions for updating:\n",
      "If using Keras pass *_constraint arguments to layers.\n",
      "INFO:tensorflow:Assets written to: /data/saved_model_2/assets\n"
     ]
    }
   ],
   "source": [
    "model.save('/data/saved_model_2/')"
   ]
  },
  {
   "cell_type": "markdown",
   "metadata": {},
   "source": [
    "### Reload Model"
   ]
  },
  {
   "cell_type": "code",
   "execution_count": 11,
   "metadata": {},
   "outputs": [],
   "source": [
    "import tensorflow as tf\n",
    "model = tf.keras.models.load_model('/data/saved_model_2/')"
   ]
  },
  {
   "cell_type": "code",
   "execution_count": null,
   "metadata": {
    "collapsed": true
   },
   "outputs": [],
   "source": []
  }
 ],
 "metadata": {
  "kernelspec": {
   "display_name": "“TensorFlow-GPU-2.0”",
   "language": "python",
   "name": "tf2"
  },
  "language_info": {
   "codemirror_mode": {
    "name": "ipython",
    "version": 3
   },
   "file_extension": ".py",
   "mimetype": "text/x-python",
   "name": "python",
   "nbconvert_exporter": "python",
   "pygments_lexer": "ipython3",
   "version": "3.7.5"
  }
 },
 "nbformat": 4,
 "nbformat_minor": 2
}
