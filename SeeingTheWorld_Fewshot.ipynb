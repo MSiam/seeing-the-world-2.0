{
  "nbformat": 4,
  "nbformat_minor": 0,
  "metadata": {
    "colab": {
      "name": "SeeingTheWorld-Fewshot.ipynb",
      "provenance": []
    },
    "kernelspec": {
      "name": "python3",
      "display_name": "Python 3"
    },
    "accelerator": "GPU",
    "widgets": {
      "application/vnd.jupyter.widget-state+json": {
        "ebf44be5e1a04bccb51c4852fe82afd6": {
          "model_module": "@jupyter-widgets/controls",
          "model_name": "HBoxModel",
          "state": {
            "_view_name": "HBoxView",
            "_dom_classes": [],
            "_model_name": "HBoxModel",
            "_view_module": "@jupyter-widgets/controls",
            "_model_module_version": "1.5.0",
            "_view_count": null,
            "_view_module_version": "1.5.0",
            "box_style": "",
            "layout": "IPY_MODEL_a47c9dcd2b2a45d88d313744d8823e0f",
            "_model_module": "@jupyter-widgets/controls",
            "children": [
              "IPY_MODEL_74cc9ee5ebe44086b11be2899509cd9f",
              "IPY_MODEL_bf75eb839d39476084dd8d88b40bb1f1"
            ]
          }
        },
        "a47c9dcd2b2a45d88d313744d8823e0f": {
          "model_module": "@jupyter-widgets/base",
          "model_name": "LayoutModel",
          "state": {
            "_view_name": "LayoutView",
            "grid_template_rows": null,
            "right": null,
            "justify_content": null,
            "_view_module": "@jupyter-widgets/base",
            "overflow": null,
            "_model_module_version": "1.2.0",
            "_view_count": null,
            "flex_flow": null,
            "width": null,
            "min_width": null,
            "border": null,
            "align_items": null,
            "bottom": null,
            "_model_module": "@jupyter-widgets/base",
            "top": null,
            "grid_column": null,
            "overflow_y": null,
            "overflow_x": null,
            "grid_auto_flow": null,
            "grid_area": null,
            "grid_template_columns": null,
            "flex": null,
            "_model_name": "LayoutModel",
            "justify_items": null,
            "grid_row": null,
            "max_height": null,
            "align_content": null,
            "visibility": null,
            "align_self": null,
            "height": null,
            "min_height": null,
            "padding": null,
            "grid_auto_rows": null,
            "grid_gap": null,
            "max_width": null,
            "order": null,
            "_view_module_version": "1.2.0",
            "grid_template_areas": null,
            "object_position": null,
            "object_fit": null,
            "grid_auto_columns": null,
            "margin": null,
            "display": null,
            "left": null
          }
        },
        "74cc9ee5ebe44086b11be2899509cd9f": {
          "model_module": "@jupyter-widgets/controls",
          "model_name": "FloatProgressModel",
          "state": {
            "_view_name": "ProgressView",
            "style": "IPY_MODEL_9a89befcdbc1411ebc52eb040330fb4c",
            "_dom_classes": [],
            "description": "100%",
            "_model_name": "FloatProgressModel",
            "bar_style": "success",
            "max": 574673361,
            "_view_module": "@jupyter-widgets/controls",
            "_model_module_version": "1.5.0",
            "value": 574673361,
            "_view_count": null,
            "_view_module_version": "1.5.0",
            "orientation": "horizontal",
            "min": 0,
            "description_tooltip": null,
            "_model_module": "@jupyter-widgets/controls",
            "layout": "IPY_MODEL_f3dc07c30168440984d156f0733e0b25"
          }
        },
        "bf75eb839d39476084dd8d88b40bb1f1": {
          "model_module": "@jupyter-widgets/controls",
          "model_name": "HTMLModel",
          "state": {
            "_view_name": "HTMLView",
            "style": "IPY_MODEL_6c0e609213294ad5a46d5b88857a1134",
            "_dom_classes": [],
            "description": "",
            "_model_name": "HTMLModel",
            "placeholder": "​",
            "_view_module": "@jupyter-widgets/controls",
            "_model_module_version": "1.5.0",
            "value": " 548M/548M [16:23&lt;00:00, 584kB/s]",
            "_view_count": null,
            "_view_module_version": "1.5.0",
            "description_tooltip": null,
            "_model_module": "@jupyter-widgets/controls",
            "layout": "IPY_MODEL_4a9fe1f1907c4da7b70d9c368184c132"
          }
        },
        "9a89befcdbc1411ebc52eb040330fb4c": {
          "model_module": "@jupyter-widgets/controls",
          "model_name": "ProgressStyleModel",
          "state": {
            "_view_name": "StyleView",
            "_model_name": "ProgressStyleModel",
            "description_width": "initial",
            "_view_module": "@jupyter-widgets/base",
            "_model_module_version": "1.5.0",
            "_view_count": null,
            "_view_module_version": "1.2.0",
            "bar_color": null,
            "_model_module": "@jupyter-widgets/controls"
          }
        },
        "f3dc07c30168440984d156f0733e0b25": {
          "model_module": "@jupyter-widgets/base",
          "model_name": "LayoutModel",
          "state": {
            "_view_name": "LayoutView",
            "grid_template_rows": null,
            "right": null,
            "justify_content": null,
            "_view_module": "@jupyter-widgets/base",
            "overflow": null,
            "_model_module_version": "1.2.0",
            "_view_count": null,
            "flex_flow": null,
            "width": null,
            "min_width": null,
            "border": null,
            "align_items": null,
            "bottom": null,
            "_model_module": "@jupyter-widgets/base",
            "top": null,
            "grid_column": null,
            "overflow_y": null,
            "overflow_x": null,
            "grid_auto_flow": null,
            "grid_area": null,
            "grid_template_columns": null,
            "flex": null,
            "_model_name": "LayoutModel",
            "justify_items": null,
            "grid_row": null,
            "max_height": null,
            "align_content": null,
            "visibility": null,
            "align_self": null,
            "height": null,
            "min_height": null,
            "padding": null,
            "grid_auto_rows": null,
            "grid_gap": null,
            "max_width": null,
            "order": null,
            "_view_module_version": "1.2.0",
            "grid_template_areas": null,
            "object_position": null,
            "object_fit": null,
            "grid_auto_columns": null,
            "margin": null,
            "display": null,
            "left": null
          }
        },
        "6c0e609213294ad5a46d5b88857a1134": {
          "model_module": "@jupyter-widgets/controls",
          "model_name": "DescriptionStyleModel",
          "state": {
            "_view_name": "StyleView",
            "_model_name": "DescriptionStyleModel",
            "description_width": "",
            "_view_module": "@jupyter-widgets/base",
            "_model_module_version": "1.5.0",
            "_view_count": null,
            "_view_module_version": "1.2.0",
            "_model_module": "@jupyter-widgets/controls"
          }
        },
        "4a9fe1f1907c4da7b70d9c368184c132": {
          "model_module": "@jupyter-widgets/base",
          "model_name": "LayoutModel",
          "state": {
            "_view_name": "LayoutView",
            "grid_template_rows": null,
            "right": null,
            "justify_content": null,
            "_view_module": "@jupyter-widgets/base",
            "overflow": null,
            "_model_module_version": "1.2.0",
            "_view_count": null,
            "flex_flow": null,
            "width": null,
            "min_width": null,
            "border": null,
            "align_items": null,
            "bottom": null,
            "_model_module": "@jupyter-widgets/base",
            "top": null,
            "grid_column": null,
            "overflow_y": null,
            "overflow_x": null,
            "grid_auto_flow": null,
            "grid_area": null,
            "grid_template_columns": null,
            "flex": null,
            "_model_name": "LayoutModel",
            "justify_items": null,
            "grid_row": null,
            "max_height": null,
            "align_content": null,
            "visibility": null,
            "align_self": null,
            "height": null,
            "min_height": null,
            "padding": null,
            "grid_auto_rows": null,
            "grid_gap": null,
            "max_width": null,
            "order": null,
            "_view_module_version": "1.2.0",
            "grid_template_areas": null,
            "object_position": null,
            "object_fit": null,
            "grid_auto_columns": null,
            "margin": null,
            "display": null,
            "left": null
          }
        },
        "f17d69c4b011443d8c9532b803963a94": {
          "model_module": "@jupyter-widgets/controls",
          "model_name": "HBoxModel",
          "state": {
            "_view_name": "HBoxView",
            "_dom_classes": [],
            "_model_name": "HBoxModel",
            "_view_module": "@jupyter-widgets/controls",
            "_model_module_version": "1.5.0",
            "_view_count": null,
            "_view_module_version": "1.5.0",
            "box_style": "",
            "layout": "IPY_MODEL_97395bfde5504af5aadf2ec64a802c18",
            "_model_module": "@jupyter-widgets/controls",
            "children": [
              "IPY_MODEL_b244979cae8641a2a7074182ca90b67e",
              "IPY_MODEL_5c9c2a565938408ab99b5c54ea511345"
            ]
          }
        },
        "97395bfde5504af5aadf2ec64a802c18": {
          "model_module": "@jupyter-widgets/base",
          "model_name": "LayoutModel",
          "state": {
            "_view_name": "LayoutView",
            "grid_template_rows": null,
            "right": null,
            "justify_content": null,
            "_view_module": "@jupyter-widgets/base",
            "overflow": null,
            "_model_module_version": "1.2.0",
            "_view_count": null,
            "flex_flow": null,
            "width": null,
            "min_width": null,
            "border": null,
            "align_items": null,
            "bottom": null,
            "_model_module": "@jupyter-widgets/base",
            "top": null,
            "grid_column": null,
            "overflow_y": null,
            "overflow_x": null,
            "grid_auto_flow": null,
            "grid_area": null,
            "grid_template_columns": null,
            "flex": null,
            "_model_name": "LayoutModel",
            "justify_items": null,
            "grid_row": null,
            "max_height": null,
            "align_content": null,
            "visibility": null,
            "align_self": null,
            "height": null,
            "min_height": null,
            "padding": null,
            "grid_auto_rows": null,
            "grid_gap": null,
            "max_width": null,
            "order": null,
            "_view_module_version": "1.2.0",
            "grid_template_areas": null,
            "object_position": null,
            "object_fit": null,
            "grid_auto_columns": null,
            "margin": null,
            "display": null,
            "left": null
          }
        },
        "b244979cae8641a2a7074182ca90b67e": {
          "model_module": "@jupyter-widgets/controls",
          "model_name": "FloatProgressModel",
          "state": {
            "_view_name": "ProgressView",
            "style": "IPY_MODEL_7180713e21d549bb88844785c70841a2",
            "_dom_classes": [],
            "description": "100%",
            "_model_name": "FloatProgressModel",
            "bar_style": "success",
            "max": 574673361,
            "_view_module": "@jupyter-widgets/controls",
            "_model_module_version": "1.5.0",
            "value": 574673361,
            "_view_count": null,
            "_view_module_version": "1.5.0",
            "orientation": "horizontal",
            "min": 0,
            "description_tooltip": null,
            "_model_module": "@jupyter-widgets/controls",
            "layout": "IPY_MODEL_634cb8d965dc459582e4933c8bf2398b"
          }
        },
        "5c9c2a565938408ab99b5c54ea511345": {
          "model_module": "@jupyter-widgets/controls",
          "model_name": "HTMLModel",
          "state": {
            "_view_name": "HTMLView",
            "style": "IPY_MODEL_b207d3c47a4d436ea056e7f6262ebcd6",
            "_dom_classes": [],
            "description": "",
            "_model_name": "HTMLModel",
            "placeholder": "​",
            "_view_module": "@jupyter-widgets/controls",
            "_model_module_version": "1.5.0",
            "value": " 548M/548M [58:22&lt;00:00, 164kB/s]",
            "_view_count": null,
            "_view_module_version": "1.5.0",
            "description_tooltip": null,
            "_model_module": "@jupyter-widgets/controls",
            "layout": "IPY_MODEL_487d918f1a8546fabcd3ec93158b89fa"
          }
        },
        "7180713e21d549bb88844785c70841a2": {
          "model_module": "@jupyter-widgets/controls",
          "model_name": "ProgressStyleModel",
          "state": {
            "_view_name": "StyleView",
            "_model_name": "ProgressStyleModel",
            "description_width": "initial",
            "_view_module": "@jupyter-widgets/base",
            "_model_module_version": "1.5.0",
            "_view_count": null,
            "_view_module_version": "1.2.0",
            "bar_color": null,
            "_model_module": "@jupyter-widgets/controls"
          }
        },
        "634cb8d965dc459582e4933c8bf2398b": {
          "model_module": "@jupyter-widgets/base",
          "model_name": "LayoutModel",
          "state": {
            "_view_name": "LayoutView",
            "grid_template_rows": null,
            "right": null,
            "justify_content": null,
            "_view_module": "@jupyter-widgets/base",
            "overflow": null,
            "_model_module_version": "1.2.0",
            "_view_count": null,
            "flex_flow": null,
            "width": null,
            "min_width": null,
            "border": null,
            "align_items": null,
            "bottom": null,
            "_model_module": "@jupyter-widgets/base",
            "top": null,
            "grid_column": null,
            "overflow_y": null,
            "overflow_x": null,
            "grid_auto_flow": null,
            "grid_area": null,
            "grid_template_columns": null,
            "flex": null,
            "_model_name": "LayoutModel",
            "justify_items": null,
            "grid_row": null,
            "max_height": null,
            "align_content": null,
            "visibility": null,
            "align_self": null,
            "height": null,
            "min_height": null,
            "padding": null,
            "grid_auto_rows": null,
            "grid_gap": null,
            "max_width": null,
            "order": null,
            "_view_module_version": "1.2.0",
            "grid_template_areas": null,
            "object_position": null,
            "object_fit": null,
            "grid_auto_columns": null,
            "margin": null,
            "display": null,
            "left": null
          }
        },
        "b207d3c47a4d436ea056e7f6262ebcd6": {
          "model_module": "@jupyter-widgets/controls",
          "model_name": "DescriptionStyleModel",
          "state": {
            "_view_name": "StyleView",
            "_model_name": "DescriptionStyleModel",
            "description_width": "",
            "_view_module": "@jupyter-widgets/base",
            "_model_module_version": "1.5.0",
            "_view_count": null,
            "_view_module_version": "1.2.0",
            "_model_module": "@jupyter-widgets/controls"
          }
        },
        "487d918f1a8546fabcd3ec93158b89fa": {
          "model_module": "@jupyter-widgets/base",
          "model_name": "LayoutModel",
          "state": {
            "_view_name": "LayoutView",
            "grid_template_rows": null,
            "right": null,
            "justify_content": null,
            "_view_module": "@jupyter-widgets/base",
            "overflow": null,
            "_model_module_version": "1.2.0",
            "_view_count": null,
            "flex_flow": null,
            "width": null,
            "min_width": null,
            "border": null,
            "align_items": null,
            "bottom": null,
            "_model_module": "@jupyter-widgets/base",
            "top": null,
            "grid_column": null,
            "overflow_y": null,
            "overflow_x": null,
            "grid_auto_flow": null,
            "grid_area": null,
            "grid_template_columns": null,
            "flex": null,
            "_model_name": "LayoutModel",
            "justify_items": null,
            "grid_row": null,
            "max_height": null,
            "align_content": null,
            "visibility": null,
            "align_self": null,
            "height": null,
            "min_height": null,
            "padding": null,
            "grid_auto_rows": null,
            "grid_gap": null,
            "max_width": null,
            "order": null,
            "_view_module_version": "1.2.0",
            "grid_template_areas": null,
            "object_position": null,
            "object_fit": null,
            "grid_auto_columns": null,
            "margin": null,
            "display": null,
            "left": null
          }
        }
      }
    }
  },
  "cells": [
    {
      "cell_type": "markdown",
      "metadata": {
        "id": "T83jGNiXcvOV",
        "colab_type": "text"
      },
      "source": [
        "# Training on all Data"
      ]
    },
    {
      "cell_type": "code",
      "metadata": {
        "id": "k2S8ssdbshTG",
        "colab_type": "code",
        "outputId": "a7b33ea3-9c8c-448c-c532-5431918a1309",
        "colab": {
          "base_uri": "https://localhost:8080/",
          "height": 69
        }
      },
      "source": [
        "!curl --header 'Host: doc-04-b8-docs.googleusercontent.com' --user-agent 'Mozilla/5.0 (X11; Ubuntu; Linux x86_64; rv:76.0) Gecko/20100101 Firefox/76.0' --header 'Accept: text/html,application/xhtml+xml,application/xml;q=0.9,image/webp,*/*;q=0.8' --header 'Accept-Language: en-CA,en-US;q=0.7,en;q=0.3' --referer 'https://drive.google.com/drive/u/0/recent' --cookie 'AUTH_ke38de5om415qdl9mh10ijp9ovprni2j_nonce=oa9soihsi4uus' --header 'Upgrade-Insecure-Requests: 1' 'https://doc-04-b8-docs.googleusercontent.com/docs/securesc/2n3g1c92fvum2ti2873eohe2s5i599l8/4jijecna13ujp5q6ss2frm01a5hhgh2e/1590592350000/11397432307160908430/11397432307160908430/12O1GZmLO1t_iyhlHEDSKBL9PhZF8nMps?e=download&h=04295518330385903249&authuser=0&nonce=oa9soihsi4uus&user=11397432307160908430&hash=k8kobi0tptkkjo6mksffoh9ijrk0m3hb' --output 'veggie_fruit_data.zip'\n"
      ],
      "execution_count": 0,
      "outputs": [
        {
          "output_type": "stream",
          "text": [
            "  % Total    % Received % Xferd  Average Speed   Time    Time     Time  Current\n",
            "                                 Dload  Upload   Total   Spent    Left  Speed\n",
            "100 2020M    0 2020M    0     0  99.2M      0 --:--:--  0:00:20 --:--:-- 43.0M\n"
          ],
          "name": "stdout"
        }
      ]
    },
    {
      "cell_type": "code",
      "metadata": {
        "id": "IZfAvG2KyZ2M",
        "colab_type": "code",
        "outputId": "dbca1fbc-1de7-49b9-a486-b39776765b11",
        "colab": {
          "base_uri": "https://localhost:8080/",
          "height": 1000
        }
      },
      "source": [
        "!unzip veggie_fruit_data.zip"
      ],
      "execution_count": 0,
      "outputs": [
        {
          "output_type": "stream",
          "text": [
            "Archive:  veggie_fruit_data.zip\n",
            "   creating: veggie_fruit_data/\n",
            "   creating: veggie_fruit_data/train/\n",
            "   creating: veggie_fruit_data/train/water_melon/\n",
            "  inflating: veggie_fruit_data/train/water_melon/IMG_1207.JPG  \n",
            "  inflating: veggie_fruit_data/train/water_melon/IMG_03343.jpg  \n",
            "  inflating: veggie_fruit_data/train/water_melon/IMG_03335.jpg  \n",
            "  inflating: veggie_fruit_data/train/water_melon/IMG_1186.JPG  \n",
            "  inflating: veggie_fruit_data/train/water_melon/IMG_1204.JPG  \n",
            "  inflating: veggie_fruit_data/train/water_melon/IMG_03340.jpg  \n",
            "  inflating: veggie_fruit_data/train/water_melon/IMG_03337.jpg  \n",
            "  inflating: veggie_fruit_data/train/water_melon/IMG_2665.JPG  \n",
            "  inflating: veggie_fruit_data/train/water_melon/IMG_03351.jpg  \n",
            "  inflating: veggie_fruit_data/train/water_melon/IMG_6665.JPG  \n",
            "  inflating: veggie_fruit_data/train/water_melon/IMG_0533.jpg  \n",
            "  inflating: veggie_fruit_data/train/water_melon/IMG_03366.jpg  \n",
            "  inflating: veggie_fruit_data/train/water_melon/IMG_1205.JPG  \n",
            "  inflating: veggie_fruit_data/train/water_melon/IMG_03341.jpg  \n",
            "  inflating: veggie_fruit_data/train/water_melon/IMG_03361.jpg  \n",
            "  inflating: veggie_fruit_data/train/water_melon/IMG_03333.jpg  \n",
            "  inflating: veggie_fruit_data/train/water_melon/IMG_4849.JPG  \n",
            "  inflating: veggie_fruit_data/train/water_melon/IMG_1206.JPG  \n",
            "  inflating: veggie_fruit_data/train/water_melon/IMG_03355.jpg  \n",
            "  inflating: veggie_fruit_data/train/water_melon/IMG_03363.jpg  \n",
            "  inflating: veggie_fruit_data/train/water_melon/IMG_03353.jpg  \n",
            "  inflating: veggie_fruit_data/train/water_melon/IMG_03359.jpg  \n",
            "  inflating: veggie_fruit_data/train/water_melon/IMG_03354.jpg  \n",
            "  inflating: veggie_fruit_data/train/water_melon/IMG_6667.JPG  \n",
            "  inflating: veggie_fruit_data/train/water_melon/IMG_03346.jpg  \n",
            "  inflating: veggie_fruit_data/train/water_melon/IMG_03336.jpg  \n",
            "  inflating: veggie_fruit_data/train/water_melon/IMG_0534.jpg  \n",
            "  inflating: veggie_fruit_data/train/water_melon/IMG_03348.jpg  \n",
            "  inflating: veggie_fruit_data/train/water_melon/IMG_03360.jpg  \n",
            "  inflating: veggie_fruit_data/train/water_melon/IMG_03332.jpg  \n",
            "  inflating: veggie_fruit_data/train/water_melon/IMG_0576.jpg  \n",
            "  inflating: veggie_fruit_data/train/water_melon/IMG_03357.jpg  \n",
            "  inflating: veggie_fruit_data/train/water_melon/IMG_1188.JPG  \n",
            "  inflating: veggie_fruit_data/train/water_melon/IMG_03349.jpg  \n",
            "  inflating: veggie_fruit_data/train/water_melon/IMG_0536.jpg  \n",
            "  inflating: veggie_fruit_data/train/water_melon/IMG_0577.jpg  \n",
            "  inflating: veggie_fruit_data/train/water_melon/IMG_03345.jpg  \n",
            "  inflating: veggie_fruit_data/train/water_melon/IMG_03362.jpg  \n",
            "  inflating: veggie_fruit_data/train/water_melon/IMG_03365.jpg  \n",
            "  inflating: veggie_fruit_data/train/water_melon/IMG_03352.jpg  \n",
            "  inflating: veggie_fruit_data/train/water_melon/IMG_03367.jpg  \n",
            "  inflating: veggie_fruit_data/train/water_melon/IMG_03331.jpg  \n",
            "  inflating: veggie_fruit_data/train/water_melon/IMG_1189.JPG  \n",
            "  inflating: veggie_fruit_data/train/water_melon/IMG_6666.JPG  \n",
            "  inflating: veggie_fruit_data/train/water_melon/IMG_03330.jpg  \n",
            "  inflating: veggie_fruit_data/train/water_melon/IMG_03338.jpg  \n",
            "  inflating: veggie_fruit_data/train/water_melon/IMG_03342.jpg  \n",
            "  inflating: veggie_fruit_data/train/water_melon/IMG_03334.jpg  \n",
            "   creating: veggie_fruit_data/train/tomato/\n",
            "  inflating: veggie_fruit_data/train/tomato/IMG_7102.JPG  \n",
            "  inflating: veggie_fruit_data/train/tomato/IMG_03411.jpg  \n",
            "  inflating: veggie_fruit_data/train/tomato/IMG_03418.jpg  \n",
            "  inflating: veggie_fruit_data/train/tomato/IMG_03427.jpg  \n",
            "  inflating: veggie_fruit_data/train/tomato/IMG_03343.jpg  \n",
            "  inflating: veggie_fruit_data/train/tomato/IMG_03335.jpg  \n",
            "  inflating: veggie_fruit_data/train/tomato/IMG_03423.jpg  \n",
            "  inflating: veggie_fruit_data/train/tomato/IMG_03374.jpg  \n",
            "  inflating: veggie_fruit_data/train/tomato/IMG_03429.jpg  \n",
            "  inflating: veggie_fruit_data/train/tomato/IMG_03414.jpg  \n",
            "  inflating: veggie_fruit_data/train/tomato/IMG_03406.jpg  \n",
            "  inflating: veggie_fruit_data/train/tomato/IMG_03431.jpg  \n",
            "  inflating: veggie_fruit_data/train/tomato/IMG_03340.jpg  \n",
            "  inflating: veggie_fruit_data/train/tomato/IMG_03415.jpg  \n",
            "  inflating: veggie_fruit_data/train/tomato/IMG_6616.JPG  \n",
            "  inflating: veggie_fruit_data/train/tomato/IMG_03428.jpg  \n",
            "  inflating: veggie_fruit_data/train/tomato/IMG_03434.jpg  \n",
            "  inflating: veggie_fruit_data/train/tomato/IMG_03397.jpg  \n",
            "  inflating: veggie_fruit_data/train/tomato/IMG_03394.jpg  \n",
            "  inflating: veggie_fruit_data/train/tomato/IMG_03337.jpg  \n",
            "  inflating: veggie_fruit_data/train/tomato/IMG_03416.jpg  \n",
            "  inflating: veggie_fruit_data/train/tomato/IMG_03402.jpg  \n",
            "  inflating: veggie_fruit_data/train/tomato/IMG_03339.jpg  \n",
            "  inflating: veggie_fruit_data/train/tomato/IMG_03378.jpg  \n",
            "  inflating: veggie_fruit_data/train/tomato/IMG_03421.jpg  \n",
            "  inflating: veggie_fruit_data/train/tomato/IMG_03404.jpg  \n",
            "  inflating: veggie_fruit_data/train/tomato/IMG_03347.jpg  \n",
            "  inflating: veggie_fruit_data/train/tomato/IMG_03351.jpg  \n",
            "  inflating: veggie_fruit_data/train/tomato/IMG_6618.JPG  \n",
            "  inflating: veggie_fruit_data/train/tomato/IMG_03380.jpg  \n",
            "  inflating: veggie_fruit_data/train/tomato/IMG_03371.jpg  \n",
            "  inflating: veggie_fruit_data/train/tomato/IMG_03425.jpg  \n",
            "  inflating: veggie_fruit_data/train/tomato/IMG_03383.jpg  \n",
            "  inflating: veggie_fruit_data/train/tomato/IMG_03341.jpg  \n",
            "  inflating: veggie_fruit_data/train/tomato/IMG_03344.jpg  \n",
            "  inflating: veggie_fruit_data/train/tomato/IMG_03372.jpg  \n",
            "  inflating: veggie_fruit_data/train/tomato/IMG_03398.jpg  \n",
            "  inflating: veggie_fruit_data/train/tomato/IMG_03384.jpg  \n",
            "  inflating: veggie_fruit_data/train/tomato/IMG_03333.jpg  \n",
            "  inflating: veggie_fruit_data/train/tomato/IMG_03369.jpg  \n",
            "  inflating: veggie_fruit_data/train/tomato/IMG_03390.jpg  \n",
            "  inflating: veggie_fruit_data/train/tomato/IMG_03363.jpg  \n",
            "  inflating: veggie_fruit_data/train/tomato/IMG_03359.jpg  \n",
            "  inflating: veggie_fruit_data/train/tomato/IMG_03350.jpg  \n",
            "  inflating: veggie_fruit_data/train/tomato/IMG_03387.jpg  \n",
            "  inflating: veggie_fruit_data/train/tomato/IMG_03354.jpg  \n",
            "  inflating: veggie_fruit_data/train/tomato/IMG_03399.jpg  \n",
            "  inflating: veggie_fruit_data/train/tomato/IMG_03376.jpg  \n",
            "  inflating: veggie_fruit_data/train/tomato/IMG_03346.jpg  \n",
            "  inflating: veggie_fruit_data/train/tomato/IMG_03389.jpg  \n",
            "  inflating: veggie_fruit_data/train/tomato/IMG_03370.jpg  \n",
            "  inflating: veggie_fruit_data/train/tomato/IMG_03430.jpg  \n",
            "  inflating: veggie_fruit_data/train/tomato/IMG_03373.jpg  \n",
            "  inflating: veggie_fruit_data/train/tomato/IMG_03336.jpg  \n",
            "  inflating: veggie_fruit_data/train/tomato/IMG_03348.jpg  \n",
            "  inflating: veggie_fruit_data/train/tomato/IMG_03360.jpg  \n",
            "  inflating: veggie_fruit_data/train/tomato/IMG_03332.jpg  \n",
            "  inflating: veggie_fruit_data/train/tomato/IMG_03403.jpg  \n",
            "  inflating: veggie_fruit_data/train/tomato/IMG_03391.jpg  \n",
            "  inflating: veggie_fruit_data/train/tomato/IMG_03435.jpg  \n",
            "  inflating: veggie_fruit_data/train/tomato/IMG_03396.jpg  \n",
            "  inflating: veggie_fruit_data/train/tomato/IMG_03357.jpg  \n",
            "  inflating: veggie_fruit_data/train/tomato/IMG_03349.jpg  \n",
            "  inflating: veggie_fruit_data/train/tomato/IMG_6612.JPG  \n",
            "  inflating: veggie_fruit_data/train/tomato/IMG_7104.JPG  \n",
            "  inflating: veggie_fruit_data/train/tomato/IMG_03345.jpg  \n",
            "  inflating: veggie_fruit_data/train/tomato/IMG_03432.jpg  \n",
            "  inflating: veggie_fruit_data/train/tomato/IMG_03375.jpg  \n",
            "  inflating: veggie_fruit_data/train/tomato/IMG_03362.jpg  \n",
            "  inflating: veggie_fruit_data/train/tomato/IMG_03424.jpg  \n",
            "  inflating: veggie_fruit_data/train/tomato/IMG_03408.jpg  \n",
            "  inflating: veggie_fruit_data/train/tomato/IMG_03368.jpg  \n",
            "  inflating: veggie_fruit_data/train/tomato/IMG_03392.jpg  \n",
            "  inflating: veggie_fruit_data/train/tomato/IMG_03365.jpg  \n",
            "  inflating: veggie_fruit_data/train/tomato/IMG_03352.jpg  \n",
            "  inflating: veggie_fruit_data/train/tomato/IMG_03426.jpg  \n",
            "  inflating: veggie_fruit_data/train/tomato/IMG_03400.jpg  \n",
            "  inflating: veggie_fruit_data/train/tomato/IMG_03364.jpg  \n",
            "  inflating: veggie_fruit_data/train/tomato/IMG_03409.jpg  \n",
            "  inflating: veggie_fruit_data/train/tomato/IMG_03367.jpg  \n",
            "  inflating: veggie_fruit_data/train/tomato/IMG_6611.JPG  \n",
            "  inflating: veggie_fruit_data/train/tomato/IMG_03417.jpg  \n",
            "  inflating: veggie_fruit_data/train/tomato/IMG_03395.jpg  \n",
            "  inflating: veggie_fruit_data/train/tomato/IMG_03356.jpg  \n",
            "  inflating: veggie_fruit_data/train/tomato/IMG_03401.jpg  \n",
            "  inflating: veggie_fruit_data/train/tomato/IMG_03330.jpg  \n",
            "  inflating: veggie_fruit_data/train/tomato/IMG_03405.jpg  \n",
            "  inflating: veggie_fruit_data/train/tomato/IMG_03342.jpg  \n",
            "  inflating: veggie_fruit_data/train/tomato/IMG_03382.jpg  \n",
            "  inflating: veggie_fruit_data/train/tomato/IMG_03419.jpg  \n",
            "  inflating: veggie_fruit_data/train/tomato/IMG_6617.JPG  \n",
            "  inflating: veggie_fruit_data/train/tomato/IMG_03334.jpg  \n",
            "   creating: veggie_fruit_data/train/celery/\n",
            "  inflating: veggie_fruit_data/train/celery/IMG_5395.JPG  \n",
            "  inflating: veggie_fruit_data/train/celery/IMG_9214.jpg  \n",
            "  inflating: veggie_fruit_data/train/celery/IMG_5394.JPG  \n",
            "  inflating: veggie_fruit_data/train/celery/IMG_9194.jpg  \n",
            "  inflating: veggie_fruit_data/train/celery/IMG_7146.JPG  \n",
            "  inflating: veggie_fruit_data/train/celery/IMG_6980.JPG  \n",
            "  inflating: veggie_fruit_data/train/celery/IMG_6929.JPG  \n",
            "  inflating: veggie_fruit_data/train/celery/IMG_6979.JPG  \n",
            "  inflating: veggie_fruit_data/train/celery/IMG_5397.JPG  \n",
            "  inflating: veggie_fruit_data/train/celery/IMG_6931.JPG  \n",
            "  inflating: veggie_fruit_data/train/celery/IMG_7148.JPG  \n",
            "  inflating: veggie_fruit_data/train/celery/IMG_7145.JPG  \n",
            "  inflating: veggie_fruit_data/train/celery/IMG_5398.JPG  \n",
            "  inflating: veggie_fruit_data/train/celery/IMG_7215.JPG  \n",
            "  inflating: veggie_fruit_data/train/celery/IMG_9216.jpg  \n",
            "  inflating: veggie_fruit_data/train/celery/IMG_9195.jpg  \n",
            "  inflating: veggie_fruit_data/train/celery/IMG_6942.JPG  \n",
            "  inflating: veggie_fruit_data/train/celery/IMG_7147.JPG  \n",
            "  inflating: veggie_fruit_data/train/celery/IMG_6928.JPG  \n",
            "  inflating: veggie_fruit_data/train/celery/IMG_6941.JPG  \n",
            "  inflating: veggie_fruit_data/train/celery/IMG_7214.JPG  \n",
            "  inflating: veggie_fruit_data/train/celery/IMG_6926.JPG  \n",
            "   creating: veggie_fruit_data/train/cabbage/\n",
            "  inflating: veggie_fruit_data/train/cabbage/IMG_9186.jpg  \n",
            "  inflating: veggie_fruit_data/train/cabbage/IMG_03381.jpg  \n",
            "  inflating: veggie_fruit_data/train/cabbage/IMG_03343.jpg  \n",
            "  inflating: veggie_fruit_data/train/cabbage/IMG_03335.jpg  \n",
            "  inflating: veggie_fruit_data/train/cabbage/IMG_03374.jpg  \n",
            "  inflating: veggie_fruit_data/train/cabbage/IMG_03340.jpg  \n",
            "  inflating: veggie_fruit_data/train/cabbage/IMG_9187.jpg  \n",
            "  inflating: veggie_fruit_data/train/cabbage/IMG_03397.jpg  \n",
            "  inflating: veggie_fruit_data/train/cabbage/IMG_03377.jpg  \n",
            "  inflating: veggie_fruit_data/train/cabbage/IMG_03394.jpg  \n",
            "  inflating: veggie_fruit_data/train/cabbage/IMG_03337.jpg  \n",
            "  inflating: veggie_fruit_data/train/cabbage/IMG_03402.jpg  \n",
            "  inflating: veggie_fruit_data/train/cabbage/IMG_9184.jpg  \n",
            "  inflating: veggie_fruit_data/train/cabbage/IMG_03339.jpg  \n",
            "  inflating: veggie_fruit_data/train/cabbage/IMG_03404.jpg  \n",
            "  inflating: veggie_fruit_data/train/cabbage/IMG_03351.jpg  \n",
            "  inflating: veggie_fruit_data/train/cabbage/IMG_03380.jpg  \n",
            "  inflating: veggie_fruit_data/train/cabbage/IMG_03341.jpg  \n",
            "  inflating: veggie_fruit_data/train/cabbage/IMG_03344.jpg  \n",
            "  inflating: veggie_fruit_data/train/cabbage/IMG_03372.jpg  \n",
            "  inflating: veggie_fruit_data/train/cabbage/IMG_03398.jpg  \n",
            "  inflating: veggie_fruit_data/train/cabbage/IMG_03384.jpg  \n",
            "  inflating: veggie_fruit_data/train/cabbage/IMG_03361.jpg  \n",
            "  inflating: veggie_fruit_data/train/cabbage/IMG_03333.jpg  \n",
            "  inflating: veggie_fruit_data/train/cabbage/IMG_03385.jpg  \n",
            "  inflating: veggie_fruit_data/train/cabbage/IMG_03369.jpg  \n",
            "  inflating: veggie_fruit_data/train/cabbage/IMG_03363.jpg  \n",
            "  inflating: veggie_fruit_data/train/cabbage/IMG_03353.jpg  \n",
            "  inflating: veggie_fruit_data/train/cabbage/IMG_03359.jpg  \n",
            "  inflating: veggie_fruit_data/train/cabbage/IMG_03350.jpg  \n",
            "  inflating: veggie_fruit_data/train/cabbage/IMG_03387.jpg  \n",
            "  inflating: veggie_fruit_data/train/cabbage/IMG_03354.jpg  \n",
            "  inflating: veggie_fruit_data/train/cabbage/IMG_03399.jpg  \n",
            "  inflating: veggie_fruit_data/train/cabbage/IMG_03376.jpg  \n",
            "  inflating: veggie_fruit_data/train/cabbage/IMG_03346.jpg  \n",
            "  inflating: veggie_fruit_data/train/cabbage/IMG_03389.jpg  \n",
            "  inflating: veggie_fruit_data/train/cabbage/IMG_03370.jpg  \n",
            "  inflating: veggie_fruit_data/train/cabbage/IMG_03373.jpg  \n",
            "  inflating: veggie_fruit_data/train/cabbage/IMG_03336.jpg  \n",
            "  inflating: veggie_fruit_data/train/cabbage/IMG_03360.jpg  \n",
            "  inflating: veggie_fruit_data/train/cabbage/IMG_03332.jpg  \n",
            "  inflating: veggie_fruit_data/train/cabbage/IMG_03403.jpg  \n",
            "  inflating: veggie_fruit_data/train/cabbage/IMG_03396.jpg  \n",
            "  inflating: veggie_fruit_data/train/cabbage/IMG_03357.jpg  \n",
            "  inflating: veggie_fruit_data/train/cabbage/IMG_03349.jpg  \n",
            "  inflating: veggie_fruit_data/train/cabbage/IMG_03386.jpg  \n",
            "  inflating: veggie_fruit_data/train/cabbage/IMG_03375.jpg  \n",
            "  inflating: veggie_fruit_data/train/cabbage/IMG_03362.jpg  \n",
            "  inflating: veggie_fruit_data/train/cabbage/IMG_9188.jpg  \n",
            "  inflating: veggie_fruit_data/train/cabbage/IMG_03368.jpg  \n",
            "  inflating: veggie_fruit_data/train/cabbage/IMG_9183.jpg  \n",
            "  inflating: veggie_fruit_data/train/cabbage/IMG_03392.jpg  \n",
            "  inflating: veggie_fruit_data/train/cabbage/IMG_03365.jpg  \n",
            "  inflating: veggie_fruit_data/train/cabbage/IMG_03352.jpg  \n",
            "  inflating: veggie_fruit_data/train/cabbage/IMG_03400.jpg  \n",
            "  inflating: veggie_fruit_data/train/cabbage/IMG_9263.jpg  \n",
            "  inflating: veggie_fruit_data/train/cabbage/IMG_03367.jpg  \n",
            "  inflating: veggie_fruit_data/train/cabbage/IMG_03331.jpg  \n",
            "  inflating: veggie_fruit_data/train/cabbage/IMG_03395.jpg  \n",
            "  inflating: veggie_fruit_data/train/cabbage/IMG_9185.jpg  \n",
            "  inflating: veggie_fruit_data/train/cabbage/IMG_03356.jpg  \n",
            "  inflating: veggie_fruit_data/train/cabbage/IMG_03379.jpg  \n",
            "  inflating: veggie_fruit_data/train/cabbage/IMG_03401.jpg  \n",
            "  inflating: veggie_fruit_data/train/cabbage/IMG_03330.jpg  \n",
            "  inflating: veggie_fruit_data/train/cabbage/IMG_03338.jpg  \n",
            "  inflating: veggie_fruit_data/train/cabbage/IMG_03342.jpg  \n",
            "  inflating: veggie_fruit_data/train/cabbage/IMG_03382.jpg  \n",
            "  inflating: veggie_fruit_data/train/cabbage/IMG_03334.jpg  \n",
            "   creating: veggie_fruit_data/train/durian/\n",
            "  inflating: veggie_fruit_data/train/durian/IMG_9091.JPG  \n",
            "  inflating: veggie_fruit_data/train/durian/IMG_9126.JPG  \n",
            "  inflating: veggie_fruit_data/train/durian/IMG_9115.JPG  \n",
            "  inflating: veggie_fruit_data/train/durian/IMG_1176.JPG  \n",
            "  inflating: veggie_fruit_data/train/durian/IMG_9114.JPG  \n",
            "  inflating: veggie_fruit_data/train/durian/IMG_9108.JPG  \n",
            "  inflating: veggie_fruit_data/train/durian/IMG_9096.JPG  \n",
            "  inflating: veggie_fruit_data/train/durian/IMG_9117.JPG  \n",
            "  inflating: veggie_fruit_data/train/durian/IMG_1175.JPG  \n",
            "  inflating: veggie_fruit_data/train/durian/IMG_9110.JPG  \n",
            "  inflating: veggie_fruit_data/train/durian/IMG_9093.JPG  \n",
            "  inflating: veggie_fruit_data/train/durian/IMG_9107.JPG  \n",
            "  inflating: veggie_fruit_data/train/durian/IMG_9089.JPG  \n",
            "  inflating: veggie_fruit_data/train/durian/IMG_9086.JPG  \n",
            "  inflating: veggie_fruit_data/train/durian/IMG_9092.JPG  \n",
            "  inflating: veggie_fruit_data/train/durian/IMG_1177.JPG  \n",
            "  inflating: veggie_fruit_data/train/durian/IMG_9095.JPG  \n",
            "  inflating: veggie_fruit_data/train/durian/IMG_9088.JPG  \n",
            "  inflating: veggie_fruit_data/train/durian/IMG_9124.JPG  \n",
            "  inflating: veggie_fruit_data/train/durian/IMG_9085.JPG  \n",
            "   creating: veggie_fruit_data/train/lemongrass/\n",
            "  inflating: veggie_fruit_data/train/lemongrass/IMG_5562.JPG  \n",
            "  inflating: veggie_fruit_data/train/lemongrass/IMG_5560.JPG  \n",
            "  inflating: veggie_fruit_data/train/lemongrass/IMG_7015.JPG  \n",
            "  inflating: veggie_fruit_data/train/lemongrass/IMG_7017.JPG  \n",
            "  inflating: veggie_fruit_data/train/lemongrass/IMG_7012.JPG  \n",
            "  inflating: veggie_fruit_data/train/lemongrass/IMG_7014.JPG  \n",
            "  inflating: veggie_fruit_data/train/lemongrass/IMG_7019.JPG  \n",
            "  inflating: veggie_fruit_data/train/lemongrass/IMG_7013.JPG  \n",
            "  inflating: veggie_fruit_data/train/lemongrass/IMG_5559.JPG  \n",
            "  inflating: veggie_fruit_data/train/lemongrass/IMG_5556.JPG  \n",
            "  inflating: veggie_fruit_data/train/lemongrass/IMG_7011.JPG  \n",
            "  inflating: veggie_fruit_data/train/lemongrass/IMG_5558.JPG  \n",
            "  inflating: veggie_fruit_data/train/lemongrass/IMG_5554.JPG  \n",
            "  inflating: veggie_fruit_data/train/lemongrass/IMG_7018.JPG  \n",
            "   creating: veggie_fruit_data/train/lacinato_kale/\n",
            "  inflating: veggie_fruit_data/train/lacinato_kale/IMG_3718.jpg  \n",
            "  inflating: veggie_fruit_data/train/lacinato_kale/IMG_3716.jpg  \n",
            "   creating: veggie_fruit_data/train/beets/\n",
            "  inflating: veggie_fruit_data/train/beets/IMG_5374.JPG  \n",
            "  inflating: veggie_fruit_data/train/beets/IMG_3755.JPG  \n",
            "  inflating: veggie_fruit_data/train/beets/IMG_5377.JPG  \n",
            "  inflating: veggie_fruit_data/train/beets/IMG_3754.JPG  \n",
            "  inflating: veggie_fruit_data/train/beets/IMG_3750.JPG  \n",
            "  inflating: veggie_fruit_data/train/beets/IMG_3756.JPG  \n",
            "  inflating: veggie_fruit_data/train/beets/IMG_3753.JPG  \n",
            "  inflating: veggie_fruit_data/train/beets/IMG_5375.JPG  \n",
            "   creating: veggie_fruit_data/train/eggplant/\n",
            "  inflating: veggie_fruit_data/train/eggplant/IMG_03381.jpg  \n",
            "  inflating: veggie_fruit_data/train/eggplant/IMG_0396.jpg  \n",
            "  inflating: veggie_fruit_data/train/eggplant/IMG_7834.jpg  \n",
            "  inflating: veggie_fruit_data/train/eggplant/IMG_1905.JPG  \n",
            "  inflating: veggie_fruit_data/train/eggplant/IMG_03374.jpg  \n",
            "  inflating: veggie_fruit_data/train/eggplant/IMG_8879.jpg  \n",
            "  inflating: veggie_fruit_data/train/eggplant/IMG_1908.JPG  \n",
            "  inflating: veggie_fruit_data/train/eggplant/IMG_0397.jpg  \n",
            "  inflating: veggie_fruit_data/train/eggplant/D6F71FEA-B6A5-4E3F-AE21-1410E6302816.jpg  \n",
            "  inflating: veggie_fruit_data/train/eggplant/IMG_0379.jpg  \n",
            "  inflating: veggie_fruit_data/train/eggplant/IMG_1912.JPG  \n",
            "  inflating: veggie_fruit_data/train/eggplant/IMG_03397.jpg  \n",
            "  inflating: veggie_fruit_data/train/eggplant/IMG_03394.jpg  \n",
            "  inflating: veggie_fruit_data/train/eggplant/IMG_0315.jpg  \n",
            "  inflating: veggie_fruit_data/train/eggplant/IMG_03378.jpg  \n",
            "  inflating: veggie_fruit_data/train/eggplant/IMG_3424.jpg  \n",
            "  inflating: veggie_fruit_data/train/eggplant/IMG_03380.jpg  \n",
            "  inflating: veggie_fruit_data/train/eggplant/IMG_03371.jpg  \n",
            "  inflating: veggie_fruit_data/train/eggplant/IMG_03366.jpg  \n",
            "  inflating: veggie_fruit_data/train/eggplant/IMG_3425.jpg  \n",
            "  inflating: veggie_fruit_data/train/eggplant/IMG_3669.jpg  \n",
            "  inflating: veggie_fruit_data/train/eggplant/IMG_03383.jpg  \n",
            "  inflating: veggie_fruit_data/train/eggplant/IMG_3423.jpg  \n",
            "  inflating: veggie_fruit_data/train/eggplant/IMG_7814.jpg  \n",
            "  inflating: veggie_fruit_data/train/eggplant/IMG_03398.jpg  \n",
            "  inflating: veggie_fruit_data/train/eggplant/IMG_1910.JPG  \n",
            "  inflating: veggie_fruit_data/train/eggplant/IMG_03384.jpg  \n",
            "  inflating: veggie_fruit_data/train/eggplant/IMG_03385.jpg  \n",
            "  inflating: veggie_fruit_data/train/eggplant/IMG_03390.jpg  \n",
            "  inflating: veggie_fruit_data/train/eggplant/IMG_03350.jpg  \n",
            "  inflating: veggie_fruit_data/train/eggplant/IMG_03387.jpg  \n",
            "  inflating: veggie_fruit_data/train/eggplant/IMG_03354.jpg  \n",
            "  inflating: veggie_fruit_data/train/eggplant/IMG_03399.jpg  \n",
            "  inflating: veggie_fruit_data/train/eggplant/IMG_8883.jpg  \n",
            "  inflating: veggie_fruit_data/train/eggplant/IMG_03376.jpg  \n",
            "  inflating: veggie_fruit_data/train/eggplant/IMG_7156.JPG  \n",
            "  inflating: veggie_fruit_data/train/eggplant/IMG_0381.jpg  \n",
            "  inflating: veggie_fruit_data/train/eggplant/IMG_3665.jpg  \n",
            "  inflating: veggie_fruit_data/train/eggplant/IMG_03389.jpg  \n",
            "  inflating: veggie_fruit_data/train/eggplant/IMG_03370.jpg  \n",
            "  inflating: veggie_fruit_data/train/eggplant/IMG_8881.jpg  \n",
            "  inflating: veggie_fruit_data/train/eggplant/IMG_03373.jpg  \n",
            "  inflating: veggie_fruit_data/train/eggplant/IMG_0380.jpg  \n",
            "  inflating: veggie_fruit_data/train/eggplant/IMG_3427.jpg  \n",
            "  inflating: veggie_fruit_data/train/eggplant/IMG_03391.jpg  \n",
            "  inflating: veggie_fruit_data/train/eggplant/IMG_03396.jpg  \n",
            "  inflating: veggie_fruit_data/train/eggplant/IMG_7157.JPG  \n",
            "  inflating: veggie_fruit_data/train/eggplant/IMG_0314.jpg  \n",
            "  inflating: veggie_fruit_data/train/eggplant/IMG_03386.jpg  \n",
            "  inflating: veggie_fruit_data/train/eggplant/IMG_1913.JPG  \n",
            "  inflating: veggie_fruit_data/train/eggplant/IMG_03375.jpg  \n",
            "  inflating: veggie_fruit_data/train/eggplant/IMG_03362.jpg  \n",
            "  inflating: veggie_fruit_data/train/eggplant/IMG_03368.jpg  \n",
            "  inflating: veggie_fruit_data/train/eggplant/IMG_03392.jpg  \n",
            "  inflating: veggie_fruit_data/train/eggplant/IMG_8880.jpg  \n",
            "  inflating: veggie_fruit_data/train/eggplant/IMG_2737.JPG  \n",
            "  inflating: veggie_fruit_data/train/eggplant/IMG_03365.jpg  \n",
            "  inflating: veggie_fruit_data/train/eggplant/IMG_03352.jpg  \n",
            "  inflating: veggie_fruit_data/train/eggplant/IMG_1914.JPG  \n",
            "  inflating: veggie_fruit_data/train/eggplant/IMG_03400.jpg  \n",
            "  inflating: veggie_fruit_data/train/eggplant/IMG_03364.jpg  \n",
            "  inflating: veggie_fruit_data/train/eggplant/IMG_3421.jpg  \n",
            "  inflating: veggie_fruit_data/train/eggplant/IMG_3422.jpg  \n",
            "  inflating: veggie_fruit_data/train/eggplant/IMG_03367.jpg  \n",
            "  inflating: veggie_fruit_data/train/eggplant/IMG_0317.jpg  \n",
            "  inflating: veggie_fruit_data/train/eggplant/IMG_1915.JPG  \n",
            "  inflating: veggie_fruit_data/train/eggplant/IMG_03395.jpg  \n",
            "  inflating: veggie_fruit_data/train/eggplant/IMG_0383.jpg  \n",
            "  inflating: veggie_fruit_data/train/eggplant/IMG_03356.jpg  \n",
            "  inflating: veggie_fruit_data/train/eggplant/IMG_1906.JPG  \n",
            "  inflating: veggie_fruit_data/train/eggplant/IMG_8882.jpg  \n",
            "  inflating: veggie_fruit_data/train/eggplant/IMG_03382.jpg  \n",
            "  inflating: veggie_fruit_data/train/eggplant/IMG_3426.jpg  \n",
            "   creating: veggie_fruit_data/train/potato/\n",
            "  inflating: veggie_fruit_data/train/potato/IMG_5402.JPG  \n",
            "  inflating: veggie_fruit_data/train/potato/IMG_5404.JPG  \n",
            "  inflating: veggie_fruit_data/train/potato/IMG_5401.JPG  \n",
            "  inflating: veggie_fruit_data/train/potato/IMG_5403.JPG  \n",
            "   creating: veggie_fruit_data/train/lemon/\n",
            "  inflating: veggie_fruit_data/train/lemon/IMG_03343.jpg  \n",
            "  inflating: veggie_fruit_data/train/lemon/IMG_03335.jpg  \n",
            "  inflating: veggie_fruit_data/train/lemon/IMG_03337.jpg  \n",
            "  inflating: veggie_fruit_data/train/lemon/IMG_03339.jpg  \n",
            "  inflating: veggie_fruit_data/train/lemon/IMG_03347.jpg  \n",
            "  inflating: veggie_fruit_data/train/lemon/IMG_4873.JPG  \n",
            "  inflating: veggie_fruit_data/train/lemon/IMG_03371.jpg  \n",
            "  inflating: veggie_fruit_data/train/lemon/IMG_03366.jpg  \n",
            "  inflating: veggie_fruit_data/train/lemon/IMG_03341.jpg  \n",
            "  inflating: veggie_fruit_data/train/lemon/IMG_03344.jpg  \n",
            "  inflating: veggie_fruit_data/train/lemon/IMG_03372.jpg  \n",
            "  inflating: veggie_fruit_data/train/lemon/IMG_03361.jpg  \n",
            "  inflating: veggie_fruit_data/train/lemon/IMG_03333.jpg  \n",
            "  inflating: veggie_fruit_data/train/lemon/IMG_03369.jpg  \n",
            "  inflating: veggie_fruit_data/train/lemon/IMG_03355.jpg  \n",
            "  inflating: veggie_fruit_data/train/lemon/IMG_03363.jpg  \n",
            "  inflating: veggie_fruit_data/train/lemon/IMG_03353.jpg  \n",
            "  inflating: veggie_fruit_data/train/lemon/IMG_03359.jpg  \n",
            "  inflating: veggie_fruit_data/train/lemon/IMG_4869.JPG  \n",
            "  inflating: veggie_fruit_data/train/lemon/IMG_03336.jpg  \n",
            "  inflating: veggie_fruit_data/train/lemon/IMG_03348.jpg  \n",
            "  inflating: veggie_fruit_data/train/lemon/IMG_03360.jpg  \n",
            "  inflating: veggie_fruit_data/train/lemon/IMG_03332.jpg  \n",
            "  inflating: veggie_fruit_data/train/lemon/IMG_4871.JPG  \n",
            "  inflating: veggie_fruit_data/train/lemon/IMG_03349.jpg  \n",
            "  inflating: veggie_fruit_data/train/lemon/IMG_03345.jpg  \n",
            "  inflating: veggie_fruit_data/train/lemon/IMG_03368.jpg  \n",
            "  inflating: veggie_fruit_data/train/lemon/IMG_03365.jpg  \n",
            "  inflating: veggie_fruit_data/train/lemon/IMG_03352.jpg  \n",
            "  inflating: veggie_fruit_data/train/lemon/IMG_03364.jpg  \n",
            "  inflating: veggie_fruit_data/train/lemon/IMG_03358.jpg  \n",
            "  inflating: veggie_fruit_data/train/lemon/IMG_03367.jpg  \n",
            "  inflating: veggie_fruit_data/train/lemon/IMG_03331.jpg  \n",
            "  inflating: veggie_fruit_data/train/lemon/IMG_03356.jpg  \n",
            "  inflating: veggie_fruit_data/train/lemon/IMG_03330.jpg  \n",
            "  inflating: veggie_fruit_data/train/lemon/IMG_03338.jpg  \n",
            "  inflating: veggie_fruit_data/train/lemon/IMG_03342.jpg  \n",
            "  inflating: veggie_fruit_data/train/lemon/IMG_4874.JPG  \n",
            "  inflating: veggie_fruit_data/train/lemon/IMG_03334.jpg  \n",
            "   creating: veggie_fruit_data/train/daikon/\n",
            "  inflating: veggie_fruit_data/train/daikon/IMG_4919.JPG  \n",
            "  inflating: veggie_fruit_data/train/daikon/IMG_1251.JPG  \n",
            "  inflating: veggie_fruit_data/train/daikon/IMG_1249.JPG  \n",
            "  inflating: veggie_fruit_data/train/daikon/IMG_4920.JPG  \n",
            "  inflating: veggie_fruit_data/train/daikon/IMG_4922.JPG  \n",
            "  inflating: veggie_fruit_data/train/daikon/IMG_1250.JPG  \n",
            "  inflating: veggie_fruit_data/train/daikon/IMG_2747.JPG  \n",
            "  inflating: veggie_fruit_data/train/daikon/IMG_4921.JPG  \n",
            "   creating: veggie_fruit_data/train/english_peas/\n",
            "  inflating: veggie_fruit_data/train/english_peas/IMG_5411.JPG  \n",
            "  inflating: veggie_fruit_data/train/english_peas/IMG_5410.JPG  \n",
            "  inflating: veggie_fruit_data/train/english_peas/IMG_5412.JPG  \n",
            "  inflating: veggie_fruit_data/train/english_peas/IMG_5409.JPG  \n",
            "   creating: veggie_fruit_data/train/dragon_fruit/\n",
            "  inflating: veggie_fruit_data/train/dragon_fruit/IMG_03381.jpg  \n",
            "  inflating: veggie_fruit_data/train/dragon_fruit/IMG_03343.jpg  \n",
            "  inflating: veggie_fruit_data/train/dragon_fruit/IMG_4886.JPG  \n",
            "  inflating: veggie_fruit_data/train/dragon_fruit/IMG_03335.jpg  \n",
            "  inflating: veggie_fruit_data/train/dragon_fruit/IMG_03340.jpg  \n",
            "  inflating: veggie_fruit_data/train/dragon_fruit/IMG_4882.JPG  \n",
            "  inflating: veggie_fruit_data/train/dragon_fruit/IMG_03377.jpg  \n",
            "  inflating: veggie_fruit_data/train/dragon_fruit/IMG_03394.jpg  \n",
            "  inflating: veggie_fruit_data/train/dragon_fruit/IMG_03337.jpg  \n",
            "  inflating: veggie_fruit_data/train/dragon_fruit/IMG_03339.jpg  \n",
            "  inflating: veggie_fruit_data/train/dragon_fruit/IMG_03378.jpg  \n",
            "  inflating: veggie_fruit_data/train/dragon_fruit/IMG_03347.jpg  \n",
            "  inflating: veggie_fruit_data/train/dragon_fruit/IMG_03351.jpg  \n",
            "  inflating: veggie_fruit_data/train/dragon_fruit/IMG_03380.jpg  \n",
            "  inflating: veggie_fruit_data/train/dragon_fruit/IMG_03371.jpg  \n",
            "  inflating: veggie_fruit_data/train/dragon_fruit/IMG_03366.jpg  \n",
            "  inflating: veggie_fruit_data/train/dragon_fruit/IMG_03383.jpg  \n",
            "  inflating: veggie_fruit_data/train/dragon_fruit/IMG_4881.JPG  \n",
            "  inflating: veggie_fruit_data/train/dragon_fruit/IMG_03341.jpg  \n",
            "  inflating: veggie_fruit_data/train/dragon_fruit/IMG_03344.jpg  \n",
            "  inflating: veggie_fruit_data/train/dragon_fruit/IMG_03384.jpg  \n",
            "  inflating: veggie_fruit_data/train/dragon_fruit/IMG_03361.jpg  \n",
            "  inflating: veggie_fruit_data/train/dragon_fruit/IMG_03333.jpg  \n",
            "  inflating: veggie_fruit_data/train/dragon_fruit/IMG_03369.jpg  \n",
            "  inflating: veggie_fruit_data/train/dragon_fruit/IMG_03355.jpg  \n",
            "  inflating: veggie_fruit_data/train/dragon_fruit/IMG_03363.jpg  \n",
            "  inflating: veggie_fruit_data/train/dragon_fruit/IMG_4884.JPG  \n",
            "  inflating: veggie_fruit_data/train/dragon_fruit/IMG_03353.jpg  \n",
            "  inflating: veggie_fruit_data/train/dragon_fruit/IMG_03359.jpg  \n",
            "  inflating: veggie_fruit_data/train/dragon_fruit/IMG_03350.jpg  \n",
            "  inflating: veggie_fruit_data/train/dragon_fruit/IMG_03376.jpg  \n",
            "  inflating: veggie_fruit_data/train/dragon_fruit/IMG_03346.jpg  \n",
            "  inflating: veggie_fruit_data/train/dragon_fruit/IMG_03389.jpg  \n",
            "  inflating: veggie_fruit_data/train/dragon_fruit/IMG_03370.jpg  \n",
            "  inflating: veggie_fruit_data/train/dragon_fruit/IMG_03373.jpg  \n",
            "  inflating: veggie_fruit_data/train/dragon_fruit/IMG_03336.jpg  \n",
            "  inflating: veggie_fruit_data/train/dragon_fruit/IMG_03348.jpg  \n",
            "  inflating: veggie_fruit_data/train/dragon_fruit/IMG_4885.JPG  \n",
            "  inflating: veggie_fruit_data/train/dragon_fruit/IMG_03360.jpg  \n",
            "  inflating: veggie_fruit_data/train/dragon_fruit/IMG_03332.jpg  \n",
            "  inflating: veggie_fruit_data/train/dragon_fruit/IMG_03391.jpg  \n",
            "  inflating: veggie_fruit_data/train/dragon_fruit/IMG_03349.jpg  \n",
            "  inflating: veggie_fruit_data/train/dragon_fruit/IMG_03386.jpg  \n",
            "  inflating: veggie_fruit_data/train/dragon_fruit/IMG_03375.jpg  \n",
            "  inflating: veggie_fruit_data/train/dragon_fruit/IMG_03368.jpg  \n",
            "  inflating: veggie_fruit_data/train/dragon_fruit/IMG_03392.jpg  \n",
            "  inflating: veggie_fruit_data/train/dragon_fruit/IMG_03365.jpg  \n",
            "  inflating: veggie_fruit_data/train/dragon_fruit/IMG_03352.jpg  \n",
            "  inflating: veggie_fruit_data/train/dragon_fruit/IMG_03364.jpg  \n",
            "  inflating: veggie_fruit_data/train/dragon_fruit/IMG_03358.jpg  \n",
            "  inflating: veggie_fruit_data/train/dragon_fruit/IMG_03331.jpg  \n",
            "  inflating: veggie_fruit_data/train/dragon_fruit/IMG_03338.jpg  \n",
            "  inflating: veggie_fruit_data/train/dragon_fruit/IMG_03342.jpg  \n",
            "  inflating: veggie_fruit_data/train/dragon_fruit/IMG_03382.jpg  \n",
            "  inflating: veggie_fruit_data/train/dragon_fruit/IMG_03334.jpg  \n",
            "  inflating: veggie_fruit_data/train/dragon_fruit/IMG_4883.JPG  \n",
            "   creating: veggie_fruit_data/train/banana/\n",
            "  inflating: veggie_fruit_data/train/banana/IMG_03381.jpg  \n",
            "  inflating: veggie_fruit_data/train/banana/IMG_03343.jpg  \n",
            "  inflating: veggie_fruit_data/train/banana/IMG_1194.JPG  \n",
            "  inflating: veggie_fruit_data/train/banana/IMG_03374.jpg  \n",
            "  inflating: veggie_fruit_data/train/banana/IMG_03340.jpg  \n",
            "  inflating: veggie_fruit_data/train/banana/IMG_1195.JPG  \n",
            "  inflating: veggie_fruit_data/train/banana/IMG_03397.jpg  \n",
            "  inflating: veggie_fruit_data/train/banana/IMG_03377.jpg  \n",
            "  inflating: veggie_fruit_data/train/banana/IMG_03394.jpg  \n",
            "  inflating: veggie_fruit_data/train/banana/IMG_03402.jpg  \n",
            "  inflating: veggie_fruit_data/train/banana/IMG_03378.jpg  \n",
            "  inflating: veggie_fruit_data/train/banana/IMG_03407.jpg  \n",
            "  inflating: veggie_fruit_data/train/banana/IMG_03404.jpg  \n",
            "  inflating: veggie_fruit_data/train/banana/IMG_1192.JPG  \n",
            "  inflating: veggie_fruit_data/train/banana/IMG_03351.jpg  \n",
            "  inflating: veggie_fruit_data/train/banana/IMG_1196.JPG  \n",
            "  inflating: veggie_fruit_data/train/banana/IMG_03380.jpg  \n",
            "  inflating: veggie_fruit_data/train/banana/IMG_03371.jpg  \n",
            "  inflating: veggie_fruit_data/train/banana/IMG_03366.jpg  \n",
            "  inflating: veggie_fruit_data/train/banana/IMG_03383.jpg  \n",
            "  inflating: veggie_fruit_data/train/banana/IMG_03341.jpg  \n",
            "  inflating: veggie_fruit_data/train/banana/IMG_03344.jpg  \n",
            "  inflating: veggie_fruit_data/train/banana/IMG_03372.jpg  \n",
            "  inflating: veggie_fruit_data/train/banana/IMG_03398.jpg  \n",
            "  inflating: veggie_fruit_data/train/banana/IMG_03384.jpg  \n",
            "  inflating: veggie_fruit_data/train/banana/IMG_03333.jpg  \n",
            "  inflating: veggie_fruit_data/train/banana/IMG_03385.jpg  \n",
            "  inflating: veggie_fruit_data/train/banana/IMG_03369.jpg  \n",
            "  inflating: veggie_fruit_data/train/banana/IMG_03390.jpg  \n",
            "  inflating: veggie_fruit_data/train/banana/IMG_03355.jpg  \n",
            "  inflating: veggie_fruit_data/train/banana/IMG_03363.jpg  \n",
            "  inflating: veggie_fruit_data/train/banana/IMG_03353.jpg  \n",
            "  inflating: veggie_fruit_data/train/banana/IMG_03359.jpg  \n",
            "  inflating: veggie_fruit_data/train/banana/IMG_03350.jpg  \n",
            "  inflating: veggie_fruit_data/train/banana/IMG_03387.jpg  \n",
            "  inflating: veggie_fruit_data/train/banana/IMG_03354.jpg  \n",
            "  inflating: veggie_fruit_data/train/banana/IMG_03376.jpg  \n",
            "  inflating: veggie_fruit_data/train/banana/IMG_03346.jpg  \n",
            "  inflating: veggie_fruit_data/train/banana/IMG_03389.jpg  \n",
            "  inflating: veggie_fruit_data/train/banana/IMG_03370.jpg  \n",
            "  inflating: veggie_fruit_data/train/banana/IMG_03373.jpg  \n",
            "  inflating: veggie_fruit_data/train/banana/IMG_03336.jpg  \n",
            "  inflating: veggie_fruit_data/train/banana/IMG_1197.JPG  \n",
            "  inflating: veggie_fruit_data/train/banana/IMG_03348.jpg  \n",
            "  inflating: veggie_fruit_data/train/banana/IMG_03360.jpg  \n",
            "  inflating: veggie_fruit_data/train/banana/IMG_1191.JPG  \n",
            "  inflating: veggie_fruit_data/train/banana/IMG_03332.jpg  \n",
            "  inflating: veggie_fruit_data/train/banana/IMG_03403.jpg  \n",
            "  inflating: veggie_fruit_data/train/banana/IMG_03349.jpg  \n",
            "  inflating: veggie_fruit_data/train/banana/IMG_03345.jpg  \n",
            "  inflating: veggie_fruit_data/train/banana/IMG_03386.jpg  \n",
            "  inflating: veggie_fruit_data/train/banana/IMG_03375.jpg  \n",
            "  inflating: veggie_fruit_data/train/banana/IMG_03408.jpg  \n",
            "  inflating: veggie_fruit_data/train/banana/IMG_03368.jpg  \n",
            "  inflating: veggie_fruit_data/train/banana/IMG_03392.jpg  \n",
            "  inflating: veggie_fruit_data/train/banana/IMG_03365.jpg  \n",
            "  inflating: veggie_fruit_data/train/banana/IMG_03352.jpg  \n",
            "  inflating: veggie_fruit_data/train/banana/IMG_03400.jpg  \n",
            "  inflating: veggie_fruit_data/train/banana/IMG_03364.jpg  \n",
            "  inflating: veggie_fruit_data/train/banana/IMG_03367.jpg  \n",
            "  inflating: veggie_fruit_data/train/banana/IMG_03331.jpg  \n",
            "  inflating: veggie_fruit_data/train/banana/IMG_03395.jpg  \n",
            "  inflating: veggie_fruit_data/train/banana/IMG_03401.jpg  \n",
            "  inflating: veggie_fruit_data/train/banana/IMG_03330.jpg  \n",
            "  inflating: veggie_fruit_data/train/banana/IMG_03338.jpg  \n",
            "  inflating: veggie_fruit_data/train/banana/IMG_03342.jpg  \n",
            "  inflating: veggie_fruit_data/train/banana/IMG_03382.jpg  \n",
            "  inflating: veggie_fruit_data/train/banana/IMG_03334.jpg  \n",
            "   creating: veggie_fruit_data/train/savoy_cabbage/\n",
            "  inflating: veggie_fruit_data/train/savoy_cabbage/IMG_3692.jpg  \n",
            "  inflating: veggie_fruit_data/train/savoy_cabbage/IMG_3691.jpg  \n",
            "   creating: veggie_fruit_data/train/kabocha_squash/\n",
            "  inflating: veggie_fruit_data/train/kabocha_squash/IMG_03440.jpg  \n",
            "  inflating: veggie_fruit_data/train/kabocha_squash/IMG_03494.jpg  \n",
            "  inflating: veggie_fruit_data/train/kabocha_squash/IMG_03477.jpg  \n",
            "  inflating: veggie_fruit_data/train/kabocha_squash/IMG_03470.jpg  \n",
            "  inflating: veggie_fruit_data/train/kabocha_squash/IMG_03442.jpg  \n",
            "  inflating: veggie_fruit_data/train/kabocha_squash/IMG_3660.jpg  \n",
            "  inflating: veggie_fruit_data/train/kabocha_squash/IMG_03467.jpg  \n",
            "  inflating: veggie_fruit_data/train/kabocha_squash/IMG_03445.jpg  \n",
            "  inflating: veggie_fruit_data/train/kabocha_squash/IMG_03455.jpg  \n",
            "  inflating: veggie_fruit_data/train/kabocha_squash/IMG_03443.jpg  \n",
            "  inflating: veggie_fruit_data/train/kabocha_squash/IMG_3659.jpg  \n",
            "  inflating: veggie_fruit_data/train/kabocha_squash/IMG_03486.jpg  \n",
            "  inflating: veggie_fruit_data/train/kabocha_squash/IMG_03482.jpg  \n",
            "  inflating: veggie_fruit_data/train/kabocha_squash/IMG_03453.jpg  \n",
            "  inflating: veggie_fruit_data/train/kabocha_squash/IMG_03479.jpg  \n",
            "  inflating: veggie_fruit_data/train/kabocha_squash/IMG_03469.jpg  \n",
            "  inflating: veggie_fruit_data/train/kabocha_squash/IMG_03483.jpg  \n",
            "  inflating: veggie_fruit_data/train/kabocha_squash/IMG_03444.jpg  \n",
            "  inflating: veggie_fruit_data/train/kabocha_squash/IMG_03471.jpg  \n",
            "  inflating: veggie_fruit_data/train/kabocha_squash/IMG_03480.jpg  \n",
            "  inflating: veggie_fruit_data/train/kabocha_squash/IMG_03441.jpg  \n",
            "  inflating: veggie_fruit_data/train/kabocha_squash/IMG_3662.jpg  \n",
            "  inflating: veggie_fruit_data/train/kabocha_squash/IMG_03485.jpg  \n",
            "  inflating: veggie_fruit_data/train/kabocha_squash/IMG_03460.jpg  \n",
            "  inflating: veggie_fruit_data/train/kabocha_squash/IMG_03468.jpg  \n",
            "  inflating: veggie_fruit_data/train/kabocha_squash/IMG_03452.jpg  \n",
            "  inflating: veggie_fruit_data/train/kabocha_squash/IMG_03473.jpg  \n",
            "  inflating: veggie_fruit_data/train/kabocha_squash/IMG_03487.jpg  \n",
            "  inflating: veggie_fruit_data/train/kabocha_squash/IMG_03450.jpg  \n",
            "  inflating: veggie_fruit_data/train/kabocha_squash/IMG_03436.jpg  \n",
            "  inflating: veggie_fruit_data/train/kabocha_squash/IMG_03462.jpg  \n",
            "  inflating: veggie_fruit_data/train/kabocha_squash/IMG_03481.jpg  \n",
            "  inflating: veggie_fruit_data/train/kabocha_squash/IMG_03457.jpg  \n",
            "  inflating: veggie_fruit_data/train/kabocha_squash/IMG_03437.jpg  \n",
            "  inflating: veggie_fruit_data/train/kabocha_squash/IMG_03439.jpg  \n",
            "  inflating: veggie_fruit_data/train/kabocha_squash/IMG_03454.jpg  \n",
            "  inflating: veggie_fruit_data/train/kabocha_squash/IMG_03472.jpg  \n",
            "  inflating: veggie_fruit_data/train/kabocha_squash/IMG_03461.jpg  \n",
            "  inflating: veggie_fruit_data/train/kabocha_squash/IMG_03459.jpg  \n",
            "  inflating: veggie_fruit_data/train/kabocha_squash/IMG_03491.jpg  \n",
            "  inflating: veggie_fruit_data/train/kabocha_squash/IMG_03448.jpg  \n",
            "  inflating: veggie_fruit_data/train/kabocha_squash/IMG_03449.jpg  \n",
            "  inflating: veggie_fruit_data/train/kabocha_squash/IMG_03447.jpg  \n",
            "  inflating: veggie_fruit_data/train/kabocha_squash/IMG_03465.jpg  \n",
            "  inflating: veggie_fruit_data/train/kabocha_squash/IMG_03458.jpg  \n",
            "  inflating: veggie_fruit_data/train/kabocha_squash/IMG_03489.jpg  \n",
            "  inflating: veggie_fruit_data/train/kabocha_squash/IMG_03488.jpg  \n",
            "  inflating: veggie_fruit_data/train/kabocha_squash/IMG_03463.jpg  \n",
            "  inflating: veggie_fruit_data/train/kabocha_squash/IMG_03478.jpg  \n",
            "  inflating: veggie_fruit_data/train/kabocha_squash/IMG_03474.jpg  \n",
            "   creating: veggie_fruit_data/train/curly_leaf_kale/\n",
            "  inflating: veggie_fruit_data/train/curly_leaf_kale/IMG_3713.jpg  \n",
            "  inflating: veggie_fruit_data/train/curly_leaf_kale/IMG_3711.jpg  \n",
            "   creating: veggie_fruit_data/train/dandelion_greens/\n",
            "  inflating: veggie_fruit_data/train/dandelion_greens/IMG_3739.jpg  \n",
            "  inflating: veggie_fruit_data/train/dandelion_greens/IMG_3741.jpg  \n",
            "   creating: veggie_fruit_data/train/green_onion/\n",
            "  inflating: veggie_fruit_data/train/green_onion/IMG_03388.jpg  \n",
            "  inflating: veggie_fruit_data/train/green_onion/IMG_03381.jpg  \n",
            "  inflating: veggie_fruit_data/train/green_onion/IMG_03418.jpg  \n",
            "  inflating: veggie_fruit_data/train/green_onion/IMG_03427.jpg  \n",
            "  inflating: veggie_fruit_data/train/green_onion/IMG_03343.jpg  \n",
            "  inflating: veggie_fruit_data/train/green_onion/IMG_3173.jpg  \n",
            "  inflating: veggie_fruit_data/train/green_onion/IMG_03335.jpg  \n",
            "  inflating: veggie_fruit_data/train/green_onion/IMG_03423.jpg  \n",
            "  inflating: veggie_fruit_data/train/green_onion/IMG_0303.jpg  \n",
            "  inflating: veggie_fruit_data/train/green_onion/IMG_0483.jpg  \n",
            "  inflating: veggie_fruit_data/train/green_onion/IMG_03374.jpg  \n",
            "  inflating: veggie_fruit_data/train/green_onion/IMG_0113.jpg  \n",
            "  inflating: veggie_fruit_data/train/green_onion/IMG_8675.jpg  \n",
            "  inflating: veggie_fruit_data/train/green_onion/IMG_03406.jpg  \n",
            "  inflating: veggie_fruit_data/train/green_onion/IMG_9501.jpg  \n",
            "  inflating: veggie_fruit_data/train/green_onion/IMG_03340.jpg  \n",
            "  inflating: veggie_fruit_data/train/green_onion/IMG_03415.jpg  \n",
            "  inflating: veggie_fruit_data/train/green_onion/IMG_03377.jpg  \n",
            "  inflating: veggie_fruit_data/train/green_onion/IMG_03394.jpg  \n",
            "  inflating: veggie_fruit_data/train/green_onion/IMG_03337.jpg  \n",
            "  inflating: veggie_fruit_data/train/green_onion/IMG_03416.jpg  \n",
            "  inflating: veggie_fruit_data/train/green_onion/IMG_03402.jpg  \n",
            "  inflating: veggie_fruit_data/train/green_onion/IMG_4897.JPG  \n",
            "  inflating: veggie_fruit_data/train/green_onion/IMG_03339.jpg  \n",
            "  inflating: veggie_fruit_data/train/green_onion/IMG_9502.jpg  \n",
            "  inflating: veggie_fruit_data/train/green_onion/IMG_03378.jpg  \n",
            "  inflating: veggie_fruit_data/train/green_onion/IMG_03421.jpg  \n",
            "  inflating: veggie_fruit_data/train/green_onion/IMG_03407.jpg  \n",
            "  inflating: veggie_fruit_data/train/green_onion/IMG_3217.jpg  \n",
            "  inflating: veggie_fruit_data/train/green_onion/IMG_03404.jpg  \n",
            "  inflating: veggie_fruit_data/train/green_onion/IMG_03347.jpg  \n",
            "  inflating: veggie_fruit_data/train/green_onion/IMG_03351.jpg  \n",
            "  inflating: veggie_fruit_data/train/green_onion/IMG_03380.jpg  \n",
            "  inflating: veggie_fruit_data/train/green_onion/IMG_03371.jpg  \n",
            "  inflating: veggie_fruit_data/train/green_onion/IMG_03425.jpg  \n",
            "  inflating: veggie_fruit_data/train/green_onion/IMG_3219.jpg  \n",
            "  inflating: veggie_fruit_data/train/green_onion/IMG_03412.jpg  \n",
            "  inflating: veggie_fruit_data/train/green_onion/IMG_0471.jpg  \n",
            "  inflating: veggie_fruit_data/train/green_onion/IMG_3171.jpg  \n",
            "  inflating: veggie_fruit_data/train/green_onion/IMG_03413.jpg  \n",
            "  inflating: veggie_fruit_data/train/green_onion/IMG_03344.jpg  \n",
            "  inflating: veggie_fruit_data/train/green_onion/IMG_03372.jpg  \n",
            "  inflating: veggie_fruit_data/train/green_onion/IMG_8674.jpg  \n",
            "  inflating: veggie_fruit_data/train/green_onion/IMG_1263.JPG  \n",
            "  inflating: veggie_fruit_data/train/green_onion/IMG_03384.jpg  \n",
            "  inflating: veggie_fruit_data/train/green_onion/IMG_03361.jpg  \n",
            "  inflating: veggie_fruit_data/train/green_onion/IMG_03385.jpg  \n",
            "  inflating: veggie_fruit_data/train/green_onion/IMG_03369.jpg  \n",
            "  inflating: veggie_fruit_data/train/green_onion/IMG_3172.jpg  \n",
            "  inflating: veggie_fruit_data/train/green_onion/IMG_03355.jpg  \n",
            "  inflating: veggie_fruit_data/train/green_onion/IMG_03363.jpg  \n",
            "  inflating: veggie_fruit_data/train/green_onion/IMG_03353.jpg  \n",
            "  inflating: veggie_fruit_data/train/green_onion/IMG_03359.jpg  \n",
            "  inflating: veggie_fruit_data/train/green_onion/IMG_03350.jpg  \n",
            "  inflating: veggie_fruit_data/train/green_onion/IMG_03387.jpg  \n",
            "  inflating: veggie_fruit_data/train/green_onion/IMG_1264.JPG  \n",
            "  inflating: veggie_fruit_data/train/green_onion/IMG_03354.jpg  \n",
            "  inflating: veggie_fruit_data/train/green_onion/IMG_03376.jpg  \n",
            "  inflating: veggie_fruit_data/train/green_onion/IMG_0333.jpg  \n",
            "  inflating: veggie_fruit_data/train/green_onion/IMG_03346.jpg  \n",
            "  inflating: veggie_fruit_data/train/green_onion/IMG_03389.jpg  \n",
            "  inflating: veggie_fruit_data/train/green_onion/IMG_03370.jpg  \n",
            "  inflating: veggie_fruit_data/train/green_onion/IMG_03373.jpg  \n",
            "  inflating: veggie_fruit_data/train/green_onion/IMG_03393.jpg  \n",
            "  inflating: veggie_fruit_data/train/green_onion/IMG_03336.jpg  \n",
            "  inflating: veggie_fruit_data/train/green_onion/IMG_03348.jpg  \n",
            "  inflating: veggie_fruit_data/train/green_onion/IMG_8676.jpg  \n",
            "  inflating: veggie_fruit_data/train/green_onion/IMG_4893.JPG  \n",
            "  inflating: veggie_fruit_data/train/green_onion/IMG_03360.jpg  \n",
            "  inflating: veggie_fruit_data/train/green_onion/IMG_1265.JPG  \n",
            "  inflating: veggie_fruit_data/train/green_onion/IMG_03332.jpg  \n",
            "  inflating: veggie_fruit_data/train/green_onion/IMG_03403.jpg  \n",
            "  inflating: veggie_fruit_data/train/green_onion/IMG_03391.jpg  \n",
            "  inflating: veggie_fruit_data/train/green_onion/IMG_03396.jpg  \n",
            "  inflating: veggie_fruit_data/train/green_onion/IMG_03349.jpg  \n",
            "  inflating: veggie_fruit_data/train/green_onion/IMG_03345.jpg  \n",
            "  inflating: veggie_fruit_data/train/green_onion/IMG_03386.jpg  \n",
            "  inflating: veggie_fruit_data/train/green_onion/IMG_03410.jpg  \n",
            "  inflating: veggie_fruit_data/train/green_onion/IMG_03375.jpg  \n",
            "  inflating: veggie_fruit_data/train/green_onion/IMG_03362.jpg  \n",
            "  inflating: veggie_fruit_data/train/green_onion/IMG_4894.JPG  \n",
            "  inflating: veggie_fruit_data/train/green_onion/IMG_03424.jpg  \n",
            "  inflating: veggie_fruit_data/train/green_onion/IMG_03408.jpg  \n",
            "  inflating: veggie_fruit_data/train/green_onion/IMG_03392.jpg  \n",
            "  inflating: veggie_fruit_data/train/green_onion/IMG_03365.jpg  \n",
            "  inflating: veggie_fruit_data/train/green_onion/IMG_03352.jpg  \n",
            "  inflating: veggie_fruit_data/train/green_onion/IMG_4896.JPG  \n",
            "  inflating: veggie_fruit_data/train/green_onion/IMG_03400.jpg  \n",
            "  inflating: veggie_fruit_data/train/green_onion/IMG_03364.jpg  \n",
            "  inflating: veggie_fruit_data/train/green_onion/IMG_4898.JPG  \n",
            "  inflating: veggie_fruit_data/train/green_onion/IMG_03420.jpg  \n",
            "  inflating: veggie_fruit_data/train/green_onion/IMG_03367.jpg  \n",
            "  inflating: veggie_fruit_data/train/green_onion/IMG_03331.jpg  \n",
            "  inflating: veggie_fruit_data/train/green_onion/IMG_3170.jpg  \n",
            "  inflating: veggie_fruit_data/train/green_onion/IMG_03417.jpg  \n",
            "  inflating: veggie_fruit_data/train/green_onion/IMG_03395.jpg  \n",
            "  inflating: veggie_fruit_data/train/green_onion/IMG_1267.JPG  \n",
            "  inflating: veggie_fruit_data/train/green_onion/IMG_4899.JPG  \n",
            "  inflating: veggie_fruit_data/train/green_onion/IMG_4895.JPG  \n",
            "  inflating: veggie_fruit_data/train/green_onion/IMG_03401.jpg  \n",
            "  inflating: veggie_fruit_data/train/green_onion/IMG_03330.jpg  \n",
            "  inflating: veggie_fruit_data/train/green_onion/IMG_03405.jpg  \n",
            "  inflating: veggie_fruit_data/train/green_onion/IMG_3218.jpg  \n",
            "  inflating: veggie_fruit_data/train/green_onion/IMG_03382.jpg  \n",
            "  inflating: veggie_fruit_data/train/green_onion/IMG_0115.jpg  \n",
            "  inflating: veggie_fruit_data/train/green_onion/IMG_03419.jpg  \n",
            "  inflating: veggie_fruit_data/train/green_onion/IMG_0114.jpg  \n",
            "  inflating: veggie_fruit_data/train/green_onion/IMG_03334.jpg  \n",
            "   creating: veggie_fruit_data/train/carrot/\n",
            "  inflating: veggie_fruit_data/train/carrot/IMG_9256.jpg  \n",
            "  inflating: veggie_fruit_data/train/carrot/IMG_7227.JPG  \n",
            "  inflating: veggie_fruit_data/train/carrot/IMG_9210.jpg  \n",
            "  inflating: veggie_fruit_data/train/carrot/IMG_2743.JPG  \n",
            "  inflating: veggie_fruit_data/train/carrot/IMG_8851.jpg  \n",
            "  inflating: veggie_fruit_data/train/carrot/IMG_8853.jpg  \n",
            "  inflating: veggie_fruit_data/train/carrot/IMG_8852.jpg  \n",
            "  inflating: veggie_fruit_data/train/carrot/IMG_3204.jpg  \n",
            "  inflating: veggie_fruit_data/train/carrot/IMG_7225.JPG  \n",
            "  inflating: veggie_fruit_data/train/carrot/IMG_9253.heic  \n",
            "  inflating: veggie_fruit_data/train/carrot/IMG_9199.jpg  \n",
            "  inflating: veggie_fruit_data/train/carrot/IMG_9200.jpg  \n",
            "  inflating: veggie_fruit_data/train/carrot/IMG_9255.jpg  \n",
            "  inflating: veggie_fruit_data/train/carrot/IMG_7226.JPG  \n",
            "  inflating: veggie_fruit_data/train/carrot/IMG_9254.jpg  \n",
            "  inflating: veggie_fruit_data/train/carrot/IMG_9209.jpg  \n",
            "  inflating: veggie_fruit_data/train/carrot/IMG_7223.JPG  \n",
            "  inflating: veggie_fruit_data/train/carrot/IMG_3203.jpg  \n",
            "  inflating: veggie_fruit_data/train/carrot/IMG_8666.jpg  \n",
            "  inflating: veggie_fruit_data/train/carrot/IMG_7228.JPG  \n",
            "  inflating: veggie_fruit_data/train/carrot/IMG_3205.jpg  \n",
            "  inflating: veggie_fruit_data/train/carrot/IMG_9196.jpg  \n",
            "  inflating: veggie_fruit_data/train/carrot/IMG_9207.jpg  \n",
            "  inflating: veggie_fruit_data/train/carrot/IMG_9197.jpg  \n",
            "  inflating: veggie_fruit_data/train/carrot/IMG_8699.JPG  \n",
            "   creating: veggie_fruit_data/train/leeks/\n",
            "  inflating: veggie_fruit_data/train/leeks/IMG_3746.JPG  \n",
            "  inflating: veggie_fruit_data/train/leeks/IMG_3743.JPG  \n",
            "  inflating: veggie_fruit_data/train/leeks/IMG_3744.JPG  \n",
            "  inflating: veggie_fruit_data/train/leeks/IMG_3747.JPG  \n",
            "   creating: veggie_fruit_data/train/asparagus/\n",
            "  inflating: veggie_fruit_data/train/asparagus/IMG_1888.JPG  \n",
            "  inflating: veggie_fruit_data/train/asparagus/IMG_1893.JPG  \n",
            "  inflating: veggie_fruit_data/train/asparagus/IMG_1890.JPG  \n",
            "  inflating: veggie_fruit_data/train/asparagus/IMG_1897.JPG  \n",
            "  inflating: veggie_fruit_data/train/asparagus/IMG_1894.JPG  \n",
            "  inflating: veggie_fruit_data/train/asparagus/IMG_1895.JPG  \n",
            "  inflating: veggie_fruit_data/train/asparagus/IMG_1896.JPG  \n",
            "  inflating: veggie_fruit_data/train/asparagus/IMG_1898.JPG  \n",
            "  inflating: veggie_fruit_data/train/asparagus/IMG_1892.JPG  \n",
            "  inflating: veggie_fruit_data/train/asparagus/IMG_1886.JPG  \n",
            "   creating: veggie_fruit_data/train/baby_head_lettuce/\n",
            "  inflating: veggie_fruit_data/train/baby_head_lettuce/IMG_5372.JPG  \n",
            "  inflating: veggie_fruit_data/train/baby_head_lettuce/IMG_5371.JPG  \n",
            "  inflating: veggie_fruit_data/train/baby_head_lettuce/IMG_5370.JPG  \n",
            "  inflating: veggie_fruit_data/train/baby_head_lettuce/IMG_5369.JPG  \n",
            "   creating: veggie_fruit_data/train/korean_radish/\n",
            "  inflating: veggie_fruit_data/train/korean_radish/IMG_1281.JPG  \n",
            "  inflating: veggie_fruit_data/train/korean_radish/IMG_1279.JPG  \n",
            "  inflating: veggie_fruit_data/train/korean_radish/IMG_1276.JPG  \n",
            "  inflating: veggie_fruit_data/train/korean_radish/IMG_1280.JPG  \n",
            "  inflating: veggie_fruit_data/train/korean_radish/IMG_1278.JPG  \n",
            "  inflating: veggie_fruit_data/train/korean_radish/IMG_1283.JPG  \n",
            "   creating: veggie_fruit_data/train/rainbow_chard/\n",
            "  inflating: veggie_fruit_data/train/rainbow_chard/IMG_3725.jpg  \n",
            "   creating: veggie_fruit_data/train/pomegranate/\n",
            "  inflating: veggie_fruit_data/train/pomegranate/IMG_6619.JPG  \n",
            "  inflating: veggie_fruit_data/train/pomegranate/IMG_6620.JPG  \n",
            "  inflating: veggie_fruit_data/train/pomegranate/IMG_6623.JPG  \n",
            "  inflating: veggie_fruit_data/train/pomegranate/IMG_6629.JPG  \n",
            "  inflating: veggie_fruit_data/train/pomegranate/IMG_7277.JPG  \n",
            "  inflating: veggie_fruit_data/train/pomegranate/IMG_6626.JPG  \n",
            "  inflating: veggie_fruit_data/train/pomegranate/IMG_7305.JPG  \n",
            "  inflating: veggie_fruit_data/train/pomegranate/IMG_6624.JPG  \n",
            "  inflating: veggie_fruit_data/train/pomegranate/IMG_9244.jpg  \n",
            "  inflating: veggie_fruit_data/train/pomegranate/IMG_6622.JPG  \n",
            "  inflating: veggie_fruit_data/train/pomegranate/IMG_9242.jpg  \n",
            "  inflating: veggie_fruit_data/train/pomegranate/IMG_9241.jpg  \n",
            "  inflating: veggie_fruit_data/train/pomegranate/IMG_6628.JPG  \n",
            "  inflating: veggie_fruit_data/train/pomegranate/IMG_7279.JPG  \n",
            "  inflating: veggie_fruit_data/train/pomegranate/IMG_6625.JPG  \n",
            "  inflating: veggie_fruit_data/train/pomegranate/IMG_6627.JPG  \n",
            "  inflating: veggie_fruit_data/train/pomegranate/IMG_9243.jpg  \n",
            "  inflating: veggie_fruit_data/train/pomegranate/IMG_7302.JPG  \n",
            "  inflating: veggie_fruit_data/train/pomegranate/IMG_7301.JPG  \n",
            "  inflating: veggie_fruit_data/train/pomegranate/IMG_9240.jpg  \n",
            "   creating: veggie_fruit_data/train/sugar_snap_peas/\n",
            "  inflating: veggie_fruit_data/train/sugar_snap_peas/IMG_5385.JPG  \n",
            "  inflating: veggie_fruit_data/train/sugar_snap_peas/IMG_5387.JPG  \n",
            "   creating: veggie_fruit_data/train/long_bean/\n",
            "  inflating: veggie_fruit_data/train/long_bean/IMG_6607.JPG  \n",
            "  inflating: veggie_fruit_data/train/long_bean/IMG_6608.JPG  \n",
            "  inflating: veggie_fruit_data/train/long_bean/IMG_5537.JPG  \n",
            "  inflating: veggie_fruit_data/train/long_bean/IMG_7158.JPG  \n",
            "  inflating: veggie_fruit_data/train/long_bean/IMG_5532.JPG  \n",
            "  inflating: veggie_fruit_data/train/long_bean/IMG_5529.JPG  \n",
            "  inflating: veggie_fruit_data/train/long_bean/IMG_7161.JPG  \n",
            "  inflating: veggie_fruit_data/train/long_bean/IMG_7108.JPG  \n",
            "  inflating: veggie_fruit_data/train/long_bean/IMG_7107.JPG  \n",
            "  inflating: veggie_fruit_data/train/long_bean/IMG_7109.JPG  \n",
            "  inflating: veggie_fruit_data/train/long_bean/IMG_5540.JPG  \n",
            "  inflating: veggie_fruit_data/train/long_bean/IMG_6603.JPG  \n",
            "  inflating: veggie_fruit_data/train/long_bean/IMG_5531.JPG  \n",
            "  inflating: veggie_fruit_data/train/long_bean/IMG_7110.JPG  \n",
            "  inflating: veggie_fruit_data/train/long_bean/IMG_7112.JPG  \n",
            "  inflating: veggie_fruit_data/train/long_bean/IMG_5530.JPG  \n",
            "  inflating: veggie_fruit_data/train/long_bean/IMG_7006.JPG  \n",
            "  inflating: veggie_fruit_data/train/long_bean/IMG_7008.JPG  \n",
            "  inflating: veggie_fruit_data/train/long_bean/IMG_5539.JPG  \n",
            "  inflating: veggie_fruit_data/train/long_bean/IMG_7111.JPG  \n",
            "  inflating: veggie_fruit_data/train/long_bean/IMG_5538.JPG  \n",
            "   creating: veggie_fruit_data/train/collard/\n",
            "  inflating: veggie_fruit_data/train/collard/IMG_3737.jpg  \n",
            "  inflating: veggie_fruit_data/train/collard/IMG_3735.jpg  \n",
            "   creating: veggie_fruit_data/train/okra/\n",
            "  inflating: veggie_fruit_data/train/okra/IMG_6990.JPG  \n",
            "  inflating: veggie_fruit_data/train/okra/IMG_8836.jpg  \n",
            "  inflating: veggie_fruit_data/train/okra/IMG_8838.jpg  \n",
            "  inflating: veggie_fruit_data/train/okra/IMG_8636.jpg  \n",
            "  inflating: veggie_fruit_data/train/okra/IMG_6989.JPG  \n",
            "  inflating: veggie_fruit_data/train/okra/IMG_8681.jpg  \n",
            "  inflating: veggie_fruit_data/train/okra/IMG_7124.JPG  \n",
            "  inflating: veggie_fruit_data/train/okra/IMG_5527.JPG  \n",
            "  inflating: veggie_fruit_data/train/okra/IMG_5521.JPG  \n",
            "  inflating: veggie_fruit_data/train/okra/IMG_0376.jpg  \n",
            "  inflating: veggie_fruit_data/train/okra/IMG_6988.JPG  \n",
            "  inflating: veggie_fruit_data/train/okra/IMG_8834.jpg  \n",
            "  inflating: veggie_fruit_data/train/okra/IMG_7316.JPG  \n",
            "  inflating: veggie_fruit_data/train/okra/IMG_8637.jpg  \n",
            "  inflating: veggie_fruit_data/train/okra/IMG_7122.JPG  \n",
            "  inflating: veggie_fruit_data/train/okra/IMG_5526.JPG  \n",
            "  inflating: veggie_fruit_data/train/okra/IMG_8683.jpg  \n",
            "  inflating: veggie_fruit_data/train/okra/IMG_8835.jpg  \n",
            "  inflating: veggie_fruit_data/train/okra/IMG_8837.jpg  \n",
            "  inflating: veggie_fruit_data/train/okra/IMG_5525.JPG  \n",
            "  inflating: veggie_fruit_data/train/okra/IMG_8635.jpg  \n",
            "  inflating: veggie_fruit_data/train/okra/IMG_8682.jpg  \n",
            "  inflating: veggie_fruit_data/train/okra/IMG_0377.jpg  \n",
            "  inflating: veggie_fruit_data/train/okra/IMG_5524.JPG  \n",
            "   creating: veggie_fruit_data/train/onion/\n",
            "  inflating: veggie_fruit_data/train/onion/IMG_3438.jpg  \n",
            "  inflating: veggie_fruit_data/train/onion/IMG_7781.jpg  \n",
            "  inflating: veggie_fruit_data/train/onion/IMG_3353.jpg  \n",
            "  inflating: veggie_fruit_data/train/onion/IMG_3355.jpg  \n",
            "  inflating: veggie_fruit_data/train/onion/IMG_0295.jpg  \n",
            "  inflating: veggie_fruit_data/train/onion/IMG_9261.jpg  \n",
            "  inflating: veggie_fruit_data/train/onion/IMG_7782.jpg  \n",
            "  inflating: veggie_fruit_data/train/onion/IMG_7757.jpg  \n",
            "  inflating: veggie_fruit_data/train/onion/IMG_0297.jpg  \n",
            "  inflating: veggie_fruit_data/train/onion/IMG_3354.jpg  \n",
            "  inflating: veggie_fruit_data/train/onion/IMG_7758.jpg  \n",
            "  inflating: veggie_fruit_data/train/onion/IMG_0296.jpg  \n",
            "  inflating: veggie_fruit_data/train/onion/IMG_3441.jpg  \n",
            "  inflating: veggie_fruit_data/train/onion/IMG_9260.jpg  \n",
            "   creating: veggie_fruit_data/train/lime/\n",
            "  inflating: veggie_fruit_data/train/lime/IMG_03343.jpg  \n",
            "  inflating: veggie_fruit_data/train/lime/IMG_03335.jpg  \n",
            "  inflating: veggie_fruit_data/train/lime/IMG_4867.JPG  \n",
            "  inflating: veggie_fruit_data/train/lime/IMG_2155.JPG  \n",
            "  inflating: veggie_fruit_data/train/lime/IMG_4864.JPG  \n",
            "  inflating: veggie_fruit_data/train/lime/IMG_03340.jpg  \n",
            "  inflating: veggie_fruit_data/train/lime/IMG_03339.jpg  \n",
            "  inflating: veggie_fruit_data/train/lime/IMG_4865.JPG  \n",
            "  inflating: veggie_fruit_data/train/lime/IMG_4868.JPG  \n",
            "  inflating: veggie_fruit_data/train/lime/IMG_2154.JPG  \n",
            "  inflating: veggie_fruit_data/train/lime/IMG_03341.jpg  \n",
            "  inflating: veggie_fruit_data/train/lime/IMG_03344.jpg  \n",
            "  inflating: veggie_fruit_data/train/lime/IMG_03333.jpg  \n",
            "  inflating: veggie_fruit_data/train/lime/IMG_4866.JPG  \n",
            "  inflating: veggie_fruit_data/train/lime/IMG_03350.jpg  \n",
            "  inflating: veggie_fruit_data/train/lime/IMG_4863.JPG  \n",
            "  inflating: veggie_fruit_data/train/lime/IMG_03346.jpg  \n",
            "  inflating: veggie_fruit_data/train/lime/IMG_03336.jpg  \n",
            "  inflating: veggie_fruit_data/train/lime/IMG_03348.jpg  \n",
            "  inflating: veggie_fruit_data/train/lime/IMG_2161.JPG  \n",
            "  inflating: veggie_fruit_data/train/lime/IMG_2157.JPG  \n",
            "  inflating: veggie_fruit_data/train/lime/IMG_03332.jpg  \n",
            "  inflating: veggie_fruit_data/train/lime/IMG_2156.JPG  \n",
            "  inflating: veggie_fruit_data/train/lime/IMG_03349.jpg  \n",
            "  inflating: veggie_fruit_data/train/lime/IMG_03345.jpg  \n",
            "  inflating: veggie_fruit_data/train/lime/IMG_2158.JPG  \n",
            "  inflating: veggie_fruit_data/train/lime/IMG_03331.jpg  \n",
            "  inflating: veggie_fruit_data/train/lime/IMG_03334.jpg  \n",
            "   creating: veggie_fruit_data/train/summer_squash/\n",
            "  inflating: veggie_fruit_data/train/summer_squash/IMG_5414.JPG  \n",
            "  inflating: veggie_fruit_data/train/summer_squash/IMG_5417.JPG  \n",
            "  inflating: veggie_fruit_data/train/summer_squash/IMG_5418.JPG  \n",
            "  inflating: veggie_fruit_data/train/summer_squash/IMG_5420.JPG  \n",
            "  inflating: veggie_fruit_data/train/summer_squash/IMG_5416.JPG  \n",
            "  inflating: veggie_fruit_data/train/summer_squash/IMG_5419.JPG  \n",
            "   creating: veggie_fruit_data/train/cantaloupe/\n",
            "  inflating: veggie_fruit_data/train/cantaloupe/IMG_2134.JPG  \n",
            "  inflating: veggie_fruit_data/train/cantaloupe/IMG_2136.JPG  \n",
            "  inflating: veggie_fruit_data/train/cantaloupe/IMG_2133.JPG  \n",
            "  inflating: veggie_fruit_data/train/cantaloupe/IMG_2137.JPG  \n",
            "  inflating: veggie_fruit_data/train/cantaloupe/IMG_2132.JPG  \n",
            "  inflating: veggie_fruit_data/train/cantaloupe/IMG_2135.JPG  \n",
            "   creating: veggie_fruit_data/train/cilantro/\n",
            "  inflating: veggie_fruit_data/train/cilantro/IMG_9181.jpg  \n",
            "  inflating: veggie_fruit_data/train/cilantro/IMG_9180.jpg  \n",
            "   creating: veggie_fruit_data/train/red_chicory/\n",
            "  inflating: veggie_fruit_data/train/red_chicory/IMG_3687.jpg  \n",
            "  inflating: veggie_fruit_data/train/red_chicory/IMG_3688.jpg  \n",
            "   creating: veggie_fruit_data/train/yellow_peach/\n",
            "  inflating: veggie_fruit_data/train/yellow_peach/IMG_7716.jpg  \n",
            "  inflating: veggie_fruit_data/train/yellow_peach/IMG_7870.jpg  \n",
            "  inflating: veggie_fruit_data/train/yellow_peach/IMG_7871.jpg  \n",
            "   creating: veggie_fruit_data/train/corn/\n",
            "  inflating: veggie_fruit_data/train/corn/IMG_1254.JPG  \n",
            "  inflating: veggie_fruit_data/train/corn/IMG_03335.jpg  \n",
            "  inflating: veggie_fruit_data/train/corn/IMG_03374.jpg  \n",
            "  inflating: veggie_fruit_data/train/corn/IMG_1252.JPG  \n",
            "  inflating: veggie_fruit_data/train/corn/IMG_03340.jpg  \n",
            "  inflating: veggie_fruit_data/train/corn/IMG_03377.jpg  \n",
            "  inflating: veggie_fruit_data/train/corn/IMG_03337.jpg  \n",
            "  inflating: veggie_fruit_data/train/corn/IMG_7101.JPG  \n",
            "  inflating: veggie_fruit_data/train/corn/IMG_03339.jpg  \n",
            "  inflating: veggie_fruit_data/train/corn/IMG_03378.jpg  \n",
            "  inflating: veggie_fruit_data/train/corn/IMG_1255.JPG  \n",
            "  inflating: veggie_fruit_data/train/corn/IMG_03347.jpg  \n",
            "  inflating: veggie_fruit_data/train/corn/IMG_03351.jpg  \n",
            "  inflating: veggie_fruit_data/train/corn/IMG_03341.jpg  \n",
            "  inflating: veggie_fruit_data/train/corn/IMG_03344.jpg  \n",
            "  inflating: veggie_fruit_data/train/corn/IMG_03372.jpg  \n",
            "  inflating: veggie_fruit_data/train/corn/IMG_03333.jpg  \n",
            "  inflating: veggie_fruit_data/train/corn/IMG_03369.jpg  \n",
            "  inflating: veggie_fruit_data/train/corn/IMG_03355.jpg  \n",
            "  inflating: veggie_fruit_data/train/corn/IMG_03363.jpg  \n",
            "  inflating: veggie_fruit_data/train/corn/IMG_03353.jpg  \n",
            "  inflating: veggie_fruit_data/train/corn/IMG_03359.jpg  \n",
            "  inflating: veggie_fruit_data/train/corn/IMG_03354.jpg  \n",
            "  inflating: veggie_fruit_data/train/corn/IMG_7100.JPG  \n",
            "  inflating: veggie_fruit_data/train/corn/IMG_03376.jpg  \n",
            "  inflating: veggie_fruit_data/train/corn/IMG_03373.jpg  \n",
            "  inflating: veggie_fruit_data/train/corn/IMG_03336.jpg  \n",
            "  inflating: veggie_fruit_data/train/corn/IMG_03348.jpg  \n",
            "  inflating: veggie_fruit_data/train/corn/IMG_03360.jpg  \n",
            "  inflating: veggie_fruit_data/train/corn/IMG_03332.jpg  \n",
            "  inflating: veggie_fruit_data/train/corn/IMG_03357.jpg  \n",
            "  inflating: veggie_fruit_data/train/corn/IMG_03349.jpg  \n",
            "  inflating: veggie_fruit_data/train/corn/IMG_1253.JPG  \n",
            "  inflating: veggie_fruit_data/train/corn/IMG_7098.JPG  \n",
            "  inflating: veggie_fruit_data/train/corn/IMG_03368.jpg  \n",
            "  inflating: veggie_fruit_data/train/corn/IMG_03365.jpg  \n",
            "  inflating: veggie_fruit_data/train/corn/IMG_03352.jpg  \n",
            "  inflating: veggie_fruit_data/train/corn/IMG_7099.JPG  \n",
            "  inflating: veggie_fruit_data/train/corn/IMG_03364.jpg  \n",
            "  inflating: veggie_fruit_data/train/corn/IMG_03358.jpg  \n",
            "  inflating: veggie_fruit_data/train/corn/IMG_03367.jpg  \n",
            "  inflating: veggie_fruit_data/train/corn/IMG_03331.jpg  \n",
            "  inflating: veggie_fruit_data/train/corn/IMG_03379.jpg  \n",
            "  inflating: veggie_fruit_data/train/corn/IMG_03330.jpg  \n",
            "  inflating: veggie_fruit_data/train/corn/IMG_03338.jpg  \n",
            "  inflating: veggie_fruit_data/train/corn/IMG_03342.jpg  \n",
            "  inflating: veggie_fruit_data/train/corn/IMG_03334.jpg  \n",
            "   creating: veggie_fruit_data/train/cauliflower/\n",
            "  inflating: veggie_fruit_data/train/cauliflower/IMG_03388.jpg  \n",
            "  inflating: veggie_fruit_data/train/cauliflower/IMG_03335.jpg  \n",
            "  inflating: veggie_fruit_data/train/cauliflower/IMG_9174.jpg  \n",
            "  inflating: veggie_fruit_data/train/cauliflower/IMG_03374.jpg  \n",
            "  inflating: veggie_fruit_data/train/cauliflower/IMG_3189.jpg  \n",
            "  inflating: veggie_fruit_data/train/cauliflower/IMG_9175.jpg  \n",
            "  inflating: veggie_fruit_data/train/cauliflower/IMG_03340.jpg  \n",
            "  inflating: veggie_fruit_data/train/cauliflower/IMG_03377.jpg  \n",
            "  inflating: veggie_fruit_data/train/cauliflower/IMG_8813.jpg  \n",
            "  inflating: veggie_fruit_data/train/cauliflower/IMG_03394.jpg  \n",
            "  inflating: veggie_fruit_data/train/cauliflower/IMG_03337.jpg  \n",
            "  inflating: veggie_fruit_data/train/cauliflower/IMG_6893.JPG  \n",
            "  inflating: veggie_fruit_data/train/cauliflower/IMG_03339.jpg  \n",
            "  inflating: veggie_fruit_data/train/cauliflower/IMG_03347.jpg  \n",
            "  inflating: veggie_fruit_data/train/cauliflower/IMG_03351.jpg  \n",
            "  inflating: veggie_fruit_data/train/cauliflower/IMG_03380.jpg  \n",
            "  inflating: veggie_fruit_data/train/cauliflower/IMG_03371.jpg  \n",
            "  inflating: veggie_fruit_data/train/cauliflower/IMG_03366.jpg  \n",
            "  inflating: veggie_fruit_data/train/cauliflower/IMG_03341.jpg  \n",
            "  inflating: veggie_fruit_data/train/cauliflower/IMG_3188.jpg  \n",
            "  inflating: veggie_fruit_data/train/cauliflower/IMG_03344.jpg  \n",
            "  inflating: veggie_fruit_data/train/cauliflower/IMG_03372.jpg  \n",
            "  inflating: veggie_fruit_data/train/cauliflower/IMG_03384.jpg  \n",
            "  inflating: veggie_fruit_data/train/cauliflower/IMG_03361.jpg  \n",
            "  inflating: veggie_fruit_data/train/cauliflower/IMG_8814.jpg  \n",
            "  inflating: veggie_fruit_data/train/cauliflower/IMG_03385.jpg  \n",
            "  inflating: veggie_fruit_data/train/cauliflower/IMG_03369.jpg  \n",
            "  inflating: veggie_fruit_data/train/cauliflower/IMG_0287.jpg  \n",
            "  inflating: veggie_fruit_data/train/cauliflower/IMG_3235.jpg  \n",
            "  inflating: veggie_fruit_data/train/cauliflower/IMG_03353.jpg  \n",
            "  inflating: veggie_fruit_data/train/cauliflower/IMG_03359.jpg  \n",
            "  inflating: veggie_fruit_data/train/cauliflower/IMG_03350.jpg  \n",
            "  inflating: veggie_fruit_data/train/cauliflower/IMG_03354.jpg  \n",
            "  inflating: veggie_fruit_data/train/cauliflower/IMG_03376.jpg  \n",
            "  inflating: veggie_fruit_data/train/cauliflower/IMG_3236.jpg  \n",
            "  inflating: veggie_fruit_data/train/cauliflower/IMG_0288.jpg  \n",
            "  inflating: veggie_fruit_data/train/cauliflower/IMG_03346.jpg  \n",
            "  inflating: veggie_fruit_data/train/cauliflower/IMG_03389.jpg  \n",
            "  inflating: veggie_fruit_data/train/cauliflower/IMG_03370.jpg  \n",
            "  inflating: veggie_fruit_data/train/cauliflower/IMG_03373.jpg  \n",
            "  inflating: veggie_fruit_data/train/cauliflower/IMG_9266.jpg  \n",
            "  inflating: veggie_fruit_data/train/cauliflower/IMG_03393.jpg  \n",
            "  inflating: veggie_fruit_data/train/cauliflower/IMG_03336.jpg  \n",
            "  inflating: veggie_fruit_data/train/cauliflower/IMG_03348.jpg  \n",
            "  inflating: veggie_fruit_data/train/cauliflower/IMG_3187.jpg  \n",
            "  inflating: veggie_fruit_data/train/cauliflower/IMG_03360.jpg  \n",
            "  inflating: veggie_fruit_data/train/cauliflower/IMG_03332.jpg  \n",
            "  inflating: veggie_fruit_data/train/cauliflower/IMG_9176.jpg  \n",
            "  inflating: veggie_fruit_data/train/cauliflower/IMG_9178.jpg  \n",
            "  inflating: veggie_fruit_data/train/cauliflower/IMG_03391.jpg  \n",
            "  inflating: veggie_fruit_data/train/cauliflower/IMG_03357.jpg  \n",
            "  inflating: veggie_fruit_data/train/cauliflower/IMG_03349.jpg  \n",
            "  inflating: veggie_fruit_data/train/cauliflower/IMG_3195.jpg  \n",
            "  inflating: veggie_fruit_data/train/cauliflower/IMG_03345.jpg  \n",
            "  inflating: veggie_fruit_data/train/cauliflower/IMG_03386.jpg  \n",
            "  inflating: veggie_fruit_data/train/cauliflower/IMG_7742.jpg  \n",
            "  inflating: veggie_fruit_data/train/cauliflower/IMG_03375.jpg  \n",
            "  inflating: veggie_fruit_data/train/cauliflower/IMG_03362.jpg  \n",
            "  inflating: veggie_fruit_data/train/cauliflower/IMG_3196.jpg  \n",
            "  inflating: veggie_fruit_data/train/cauliflower/IMG_9179.jpg  \n",
            "  inflating: veggie_fruit_data/train/cauliflower/IMG_9267.jpg  \n",
            "  inflating: veggie_fruit_data/train/cauliflower/IMG_03392.jpg  \n",
            "  inflating: veggie_fruit_data/train/cauliflower/IMG_03365.jpg  \n",
            "  inflating: veggie_fruit_data/train/cauliflower/IMG_03352.jpg  \n",
            "  inflating: veggie_fruit_data/train/cauliflower/IMG_03364.jpg  \n",
            "  inflating: veggie_fruit_data/train/cauliflower/IMG_03331.jpg  \n",
            "  inflating: veggie_fruit_data/train/cauliflower/IMG_3191.jpg  \n",
            "  inflating: veggie_fruit_data/train/cauliflower/IMG_03395.jpg  \n",
            "  inflating: veggie_fruit_data/train/cauliflower/IMG_03356.jpg  \n",
            "  inflating: veggie_fruit_data/train/cauliflower/IMG_03379.jpg  \n",
            "  inflating: veggie_fruit_data/train/cauliflower/IMG_03330.jpg  \n",
            "  inflating: veggie_fruit_data/train/cauliflower/IMG_03338.jpg  \n",
            "  inflating: veggie_fruit_data/train/cauliflower/IMG_8812.jpg  \n",
            "  inflating: veggie_fruit_data/train/cauliflower/IMG_3190.jpg  \n",
            "  inflating: veggie_fruit_data/train/cauliflower/IMG_03342.jpg  \n",
            "   creating: veggie_fruit_data/train/chinese_cabbage/\n",
            "  inflating: veggie_fruit_data/train/chinese_cabbage/IMG_9157.jpg  \n",
            "  inflating: veggie_fruit_data/train/chinese_cabbage/IMG_9158.jpg  \n",
            "  inflating: veggie_fruit_data/train/chinese_cabbage/IMG_9159.jpg  \n",
            "   creating: veggie_fruit_data/train/broccoli/\n",
            "  inflating: veggie_fruit_data/train/broccoli/IMG_03388.jpg  \n",
            "  inflating: veggie_fruit_data/train/broccoli/IMG_03381.jpg  \n",
            "  inflating: veggie_fruit_data/train/broccoli/IMG_03343.jpg  \n",
            "  inflating: veggie_fruit_data/train/broccoli/IMG_03335.jpg  \n",
            "  inflating: veggie_fruit_data/train/broccoli/IMG_03374.jpg  \n",
            "  inflating: veggie_fruit_data/train/broccoli/IMG_1272.JPG  \n",
            "  inflating: veggie_fruit_data/train/broccoli/IMG_9190.jpg  \n",
            "  inflating: veggie_fruit_data/train/broccoli/IMG_03406.jpg  \n",
            "  inflating: veggie_fruit_data/train/broccoli/IMG_0445.jpg  \n",
            "  inflating: veggie_fruit_data/train/broccoli/IMG_2225.JPG  \n",
            "  inflating: veggie_fruit_data/train/broccoli/IMG_4887.JPG  \n",
            "  inflating: veggie_fruit_data/train/broccoli/IMG_03377.jpg  \n",
            "  inflating: veggie_fruit_data/train/broccoli/IMG_03394.jpg  \n",
            "  inflating: veggie_fruit_data/train/broccoli/IMG_03337.jpg  \n",
            "  inflating: veggie_fruit_data/train/broccoli/IMG_03402.jpg  \n",
            "  inflating: veggie_fruit_data/train/broccoli/IMG_3207.jpg  \n",
            "  inflating: veggie_fruit_data/train/broccoli/IMG_4888.JPG  \n",
            "  inflating: veggie_fruit_data/train/broccoli/IMG_03339.jpg  \n",
            "  inflating: veggie_fruit_data/train/broccoli/IMG_03378.jpg  \n",
            "  inflating: veggie_fruit_data/train/broccoli/IMG_9189.jpg  \n",
            "  inflating: veggie_fruit_data/train/broccoli/IMG_03407.jpg  \n",
            "  inflating: veggie_fruit_data/train/broccoli/IMG_0444.jpg  \n",
            "  inflating: veggie_fruit_data/train/broccoli/IMG_03404.jpg  \n",
            "  inflating: veggie_fruit_data/train/broccoli/IMG_03347.jpg  \n",
            "  inflating: veggie_fruit_data/train/broccoli/IMG_3176.jpg  \n",
            "  inflating: veggie_fruit_data/train/broccoli/IMG_3727.jpg  \n",
            "  inflating: veggie_fruit_data/train/broccoli/IMG_03380.jpg  \n",
            "  inflating: veggie_fruit_data/train/broccoli/IMG_03371.jpg  \n",
            "  inflating: veggie_fruit_data/train/broccoli/IMG_03366.jpg  \n",
            "  inflating: veggie_fruit_data/train/broccoli/IMG_3174.jpg  \n",
            "  inflating: veggie_fruit_data/train/broccoli/IMG_03383.jpg  \n",
            "  inflating: veggie_fruit_data/train/broccoli/IMG_1274.JPG  \n",
            "  inflating: veggie_fruit_data/train/broccoli/IMG_03341.jpg  \n",
            "  inflating: veggie_fruit_data/train/broccoli/IMG_0321.jpg  \n",
            "  inflating: veggie_fruit_data/train/broccoli/IMG_03344.jpg  \n",
            "  inflating: veggie_fruit_data/train/broccoli/IMG_03372.jpg  \n",
            "  inflating: veggie_fruit_data/train/broccoli/IMG_3186.jpg  \n",
            "  inflating: veggie_fruit_data/train/broccoli/IMG_03384.jpg  \n",
            "  inflating: veggie_fruit_data/train/broccoli/IMG_03361.jpg  \n",
            "  inflating: veggie_fruit_data/train/broccoli/IMG_03333.jpg  \n",
            "  inflating: veggie_fruit_data/train/broccoli/IMG_4890.JPG  \n",
            "  inflating: veggie_fruit_data/train/broccoli/IMG_03369.jpg  \n",
            "  inflating: veggie_fruit_data/train/broccoli/IMG_03390.jpg  \n",
            "  inflating: veggie_fruit_data/train/broccoli/IMG_03355.jpg  \n",
            "  inflating: veggie_fruit_data/train/broccoli/IMG_03363.jpg  \n",
            "  inflating: veggie_fruit_data/train/broccoli/IMG_4891.JPG  \n",
            "  inflating: veggie_fruit_data/train/broccoli/IMG_03353.jpg  \n",
            "  inflating: veggie_fruit_data/train/broccoli/IMG_4889.JPG  \n",
            "  inflating: veggie_fruit_data/train/broccoli/IMG_2223.JPG  \n",
            "  inflating: veggie_fruit_data/train/broccoli/IMG_03359.jpg  \n",
            "  inflating: veggie_fruit_data/train/broccoli/IMG_03350.jpg  \n",
            "  inflating: veggie_fruit_data/train/broccoli/IMG_03354.jpg  \n",
            "  inflating: veggie_fruit_data/train/broccoli/IMG_03376.jpg  \n",
            "  inflating: veggie_fruit_data/train/broccoli/IMG_03346.jpg  \n",
            "  inflating: veggie_fruit_data/train/broccoli/IMG_03389.jpg  \n",
            "  inflating: veggie_fruit_data/train/broccoli/IMG_03370.jpg  \n",
            "  inflating: veggie_fruit_data/train/broccoli/IMG_03373.jpg  \n",
            "  inflating: veggie_fruit_data/train/broccoli/IMG_03393.jpg  \n",
            "  inflating: veggie_fruit_data/train/broccoli/IMG_03336.jpg  \n",
            "  inflating: veggie_fruit_data/train/broccoli/IMG_03360.jpg  \n",
            "  inflating: veggie_fruit_data/train/broccoli/IMG_03332.jpg  \n",
            "  inflating: veggie_fruit_data/train/broccoli/IMG_03391.jpg  \n",
            "  inflating: veggie_fruit_data/train/broccoli/IMG_03396.jpg  \n",
            "  inflating: veggie_fruit_data/train/broccoli/IMG_03357.jpg  \n",
            "  inflating: veggie_fruit_data/train/broccoli/IMG_03349.jpg  \n",
            "  inflating: veggie_fruit_data/train/broccoli/IMG_03345.jpg  \n",
            "  inflating: veggie_fruit_data/train/broccoli/IMG_3728.jpg  \n",
            "  inflating: veggie_fruit_data/train/broccoli/IMG_03362.jpg  \n",
            "  inflating: veggie_fruit_data/train/broccoli/IMG_3183.jpg  \n",
            "  inflating: veggie_fruit_data/train/broccoli/IMG_03408.jpg  \n",
            "  inflating: veggie_fruit_data/train/broccoli/IMG_03365.jpg  \n",
            "  inflating: veggie_fruit_data/train/broccoli/IMG_03352.jpg  \n",
            "  inflating: veggie_fruit_data/train/broccoli/IMG_9212.jpg  \n",
            "  inflating: veggie_fruit_data/train/broccoli/IMG_03400.jpg  \n",
            "  inflating: veggie_fruit_data/train/broccoli/IMG_03364.jpg  \n",
            "  inflating: veggie_fruit_data/train/broccoli/IMG_3729.jpg  \n",
            "  inflating: veggie_fruit_data/train/broccoli/IMG_03358.jpg  \n",
            "  inflating: veggie_fruit_data/train/broccoli/IMG_03367.jpg  \n",
            "  inflating: veggie_fruit_data/train/broccoli/IMG_03331.jpg  \n",
            "  inflating: veggie_fruit_data/train/broccoli/IMG_4892.JPG  \n",
            "  inflating: veggie_fruit_data/train/broccoli/IMG_0318.jpg  \n",
            "  inflating: veggie_fruit_data/train/broccoli/IMG_03395.jpg  \n",
            "  inflating: veggie_fruit_data/train/broccoli/IMG_03356.jpg  \n",
            "  inflating: veggie_fruit_data/train/broccoli/IMG_03379.jpg  \n",
            "  inflating: veggie_fruit_data/train/broccoli/IMG_03401.jpg  \n",
            "  inflating: veggie_fruit_data/train/broccoli/IMG_03330.jpg  \n",
            "  inflating: veggie_fruit_data/train/broccoli/IMG_9213.jpg  \n",
            "  inflating: veggie_fruit_data/train/broccoli/IMG_03338.jpg  \n",
            "  inflating: veggie_fruit_data/train/broccoli/IMG_03405.jpg  \n",
            "  inflating: veggie_fruit_data/train/broccoli/IMG_3184.jpg  \n",
            "  inflating: veggie_fruit_data/train/broccoli/IMG_3185.jpg  \n",
            "  inflating: veggie_fruit_data/train/broccoli/IMG_1273.JPG  \n",
            "  inflating: veggie_fruit_data/train/broccoli/IMG_03334.jpg  \n",
            "   creating: veggie_fruit_data/train/strawberry/\n",
            "  inflating: veggie_fruit_data/train/strawberry/IMG_7895.jpg  \n",
            "  inflating: veggie_fruit_data/train/strawberry/IMG_7902.jpg  \n",
            "  inflating: veggie_fruit_data/train/strawberry/IMG_7904.jpg  \n",
            "  inflating: veggie_fruit_data/train/strawberry/IMG_7899.jpg  \n",
            "  inflating: veggie_fruit_data/train/strawberry/IMG_8767.jpg  \n",
            "  inflating: veggie_fruit_data/train/strawberry/IMG_7898.jpg  \n",
            "  inflating: veggie_fruit_data/train/strawberry/IMG_8768.jpg  \n",
            "  inflating: veggie_fruit_data/train/strawberry/IMG_7900.jpg  \n",
            "  inflating: veggie_fruit_data/train/strawberry/IMG_7787.jpg  \n",
            "  inflating: veggie_fruit_data/train/strawberry/IMG_7901.jpg  \n",
            "  inflating: veggie_fruit_data/train/strawberry/IMG_7896.jpg  \n",
            "  inflating: veggie_fruit_data/train/strawberry/IMG_8663.jpg  \n",
            "  inflating: veggie_fruit_data/train/strawberry/IMG_2690.JPG  \n",
            "   creating: veggie_fruit_data/train/fava_beans/\n",
            "  inflating: veggie_fruit_data/train/fava_beans/IMG_5392.JPG  \n",
            "  inflating: veggie_fruit_data/train/fava_beans/IMG_5390.JPG  \n",
            "  inflating: veggie_fruit_data/train/fava_beans/IMG_5389.JPG  \n",
            "   creating: veggie_fruit_data/train/white_peach/\n",
            "  inflating: veggie_fruit_data/train/white_peach/IMG_7710.jpg  \n",
            "  inflating: veggie_fruit_data/train/white_peach/IMG_7265.JPG  \n",
            "  inflating: veggie_fruit_data/train/white_peach/IMG_7268.JPG  \n",
            "  inflating: veggie_fruit_data/train/white_peach/IMG_7266.JPG  \n",
            "  inflating: veggie_fruit_data/train/white_peach/IMG_7711.jpg  \n",
            "   creating: veggie_fruit_data/train/kale/\n",
            "  inflating: veggie_fruit_data/train/kale/IMG_6884.JPG  \n",
            "  inflating: veggie_fruit_data/train/kale/IMG_6881.JPG  \n",
            "  inflating: veggie_fruit_data/train/kale/IMG_7287.JPG  \n",
            "  inflating: veggie_fruit_data/train/kale/IMG_7284.JPG  \n",
            "  inflating: veggie_fruit_data/train/kale/IMG_6883.JPG  \n",
            "  inflating: veggie_fruit_data/train/kale/IMG_7283.JPG  \n",
            "  inflating: veggie_fruit_data/train/kale/IMG_7288.JPG  \n",
            "  inflating: veggie_fruit_data/train/kale/IMG_6974.JPG  \n",
            "  inflating: veggie_fruit_data/train/kale/IMG_6975.JPG  \n",
            "  inflating: veggie_fruit_data/train/kale/IMG_6885.JPG  \n",
            "  inflating: veggie_fruit_data/train/kale/IMG_7285.JPG  \n",
            "  inflating: veggie_fruit_data/train/kale/IMG_6880.JPG  \n",
            "  inflating: veggie_fruit_data/train/kale/IMG_6977.JPG  \n",
            "  inflating: veggie_fruit_data/train/kale/IMG_7290.JPG  \n",
            "   creating: veggie_fruit_data/train/green_bean/\n",
            "  inflating: veggie_fruit_data/train/green_bean/IMG_03343.jpg  \n",
            "  inflating: veggie_fruit_data/train/green_bean/IMG_03335.jpg  \n",
            "  inflating: veggie_fruit_data/train/green_bean/IMG_03340.jpg  \n",
            "  inflating: veggie_fruit_data/train/green_bean/IMG_03337.jpg  \n",
            "  inflating: veggie_fruit_data/train/green_bean/IMG_8643.jpg  \n",
            "  inflating: veggie_fruit_data/train/green_bean/IMG_03339.jpg  \n",
            "  inflating: veggie_fruit_data/train/green_bean/IMG_03347.jpg  \n",
            "  inflating: veggie_fruit_data/train/green_bean/IMG_03351.jpg  \n",
            "  inflating: veggie_fruit_data/train/green_bean/IMG_03341.jpg  \n",
            "  inflating: veggie_fruit_data/train/green_bean/IMG_03344.jpg  \n",
            "  inflating: veggie_fruit_data/train/green_bean/IMG_8645.jpg  \n",
            "  inflating: veggie_fruit_data/train/green_bean/IMG_8641.jpg  \n",
            "  inflating: veggie_fruit_data/train/green_bean/IMG_03333.jpg  \n",
            "  inflating: veggie_fruit_data/train/green_bean/IMG_8644.jpg  \n",
            "  inflating: veggie_fruit_data/train/green_bean/IMG_03354.jpg  \n",
            "  inflating: veggie_fruit_data/train/green_bean/IMG_03346.jpg  \n",
            "  inflating: veggie_fruit_data/train/green_bean/IMG_03336.jpg  \n",
            "  inflating: veggie_fruit_data/train/green_bean/IMG_03348.jpg  \n",
            "  inflating: veggie_fruit_data/train/green_bean/IMG_8707.JPG  \n",
            "  inflating: veggie_fruit_data/train/green_bean/IMG_03332.jpg  \n",
            "  inflating: veggie_fruit_data/train/green_bean/IMG_03349.jpg  \n",
            "  inflating: veggie_fruit_data/train/green_bean/IMG_8702.JPG  \n",
            "  inflating: veggie_fruit_data/train/green_bean/IMG_03345.jpg  \n",
            "  inflating: veggie_fruit_data/train/green_bean/IMG_03352.jpg  \n",
            "  inflating: veggie_fruit_data/train/green_bean/IMG_03331.jpg  \n",
            "  inflating: veggie_fruit_data/train/green_bean/IMG_03330.jpg  \n",
            "  inflating: veggie_fruit_data/train/green_bean/IMG_8646.jpg  \n",
            "  inflating: veggie_fruit_data/train/green_bean/IMG_03342.jpg  \n",
            "  inflating: veggie_fruit_data/train/green_bean/IMG_8642.jpg  \n",
            "  inflating: veggie_fruit_data/train/green_bean/IMG_03334.jpg  \n",
            "   creating: veggie_fruit_data/train/ginger/\n",
            "  inflating: veggie_fruit_data/train/ginger/IMG_4876.JPG  \n",
            "  inflating: veggie_fruit_data/train/ginger/IMG_1300.JPG  \n",
            "  inflating: veggie_fruit_data/train/ginger/IMG_1299.JPG  \n",
            "  inflating: veggie_fruit_data/train/ginger/IMG_4875.JPG  \n",
            "  inflating: veggie_fruit_data/train/ginger/IMG_1302.JPG  \n",
            "  inflating: veggie_fruit_data/train/ginger/IMG_2216.JPG  \n",
            "  inflating: veggie_fruit_data/train/ginger/IMG_2212.JPG  \n",
            "  inflating: veggie_fruit_data/train/ginger/IMG_2746.JPG  \n",
            "  inflating: veggie_fruit_data/train/ginger/IMG_1301.JPG  \n",
            "  inflating: veggie_fruit_data/train/ginger/IMG_2215.JPG  \n",
            "  inflating: veggie_fruit_data/train/ginger/IMG_4878.JPG  \n",
            "  inflating: veggie_fruit_data/train/ginger/IMG_4880.JPG  \n",
            "  inflating: veggie_fruit_data/train/ginger/IMG_1303.JPG  \n",
            "   creating: veggie_fruit_data/train/bok_choy/\n",
            "  inflating: veggie_fruit_data/train/bok_choy/IMG_9164.jpg  \n",
            "  inflating: veggie_fruit_data/train/bok_choy/IMG_8733.jpg  \n",
            "  inflating: veggie_fruit_data/train/bok_choy/IMG_9165.jpg  \n",
            "  inflating: veggie_fruit_data/train/bok_choy/IMG_3178.jpg  \n",
            "  inflating: veggie_fruit_data/train/bok_choy/IMG_5381.JPG  \n",
            "  inflating: veggie_fruit_data/train/bok_choy/IMG_8864.jpg  \n",
            "  inflating: veggie_fruit_data/train/bok_choy/IMG_9162.jpg  \n",
            "  inflating: veggie_fruit_data/train/bok_choy/IMG_3180.jpg  \n",
            "  inflating: veggie_fruit_data/train/bok_choy/IMG_9161.jpg  \n",
            "  inflating: veggie_fruit_data/train/bok_choy/IMG_0487.jpg  \n",
            "  inflating: veggie_fruit_data/train/bok_choy/IMG_8865.jpg  \n",
            "  inflating: veggie_fruit_data/train/bok_choy/IMG_3179.jpg  \n",
            "  inflating: veggie_fruit_data/train/bok_choy/IMG_3181.jpg  \n",
            "  inflating: veggie_fruit_data/train/bok_choy/IMG_3182.jpg  \n",
            "  inflating: veggie_fruit_data/train/bok_choy/IMG_8731.jpg  \n",
            "  inflating: veggie_fruit_data/train/bok_choy/IMG_3215.jpg  \n",
            "  inflating: veggie_fruit_data/train/bok_choy/IMG_3214.jpg  \n",
            "  inflating: veggie_fruit_data/train/bok_choy/IMG_3231.jpg  \n",
            "  inflating: veggie_fruit_data/train/bok_choy/IMG_0385.jpg  \n",
            "  inflating: veggie_fruit_data/train/bok_choy/IMG_3213.jpg  \n",
            "  inflating: veggie_fruit_data/train/bok_choy/IMG_3229.jpg  \n",
            "  inflating: veggie_fruit_data/train/bok_choy/IMG_9163.jpg  \n",
            "  inflating: veggie_fruit_data/train/bok_choy/IMG_3212.jpg  \n",
            "  inflating: veggie_fruit_data/train/bok_choy/IMG_8732.jpg  \n",
            "  inflating: veggie_fruit_data/train/bok_choy/IMG_5379.JPG  \n",
            "  inflating: veggie_fruit_data/train/bok_choy/IMG_0481.jpg  \n",
            "  inflating: veggie_fruit_data/train/bok_choy/IMG_5382.JPG  \n",
            "   creating: veggie_fruit_data/train/redbor_kale/\n",
            "  inflating: veggie_fruit_data/train/redbor_kale/IMG_3731.jpg  \n",
            "  inflating: veggie_fruit_data/train/redbor_kale/IMG_3733.jpg  \n",
            "   creating: veggie_fruit_data/train/red_onion/\n",
            "  inflating: veggie_fruit_data/train/red_onion/IMG_2711.JPG  \n",
            "  inflating: veggie_fruit_data/train/red_onion/IMG_03381.jpg  \n",
            "  inflating: veggie_fruit_data/train/red_onion/IMG_2718.JPG  \n",
            "  inflating: veggie_fruit_data/train/red_onion/IMG_03335.jpg  \n",
            "  inflating: veggie_fruit_data/train/red_onion/IMG_03374.jpg  \n",
            "  inflating: veggie_fruit_data/train/red_onion/IMG_4945.JPG  \n",
            "  inflating: veggie_fruit_data/train/red_onion/IMG_03340.jpg  \n",
            "  inflating: veggie_fruit_data/train/red_onion/IMG_03377.jpg  \n",
            "  inflating: veggie_fruit_data/train/red_onion/IMG_03337.jpg  \n",
            "  inflating: veggie_fruit_data/train/red_onion/IMG_03339.jpg  \n",
            "  inflating: veggie_fruit_data/train/red_onion/IMG_03378.jpg  \n",
            "  inflating: veggie_fruit_data/train/red_onion/IMG_03347.jpg  \n",
            "  inflating: veggie_fruit_data/train/red_onion/IMG_9257.jpg  \n",
            "  inflating: veggie_fruit_data/train/red_onion/IMG_03380.jpg  \n",
            "  inflating: veggie_fruit_data/train/red_onion/IMG_03371.jpg  \n",
            "  inflating: veggie_fruit_data/train/red_onion/IMG_03366.jpg  \n",
            "  inflating: veggie_fruit_data/train/red_onion/IMG_03383.jpg  \n",
            "  inflating: veggie_fruit_data/train/red_onion/IMG_03341.jpg  \n",
            "  inflating: veggie_fruit_data/train/red_onion/IMG_1294.JPG  \n",
            "  inflating: veggie_fruit_data/train/red_onion/IMG_03344.jpg  \n",
            "  inflating: veggie_fruit_data/train/red_onion/IMG_1296.JPG  \n",
            "  inflating: veggie_fruit_data/train/red_onion/IMG_03384.jpg  \n",
            "  inflating: veggie_fruit_data/train/red_onion/IMG_03361.jpg  \n",
            "  inflating: veggie_fruit_data/train/red_onion/IMG_4949.JPG  \n",
            "  inflating: veggie_fruit_data/train/red_onion/IMG_03333.jpg  \n",
            "  inflating: veggie_fruit_data/train/red_onion/IMG_03369.jpg  \n",
            "  inflating: veggie_fruit_data/train/red_onion/IMG_03355.jpg  \n",
            "  inflating: veggie_fruit_data/train/red_onion/IMG_03363.jpg  \n",
            "  inflating: veggie_fruit_data/train/red_onion/IMG_4942.JPG  \n",
            "  inflating: veggie_fruit_data/train/red_onion/IMG_03353.jpg  \n",
            "  inflating: veggie_fruit_data/train/red_onion/IMG_03359.jpg  \n",
            "  inflating: veggie_fruit_data/train/red_onion/IMG_03350.jpg  \n",
            "  inflating: veggie_fruit_data/train/red_onion/IMG_03354.jpg  \n",
            "  inflating: veggie_fruit_data/train/red_onion/IMG_03376.jpg  \n",
            "  inflating: veggie_fruit_data/train/red_onion/IMG_03346.jpg  \n",
            "  inflating: veggie_fruit_data/train/red_onion/IMG_03370.jpg  \n",
            "  inflating: veggie_fruit_data/train/red_onion/IMG_03373.jpg  \n",
            "  inflating: veggie_fruit_data/train/red_onion/IMG_03336.jpg  \n",
            "  inflating: veggie_fruit_data/train/red_onion/IMG_4944.JPG  \n",
            "  inflating: veggie_fruit_data/train/red_onion/IMG_1298.JPG  \n",
            "  inflating: veggie_fruit_data/train/red_onion/IMG_03360.jpg  \n",
            "  inflating: veggie_fruit_data/train/red_onion/IMG_03332.jpg  \n",
            "  inflating: veggie_fruit_data/train/red_onion/IMG_03357.jpg  \n",
            "  inflating: veggie_fruit_data/train/red_onion/IMG_03349.jpg  \n",
            "  inflating: veggie_fruit_data/train/red_onion/IMG_4946.JPG  \n",
            "  inflating: veggie_fruit_data/train/red_onion/IMG_03375.jpg  \n",
            "  inflating: veggie_fruit_data/train/red_onion/IMG_03362.jpg  \n",
            "  inflating: veggie_fruit_data/train/red_onion/IMG_03365.jpg  \n",
            "  inflating: veggie_fruit_data/train/red_onion/IMG_03364.jpg  \n",
            "  inflating: veggie_fruit_data/train/red_onion/IMG_9258.jpg  \n",
            "  inflating: veggie_fruit_data/train/red_onion/IMG_03358.jpg  \n",
            "  inflating: veggie_fruit_data/train/red_onion/IMG_03331.jpg  \n",
            "  inflating: veggie_fruit_data/train/red_onion/IMG_03356.jpg  \n",
            "  inflating: veggie_fruit_data/train/red_onion/IMG_03379.jpg  \n",
            "  inflating: veggie_fruit_data/train/red_onion/IMG_03342.jpg  \n",
            "  inflating: veggie_fruit_data/train/red_onion/IMG_4943.JPG  \n",
            "  inflating: veggie_fruit_data/train/red_onion/IMG_03334.jpg  \n",
            "   creating: veggie_fruit_data/train/butternut/\n",
            "  inflating: veggie_fruit_data/train/butternut/IMG_5363.JPG  \n",
            "  inflating: veggie_fruit_data/train/butternut/IMG_5364.JPG  \n",
            "  inflating: veggie_fruit_data/train/butternut/IMG_5365.JPG  \n",
            "   creating: veggie_fruit_data/train/mandarin/\n",
            "  inflating: veggie_fruit_data/train/mandarin/IMG_1185.JPG  \n",
            "  inflating: veggie_fruit_data/train/mandarin/IMG_9230.jpg  \n",
            "  inflating: veggie_fruit_data/train/mandarin/IMG_9228.jpg  \n",
            "  inflating: veggie_fruit_data/train/mandarin/IMG_4957.JPG  \n",
            "  inflating: veggie_fruit_data/train/mandarin/IMG_4953.JPG  \n",
            "  inflating: veggie_fruit_data/train/mandarin/IMG_5331.JPG  \n",
            "  inflating: veggie_fruit_data/train/mandarin/IMG_4955.JPG  \n",
            "  inflating: veggie_fruit_data/train/mandarin/IMG_4960.JPG  \n",
            "  inflating: veggie_fruit_data/train/mandarin/IMG_1183.JPG  \n",
            "  inflating: veggie_fruit_data/train/mandarin/IMG_5330.JPG  \n",
            "  inflating: veggie_fruit_data/train/mandarin/IMG_4958.JPG  \n",
            "  inflating: veggie_fruit_data/train/mandarin/IMG_4956.JPG  \n",
            "  inflating: veggie_fruit_data/train/mandarin/IMG_4961.JPG  \n",
            "  inflating: veggie_fruit_data/train/mandarin/IMG_4951.JPG  \n",
            "  inflating: veggie_fruit_data/train/mandarin/IMG_1182.JPG  \n",
            "  inflating: veggie_fruit_data/train/mandarin/IMG_4959.JPG  \n",
            "   creating: veggie_fruit_data/train/persimmon/\n",
            "  inflating: veggie_fruit_data/train/persimmon/IMG_9224.jpg  \n",
            "  inflating: veggie_fruit_data/train/persimmon/IMG_9223.jpg  \n",
            "  inflating: veggie_fruit_data/train/persimmon/IMG_9221.jpg  \n",
            "  inflating: veggie_fruit_data/train/persimmon/IMG_9225.jpg  \n",
            "   creating: veggie_fruit_data/train/artichoke/\n",
            "  inflating: veggie_fruit_data/train/artichoke/IMG_7219.JPG  \n",
            "  inflating: veggie_fruit_data/train/artichoke/IMG_5356.JPG  \n",
            "  inflating: veggie_fruit_data/train/artichoke/IMG_1811.JPG  \n",
            "  inflating: veggie_fruit_data/train/artichoke/IMG_7218.JPG  \n",
            "  inflating: veggie_fruit_data/train/artichoke/IMG_1808.JPG  \n",
            "  inflating: veggie_fruit_data/train/artichoke/IMG_1810.JPG  \n",
            "  inflating: veggie_fruit_data/train/artichoke/.DS_Store  \n",
            "  inflating: veggie_fruit_data/train/artichoke/IMG_5359.JPG  \n",
            "  inflating: veggie_fruit_data/train/artichoke/IMG_1809.JPG  \n",
            "  inflating: veggie_fruit_data/train/artichoke/IMG_7221.JPG  \n",
            "  inflating: veggie_fruit_data/train/artichoke/IMG_1812.JPG  \n",
            "  inflating: veggie_fruit_data/train/artichoke/IMG_7220.JPG  \n",
            "  inflating: veggie_fruit_data/train/artichoke/IMG_5360.JPG  \n",
            "   creating: veggie_fruit_data/train/avocado/\n",
            "  inflating: veggie_fruit_data/train/avocado/IMG_4859.JPG  \n",
            "  inflating: veggie_fruit_data/train/avocado/IMG_03343.jpg  \n",
            "  inflating: veggie_fruit_data/train/avocado/IMG_03335.jpg  \n",
            "  inflating: veggie_fruit_data/train/avocado/IMG_4858.JPG  \n",
            "  inflating: veggie_fruit_data/train/avocado/IMG_03340.jpg  \n",
            "  inflating: veggie_fruit_data/train/avocado/IMG_03337.jpg  \n",
            "  inflating: veggie_fruit_data/train/avocado/IMG_03339.jpg  \n",
            "  inflating: veggie_fruit_data/train/avocado/IMG_03347.jpg  \n",
            "  inflating: veggie_fruit_data/train/avocado/IMG_03366.jpg  \n",
            "  inflating: veggie_fruit_data/train/avocado/IMG_03341.jpg  \n",
            "  inflating: veggie_fruit_data/train/avocado/IMG_03344.jpg  \n",
            "  inflating: veggie_fruit_data/train/avocado/IMG_4860.JPG  \n",
            "  inflating: veggie_fruit_data/train/avocado/IMG_03361.jpg  \n",
            "  inflating: veggie_fruit_data/train/avocado/IMG_03333.jpg  \n",
            "  inflating: veggie_fruit_data/train/avocado/IMG_4861.JPG  \n",
            "  inflating: veggie_fruit_data/train/avocado/IMG_03355.jpg  \n",
            "  inflating: veggie_fruit_data/train/avocado/IMG_03363.jpg  \n",
            "  inflating: veggie_fruit_data/train/avocado/IMG_03353.jpg  \n",
            "  inflating: veggie_fruit_data/train/avocado/IMG_03359.jpg  \n",
            "  inflating: veggie_fruit_data/train/avocado/IMG_03354.jpg  \n",
            "  inflating: veggie_fruit_data/train/avocado/IMG_4857.JPG  \n",
            "  inflating: veggie_fruit_data/train/avocado/IMG_03336.jpg  \n",
            "  inflating: veggie_fruit_data/train/avocado/IMG_03348.jpg  \n",
            "  inflating: veggie_fruit_data/train/avocado/IMG_03360.jpg  \n",
            "  inflating: veggie_fruit_data/train/avocado/IMG_03332.jpg  \n",
            "  inflating: veggie_fruit_data/train/avocado/IMG_03349.jpg  \n",
            "  inflating: veggie_fruit_data/train/avocado/IMG_03345.jpg  \n",
            "  inflating: veggie_fruit_data/train/avocado/IMG_03362.jpg  \n",
            "  inflating: veggie_fruit_data/train/avocado/IMG_03368.jpg  \n",
            "  inflating: veggie_fruit_data/train/avocado/IMG_03365.jpg  \n",
            "  inflating: veggie_fruit_data/train/avocado/IMG_03352.jpg  \n",
            "  inflating: veggie_fruit_data/train/avocado/IMG_03367.jpg  \n",
            "  inflating: veggie_fruit_data/train/avocado/IMG_03331.jpg  \n",
            "  inflating: veggie_fruit_data/train/avocado/IMG_1921.JPG  \n",
            "  inflating: veggie_fruit_data/train/avocado/IMG_03356.jpg  \n",
            "  inflating: veggie_fruit_data/train/avocado/IMG_03330.jpg  \n",
            "  inflating: veggie_fruit_data/train/avocado/IMG_03338.jpg  \n",
            "  inflating: veggie_fruit_data/train/avocado/IMG_1918.JPG  \n",
            "  inflating: veggie_fruit_data/train/avocado/IMG_1917.JPG  \n",
            "  inflating: veggie_fruit_data/train/avocado/IMG_03334.jpg  \n",
            "  inflating: veggie_fruit_data/train/avocado/IMG_1922.JPG  \n",
            "   creating: veggie_fruit_data/train/napa_cabbage/\n",
            "  inflating: veggie_fruit_data/train/napa_cabbage/IMG_0410.jpg  \n",
            "  inflating: veggie_fruit_data/train/napa_cabbage/IMG_9549.jpg  \n",
            "  inflating: veggie_fruit_data/train/napa_cabbage/IMG_0409.jpg  \n",
            "  inflating: veggie_fruit_data/train/napa_cabbage/IMG_0412.jpg  \n",
            "   creating: veggie_fruit_data/train/pineapple/\n",
            "  inflating: veggie_fruit_data/train/pineapple/IMG_03343.jpg  \n",
            "  inflating: veggie_fruit_data/train/pineapple/IMG_03335.jpg  \n",
            "  inflating: veggie_fruit_data/train/pineapple/IMG_03340.jpg  \n",
            "  inflating: veggie_fruit_data/train/pineapple/IMG_1211.JPG  \n",
            "  inflating: veggie_fruit_data/train/pineapple/IMG_03337.jpg  \n",
            "  inflating: veggie_fruit_data/train/pineapple/IMG_9858.jpg  \n",
            "  inflating: veggie_fruit_data/train/pineapple/IMG_03339.jpg  \n",
            "  inflating: veggie_fruit_data/train/pineapple/IMG_03351.jpg  \n",
            "  inflating: veggie_fruit_data/train/pineapple/IMG_03366.jpg  \n",
            "  inflating: veggie_fruit_data/train/pineapple/IMG_9857.jpg  \n",
            "  inflating: veggie_fruit_data/train/pineapple/IMG_03344.jpg  \n",
            "  inflating: veggie_fruit_data/train/pineapple/IMG_0134.jpg  \n",
            "  inflating: veggie_fruit_data/train/pineapple/IMG_03361.jpg  \n",
            "  inflating: veggie_fruit_data/train/pineapple/IMG_03333.jpg  \n",
            "  inflating: veggie_fruit_data/train/pineapple/IMG_03369.jpg  \n",
            "  inflating: veggie_fruit_data/train/pineapple/IMG_03355.jpg  \n",
            "  inflating: veggie_fruit_data/train/pineapple/IMG_03363.jpg  \n",
            "  inflating: veggie_fruit_data/train/pineapple/IMG_03353.jpg  \n",
            "  inflating: veggie_fruit_data/train/pineapple/IMG_03359.jpg  \n",
            "  inflating: veggie_fruit_data/train/pineapple/IMG_0102.jpg  \n",
            "  inflating: veggie_fruit_data/train/pineapple/IMG_03354.jpg  \n",
            "  inflating: veggie_fruit_data/train/pineapple/IMG_03346.jpg  \n",
            "  inflating: veggie_fruit_data/train/pineapple/IMG_03336.jpg  \n",
            "  inflating: veggie_fruit_data/train/pineapple/IMG_1209.JPG  \n",
            "  inflating: veggie_fruit_data/train/pineapple/IMG_03348.jpg  \n",
            "  inflating: veggie_fruit_data/train/pineapple/IMG_03360.jpg  \n",
            "  inflating: veggie_fruit_data/train/pineapple/IMG_1210.JPG  \n",
            "  inflating: veggie_fruit_data/train/pineapple/IMG_03332.jpg  \n",
            "  inflating: veggie_fruit_data/train/pineapple/IMG_03357.jpg  \n",
            "  inflating: veggie_fruit_data/train/pineapple/IMG_03349.jpg  \n",
            "  inflating: veggie_fruit_data/train/pineapple/IMG_03362.jpg  \n",
            "  inflating: veggie_fruit_data/train/pineapple/IMG_03365.jpg  \n",
            "  inflating: veggie_fruit_data/train/pineapple/IMG_03352.jpg  \n",
            "  inflating: veggie_fruit_data/train/pineapple/IMG_0133.jpg  \n",
            "  inflating: veggie_fruit_data/train/pineapple/IMG_1212.JPG  \n",
            "  inflating: veggie_fruit_data/train/pineapple/IMG_03367.jpg  \n",
            "  inflating: veggie_fruit_data/train/pineapple/IMG_03331.jpg  \n",
            "  inflating: veggie_fruit_data/train/pineapple/IMG_03356.jpg  \n",
            "  inflating: veggie_fruit_data/train/pineapple/IMG_03330.jpg  \n",
            "  inflating: veggie_fruit_data/train/pineapple/IMG_03338.jpg  \n",
            "  inflating: veggie_fruit_data/train/pineapple/IMG_03342.jpg  \n",
            "  inflating: veggie_fruit_data/train/pineapple/IMG_9859.jpg  \n",
            "  inflating: veggie_fruit_data/train/pineapple/IMG_03334.jpg  \n",
            "   creating: veggie_fruit_data/train/white_nectarine/\n",
            "  inflating: veggie_fruit_data/train/white_nectarine/IMG_7276.JPG  \n",
            "  inflating: veggie_fruit_data/train/white_nectarine/IMG_7274.JPG  \n",
            "  inflating: veggie_fruit_data/train/white_nectarine/IMG_7273.JPG  \n",
            "  inflating: veggie_fruit_data/train/white_nectarine/IMG_7275.JPG  \n",
            "  inflating: veggie_fruit_data/train/white_nectarine/IMG_7270.JPG  \n",
            "  inflating: veggie_fruit_data/train/white_nectarine/IMG_7237.JPG  \n",
            "  inflating: veggie_fruit_data/train/white_nectarine/IMG_7271.JPG  \n",
            "  inflating: veggie_fruit_data/train/white_nectarine/IMG_7235.JPG  \n",
            "  inflating: veggie_fruit_data/train/white_nectarine/IMG_7306.JPG  \n",
            "  inflating: veggie_fruit_data/train/white_nectarine/IMG_7307.JPG  \n",
            "   creating: veggie_fruit_data/train/papaya/\n",
            "  inflating: veggie_fruit_data/train/papaya/IMG_03381.jpg  \n",
            "  inflating: veggie_fruit_data/train/papaya/IMG_03343.jpg  \n",
            "  inflating: veggie_fruit_data/train/papaya/IMG_1214.JPG  \n",
            "  inflating: veggie_fruit_data/train/papaya/IMG_4940.JPG  \n",
            "  inflating: veggie_fruit_data/train/papaya/IMG_03335.jpg  \n",
            "  inflating: veggie_fruit_data/train/papaya/IMG_03374.jpg  \n",
            "  inflating: veggie_fruit_data/train/papaya/IMG_03340.jpg  \n",
            "  inflating: veggie_fruit_data/train/papaya/IMG_4939.JPG  \n",
            "  inflating: veggie_fruit_data/train/papaya/IMG_03377.jpg  \n",
            "  inflating: veggie_fruit_data/train/papaya/IMG_03394.jpg  \n",
            "  inflating: veggie_fruit_data/train/papaya/IMG_03337.jpg  \n",
            "  inflating: veggie_fruit_data/train/papaya/IMG_1233.JPG  \n",
            "  inflating: veggie_fruit_data/train/papaya/IMG_03347.jpg  \n",
            "  inflating: veggie_fruit_data/train/papaya/IMG_4873.JPG  \n",
            "  inflating: veggie_fruit_data/train/papaya/IMG_03351.jpg  \n",
            "  inflating: veggie_fruit_data/train/papaya/IMG_03380.jpg  \n",
            "  inflating: veggie_fruit_data/train/papaya/IMG_1215.JPG  \n",
            "  inflating: veggie_fruit_data/train/papaya/IMG_03371.jpg  \n",
            "  inflating: veggie_fruit_data/train/papaya/IMG_03366.jpg  \n",
            "  inflating: veggie_fruit_data/train/papaya/IMG_03341.jpg  \n",
            "  inflating: veggie_fruit_data/train/papaya/IMG_03344.jpg  \n",
            "  inflating: veggie_fruit_data/train/papaya/IMG_03372.jpg  \n",
            "  inflating: veggie_fruit_data/train/papaya/IMG_03398.jpg  \n",
            "  inflating: veggie_fruit_data/train/papaya/IMG_03384.jpg  \n",
            "  inflating: veggie_fruit_data/train/papaya/IMG_03361.jpg  \n",
            "  inflating: veggie_fruit_data/train/papaya/IMG_03333.jpg  \n",
            "  inflating: veggie_fruit_data/train/papaya/IMG_03385.jpg  \n",
            "  inflating: veggie_fruit_data/train/papaya/IMG_03369.jpg  \n",
            "  inflating: veggie_fruit_data/train/papaya/IMG_1232.JPG  \n",
            "  inflating: veggie_fruit_data/train/papaya/IMG_03363.jpg  \n",
            "  inflating: veggie_fruit_data/train/papaya/IMG_03353.jpg  \n",
            "  inflating: veggie_fruit_data/train/papaya/IMG_4937.JPG  \n",
            "  inflating: veggie_fruit_data/train/papaya/IMG_03359.jpg  \n",
            "  inflating: veggie_fruit_data/train/papaya/IMG_03350.jpg  \n",
            "  inflating: veggie_fruit_data/train/papaya/IMG_03387.jpg  \n",
            "  inflating: veggie_fruit_data/train/papaya/IMG_03354.jpg  \n",
            "  inflating: veggie_fruit_data/train/papaya/IMG_03399.jpg  \n",
            "  inflating: veggie_fruit_data/train/papaya/IMG_03376.jpg  \n",
            "  inflating: veggie_fruit_data/train/papaya/IMG_03346.jpg  \n",
            "  inflating: veggie_fruit_data/train/papaya/IMG_03389.jpg  \n",
            "  inflating: veggie_fruit_data/train/papaya/IMG_03370.jpg  \n",
            "  inflating: veggie_fruit_data/train/papaya/IMG_03373.jpg  \n",
            "  inflating: veggie_fruit_data/train/papaya/IMG_03393.jpg  \n",
            "  inflating: veggie_fruit_data/train/papaya/IMG_03336.jpg  \n",
            "  inflating: veggie_fruit_data/train/papaya/IMG_03348.jpg  \n",
            "  inflating: veggie_fruit_data/train/papaya/IMG_1219.JPG  \n",
            "  inflating: veggie_fruit_data/train/papaya/IMG_1218.JPG  \n",
            "  inflating: veggie_fruit_data/train/papaya/IMG_03360.jpg  \n",
            "  inflating: veggie_fruit_data/train/papaya/IMG_03332.jpg  \n",
            "  inflating: veggie_fruit_data/train/papaya/IMG_1230.JPG  \n",
            "  inflating: veggie_fruit_data/train/papaya/IMG_03357.jpg  \n",
            "  inflating: veggie_fruit_data/train/papaya/IMG_03349.jpg  \n",
            "  inflating: veggie_fruit_data/train/papaya/IMG_03386.jpg  \n",
            "  inflating: veggie_fruit_data/train/papaya/IMG_03375.jpg  \n",
            "  inflating: veggie_fruit_data/train/papaya/IMG_03362.jpg  \n",
            "  inflating: veggie_fruit_data/train/papaya/IMG_03392.jpg  \n",
            "  inflating: veggie_fruit_data/train/papaya/IMG_03365.jpg  \n",
            "  inflating: veggie_fruit_data/train/papaya/IMG_03352.jpg  \n",
            "  inflating: veggie_fruit_data/train/papaya/IMG_03400.jpg  \n",
            "  inflating: veggie_fruit_data/train/papaya/IMG_1217.JPG  \n",
            "  inflating: veggie_fruit_data/train/papaya/IMG_1216.JPG  \n",
            "  inflating: veggie_fruit_data/train/papaya/IMG_03367.jpg  \n",
            "  inflating: veggie_fruit_data/train/papaya/IMG_03331.jpg  \n",
            "  inflating: veggie_fruit_data/train/papaya/IMG_1235.JPG  \n",
            "  inflating: veggie_fruit_data/train/papaya/IMG_03395.jpg  \n",
            "  inflating: veggie_fruit_data/train/papaya/IMG_03356.jpg  \n",
            "  inflating: veggie_fruit_data/train/papaya/IMG_03401.jpg  \n",
            "  inflating: veggie_fruit_data/train/papaya/IMG_03330.jpg  \n",
            "  inflating: veggie_fruit_data/train/papaya/IMG_03338.jpg  \n",
            "  inflating: veggie_fruit_data/train/papaya/IMG_03342.jpg  \n",
            "  inflating: veggie_fruit_data/train/papaya/IMG_03382.jpg  \n",
            "  inflating: veggie_fruit_data/train/papaya/IMG_03334.jpg  \n",
            "   creating: veggie_fruit_data/train/cherry_tomato/\n",
            "  inflating: veggie_fruit_data/train/cherry_tomato/IMG_0466.jpg  \n",
            "  inflating: veggie_fruit_data/train/cherry_tomato/IMG_2731.JPG  \n",
            "  inflating: veggie_fruit_data/train/cherry_tomato/IMG_7778.jpg  \n",
            "  inflating: veggie_fruit_data/train/cherry_tomato/IMG_8875.jpg  \n",
            "  inflating: veggie_fruit_data/train/cherry_tomato/IMG_7912.jpg  \n",
            "  inflating: veggie_fruit_data/train/cherry_tomato/IMG_2666.JPG  \n",
            "  inflating: veggie_fruit_data/train/cherry_tomato/IMG_0465.jpg  \n",
            "  inflating: veggie_fruit_data/train/cherry_tomato/IMG_8873.jpg  \n",
            "  inflating: veggie_fruit_data/train/cherry_tomato/IMG_7911.jpg  \n",
            "  inflating: veggie_fruit_data/train/cherry_tomato/IMG_2732.JPG  \n",
            "  inflating: veggie_fruit_data/train/cherry_tomato/IMG_8874.jpg  \n",
            "   creating: veggie_fruit_data/train/bitter_melon/\n",
            "  inflating: veggie_fruit_data/train/bitter_melon/IMG_03343.jpg  \n",
            "  inflating: veggie_fruit_data/train/bitter_melon/IMG_03335.jpg  \n",
            "  inflating: veggie_fruit_data/train/bitter_melon/IMG_7802.jpg  \n",
            "  inflating: veggie_fruit_data/train/bitter_melon/IMG_7118.JPG  \n",
            "  inflating: veggie_fruit_data/train/bitter_melon/IMG_8753.jpg  \n",
            "  inflating: veggie_fruit_data/train/bitter_melon/IMG_03340.jpg  \n",
            "  inflating: veggie_fruit_data/train/bitter_melon/IMG_8781.jpg  \n",
            "  inflating: veggie_fruit_data/train/bitter_melon/IMG_8782.jpg  \n",
            "  inflating: veggie_fruit_data/train/bitter_melon/IMG_03337.jpg  \n",
            "  inflating: veggie_fruit_data/train/bitter_melon/IMG_03339.jpg  \n",
            "  inflating: veggie_fruit_data/train/bitter_melon/IMG_03351.jpg  \n",
            "  inflating: veggie_fruit_data/train/bitter_melon/IMG_03366.jpg  \n",
            "  inflating: veggie_fruit_data/train/bitter_melon/IMG_6972.JPG  \n",
            "  inflating: veggie_fruit_data/train/bitter_melon/IMG_03341.jpg  \n",
            "  inflating: veggie_fruit_data/train/bitter_melon/IMG_03344.jpg  \n",
            "  inflating: veggie_fruit_data/train/bitter_melon/IMG_03372.jpg  \n",
            "  inflating: veggie_fruit_data/train/bitter_melon/IMG_03361.jpg  \n",
            "  inflating: veggie_fruit_data/train/bitter_melon/IMG_03333.jpg  \n",
            "  inflating: veggie_fruit_data/train/bitter_melon/IMG_03369.jpg  \n",
            "  inflating: veggie_fruit_data/train/bitter_melon/IMG_7115.JPG  \n",
            "  inflating: veggie_fruit_data/train/bitter_melon/IMG_03355.jpg  \n",
            "  inflating: veggie_fruit_data/train/bitter_melon/IMG_03363.jpg  \n",
            "  inflating: veggie_fruit_data/train/bitter_melon/IMG_03353.jpg  \n",
            "  inflating: veggie_fruit_data/train/bitter_melon/IMG_03359.jpg  \n",
            "  inflating: veggie_fruit_data/train/bitter_melon/IMG_03350.jpg  \n",
            "  inflating: veggie_fruit_data/train/bitter_melon/IMG_03354.jpg  \n",
            "  inflating: veggie_fruit_data/train/bitter_melon/IMG_03376.jpg  \n",
            "  inflating: veggie_fruit_data/train/bitter_melon/IMG_03370.jpg  \n",
            "  inflating: veggie_fruit_data/train/bitter_melon/IMG_03373.jpg  \n",
            "  inflating: veggie_fruit_data/train/bitter_melon/IMG_03336.jpg  \n",
            "  inflating: veggie_fruit_data/train/bitter_melon/IMG_03348.jpg  \n",
            "  inflating: veggie_fruit_data/train/bitter_melon/IMG_03360.jpg  \n",
            "  inflating: veggie_fruit_data/train/bitter_melon/IMG_7129.JPG  \n",
            "  inflating: veggie_fruit_data/train/bitter_melon/IMG_7801.jpg  \n",
            "  inflating: veggie_fruit_data/train/bitter_melon/IMG_03332.jpg  \n",
            "  inflating: veggie_fruit_data/train/bitter_melon/IMG_03357.jpg  \n",
            "  inflating: veggie_fruit_data/train/bitter_melon/IMG_03349.jpg  \n",
            "  inflating: veggie_fruit_data/train/bitter_melon/IMG_03345.jpg  \n",
            "  inflating: veggie_fruit_data/train/bitter_melon/IMG_7117.JPG  \n",
            "  inflating: veggie_fruit_data/train/bitter_melon/IMG_03375.jpg  \n",
            "  inflating: veggie_fruit_data/train/bitter_melon/IMG_03362.jpg  \n",
            "  inflating: veggie_fruit_data/train/bitter_melon/IMG_03352.jpg  \n",
            "  inflating: veggie_fruit_data/train/bitter_melon/IMG_8780.jpg  \n",
            "  inflating: veggie_fruit_data/train/bitter_melon/IMG_03364.jpg  \n",
            "  inflating: veggie_fruit_data/train/bitter_melon/IMG_03358.jpg  \n",
            "  inflating: veggie_fruit_data/train/bitter_melon/IMG_03331.jpg  \n",
            "  inflating: veggie_fruit_data/train/bitter_melon/IMG_2780.JPG  \n",
            "  inflating: veggie_fruit_data/train/bitter_melon/IMG_03330.jpg  \n",
            "  inflating: veggie_fruit_data/train/bitter_melon/IMG_03338.jpg  \n",
            "  inflating: veggie_fruit_data/train/bitter_melon/IMG_03342.jpg  \n",
            "  inflating: veggie_fruit_data/train/bitter_melon/IMG_7120.JPG  \n",
            "  inflating: veggie_fruit_data/train/bitter_melon/IMG_8751.jpg  \n",
            "  inflating: veggie_fruit_data/train/bitter_melon/IMG_03334.jpg  \n",
            "   creating: veggie_fruit_data/train/red_radishes/\n",
            "  inflating: veggie_fruit_data/train/red_radishes/IMG_5354.JPG  \n",
            "  inflating: veggie_fruit_data/train/red_radishes/IMG_5350.JPG  \n",
            "  inflating: veggie_fruit_data/train/red_radishes/IMG_5353.JPG  \n",
            "  inflating: veggie_fruit_data/train/red_radishes/IMG_5351.JPG  \n",
            "   creating: veggie_fruit_data/train/peanut/\n",
            "  inflating: veggie_fruit_data/train/peanut/IMG_7088.JPG  \n",
            "  inflating: veggie_fruit_data/train/peanut/IMG_6997.JPG  \n",
            "  inflating: veggie_fruit_data/train/peanut/IMG_7005.JPG  \n",
            "  inflating: veggie_fruit_data/train/peanut/IMG_7084.JPG  \n",
            "  inflating: veggie_fruit_data/train/peanut/IMG_2791.JPG  \n",
            "  inflating: veggie_fruit_data/train/peanut/IMG_7210.JPG  \n",
            "  inflating: veggie_fruit_data/train/peanut/IMG_7004.JPG  \n",
            "  inflating: veggie_fruit_data/train/peanut/IMG_7089.JPG  \n",
            "  inflating: veggie_fruit_data/train/peanut/IMG_7085.JPG  \n",
            "  inflating: veggie_fruit_data/train/peanut/IMG_7002.JPG  \n",
            "  inflating: veggie_fruit_data/train/peanut/IMG_6998.JPG  \n",
            "  inflating: veggie_fruit_data/train/peanut/IMG_7083.JPG  \n",
            "  inflating: veggie_fruit_data/train/peanut/IMG_7209.JPG  \n",
            "  inflating: veggie_fruit_data/train/peanut/IMG_7087.JPG  \n",
            "  inflating: veggie_fruit_data/train/peanut/IMG_6999.JPG  \n",
            "   creating: veggie_fruit_data/validate/\n",
            "   creating: veggie_fruit_data/validate/water_melon/\n",
            "  inflating: veggie_fruit_data/validate/water_melon/IMG_1187.JPG  \n",
            "  inflating: veggie_fruit_data/validate/water_melon/IMG_03339.jpg  \n",
            "  inflating: veggie_fruit_data/validate/water_melon/IMG_03347.jpg  \n",
            "  inflating: veggie_fruit_data/validate/water_melon/IMG_6664.JPG  \n",
            "  inflating: veggie_fruit_data/validate/water_melon/IMG_03344.jpg  \n",
            "  inflating: veggie_fruit_data/validate/water_melon/IMG_1190.JPG  \n",
            "  inflating: veggie_fruit_data/validate/water_melon/IMG_03350.jpg  \n",
            "  inflating: veggie_fruit_data/validate/water_melon/IMG_03364.jpg  \n",
            "  inflating: veggie_fruit_data/validate/water_melon/IMG_0578.jpg  \n",
            "  inflating: veggie_fruit_data/validate/water_melon/IMG_03358.jpg  \n",
            "  inflating: veggie_fruit_data/validate/water_melon/IMG_03356.jpg  \n",
            "  inflating: veggie_fruit_data/validate/water_melon/IMG_6662.JPG  \n",
            "   creating: veggie_fruit_data/validate/tomato/\n",
            "  inflating: veggie_fruit_data/validate/tomato/IMG_03388.jpg  \n",
            "  inflating: veggie_fruit_data/validate/tomato/IMG_03381.jpg  \n",
            "  inflating: veggie_fruit_data/validate/tomato/IMG_7103.JPG  \n",
            "  inflating: veggie_fruit_data/validate/tomato/IMG_03433.jpg  \n",
            "  inflating: veggie_fruit_data/validate/tomato/IMG_6610.JPG  \n",
            "  inflating: veggie_fruit_data/validate/tomato/IMG_03377.jpg  \n",
            "  inflating: veggie_fruit_data/validate/tomato/IMG_03407.jpg  \n",
            "  inflating: veggie_fruit_data/validate/tomato/IMG_03366.jpg  \n",
            "  inflating: veggie_fruit_data/validate/tomato/IMG_03422.jpg  \n",
            "  inflating: veggie_fruit_data/validate/tomato/IMG_03412.jpg  \n",
            "  inflating: veggie_fruit_data/validate/tomato/IMG_03413.jpg  \n",
            "  inflating: veggie_fruit_data/validate/tomato/IMG_03361.jpg  \n",
            "  inflating: veggie_fruit_data/validate/tomato/IMG_03385.jpg  \n",
            "  inflating: veggie_fruit_data/validate/tomato/IMG_03355.jpg  \n",
            "  inflating: veggie_fruit_data/validate/tomato/IMG_03353.jpg  \n",
            "  inflating: veggie_fruit_data/validate/tomato/IMG_03393.jpg  \n",
            "  inflating: veggie_fruit_data/validate/tomato/IMG_03386.jpg  \n",
            "  inflating: veggie_fruit_data/validate/tomato/IMG_03410.jpg  \n",
            "  inflating: veggie_fruit_data/validate/tomato/IMG_03358.jpg  \n",
            "  inflating: veggie_fruit_data/validate/tomato/IMG_03420.jpg  \n",
            "  inflating: veggie_fruit_data/validate/tomato/IMG_03331.jpg  \n",
            "  inflating: veggie_fruit_data/validate/tomato/IMG_03379.jpg  \n",
            "  inflating: veggie_fruit_data/validate/tomato/IMG_03338.jpg  \n",
            "   creating: veggie_fruit_data/validate/celery/\n",
            "  inflating: veggie_fruit_data/validate/celery/IMG_5396.JPG  \n",
            "  inflating: veggie_fruit_data/validate/celery/IMG_9193.jpg  \n",
            "  inflating: veggie_fruit_data/validate/celery/IMG_6930.JPG  \n",
            "  inflating: veggie_fruit_data/validate/celery/IMG_6932.JPG  \n",
            "  inflating: veggie_fruit_data/validate/celery/IMG_6927.JPG  \n",
            "  inflating: veggie_fruit_data/validate/celery/IMG_6978.JPG  \n",
            "   creating: veggie_fruit_data/validate/cabbage/\n",
            "  inflating: veggie_fruit_data/validate/cabbage/IMG_03388.jpg  \n",
            "  inflating: veggie_fruit_data/validate/cabbage/IMG_9264.jpg  \n",
            "  inflating: veggie_fruit_data/validate/cabbage/IMG_03378.jpg  \n",
            "  inflating: veggie_fruit_data/validate/cabbage/IMG_03347.jpg  \n",
            "  inflating: veggie_fruit_data/validate/cabbage/IMG_03371.jpg  \n",
            "  inflating: veggie_fruit_data/validate/cabbage/IMG_03366.jpg  \n",
            "  inflating: veggie_fruit_data/validate/cabbage/IMG_03383.jpg  \n",
            "  inflating: veggie_fruit_data/validate/cabbage/IMG_03390.jpg  \n",
            "  inflating: veggie_fruit_data/validate/cabbage/IMG_03355.jpg  \n",
            "  inflating: veggie_fruit_data/validate/cabbage/IMG_03393.jpg  \n",
            "  inflating: veggie_fruit_data/validate/cabbage/IMG_03348.jpg  \n",
            "  inflating: veggie_fruit_data/validate/cabbage/IMG_03391.jpg  \n",
            "  inflating: veggie_fruit_data/validate/cabbage/IMG_03345.jpg  \n",
            "  inflating: veggie_fruit_data/validate/cabbage/IMG_03364.jpg  \n",
            "  inflating: veggie_fruit_data/validate/cabbage/IMG_03358.jpg  \n",
            "  inflating: veggie_fruit_data/validate/cabbage/IMG_9262.jpg  \n",
            "  inflating: veggie_fruit_data/validate/cabbage/IMG_03405.jpg  \n",
            "   creating: veggie_fruit_data/validate/durian/\n",
            "  inflating: veggie_fruit_data/validate/durian/IMG_9084.JPG  \n",
            "  inflating: veggie_fruit_data/validate/durian/IMG_9109.JPG  \n",
            "  inflating: veggie_fruit_data/validate/durian/IMG_9116.JPG  \n",
            "  inflating: veggie_fruit_data/validate/durian/IMG_9094.JPG  \n",
            "  inflating: veggie_fruit_data/validate/durian/IMG_9087.JPG  \n",
            "  inflating: veggie_fruit_data/validate/durian/IMG_9090.JPG  \n",
            "   creating: veggie_fruit_data/validate/lemongrass/\n",
            "  inflating: veggie_fruit_data/validate/lemongrass/IMG_5557.JPG  \n",
            "  inflating: veggie_fruit_data/validate/lemongrass/IMG_5555.JPG  \n",
            "  inflating: veggie_fruit_data/validate/lemongrass/IMG_7016.JPG  \n",
            "  inflating: veggie_fruit_data/validate/lemongrass/IMG_5561.JPG  \n",
            "   creating: veggie_fruit_data/validate/lacinato_kale/\n",
            "  inflating: veggie_fruit_data/validate/lacinato_kale/IMG_3717.jpg  \n",
            "   creating: veggie_fruit_data/validate/beets/\n",
            "  inflating: veggie_fruit_data/validate/beets/IMG_5376.JPG  \n",
            "  inflating: veggie_fruit_data/validate/beets/IMG_3751.JPG  \n",
            "   creating: veggie_fruit_data/validate/eggplant/\n",
            "  inflating: veggie_fruit_data/validate/eggplant/IMG_03388.jpg  \n",
            "  inflating: veggie_fruit_data/validate/eggplant/IMG_0316.jpg  \n",
            "  inflating: veggie_fruit_data/validate/eggplant/IMG_03377.jpg  \n",
            "  inflating: veggie_fruit_data/validate/eggplant/IMG_03402.jpg  \n",
            "  inflating: veggie_fruit_data/validate/eggplant/IMG_03351.jpg  \n",
            "  inflating: veggie_fruit_data/validate/eggplant/IMG_03372.jpg  \n",
            "  inflating: veggie_fruit_data/validate/eggplant/IMG_3668.jpg  \n",
            "  inflating: veggie_fruit_data/validate/eggplant/IMG_7137.JPG  \n",
            "  inflating: veggie_fruit_data/validate/eggplant/IMG_03369.jpg  \n",
            "  inflating: veggie_fruit_data/validate/eggplant/IMG_03355.jpg  \n",
            "  inflating: veggie_fruit_data/validate/eggplant/IMG_03363.jpg  \n",
            "  inflating: veggie_fruit_data/validate/eggplant/IMG_03353.jpg  \n",
            "  inflating: veggie_fruit_data/validate/eggplant/IMG_03393.jpg  \n",
            "  inflating: veggie_fruit_data/validate/eggplant/IMG_0382.jpg  \n",
            "  inflating: veggie_fruit_data/validate/eggplant/IMG_0395.jpg  \n",
            "  inflating: veggie_fruit_data/validate/eggplant/IMG_7813.jpg  \n",
            "  inflating: veggie_fruit_data/validate/eggplant/IMG_7155.JPG  \n",
            "  inflating: veggie_fruit_data/validate/eggplant/IMG_03379.jpg  \n",
            "  inflating: veggie_fruit_data/validate/eggplant/IMG_03401.jpg  \n",
            "   creating: veggie_fruit_data/validate/potato/\n",
            "  inflating: veggie_fruit_data/validate/potato/IMG_5405.JPG  \n",
            "   creating: veggie_fruit_data/validate/lemon/\n",
            "  inflating: veggie_fruit_data/validate/lemon/IMG_4870.JPG  \n",
            "  inflating: veggie_fruit_data/validate/lemon/IMG_03340.jpg  \n",
            "  inflating: veggie_fruit_data/validate/lemon/IMG_03351.jpg  \n",
            "  inflating: veggie_fruit_data/validate/lemon/IMG_03350.jpg  \n",
            "  inflating: veggie_fruit_data/validate/lemon/IMG_03354.jpg  \n",
            "  inflating: veggie_fruit_data/validate/lemon/IMG_4872.JPG  \n",
            "  inflating: veggie_fruit_data/validate/lemon/IMG_03346.jpg  \n",
            "  inflating: veggie_fruit_data/validate/lemon/IMG_03370.jpg  \n",
            "  inflating: veggie_fruit_data/validate/lemon/IMG_03357.jpg  \n",
            "  inflating: veggie_fruit_data/validate/lemon/IMG_03362.jpg  \n",
            "   creating: veggie_fruit_data/validate/daikon/\n",
            "  inflating: veggie_fruit_data/validate/daikon/IMG_4917.JPG  \n",
            "  inflating: veggie_fruit_data/validate/daikon/IMG_4918.JPG  \n",
            "   creating: veggie_fruit_data/validate/english_peas/\n",
            "  inflating: veggie_fruit_data/validate/english_peas/IMG_5407.JPG  \n",
            "  inflating: veggie_fruit_data/validate/english_peas/IMG_5408.JPG  \n",
            "   creating: veggie_fruit_data/validate/dragon_fruit/\n",
            "  inflating: veggie_fruit_data/validate/dragon_fruit/IMG_03388.jpg  \n",
            "  inflating: veggie_fruit_data/validate/dragon_fruit/IMG_03374.jpg  \n",
            "  inflating: veggie_fruit_data/validate/dragon_fruit/IMG_03372.jpg  \n",
            "  inflating: veggie_fruit_data/validate/dragon_fruit/IMG_03385.jpg  \n",
            "  inflating: veggie_fruit_data/validate/dragon_fruit/IMG_03390.jpg  \n",
            "  inflating: veggie_fruit_data/validate/dragon_fruit/IMG_03387.jpg  \n",
            "  inflating: veggie_fruit_data/validate/dragon_fruit/IMG_03354.jpg  \n",
            "  inflating: veggie_fruit_data/validate/dragon_fruit/IMG_03393.jpg  \n",
            "  inflating: veggie_fruit_data/validate/dragon_fruit/IMG_03357.jpg  \n",
            "  inflating: veggie_fruit_data/validate/dragon_fruit/IMG_03345.jpg  \n",
            "  inflating: veggie_fruit_data/validate/dragon_fruit/IMG_03362.jpg  \n",
            "  inflating: veggie_fruit_data/validate/dragon_fruit/IMG_03367.jpg  \n",
            "  inflating: veggie_fruit_data/validate/dragon_fruit/IMG_03356.jpg  \n",
            "  inflating: veggie_fruit_data/validate/dragon_fruit/IMG_03379.jpg  \n",
            "  inflating: veggie_fruit_data/validate/dragon_fruit/IMG_03330.jpg  \n",
            "   creating: veggie_fruit_data/validate/banana/\n",
            "  inflating: veggie_fruit_data/validate/banana/IMG_03388.jpg  \n",
            "  inflating: veggie_fruit_data/validate/banana/IMG_03335.jpg  \n",
            "  inflating: veggie_fruit_data/validate/banana/IMG_03406.jpg  \n",
            "  inflating: veggie_fruit_data/validate/banana/IMG_03337.jpg  \n",
            "  inflating: veggie_fruit_data/validate/banana/IMG_03339.jpg  \n",
            "  inflating: veggie_fruit_data/validate/banana/IMG_03347.jpg  \n",
            "  inflating: veggie_fruit_data/validate/banana/IMG_03361.jpg  \n",
            "  inflating: veggie_fruit_data/validate/banana/IMG_03399.jpg  \n",
            "  inflating: veggie_fruit_data/validate/banana/IMG_03393.jpg  \n",
            "  inflating: veggie_fruit_data/validate/banana/IMG_03391.jpg  \n",
            "  inflating: veggie_fruit_data/validate/banana/IMG_03396.jpg  \n",
            "  inflating: veggie_fruit_data/validate/banana/IMG_03357.jpg  \n",
            "  inflating: veggie_fruit_data/validate/banana/IMG_03362.jpg  \n",
            "  inflating: veggie_fruit_data/validate/banana/IMG_1193.JPG  \n",
            "  inflating: veggie_fruit_data/validate/banana/IMG_03358.jpg  \n",
            "  inflating: veggie_fruit_data/validate/banana/IMG_03356.jpg  \n",
            "  inflating: veggie_fruit_data/validate/banana/IMG_03379.jpg  \n",
            "  inflating: veggie_fruit_data/validate/banana/IMG_03405.jpg  \n",
            "   creating: veggie_fruit_data/validate/savoy_cabbage/\n",
            "  inflating: veggie_fruit_data/validate/savoy_cabbage/IMG_3690.jpg  \n",
            "   creating: veggie_fruit_data/validate/kabocha_squash/\n",
            "  inflating: veggie_fruit_data/validate/kabocha_squash/IMG_03456.jpg  \n",
            "  inflating: veggie_fruit_data/validate/kabocha_squash/IMG_03446.jpg  \n",
            "  inflating: veggie_fruit_data/validate/kabocha_squash/IMG_03451.jpg  \n",
            "  inflating: veggie_fruit_data/validate/kabocha_squash/IMG_03492.jpg  \n",
            "  inflating: veggie_fruit_data/validate/kabocha_squash/IMG_03493.jpg  \n",
            "  inflating: veggie_fruit_data/validate/kabocha_squash/IMG_03464.jpg  \n",
            "  inflating: veggie_fruit_data/validate/kabocha_squash/IMG_03476.jpg  \n",
            "  inflating: veggie_fruit_data/validate/kabocha_squash/IMG_3661.jpg  \n",
            "  inflating: veggie_fruit_data/validate/kabocha_squash/IMG_03475.jpg  \n",
            "  inflating: veggie_fruit_data/validate/kabocha_squash/IMG_03466.jpg  \n",
            "  inflating: veggie_fruit_data/validate/kabocha_squash/IMG_03490.jpg  \n",
            "  inflating: veggie_fruit_data/validate/kabocha_squash/IMG_03438.jpg  \n",
            "  inflating: veggie_fruit_data/validate/kabocha_squash/IMG_03484.jpg  \n",
            "   creating: veggie_fruit_data/validate/curly_leaf_kale/\n",
            "  inflating: veggie_fruit_data/validate/curly_leaf_kale/IMG_3712.jpg  \n",
            "   creating: veggie_fruit_data/validate/dandelion_greens/\n",
            "  inflating: veggie_fruit_data/validate/dandelion_greens/IMG_3740.jpg  \n",
            "   creating: veggie_fruit_data/validate/green_onion/\n",
            "  inflating: veggie_fruit_data/validate/green_onion/IMG_03411.jpg  \n",
            "  inflating: veggie_fruit_data/validate/green_onion/IMG_03414.jpg  \n",
            "  inflating: veggie_fruit_data/validate/green_onion/IMG_03397.jpg  \n",
            "  inflating: veggie_fruit_data/validate/green_onion/IMG_03366.jpg  \n",
            "  inflating: veggie_fruit_data/validate/green_onion/IMG_03383.jpg  \n",
            "  inflating: veggie_fruit_data/validate/green_onion/IMG_03341.jpg  \n",
            "  inflating: veggie_fruit_data/validate/green_onion/IMG_03422.jpg  \n",
            "  inflating: veggie_fruit_data/validate/green_onion/IMG_03398.jpg  \n",
            "  inflating: veggie_fruit_data/validate/green_onion/IMG_03333.jpg  \n",
            "  inflating: veggie_fruit_data/validate/green_onion/IMG_03390.jpg  \n",
            "  inflating: veggie_fruit_data/validate/green_onion/IMG_3221.jpg  \n",
            "  inflating: veggie_fruit_data/validate/green_onion/IMG_03399.jpg  \n",
            "  inflating: veggie_fruit_data/validate/green_onion/IMG_0302.jpg  \n",
            "  inflating: veggie_fruit_data/validate/green_onion/IMG_3169.jpg  \n",
            "  inflating: veggie_fruit_data/validate/green_onion/IMG_0301.jpg  \n",
            "  inflating: veggie_fruit_data/validate/green_onion/IMG_03357.jpg  \n",
            "  inflating: veggie_fruit_data/validate/green_onion/IMG_1266.JPG  \n",
            "  inflating: veggie_fruit_data/validate/green_onion/IMG_03368.jpg  \n",
            "  inflating: veggie_fruit_data/validate/green_onion/IMG_03426.jpg  \n",
            "  inflating: veggie_fruit_data/validate/green_onion/IMG_03358.jpg  \n",
            "  inflating: veggie_fruit_data/validate/green_onion/IMG_03409.jpg  \n",
            "  inflating: veggie_fruit_data/validate/green_onion/IMG_1268.JPG  \n",
            "  inflating: veggie_fruit_data/validate/green_onion/IMG_03356.jpg  \n",
            "  inflating: veggie_fruit_data/validate/green_onion/IMG_03379.jpg  \n",
            "  inflating: veggie_fruit_data/validate/green_onion/IMG_03338.jpg  \n",
            "  inflating: veggie_fruit_data/validate/green_onion/IMG_03342.jpg  \n",
            "  inflating: veggie_fruit_data/validate/green_onion/IMG_3220.jpg  \n",
            "   creating: veggie_fruit_data/validate/carrot/\n",
            "  inflating: veggie_fruit_data/validate/carrot/IMG_8664.jpg  \n",
            "  inflating: veggie_fruit_data/validate/carrot/IMG_9198.jpg  \n",
            "  inflating: veggie_fruit_data/validate/carrot/IMG_8665.jpg  \n",
            "  inflating: veggie_fruit_data/validate/carrot/IMG_3206.jpg  \n",
            "  inflating: veggie_fruit_data/validate/carrot/IMG_7224.JPG  \n",
            "  inflating: veggie_fruit_data/validate/carrot/IMG_7229.JPG  \n",
            "  inflating: veggie_fruit_data/validate/carrot/IMG_9208.jpg  \n",
            "   creating: veggie_fruit_data/validate/leeks/\n",
            "  inflating: veggie_fruit_data/validate/leeks/IMG_3745.JPG  \n",
            "   creating: veggie_fruit_data/validate/asparagus/\n",
            "  inflating: veggie_fruit_data/validate/asparagus/IMG_1891.JPG  \n",
            "  inflating: veggie_fruit_data/validate/asparagus/IMG_1889.JPG  \n",
            "  inflating: veggie_fruit_data/validate/asparagus/IMG_1887.JPG  \n",
            "   creating: veggie_fruit_data/validate/baby_head_lettuce/\n",
            "  inflating: veggie_fruit_data/validate/baby_head_lettuce/IMG_5368.JPG  \n",
            "   creating: veggie_fruit_data/validate/korean_radish/\n",
            "  inflating: veggie_fruit_data/validate/korean_radish/IMG_1282.JPG  \n",
            "  inflating: veggie_fruit_data/validate/korean_radish/IMG_1277.JPG  \n",
            "   creating: veggie_fruit_data/validate/rainbow_chard/\n",
            "  inflating: veggie_fruit_data/validate/rainbow_chard/IMG_3723.jpg  \n",
            "   creating: veggie_fruit_data/validate/pomegranate/\n",
            "  inflating: veggie_fruit_data/validate/pomegranate/IMG_7303.JPG  \n",
            "  inflating: veggie_fruit_data/validate/pomegranate/IMG_7304.JPG  \n",
            "  inflating: veggie_fruit_data/validate/pomegranate/IMG_7280.JPG  \n",
            "  inflating: veggie_fruit_data/validate/pomegranate/IMG_7278.JPG  \n",
            "  inflating: veggie_fruit_data/validate/pomegranate/IMG_6621.JPG  \n",
            "  inflating: veggie_fruit_data/validate/pomegranate/IMG_7281.JPG  \n",
            "   creating: veggie_fruit_data/validate/sugar_snap_peas/\n",
            "  inflating: veggie_fruit_data/validate/sugar_snap_peas/IMG_5386.JPG  \n",
            "   creating: veggie_fruit_data/validate/long_bean/\n",
            "  inflating: veggie_fruit_data/validate/long_bean/IMG_6606.JPG  \n",
            "  inflating: veggie_fruit_data/validate/long_bean/IMG_6605.JPG  \n",
            "  inflating: veggie_fruit_data/validate/long_bean/IMG_6609.JPG  \n",
            "  inflating: veggie_fruit_data/validate/long_bean/IMG_7009.JPG  \n",
            "  inflating: veggie_fruit_data/validate/long_bean/IMG_7010.JPG  \n",
            "  inflating: veggie_fruit_data/validate/long_bean/IMG_5533.JPG  \n",
            "   creating: veggie_fruit_data/validate/collard/\n",
            "  inflating: veggie_fruit_data/validate/collard/IMG_3736.jpg  \n",
            "   creating: veggie_fruit_data/validate/okra/\n",
            "  inflating: veggie_fruit_data/validate/okra/IMG_8634.jpg  \n",
            "  inflating: veggie_fruit_data/validate/okra/IMG_7123.JPG  \n",
            "  inflating: veggie_fruit_data/validate/okra/IMG_2777.JPG  \n",
            "  inflating: veggie_fruit_data/validate/okra/IMG_0378.jpg  \n",
            "  inflating: veggie_fruit_data/validate/okra/IMG_7125.JPG  \n",
            "  inflating: veggie_fruit_data/validate/okra/IMG_7248.JPG  \n",
            "  inflating: veggie_fruit_data/validate/okra/IMG_8680.jpg  \n",
            "   creating: veggie_fruit_data/validate/onion/\n",
            "  inflating: veggie_fruit_data/validate/onion/IMG_9259.jpg  \n",
            "  inflating: veggie_fruit_data/validate/onion/IMG_7755.jpg  \n",
            "  inflating: veggie_fruit_data/validate/onion/IMG_3437.jpg  \n",
            "  inflating: veggie_fruit_data/validate/onion/IMG_3436.jpg  \n",
            "   creating: veggie_fruit_data/validate/lime/\n",
            "  inflating: veggie_fruit_data/validate/lime/IMG_2159.JPG  \n",
            "  inflating: veggie_fruit_data/validate/lime/IMG_03337.jpg  \n",
            "  inflating: veggie_fruit_data/validate/lime/IMG_03347.jpg  \n",
            "  inflating: veggie_fruit_data/validate/lime/IMG_03351.jpg  \n",
            "  inflating: veggie_fruit_data/validate/lime/IMG_03330.jpg  \n",
            "  inflating: veggie_fruit_data/validate/lime/IMG_03338.jpg  \n",
            "  inflating: veggie_fruit_data/validate/lime/IMG_03342.jpg  \n",
            "   creating: veggie_fruit_data/validate/summer_squash/\n",
            "  inflating: veggie_fruit_data/validate/summer_squash/IMG_5415.JPG  \n",
            "  inflating: veggie_fruit_data/validate/summer_squash/IMG_5421.JPG  \n",
            "   creating: veggie_fruit_data/validate/cantaloupe/\n",
            "  inflating: veggie_fruit_data/validate/cantaloupe/IMG_2131.JPG  \n",
            "  inflating: veggie_fruit_data/validate/cantaloupe/IMG_2130.JPG  \n",
            "   creating: veggie_fruit_data/validate/cilantro/\n",
            "  inflating: veggie_fruit_data/validate/cilantro/IMG_9182.jpg  \n",
            "   creating: veggie_fruit_data/validate/red_chicory/\n",
            "  inflating: veggie_fruit_data/validate/red_chicory/IMG_3686.jpg  \n",
            "   creating: veggie_fruit_data/validate/yellow_peach/\n",
            "  inflating: veggie_fruit_data/validate/yellow_peach/IMG_7717.jpg  \n",
            "   creating: veggie_fruit_data/validate/corn/\n",
            "  inflating: veggie_fruit_data/validate/corn/IMG_03343.jpg  \n",
            "  inflating: veggie_fruit_data/validate/corn/IMG_1256.JPG  \n",
            "  inflating: veggie_fruit_data/validate/corn/IMG_03371.jpg  \n",
            "  inflating: veggie_fruit_data/validate/corn/IMG_03366.jpg  \n",
            "  inflating: veggie_fruit_data/validate/corn/IMG_03361.jpg  \n",
            "  inflating: veggie_fruit_data/validate/corn/IMG_03350.jpg  \n",
            "  inflating: veggie_fruit_data/validate/corn/IMG_03346.jpg  \n",
            "  inflating: veggie_fruit_data/validate/corn/IMG_03370.jpg  \n",
            "  inflating: veggie_fruit_data/validate/corn/IMG_03345.jpg  \n",
            "  inflating: veggie_fruit_data/validate/corn/IMG_03375.jpg  \n",
            "  inflating: veggie_fruit_data/validate/corn/IMG_03362.jpg  \n",
            "  inflating: veggie_fruit_data/validate/corn/IMG_03356.jpg  \n",
            "   creating: veggie_fruit_data/validate/cauliflower/\n",
            "  inflating: veggie_fruit_data/validate/cauliflower/IMG_7743.jpg  \n",
            "  inflating: veggie_fruit_data/validate/cauliflower/IMG_03381.jpg  \n",
            "  inflating: veggie_fruit_data/validate/cauliflower/IMG_03343.jpg  \n",
            "  inflating: veggie_fruit_data/validate/cauliflower/IMG_0289.jpg  \n",
            "  inflating: veggie_fruit_data/validate/cauliflower/IMG_03378.jpg  \n",
            "  inflating: veggie_fruit_data/validate/cauliflower/IMG_03383.jpg  \n",
            "  inflating: veggie_fruit_data/validate/cauliflower/IMG_03333.jpg  \n",
            "  inflating: veggie_fruit_data/validate/cauliflower/IMG_03390.jpg  \n",
            "  inflating: veggie_fruit_data/validate/cauliflower/IMG_03355.jpg  \n",
            "  inflating: veggie_fruit_data/validate/cauliflower/IMG_03363.jpg  \n",
            "  inflating: veggie_fruit_data/validate/cauliflower/IMG_03387.jpg  \n",
            "  inflating: veggie_fruit_data/validate/cauliflower/IMG_03368.jpg  \n",
            "  inflating: veggie_fruit_data/validate/cauliflower/IMG_3237.jpg  \n",
            "  inflating: veggie_fruit_data/validate/cauliflower/IMG_03358.jpg  \n",
            "  inflating: veggie_fruit_data/validate/cauliflower/IMG_03367.jpg  \n",
            "  inflating: veggie_fruit_data/validate/cauliflower/IMG_3197.jpg  \n",
            "  inflating: veggie_fruit_data/validate/cauliflower/IMG_03382.jpg  \n",
            "  inflating: veggie_fruit_data/validate/cauliflower/IMG_9177.jpg  \n",
            "  inflating: veggie_fruit_data/validate/cauliflower/IMG_03334.jpg  \n",
            "   creating: veggie_fruit_data/validate/chinese_cabbage/\n",
            "  inflating: veggie_fruit_data/validate/chinese_cabbage/IMG_9156.jpg  \n",
            "   creating: veggie_fruit_data/validate/broccoli/\n",
            "  inflating: veggie_fruit_data/validate/broccoli/IMG_3175.jpg  \n",
            "  inflating: veggie_fruit_data/validate/broccoli/IMG_03340.jpg  \n",
            "  inflating: veggie_fruit_data/validate/broccoli/IMG_03397.jpg  \n",
            "  inflating: veggie_fruit_data/validate/broccoli/IMG_1275.JPG  \n",
            "  inflating: veggie_fruit_data/validate/broccoli/IMG_03351.jpg  \n",
            "  inflating: veggie_fruit_data/validate/broccoli/IMG_03398.jpg  \n",
            "  inflating: veggie_fruit_data/validate/broccoli/IMG_03385.jpg  \n",
            "  inflating: veggie_fruit_data/validate/broccoli/IMG_9191.jpg  \n",
            "  inflating: veggie_fruit_data/validate/broccoli/IMG_03387.jpg  \n",
            "  inflating: veggie_fruit_data/validate/broccoli/IMG_03399.jpg  \n",
            "  inflating: veggie_fruit_data/validate/broccoli/IMG_3210.jpg  \n",
            "  inflating: veggie_fruit_data/validate/broccoli/IMG_03348.jpg  \n",
            "  inflating: veggie_fruit_data/validate/broccoli/IMG_3211.jpg  \n",
            "  inflating: veggie_fruit_data/validate/broccoli/IMG_0320.jpg  \n",
            "  inflating: veggie_fruit_data/validate/broccoli/IMG_0319.jpg  \n",
            "  inflating: veggie_fruit_data/validate/broccoli/IMG_03403.jpg  \n",
            "  inflating: veggie_fruit_data/validate/broccoli/IMG_03386.jpg  \n",
            "  inflating: veggie_fruit_data/validate/broccoli/IMG_03375.jpg  \n",
            "  inflating: veggie_fruit_data/validate/broccoli/IMG_03368.jpg  \n",
            "  inflating: veggie_fruit_data/validate/broccoli/IMG_03392.jpg  \n",
            "  inflating: veggie_fruit_data/validate/broccoli/IMG_9211.jpg  \n",
            "  inflating: veggie_fruit_data/validate/broccoli/IMG_03342.jpg  \n",
            "  inflating: veggie_fruit_data/validate/broccoli/IMG_03382.jpg  \n",
            "  inflating: veggie_fruit_data/validate/broccoli/IMG_3177.jpg  \n",
            "   creating: veggie_fruit_data/validate/strawberry/\n",
            "  inflating: veggie_fruit_data/validate/strawberry/IMG_8766.jpg  \n",
            "  inflating: veggie_fruit_data/validate/strawberry/IMG_7897.jpg  \n",
            "  inflating: veggie_fruit_data/validate/strawberry/IMG_7903.jpg  \n",
            "  inflating: veggie_fruit_data/validate/strawberry/IMG_8662.jpg  \n",
            "   creating: veggie_fruit_data/validate/fava_beans/\n",
            "  inflating: veggie_fruit_data/validate/fava_beans/IMG_5391.JPG  \n",
            "   creating: veggie_fruit_data/validate/white_peach/\n",
            "  inflating: veggie_fruit_data/validate/white_peach/IMG_7267.JPG  \n",
            "  inflating: veggie_fruit_data/validate/white_peach/IMG_7708.jpg  \n",
            "   creating: veggie_fruit_data/validate/kale/\n",
            "  inflating: veggie_fruit_data/validate/kale/IMG_6882.JPG  \n",
            "  inflating: veggie_fruit_data/validate/kale/IMG_7289.JPG  \n",
            "  inflating: veggie_fruit_data/validate/kale/IMG_7286.JPG  \n",
            "  inflating: veggie_fruit_data/validate/kale/IMG_6976.JPG  \n",
            "   creating: veggie_fruit_data/validate/green_bean/\n",
            "  inflating: veggie_fruit_data/validate/green_bean/IMG_6970.JPG  \n",
            "  inflating: veggie_fruit_data/validate/green_bean/IMG_6969.JPG  \n",
            "  inflating: veggie_fruit_data/validate/green_bean/IMG_03355.jpg  \n",
            "  inflating: veggie_fruit_data/validate/green_bean/IMG_03353.jpg  \n",
            "  inflating: veggie_fruit_data/validate/green_bean/IMG_03350.jpg  \n",
            "  inflating: veggie_fruit_data/validate/green_bean/IMG_6971.JPG  \n",
            "  inflating: veggie_fruit_data/validate/green_bean/IMG_03356.jpg  \n",
            "  inflating: veggie_fruit_data/validate/green_bean/IMG_03338.jpg  \n",
            "   creating: veggie_fruit_data/validate/ginger/\n",
            "  inflating: veggie_fruit_data/validate/ginger/IMG_4879.JPG  \n",
            "  inflating: veggie_fruit_data/validate/ginger/IMG_2214.JPG  \n",
            "  inflating: veggie_fruit_data/validate/ginger/IMG_1304.JPG  \n",
            "  inflating: veggie_fruit_data/validate/ginger/IMG_2213.JPG  \n",
            "   creating: veggie_fruit_data/validate/bok_choy/\n",
            "  inflating: veggie_fruit_data/validate/bok_choy/IMG_5383.JPG  \n",
            "  inflating: veggie_fruit_data/validate/bok_choy/IMG_3230.jpg  \n",
            "  inflating: veggie_fruit_data/validate/bok_choy/IMG_0480.jpg  \n",
            "  inflating: veggie_fruit_data/validate/bok_choy/IMG_3228.jpg  \n",
            "  inflating: veggie_fruit_data/validate/bok_choy/IMG_5380.JPG  \n",
            "  inflating: veggie_fruit_data/validate/bok_choy/IMG_0386.jpg  \n",
            "  inflating: veggie_fruit_data/validate/bok_choy/IMG_3216.jpg  \n",
            "   creating: veggie_fruit_data/validate/redbor_kale/\n",
            "  inflating: veggie_fruit_data/validate/redbor_kale/IMG_3732.jpg  \n",
            "   creating: veggie_fruit_data/validate/red_onion/\n",
            "  inflating: veggie_fruit_data/validate/red_onion/IMG_03343.jpg  \n",
            "  inflating: veggie_fruit_data/validate/red_onion/IMG_1297.JPG  \n",
            "  inflating: veggie_fruit_data/validate/red_onion/IMG_4948.JPG  \n",
            "  inflating: veggie_fruit_data/validate/red_onion/IMG_1295.JPG  \n",
            "  inflating: veggie_fruit_data/validate/red_onion/IMG_03351.jpg  \n",
            "  inflating: veggie_fruit_data/validate/red_onion/IMG_03372.jpg  \n",
            "  inflating: veggie_fruit_data/validate/red_onion/IMG_03348.jpg  \n",
            "  inflating: veggie_fruit_data/validate/red_onion/IMG_4947.JPG  \n",
            "  inflating: veggie_fruit_data/validate/red_onion/IMG_03345.jpg  \n",
            "  inflating: veggie_fruit_data/validate/red_onion/IMG_03368.jpg  \n",
            "  inflating: veggie_fruit_data/validate/red_onion/IMG_03352.jpg  \n",
            "  inflating: veggie_fruit_data/validate/red_onion/IMG_03367.jpg  \n",
            "  inflating: veggie_fruit_data/validate/red_onion/IMG_03330.jpg  \n",
            "  inflating: veggie_fruit_data/validate/red_onion/IMG_03338.jpg  \n",
            "  inflating: veggie_fruit_data/validate/red_onion/IMG_03382.jpg  \n",
            "   creating: veggie_fruit_data/validate/butternut/\n",
            "  inflating: veggie_fruit_data/validate/butternut/IMG_5362.JPG  \n",
            "   creating: veggie_fruit_data/validate/mandarin/\n",
            "  inflating: veggie_fruit_data/validate/mandarin/IMG_4954.JPG  \n",
            "  inflating: veggie_fruit_data/validate/mandarin/IMG_4952.JPG  \n",
            "  inflating: veggie_fruit_data/validate/mandarin/IMG_9229.jpg  \n",
            "  inflating: veggie_fruit_data/validate/mandarin/IMG_5332.JPG  \n",
            "   creating: veggie_fruit_data/validate/persimmon/\n",
            "  inflating: veggie_fruit_data/validate/persimmon/IMG_9222.jpg  \n",
            "   creating: veggie_fruit_data/validate/artichoke/\n",
            "  inflating: veggie_fruit_data/validate/artichoke/IMG_7222.JPG  \n",
            "  inflating: veggie_fruit_data/validate/artichoke/IMG_5358.JPG  \n",
            "  inflating: veggie_fruit_data/validate/artichoke/IMG_5357.JPG  \n",
            "   creating: veggie_fruit_data/validate/avocado/\n",
            "  inflating: veggie_fruit_data/validate/avocado/IMG_1919.JPG  \n",
            "  inflating: veggie_fruit_data/validate/avocado/IMG_1923.JPG  \n",
            "  inflating: veggie_fruit_data/validate/avocado/IMG_1916.JPG  \n",
            "  inflating: veggie_fruit_data/validate/avocado/IMG_03351.jpg  \n",
            "  inflating: veggie_fruit_data/validate/avocado/IMG_03350.jpg  \n",
            "  inflating: veggie_fruit_data/validate/avocado/IMG_03346.jpg  \n",
            "  inflating: veggie_fruit_data/validate/avocado/IMG_03357.jpg  \n",
            "  inflating: veggie_fruit_data/validate/avocado/IMG_03364.jpg  \n",
            "  inflating: veggie_fruit_data/validate/avocado/IMG_1920.JPG  \n",
            "  inflating: veggie_fruit_data/validate/avocado/IMG_03358.jpg  \n",
            "  inflating: veggie_fruit_data/validate/avocado/IMG_03342.jpg  \n",
            "   creating: veggie_fruit_data/validate/napa_cabbage/\n",
            "  inflating: veggie_fruit_data/validate/napa_cabbage/IMG_0411.jpg  \n",
            "  inflating: veggie_fruit_data/validate/napa_cabbage/IMG_0408.jpg  \n",
            "   creating: veggie_fruit_data/validate/pineapple/\n",
            "  inflating: veggie_fruit_data/validate/pineapple/IMG_03347.jpg  \n",
            "  inflating: veggie_fruit_data/validate/pineapple/IMG_03341.jpg  \n",
            "  inflating: veggie_fruit_data/validate/pineapple/IMG_1208.JPG  \n",
            "  inflating: veggie_fruit_data/validate/pineapple/IMG_03350.jpg  \n",
            "  inflating: veggie_fruit_data/validate/pineapple/IMG_4872.JPG  \n",
            "  inflating: veggie_fruit_data/validate/pineapple/IMG_0101.jpg  \n",
            "  inflating: veggie_fruit_data/validate/pineapple/IMG_03345.jpg  \n",
            "  inflating: veggie_fruit_data/validate/pineapple/IMG_0132.jpg  \n",
            "  inflating: veggie_fruit_data/validate/pineapple/IMG_03368.jpg  \n",
            "  inflating: veggie_fruit_data/validate/pineapple/IMG_03364.jpg  \n",
            "  inflating: veggie_fruit_data/validate/pineapple/IMG_03358.jpg  \n",
            "   creating: veggie_fruit_data/validate/white_nectarine/\n",
            "  inflating: veggie_fruit_data/validate/white_nectarine/IMG_7238.JPG  \n",
            "  inflating: veggie_fruit_data/validate/white_nectarine/IMG_7236.JPG  \n",
            "  inflating: veggie_fruit_data/validate/white_nectarine/IMG_7272.JPG  \n",
            "   creating: veggie_fruit_data/validate/papaya/\n",
            "  inflating: veggie_fruit_data/validate/papaya/IMG_03388.jpg  \n",
            "  inflating: veggie_fruit_data/validate/papaya/IMG_03397.jpg  \n",
            "  inflating: veggie_fruit_data/validate/papaya/IMG_03339.jpg  \n",
            "  inflating: veggie_fruit_data/validate/papaya/IMG_03378.jpg  \n",
            "  inflating: veggie_fruit_data/validate/papaya/IMG_03383.jpg  \n",
            "  inflating: veggie_fruit_data/validate/papaya/IMG_1231.JPG  \n",
            "  inflating: veggie_fruit_data/validate/papaya/IMG_03390.jpg  \n",
            "  inflating: veggie_fruit_data/validate/papaya/IMG_03355.jpg  \n",
            "  inflating: veggie_fruit_data/validate/papaya/IMG_03391.jpg  \n",
            "  inflating: veggie_fruit_data/validate/papaya/IMG_03396.jpg  \n",
            "  inflating: veggie_fruit_data/validate/papaya/IMG_03345.jpg  \n",
            "  inflating: veggie_fruit_data/validate/papaya/IMG_1234.JPG  \n",
            "  inflating: veggie_fruit_data/validate/papaya/IMG_03368.jpg  \n",
            "  inflating: veggie_fruit_data/validate/papaya/IMG_4938.JPG  \n",
            "  inflating: veggie_fruit_data/validate/papaya/IMG_03364.jpg  \n",
            "  inflating: veggie_fruit_data/validate/papaya/IMG_03358.jpg  \n",
            "  inflating: veggie_fruit_data/validate/papaya/IMG_4941.JPG  \n",
            "  inflating: veggie_fruit_data/validate/papaya/IMG_1213.JPG  \n",
            "  inflating: veggie_fruit_data/validate/papaya/IMG_03379.jpg  \n",
            "   creating: veggie_fruit_data/validate/cherry_tomato/\n",
            "  inflating: veggie_fruit_data/validate/cherry_tomato/IMG_7913.jpg  \n",
            "  inflating: veggie_fruit_data/validate/cherry_tomato/IMG_7793.jpg  \n",
            "  inflating: veggie_fruit_data/validate/cherry_tomato/IMG_2668.JPG  \n",
            "   creating: veggie_fruit_data/validate/bitter_melon/\n",
            "  inflating: veggie_fruit_data/validate/bitter_melon/IMG_8754.jpg  \n",
            "  inflating: veggie_fruit_data/validate/bitter_melon/IMG_7862.jpg  \n",
            "  inflating: veggie_fruit_data/validate/bitter_melon/IMG_7116.JPG  \n",
            "  inflating: veggie_fruit_data/validate/bitter_melon/IMG_03347.jpg  \n",
            "  inflating: veggie_fruit_data/validate/bitter_melon/IMG_6973.JPG  \n",
            "  inflating: veggie_fruit_data/validate/bitter_melon/IMG_03371.jpg  \n",
            "  inflating: veggie_fruit_data/validate/bitter_melon/IMG_03346.jpg  \n",
            "  inflating: veggie_fruit_data/validate/bitter_melon/IMG_7119.JPG  \n",
            "  inflating: veggie_fruit_data/validate/bitter_melon/IMG_03368.jpg  \n",
            "  inflating: veggie_fruit_data/validate/bitter_melon/IMG_03365.jpg  \n",
            "  inflating: veggie_fruit_data/validate/bitter_melon/IMG_03367.jpg  \n",
            "  inflating: veggie_fruit_data/validate/bitter_melon/IMG_7864.jpg  \n",
            "  inflating: veggie_fruit_data/validate/bitter_melon/IMG_03356.jpg  \n",
            "  inflating: veggie_fruit_data/validate/bitter_melon/IMG_7130.JPG  \n",
            "   creating: veggie_fruit_data/validate/red_radishes/\n",
            "  inflating: veggie_fruit_data/validate/red_radishes/IMG_5352.JPG  \n",
            "   creating: veggie_fruit_data/validate/peanut/\n",
            "  inflating: veggie_fruit_data/validate/peanut/IMG_7086.JPG  \n",
            "  inflating: veggie_fruit_data/validate/peanut/IMG_7208.JPG  \n",
            "  inflating: veggie_fruit_data/validate/peanut/IMG_2745.JPG  \n",
            "  inflating: veggie_fruit_data/validate/peanut/IMG_7001.JPG  \n"
          ],
          "name": "stdout"
        }
      ]
    },
    {
      "cell_type": "code",
      "metadata": {
        "id": "_yCTZc_rFKhH",
        "colab_type": "code",
        "outputId": "693bdb87-f325-4280-c9a0-349ae49fe39f",
        "colab": {
          "base_uri": "https://localhost:8080/",
          "height": 1000,
          "referenced_widgets": [
            "ebf44be5e1a04bccb51c4852fe82afd6",
            "a47c9dcd2b2a45d88d313744d8823e0f",
            "74cc9ee5ebe44086b11be2899509cd9f",
            "bf75eb839d39476084dd8d88b40bb1f1",
            "9a89befcdbc1411ebc52eb040330fb4c",
            "f3dc07c30168440984d156f0733e0b25",
            "6c0e609213294ad5a46d5b88857a1134",
            "4a9fe1f1907c4da7b70d9c368184c132"
          ]
        }
      },
      "source": [
        "import torch                                                                                                                                                                                                \n",
        "import torchvision\n",
        "import torchvision.transforms as transforms\n",
        "from torch.utils import data\n",
        "import argparse\n",
        "import torch.nn as nn\n",
        "import tqdm\n",
        "import torch.optim as optim\n",
        "from sklearn.metrics import precision_recall_fscore_support\n",
        "\n",
        "def train():\n",
        "    data_dir = 'veggie_fruit_data/'\n",
        "    total_classes = 64\n",
        "    val_every_nepochs = 1 \n",
        "    batch_size = 30\n",
        "    nepochs = 80\n",
        "    num_workers = 8\n",
        "    train_input_folder = data_dir + 'train/'\n",
        "    validate_input_folder = data_dir + 'validate/'\n",
        "\n",
        "    # Training Data Loader\n",
        "    train_transform = transforms.Compose([\n",
        "       transforms.RandomHorizontalFlip(),\n",
        "       transforms.RandomVerticalFlip(),\n",
        "       transforms.RandomAffine(scale=(0.9, 1.25), shear=0.2, degrees=0),\n",
        "       transforms.Resize((224,224)),\n",
        "       transforms.ToTensor(),\n",
        "       transforms.Normalize((0.485, 0.456, 0.406), (0.229, 0.224, 0.225)),\n",
        "    ])  \n",
        "    train_dataset = torchvision.datasets.ImageFolder(train_input_folder,\n",
        "                                                     transform=train_transform)\n",
        "    train_loader = data.DataLoader(train_dataset, batch_size=batch_size,\n",
        "                                   shuffle=True, num_workers=num_workers)\n",
        "\n",
        "    # Validation Data Loader\n",
        "    val_transform = transforms.Compose([\n",
        "       transforms.Resize((224,224)),\n",
        "       transforms.ToTensor(),\n",
        "       transforms.Normalize((0.485, 0.456, 0.406), (0.229, 0.224, 0.225)),\n",
        "    ])\n",
        "    val_dataset = torchvision.datasets.ImageFolder(validate_input_folder,\n",
        "                                                     transform=val_transform)\n",
        "    val_loader = data.DataLoader(val_dataset, batch_size=batch_size,\n",
        "                                   shuffle=False, num_workers=num_workers)\n",
        "\n",
        "    # Create Model\n",
        "    model = torchvision.models.vgg19(pretrained=True)\n",
        "    model.classifier[6] = nn.Linear(4096, total_classes, bias=True)\n",
        "    model = model.cuda()\n",
        "    criterion = nn.CrossEntropyLoss(ignore_index=255).cuda()\n",
        "\n",
        "    # Create Optimizer and freeze backbone\n",
        "    for param in model.features.parameters():\n",
        "        param.requires_grad = False                                                                                                                                                                         \n",
        "    optimizer = optim.Adam(model.parameters(), lr=0.001)\n",
        "\n",
        "    # Training/Val Loop\n",
        "    model.train()\n",
        "    for epoch in range(nepochs):\n",
        "        print('Epoch ', epoch)\n",
        "        tqdm_train = tqdm.tqdm(train_loader)\n",
        "        for image, label in tqdm_train:\n",
        "            image = image.cuda()\n",
        "            label = label.cuda()\n",
        "\n",
        "            optimizer.zero_grad()\n",
        "            pred = model(image)\n",
        "            loss = criterion(pred, label)\n",
        "            loss.backward()\n",
        "            optimizer.step()\n",
        "        if epoch % val_every_nepochs == 0:\n",
        "            model.eval()\n",
        "            with torch.no_grad():\n",
        "                correct = 0.0\n",
        "                tqdm_val = tqdm.tqdm(val_loader)\n",
        "                metrics = {'macro': {'prec': 0.0, 'rec': 0.0, 'fscore': 0.0},                                                                                                                               \n",
        "                           'micro': {'prec': 0.0, 'rec': 0.0, 'fscore': 0.0},\n",
        "                           'weighted': {'prec': 0.0, 'rec': 0.0, 'fscore': 0.0}}\n",
        "\n",
        "                for image, label in tqdm_val:\n",
        "                    image = image.cuda()\n",
        "                    pred = model(image)\n",
        "                    pred_labels = pred.detach().cpu().argmax(dim=1)\n",
        "                    for key in metrics.keys():\n",
        "                        prec, recall, fscore, _ = precision_recall_fscore_support(label, pred_labels,\n",
        "                                                                                  average=key)\n",
        "                        metrics[key]['prec'] += prec\n",
        "                        metrics[key]['rec'] += recall\n",
        "                        metrics[key]['fscore'] += fscore\n",
        "                    correct += (pred_labels == label).sum().item()\n",
        "                print('Accuracy ', correct/(len(tqdm_val)*batch_size))\n",
        "                for key in metrics.keys():\n",
        "                    print(' Metric %s: prec rec fscore'%key)\n",
        "                    out_str = ''\n",
        "                    for k2 in metrics[key].keys():\n",
        "                        metrics[key][k2] /= (len(tqdm_val))\n",
        "                        out_str += str(metrics[key][k2]) + ' '\n",
        "                    print(out_str)\n",
        "                torch.save(model.state_dict(), 'ckpt.pth')\n",
        "\n",
        "\n",
        "train()\n",
        "                                             "
      ],
      "execution_count": 0,
      "outputs": [
        {
          "output_type": "stream",
          "text": [
            "Downloading: \"https://download.pytorch.org/models/vgg19-dcbb9e9d.pth\" to /root/.cache/torch/checkpoints/vgg19-dcbb9e9d.pth\n"
          ],
          "name": "stderr"
        },
        {
          "output_type": "display_data",
          "data": {
            "application/vnd.jupyter.widget-view+json": {
              "model_id": "ebf44be5e1a04bccb51c4852fe82afd6",
              "version_minor": 0,
              "version_major": 2
            },
            "text/plain": [
              "HBox(children=(FloatProgress(value=0.0, max=574673361.0), HTML(value='')))"
            ]
          },
          "metadata": {
            "tags": []
          }
        },
        {
          "output_type": "stream",
          "text": [
            "\n"
          ],
          "name": "stdout"
        },
        {
          "output_type": "stream",
          "text": [
            "\r  0%|          | 0/52 [00:00<?, ?it/s]"
          ],
          "name": "stderr"
        },
        {
          "output_type": "stream",
          "text": [
            "Epoch  0\n"
          ],
          "name": "stdout"
        },
        {
          "output_type": "stream",
          "text": [
            "100%|██████████| 52/52 [02:51<00:00,  3.30s/it]\n",
            "  0%|          | 0/14 [00:00<?, ?it/s]/usr/local/lib/python3.6/dist-packages/sklearn/metrics/_classification.py:1272: UndefinedMetricWarning: Precision and F-score are ill-defined and being set to 0.0 in labels with no predicted samples. Use `zero_division` parameter to control this behavior.\n",
            "  _warn_prf(average, modifier, msg_start, len(result))\n",
            "/usr/local/lib/python3.6/dist-packages/sklearn/metrics/_classification.py:1272: UndefinedMetricWarning: Recall and F-score are ill-defined and being set to 0.0 in labels with no true samples. Use `zero_division` parameter to control this behavior.\n",
            "  _warn_prf(average, modifier, msg_start, len(result))\n",
            "100%|██████████| 14/14 [00:42<00:00,  3.04s/it]\n"
          ],
          "name": "stderr"
        },
        {
          "output_type": "stream",
          "text": [
            "Accuracy  0.7571428571428571\n",
            " Metric macro: prec rec fscore\n",
            "0.34342468047825186 0.30924954517641595 0.31660681413598823 \n",
            " Metric micro: prec rec fscore\n",
            "0.7672619047619047 0.7672619047619047 0.7672619047619047 \n",
            " Metric weighted: prec rec fscore\n",
            "0.8504375386518245 0.7672619047619047 0.7922906413227164 \n"
          ],
          "name": "stdout"
        },
        {
          "output_type": "stream",
          "text": [
            "\r  0%|          | 0/52 [00:00<?, ?it/s]"
          ],
          "name": "stderr"
        },
        {
          "output_type": "stream",
          "text": [
            "Epoch  1\n"
          ],
          "name": "stdout"
        },
        {
          "output_type": "stream",
          "text": [
            "100%|██████████| 52/52 [02:49<00:00,  3.26s/it]\n",
            "100%|██████████| 14/14 [00:41<00:00,  2.99s/it]\n"
          ],
          "name": "stderr"
        },
        {
          "output_type": "stream",
          "text": [
            "Accuracy  0.8380952380952381\n",
            " Metric macro: prec rec fscore\n",
            "0.5576191269048412 0.5264898266999107 0.5325680648603528 \n",
            " Metric micro: prec rec fscore\n",
            "0.8476190476190476 0.8476190476190476 0.8476190476190476 \n",
            " Metric weighted: prec rec fscore\n",
            "0.9070418470418471 0.8476190476190476 0.8654430437738923 \n"
          ],
          "name": "stdout"
        },
        {
          "output_type": "stream",
          "text": [
            "\r  0%|          | 0/52 [00:00<?, ?it/s]"
          ],
          "name": "stderr"
        },
        {
          "output_type": "stream",
          "text": [
            "Epoch  2\n"
          ],
          "name": "stdout"
        },
        {
          "output_type": "stream",
          "text": [
            "100%|██████████| 52/52 [02:49<00:00,  3.26s/it]\n",
            "100%|██████████| 14/14 [00:41<00:00,  2.99s/it]\n"
          ],
          "name": "stderr"
        },
        {
          "output_type": "stream",
          "text": [
            "Accuracy  0.85\n",
            " Metric macro: prec rec fscore\n",
            "0.6194949494949495 0.5761304596267003 0.5883707196732406 \n",
            " Metric micro: prec rec fscore\n",
            "0.8565476190476193 0.8565476190476193 0.8565476190476193 \n",
            " Metric weighted: prec rec fscore\n",
            "0.9474999999999999 0.8565476190476193 0.8849678420686826 \n"
          ],
          "name": "stdout"
        },
        {
          "output_type": "stream",
          "text": [
            "\r  0%|          | 0/52 [00:00<?, ?it/s]"
          ],
          "name": "stderr"
        },
        {
          "output_type": "stream",
          "text": [
            "Epoch  3\n"
          ],
          "name": "stdout"
        },
        {
          "output_type": "stream",
          "text": [
            "100%|██████████| 52/52 [02:50<00:00,  3.27s/it]\n",
            "100%|██████████| 14/14 [00:41<00:00,  3.00s/it]\n"
          ],
          "name": "stderr"
        },
        {
          "output_type": "stream",
          "text": [
            "Accuracy  0.8595238095238096\n",
            " Metric macro: prec rec fscore\n",
            "0.602093462093462 0.5628748706661452 0.5750246485114445 \n",
            " Metric micro: prec rec fscore\n",
            "0.8708333333333333 0.8708333333333333 0.8708333333333333 \n",
            " Metric weighted: prec rec fscore\n",
            "0.9323809523809524 0.8708333333333333 0.8928245878157421 \n"
          ],
          "name": "stdout"
        },
        {
          "output_type": "stream",
          "text": [
            "\r  0%|          | 0/52 [00:00<?, ?it/s]"
          ],
          "name": "stderr"
        },
        {
          "output_type": "stream",
          "text": [
            "Epoch  4\n"
          ],
          "name": "stdout"
        },
        {
          "output_type": "stream",
          "text": [
            "100%|██████████| 52/52 [02:47<00:00,  3.22s/it]\n",
            "100%|██████████| 14/14 [00:41<00:00,  2.98s/it]\n"
          ],
          "name": "stderr"
        },
        {
          "output_type": "stream",
          "text": [
            "Accuracy  0.930952380952381\n",
            " Metric macro: prec rec fscore\n",
            "0.7529478458049885 0.7335125716953447 0.7410681438742662 \n",
            " Metric micro: prec rec fscore\n",
            "0.9440476190476191 0.9440476190476191 0.9440476190476191 \n",
            " Metric weighted: prec rec fscore\n",
            "0.9746031746031747 0.9440476190476191 0.9565834958692101 \n"
          ],
          "name": "stdout"
        },
        {
          "output_type": "stream",
          "text": [
            "\r  0%|          | 0/52 [00:00<?, ?it/s]"
          ],
          "name": "stderr"
        },
        {
          "output_type": "stream",
          "text": [
            "Epoch  5\n"
          ],
          "name": "stdout"
        },
        {
          "output_type": "stream",
          "text": [
            "100%|██████████| 52/52 [02:45<00:00,  3.19s/it]\n",
            "100%|██████████| 14/14 [00:41<00:00,  2.93s/it]\n"
          ],
          "name": "stderr"
        },
        {
          "output_type": "stream",
          "text": [
            "Accuracy  0.9023809523809524\n",
            " Metric macro: prec rec fscore\n",
            "0.6935374149659863 0.6555694752648533 0.6670225978568938 \n",
            " Metric micro: prec rec fscore\n",
            "0.9142857142857145 0.9142857142857145 0.9142857142857145 \n",
            " Metric weighted: prec rec fscore\n",
            "0.9640376984126985 0.9142857142857145 0.9328826104056338 \n"
          ],
          "name": "stdout"
        },
        {
          "output_type": "stream",
          "text": [
            "\r  0%|          | 0/52 [00:00<?, ?it/s]"
          ],
          "name": "stderr"
        },
        {
          "output_type": "stream",
          "text": [
            "Epoch  6\n"
          ],
          "name": "stdout"
        },
        {
          "output_type": "stream",
          "text": [
            "100%|██████████| 52/52 [02:43<00:00,  3.13s/it]\n",
            "100%|██████████| 14/14 [00:40<00:00,  2.92s/it]\n"
          ],
          "name": "stderr"
        },
        {
          "output_type": "stream",
          "text": [
            "Accuracy  0.9357142857142857\n",
            " Metric macro: prec rec fscore\n",
            "0.8142573696145127 0.7794287715086036 0.7917452574899182 \n",
            " Metric micro: prec rec fscore\n",
            "0.9494047619047621 0.9494047619047621 0.9494047619047621 \n",
            " Metric weighted: prec rec fscore\n",
            "0.9833616780045352 0.9494047619047621 0.9619019137067655 \n"
          ],
          "name": "stdout"
        },
        {
          "output_type": "stream",
          "text": [
            "\r  0%|          | 0/52 [00:00<?, ?it/s]"
          ],
          "name": "stderr"
        },
        {
          "output_type": "stream",
          "text": [
            "Epoch  7\n"
          ],
          "name": "stdout"
        },
        {
          "output_type": "stream",
          "text": [
            "100%|██████████| 52/52 [02:43<00:00,  3.15s/it]\n",
            "100%|██████████| 14/14 [00:40<00:00,  2.92s/it]\n"
          ],
          "name": "stderr"
        },
        {
          "output_type": "stream",
          "text": [
            "Accuracy  0.8928571428571429\n",
            " Metric macro: prec rec fscore\n",
            "0.6604984301412874 0.6361755220491736 0.6448362553927736 \n",
            " Metric micro: prec rec fscore\n",
            "0.9059523809523811 0.9059523809523811 0.9059523809523811 \n",
            " Metric weighted: prec rec fscore\n",
            "0.954513888888889 0.9059523809523811 0.925341252953562 \n"
          ],
          "name": "stdout"
        },
        {
          "output_type": "stream",
          "text": [
            "\r  0%|          | 0/52 [00:00<?, ?it/s]"
          ],
          "name": "stderr"
        },
        {
          "output_type": "stream",
          "text": [
            "Epoch  8\n"
          ],
          "name": "stdout"
        },
        {
          "output_type": "stream",
          "text": [
            "100%|██████████| 52/52 [02:42<00:00,  3.13s/it]\n",
            "100%|██████████| 14/14 [00:40<00:00,  2.91s/it]\n"
          ],
          "name": "stderr"
        },
        {
          "output_type": "stream",
          "text": [
            "Accuracy  0.8952380952380953\n",
            " Metric macro: prec rec fscore\n",
            "0.7324045002616432 0.6941181171935974 0.7059515035161396 \n",
            " Metric micro: prec rec fscore\n",
            "0.9071428571428573 0.9071428571428573 0.9071428571428573 \n",
            " Metric weighted: prec rec fscore\n",
            "0.9757936507936508 0.9071428571428573 0.9316171460863847 \n"
          ],
          "name": "stdout"
        },
        {
          "output_type": "stream",
          "text": [
            "\r  0%|          | 0/52 [00:00<?, ?it/s]"
          ],
          "name": "stderr"
        },
        {
          "output_type": "stream",
          "text": [
            "Epoch  9\n"
          ],
          "name": "stdout"
        },
        {
          "output_type": "stream",
          "text": [
            "100%|██████████| 52/52 [02:47<00:00,  3.22s/it]\n",
            "100%|██████████| 14/14 [00:40<00:00,  2.90s/it]\n"
          ],
          "name": "stderr"
        },
        {
          "output_type": "stream",
          "text": [
            "Accuracy  0.9071428571428571\n",
            " Metric macro: prec rec fscore\n",
            "0.7234807256235828 0.6794667193476718 0.6933380874596983 \n",
            " Metric micro: prec rec fscore\n",
            "0.9202380952380953 0.9202380952380953 0.9202380952380953 \n",
            " Metric weighted: prec rec fscore\n",
            "0.9773809523809524 0.9202380952380953 0.9399798182346345 \n"
          ],
          "name": "stdout"
        },
        {
          "output_type": "stream",
          "text": [
            "\r  0%|          | 0/52 [00:00<?, ?it/s]"
          ],
          "name": "stderr"
        },
        {
          "output_type": "stream",
          "text": [
            "Epoch  10\n"
          ],
          "name": "stdout"
        },
        {
          "output_type": "stream",
          "text": [
            "100%|██████████| 52/52 [02:47<00:00,  3.21s/it]\n",
            "100%|██████████| 14/14 [00:41<00:00,  2.95s/it]\n"
          ],
          "name": "stderr"
        },
        {
          "output_type": "stream",
          "text": [
            "Accuracy  0.9238095238095239\n",
            " Metric macro: prec rec fscore\n",
            "0.712046485260771 0.6754277775323693 0.6879636236779094 \n",
            " Metric micro: prec rec fscore\n",
            "0.9369047619047619 0.9369047619047619 0.9369047619047619 \n",
            " Metric weighted: prec rec fscore\n",
            "0.971577380952381 0.9369047619047619 0.9494689833975548 \n"
          ],
          "name": "stdout"
        },
        {
          "output_type": "stream",
          "text": [
            "\r  0%|          | 0/52 [00:00<?, ?it/s]"
          ],
          "name": "stderr"
        },
        {
          "output_type": "stream",
          "text": [
            "Epoch  11\n"
          ],
          "name": "stdout"
        },
        {
          "output_type": "stream",
          "text": [
            "100%|██████████| 52/52 [02:46<00:00,  3.20s/it]\n",
            "100%|██████████| 14/14 [00:42<00:00,  3.07s/it]\n"
          ],
          "name": "stderr"
        },
        {
          "output_type": "stream",
          "text": [
            "Accuracy  0.9261904761904762\n",
            " Metric macro: prec rec fscore\n",
            "0.7584054834054833 0.7299592131224785 0.7398682736497862 \n",
            " Metric micro: prec rec fscore\n",
            "0.9398809523809526 0.9398809523809526 0.9398809523809526 \n",
            " Metric weighted: prec rec fscore\n",
            "0.971577380952381 0.9398809523809526 0.9520199058644437 \n"
          ],
          "name": "stdout"
        },
        {
          "output_type": "stream",
          "text": [
            "\r  0%|          | 0/52 [00:00<?, ?it/s]"
          ],
          "name": "stderr"
        },
        {
          "output_type": "stream",
          "text": [
            "Epoch  12\n"
          ],
          "name": "stdout"
        },
        {
          "output_type": "stream",
          "text": [
            "100%|██████████| 52/52 [02:55<00:00,  3.38s/it]\n",
            "100%|██████████| 14/14 [00:42<00:00,  3.07s/it]\n"
          ],
          "name": "stderr"
        },
        {
          "output_type": "stream",
          "text": [
            "Accuracy  0.8666666666666667\n",
            " Metric macro: prec rec fscore\n",
            "0.5714617393188821 0.5138464561190172 0.5320656541559903 \n",
            " Metric micro: prec rec fscore\n",
            "0.8755952380952383 0.8755952380952383 0.8755952380952383 \n",
            " Metric weighted: prec rec fscore\n",
            "0.9521825396825399 0.8755952380952383 0.9016428920052869 \n"
          ],
          "name": "stdout"
        },
        {
          "output_type": "stream",
          "text": [
            "\r  0%|          | 0/52 [00:00<?, ?it/s]"
          ],
          "name": "stderr"
        },
        {
          "output_type": "stream",
          "text": [
            "Epoch  13\n"
          ],
          "name": "stdout"
        },
        {
          "output_type": "stream",
          "text": [
            "100%|██████████| 52/52 [02:51<00:00,  3.30s/it]\n",
            "100%|██████████| 14/14 [00:44<00:00,  3.15s/it]\n"
          ],
          "name": "stderr"
        },
        {
          "output_type": "stream",
          "text": [
            "Accuracy  0.8928571428571429\n",
            " Metric macro: prec rec fscore\n",
            "0.6565605029890744 0.6236160386536326 0.6320610991469334 \n",
            " Metric micro: prec rec fscore\n",
            "0.9059523809523811 0.9059523809523811 0.9059523809523811 \n",
            " Metric weighted: prec rec fscore\n",
            "0.9596088435374152 0.9059523809523811 0.9245072255765533 \n"
          ],
          "name": "stdout"
        },
        {
          "output_type": "stream",
          "text": [
            "\r  0%|          | 0/52 [00:00<?, ?it/s]"
          ],
          "name": "stderr"
        },
        {
          "output_type": "stream",
          "text": [
            "Epoch  14\n"
          ],
          "name": "stdout"
        },
        {
          "output_type": "stream",
          "text": [
            "100%|██████████| 52/52 [02:52<00:00,  3.32s/it]\n",
            "100%|██████████| 14/14 [00:42<00:00,  3.07s/it]\n"
          ],
          "name": "stderr"
        },
        {
          "output_type": "stream",
          "text": [
            "Accuracy  0.930952380952381\n",
            " Metric macro: prec rec fscore\n",
            "0.7375370661084946 0.715502517745915 0.7235485527047031 \n",
            " Metric micro: prec rec fscore\n",
            "0.943452380952381 0.943452380952381 0.943452380952381 \n",
            " Metric weighted: prec rec fscore\n",
            "0.972008547008547 0.943452380952381 0.9551694882103688 \n"
          ],
          "name": "stdout"
        },
        {
          "output_type": "stream",
          "text": [
            "\r  0%|          | 0/52 [00:00<?, ?it/s]"
          ],
          "name": "stderr"
        },
        {
          "output_type": "stream",
          "text": [
            "Epoch  15\n"
          ],
          "name": "stdout"
        },
        {
          "output_type": "stream",
          "text": [
            "100%|██████████| 52/52 [02:52<00:00,  3.32s/it]\n",
            "100%|██████████| 14/14 [00:42<00:00,  3.04s/it]\n"
          ],
          "name": "stderr"
        },
        {
          "output_type": "stream",
          "text": [
            "Accuracy  0.9142857142857143\n",
            " Metric macro: prec rec fscore\n",
            "0.6980725623582767 0.6642998866213153 0.6747506660006662 \n",
            " Metric micro: prec rec fscore\n",
            "0.9267857142857144 0.9267857142857144 0.9267857142857144 \n",
            " Metric weighted: prec rec fscore\n",
            "0.9636904761904762 0.9267857142857144 0.9398775807525809 \n"
          ],
          "name": "stdout"
        },
        {
          "output_type": "stream",
          "text": [
            "\r  0%|          | 0/52 [00:00<?, ?it/s]"
          ],
          "name": "stderr"
        },
        {
          "output_type": "stream",
          "text": [
            "Epoch  16\n"
          ],
          "name": "stdout"
        },
        {
          "output_type": "stream",
          "text": [
            "100%|██████████| 52/52 [02:57<00:00,  3.41s/it]\n",
            "100%|██████████| 14/14 [00:42<00:00,  3.05s/it]\n"
          ],
          "name": "stderr"
        },
        {
          "output_type": "stream",
          "text": [
            "Accuracy  0.919047619047619\n",
            " Metric macro: prec rec fscore\n",
            "0.6955045351473922 0.6710884353741496 0.6775916543773687 \n",
            " Metric micro: prec rec fscore\n",
            "0.9321428571428573 0.9321428571428573 0.9321428571428573 \n",
            " Metric weighted: prec rec fscore\n",
            "0.9626984126984128 0.9321428571428573 0.9429177865785009 \n"
          ],
          "name": "stdout"
        },
        {
          "output_type": "stream",
          "text": [
            "\r  0%|          | 0/52 [00:00<?, ?it/s]"
          ],
          "name": "stderr"
        },
        {
          "output_type": "stream",
          "text": [
            "Epoch  17\n"
          ],
          "name": "stdout"
        },
        {
          "output_type": "stream",
          "text": [
            "100%|██████████| 52/52 [02:53<00:00,  3.34s/it]\n",
            "100%|██████████| 14/14 [00:43<00:00,  3.12s/it]\n"
          ],
          "name": "stderr"
        },
        {
          "output_type": "stream",
          "text": [
            "Accuracy  0.9285714285714286\n",
            " Metric macro: prec rec fscore\n",
            "0.7251762523191095 0.7025991204562633 0.7091639450084072 \n",
            " Metric micro: prec rec fscore\n",
            "0.9416666666666667 0.9416666666666667 0.9416666666666667 \n",
            " Metric weighted: prec rec fscore\n",
            "0.9666666666666668 0.9416666666666667 0.9508387305641347 \n"
          ],
          "name": "stdout"
        },
        {
          "output_type": "stream",
          "text": [
            "\r  0%|          | 0/52 [00:00<?, ?it/s]"
          ],
          "name": "stderr"
        },
        {
          "output_type": "stream",
          "text": [
            "Epoch  18\n"
          ],
          "name": "stdout"
        },
        {
          "output_type": "stream",
          "text": [
            "100%|██████████| 52/52 [02:55<00:00,  3.37s/it]\n",
            "100%|██████████| 14/14 [00:43<00:00,  3.12s/it]\n"
          ],
          "name": "stderr"
        },
        {
          "output_type": "stream",
          "text": [
            "Accuracy  0.9428571428571428\n",
            " Metric macro: prec rec fscore\n",
            "0.7444882498453926 0.7183268545513444 0.7275371453942884 \n",
            " Metric micro: prec rec fscore\n",
            "0.955952380952381 0.955952380952381 0.955952380952381 \n",
            " Metric weighted: prec rec fscore\n",
            "0.9742984693877552 0.955952380952381 0.9629095111237967 \n"
          ],
          "name": "stdout"
        },
        {
          "output_type": "stream",
          "text": [
            "\r  0%|          | 0/52 [00:00<?, ?it/s]"
          ],
          "name": "stderr"
        },
        {
          "output_type": "stream",
          "text": [
            "Epoch  19\n"
          ],
          "name": "stdout"
        },
        {
          "output_type": "stream",
          "text": [
            "100%|██████████| 52/52 [02:56<00:00,  3.40s/it]\n",
            "100%|██████████| 14/14 [00:43<00:00,  3.13s/it]\n"
          ],
          "name": "stderr"
        },
        {
          "output_type": "stream",
          "text": [
            "Accuracy  0.9452380952380952\n",
            " Metric macro: prec rec fscore\n",
            "0.7858276643990928 0.7627996436669907 0.7705044955044954 \n",
            " Metric micro: prec rec fscore\n",
            "0.9583333333333333 0.9583333333333333 0.9583333333333333 \n",
            " Metric weighted: prec rec fscore\n",
            "0.9789682539682539 0.9583333333333333 0.9660520035520036 \n"
          ],
          "name": "stdout"
        },
        {
          "output_type": "stream",
          "text": [
            "\r  0%|          | 0/52 [00:00<?, ?it/s]"
          ],
          "name": "stderr"
        },
        {
          "output_type": "stream",
          "text": [
            "Epoch  20\n"
          ],
          "name": "stdout"
        },
        {
          "output_type": "stream",
          "text": [
            "100%|██████████| 52/52 [02:56<00:00,  3.40s/it]\n",
            "100%|██████████| 14/14 [00:44<00:00,  3.15s/it]\n"
          ],
          "name": "stderr"
        },
        {
          "output_type": "stream",
          "text": [
            "Accuracy  0.9428571428571428\n",
            " Metric macro: prec rec fscore\n",
            "0.7907879818594103 0.7693189180434078 0.7760762480150235 \n",
            " Metric micro: prec rec fscore\n",
            "0.955952380952381 0.955952380952381 0.955952380952381 \n",
            " Metric weighted: prec rec fscore\n",
            "0.9721726190476191 0.955952380952381 0.9617539206824921 \n"
          ],
          "name": "stdout"
        },
        {
          "output_type": "stream",
          "text": [
            "\r  0%|          | 0/52 [00:00<?, ?it/s]"
          ],
          "name": "stderr"
        },
        {
          "output_type": "stream",
          "text": [
            "Epoch  21\n"
          ],
          "name": "stdout"
        },
        {
          "output_type": "stream",
          "text": [
            "100%|██████████| 52/52 [02:58<00:00,  3.43s/it]\n",
            "100%|██████████| 14/14 [00:44<00:00,  3.18s/it]\n"
          ],
          "name": "stderr"
        },
        {
          "output_type": "stream",
          "text": [
            "Accuracy  0.9119047619047619\n",
            " Metric macro: prec rec fscore\n",
            "0.6834052851909993 0.6498544209003393 0.6615723562152133 \n",
            " Metric micro: prec rec fscore\n",
            "0.9261904761904763 0.9261904761904763 0.9261904761904763 \n",
            " Metric weighted: prec rec fscore\n",
            "0.9553996598639457 0.9261904761904763 0.9371131249702679 \n"
          ],
          "name": "stdout"
        },
        {
          "output_type": "stream",
          "text": [
            "\r  0%|          | 0/52 [00:00<?, ?it/s]"
          ],
          "name": "stderr"
        },
        {
          "output_type": "stream",
          "text": [
            "Epoch  22\n"
          ],
          "name": "stdout"
        },
        {
          "output_type": "stream",
          "text": [
            "100%|██████████| 52/52 [02:59<00:00,  3.45s/it]\n",
            "100%|██████████| 14/14 [00:44<00:00,  3.19s/it]\n"
          ],
          "name": "stderr"
        },
        {
          "output_type": "stream",
          "text": [
            "Accuracy  0.919047619047619\n",
            " Metric macro: prec rec fscore\n",
            "0.7098922902494331 0.6816411749885141 0.6925483907626766 \n",
            " Metric micro: prec rec fscore\n",
            "0.9315476190476193 0.9315476190476193 0.9315476190476193 \n",
            " Metric weighted: prec rec fscore\n",
            "0.9664115646258505 0.9315476190476193 0.9459035805464377 \n"
          ],
          "name": "stdout"
        },
        {
          "output_type": "stream",
          "text": [
            "\r  0%|          | 0/52 [00:00<?, ?it/s]"
          ],
          "name": "stderr"
        },
        {
          "output_type": "stream",
          "text": [
            "Epoch  23\n"
          ],
          "name": "stdout"
        },
        {
          "output_type": "stream",
          "text": [
            "100%|██████████| 52/52 [02:58<00:00,  3.44s/it]\n",
            "100%|██████████| 14/14 [00:45<00:00,  3.22s/it]\n"
          ],
          "name": "stderr"
        },
        {
          "output_type": "stream",
          "text": [
            "Accuracy  0.9\n",
            " Metric macro: prec rec fscore\n",
            "0.6632086167800454 0.62630482748655 0.6367720993439702 \n",
            " Metric micro: prec rec fscore\n",
            "0.9119047619047621 0.9119047619047621 0.9119047619047621 \n",
            " Metric weighted: prec rec fscore\n",
            "0.9616496598639458 0.9119047619047621 0.9289593146177622 \n"
          ],
          "name": "stdout"
        },
        {
          "output_type": "stream",
          "text": [
            "\r  0%|          | 0/52 [00:00<?, ?it/s]"
          ],
          "name": "stderr"
        },
        {
          "output_type": "stream",
          "text": [
            "Epoch  24\n"
          ],
          "name": "stdout"
        },
        {
          "output_type": "stream",
          "text": [
            "100%|██████████| 52/52 [02:58<00:00,  3.44s/it]\n",
            "100%|██████████| 14/14 [00:44<00:00,  3.17s/it]\n"
          ],
          "name": "stderr"
        },
        {
          "output_type": "stream",
          "text": [
            "Accuracy  0.9357142857142857\n",
            " Metric macro: prec rec fscore\n",
            "0.7822845804988663 0.752281746031746 0.7629371224014082 \n",
            " Metric micro: prec rec fscore\n",
            "0.9488095238095239 0.9488095238095239 0.9488095238095239 \n",
            " Metric weighted: prec rec fscore\n",
            "0.9763392857142857 0.9488095238095239 0.959191562405848 \n"
          ],
          "name": "stdout"
        },
        {
          "output_type": "stream",
          "text": [
            "\r  0%|          | 0/52 [00:00<?, ?it/s]"
          ],
          "name": "stderr"
        },
        {
          "output_type": "stream",
          "text": [
            "Epoch  25\n"
          ],
          "name": "stdout"
        },
        {
          "output_type": "stream",
          "text": [
            "100%|██████████| 52/52 [02:57<00:00,  3.40s/it]\n",
            "100%|██████████| 14/14 [00:44<00:00,  3.15s/it]\n"
          ],
          "name": "stderr"
        },
        {
          "output_type": "stream",
          "text": [
            "Accuracy  0.8642857142857143\n",
            " Metric macro: prec rec fscore\n",
            "0.5315605029890744 0.48701141123267877 0.501505674220655 \n",
            " Metric micro: prec rec fscore\n",
            "0.8773809523809525 0.8773809523809525 0.8773809523809525 \n",
            " Metric weighted: prec rec fscore\n",
            "0.9433035714285716 0.8773809523809525 0.8991830478281901 \n"
          ],
          "name": "stdout"
        },
        {
          "output_type": "stream",
          "text": [
            "\r  0%|          | 0/52 [00:00<?, ?it/s]"
          ],
          "name": "stderr"
        },
        {
          "output_type": "stream",
          "text": [
            "Epoch  26\n"
          ],
          "name": "stdout"
        },
        {
          "output_type": "stream",
          "text": [
            "100%|██████████| 52/52 [02:59<00:00,  3.46s/it]\n",
            "100%|██████████| 14/14 [00:44<00:00,  3.18s/it]\n"
          ],
          "name": "stderr"
        },
        {
          "output_type": "stream",
          "text": [
            "Accuracy  0.9047619047619048\n",
            " Metric macro: prec rec fscore\n",
            "0.640391156462585 0.6081757568881253 0.6208596008810832 \n",
            " Metric micro: prec rec fscore\n",
            "0.917261904761905 0.917261904761905 0.917261904761905 \n",
            " Metric weighted: prec rec fscore\n",
            "0.9693877551020408 0.917261904761905 0.9389736499698907 \n"
          ],
          "name": "stdout"
        },
        {
          "output_type": "stream",
          "text": [
            "\r  0%|          | 0/52 [00:00<?, ?it/s]"
          ],
          "name": "stderr"
        },
        {
          "output_type": "stream",
          "text": [
            "Epoch  27\n"
          ],
          "name": "stdout"
        },
        {
          "output_type": "stream",
          "text": [
            "100%|██████████| 52/52 [02:58<00:00,  3.44s/it]\n",
            "100%|██████████| 14/14 [00:44<00:00,  3.19s/it]\n"
          ],
          "name": "stderr"
        },
        {
          "output_type": "stream",
          "text": [
            "Accuracy  0.9380952380952381\n",
            " Metric macro: prec rec fscore\n",
            "0.7663832199546484 0.7489651847626559 0.756047790972603 \n",
            " Metric micro: prec rec fscore\n",
            "0.9517857142857143 0.9517857142857143 0.9517857142857143 \n",
            " Metric weighted: prec rec fscore\n",
            "0.9738095238095239 0.9517857142857143 0.9614097069736168 \n"
          ],
          "name": "stdout"
        },
        {
          "output_type": "stream",
          "text": [
            "\r  0%|          | 0/52 [00:00<?, ?it/s]"
          ],
          "name": "stderr"
        },
        {
          "output_type": "stream",
          "text": [
            "Epoch  28\n"
          ],
          "name": "stdout"
        },
        {
          "output_type": "stream",
          "text": [
            "100%|██████████| 52/52 [02:59<00:00,  3.46s/it]\n",
            "100%|██████████| 14/14 [00:45<00:00,  3.22s/it]\n"
          ],
          "name": "stderr"
        },
        {
          "output_type": "stream",
          "text": [
            "Accuracy  0.9142857142857143\n",
            " Metric macro: prec rec fscore\n",
            "0.6798818245246816 0.6578202079477589 0.6637774660196787 \n",
            " Metric micro: prec rec fscore\n",
            "0.9261904761904763 0.9261904761904763 0.9261904761904763 \n",
            " Metric weighted: prec rec fscore\n",
            "0.9625 0.9261904761904763 0.9397848772989751 \n"
          ],
          "name": "stdout"
        },
        {
          "output_type": "stream",
          "text": [
            "\r  0%|          | 0/52 [00:00<?, ?it/s]"
          ],
          "name": "stderr"
        },
        {
          "output_type": "stream",
          "text": [
            "Epoch  29\n"
          ],
          "name": "stdout"
        },
        {
          "output_type": "stream",
          "text": [
            "100%|██████████| 52/52 [03:00<00:00,  3.47s/it]\n",
            "100%|██████████| 14/14 [00:44<00:00,  3.19s/it]\n"
          ],
          "name": "stderr"
        },
        {
          "output_type": "stream",
          "text": [
            "Accuracy  0.930952380952381\n",
            " Metric macro: prec rec fscore\n",
            "0.7250850340136054 0.7101977143514411 0.7161041339612767 \n",
            " Metric micro: prec rec fscore\n",
            "0.9452380952380953 0.9452380952380953 0.9452380952380953 \n",
            " Metric weighted: prec rec fscore\n",
            "0.9598639455782314 0.9452380952380953 0.9512878655735799 \n"
          ],
          "name": "stdout"
        },
        {
          "output_type": "stream",
          "text": [
            "\r  0%|          | 0/52 [00:00<?, ?it/s]"
          ],
          "name": "stderr"
        },
        {
          "output_type": "stream",
          "text": [
            "Epoch  30\n"
          ],
          "name": "stdout"
        },
        {
          "output_type": "stream",
          "text": [
            "100%|██████████| 52/52 [02:58<00:00,  3.43s/it]\n",
            "100%|██████████| 14/14 [00:44<00:00,  3.16s/it]\n"
          ],
          "name": "stderr"
        },
        {
          "output_type": "stream",
          "text": [
            "Accuracy  0.919047619047619\n",
            " Metric macro: prec rec fscore\n",
            "0.672743328100471 0.6485428102680004 0.6580537987492875 \n",
            " Metric micro: prec rec fscore\n",
            "0.9333333333333335 0.9333333333333335 0.9333333333333335 \n",
            " Metric weighted: prec rec fscore\n",
            "0.961904761904762 0.9333333333333335 0.9458570585638256 \n"
          ],
          "name": "stdout"
        },
        {
          "output_type": "stream",
          "text": [
            "\r  0%|          | 0/52 [00:00<?, ?it/s]"
          ],
          "name": "stderr"
        },
        {
          "output_type": "stream",
          "text": [
            "Epoch  31\n"
          ],
          "name": "stdout"
        },
        {
          "output_type": "stream",
          "text": [
            "100%|██████████| 52/52 [02:57<00:00,  3.42s/it]\n",
            "100%|██████████| 14/14 [00:44<00:00,  3.19s/it]\n"
          ],
          "name": "stderr"
        },
        {
          "output_type": "stream",
          "text": [
            "Accuracy  0.8833333333333333\n",
            " Metric macro: prec rec fscore\n",
            "0.6286717251002966 0.5766934734459788 0.5950986769739683 \n",
            " Metric micro: prec rec fscore\n",
            "0.8952380952380954 0.8952380952380954 0.8952380952380954 \n",
            " Metric weighted: prec rec fscore\n",
            "0.955201247165533 0.8952380952380954 0.9185552094695236 \n"
          ],
          "name": "stdout"
        },
        {
          "output_type": "stream",
          "text": [
            "\r  0%|          | 0/52 [00:00<?, ?it/s]"
          ],
          "name": "stderr"
        },
        {
          "output_type": "stream",
          "text": [
            "Epoch  32\n"
          ],
          "name": "stdout"
        },
        {
          "output_type": "stream",
          "text": [
            "100%|██████████| 52/52 [02:55<00:00,  3.37s/it]\n",
            "100%|██████████| 14/14 [00:43<00:00,  3.12s/it]\n"
          ],
          "name": "stderr"
        },
        {
          "output_type": "stream",
          "text": [
            "Accuracy  0.9333333333333333\n",
            " Metric macro: prec rec fscore\n",
            "0.7328580150008722 0.7157951836523264 0.7217862164290735 \n",
            " Metric micro: prec rec fscore\n",
            "0.9470238095238097 0.9470238095238097 0.9470238095238097 \n",
            " Metric weighted: prec rec fscore\n",
            "0.9702380952380952 0.9470238095238097 0.9565895215895216 \n"
          ],
          "name": "stdout"
        },
        {
          "output_type": "stream",
          "text": [
            "\r  0%|          | 0/52 [00:00<?, ?it/s]"
          ],
          "name": "stderr"
        },
        {
          "output_type": "stream",
          "text": [
            "Epoch  33\n"
          ],
          "name": "stdout"
        },
        {
          "output_type": "stream",
          "text": [
            "100%|██████████| 52/52 [02:55<00:00,  3.38s/it]\n",
            "100%|██████████| 14/14 [00:44<00:00,  3.16s/it]\n"
          ],
          "name": "stderr"
        },
        {
          "output_type": "stream",
          "text": [
            "Accuracy  0.9214285714285714\n",
            " Metric macro: prec rec fscore\n",
            "0.7182038199895342 0.6873366253024639 0.6994189144189145 \n",
            " Metric micro: prec rec fscore\n",
            "0.9357142857142858 0.9357142857142858 0.9357142857142858 \n",
            " Metric weighted: prec rec fscore\n",
            "0.9714285714285715 0.9357142857142858 0.95060656274942 \n"
          ],
          "name": "stdout"
        },
        {
          "output_type": "stream",
          "text": [
            "\r  0%|          | 0/52 [00:00<?, ?it/s]"
          ],
          "name": "stderr"
        },
        {
          "output_type": "stream",
          "text": [
            "Epoch  34\n"
          ],
          "name": "stdout"
        },
        {
          "output_type": "stream",
          "text": [
            "100%|██████████| 52/52 [02:58<00:00,  3.43s/it]\n",
            "100%|██████████| 14/14 [00:44<00:00,  3.19s/it]\n"
          ],
          "name": "stderr"
        },
        {
          "output_type": "stream",
          "text": [
            "Accuracy  0.9333333333333333\n",
            " Metric macro: prec rec fscore\n",
            "0.7484693877551021 0.7235488387274102 0.7332223423049377 \n",
            " Metric micro: prec rec fscore\n",
            "0.9470238095238096 0.9470238095238096 0.9470238095238096 \n",
            " Metric weighted: prec rec fscore\n",
            "0.9738095238095239 0.9470238095238096 0.9583522587026632 \n"
          ],
          "name": "stdout"
        },
        {
          "output_type": "stream",
          "text": [
            "\r  0%|          | 0/52 [00:00<?, ?it/s]"
          ],
          "name": "stderr"
        },
        {
          "output_type": "stream",
          "text": [
            "Epoch  35\n"
          ],
          "name": "stdout"
        },
        {
          "output_type": "stream",
          "text": [
            "100%|██████████| 52/52 [03:00<00:00,  3.47s/it]\n",
            "100%|██████████| 14/14 [00:45<00:00,  3.22s/it]\n"
          ],
          "name": "stderr"
        },
        {
          "output_type": "stream",
          "text": [
            "Accuracy  0.9476190476190476\n",
            " Metric macro: prec rec fscore\n",
            "0.8292517006802722 0.8029428438041883 0.8126235088607539 \n",
            " Metric micro: prec rec fscore\n",
            "0.961309523809524 0.961309523809524 0.961309523809524 \n",
            " Metric weighted: prec rec fscore\n",
            "0.9857142857142858 0.961309523809524 0.9712706440385013 \n"
          ],
          "name": "stdout"
        },
        {
          "output_type": "stream",
          "text": [
            "\r  0%|          | 0/52 [00:00<?, ?it/s]"
          ],
          "name": "stderr"
        },
        {
          "output_type": "stream",
          "text": [
            "Epoch  36\n"
          ],
          "name": "stdout"
        },
        {
          "output_type": "stream",
          "text": [
            "100%|██████████| 52/52 [02:59<00:00,  3.45s/it]\n",
            "100%|██████████| 14/14 [00:44<00:00,  3.16s/it]\n"
          ],
          "name": "stderr"
        },
        {
          "output_type": "stream",
          "text": [
            "Accuracy  0.9452380952380952\n",
            " Metric macro: prec rec fscore\n",
            "0.8185284953142096 0.7918581418581419 0.8016981070877175 \n",
            " Metric micro: prec rec fscore\n",
            "0.9583333333333334 0.9583333333333334 0.9583333333333334 \n",
            " Metric weighted: prec rec fscore\n",
            "0.9812500000000001 0.9583333333333334 0.9673826570255143 \n"
          ],
          "name": "stdout"
        },
        {
          "output_type": "stream",
          "text": [
            "\r  0%|          | 0/52 [00:00<?, ?it/s]"
          ],
          "name": "stderr"
        },
        {
          "output_type": "stream",
          "text": [
            "Epoch  37\n"
          ],
          "name": "stdout"
        },
        {
          "output_type": "stream",
          "text": [
            "100%|██████████| 52/52 [02:58<00:00,  3.43s/it]\n",
            "100%|██████████| 14/14 [00:44<00:00,  3.15s/it]\n"
          ],
          "name": "stderr"
        },
        {
          "output_type": "stream",
          "text": [
            "Accuracy  0.9523809523809523\n",
            " Metric macro: prec rec fscore\n",
            "0.8402210884353742 0.8194370208400821 0.8271067005770509 \n",
            " Metric micro: prec rec fscore\n",
            "0.9666666666666668 0.9666666666666668 0.9666666666666668 \n",
            " Metric weighted: prec rec fscore\n",
            "0.9836309523809524 0.9666666666666668 0.9735637139141182 \n"
          ],
          "name": "stdout"
        },
        {
          "output_type": "stream",
          "text": [
            "\r  0%|          | 0/52 [00:00<?, ?it/s]"
          ],
          "name": "stderr"
        },
        {
          "output_type": "stream",
          "text": [
            "Epoch  38\n"
          ],
          "name": "stdout"
        },
        {
          "output_type": "stream",
          "text": [
            "100%|██████████| 52/52 [02:58<00:00,  3.42s/it]\n",
            "100%|██████████| 14/14 [00:46<00:00,  3.35s/it]\n"
          ],
          "name": "stderr"
        },
        {
          "output_type": "stream",
          "text": [
            "Accuracy  0.9547619047619048\n",
            " Metric macro: prec rec fscore\n",
            "0.8420634920634921 0.8287131519274377 0.8332094889237747 \n",
            " Metric micro: prec rec fscore\n",
            "0.9690476190476192 0.9690476190476192 0.9690476190476192 \n",
            " Metric weighted: prec rec fscore\n",
            "0.9764880952380953 0.9690476190476192 0.971643118785976 \n"
          ],
          "name": "stdout"
        },
        {
          "output_type": "stream",
          "text": [
            "\r  0%|          | 0/52 [00:00<?, ?it/s]"
          ],
          "name": "stderr"
        },
        {
          "output_type": "stream",
          "text": [
            "Epoch  39\n"
          ],
          "name": "stdout"
        },
        {
          "output_type": "stream",
          "text": [
            "100%|██████████| 52/52 [03:04<00:00,  3.55s/it]\n",
            "100%|██████████| 14/14 [00:46<00:00,  3.31s/it]\n"
          ],
          "name": "stderr"
        },
        {
          "output_type": "stream",
          "text": [
            "Accuracy  0.9571428571428572\n",
            " Metric macro: prec rec fscore\n",
            "0.8651515151515151 0.8496250773036488 0.8549381570810143 \n",
            " Metric micro: prec rec fscore\n",
            "0.9714285714285715 0.9714285714285715 0.9714285714285715 \n",
            " Metric weighted: prec rec fscore\n",
            "0.9812500000000001 0.9714285714285715 0.9749092970521541 \n"
          ],
          "name": "stdout"
        },
        {
          "output_type": "stream",
          "text": [
            "\r  0%|          | 0/52 [00:00<?, ?it/s]"
          ],
          "name": "stderr"
        },
        {
          "output_type": "stream",
          "text": [
            "Epoch  40\n"
          ],
          "name": "stdout"
        },
        {
          "output_type": "stream",
          "text": [
            "100%|██████████| 52/52 [03:04<00:00,  3.54s/it]\n",
            "100%|██████████| 14/14 [00:44<00:00,  3.17s/it]\n"
          ],
          "name": "stderr"
        },
        {
          "output_type": "stream",
          "text": [
            "Accuracy  0.9547619047619048\n",
            " Metric macro: prec rec fscore\n",
            "0.855952380952381 0.8349395313681028 0.8422448979591837 \n",
            " Metric micro: prec rec fscore\n",
            "0.9690476190476192 0.9690476190476192 0.9690476190476192 \n",
            " Metric weighted: prec rec fscore\n",
            "0.9836309523809524 0.9690476190476192 0.9742743764172336 \n"
          ],
          "name": "stdout"
        },
        {
          "output_type": "stream",
          "text": [
            "\r  0%|          | 0/52 [00:00<?, ?it/s]"
          ],
          "name": "stderr"
        },
        {
          "output_type": "stream",
          "text": [
            "Epoch  41\n"
          ],
          "name": "stdout"
        },
        {
          "output_type": "stream",
          "text": [
            "100%|██████████| 52/52 [02:56<00:00,  3.39s/it]\n",
            "100%|██████████| 14/14 [00:44<00:00,  3.16s/it]\n"
          ],
          "name": "stderr"
        },
        {
          "output_type": "stream",
          "text": [
            "Accuracy  0.9547619047619048\n",
            " Metric macro: prec rec fscore\n",
            "0.8546382189239333 0.8358650278293135 0.84226035868893 \n",
            " Metric micro: prec rec fscore\n",
            "0.9690476190476192 0.9690476190476192 0.9690476190476192 \n",
            " Metric weighted: prec rec fscore\n",
            "0.9812500000000001 0.9690476190476192 0.9733219954648525 \n"
          ],
          "name": "stdout"
        },
        {
          "output_type": "stream",
          "text": [
            "\r  0%|          | 0/52 [00:00<?, ?it/s]"
          ],
          "name": "stderr"
        },
        {
          "output_type": "stream",
          "text": [
            "Epoch  42\n"
          ],
          "name": "stdout"
        },
        {
          "output_type": "stream",
          "text": [
            "100%|██████████| 52/52 [02:56<00:00,  3.40s/it]\n",
            "100%|██████████| 14/14 [00:43<00:00,  3.14s/it]\n"
          ],
          "name": "stderr"
        },
        {
          "output_type": "stream",
          "text": [
            "Accuracy  0.9119047619047619\n",
            " Metric macro: prec rec fscore\n",
            "0.7898809523809526 0.7638530412164866 0.7722438672438674 \n",
            " Metric micro: prec rec fscore\n",
            "0.9244047619047621 0.9244047619047621 0.9244047619047621 \n",
            " Metric weighted: prec rec fscore\n",
            "0.9788690476190477 0.9244047619047621 0.9389940218511647 \n"
          ],
          "name": "stdout"
        },
        {
          "output_type": "stream",
          "text": [
            "\r  0%|          | 0/52 [00:00<?, ?it/s]"
          ],
          "name": "stderr"
        },
        {
          "output_type": "stream",
          "text": [
            "Epoch  43\n"
          ],
          "name": "stdout"
        },
        {
          "output_type": "stream",
          "text": [
            "100%|██████████| 52/52 [02:52<00:00,  3.31s/it]\n",
            "100%|██████████| 14/14 [00:41<00:00,  2.99s/it]\n"
          ],
          "name": "stderr"
        },
        {
          "output_type": "stream",
          "text": [
            "Accuracy  0.930952380952381\n",
            " Metric macro: prec rec fscore\n",
            "0.7493197278911566 0.7294784580498866 0.7375363327149042 \n",
            " Metric micro: prec rec fscore\n",
            "0.9446428571428573 0.9446428571428573 0.9446428571428573 \n",
            " Metric weighted: prec rec fscore\n",
            "0.9690476190476192 0.9446428571428573 0.9548948670377243 \n"
          ],
          "name": "stdout"
        },
        {
          "output_type": "stream",
          "text": [
            "\r  0%|          | 0/52 [00:00<?, ?it/s]"
          ],
          "name": "stderr"
        },
        {
          "output_type": "stream",
          "text": [
            "Epoch  44\n"
          ],
          "name": "stdout"
        },
        {
          "output_type": "stream",
          "text": [
            "100%|██████████| 52/52 [02:47<00:00,  3.21s/it]\n",
            "100%|██████████| 14/14 [00:40<00:00,  2.91s/it]\n"
          ],
          "name": "stderr"
        },
        {
          "output_type": "stream",
          "text": [
            "Accuracy  0.9285714285714286\n",
            " Metric macro: prec rec fscore\n",
            "0.770408163265306 0.731397122341 0.7458272533648473 \n",
            " Metric micro: prec rec fscore\n",
            "0.942857142857143 0.942857142857143 0.942857142857143 \n",
            " Metric weighted: prec rec fscore\n",
            "0.980952380952381 0.942857142857143 0.9581677637316736 \n"
          ],
          "name": "stdout"
        },
        {
          "output_type": "stream",
          "text": [
            "\r  0%|          | 0/52 [00:00<?, ?it/s]"
          ],
          "name": "stderr"
        },
        {
          "output_type": "stream",
          "text": [
            "Epoch  45\n"
          ],
          "name": "stdout"
        },
        {
          "output_type": "stream",
          "text": [
            "100%|██████████| 52/52 [02:44<00:00,  3.16s/it]\n",
            "100%|██████████| 14/14 [00:40<00:00,  2.91s/it]\n"
          ],
          "name": "stderr"
        },
        {
          "output_type": "stream",
          "text": [
            "Accuracy  0.9380952380952381\n",
            " Metric macro: prec rec fscore\n",
            "0.790410779696494 0.774695877629551 0.7810957128179429 \n",
            " Metric micro: prec rec fscore\n",
            "0.9523809523809524 0.9523809523809524 0.9523809523809524 \n",
            " Metric weighted: prec rec fscore\n",
            "0.9763736263736265 0.9523809523809524 0.9624846609704036 \n"
          ],
          "name": "stdout"
        },
        {
          "output_type": "stream",
          "text": [
            "\r  0%|          | 0/52 [00:00<?, ?it/s]"
          ],
          "name": "stderr"
        },
        {
          "output_type": "stream",
          "text": [
            "Epoch  46\n"
          ],
          "name": "stdout"
        },
        {
          "output_type": "stream",
          "text": [
            "100%|██████████| 52/52 [02:43<00:00,  3.14s/it]\n",
            "100%|██████████| 14/14 [00:40<00:00,  2.90s/it]\n"
          ],
          "name": "stderr"
        },
        {
          "output_type": "stream",
          "text": [
            "Accuracy  0.9333333333333333\n",
            " Metric macro: prec rec fscore\n",
            "0.760515873015873 0.7379305383769671 0.7463517774742264 \n",
            " Metric micro: prec rec fscore\n",
            "0.9470238095238097 0.9470238095238097 0.9470238095238097 \n",
            " Metric weighted: prec rec fscore\n",
            "0.9811011904761905 0.9470238095238097 0.9608984269698555 \n"
          ],
          "name": "stdout"
        },
        {
          "output_type": "stream",
          "text": [
            "\r  0%|          | 0/52 [00:00<?, ?it/s]"
          ],
          "name": "stderr"
        },
        {
          "output_type": "stream",
          "text": [
            "Epoch  47\n"
          ],
          "name": "stdout"
        },
        {
          "output_type": "stream",
          "text": [
            "100%|██████████| 52/52 [02:45<00:00,  3.17s/it]\n",
            "100%|██████████| 14/14 [00:40<00:00,  2.90s/it]\n"
          ],
          "name": "stderr"
        },
        {
          "output_type": "stream",
          "text": [
            "Accuracy  0.9428571428571428\n",
            " Metric macro: prec rec fscore\n",
            "0.8147418058132344 0.7925342467434305 0.8010538973386702 \n",
            " Metric micro: prec rec fscore\n",
            "0.9571428571428572 0.9571428571428572 0.9571428571428572 \n",
            " Metric weighted: prec rec fscore\n",
            "0.9857142857142858 0.9571428571428572 0.9686625624340194 \n"
          ],
          "name": "stdout"
        },
        {
          "output_type": "stream",
          "text": [
            "\r  0%|          | 0/52 [00:00<?, ?it/s]"
          ],
          "name": "stderr"
        },
        {
          "output_type": "stream",
          "text": [
            "Epoch  48\n"
          ],
          "name": "stdout"
        },
        {
          "output_type": "stream",
          "text": [
            "100%|██████████| 52/52 [02:44<00:00,  3.15s/it]\n",
            "100%|██████████| 14/14 [00:40<00:00,  2.89s/it]\n"
          ],
          "name": "stderr"
        },
        {
          "output_type": "stream",
          "text": [
            "Accuracy  0.9380952380952381\n",
            " Metric macro: prec rec fscore\n",
            "0.7979591836734693 0.7725900280747219 0.7815503992665646 \n",
            " Metric micro: prec rec fscore\n",
            "0.9517857142857143 0.9517857142857143 0.9517857142857143 \n",
            " Metric weighted: prec rec fscore\n",
            "0.9808333333333333 0.9517857142857143 0.9626881507520606 \n"
          ],
          "name": "stdout"
        },
        {
          "output_type": "stream",
          "text": [
            "\r  0%|          | 0/52 [00:00<?, ?it/s]"
          ],
          "name": "stderr"
        },
        {
          "output_type": "stream",
          "text": [
            "Epoch  49\n"
          ],
          "name": "stdout"
        },
        {
          "output_type": "stream",
          "text": [
            "100%|██████████| 52/52 [02:43<00:00,  3.15s/it]\n",
            "100%|██████████| 14/14 [00:40<00:00,  2.90s/it]\n"
          ],
          "name": "stderr"
        },
        {
          "output_type": "stream",
          "text": [
            "Accuracy  0.9476190476190476\n",
            " Metric macro: prec rec fscore\n",
            "0.8206813028241601 0.7990068321700975 0.8075091068127905 \n",
            " Metric micro: prec rec fscore\n",
            "0.961904761904762 0.961904761904762 0.961904761904762 \n",
            " Metric weighted: prec rec fscore\n",
            "0.9880952380952381 0.961904761904762 0.9729596266433643 \n"
          ],
          "name": "stdout"
        },
        {
          "output_type": "stream",
          "text": [
            "\r  0%|          | 0/52 [00:00<?, ?it/s]"
          ],
          "name": "stderr"
        },
        {
          "output_type": "stream",
          "text": [
            "Epoch  50\n"
          ],
          "name": "stdout"
        },
        {
          "output_type": "stream",
          "text": [
            "100%|██████████| 52/52 [02:42<00:00,  3.13s/it]\n",
            "100%|██████████| 14/14 [00:40<00:00,  2.87s/it]\n"
          ],
          "name": "stderr"
        },
        {
          "output_type": "stream",
          "text": [
            "Accuracy  0.9214285714285714\n",
            " Metric macro: prec rec fscore\n",
            "0.7485969387755101 0.7126107672192411 0.7252797303774392 \n",
            " Metric micro: prec rec fscore\n",
            "0.9351190476190477 0.9351190476190477 0.9351190476190477 \n",
            " Metric weighted: prec rec fscore\n",
            "0.9742063492063492 0.9351190476190477 0.9511451879955924 \n"
          ],
          "name": "stdout"
        },
        {
          "output_type": "stream",
          "text": [
            "\r  0%|          | 0/52 [00:00<?, ?it/s]"
          ],
          "name": "stderr"
        },
        {
          "output_type": "stream",
          "text": [
            "Epoch  51\n"
          ],
          "name": "stdout"
        },
        {
          "output_type": "stream",
          "text": [
            "100%|██████████| 52/52 [02:40<00:00,  3.08s/it]\n",
            "100%|██████████| 14/14 [00:39<00:00,  2.84s/it]\n"
          ],
          "name": "stderr"
        },
        {
          "output_type": "stream",
          "text": [
            "Accuracy  0.9285714285714286\n",
            " Metric macro: prec rec fscore\n",
            "0.721554834054834 0.688156846275746 0.6994433643625018 \n",
            " Metric micro: prec rec fscore\n",
            "0.942261904761905 0.942261904761905 0.942261904761905 \n",
            " Metric weighted: prec rec fscore\n",
            "0.9694940476190477 0.942261904761905 0.9529305243523573 \n"
          ],
          "name": "stdout"
        },
        {
          "output_type": "stream",
          "text": [
            "\r  0%|          | 0/52 [00:00<?, ?it/s]"
          ],
          "name": "stderr"
        },
        {
          "output_type": "stream",
          "text": [
            "Epoch  52\n"
          ],
          "name": "stdout"
        },
        {
          "output_type": "stream",
          "text": [
            "100%|██████████| 52/52 [02:39<00:00,  3.07s/it]\n",
            "100%|██████████| 14/14 [00:39<00:00,  2.83s/it]\n"
          ],
          "name": "stderr"
        },
        {
          "output_type": "stream",
          "text": [
            "Accuracy  0.9452380952380952\n",
            " Metric macro: prec rec fscore\n",
            "0.7906179138321995 0.7695058578987152 0.7768494776412567 \n",
            " Metric micro: prec rec fscore\n",
            "0.9589285714285716 0.9589285714285716 0.9589285714285716 \n",
            " Metric weighted: prec rec fscore\n",
            "0.9811011904761905 0.9589285714285716 0.9677599541817871 \n"
          ],
          "name": "stdout"
        },
        {
          "output_type": "stream",
          "text": [
            "\r  0%|          | 0/52 [00:00<?, ?it/s]"
          ],
          "name": "stderr"
        },
        {
          "output_type": "stream",
          "text": [
            "Epoch  53\n"
          ],
          "name": "stdout"
        },
        {
          "output_type": "stream",
          "text": [
            "100%|██████████| 52/52 [02:38<00:00,  3.05s/it]\n",
            "100%|██████████| 14/14 [00:39<00:00,  2.82s/it]\n"
          ],
          "name": "stderr"
        },
        {
          "output_type": "stream",
          "text": [
            "Accuracy  0.9404761904761905\n",
            " Metric macro: prec rec fscore\n",
            "0.7722222222222221 0.7398546323291223 0.7509849173383009 \n",
            " Metric micro: prec rec fscore\n",
            "0.9541666666666667 0.9541666666666667 0.9541666666666667 \n",
            " Metric weighted: prec rec fscore\n",
            "0.9787202380952381 0.9541666666666667 0.9636599302952688 \n"
          ],
          "name": "stdout"
        },
        {
          "output_type": "stream",
          "text": [
            "\r  0%|          | 0/52 [00:00<?, ?it/s]"
          ],
          "name": "stderr"
        },
        {
          "output_type": "stream",
          "text": [
            "Epoch  54\n"
          ],
          "name": "stdout"
        },
        {
          "output_type": "stream",
          "text": [
            "100%|██████████| 52/52 [02:39<00:00,  3.06s/it]\n",
            "100%|██████████| 14/14 [00:39<00:00,  2.83s/it]\n"
          ],
          "name": "stderr"
        },
        {
          "output_type": "stream",
          "text": [
            "Accuracy  0.9404761904761905\n",
            " Metric macro: prec rec fscore\n",
            "0.7818774479488765 0.7513999322672793 0.7614905228439063 \n",
            " Metric micro: prec rec fscore\n",
            "0.9541666666666668 0.9541666666666668 0.9541666666666668 \n",
            " Metric weighted: prec rec fscore\n",
            "0.9742559523809524 0.9541666666666668 0.9616635932989317 \n"
          ],
          "name": "stdout"
        },
        {
          "output_type": "stream",
          "text": [
            "\r  0%|          | 0/52 [00:00<?, ?it/s]"
          ],
          "name": "stderr"
        },
        {
          "output_type": "stream",
          "text": [
            "Epoch  55\n"
          ],
          "name": "stdout"
        },
        {
          "output_type": "stream",
          "text": [
            "100%|██████████| 52/52 [02:44<00:00,  3.16s/it]\n",
            "100%|██████████| 14/14 [00:40<00:00,  2.90s/it]\n"
          ],
          "name": "stderr"
        },
        {
          "output_type": "stream",
          "text": [
            "Accuracy  0.9523809523809523\n",
            " Metric macro: prec rec fscore\n",
            "0.8142573696145124 0.7938917233560091 0.8010561159809281 \n",
            " Metric micro: prec rec fscore\n",
            "0.9666666666666668 0.9666666666666668 0.9666666666666668 \n",
            " Metric weighted: prec rec fscore\n",
            "0.9788690476190477 0.9666666666666668 0.9714722370361468 \n"
          ],
          "name": "stdout"
        },
        {
          "output_type": "stream",
          "text": [
            "\r  0%|          | 0/52 [00:00<?, ?it/s]"
          ],
          "name": "stderr"
        },
        {
          "output_type": "stream",
          "text": [
            "Epoch  56\n"
          ],
          "name": "stdout"
        },
        {
          "output_type": "stream",
          "text": [
            "100%|██████████| 52/52 [02:46<00:00,  3.20s/it]\n",
            "100%|██████████| 14/14 [00:41<00:00,  2.96s/it]\n"
          ],
          "name": "stderr"
        },
        {
          "output_type": "stream",
          "text": [
            "Accuracy  0.9523809523809523\n",
            " Metric macro: prec rec fscore\n",
            "0.8142573696145124 0.7938917233560091 0.8010561159809281 \n",
            " Metric micro: prec rec fscore\n",
            "0.9666666666666668 0.9666666666666668 0.9666666666666668 \n",
            " Metric weighted: prec rec fscore\n",
            "0.9788690476190477 0.9666666666666668 0.9714722370361468 \n"
          ],
          "name": "stdout"
        },
        {
          "output_type": "stream",
          "text": [
            "\r  0%|          | 0/52 [00:00<?, ?it/s]"
          ],
          "name": "stderr"
        },
        {
          "output_type": "stream",
          "text": [
            "Epoch  57\n"
          ],
          "name": "stdout"
        },
        {
          "output_type": "stream",
          "text": [
            "100%|██████████| 52/52 [02:44<00:00,  3.16s/it]\n",
            "100%|██████████| 14/14 [00:41<00:00,  2.93s/it]\n"
          ],
          "name": "stderr"
        },
        {
          "output_type": "stream",
          "text": [
            "Accuracy  0.9547619047619048\n",
            " Metric macro: prec rec fscore\n",
            "0.8128117913832199 0.8018727729186913 0.8061093668236525 \n",
            " Metric micro: prec rec fscore\n",
            "0.9690476190476192 0.9690476190476192 0.9690476190476192 \n",
            " Metric weighted: prec rec fscore\n",
            "0.9785714285714286 0.9690476190476192 0.9730594802023375 \n"
          ],
          "name": "stdout"
        },
        {
          "output_type": "stream",
          "text": [
            "\r  0%|          | 0/52 [00:00<?, ?it/s]"
          ],
          "name": "stderr"
        },
        {
          "output_type": "stream",
          "text": [
            "Epoch  58\n"
          ],
          "name": "stdout"
        },
        {
          "output_type": "stream",
          "text": [
            "100%|██████████| 52/52 [02:50<00:00,  3.27s/it]\n",
            "100%|██████████| 14/14 [00:42<00:00,  3.02s/it]\n"
          ],
          "name": "stderr"
        },
        {
          "output_type": "stream",
          "text": [
            "Accuracy  0.9452380952380952\n",
            " Metric macro: prec rec fscore\n",
            "0.7844954648526076 0.7608863783608681 0.769010989010989 \n",
            " Metric micro: prec rec fscore\n",
            "0.9595238095238097 0.9595238095238097 0.9595238095238097 \n",
            " Metric weighted: prec rec fscore\n",
            "0.974107142857143 0.9595238095238097 0.9648970870399441 \n"
          ],
          "name": "stdout"
        },
        {
          "output_type": "stream",
          "text": [
            "\r  0%|          | 0/52 [00:00<?, ?it/s]"
          ],
          "name": "stderr"
        },
        {
          "output_type": "stream",
          "text": [
            "Epoch  59\n"
          ],
          "name": "stdout"
        },
        {
          "output_type": "stream",
          "text": [
            "100%|██████████| 52/52 [02:51<00:00,  3.29s/it]\n",
            "100%|██████████| 14/14 [00:42<00:00,  3.02s/it]\n"
          ],
          "name": "stderr"
        },
        {
          "output_type": "stream",
          "text": [
            "Accuracy  0.95\n",
            " Metric macro: prec rec fscore\n",
            "0.7902391259534117 0.7640740495332333 0.773344512630227 \n",
            " Metric micro: prec rec fscore\n",
            "0.9642857142857144 0.9642857142857144 0.9642857142857144 \n",
            " Metric weighted: prec rec fscore\n",
            "0.9833333333333334 0.9642857142857144 0.9713833785262357 \n"
          ],
          "name": "stdout"
        },
        {
          "output_type": "stream",
          "text": [
            "\r  0%|          | 0/52 [00:00<?, ?it/s]"
          ],
          "name": "stderr"
        },
        {
          "output_type": "stream",
          "text": [
            "Epoch  60\n"
          ],
          "name": "stdout"
        },
        {
          "output_type": "stream",
          "text": [
            "100%|██████████| 52/52 [02:46<00:00,  3.21s/it]\n",
            "100%|██████████| 14/14 [00:40<00:00,  2.92s/it]\n"
          ],
          "name": "stderr"
        },
        {
          "output_type": "stream",
          "text": [
            "Accuracy  0.95\n",
            " Metric macro: prec rec fscore\n",
            "0.7927051123479696 0.7676819212533499 0.7761980479837621 \n",
            " Metric micro: prec rec fscore\n",
            "0.9642857142857144 0.9642857142857144 0.9642857142857144 \n",
            " Metric weighted: prec rec fscore\n",
            "0.9812500000000001 0.9642857142857144 0.9702722674151245 \n"
          ],
          "name": "stdout"
        },
        {
          "output_type": "stream",
          "text": [
            "\r  0%|          | 0/52 [00:00<?, ?it/s]"
          ],
          "name": "stderr"
        },
        {
          "output_type": "stream",
          "text": [
            "Epoch  61\n"
          ],
          "name": "stdout"
        },
        {
          "output_type": "stream",
          "text": [
            "100%|██████████| 52/52 [02:47<00:00,  3.22s/it]\n",
            "100%|██████████| 14/14 [00:41<00:00,  2.99s/it]\n"
          ],
          "name": "stderr"
        },
        {
          "output_type": "stream",
          "text": [
            "Accuracy  0.9523809523809523\n",
            " Metric macro: prec rec fscore\n",
            "0.8105622552051124 0.7944676355390642 0.8000075717932861 \n",
            " Metric micro: prec rec fscore\n",
            "0.9666666666666668 0.9666666666666668 0.9666666666666668 \n",
            " Metric weighted: prec rec fscore\n",
            "0.9812500000000001 0.9666666666666668 0.9718595690024261 \n"
          ],
          "name": "stdout"
        },
        {
          "output_type": "stream",
          "text": [
            "\r  0%|          | 0/52 [00:00<?, ?it/s]"
          ],
          "name": "stderr"
        },
        {
          "output_type": "stream",
          "text": [
            "Epoch  62\n"
          ],
          "name": "stdout"
        },
        {
          "output_type": "stream",
          "text": [
            "100%|██████████| 52/52 [02:48<00:00,  3.24s/it]\n",
            "100%|██████████| 14/14 [00:41<00:00,  2.99s/it]\n"
          ],
          "name": "stderr"
        },
        {
          "output_type": "stream",
          "text": [
            "Accuracy  0.9380952380952381\n",
            " Metric macro: prec rec fscore\n",
            "0.7789366883116884 0.7567078093863808 0.7645006071026479 \n",
            " Metric micro: prec rec fscore\n",
            "0.9523809523809524 0.9523809523809524 0.9523809523809524 \n",
            " Metric weighted: prec rec fscore\n",
            "0.9815476190476191 0.9523809523809524 0.963803203599122 \n"
          ],
          "name": "stdout"
        },
        {
          "output_type": "stream",
          "text": [
            "\r  0%|          | 0/52 [00:00<?, ?it/s]"
          ],
          "name": "stderr"
        },
        {
          "output_type": "stream",
          "text": [
            "Epoch  63\n"
          ],
          "name": "stdout"
        },
        {
          "output_type": "stream",
          "text": [
            "100%|██████████| 52/52 [02:46<00:00,  3.21s/it]\n",
            "100%|██████████| 14/14 [00:41<00:00,  2.96s/it]\n"
          ],
          "name": "stderr"
        },
        {
          "output_type": "stream",
          "text": [
            "Accuracy  0.9428571428571428\n",
            " Metric macro: prec rec fscore\n",
            "0.7976087404658834 0.7702086462290543 0.7801042872471443 \n",
            " Metric micro: prec rec fscore\n",
            "0.9571428571428572 0.9571428571428572 0.9571428571428572 \n",
            " Metric weighted: prec rec fscore\n",
            "0.9833333333333334 0.9571428571428572 0.9670182991611563 \n"
          ],
          "name": "stdout"
        },
        {
          "output_type": "stream",
          "text": [
            "\r  0%|          | 0/52 [00:00<?, ?it/s]"
          ],
          "name": "stderr"
        },
        {
          "output_type": "stream",
          "text": [
            "Epoch  64\n"
          ],
          "name": "stdout"
        },
        {
          "output_type": "stream",
          "text": [
            "100%|██████████| 52/52 [02:43<00:00,  3.14s/it]\n",
            "100%|██████████| 14/14 [00:40<00:00,  2.88s/it]\n"
          ],
          "name": "stderr"
        },
        {
          "output_type": "stream",
          "text": [
            "Accuracy  0.9333333333333333\n",
            " Metric macro: prec rec fscore\n",
            "0.7646258503401361 0.7351565626250498 0.745995670995671 \n",
            " Metric micro: prec rec fscore\n",
            "0.9476190476190478 0.9476190476190478 0.9476190476190478 \n",
            " Metric weighted: prec rec fscore\n",
            "0.9785714285714286 0.9476190476190478 0.9596526489383633 \n"
          ],
          "name": "stdout"
        },
        {
          "output_type": "stream",
          "text": [
            "\r  0%|          | 0/52 [00:00<?, ?it/s]"
          ],
          "name": "stderr"
        },
        {
          "output_type": "stream",
          "text": [
            "Epoch  65\n"
          ],
          "name": "stdout"
        },
        {
          "output_type": "stream",
          "text": [
            "100%|██████████| 52/52 [02:42<00:00,  3.13s/it]\n",
            "100%|██████████| 14/14 [00:39<00:00,  2.84s/it]\n"
          ],
          "name": "stderr"
        },
        {
          "output_type": "stream",
          "text": [
            "Accuracy  0.9380952380952381\n",
            " Metric macro: prec rec fscore\n",
            "0.7469851576994434 0.7156033120318834 0.726747535932172 \n",
            " Metric micro: prec rec fscore\n",
            "0.9523809523809526 0.9523809523809526 0.9523809523809526 \n",
            " Metric weighted: prec rec fscore\n",
            "0.9788690476190477 0.9523809523809526 0.9626122051054666 \n"
          ],
          "name": "stdout"
        },
        {
          "output_type": "stream",
          "text": [
            "\r  0%|          | 0/52 [00:00<?, ?it/s]"
          ],
          "name": "stderr"
        },
        {
          "output_type": "stream",
          "text": [
            "Epoch  66\n"
          ],
          "name": "stdout"
        },
        {
          "output_type": "stream",
          "text": [
            "100%|██████████| 52/52 [02:40<00:00,  3.09s/it]\n",
            "100%|██████████| 14/14 [00:40<00:00,  2.86s/it]\n"
          ],
          "name": "stderr"
        },
        {
          "output_type": "stream",
          "text": [
            "Accuracy  0.9452380952380952\n",
            " Metric macro: prec rec fscore\n",
            "0.8045506081220367 0.7765666872809732 0.7860795289366719 \n",
            " Metric micro: prec rec fscore\n",
            "0.9589285714285716 0.9589285714285716 0.9589285714285716 \n",
            " Metric weighted: prec rec fscore\n",
            "0.9811011904761905 0.9589285714285716 0.9672321725893155 \n"
          ],
          "name": "stdout"
        },
        {
          "output_type": "stream",
          "text": [
            "\r  0%|          | 0/52 [00:00<?, ?it/s]"
          ],
          "name": "stderr"
        },
        {
          "output_type": "stream",
          "text": [
            "Epoch  67\n"
          ],
          "name": "stdout"
        },
        {
          "output_type": "stream",
          "text": [
            "100%|██████████| 52/52 [02:40<00:00,  3.08s/it]\n",
            "100%|██████████| 14/14 [00:39<00:00,  2.84s/it]\n"
          ],
          "name": "stderr"
        },
        {
          "output_type": "stream",
          "text": [
            "Accuracy  0.9476190476190476\n",
            " Metric macro: prec rec fscore\n",
            "0.7704236239950525 0.7579651593682206 0.7601191246609036 \n",
            " Metric micro: prec rec fscore\n",
            "0.961309523809524 0.961309523809524 0.961309523809524 \n",
            " Metric weighted: prec rec fscore\n",
            "0.9754464285714286 0.961309523809524 0.9662686676905006 \n"
          ],
          "name": "stdout"
        },
        {
          "output_type": "stream",
          "text": [
            "\r  0%|          | 0/52 [00:00<?, ?it/s]"
          ],
          "name": "stderr"
        },
        {
          "output_type": "stream",
          "text": [
            "Epoch  68\n"
          ],
          "name": "stdout"
        },
        {
          "output_type": "stream",
          "text": [
            "100%|██████████| 52/52 [02:37<00:00,  3.03s/it]\n",
            "100%|██████████| 14/14 [00:39<00:00,  2.79s/it]\n"
          ],
          "name": "stderr"
        },
        {
          "output_type": "stream",
          "text": [
            "Accuracy  0.9476190476190476\n",
            " Metric macro: prec rec fscore\n",
            "0.7678726035868892 0.7503120981437308 0.7558674239806314 \n",
            " Metric micro: prec rec fscore\n",
            "0.961309523809524 0.961309523809524 0.961309523809524 \n",
            " Metric weighted: prec rec fscore\n",
            "0.9766369047619048 0.961309523809524 0.9670623184841514 \n"
          ],
          "name": "stdout"
        },
        {
          "output_type": "stream",
          "text": [
            "\r  0%|          | 0/52 [00:00<?, ?it/s]"
          ],
          "name": "stderr"
        },
        {
          "output_type": "stream",
          "text": [
            "Epoch  69\n"
          ],
          "name": "stdout"
        },
        {
          "output_type": "stream",
          "text": [
            "100%|██████████| 52/52 [02:36<00:00,  3.00s/it]\n",
            "100%|██████████| 14/14 [00:41<00:00,  2.98s/it]\n"
          ],
          "name": "stderr"
        },
        {
          "output_type": "stream",
          "text": [
            "Accuracy  0.9523809523809523\n",
            " Metric macro: prec rec fscore\n",
            "0.7893011750154607 0.7759734738051065 0.7808642151499294 \n",
            " Metric micro: prec rec fscore\n",
            "0.9666666666666668 0.9666666666666668 0.9666666666666668 \n",
            " Metric weighted: prec rec fscore\n",
            "0.9788690476190477 0.9666666666666668 0.9715348936777508 \n"
          ],
          "name": "stdout"
        },
        {
          "output_type": "stream",
          "text": [
            "\r  0%|          | 0/52 [00:00<?, ?it/s]"
          ],
          "name": "stderr"
        },
        {
          "output_type": "stream",
          "text": [
            "Epoch  70\n"
          ],
          "name": "stdout"
        },
        {
          "output_type": "stream",
          "text": [
            "100%|██████████| 52/52 [02:44<00:00,  3.16s/it]\n",
            "100%|██████████| 14/14 [00:40<00:00,  2.90s/it]\n"
          ],
          "name": "stderr"
        },
        {
          "output_type": "stream",
          "text": [
            "Accuracy  0.9547619047619048\n",
            " Metric macro: prec rec fscore\n",
            "0.809964440321583 0.7945534057778956 0.7991078762507334 \n",
            " Metric micro: prec rec fscore\n",
            "0.9684523809523811 0.9684523809523811 0.9684523809523811 \n",
            " Metric weighted: prec rec fscore\n",
            "0.9790178571428572 0.9684523809523811 0.9719549101691959 \n"
          ],
          "name": "stdout"
        },
        {
          "output_type": "stream",
          "text": [
            "\r  0%|          | 0/52 [00:00<?, ?it/s]"
          ],
          "name": "stderr"
        },
        {
          "output_type": "stream",
          "text": [
            "Epoch  71\n"
          ],
          "name": "stdout"
        },
        {
          "output_type": "stream",
          "text": [
            "100%|██████████| 52/52 [02:43<00:00,  3.14s/it]\n",
            "100%|██████████| 14/14 [00:40<00:00,  2.89s/it]\n"
          ],
          "name": "stderr"
        },
        {
          "output_type": "stream",
          "text": [
            "Accuracy  0.9428571428571428\n",
            " Metric macro: prec rec fscore\n",
            "0.7560090702947845 0.7281651549508693 0.7378281506852936 \n",
            " Metric micro: prec rec fscore\n",
            "0.9559523809523809 0.9559523809523809 0.9559523809523809 \n",
            " Metric weighted: prec rec fscore\n",
            "0.9766369047619048 0.9559523809523809 0.9636413189984617 \n"
          ],
          "name": "stdout"
        },
        {
          "output_type": "stream",
          "text": [
            "\r  0%|          | 0/52 [00:00<?, ?it/s]"
          ],
          "name": "stderr"
        },
        {
          "output_type": "stream",
          "text": [
            "Epoch  72\n"
          ],
          "name": "stdout"
        },
        {
          "output_type": "stream",
          "text": [
            "100%|██████████| 52/52 [02:43<00:00,  3.14s/it]\n",
            "100%|██████████| 14/14 [00:40<00:00,  2.92s/it]\n"
          ],
          "name": "stderr"
        },
        {
          "output_type": "stream",
          "text": [
            "Accuracy  0.9428571428571428\n",
            " Metric macro: prec rec fscore\n",
            "0.7648526077097506 0.7385298563869993 0.7470381403894432 \n",
            " Metric micro: prec rec fscore\n",
            "0.9565476190476192 0.9565476190476192 0.9565476190476192 \n",
            " Metric weighted: prec rec fscore\n",
            "0.9791964285714286 0.9565476190476192 0.9646662489452247 \n"
          ],
          "name": "stdout"
        },
        {
          "output_type": "stream",
          "text": [
            "\r  0%|          | 0/52 [00:00<?, ?it/s]"
          ],
          "name": "stderr"
        },
        {
          "output_type": "stream",
          "text": [
            "Epoch  73\n"
          ],
          "name": "stdout"
        },
        {
          "output_type": "stream",
          "text": [
            "100%|██████████| 52/52 [02:44<00:00,  3.17s/it]\n",
            "100%|██████████| 14/14 [00:40<00:00,  2.92s/it]\n"
          ],
          "name": "stderr"
        },
        {
          "output_type": "stream",
          "text": [
            "Accuracy  0.9142857142857143\n",
            " Metric macro: prec rec fscore\n",
            "0.6713614163614164 0.6440195675339735 0.6530642936977168 \n",
            " Metric micro: prec rec fscore\n",
            "0.9273809523809525 0.9273809523809525 0.9273809523809525 \n",
            " Metric weighted: prec rec fscore\n",
            "0.9571428571428573 0.9273809523809525 0.938977258702663 \n"
          ],
          "name": "stdout"
        },
        {
          "output_type": "stream",
          "text": [
            "\r  0%|          | 0/52 [00:00<?, ?it/s]"
          ],
          "name": "stderr"
        },
        {
          "output_type": "stream",
          "text": [
            "Epoch  74\n"
          ],
          "name": "stdout"
        },
        {
          "output_type": "stream",
          "text": [
            "100%|██████████| 52/52 [02:45<00:00,  3.18s/it]\n",
            "100%|██████████| 14/14 [00:41<00:00,  2.94s/it]\n"
          ],
          "name": "stderr"
        },
        {
          "output_type": "stream",
          "text": [
            "Accuracy  0.9452380952380952\n",
            " Metric macro: prec rec fscore\n",
            "0.7736394557823129 0.7498049616672066 0.7576147397575969 \n",
            " Metric micro: prec rec fscore\n",
            "0.9589285714285715 0.9589285714285715 0.9589285714285715 \n",
            " Metric weighted: prec rec fscore\n",
            "0.9787202380952381 0.9589285714285715 0.9663377407425028 \n"
          ],
          "name": "stdout"
        },
        {
          "output_type": "stream",
          "text": [
            "\r  0%|          | 0/52 [00:00<?, ?it/s]"
          ],
          "name": "stderr"
        },
        {
          "output_type": "stream",
          "text": [
            "Epoch  75\n"
          ],
          "name": "stdout"
        },
        {
          "output_type": "stream",
          "text": [
            "100%|██████████| 52/52 [02:45<00:00,  3.18s/it]\n",
            "100%|██████████| 14/14 [00:41<00:00,  2.94s/it]\n"
          ],
          "name": "stderr"
        },
        {
          "output_type": "stream",
          "text": [
            "Accuracy  0.9547619047619048\n",
            " Metric macro: prec rec fscore\n",
            "0.7940476190476191 0.7789729780801208 0.7845656701788777 \n",
            " Metric micro: prec rec fscore\n",
            "0.9690476190476192 0.9690476190476192 0.9690476190476192 \n",
            " Metric weighted: prec rec fscore\n",
            "0.9833333333333334 0.9690476190476192 0.9748693130768603 \n"
          ],
          "name": "stdout"
        },
        {
          "output_type": "stream",
          "text": [
            "\r  0%|          | 0/52 [00:00<?, ?it/s]"
          ],
          "name": "stderr"
        },
        {
          "output_type": "stream",
          "text": [
            "Epoch  76\n"
          ],
          "name": "stdout"
        },
        {
          "output_type": "stream",
          "text": [
            "100%|██████████| 52/52 [02:44<00:00,  3.16s/it]\n",
            "100%|██████████| 14/14 [00:41<00:00,  2.98s/it]\n"
          ],
          "name": "stderr"
        },
        {
          "output_type": "stream",
          "text": [
            "Accuracy  0.9523809523809523\n",
            " Metric macro: prec rec fscore\n",
            "0.787461348175634 0.7715625644197074 0.7774455236640111 \n",
            " Metric micro: prec rec fscore\n",
            "0.9666666666666668 0.9666666666666668 0.9666666666666668 \n",
            " Metric weighted: prec rec fscore\n",
            "0.980952380952381 0.9666666666666668 0.972310924369748 \n"
          ],
          "name": "stdout"
        },
        {
          "output_type": "stream",
          "text": [
            "\r  0%|          | 0/52 [00:00<?, ?it/s]"
          ],
          "name": "stderr"
        },
        {
          "output_type": "stream",
          "text": [
            "Epoch  77\n"
          ],
          "name": "stdout"
        },
        {
          "output_type": "stream",
          "text": [
            "100%|██████████| 52/52 [02:45<00:00,  3.18s/it]\n",
            "100%|██████████| 14/14 [00:39<00:00,  2.85s/it]\n"
          ],
          "name": "stderr"
        },
        {
          "output_type": "stream",
          "text": [
            "Accuracy  0.8785714285714286\n",
            " Metric macro: prec rec fscore\n",
            "0.696605180533752 0.6328536931281176 0.6547764280240783 \n",
            " Metric micro: prec rec fscore\n",
            "0.8922619047619049 0.8922619047619049 0.8922619047619049 \n",
            " Metric weighted: prec rec fscore\n",
            "0.9663003663003664 0.8922619047619049 0.9203208813603551 \n"
          ],
          "name": "stdout"
        },
        {
          "output_type": "stream",
          "text": [
            "\r  0%|          | 0/52 [00:00<?, ?it/s]"
          ],
          "name": "stderr"
        },
        {
          "output_type": "stream",
          "text": [
            "Epoch  78\n"
          ],
          "name": "stdout"
        },
        {
          "output_type": "stream",
          "text": [
            "100%|██████████| 52/52 [02:40<00:00,  3.08s/it]\n",
            "100%|██████████| 14/14 [00:39<00:00,  2.85s/it]\n"
          ],
          "name": "stderr"
        },
        {
          "output_type": "stream",
          "text": [
            "Accuracy  0.9166666666666666\n",
            " Metric macro: prec rec fscore\n",
            "0.6973781179138321 0.6690405328798186 0.6776793396959885 \n",
            " Metric micro: prec rec fscore\n",
            "0.930357142857143 0.930357142857143 0.930357142857143 \n",
            " Metric weighted: prec rec fscore\n",
            "0.9703869047619048 0.930357142857143 0.945111542175452 \n"
          ],
          "name": "stdout"
        },
        {
          "output_type": "stream",
          "text": [
            "\r  0%|          | 0/52 [00:00<?, ?it/s]"
          ],
          "name": "stderr"
        },
        {
          "output_type": "stream",
          "text": [
            "Epoch  79\n"
          ],
          "name": "stdout"
        },
        {
          "output_type": "stream",
          "text": [
            "100%|██████████| 52/52 [02:39<00:00,  3.07s/it]\n",
            "100%|██████████| 14/14 [00:39<00:00,  2.84s/it]\n"
          ],
          "name": "stderr"
        },
        {
          "output_type": "stream",
          "text": [
            "Accuracy  0.930952380952381\n",
            " Metric macro: prec rec fscore\n",
            "0.7665816326530612 0.747077212527523 0.7532914045164876 \n",
            " Metric micro: prec rec fscore\n",
            "0.942857142857143 0.942857142857143 0.942857142857143 \n",
            " Metric weighted: prec rec fscore\n",
            "0.975297619047619 0.942857142857143 0.9555475338614873 \n"
          ],
          "name": "stdout"
        }
      ]
    },
    {
      "cell_type": "code",
      "metadata": {
        "id": "AJ6h-joX7NmC",
        "colab_type": "code",
        "outputId": "7a23856c-be1f-46f5-d994-20dde4ea8a44",
        "colab": {
          "base_uri": "https://localhost:8080/",
          "height": 1000
        }
      },
      "source": [
        "import torch\n",
        "import torchvision\n",
        "from sklearn.metrics import precision_recall_fscore_support\n",
        "\n",
        "data_dir = 'veggie_fruit_data/'\n",
        "total_classes = 64\n",
        "batch_size = 30\n",
        "num_workers = 8\n",
        "train_input_folder = data_dir + 'train/'\n",
        "validate_input_folder = data_dir + 'validate/'\n",
        "\n",
        "# Validation Data Loader\n",
        "val_transform = transforms.Compose([\n",
        "    transforms.Resize((224,224)),\n",
        "    transforms.ToTensor(),\n",
        "    transforms.Normalize((0.485, 0.456, 0.406), (0.229, 0.224, 0.225)),\n",
        "])\n",
        "val_dataset = torchvision.datasets.ImageFolder(validate_input_folder,\n",
        "                                                  transform=val_transform)\n",
        "val_loader = data.DataLoader(val_dataset, batch_size=batch_size,\n",
        "                                shuffle=False, num_workers=num_workers)\n",
        "# Create Model\n",
        "model = torchvision.models.vgg19(pretrained=True)\n",
        "model.classifier[6] = nn.Linear(4096, total_classes, bias=True)\n",
        "model = model.cuda()\n",
        "\n",
        "model.load_state_dict(torch.load(\"ckpt.pth\"))\n",
        "\n",
        "model.eval()\n",
        "with torch.no_grad():\n",
        "    correct = 0.0\n",
        "    tqdm_val = tqdm.tqdm(val_loader)\n",
        "    metrics = {'macro': {'prec': 0.0, 'rec': 0.0, 'fscore': 0.0},                                                                                                                               \n",
        "                'micro': {'prec': 0.0, 'rec': 0.0, 'fscore': 0.0},\n",
        "                'weighted': {'prec': 0.0, 'rec': 0.0, 'fscore': 0.0}}\n",
        "    labels = None\n",
        "    preds = None\n",
        "    count_cls = {}\n",
        "    for image, label in tqdm_val:\n",
        "        image = image.cuda()\n",
        "        pred = model(image)\n",
        "        pred_labels = pred.detach().cpu().argmax(dim=1)\n",
        "        if labels is None:\n",
        "          labels = label\n",
        "          preds = pred_labels\n",
        "        else:\n",
        "          labels = torch.cat((labels, label), dim=0)\n",
        "          preds = torch.cat((preds, pred_labels), dim=0)\n",
        "\n",
        "        for key in metrics.keys():\n",
        "            prec, recall, fscore, _ = precision_recall_fscore_support(label, pred_labels,\n",
        "                                                                      average=key)\n",
        "            metrics[key]['prec'] += prec\n",
        "            metrics[key]['rec'] += recall\n",
        "            metrics[key]['fscore'] += fscore\n",
        "        correct += (pred_labels == label).sum().item()\n",
        "    \n",
        "    print('Accuracy ', correct/(len(tqdm_val)*batch_size))\n",
        "    for key in metrics.keys():\n",
        "        print(' Metric %s: prec rec fscore'%key)\n",
        "        out_str = ''\n",
        "        for k2 in metrics[key].keys():\n",
        "            metrics[key][k2] /= (len(tqdm_val))\n",
        "            out_str += str(metrics[key][k2]) + ' '\n",
        "        print(out_str)\n",
        "\n",
        "    print('Fscore per class ') \n",
        "    prec, recall, fscore, sprt = precision_recall_fscore_support(labels, preds, average=None)\n",
        "    for i in range(len(fscore)):\n",
        "      print('Class : ', i, 'Fscore : ', fscore[i], ' Support: ', sprt[i])\n",
        "    "
      ],
      "execution_count": 0,
      "outputs": [
        {
          "output_type": "stream",
          "text": [
            "\n",
            "\n",
            "\n",
            "\n",
            "\n",
            "\n",
            "\n",
            "\n",
            "  0%|          | 0/14 [00:00<?, ?it/s]\u001b[A\u001b[A\u001b[A\u001b[A\u001b[A\u001b[A\u001b[A\u001b[A/usr/local/lib/python3.6/dist-packages/sklearn/metrics/_classification.py:1272: UndefinedMetricWarning: Recall and F-score are ill-defined and being set to 0.0 in labels with no true samples. Use `zero_division` parameter to control this behavior.\n",
            "  _warn_prf(average, modifier, msg_start, len(result))\n",
            "\n",
            "\n",
            "\n",
            "\n",
            "\n",
            "\n",
            "\n",
            "\n",
            "  7%|▋         | 1/14 [00:24<05:13, 24.12s/it]\u001b[A\u001b[A\u001b[A\u001b[A\u001b[A\u001b[A\u001b[A\u001b[A\n",
            "\n",
            "\n",
            "\n",
            "\n",
            "\n",
            "\n",
            "\n",
            " 14%|█▍        | 2/14 [00:24<03:24, 17.00s/it]\u001b[A\u001b[A\u001b[A\u001b[A\u001b[A\u001b[A\u001b[A\u001b[A/usr/local/lib/python3.6/dist-packages/sklearn/metrics/_classification.py:1272: UndefinedMetricWarning: Precision and F-score are ill-defined and being set to 0.0 in labels with no predicted samples. Use `zero_division` parameter to control this behavior.\n",
            "  _warn_prf(average, modifier, msg_start, len(result))\n",
            "\n",
            "\n",
            "\n",
            "\n",
            "\n",
            "\n",
            "\n",
            "\n",
            " 21%|██▏       | 3/14 [00:24<02:12, 12.02s/it]\u001b[A\u001b[A\u001b[A\u001b[A\u001b[A\u001b[A\u001b[A\u001b[A\n",
            "\n",
            "\n",
            "\n",
            "\n",
            "\n",
            "\n",
            "\n",
            " 29%|██▊       | 4/14 [00:25<01:25,  8.53s/it]\u001b[A\u001b[A\u001b[A\u001b[A\u001b[A\u001b[A\u001b[A\u001b[A\n",
            "\n",
            "\n",
            "\n",
            "\n",
            "\n",
            "\n",
            "\n",
            " 36%|███▌      | 5/14 [00:25<00:54,  6.10s/it]\u001b[A\u001b[A\u001b[A\u001b[A\u001b[A\u001b[A\u001b[A\u001b[A\n",
            "\n",
            "\n",
            "\n",
            "\n",
            "\n",
            "\n",
            "\n",
            " 43%|████▎     | 6/14 [00:26<00:35,  4.39s/it]\u001b[A\u001b[A\u001b[A\u001b[A\u001b[A\u001b[A\u001b[A\u001b[A\n",
            "\n",
            "\n",
            "\n",
            "\n",
            "\n",
            "\n",
            "\n",
            " 50%|█████     | 7/14 [00:26<00:22,  3.18s/it]\u001b[A\u001b[A\u001b[A\u001b[A\u001b[A\u001b[A\u001b[A\u001b[A\n",
            "\n",
            "\n",
            "\n",
            "\n",
            "\n",
            "\n",
            "\n",
            " 57%|█████▋    | 8/14 [00:26<00:14,  2.34s/it]\u001b[A\u001b[A\u001b[A\u001b[A\u001b[A\u001b[A\u001b[A\u001b[A\n",
            "\n",
            "\n",
            "\n",
            "\n",
            "\n",
            "\n",
            "\n",
            " 64%|██████▍   | 9/14 [00:40<00:29,  5.86s/it]\u001b[A\u001b[A\u001b[A\u001b[A\u001b[A\u001b[A\u001b[A\u001b[A\n",
            "\n",
            "\n",
            "\n",
            "\n",
            "\n",
            "\n",
            "\n",
            " 71%|███████▏  | 10/14 [00:42<00:18,  4.52s/it]\u001b[A\u001b[A\u001b[A\u001b[A\u001b[A\u001b[A\u001b[A\u001b[A\n",
            "\n",
            "\n",
            "\n",
            "\n",
            "\n",
            "\n",
            "\n",
            " 79%|███████▊  | 11/14 [00:42<00:09,  3.27s/it]\u001b[A\u001b[A\u001b[A\u001b[A\u001b[A\u001b[A\u001b[A\u001b[A\n",
            "\n",
            "\n",
            "\n",
            "\n",
            "\n",
            "\n",
            "\n",
            " 86%|████████▌ | 12/14 [00:43<00:04,  2.39s/it]\u001b[A\u001b[A\u001b[A\u001b[A\u001b[A\u001b[A\u001b[A\u001b[A\n",
            "\n",
            "\n",
            "\n",
            "\n",
            "\n",
            "\n",
            "\n",
            " 93%|█████████▎| 13/14 [00:43<00:01,  1.77s/it]\u001b[A\u001b[A\u001b[A\u001b[A\u001b[A\u001b[A\u001b[A\u001b[A\n",
            "\n",
            "\n",
            "\n",
            "\n",
            "\n",
            "\n",
            "\n",
            "100%|██████████| 14/14 [00:43<00:00,  3.14s/it]"
          ],
          "name": "stderr"
        },
        {
          "output_type": "stream",
          "text": [
            "Accuracy  0.930952380952381\n",
            " Metric macro: prec rec fscore\n",
            "0.7665816326530612 0.747077212527523 0.7532914045164876 \n",
            " Metric micro: prec rec fscore\n",
            "0.942857142857143 0.942857142857143 0.942857142857143 \n",
            " Metric weighted: prec rec fscore\n",
            "0.975297619047619 0.942857142857143 0.9555475338614873 \n",
            "Fscore per class \n",
            "Class :  0 Fscore :  0.8  Support:  3\n",
            "Class :  1 Fscore :  0.7499999999999999  Support:  3\n",
            "Class :  2 Fscore :  1.0  Support:  11\n",
            "Class :  3 Fscore :  0.6666666666666666  Support:  1\n",
            "Class :  4 Fscore :  1.0  Support:  18\n",
            "Class :  5 Fscore :  0.0  Support:  2\n",
            "Class :  6 Fscore :  0.923076923076923  Support:  14\n",
            "Class :  7 Fscore :  0.923076923076923  Support:  7\n",
            "Class :  8 Fscore :  0.9333333333333333  Support:  24\n",
            "Class :  9 Fscore :  0.0  Support:  1\n",
            "Class :  10 Fscore :  1.0  Support:  17\n",
            "Class :  11 Fscore :  1.0  Support:  2\n",
            "Class :  12 Fscore :  0.8333333333333333  Support:  7\n",
            "Class :  13 Fscore :  1.0  Support:  19\n",
            "Class :  14 Fscore :  1.0  Support:  6\n",
            "Class :  15 Fscore :  1.0  Support:  3\n",
            "Class :  16 Fscore :  0.0  Support:  1\n",
            "Class :  17 Fscore :  1.0  Support:  1\n",
            "Class :  18 Fscore :  0.0  Support:  1\n",
            "Class :  19 Fscore :  1.0  Support:  12\n",
            "Class :  20 Fscore :  1.0  Support:  1\n",
            "Class :  21 Fscore :  1.0  Support:  2\n",
            "Class :  22 Fscore :  0.0  Support:  1\n",
            "Class :  23 Fscore :  1.0  Support:  15\n",
            "Class :  24 Fscore :  1.0  Support:  6\n",
            "Class :  25 Fscore :  1.0  Support:  19\n",
            "Class :  26 Fscore :  1.0  Support:  2\n",
            "Class :  27 Fscore :  0.6666666666666666  Support:  1\n",
            "Class :  28 Fscore :  0.888888888888889  Support:  4\n",
            "Class :  29 Fscore :  1.0  Support:  8\n",
            "Class :  30 Fscore :  0.9642857142857143  Support:  27\n",
            "Class :  31 Fscore :  1.0  Support:  13\n",
            "Class :  32 Fscore :  0.8  Support:  4\n",
            "Class :  33 Fscore :  0.6666666666666666  Support:  2\n",
            "Class :  34 Fscore :  1.0  Support:  1\n",
            "Class :  35 Fscore :  1.0  Support:  1\n",
            "Class :  36 Fscore :  1.0  Support:  10\n",
            "Class :  37 Fscore :  1.0  Support:  4\n",
            "Class :  38 Fscore :  1.0  Support:  7\n",
            "Class :  39 Fscore :  1.0  Support:  6\n",
            "Class :  40 Fscore :  0.888888888888889  Support:  4\n",
            "Class :  41 Fscore :  1.0  Support:  2\n",
            "Class :  42 Fscore :  0.8333333333333333  Support:  7\n",
            "Class :  43 Fscore :  1.0  Support:  4\n",
            "Class :  44 Fscore :  1.0  Support:  19\n",
            "Class :  45 Fscore :  1.0  Support:  4\n",
            "Class :  46 Fscore :  1.0  Support:  1\n",
            "Class :  47 Fscore :  1.0  Support:  11\n",
            "Class :  48 Fscore :  1.0  Support:  6\n",
            "Class :  49 Fscore :  1.0  Support:  1\n",
            "Class :  50 Fscore :  0.4  Support:  1\n",
            "Class :  51 Fscore :  1.0  Support:  1\n",
            "Class :  52 Fscore :  0.9655172413793104  Support:  15\n",
            "Class :  53 Fscore :  0.6666666666666666  Support:  1\n",
            "Class :  54 Fscore :  1.0  Support:  1\n",
            "Class :  55 Fscore :  1.0  Support:  1\n",
            "Class :  56 Fscore :  1.0  Support:  4\n",
            "Class :  57 Fscore :  1.0  Support:  1\n",
            "Class :  58 Fscore :  0.6666666666666666  Support:  2\n",
            "Class :  59 Fscore :  0.9545454545454545  Support:  23\n",
            "Class :  60 Fscore :  1.0  Support:  12\n",
            "Class :  61 Fscore :  0.5454545454545454  Support:  3\n",
            "Class :  62 Fscore :  0.0  Support:  2\n",
            "Class :  63 Fscore :  1.0  Support:  1\n"
          ],
          "name": "stdout"
        },
        {
          "output_type": "stream",
          "text": [
            "\n"
          ],
          "name": "stderr"
        }
      ]
    },
    {
      "cell_type": "markdown",
      "metadata": {
        "id": "Af1zNcQB93Tq",
        "colab_type": "text"
      },
      "source": [
        "This is what he got\n",
        "\n",
        "```\n",
        "        precision    recall  f1-score   support\n",
        "        artichoke       0.80      1.00      0.89         8\n",
        "\n",
        "          avocado       0.97      0.97      0.97        35\n",
        "\n",
        "baby_head_lettuce       0.00      0.00      0.00         4\n",
        "\n",
        "           banana       0.96      1.00      0.98        68\n",
        "\n",
        "            beets       0.73      1.00      0.84         8\n",
        "\n",
        "     bitter_melon       0.96      1.00      0.98        52\n",
        "         bok_choy       1.00      0.70      0.82        23\n",
        "         broccoli       0.91      0.99      0.95        88\n",
        "        butternut       1.00      0.67      0.80         3\n",
        "          cabbage       1.00      1.00      1.00        60\n",
        "       cantaloupe       1.00      1.00      1.00         6\n",
        "           carrot       1.00      1.00      1.00        16\n",
        "      cauliflower       0.97      1.00      0.99        70\n",
        "           celery       0.92      0.67      0.77        18\n",
        "    cherry_tomato       1.00      0.88      0.93         8\n",
        "          collard       1.00      0.50      0.67         2\n",
        "             corn       0.94      0.96      0.95        47\n",
        "  curly_leaf_kale       0.00      0.00      0.00         2\n",
        "           daikon       1.00      1.00      1.00         7\n",
        " dandelion_greens       0.00      0.00      0.00         2\n",
        "     dragon_fruit       0.98      1.00      0.99        56\n",
        "           durian       0.95      1.00      0.98        20\n",
        "         eggplant       0.98      0.98      0.98        65\n",
        "     english_peas       0.80      1.00      0.89         4\n",
        "       fava_beans       0.00      0.00      0.00         3\n",
        "           ginger       1.00      0.92      0.96        12\n",
        "       green_bean       0.97      1.00      0.98        30\n",
        "      green_onion       0.89      0.97      0.93       108\n",
        "   kabocha_squash       0.94      1.00      0.97        50\n",
        "             kale       0.78      1.00      0.88        14\n",
        "    korean_radish       1.00      0.33      0.50         6\n",
        "    lacinato_kale       1.00      0.50      0.67         2\n",
        "            leeks       1.00      0.25      0.40         4\n",
        "            lemon       0.97      1.00      0.99        39\n",
        "       lemongrass       1.00      0.79      0.88        14\n",
        "             lime       0.93      0.96      0.95        28\n",
        "        long_bean       1.00      0.76      0.86        21\n",
        "         mandarin       1.00      0.85      0.92        13\n",
        "     napa_cabbage       1.00      0.50      0.67         4\n",
        "             okra       0.88      0.92      0.90        24\n",
        "            onion       1.00      1.00      1.00        12\n",
        "           papaya       0.91      0.96      0.93        72\n",
        "           peanut       0.93      1.00      0.96        13\n",
        "        pineapple       1.00      0.98      0.99        42\n",
        "      pomegranate       0.79      0.94      0.86        16\n",
        "           potato       1.00      1.00      1.00         4\n",
        "    rainbow_chard       1.00      1.00      1.00         1\n",
        "      red_chicory       1.00      0.50      0.67         2\n",
        "        red_onion       0.98      1.00      0.99        54\n",
        "     red_radishes       1.00      0.75      0.86         4\n",
        "      redbor_kale       0.00      0.00      0.00         2\n",
        "    savoy_cabbage       1.00      1.00      1.00         2\n",
        "       strawberry       1.00      0.92      0.96        12\n",
        "  sugar_snap_peas       0.00      0.00      0.00         2\n",
        "    summer_squash       0.62      0.83      0.71         6\n",
        "           tomato       0.99      0.97      0.98        92\n",
        "      water_melon       1.00      1.00      1.00        46\n",
        "  white_nectarine       0.75      0.90      0.82        10\n",
        "      white_peach       1.00      0.40      0.57         5\n",
        "     yellow_peach       0.60      1.00      0.75         3\n",
        "\n",
        "         accuracy                           0.95      1444\n",
        "        macro avg       0.85      0.79      0.80      1444\n",
        "     weighted avg       0.94      0.95      0.94      1444\n",
        "```"
      ]
    },
    {
      "cell_type": "code",
      "metadata": {
        "id": "4w5a5saiqQMQ",
        "colab_type": "code",
        "outputId": "0f0c704a-8ea8-4569-d8a8-877192ffd681",
        "colab": {
          "base_uri": "https://localhost:8080/",
          "height": 1000
        }
      },
      "source": [
        "!curl --header 'Host: doc-00-b8-docs.googleusercontent.com' --user-agent 'Mozilla/5.0 (X11; Ubuntu; Linux x86_64; rv:76.0) Gecko/20100101 Firefox/76.0' --header 'Accept: text/html,application/xhtml+xml,application/xml;q=0.9,image/webp,*/*;q=0.8' --header 'Accept-Language: en-CA,en-US;q=0.7,en;q=0.3' --referer 'https://drive.google.com/drive/u/0/recent' --cookie 'AUTH_ke38de5om415qdl9mh10ijp9ovprni2j=11397432307160908430|1590678675000|1ao7uvnvq5htv3cn4uh5h7t1c6h19t7n' --header 'Upgrade-Insecure-Requests: 1' 'https://doc-00-b8-docs.googleusercontent.com/docs/securesc/2n3g1c92fvum2ti2873eohe2s5i599l8/nv73h5juji466jedc5qgbe4fide32th7/1590678750000/11397432307160908430/11397432307160908430/1H66JjnNpiGX0q7s0HJ3xUNkFILPQEG1_?h=04295518330385903249&e=download&authuser=0' --output 'new_veggie_fruit_data.zip'\n",
        "!unzip new_veggie_fruit_data.zip"
      ],
      "execution_count": 0,
      "outputs": [
        {
          "output_type": "stream",
          "text": [
            "  % Total    % Received % Xferd  Average Speed   Time    Time     Time  Current\n",
            "                                 Dload  Upload   Total   Spent    Left  Speed\n",
            "100 2020M    0 2020M    0     0  74.3M      0 --:--:--  0:00:27 --:--:-- 71.6M\n",
            "Archive:  new_veggie_fruit_data.zip\n",
            "   creating: new_veggie_fruit_data/\n",
            "   creating: new_veggie_fruit_data/base/\n",
            "   creating: new_veggie_fruit_data/base/train/\n",
            "   creating: new_veggie_fruit_data/base/train/water_melon/\n",
            "  inflating: new_veggie_fruit_data/base/train/water_melon/IMG_1207.JPG  \n",
            "  inflating: new_veggie_fruit_data/base/train/water_melon/IMG_03343.jpg  \n",
            "  inflating: new_veggie_fruit_data/base/train/water_melon/IMG_03335.jpg  \n",
            "  inflating: new_veggie_fruit_data/base/train/water_melon/IMG_1186.JPG  \n",
            "  inflating: new_veggie_fruit_data/base/train/water_melon/IMG_1204.JPG  \n",
            "  inflating: new_veggie_fruit_data/base/train/water_melon/IMG_03340.jpg  \n",
            "  inflating: new_veggie_fruit_data/base/train/water_melon/IMG_03337.jpg  \n",
            "  inflating: new_veggie_fruit_data/base/train/water_melon/IMG_2665.JPG  \n",
            "  inflating: new_veggie_fruit_data/base/train/water_melon/IMG_03351.jpg  \n",
            "  inflating: new_veggie_fruit_data/base/train/water_melon/IMG_6665.JPG  \n",
            "  inflating: new_veggie_fruit_data/base/train/water_melon/IMG_0533.jpg  \n",
            "  inflating: new_veggie_fruit_data/base/train/water_melon/IMG_03366.jpg  \n",
            "  inflating: new_veggie_fruit_data/base/train/water_melon/IMG_1205.JPG  \n",
            "  inflating: new_veggie_fruit_data/base/train/water_melon/IMG_03341.jpg  \n",
            "  inflating: new_veggie_fruit_data/base/train/water_melon/IMG_03361.jpg  \n",
            "  inflating: new_veggie_fruit_data/base/train/water_melon/IMG_03333.jpg  \n",
            "  inflating: new_veggie_fruit_data/base/train/water_melon/IMG_4849.JPG  \n",
            "  inflating: new_veggie_fruit_data/base/train/water_melon/IMG_1206.JPG  \n",
            "  inflating: new_veggie_fruit_data/base/train/water_melon/IMG_03355.jpg  \n",
            "  inflating: new_veggie_fruit_data/base/train/water_melon/IMG_03363.jpg  \n",
            "  inflating: new_veggie_fruit_data/base/train/water_melon/IMG_03353.jpg  \n",
            "  inflating: new_veggie_fruit_data/base/train/water_melon/IMG_03359.jpg  \n",
            "  inflating: new_veggie_fruit_data/base/train/water_melon/IMG_03354.jpg  \n",
            "  inflating: new_veggie_fruit_data/base/train/water_melon/IMG_6667.JPG  \n",
            "  inflating: new_veggie_fruit_data/base/train/water_melon/IMG_03346.jpg  \n",
            "  inflating: new_veggie_fruit_data/base/train/water_melon/IMG_03336.jpg  \n",
            "  inflating: new_veggie_fruit_data/base/train/water_melon/IMG_0534.jpg  \n",
            "  inflating: new_veggie_fruit_data/base/train/water_melon/IMG_03348.jpg  \n",
            "  inflating: new_veggie_fruit_data/base/train/water_melon/IMG_03360.jpg  \n",
            "  inflating: new_veggie_fruit_data/base/train/water_melon/IMG_03332.jpg  \n",
            "  inflating: new_veggie_fruit_data/base/train/water_melon/IMG_0576.jpg  \n",
            "  inflating: new_veggie_fruit_data/base/train/water_melon/IMG_03357.jpg  \n",
            "  inflating: new_veggie_fruit_data/base/train/water_melon/IMG_1188.JPG  \n",
            "  inflating: new_veggie_fruit_data/base/train/water_melon/IMG_03349.jpg  \n",
            "  inflating: new_veggie_fruit_data/base/train/water_melon/IMG_0536.jpg  \n",
            "  inflating: new_veggie_fruit_data/base/train/water_melon/IMG_0577.jpg  \n",
            "  inflating: new_veggie_fruit_data/base/train/water_melon/IMG_03345.jpg  \n",
            "  inflating: new_veggie_fruit_data/base/train/water_melon/IMG_03362.jpg  \n",
            "  inflating: new_veggie_fruit_data/base/train/water_melon/IMG_03365.jpg  \n",
            "  inflating: new_veggie_fruit_data/base/train/water_melon/IMG_03352.jpg  \n",
            "  inflating: new_veggie_fruit_data/base/train/water_melon/IMG_03367.jpg  \n",
            "  inflating: new_veggie_fruit_data/base/train/water_melon/IMG_03331.jpg  \n",
            "  inflating: new_veggie_fruit_data/base/train/water_melon/IMG_1189.JPG  \n",
            "  inflating: new_veggie_fruit_data/base/train/water_melon/IMG_6666.JPG  \n",
            "  inflating: new_veggie_fruit_data/base/train/water_melon/IMG_03330.jpg  \n",
            "  inflating: new_veggie_fruit_data/base/train/water_melon/IMG_03338.jpg  \n",
            "  inflating: new_veggie_fruit_data/base/train/water_melon/IMG_03342.jpg  \n",
            "  inflating: new_veggie_fruit_data/base/train/water_melon/IMG_03334.jpg  \n",
            "   creating: new_veggie_fruit_data/base/train/tomato/\n",
            "  inflating: new_veggie_fruit_data/base/train/tomato/IMG_7102.JPG  \n",
            "  inflating: new_veggie_fruit_data/base/train/tomato/IMG_03411.jpg  \n",
            "  inflating: new_veggie_fruit_data/base/train/tomato/IMG_03418.jpg  \n",
            "  inflating: new_veggie_fruit_data/base/train/tomato/IMG_03427.jpg  \n",
            "  inflating: new_veggie_fruit_data/base/train/tomato/IMG_03343.jpg  \n",
            "  inflating: new_veggie_fruit_data/base/train/tomato/IMG_03335.jpg  \n",
            "  inflating: new_veggie_fruit_data/base/train/tomato/IMG_03423.jpg  \n",
            "  inflating: new_veggie_fruit_data/base/train/tomato/IMG_03374.jpg  \n",
            "  inflating: new_veggie_fruit_data/base/train/tomato/IMG_03429.jpg  \n",
            "  inflating: new_veggie_fruit_data/base/train/tomato/IMG_03414.jpg  \n",
            "  inflating: new_veggie_fruit_data/base/train/tomato/IMG_03406.jpg  \n",
            "  inflating: new_veggie_fruit_data/base/train/tomato/IMG_03431.jpg  \n",
            "  inflating: new_veggie_fruit_data/base/train/tomato/IMG_03340.jpg  \n",
            "  inflating: new_veggie_fruit_data/base/train/tomato/IMG_03415.jpg  \n",
            "  inflating: new_veggie_fruit_data/base/train/tomato/IMG_6616.JPG  \n",
            "  inflating: new_veggie_fruit_data/base/train/tomato/IMG_03428.jpg  \n",
            "  inflating: new_veggie_fruit_data/base/train/tomato/IMG_03434.jpg  \n",
            "  inflating: new_veggie_fruit_data/base/train/tomato/IMG_03397.jpg  \n",
            "  inflating: new_veggie_fruit_data/base/train/tomato/IMG_03394.jpg  \n",
            "  inflating: new_veggie_fruit_data/base/train/tomato/IMG_03337.jpg  \n",
            "  inflating: new_veggie_fruit_data/base/train/tomato/IMG_03416.jpg  \n",
            "  inflating: new_veggie_fruit_data/base/train/tomato/IMG_03402.jpg  \n",
            "  inflating: new_veggie_fruit_data/base/train/tomato/IMG_03339.jpg  \n",
            "  inflating: new_veggie_fruit_data/base/train/tomato/IMG_03378.jpg  \n",
            "  inflating: new_veggie_fruit_data/base/train/tomato/IMG_03421.jpg  \n",
            "  inflating: new_veggie_fruit_data/base/train/tomato/IMG_03404.jpg  \n",
            "  inflating: new_veggie_fruit_data/base/train/tomato/IMG_03347.jpg  \n",
            "  inflating: new_veggie_fruit_data/base/train/tomato/IMG_03351.jpg  \n",
            "  inflating: new_veggie_fruit_data/base/train/tomato/IMG_6618.JPG  \n",
            "  inflating: new_veggie_fruit_data/base/train/tomato/IMG_03380.jpg  \n",
            "  inflating: new_veggie_fruit_data/base/train/tomato/IMG_03371.jpg  \n",
            "  inflating: new_veggie_fruit_data/base/train/tomato/IMG_03425.jpg  \n",
            "  inflating: new_veggie_fruit_data/base/train/tomato/IMG_03383.jpg  \n",
            "  inflating: new_veggie_fruit_data/base/train/tomato/IMG_03341.jpg  \n",
            "  inflating: new_veggie_fruit_data/base/train/tomato/IMG_03344.jpg  \n",
            "  inflating: new_veggie_fruit_data/base/train/tomato/IMG_03372.jpg  \n",
            "  inflating: new_veggie_fruit_data/base/train/tomato/IMG_03398.jpg  \n",
            "  inflating: new_veggie_fruit_data/base/train/tomato/IMG_03384.jpg  \n",
            "  inflating: new_veggie_fruit_data/base/train/tomato/IMG_03333.jpg  \n",
            "  inflating: new_veggie_fruit_data/base/train/tomato/IMG_03369.jpg  \n",
            "  inflating: new_veggie_fruit_data/base/train/tomato/IMG_03390.jpg  \n",
            "  inflating: new_veggie_fruit_data/base/train/tomato/IMG_03363.jpg  \n",
            "  inflating: new_veggie_fruit_data/base/train/tomato/IMG_03359.jpg  \n",
            "  inflating: new_veggie_fruit_data/base/train/tomato/IMG_03350.jpg  \n",
            "  inflating: new_veggie_fruit_data/base/train/tomato/IMG_03387.jpg  \n",
            "  inflating: new_veggie_fruit_data/base/train/tomato/IMG_03354.jpg  \n",
            "  inflating: new_veggie_fruit_data/base/train/tomato/IMG_03399.jpg  \n",
            "  inflating: new_veggie_fruit_data/base/train/tomato/IMG_03376.jpg  \n",
            "  inflating: new_veggie_fruit_data/base/train/tomato/IMG_03346.jpg  \n",
            "  inflating: new_veggie_fruit_data/base/train/tomato/IMG_03389.jpg  \n",
            "  inflating: new_veggie_fruit_data/base/train/tomato/IMG_03370.jpg  \n",
            "  inflating: new_veggie_fruit_data/base/train/tomato/IMG_03430.jpg  \n",
            "  inflating: new_veggie_fruit_data/base/train/tomato/IMG_03373.jpg  \n",
            "  inflating: new_veggie_fruit_data/base/train/tomato/IMG_03336.jpg  \n",
            "  inflating: new_veggie_fruit_data/base/train/tomato/IMG_03348.jpg  \n",
            "  inflating: new_veggie_fruit_data/base/train/tomato/IMG_03360.jpg  \n",
            "  inflating: new_veggie_fruit_data/base/train/tomato/IMG_03332.jpg  \n",
            "  inflating: new_veggie_fruit_data/base/train/tomato/IMG_03403.jpg  \n",
            "  inflating: new_veggie_fruit_data/base/train/tomato/IMG_03391.jpg  \n",
            "  inflating: new_veggie_fruit_data/base/train/tomato/IMG_03435.jpg  \n",
            "  inflating: new_veggie_fruit_data/base/train/tomato/IMG_03396.jpg  \n",
            "  inflating: new_veggie_fruit_data/base/train/tomato/IMG_03357.jpg  \n",
            "  inflating: new_veggie_fruit_data/base/train/tomato/IMG_03349.jpg  \n",
            "  inflating: new_veggie_fruit_data/base/train/tomato/IMG_6612.JPG  \n",
            "  inflating: new_veggie_fruit_data/base/train/tomato/IMG_7104.JPG  \n",
            "  inflating: new_veggie_fruit_data/base/train/tomato/IMG_03345.jpg  \n",
            "  inflating: new_veggie_fruit_data/base/train/tomato/IMG_03432.jpg  \n",
            "  inflating: new_veggie_fruit_data/base/train/tomato/IMG_03375.jpg  \n",
            "  inflating: new_veggie_fruit_data/base/train/tomato/IMG_03362.jpg  \n",
            "  inflating: new_veggie_fruit_data/base/train/tomato/IMG_03424.jpg  \n",
            "  inflating: new_veggie_fruit_data/base/train/tomato/IMG_03408.jpg  \n",
            "  inflating: new_veggie_fruit_data/base/train/tomato/IMG_03368.jpg  \n",
            "  inflating: new_veggie_fruit_data/base/train/tomato/IMG_03392.jpg  \n",
            "  inflating: new_veggie_fruit_data/base/train/tomato/IMG_03365.jpg  \n",
            "  inflating: new_veggie_fruit_data/base/train/tomato/IMG_03352.jpg  \n",
            "  inflating: new_veggie_fruit_data/base/train/tomato/IMG_03426.jpg  \n",
            "  inflating: new_veggie_fruit_data/base/train/tomato/IMG_03400.jpg  \n",
            "  inflating: new_veggie_fruit_data/base/train/tomato/IMG_03364.jpg  \n",
            "  inflating: new_veggie_fruit_data/base/train/tomato/IMG_03409.jpg  \n",
            "  inflating: new_veggie_fruit_data/base/train/tomato/IMG_03367.jpg  \n",
            "  inflating: new_veggie_fruit_data/base/train/tomato/IMG_6611.JPG  \n",
            "  inflating: new_veggie_fruit_data/base/train/tomato/IMG_03417.jpg  \n",
            "  inflating: new_veggie_fruit_data/base/train/tomato/IMG_03395.jpg  \n",
            "  inflating: new_veggie_fruit_data/base/train/tomato/IMG_03356.jpg  \n",
            "  inflating: new_veggie_fruit_data/base/train/tomato/IMG_03401.jpg  \n",
            "  inflating: new_veggie_fruit_data/base/train/tomato/IMG_03330.jpg  \n",
            "  inflating: new_veggie_fruit_data/base/train/tomato/IMG_03405.jpg  \n",
            "  inflating: new_veggie_fruit_data/base/train/tomato/IMG_03342.jpg  \n",
            "  inflating: new_veggie_fruit_data/base/train/tomato/IMG_03382.jpg  \n",
            "  inflating: new_veggie_fruit_data/base/train/tomato/IMG_03419.jpg  \n",
            "  inflating: new_veggie_fruit_data/base/train/tomato/IMG_6617.JPG  \n",
            "  inflating: new_veggie_fruit_data/base/train/tomato/IMG_03334.jpg  \n",
            "   creating: new_veggie_fruit_data/base/train/celery/\n",
            "  inflating: new_veggie_fruit_data/base/train/celery/IMG_5395.JPG  \n",
            "  inflating: new_veggie_fruit_data/base/train/celery/IMG_9214.jpg  \n",
            "  inflating: new_veggie_fruit_data/base/train/celery/IMG_5394.JPG  \n",
            "  inflating: new_veggie_fruit_data/base/train/celery/IMG_9194.jpg  \n",
            "  inflating: new_veggie_fruit_data/base/train/celery/IMG_7146.JPG  \n",
            "  inflating: new_veggie_fruit_data/base/train/celery/IMG_6980.JPG  \n",
            "  inflating: new_veggie_fruit_data/base/train/celery/IMG_6929.JPG  \n",
            "  inflating: new_veggie_fruit_data/base/train/celery/IMG_6979.JPG  \n",
            "  inflating: new_veggie_fruit_data/base/train/celery/IMG_5397.JPG  \n",
            "  inflating: new_veggie_fruit_data/base/train/celery/IMG_6931.JPG  \n",
            "  inflating: new_veggie_fruit_data/base/train/celery/IMG_7148.JPG  \n",
            "  inflating: new_veggie_fruit_data/base/train/celery/IMG_7145.JPG  \n",
            "  inflating: new_veggie_fruit_data/base/train/celery/IMG_5398.JPG  \n",
            "  inflating: new_veggie_fruit_data/base/train/celery/IMG_7215.JPG  \n",
            "  inflating: new_veggie_fruit_data/base/train/celery/IMG_9216.jpg  \n",
            "  inflating: new_veggie_fruit_data/base/train/celery/IMG_9195.jpg  \n",
            "  inflating: new_veggie_fruit_data/base/train/celery/IMG_6942.JPG  \n",
            "  inflating: new_veggie_fruit_data/base/train/celery/IMG_7147.JPG  \n",
            "  inflating: new_veggie_fruit_data/base/train/celery/IMG_6928.JPG  \n",
            "  inflating: new_veggie_fruit_data/base/train/celery/IMG_6941.JPG  \n",
            "  inflating: new_veggie_fruit_data/base/train/celery/IMG_7214.JPG  \n",
            "  inflating: new_veggie_fruit_data/base/train/celery/IMG_6926.JPG  \n",
            "   creating: new_veggie_fruit_data/base/train/cabbage/\n",
            "  inflating: new_veggie_fruit_data/base/train/cabbage/IMG_9186.jpg  \n",
            "  inflating: new_veggie_fruit_data/base/train/cabbage/IMG_03381.jpg  \n",
            "  inflating: new_veggie_fruit_data/base/train/cabbage/IMG_03343.jpg  \n",
            "  inflating: new_veggie_fruit_data/base/train/cabbage/IMG_03335.jpg  \n",
            "  inflating: new_veggie_fruit_data/base/train/cabbage/IMG_03374.jpg  \n",
            "  inflating: new_veggie_fruit_data/base/train/cabbage/IMG_03340.jpg  \n",
            "  inflating: new_veggie_fruit_data/base/train/cabbage/IMG_9187.jpg  \n",
            "  inflating: new_veggie_fruit_data/base/train/cabbage/IMG_03397.jpg  \n",
            "  inflating: new_veggie_fruit_data/base/train/cabbage/IMG_03377.jpg  \n",
            "  inflating: new_veggie_fruit_data/base/train/cabbage/IMG_03394.jpg  \n",
            "  inflating: new_veggie_fruit_data/base/train/cabbage/IMG_03337.jpg  \n",
            "  inflating: new_veggie_fruit_data/base/train/cabbage/IMG_03402.jpg  \n",
            "  inflating: new_veggie_fruit_data/base/train/cabbage/IMG_9184.jpg  \n",
            "  inflating: new_veggie_fruit_data/base/train/cabbage/IMG_03339.jpg  \n",
            "  inflating: new_veggie_fruit_data/base/train/cabbage/IMG_03404.jpg  \n",
            "  inflating: new_veggie_fruit_data/base/train/cabbage/IMG_03351.jpg  \n",
            "  inflating: new_veggie_fruit_data/base/train/cabbage/IMG_03380.jpg  \n",
            "  inflating: new_veggie_fruit_data/base/train/cabbage/IMG_03341.jpg  \n",
            "  inflating: new_veggie_fruit_data/base/train/cabbage/IMG_03344.jpg  \n",
            "  inflating: new_veggie_fruit_data/base/train/cabbage/IMG_03372.jpg  \n",
            "  inflating: new_veggie_fruit_data/base/train/cabbage/IMG_03398.jpg  \n",
            "  inflating: new_veggie_fruit_data/base/train/cabbage/IMG_03384.jpg  \n",
            "  inflating: new_veggie_fruit_data/base/train/cabbage/IMG_03361.jpg  \n",
            "  inflating: new_veggie_fruit_data/base/train/cabbage/IMG_03333.jpg  \n",
            "  inflating: new_veggie_fruit_data/base/train/cabbage/IMG_03385.jpg  \n",
            "  inflating: new_veggie_fruit_data/base/train/cabbage/IMG_03369.jpg  \n",
            "  inflating: new_veggie_fruit_data/base/train/cabbage/IMG_03363.jpg  \n",
            "  inflating: new_veggie_fruit_data/base/train/cabbage/IMG_03353.jpg  \n",
            "  inflating: new_veggie_fruit_data/base/train/cabbage/IMG_03359.jpg  \n",
            "  inflating: new_veggie_fruit_data/base/train/cabbage/IMG_03350.jpg  \n",
            "  inflating: new_veggie_fruit_data/base/train/cabbage/IMG_03387.jpg  \n",
            "  inflating: new_veggie_fruit_data/base/train/cabbage/IMG_03354.jpg  \n",
            "  inflating: new_veggie_fruit_data/base/train/cabbage/IMG_03399.jpg  \n",
            "  inflating: new_veggie_fruit_data/base/train/cabbage/IMG_03376.jpg  \n",
            "  inflating: new_veggie_fruit_data/base/train/cabbage/IMG_03346.jpg  \n",
            "  inflating: new_veggie_fruit_data/base/train/cabbage/IMG_03389.jpg  \n",
            "  inflating: new_veggie_fruit_data/base/train/cabbage/IMG_03370.jpg  \n",
            "  inflating: new_veggie_fruit_data/base/train/cabbage/IMG_03373.jpg  \n",
            "  inflating: new_veggie_fruit_data/base/train/cabbage/IMG_03336.jpg  \n",
            "  inflating: new_veggie_fruit_data/base/train/cabbage/IMG_03360.jpg  \n",
            "  inflating: new_veggie_fruit_data/base/train/cabbage/IMG_03332.jpg  \n",
            "  inflating: new_veggie_fruit_data/base/train/cabbage/IMG_03403.jpg  \n",
            "  inflating: new_veggie_fruit_data/base/train/cabbage/IMG_03396.jpg  \n",
            "  inflating: new_veggie_fruit_data/base/train/cabbage/IMG_03357.jpg  \n",
            "  inflating: new_veggie_fruit_data/base/train/cabbage/IMG_03349.jpg  \n",
            "  inflating: new_veggie_fruit_data/base/train/cabbage/IMG_03386.jpg  \n",
            "  inflating: new_veggie_fruit_data/base/train/cabbage/IMG_03375.jpg  \n",
            "  inflating: new_veggie_fruit_data/base/train/cabbage/IMG_03362.jpg  \n",
            "  inflating: new_veggie_fruit_data/base/train/cabbage/IMG_9188.jpg  \n",
            "  inflating: new_veggie_fruit_data/base/train/cabbage/IMG_03368.jpg  \n",
            "  inflating: new_veggie_fruit_data/base/train/cabbage/IMG_9183.jpg  \n",
            "  inflating: new_veggie_fruit_data/base/train/cabbage/IMG_03392.jpg  \n",
            "  inflating: new_veggie_fruit_data/base/train/cabbage/IMG_03365.jpg  \n",
            "  inflating: new_veggie_fruit_data/base/train/cabbage/IMG_03352.jpg  \n",
            "  inflating: new_veggie_fruit_data/base/train/cabbage/IMG_03400.jpg  \n",
            "  inflating: new_veggie_fruit_data/base/train/cabbage/IMG_9263.jpg  \n",
            "  inflating: new_veggie_fruit_data/base/train/cabbage/IMG_03367.jpg  \n",
            "  inflating: new_veggie_fruit_data/base/train/cabbage/IMG_03331.jpg  \n",
            "  inflating: new_veggie_fruit_data/base/train/cabbage/IMG_03395.jpg  \n",
            "  inflating: new_veggie_fruit_data/base/train/cabbage/IMG_9185.jpg  \n",
            "  inflating: new_veggie_fruit_data/base/train/cabbage/IMG_03356.jpg  \n",
            "  inflating: new_veggie_fruit_data/base/train/cabbage/IMG_03379.jpg  \n",
            "  inflating: new_veggie_fruit_data/base/train/cabbage/IMG_03401.jpg  \n",
            "  inflating: new_veggie_fruit_data/base/train/cabbage/IMG_03330.jpg  \n",
            "  inflating: new_veggie_fruit_data/base/train/cabbage/IMG_03338.jpg  \n",
            "  inflating: new_veggie_fruit_data/base/train/cabbage/IMG_03342.jpg  \n",
            "  inflating: new_veggie_fruit_data/base/train/cabbage/IMG_03382.jpg  \n",
            "  inflating: new_veggie_fruit_data/base/train/cabbage/IMG_03334.jpg  \n",
            "   creating: new_veggie_fruit_data/base/train/durian/\n",
            "  inflating: new_veggie_fruit_data/base/train/durian/IMG_9091.JPG  \n",
            "  inflating: new_veggie_fruit_data/base/train/durian/IMG_9126.JPG  \n",
            "  inflating: new_veggie_fruit_data/base/train/durian/IMG_9115.JPG  \n",
            "  inflating: new_veggie_fruit_data/base/train/durian/IMG_1176.JPG  \n",
            "  inflating: new_veggie_fruit_data/base/train/durian/IMG_9114.JPG  \n",
            "  inflating: new_veggie_fruit_data/base/train/durian/IMG_9108.JPG  \n",
            "  inflating: new_veggie_fruit_data/base/train/durian/IMG_9096.JPG  \n",
            "  inflating: new_veggie_fruit_data/base/train/durian/IMG_9117.JPG  \n",
            "  inflating: new_veggie_fruit_data/base/train/durian/IMG_1175.JPG  \n",
            "  inflating: new_veggie_fruit_data/base/train/durian/IMG_9110.JPG  \n",
            "  inflating: new_veggie_fruit_data/base/train/durian/IMG_9093.JPG  \n",
            "  inflating: new_veggie_fruit_data/base/train/durian/IMG_9107.JPG  \n",
            "  inflating: new_veggie_fruit_data/base/train/durian/IMG_9089.JPG  \n",
            "  inflating: new_veggie_fruit_data/base/train/durian/IMG_9086.JPG  \n",
            "  inflating: new_veggie_fruit_data/base/train/durian/IMG_9092.JPG  \n",
            "  inflating: new_veggie_fruit_data/base/train/durian/IMG_1177.JPG  \n",
            "  inflating: new_veggie_fruit_data/base/train/durian/IMG_9095.JPG  \n",
            "  inflating: new_veggie_fruit_data/base/train/durian/IMG_9088.JPG  \n",
            "  inflating: new_veggie_fruit_data/base/train/durian/IMG_9124.JPG  \n",
            "  inflating: new_veggie_fruit_data/base/train/durian/IMG_9085.JPG  \n",
            "   creating: new_veggie_fruit_data/base/train/eggplant/\n",
            "  inflating: new_veggie_fruit_data/base/train/eggplant/IMG_03381.jpg  \n",
            "  inflating: new_veggie_fruit_data/base/train/eggplant/IMG_0396.jpg  \n",
            "  inflating: new_veggie_fruit_data/base/train/eggplant/IMG_7834.jpg  \n",
            "  inflating: new_veggie_fruit_data/base/train/eggplant/IMG_1905.JPG  \n",
            "  inflating: new_veggie_fruit_data/base/train/eggplant/IMG_03374.jpg  \n",
            "  inflating: new_veggie_fruit_data/base/train/eggplant/IMG_8879.jpg  \n",
            "  inflating: new_veggie_fruit_data/base/train/eggplant/IMG_1908.JPG  \n",
            "  inflating: new_veggie_fruit_data/base/train/eggplant/IMG_0397.jpg  \n",
            "  inflating: new_veggie_fruit_data/base/train/eggplant/D6F71FEA-B6A5-4E3F-AE21-1410E6302816.jpg  \n",
            "  inflating: new_veggie_fruit_data/base/train/eggplant/IMG_0379.jpg  \n",
            "  inflating: new_veggie_fruit_data/base/train/eggplant/IMG_1912.JPG  \n",
            "  inflating: new_veggie_fruit_data/base/train/eggplant/IMG_03397.jpg  \n",
            "  inflating: new_veggie_fruit_data/base/train/eggplant/IMG_03394.jpg  \n",
            "  inflating: new_veggie_fruit_data/base/train/eggplant/IMG_0315.jpg  \n",
            "  inflating: new_veggie_fruit_data/base/train/eggplant/IMG_03378.jpg  \n",
            "  inflating: new_veggie_fruit_data/base/train/eggplant/IMG_3424.jpg  \n",
            "  inflating: new_veggie_fruit_data/base/train/eggplant/IMG_03380.jpg  \n",
            "  inflating: new_veggie_fruit_data/base/train/eggplant/IMG_03371.jpg  \n",
            "  inflating: new_veggie_fruit_data/base/train/eggplant/IMG_03366.jpg  \n",
            "  inflating: new_veggie_fruit_data/base/train/eggplant/IMG_3425.jpg  \n",
            "  inflating: new_veggie_fruit_data/base/train/eggplant/IMG_3669.jpg  \n",
            "  inflating: new_veggie_fruit_data/base/train/eggplant/IMG_03383.jpg  \n",
            "  inflating: new_veggie_fruit_data/base/train/eggplant/IMG_3423.jpg  \n",
            "  inflating: new_veggie_fruit_data/base/train/eggplant/IMG_7814.jpg  \n",
            "  inflating: new_veggie_fruit_data/base/train/eggplant/IMG_03398.jpg  \n",
            "  inflating: new_veggie_fruit_data/base/train/eggplant/IMG_1910.JPG  \n",
            "  inflating: new_veggie_fruit_data/base/train/eggplant/IMG_03384.jpg  \n",
            "  inflating: new_veggie_fruit_data/base/train/eggplant/IMG_03385.jpg  \n",
            "  inflating: new_veggie_fruit_data/base/train/eggplant/IMG_03390.jpg  \n",
            "  inflating: new_veggie_fruit_data/base/train/eggplant/IMG_03350.jpg  \n",
            "  inflating: new_veggie_fruit_data/base/train/eggplant/IMG_03387.jpg  \n",
            "  inflating: new_veggie_fruit_data/base/train/eggplant/IMG_03354.jpg  \n",
            "  inflating: new_veggie_fruit_data/base/train/eggplant/IMG_03399.jpg  \n",
            "  inflating: new_veggie_fruit_data/base/train/eggplant/IMG_8883.jpg  \n",
            "  inflating: new_veggie_fruit_data/base/train/eggplant/IMG_03376.jpg  \n",
            "  inflating: new_veggie_fruit_data/base/train/eggplant/IMG_7156.JPG  \n",
            "  inflating: new_veggie_fruit_data/base/train/eggplant/IMG_0381.jpg  \n",
            "  inflating: new_veggie_fruit_data/base/train/eggplant/IMG_3665.jpg  \n",
            "  inflating: new_veggie_fruit_data/base/train/eggplant/IMG_03389.jpg  \n",
            "  inflating: new_veggie_fruit_data/base/train/eggplant/IMG_03370.jpg  \n",
            "  inflating: new_veggie_fruit_data/base/train/eggplant/IMG_8881.jpg  \n",
            "  inflating: new_veggie_fruit_data/base/train/eggplant/IMG_03373.jpg  \n",
            "  inflating: new_veggie_fruit_data/base/train/eggplant/IMG_0380.jpg  \n",
            "  inflating: new_veggie_fruit_data/base/train/eggplant/IMG_3427.jpg  \n",
            "  inflating: new_veggie_fruit_data/base/train/eggplant/IMG_03391.jpg  \n",
            "  inflating: new_veggie_fruit_data/base/train/eggplant/IMG_03396.jpg  \n",
            "  inflating: new_veggie_fruit_data/base/train/eggplant/IMG_7157.JPG  \n",
            "  inflating: new_veggie_fruit_data/base/train/eggplant/IMG_0314.jpg  \n",
            "  inflating: new_veggie_fruit_data/base/train/eggplant/IMG_03386.jpg  \n",
            "  inflating: new_veggie_fruit_data/base/train/eggplant/IMG_1913.JPG  \n",
            "  inflating: new_veggie_fruit_data/base/train/eggplant/IMG_03375.jpg  \n",
            "  inflating: new_veggie_fruit_data/base/train/eggplant/IMG_03362.jpg  \n",
            "  inflating: new_veggie_fruit_data/base/train/eggplant/IMG_03368.jpg  \n",
            "  inflating: new_veggie_fruit_data/base/train/eggplant/IMG_03392.jpg  \n",
            "  inflating: new_veggie_fruit_data/base/train/eggplant/IMG_8880.jpg  \n",
            "  inflating: new_veggie_fruit_data/base/train/eggplant/IMG_2737.JPG  \n",
            "  inflating: new_veggie_fruit_data/base/train/eggplant/IMG_03365.jpg  \n",
            "  inflating: new_veggie_fruit_data/base/train/eggplant/IMG_03352.jpg  \n",
            "  inflating: new_veggie_fruit_data/base/train/eggplant/IMG_1914.JPG  \n",
            "  inflating: new_veggie_fruit_data/base/train/eggplant/IMG_03400.jpg  \n",
            "  inflating: new_veggie_fruit_data/base/train/eggplant/IMG_03364.jpg  \n",
            "  inflating: new_veggie_fruit_data/base/train/eggplant/IMG_3421.jpg  \n",
            "  inflating: new_veggie_fruit_data/base/train/eggplant/IMG_3422.jpg  \n",
            "  inflating: new_veggie_fruit_data/base/train/eggplant/IMG_03367.jpg  \n",
            "  inflating: new_veggie_fruit_data/base/train/eggplant/IMG_0317.jpg  \n",
            "  inflating: new_veggie_fruit_data/base/train/eggplant/IMG_1915.JPG  \n",
            "  inflating: new_veggie_fruit_data/base/train/eggplant/IMG_03395.jpg  \n",
            "  inflating: new_veggie_fruit_data/base/train/eggplant/IMG_0383.jpg  \n",
            "  inflating: new_veggie_fruit_data/base/train/eggplant/IMG_03356.jpg  \n",
            "  inflating: new_veggie_fruit_data/base/train/eggplant/IMG_1906.JPG  \n",
            "  inflating: new_veggie_fruit_data/base/train/eggplant/IMG_8882.jpg  \n",
            "  inflating: new_veggie_fruit_data/base/train/eggplant/IMG_03382.jpg  \n",
            "  inflating: new_veggie_fruit_data/base/train/eggplant/IMG_3426.jpg  \n",
            "   creating: new_veggie_fruit_data/base/train/lemon/\n",
            "  inflating: new_veggie_fruit_data/base/train/lemon/IMG_03343.jpg  \n",
            "  inflating: new_veggie_fruit_data/base/train/lemon/IMG_03335.jpg  \n",
            "  inflating: new_veggie_fruit_data/base/train/lemon/IMG_03337.jpg  \n",
            "  inflating: new_veggie_fruit_data/base/train/lemon/IMG_03339.jpg  \n",
            "  inflating: new_veggie_fruit_data/base/train/lemon/IMG_03347.jpg  \n",
            "  inflating: new_veggie_fruit_data/base/train/lemon/IMG_4873.JPG  \n",
            "  inflating: new_veggie_fruit_data/base/train/lemon/IMG_03371.jpg  \n",
            "  inflating: new_veggie_fruit_data/base/train/lemon/IMG_03366.jpg  \n",
            "  inflating: new_veggie_fruit_data/base/train/lemon/IMG_03341.jpg  \n",
            "  inflating: new_veggie_fruit_data/base/train/lemon/IMG_03344.jpg  \n",
            "  inflating: new_veggie_fruit_data/base/train/lemon/IMG_03372.jpg  \n",
            "  inflating: new_veggie_fruit_data/base/train/lemon/IMG_03361.jpg  \n",
            "  inflating: new_veggie_fruit_data/base/train/lemon/IMG_03333.jpg  \n",
            "  inflating: new_veggie_fruit_data/base/train/lemon/IMG_03369.jpg  \n",
            "  inflating: new_veggie_fruit_data/base/train/lemon/IMG_03355.jpg  \n",
            "  inflating: new_veggie_fruit_data/base/train/lemon/IMG_03363.jpg  \n",
            "  inflating: new_veggie_fruit_data/base/train/lemon/IMG_03353.jpg  \n",
            "  inflating: new_veggie_fruit_data/base/train/lemon/IMG_03359.jpg  \n",
            "  inflating: new_veggie_fruit_data/base/train/lemon/IMG_4869.JPG  \n",
            "  inflating: new_veggie_fruit_data/base/train/lemon/IMG_03336.jpg  \n",
            "  inflating: new_veggie_fruit_data/base/train/lemon/IMG_03348.jpg  \n",
            "  inflating: new_veggie_fruit_data/base/train/lemon/IMG_03360.jpg  \n",
            "  inflating: new_veggie_fruit_data/base/train/lemon/IMG_03332.jpg  \n",
            "  inflating: new_veggie_fruit_data/base/train/lemon/IMG_4871.JPG  \n",
            "  inflating: new_veggie_fruit_data/base/train/lemon/IMG_03349.jpg  \n",
            "  inflating: new_veggie_fruit_data/base/train/lemon/IMG_03345.jpg  \n",
            "  inflating: new_veggie_fruit_data/base/train/lemon/IMG_03368.jpg  \n",
            "  inflating: new_veggie_fruit_data/base/train/lemon/IMG_03365.jpg  \n",
            "  inflating: new_veggie_fruit_data/base/train/lemon/IMG_03352.jpg  \n",
            "  inflating: new_veggie_fruit_data/base/train/lemon/IMG_03364.jpg  \n",
            "  inflating: new_veggie_fruit_data/base/train/lemon/IMG_03358.jpg  \n",
            "  inflating: new_veggie_fruit_data/base/train/lemon/IMG_03367.jpg  \n",
            "  inflating: new_veggie_fruit_data/base/train/lemon/IMG_03331.jpg  \n",
            "  inflating: new_veggie_fruit_data/base/train/lemon/IMG_03356.jpg  \n",
            "  inflating: new_veggie_fruit_data/base/train/lemon/IMG_03330.jpg  \n",
            "  inflating: new_veggie_fruit_data/base/train/lemon/IMG_03338.jpg  \n",
            "  inflating: new_veggie_fruit_data/base/train/lemon/IMG_03342.jpg  \n",
            "  inflating: new_veggie_fruit_data/base/train/lemon/IMG_4874.JPG  \n",
            "  inflating: new_veggie_fruit_data/base/train/lemon/IMG_03334.jpg  \n",
            "   creating: new_veggie_fruit_data/base/train/dragon_fruit/\n",
            "  inflating: new_veggie_fruit_data/base/train/dragon_fruit/IMG_03381.jpg  \n",
            "  inflating: new_veggie_fruit_data/base/train/dragon_fruit/IMG_03343.jpg  \n",
            "  inflating: new_veggie_fruit_data/base/train/dragon_fruit/IMG_4886.JPG  \n",
            "  inflating: new_veggie_fruit_data/base/train/dragon_fruit/IMG_03335.jpg  \n",
            "  inflating: new_veggie_fruit_data/base/train/dragon_fruit/IMG_03340.jpg  \n",
            "  inflating: new_veggie_fruit_data/base/train/dragon_fruit/IMG_4882.JPG  \n",
            "  inflating: new_veggie_fruit_data/base/train/dragon_fruit/IMG_03377.jpg  \n",
            "  inflating: new_veggie_fruit_data/base/train/dragon_fruit/IMG_03394.jpg  \n",
            "  inflating: new_veggie_fruit_data/base/train/dragon_fruit/IMG_03337.jpg  \n",
            "  inflating: new_veggie_fruit_data/base/train/dragon_fruit/IMG_03339.jpg  \n",
            "  inflating: new_veggie_fruit_data/base/train/dragon_fruit/IMG_03378.jpg  \n",
            "  inflating: new_veggie_fruit_data/base/train/dragon_fruit/IMG_03347.jpg  \n",
            "  inflating: new_veggie_fruit_data/base/train/dragon_fruit/IMG_03351.jpg  \n",
            "  inflating: new_veggie_fruit_data/base/train/dragon_fruit/IMG_03380.jpg  \n",
            "  inflating: new_veggie_fruit_data/base/train/dragon_fruit/IMG_03371.jpg  \n",
            "  inflating: new_veggie_fruit_data/base/train/dragon_fruit/IMG_03366.jpg  \n",
            "  inflating: new_veggie_fruit_data/base/train/dragon_fruit/IMG_03383.jpg  \n",
            "  inflating: new_veggie_fruit_data/base/train/dragon_fruit/IMG_4881.JPG  \n",
            "  inflating: new_veggie_fruit_data/base/train/dragon_fruit/IMG_03341.jpg  \n",
            "  inflating: new_veggie_fruit_data/base/train/dragon_fruit/IMG_03344.jpg  \n",
            "  inflating: new_veggie_fruit_data/base/train/dragon_fruit/IMG_03384.jpg  \n",
            "  inflating: new_veggie_fruit_data/base/train/dragon_fruit/IMG_03361.jpg  \n",
            "  inflating: new_veggie_fruit_data/base/train/dragon_fruit/IMG_03333.jpg  \n",
            "  inflating: new_veggie_fruit_data/base/train/dragon_fruit/IMG_03369.jpg  \n",
            "  inflating: new_veggie_fruit_data/base/train/dragon_fruit/IMG_03355.jpg  \n",
            "  inflating: new_veggie_fruit_data/base/train/dragon_fruit/IMG_03363.jpg  \n",
            "  inflating: new_veggie_fruit_data/base/train/dragon_fruit/IMG_4884.JPG  \n",
            "  inflating: new_veggie_fruit_data/base/train/dragon_fruit/IMG_03353.jpg  \n",
            "  inflating: new_veggie_fruit_data/base/train/dragon_fruit/IMG_03359.jpg  \n",
            "  inflating: new_veggie_fruit_data/base/train/dragon_fruit/IMG_03350.jpg  \n",
            "  inflating: new_veggie_fruit_data/base/train/dragon_fruit/IMG_03376.jpg  \n",
            "  inflating: new_veggie_fruit_data/base/train/dragon_fruit/IMG_03346.jpg  \n",
            "  inflating: new_veggie_fruit_data/base/train/dragon_fruit/IMG_03389.jpg  \n",
            "  inflating: new_veggie_fruit_data/base/train/dragon_fruit/IMG_03370.jpg  \n",
            "  inflating: new_veggie_fruit_data/base/train/dragon_fruit/IMG_03373.jpg  \n",
            "  inflating: new_veggie_fruit_data/base/train/dragon_fruit/IMG_03336.jpg  \n",
            "  inflating: new_veggie_fruit_data/base/train/dragon_fruit/IMG_03348.jpg  \n",
            "  inflating: new_veggie_fruit_data/base/train/dragon_fruit/IMG_4885.JPG  \n",
            "  inflating: new_veggie_fruit_data/base/train/dragon_fruit/IMG_03360.jpg  \n",
            "  inflating: new_veggie_fruit_data/base/train/dragon_fruit/IMG_03332.jpg  \n",
            "  inflating: new_veggie_fruit_data/base/train/dragon_fruit/IMG_03391.jpg  \n",
            "  inflating: new_veggie_fruit_data/base/train/dragon_fruit/IMG_03349.jpg  \n",
            "  inflating: new_veggie_fruit_data/base/train/dragon_fruit/IMG_03386.jpg  \n",
            "  inflating: new_veggie_fruit_data/base/train/dragon_fruit/IMG_03375.jpg  \n",
            "  inflating: new_veggie_fruit_data/base/train/dragon_fruit/IMG_03368.jpg  \n",
            "  inflating: new_veggie_fruit_data/base/train/dragon_fruit/IMG_03392.jpg  \n",
            "  inflating: new_veggie_fruit_data/base/train/dragon_fruit/IMG_03365.jpg  \n",
            "  inflating: new_veggie_fruit_data/base/train/dragon_fruit/IMG_03352.jpg  \n",
            "  inflating: new_veggie_fruit_data/base/train/dragon_fruit/IMG_03364.jpg  \n",
            "  inflating: new_veggie_fruit_data/base/train/dragon_fruit/IMG_03358.jpg  \n",
            "  inflating: new_veggie_fruit_data/base/train/dragon_fruit/IMG_03331.jpg  \n",
            "  inflating: new_veggie_fruit_data/base/train/dragon_fruit/IMG_03338.jpg  \n",
            "  inflating: new_veggie_fruit_data/base/train/dragon_fruit/IMG_03342.jpg  \n",
            "  inflating: new_veggie_fruit_data/base/train/dragon_fruit/IMG_03382.jpg  \n",
            "  inflating: new_veggie_fruit_data/base/train/dragon_fruit/IMG_03334.jpg  \n",
            "  inflating: new_veggie_fruit_data/base/train/dragon_fruit/IMG_4883.JPG  \n",
            "   creating: new_veggie_fruit_data/base/train/banana/\n",
            "  inflating: new_veggie_fruit_data/base/train/banana/IMG_03381.jpg  \n",
            "  inflating: new_veggie_fruit_data/base/train/banana/IMG_03343.jpg  \n",
            "  inflating: new_veggie_fruit_data/base/train/banana/IMG_1194.JPG  \n",
            "  inflating: new_veggie_fruit_data/base/train/banana/IMG_03374.jpg  \n",
            "  inflating: new_veggie_fruit_data/base/train/banana/IMG_03340.jpg  \n",
            "  inflating: new_veggie_fruit_data/base/train/banana/IMG_1195.JPG  \n",
            "  inflating: new_veggie_fruit_data/base/train/banana/IMG_03397.jpg  \n",
            "  inflating: new_veggie_fruit_data/base/train/banana/IMG_03377.jpg  \n",
            "  inflating: new_veggie_fruit_data/base/train/banana/IMG_03394.jpg  \n",
            "  inflating: new_veggie_fruit_data/base/train/banana/IMG_03402.jpg  \n",
            "  inflating: new_veggie_fruit_data/base/train/banana/IMG_03378.jpg  \n",
            "  inflating: new_veggie_fruit_data/base/train/banana/IMG_03407.jpg  \n",
            "  inflating: new_veggie_fruit_data/base/train/banana/IMG_03404.jpg  \n",
            "  inflating: new_veggie_fruit_data/base/train/banana/IMG_1192.JPG  \n",
            "  inflating: new_veggie_fruit_data/base/train/banana/IMG_03351.jpg  \n",
            "  inflating: new_veggie_fruit_data/base/train/banana/IMG_1196.JPG  \n",
            "  inflating: new_veggie_fruit_data/base/train/banana/IMG_03380.jpg  \n",
            "  inflating: new_veggie_fruit_data/base/train/banana/IMG_03371.jpg  \n",
            "  inflating: new_veggie_fruit_data/base/train/banana/IMG_03366.jpg  \n",
            "  inflating: new_veggie_fruit_data/base/train/banana/IMG_03383.jpg  \n",
            "  inflating: new_veggie_fruit_data/base/train/banana/IMG_03341.jpg  \n",
            "  inflating: new_veggie_fruit_data/base/train/banana/IMG_03344.jpg  \n",
            "  inflating: new_veggie_fruit_data/base/train/banana/IMG_03372.jpg  \n",
            "  inflating: new_veggie_fruit_data/base/train/banana/IMG_03398.jpg  \n",
            "  inflating: new_veggie_fruit_data/base/train/banana/IMG_03384.jpg  \n",
            "  inflating: new_veggie_fruit_data/base/train/banana/IMG_03333.jpg  \n",
            "  inflating: new_veggie_fruit_data/base/train/banana/IMG_03385.jpg  \n",
            "  inflating: new_veggie_fruit_data/base/train/banana/IMG_03369.jpg  \n",
            "  inflating: new_veggie_fruit_data/base/train/banana/IMG_03390.jpg  \n",
            "  inflating: new_veggie_fruit_data/base/train/banana/IMG_03355.jpg  \n",
            "  inflating: new_veggie_fruit_data/base/train/banana/IMG_03363.jpg  \n",
            "  inflating: new_veggie_fruit_data/base/train/banana/IMG_03353.jpg  \n",
            "  inflating: new_veggie_fruit_data/base/train/banana/IMG_03359.jpg  \n",
            "  inflating: new_veggie_fruit_data/base/train/banana/IMG_03350.jpg  \n",
            "  inflating: new_veggie_fruit_data/base/train/banana/IMG_03387.jpg  \n",
            "  inflating: new_veggie_fruit_data/base/train/banana/IMG_03354.jpg  \n",
            "  inflating: new_veggie_fruit_data/base/train/banana/IMG_03376.jpg  \n",
            "  inflating: new_veggie_fruit_data/base/train/banana/IMG_03346.jpg  \n",
            "  inflating: new_veggie_fruit_data/base/train/banana/IMG_03389.jpg  \n",
            "  inflating: new_veggie_fruit_data/base/train/banana/IMG_03370.jpg  \n",
            "  inflating: new_veggie_fruit_data/base/train/banana/IMG_03373.jpg  \n",
            "  inflating: new_veggie_fruit_data/base/train/banana/IMG_03336.jpg  \n",
            "  inflating: new_veggie_fruit_data/base/train/banana/IMG_1197.JPG  \n",
            "  inflating: new_veggie_fruit_data/base/train/banana/IMG_03348.jpg  \n",
            "  inflating: new_veggie_fruit_data/base/train/banana/IMG_03360.jpg  \n",
            "  inflating: new_veggie_fruit_data/base/train/banana/IMG_1191.JPG  \n",
            "  inflating: new_veggie_fruit_data/base/train/banana/IMG_03332.jpg  \n",
            "  inflating: new_veggie_fruit_data/base/train/banana/IMG_03403.jpg  \n",
            "  inflating: new_veggie_fruit_data/base/train/banana/IMG_03349.jpg  \n",
            "  inflating: new_veggie_fruit_data/base/train/banana/IMG_03345.jpg  \n",
            "  inflating: new_veggie_fruit_data/base/train/banana/IMG_03386.jpg  \n",
            "  inflating: new_veggie_fruit_data/base/train/banana/IMG_03375.jpg  \n",
            "  inflating: new_veggie_fruit_data/base/train/banana/IMG_03408.jpg  \n",
            "  inflating: new_veggie_fruit_data/base/train/banana/IMG_03368.jpg  \n",
            "  inflating: new_veggie_fruit_data/base/train/banana/IMG_03392.jpg  \n",
            "  inflating: new_veggie_fruit_data/base/train/banana/IMG_03365.jpg  \n",
            "  inflating: new_veggie_fruit_data/base/train/banana/IMG_03352.jpg  \n",
            "  inflating: new_veggie_fruit_data/base/train/banana/IMG_03400.jpg  \n",
            "  inflating: new_veggie_fruit_data/base/train/banana/IMG_03364.jpg  \n",
            "  inflating: new_veggie_fruit_data/base/train/banana/IMG_03367.jpg  \n",
            "  inflating: new_veggie_fruit_data/base/train/banana/IMG_03331.jpg  \n",
            "  inflating: new_veggie_fruit_data/base/train/banana/IMG_03395.jpg  \n",
            "  inflating: new_veggie_fruit_data/base/train/banana/IMG_03401.jpg  \n",
            "  inflating: new_veggie_fruit_data/base/train/banana/IMG_03330.jpg  \n",
            "  inflating: new_veggie_fruit_data/base/train/banana/IMG_03338.jpg  \n",
            "  inflating: new_veggie_fruit_data/base/train/banana/IMG_03342.jpg  \n",
            "  inflating: new_veggie_fruit_data/base/train/banana/IMG_03382.jpg  \n",
            "  inflating: new_veggie_fruit_data/base/train/banana/IMG_03334.jpg  \n",
            "   creating: new_veggie_fruit_data/base/train/kabocha_squash/\n",
            "  inflating: new_veggie_fruit_data/base/train/kabocha_squash/IMG_03440.jpg  \n",
            "  inflating: new_veggie_fruit_data/base/train/kabocha_squash/IMG_03494.jpg  \n",
            "  inflating: new_veggie_fruit_data/base/train/kabocha_squash/IMG_03477.jpg  \n",
            "  inflating: new_veggie_fruit_data/base/train/kabocha_squash/IMG_03470.jpg  \n",
            "  inflating: new_veggie_fruit_data/base/train/kabocha_squash/IMG_03442.jpg  \n",
            "  inflating: new_veggie_fruit_data/base/train/kabocha_squash/IMG_3660.jpg  \n",
            "  inflating: new_veggie_fruit_data/base/train/kabocha_squash/IMG_03467.jpg  \n",
            "  inflating: new_veggie_fruit_data/base/train/kabocha_squash/IMG_03445.jpg  \n",
            "  inflating: new_veggie_fruit_data/base/train/kabocha_squash/IMG_03455.jpg  \n",
            "  inflating: new_veggie_fruit_data/base/train/kabocha_squash/IMG_03443.jpg  \n",
            "  inflating: new_veggie_fruit_data/base/train/kabocha_squash/IMG_3659.jpg  \n",
            "  inflating: new_veggie_fruit_data/base/train/kabocha_squash/IMG_03486.jpg  \n",
            "  inflating: new_veggie_fruit_data/base/train/kabocha_squash/IMG_03482.jpg  \n",
            "  inflating: new_veggie_fruit_data/base/train/kabocha_squash/IMG_03453.jpg  \n",
            "  inflating: new_veggie_fruit_data/base/train/kabocha_squash/IMG_03479.jpg  \n",
            "  inflating: new_veggie_fruit_data/base/train/kabocha_squash/IMG_03469.jpg  \n",
            "  inflating: new_veggie_fruit_data/base/train/kabocha_squash/IMG_03483.jpg  \n",
            "  inflating: new_veggie_fruit_data/base/train/kabocha_squash/IMG_03444.jpg  \n",
            "  inflating: new_veggie_fruit_data/base/train/kabocha_squash/IMG_03471.jpg  \n",
            "  inflating: new_veggie_fruit_data/base/train/kabocha_squash/IMG_03480.jpg  \n",
            "  inflating: new_veggie_fruit_data/base/train/kabocha_squash/IMG_03441.jpg  \n",
            "  inflating: new_veggie_fruit_data/base/train/kabocha_squash/IMG_3662.jpg  \n",
            "  inflating: new_veggie_fruit_data/base/train/kabocha_squash/IMG_03485.jpg  \n",
            "  inflating: new_veggie_fruit_data/base/train/kabocha_squash/IMG_03460.jpg  \n",
            "  inflating: new_veggie_fruit_data/base/train/kabocha_squash/IMG_03468.jpg  \n",
            "  inflating: new_veggie_fruit_data/base/train/kabocha_squash/IMG_03452.jpg  \n",
            "  inflating: new_veggie_fruit_data/base/train/kabocha_squash/IMG_03473.jpg  \n",
            "  inflating: new_veggie_fruit_data/base/train/kabocha_squash/IMG_03487.jpg  \n",
            "  inflating: new_veggie_fruit_data/base/train/kabocha_squash/IMG_03450.jpg  \n",
            "  inflating: new_veggie_fruit_data/base/train/kabocha_squash/IMG_03436.jpg  \n",
            "  inflating: new_veggie_fruit_data/base/train/kabocha_squash/IMG_03462.jpg  \n",
            "  inflating: new_veggie_fruit_data/base/train/kabocha_squash/IMG_03481.jpg  \n",
            "  inflating: new_veggie_fruit_data/base/train/kabocha_squash/IMG_03457.jpg  \n",
            "  inflating: new_veggie_fruit_data/base/train/kabocha_squash/IMG_03437.jpg  \n",
            "  inflating: new_veggie_fruit_data/base/train/kabocha_squash/IMG_03439.jpg  \n",
            "  inflating: new_veggie_fruit_data/base/train/kabocha_squash/IMG_03454.jpg  \n",
            "  inflating: new_veggie_fruit_data/base/train/kabocha_squash/IMG_03472.jpg  \n",
            "  inflating: new_veggie_fruit_data/base/train/kabocha_squash/IMG_03461.jpg  \n",
            "  inflating: new_veggie_fruit_data/base/train/kabocha_squash/IMG_03459.jpg  \n",
            "  inflating: new_veggie_fruit_data/base/train/kabocha_squash/IMG_03491.jpg  \n",
            "  inflating: new_veggie_fruit_data/base/train/kabocha_squash/IMG_03448.jpg  \n",
            "  inflating: new_veggie_fruit_data/base/train/kabocha_squash/IMG_03449.jpg  \n",
            "  inflating: new_veggie_fruit_data/base/train/kabocha_squash/IMG_03447.jpg  \n",
            "  inflating: new_veggie_fruit_data/base/train/kabocha_squash/IMG_03465.jpg  \n",
            "  inflating: new_veggie_fruit_data/base/train/kabocha_squash/IMG_03458.jpg  \n",
            "  inflating: new_veggie_fruit_data/base/train/kabocha_squash/IMG_03489.jpg  \n",
            "  inflating: new_veggie_fruit_data/base/train/kabocha_squash/IMG_03488.jpg  \n",
            "  inflating: new_veggie_fruit_data/base/train/kabocha_squash/IMG_03463.jpg  \n",
            "  inflating: new_veggie_fruit_data/base/train/kabocha_squash/IMG_03478.jpg  \n",
            "  inflating: new_veggie_fruit_data/base/train/kabocha_squash/IMG_03474.jpg  \n",
            "   creating: new_veggie_fruit_data/base/train/green_onion/\n",
            "  inflating: new_veggie_fruit_data/base/train/green_onion/IMG_03388.jpg  \n",
            "  inflating: new_veggie_fruit_data/base/train/green_onion/IMG_03381.jpg  \n",
            "  inflating: new_veggie_fruit_data/base/train/green_onion/IMG_03418.jpg  \n",
            "  inflating: new_veggie_fruit_data/base/train/green_onion/IMG_03427.jpg  \n",
            "  inflating: new_veggie_fruit_data/base/train/green_onion/IMG_03343.jpg  \n",
            "  inflating: new_veggie_fruit_data/base/train/green_onion/IMG_3173.jpg  \n",
            "  inflating: new_veggie_fruit_data/base/train/green_onion/IMG_03335.jpg  \n",
            "  inflating: new_veggie_fruit_data/base/train/green_onion/IMG_03423.jpg  \n",
            "  inflating: new_veggie_fruit_data/base/train/green_onion/IMG_0303.jpg  \n",
            "  inflating: new_veggie_fruit_data/base/train/green_onion/IMG_0483.jpg  \n",
            "  inflating: new_veggie_fruit_data/base/train/green_onion/IMG_03374.jpg  \n",
            "  inflating: new_veggie_fruit_data/base/train/green_onion/IMG_0113.jpg  \n",
            "  inflating: new_veggie_fruit_data/base/train/green_onion/IMG_8675.jpg  \n",
            "  inflating: new_veggie_fruit_data/base/train/green_onion/IMG_03406.jpg  \n",
            "  inflating: new_veggie_fruit_data/base/train/green_onion/IMG_9501.jpg  \n",
            "  inflating: new_veggie_fruit_data/base/train/green_onion/IMG_03340.jpg  \n",
            "  inflating: new_veggie_fruit_data/base/train/green_onion/IMG_03415.jpg  \n",
            "  inflating: new_veggie_fruit_data/base/train/green_onion/IMG_03377.jpg  \n",
            "  inflating: new_veggie_fruit_data/base/train/green_onion/IMG_03394.jpg  \n",
            "  inflating: new_veggie_fruit_data/base/train/green_onion/IMG_03337.jpg  \n",
            "  inflating: new_veggie_fruit_data/base/train/green_onion/IMG_03416.jpg  \n",
            "  inflating: new_veggie_fruit_data/base/train/green_onion/IMG_03402.jpg  \n",
            "  inflating: new_veggie_fruit_data/base/train/green_onion/IMG_4897.JPG  \n",
            "  inflating: new_veggie_fruit_data/base/train/green_onion/IMG_03339.jpg  \n",
            "  inflating: new_veggie_fruit_data/base/train/green_onion/IMG_9502.jpg  \n",
            "  inflating: new_veggie_fruit_data/base/train/green_onion/IMG_03378.jpg  \n",
            "  inflating: new_veggie_fruit_data/base/train/green_onion/IMG_03421.jpg  \n",
            "  inflating: new_veggie_fruit_data/base/train/green_onion/IMG_03407.jpg  \n",
            "  inflating: new_veggie_fruit_data/base/train/green_onion/IMG_3217.jpg  \n",
            "  inflating: new_veggie_fruit_data/base/train/green_onion/IMG_03404.jpg  \n",
            "  inflating: new_veggie_fruit_data/base/train/green_onion/IMG_03347.jpg  \n",
            "  inflating: new_veggie_fruit_data/base/train/green_onion/IMG_03351.jpg  \n",
            "  inflating: new_veggie_fruit_data/base/train/green_onion/IMG_03380.jpg  \n",
            "  inflating: new_veggie_fruit_data/base/train/green_onion/IMG_03371.jpg  \n",
            "  inflating: new_veggie_fruit_data/base/train/green_onion/IMG_03425.jpg  \n",
            "  inflating: new_veggie_fruit_data/base/train/green_onion/IMG_3219.jpg  \n",
            "  inflating: new_veggie_fruit_data/base/train/green_onion/IMG_03412.jpg  \n",
            "  inflating: new_veggie_fruit_data/base/train/green_onion/IMG_0471.jpg  \n",
            "  inflating: new_veggie_fruit_data/base/train/green_onion/IMG_3171.jpg  \n",
            "  inflating: new_veggie_fruit_data/base/train/green_onion/IMG_03413.jpg  \n",
            "  inflating: new_veggie_fruit_data/base/train/green_onion/IMG_03344.jpg  \n",
            "  inflating: new_veggie_fruit_data/base/train/green_onion/IMG_03372.jpg  \n",
            "  inflating: new_veggie_fruit_data/base/train/green_onion/IMG_8674.jpg  \n",
            "  inflating: new_veggie_fruit_data/base/train/green_onion/IMG_1263.JPG  \n",
            "  inflating: new_veggie_fruit_data/base/train/green_onion/IMG_03384.jpg  \n",
            "  inflating: new_veggie_fruit_data/base/train/green_onion/IMG_03361.jpg  \n",
            "  inflating: new_veggie_fruit_data/base/train/green_onion/IMG_03385.jpg  \n",
            "  inflating: new_veggie_fruit_data/base/train/green_onion/IMG_03369.jpg  \n",
            "  inflating: new_veggie_fruit_data/base/train/green_onion/IMG_3172.jpg  \n",
            "  inflating: new_veggie_fruit_data/base/train/green_onion/IMG_03355.jpg  \n",
            "  inflating: new_veggie_fruit_data/base/train/green_onion/IMG_03363.jpg  \n",
            "  inflating: new_veggie_fruit_data/base/train/green_onion/IMG_03353.jpg  \n",
            "  inflating: new_veggie_fruit_data/base/train/green_onion/IMG_03359.jpg  \n",
            "  inflating: new_veggie_fruit_data/base/train/green_onion/IMG_03350.jpg  \n",
            "  inflating: new_veggie_fruit_data/base/train/green_onion/IMG_03387.jpg  \n",
            "  inflating: new_veggie_fruit_data/base/train/green_onion/IMG_1264.JPG  \n",
            "  inflating: new_veggie_fruit_data/base/train/green_onion/IMG_03354.jpg  \n",
            "  inflating: new_veggie_fruit_data/base/train/green_onion/IMG_03376.jpg  \n",
            "  inflating: new_veggie_fruit_data/base/train/green_onion/IMG_0333.jpg  \n",
            "  inflating: new_veggie_fruit_data/base/train/green_onion/IMG_03346.jpg  \n",
            "  inflating: new_veggie_fruit_data/base/train/green_onion/IMG_03389.jpg  \n",
            "  inflating: new_veggie_fruit_data/base/train/green_onion/IMG_03370.jpg  \n",
            "  inflating: new_veggie_fruit_data/base/train/green_onion/IMG_03373.jpg  \n",
            "  inflating: new_veggie_fruit_data/base/train/green_onion/IMG_03393.jpg  \n",
            "  inflating: new_veggie_fruit_data/base/train/green_onion/IMG_03336.jpg  \n",
            "  inflating: new_veggie_fruit_data/base/train/green_onion/IMG_03348.jpg  \n",
            "  inflating: new_veggie_fruit_data/base/train/green_onion/IMG_8676.jpg  \n",
            "  inflating: new_veggie_fruit_data/base/train/green_onion/IMG_4893.JPG  \n",
            "  inflating: new_veggie_fruit_data/base/train/green_onion/IMG_03360.jpg  \n",
            "  inflating: new_veggie_fruit_data/base/train/green_onion/IMG_1265.JPG  \n",
            "  inflating: new_veggie_fruit_data/base/train/green_onion/IMG_03332.jpg  \n",
            "  inflating: new_veggie_fruit_data/base/train/green_onion/IMG_03403.jpg  \n",
            "  inflating: new_veggie_fruit_data/base/train/green_onion/IMG_03391.jpg  \n",
            "  inflating: new_veggie_fruit_data/base/train/green_onion/IMG_03396.jpg  \n",
            "  inflating: new_veggie_fruit_data/base/train/green_onion/IMG_03349.jpg  \n",
            "  inflating: new_veggie_fruit_data/base/train/green_onion/IMG_03345.jpg  \n",
            "  inflating: new_veggie_fruit_data/base/train/green_onion/IMG_03386.jpg  \n",
            "  inflating: new_veggie_fruit_data/base/train/green_onion/IMG_03410.jpg  \n",
            "  inflating: new_veggie_fruit_data/base/train/green_onion/IMG_03375.jpg  \n",
            "  inflating: new_veggie_fruit_data/base/train/green_onion/IMG_03362.jpg  \n",
            "  inflating: new_veggie_fruit_data/base/train/green_onion/IMG_4894.JPG  \n",
            "  inflating: new_veggie_fruit_data/base/train/green_onion/IMG_03424.jpg  \n",
            "  inflating: new_veggie_fruit_data/base/train/green_onion/IMG_03408.jpg  \n",
            "  inflating: new_veggie_fruit_data/base/train/green_onion/IMG_03392.jpg  \n",
            "  inflating: new_veggie_fruit_data/base/train/green_onion/IMG_03365.jpg  \n",
            "  inflating: new_veggie_fruit_data/base/train/green_onion/IMG_03352.jpg  \n",
            "  inflating: new_veggie_fruit_data/base/train/green_onion/IMG_4896.JPG  \n",
            "  inflating: new_veggie_fruit_data/base/train/green_onion/IMG_03400.jpg  \n",
            "  inflating: new_veggie_fruit_data/base/train/green_onion/IMG_03364.jpg  \n",
            "  inflating: new_veggie_fruit_data/base/train/green_onion/IMG_4898.JPG  \n",
            "  inflating: new_veggie_fruit_data/base/train/green_onion/IMG_03420.jpg  \n",
            "  inflating: new_veggie_fruit_data/base/train/green_onion/IMG_03367.jpg  \n",
            "  inflating: new_veggie_fruit_data/base/train/green_onion/IMG_03331.jpg  \n",
            "  inflating: new_veggie_fruit_data/base/train/green_onion/IMG_3170.jpg  \n",
            "  inflating: new_veggie_fruit_data/base/train/green_onion/IMG_03417.jpg  \n",
            "  inflating: new_veggie_fruit_data/base/train/green_onion/IMG_03395.jpg  \n",
            "  inflating: new_veggie_fruit_data/base/train/green_onion/IMG_1267.JPG  \n",
            "  inflating: new_veggie_fruit_data/base/train/green_onion/IMG_4899.JPG  \n",
            "  inflating: new_veggie_fruit_data/base/train/green_onion/IMG_4895.JPG  \n",
            "  inflating: new_veggie_fruit_data/base/train/green_onion/IMG_03401.jpg  \n",
            "  inflating: new_veggie_fruit_data/base/train/green_onion/IMG_03330.jpg  \n",
            "  inflating: new_veggie_fruit_data/base/train/green_onion/IMG_03405.jpg  \n",
            "  inflating: new_veggie_fruit_data/base/train/green_onion/IMG_3218.jpg  \n",
            "  inflating: new_veggie_fruit_data/base/train/green_onion/IMG_03382.jpg  \n",
            "  inflating: new_veggie_fruit_data/base/train/green_onion/IMG_0115.jpg  \n",
            "  inflating: new_veggie_fruit_data/base/train/green_onion/IMG_03419.jpg  \n",
            "  inflating: new_veggie_fruit_data/base/train/green_onion/IMG_0114.jpg  \n",
            "  inflating: new_veggie_fruit_data/base/train/green_onion/IMG_03334.jpg  \n",
            "   creating: new_veggie_fruit_data/base/train/carrot/\n",
            "  inflating: new_veggie_fruit_data/base/train/carrot/IMG_9256.jpg  \n",
            "  inflating: new_veggie_fruit_data/base/train/carrot/IMG_7227.JPG  \n",
            "  inflating: new_veggie_fruit_data/base/train/carrot/IMG_9210.jpg  \n",
            "  inflating: new_veggie_fruit_data/base/train/carrot/IMG_2743.JPG  \n",
            "  inflating: new_veggie_fruit_data/base/train/carrot/IMG_8851.jpg  \n",
            "  inflating: new_veggie_fruit_data/base/train/carrot/IMG_8853.jpg  \n",
            "  inflating: new_veggie_fruit_data/base/train/carrot/IMG_8852.jpg  \n",
            "  inflating: new_veggie_fruit_data/base/train/carrot/IMG_3204.jpg  \n",
            "  inflating: new_veggie_fruit_data/base/train/carrot/IMG_7225.JPG  \n",
            "  inflating: new_veggie_fruit_data/base/train/carrot/IMG_9253.heic  \n",
            "  inflating: new_veggie_fruit_data/base/train/carrot/IMG_9199.jpg  \n",
            "  inflating: new_veggie_fruit_data/base/train/carrot/IMG_9200.jpg  \n",
            "  inflating: new_veggie_fruit_data/base/train/carrot/IMG_9255.jpg  \n",
            "  inflating: new_veggie_fruit_data/base/train/carrot/IMG_7226.JPG  \n",
            "  inflating: new_veggie_fruit_data/base/train/carrot/IMG_9254.jpg  \n",
            "  inflating: new_veggie_fruit_data/base/train/carrot/IMG_9209.jpg  \n",
            "  inflating: new_veggie_fruit_data/base/train/carrot/IMG_7223.JPG  \n",
            "  inflating: new_veggie_fruit_data/base/train/carrot/IMG_3203.jpg  \n",
            "  inflating: new_veggie_fruit_data/base/train/carrot/IMG_8666.jpg  \n",
            "  inflating: new_veggie_fruit_data/base/train/carrot/IMG_7228.JPG  \n",
            "  inflating: new_veggie_fruit_data/base/train/carrot/IMG_3205.jpg  \n",
            "  inflating: new_veggie_fruit_data/base/train/carrot/IMG_9196.jpg  \n",
            "  inflating: new_veggie_fruit_data/base/train/carrot/IMG_9207.jpg  \n",
            "  inflating: new_veggie_fruit_data/base/train/carrot/IMG_9197.jpg  \n",
            "  inflating: new_veggie_fruit_data/base/train/carrot/IMG_8699.JPG  \n",
            "   creating: new_veggie_fruit_data/base/train/pomegranate/\n",
            "  inflating: new_veggie_fruit_data/base/train/pomegranate/IMG_6619.JPG  \n",
            "  inflating: new_veggie_fruit_data/base/train/pomegranate/IMG_6620.JPG  \n",
            "  inflating: new_veggie_fruit_data/base/train/pomegranate/IMG_6623.JPG  \n",
            "  inflating: new_veggie_fruit_data/base/train/pomegranate/IMG_6629.JPG  \n",
            "  inflating: new_veggie_fruit_data/base/train/pomegranate/IMG_7277.JPG  \n",
            "  inflating: new_veggie_fruit_data/base/train/pomegranate/IMG_6626.JPG  \n",
            "  inflating: new_veggie_fruit_data/base/train/pomegranate/IMG_7305.JPG  \n",
            "  inflating: new_veggie_fruit_data/base/train/pomegranate/IMG_6624.JPG  \n",
            "  inflating: new_veggie_fruit_data/base/train/pomegranate/IMG_9244.jpg  \n",
            "  inflating: new_veggie_fruit_data/base/train/pomegranate/IMG_6622.JPG  \n",
            "  inflating: new_veggie_fruit_data/base/train/pomegranate/IMG_9242.jpg  \n",
            "  inflating: new_veggie_fruit_data/base/train/pomegranate/IMG_9241.jpg  \n",
            "  inflating: new_veggie_fruit_data/base/train/pomegranate/IMG_6628.JPG  \n",
            "  inflating: new_veggie_fruit_data/base/train/pomegranate/IMG_7279.JPG  \n",
            "  inflating: new_veggie_fruit_data/base/train/pomegranate/IMG_6625.JPG  \n",
            "  inflating: new_veggie_fruit_data/base/train/pomegranate/IMG_6627.JPG  \n",
            "  inflating: new_veggie_fruit_data/base/train/pomegranate/IMG_9243.jpg  \n",
            "  inflating: new_veggie_fruit_data/base/train/pomegranate/IMG_7302.JPG  \n",
            "  inflating: new_veggie_fruit_data/base/train/pomegranate/IMG_7301.JPG  \n",
            "  inflating: new_veggie_fruit_data/base/train/pomegranate/IMG_9240.jpg  \n",
            "   creating: new_veggie_fruit_data/base/train/long_bean/\n",
            "  inflating: new_veggie_fruit_data/base/train/long_bean/IMG_6607.JPG  \n",
            "  inflating: new_veggie_fruit_data/base/train/long_bean/IMG_6608.JPG  \n",
            "  inflating: new_veggie_fruit_data/base/train/long_bean/IMG_5537.JPG  \n",
            "  inflating: new_veggie_fruit_data/base/train/long_bean/IMG_7158.JPG  \n",
            "  inflating: new_veggie_fruit_data/base/train/long_bean/IMG_5532.JPG  \n",
            "  inflating: new_veggie_fruit_data/base/train/long_bean/IMG_5529.JPG  \n",
            "  inflating: new_veggie_fruit_data/base/train/long_bean/IMG_7161.JPG  \n",
            "  inflating: new_veggie_fruit_data/base/train/long_bean/IMG_7108.JPG  \n",
            "  inflating: new_veggie_fruit_data/base/train/long_bean/IMG_7107.JPG  \n",
            "  inflating: new_veggie_fruit_data/base/train/long_bean/IMG_7109.JPG  \n",
            "  inflating: new_veggie_fruit_data/base/train/long_bean/IMG_5540.JPG  \n",
            "  inflating: new_veggie_fruit_data/base/train/long_bean/IMG_6603.JPG  \n",
            "  inflating: new_veggie_fruit_data/base/train/long_bean/IMG_5531.JPG  \n",
            "  inflating: new_veggie_fruit_data/base/train/long_bean/IMG_7110.JPG  \n",
            "  inflating: new_veggie_fruit_data/base/train/long_bean/IMG_7112.JPG  \n",
            "  inflating: new_veggie_fruit_data/base/train/long_bean/IMG_5530.JPG  \n",
            "  inflating: new_veggie_fruit_data/base/train/long_bean/IMG_7006.JPG  \n",
            "  inflating: new_veggie_fruit_data/base/train/long_bean/IMG_7008.JPG  \n",
            "  inflating: new_veggie_fruit_data/base/train/long_bean/IMG_5539.JPG  \n",
            "  inflating: new_veggie_fruit_data/base/train/long_bean/IMG_7111.JPG  \n",
            "  inflating: new_veggie_fruit_data/base/train/long_bean/IMG_5538.JPG  \n",
            "   creating: new_veggie_fruit_data/base/train/okra/\n",
            "  inflating: new_veggie_fruit_data/base/train/okra/IMG_6990.JPG  \n",
            "  inflating: new_veggie_fruit_data/base/train/okra/IMG_8836.jpg  \n",
            "  inflating: new_veggie_fruit_data/base/train/okra/IMG_8838.jpg  \n",
            "  inflating: new_veggie_fruit_data/base/train/okra/IMG_8636.jpg  \n",
            "  inflating: new_veggie_fruit_data/base/train/okra/IMG_6989.JPG  \n",
            "  inflating: new_veggie_fruit_data/base/train/okra/IMG_8681.jpg  \n",
            "  inflating: new_veggie_fruit_data/base/train/okra/IMG_7124.JPG  \n",
            "  inflating: new_veggie_fruit_data/base/train/okra/IMG_5527.JPG  \n",
            "  inflating: new_veggie_fruit_data/base/train/okra/IMG_5521.JPG  \n",
            "  inflating: new_veggie_fruit_data/base/train/okra/IMG_0376.jpg  \n",
            "  inflating: new_veggie_fruit_data/base/train/okra/IMG_6988.JPG  \n",
            "  inflating: new_veggie_fruit_data/base/train/okra/IMG_8834.jpg  \n",
            "  inflating: new_veggie_fruit_data/base/train/okra/IMG_7316.JPG  \n",
            "  inflating: new_veggie_fruit_data/base/train/okra/IMG_8637.jpg  \n",
            "  inflating: new_veggie_fruit_data/base/train/okra/IMG_7122.JPG  \n",
            "  inflating: new_veggie_fruit_data/base/train/okra/IMG_5526.JPG  \n",
            "  inflating: new_veggie_fruit_data/base/train/okra/IMG_8683.jpg  \n",
            "  inflating: new_veggie_fruit_data/base/train/okra/IMG_8835.jpg  \n",
            "  inflating: new_veggie_fruit_data/base/train/okra/IMG_8837.jpg  \n",
            "  inflating: new_veggie_fruit_data/base/train/okra/IMG_5525.JPG  \n",
            "  inflating: new_veggie_fruit_data/base/train/okra/IMG_8635.jpg  \n",
            "  inflating: new_veggie_fruit_data/base/train/okra/IMG_8682.jpg  \n",
            "  inflating: new_veggie_fruit_data/base/train/okra/IMG_0377.jpg  \n",
            "  inflating: new_veggie_fruit_data/base/train/okra/IMG_5524.JPG  \n",
            "   creating: new_veggie_fruit_data/base/train/lime/\n",
            "  inflating: new_veggie_fruit_data/base/train/lime/IMG_03343.jpg  \n",
            "  inflating: new_veggie_fruit_data/base/train/lime/IMG_03335.jpg  \n",
            "  inflating: new_veggie_fruit_data/base/train/lime/IMG_4867.JPG  \n",
            "  inflating: new_veggie_fruit_data/base/train/lime/IMG_2155.JPG  \n",
            "  inflating: new_veggie_fruit_data/base/train/lime/IMG_4864.JPG  \n",
            "  inflating: new_veggie_fruit_data/base/train/lime/IMG_03340.jpg  \n",
            "  inflating: new_veggie_fruit_data/base/train/lime/IMG_03339.jpg  \n",
            "  inflating: new_veggie_fruit_data/base/train/lime/IMG_4865.JPG  \n",
            "  inflating: new_veggie_fruit_data/base/train/lime/IMG_4868.JPG  \n",
            "  inflating: new_veggie_fruit_data/base/train/lime/IMG_2154.JPG  \n",
            "  inflating: new_veggie_fruit_data/base/train/lime/IMG_03341.jpg  \n",
            "  inflating: new_veggie_fruit_data/base/train/lime/IMG_03344.jpg  \n",
            "  inflating: new_veggie_fruit_data/base/train/lime/IMG_03333.jpg  \n",
            "  inflating: new_veggie_fruit_data/base/train/lime/IMG_4866.JPG  \n",
            "  inflating: new_veggie_fruit_data/base/train/lime/IMG_03350.jpg  \n",
            "  inflating: new_veggie_fruit_data/base/train/lime/IMG_4863.JPG  \n",
            "  inflating: new_veggie_fruit_data/base/train/lime/IMG_03346.jpg  \n",
            "  inflating: new_veggie_fruit_data/base/train/lime/IMG_03336.jpg  \n",
            "  inflating: new_veggie_fruit_data/base/train/lime/IMG_03348.jpg  \n",
            "  inflating: new_veggie_fruit_data/base/train/lime/IMG_2161.JPG  \n",
            "  inflating: new_veggie_fruit_data/base/train/lime/IMG_2157.JPG  \n",
            "  inflating: new_veggie_fruit_data/base/train/lime/IMG_03332.jpg  \n",
            "  inflating: new_veggie_fruit_data/base/train/lime/IMG_2156.JPG  \n",
            "  inflating: new_veggie_fruit_data/base/train/lime/IMG_03349.jpg  \n",
            "  inflating: new_veggie_fruit_data/base/train/lime/IMG_03345.jpg  \n",
            "  inflating: new_veggie_fruit_data/base/train/lime/IMG_2158.JPG  \n",
            "  inflating: new_veggie_fruit_data/base/train/lime/IMG_03331.jpg  \n",
            "  inflating: new_veggie_fruit_data/base/train/lime/IMG_03334.jpg  \n",
            "   creating: new_veggie_fruit_data/base/train/red_chicory/\n",
            "  inflating: new_veggie_fruit_data/base/train/red_chicory/IMG_3687.jpg  \n",
            "  inflating: new_veggie_fruit_data/base/train/red_chicory/IMG_3688.jpg  \n",
            "   creating: new_veggie_fruit_data/base/train/yellow_peach/\n",
            "  inflating: new_veggie_fruit_data/base/train/yellow_peach/IMG_7716.jpg  \n",
            "  inflating: new_veggie_fruit_data/base/train/yellow_peach/IMG_7870.jpg  \n",
            "  inflating: new_veggie_fruit_data/base/train/yellow_peach/IMG_7871.jpg  \n",
            "   creating: new_veggie_fruit_data/base/train/corn/\n",
            "  inflating: new_veggie_fruit_data/base/train/corn/IMG_1254.JPG  \n",
            "  inflating: new_veggie_fruit_data/base/train/corn/IMG_03335.jpg  \n",
            "  inflating: new_veggie_fruit_data/base/train/corn/IMG_03374.jpg  \n",
            "  inflating: new_veggie_fruit_data/base/train/corn/IMG_1252.JPG  \n",
            "  inflating: new_veggie_fruit_data/base/train/corn/IMG_03340.jpg  \n",
            "  inflating: new_veggie_fruit_data/base/train/corn/IMG_03377.jpg  \n",
            "  inflating: new_veggie_fruit_data/base/train/corn/IMG_03337.jpg  \n",
            "  inflating: new_veggie_fruit_data/base/train/corn/IMG_7101.JPG  \n",
            "  inflating: new_veggie_fruit_data/base/train/corn/IMG_03339.jpg  \n",
            "  inflating: new_veggie_fruit_data/base/train/corn/IMG_03378.jpg  \n",
            "  inflating: new_veggie_fruit_data/base/train/corn/IMG_1255.JPG  \n",
            "  inflating: new_veggie_fruit_data/base/train/corn/IMG_03347.jpg  \n",
            "  inflating: new_veggie_fruit_data/base/train/corn/IMG_03351.jpg  \n",
            "  inflating: new_veggie_fruit_data/base/train/corn/IMG_03341.jpg  \n",
            "  inflating: new_veggie_fruit_data/base/train/corn/IMG_03344.jpg  \n",
            "  inflating: new_veggie_fruit_data/base/train/corn/IMG_03372.jpg  \n",
            "  inflating: new_veggie_fruit_data/base/train/corn/IMG_03333.jpg  \n",
            "  inflating: new_veggie_fruit_data/base/train/corn/IMG_03369.jpg  \n",
            "  inflating: new_veggie_fruit_data/base/train/corn/IMG_03355.jpg  \n",
            "  inflating: new_veggie_fruit_data/base/train/corn/IMG_03363.jpg  \n",
            "  inflating: new_veggie_fruit_data/base/train/corn/IMG_03353.jpg  \n",
            "  inflating: new_veggie_fruit_data/base/train/corn/IMG_03359.jpg  \n",
            "  inflating: new_veggie_fruit_data/base/train/corn/IMG_03354.jpg  \n",
            "  inflating: new_veggie_fruit_data/base/train/corn/IMG_7100.JPG  \n",
            "  inflating: new_veggie_fruit_data/base/train/corn/IMG_03376.jpg  \n",
            "  inflating: new_veggie_fruit_data/base/train/corn/IMG_03373.jpg  \n",
            "  inflating: new_veggie_fruit_data/base/train/corn/IMG_03336.jpg  \n",
            "  inflating: new_veggie_fruit_data/base/train/corn/IMG_03348.jpg  \n",
            "  inflating: new_veggie_fruit_data/base/train/corn/IMG_03360.jpg  \n",
            "  inflating: new_veggie_fruit_data/base/train/corn/IMG_03332.jpg  \n",
            "  inflating: new_veggie_fruit_data/base/train/corn/IMG_03357.jpg  \n",
            "  inflating: new_veggie_fruit_data/base/train/corn/IMG_03349.jpg  \n",
            "  inflating: new_veggie_fruit_data/base/train/corn/IMG_1253.JPG  \n",
            "  inflating: new_veggie_fruit_data/base/train/corn/IMG_7098.JPG  \n",
            "  inflating: new_veggie_fruit_data/base/train/corn/IMG_03368.jpg  \n",
            "  inflating: new_veggie_fruit_data/base/train/corn/IMG_03365.jpg  \n",
            "  inflating: new_veggie_fruit_data/base/train/corn/IMG_03352.jpg  \n",
            "  inflating: new_veggie_fruit_data/base/train/corn/IMG_7099.JPG  \n",
            "  inflating: new_veggie_fruit_data/base/train/corn/IMG_03364.jpg  \n",
            "  inflating: new_veggie_fruit_data/base/train/corn/IMG_03358.jpg  \n",
            "  inflating: new_veggie_fruit_data/base/train/corn/IMG_03367.jpg  \n",
            "  inflating: new_veggie_fruit_data/base/train/corn/IMG_03331.jpg  \n",
            "  inflating: new_veggie_fruit_data/base/train/corn/IMG_03379.jpg  \n",
            "  inflating: new_veggie_fruit_data/base/train/corn/IMG_03330.jpg  \n",
            "  inflating: new_veggie_fruit_data/base/train/corn/IMG_03338.jpg  \n",
            "  inflating: new_veggie_fruit_data/base/train/corn/IMG_03342.jpg  \n",
            "  inflating: new_veggie_fruit_data/base/train/corn/IMG_03334.jpg  \n",
            "   creating: new_veggie_fruit_data/base/train/cauliflower/\n",
            "  inflating: new_veggie_fruit_data/base/train/cauliflower/IMG_03388.jpg  \n",
            "  inflating: new_veggie_fruit_data/base/train/cauliflower/IMG_03335.jpg  \n",
            "  inflating: new_veggie_fruit_data/base/train/cauliflower/IMG_9174.jpg  \n",
            "  inflating: new_veggie_fruit_data/base/train/cauliflower/IMG_03374.jpg  \n",
            "  inflating: new_veggie_fruit_data/base/train/cauliflower/IMG_3189.jpg  \n",
            "  inflating: new_veggie_fruit_data/base/train/cauliflower/IMG_9175.jpg  \n",
            "  inflating: new_veggie_fruit_data/base/train/cauliflower/IMG_03340.jpg  \n",
            "  inflating: new_veggie_fruit_data/base/train/cauliflower/IMG_03377.jpg  \n",
            "  inflating: new_veggie_fruit_data/base/train/cauliflower/IMG_8813.jpg  \n",
            "  inflating: new_veggie_fruit_data/base/train/cauliflower/IMG_03394.jpg  \n",
            "  inflating: new_veggie_fruit_data/base/train/cauliflower/IMG_03337.jpg  \n",
            "  inflating: new_veggie_fruit_data/base/train/cauliflower/IMG_6893.JPG  \n",
            "  inflating: new_veggie_fruit_data/base/train/cauliflower/IMG_03339.jpg  \n",
            "  inflating: new_veggie_fruit_data/base/train/cauliflower/IMG_03347.jpg  \n",
            "  inflating: new_veggie_fruit_data/base/train/cauliflower/IMG_03351.jpg  \n",
            "  inflating: new_veggie_fruit_data/base/train/cauliflower/IMG_03380.jpg  \n",
            "  inflating: new_veggie_fruit_data/base/train/cauliflower/IMG_03371.jpg  \n",
            "  inflating: new_veggie_fruit_data/base/train/cauliflower/IMG_03366.jpg  \n",
            "  inflating: new_veggie_fruit_data/base/train/cauliflower/IMG_03341.jpg  \n",
            "  inflating: new_veggie_fruit_data/base/train/cauliflower/IMG_3188.jpg  \n",
            "  inflating: new_veggie_fruit_data/base/train/cauliflower/IMG_03344.jpg  \n",
            "  inflating: new_veggie_fruit_data/base/train/cauliflower/IMG_03372.jpg  \n",
            "  inflating: new_veggie_fruit_data/base/train/cauliflower/IMG_03384.jpg  \n",
            "  inflating: new_veggie_fruit_data/base/train/cauliflower/IMG_03361.jpg  \n",
            "  inflating: new_veggie_fruit_data/base/train/cauliflower/IMG_8814.jpg  \n",
            "  inflating: new_veggie_fruit_data/base/train/cauliflower/IMG_03385.jpg  \n",
            "  inflating: new_veggie_fruit_data/base/train/cauliflower/IMG_03369.jpg  \n",
            "  inflating: new_veggie_fruit_data/base/train/cauliflower/IMG_0287.jpg  \n",
            "  inflating: new_veggie_fruit_data/base/train/cauliflower/IMG_3235.jpg  \n",
            "  inflating: new_veggie_fruit_data/base/train/cauliflower/IMG_03353.jpg  \n",
            "  inflating: new_veggie_fruit_data/base/train/cauliflower/IMG_03359.jpg  \n",
            "  inflating: new_veggie_fruit_data/base/train/cauliflower/IMG_03350.jpg  \n",
            "  inflating: new_veggie_fruit_data/base/train/cauliflower/IMG_03354.jpg  \n",
            "  inflating: new_veggie_fruit_data/base/train/cauliflower/IMG_03376.jpg  \n",
            "  inflating: new_veggie_fruit_data/base/train/cauliflower/IMG_3236.jpg  \n",
            "  inflating: new_veggie_fruit_data/base/train/cauliflower/IMG_0288.jpg  \n",
            "  inflating: new_veggie_fruit_data/base/train/cauliflower/IMG_03346.jpg  \n",
            "  inflating: new_veggie_fruit_data/base/train/cauliflower/IMG_03389.jpg  \n",
            "  inflating: new_veggie_fruit_data/base/train/cauliflower/IMG_03370.jpg  \n",
            "  inflating: new_veggie_fruit_data/base/train/cauliflower/IMG_03373.jpg  \n",
            "  inflating: new_veggie_fruit_data/base/train/cauliflower/IMG_9266.jpg  \n",
            "  inflating: new_veggie_fruit_data/base/train/cauliflower/IMG_03393.jpg  \n",
            "  inflating: new_veggie_fruit_data/base/train/cauliflower/IMG_03336.jpg  \n",
            "  inflating: new_veggie_fruit_data/base/train/cauliflower/IMG_03348.jpg  \n",
            "  inflating: new_veggie_fruit_data/base/train/cauliflower/IMG_3187.jpg  \n",
            "  inflating: new_veggie_fruit_data/base/train/cauliflower/IMG_03360.jpg  \n",
            "  inflating: new_veggie_fruit_data/base/train/cauliflower/IMG_03332.jpg  \n",
            "  inflating: new_veggie_fruit_data/base/train/cauliflower/IMG_9176.jpg  \n",
            "  inflating: new_veggie_fruit_data/base/train/cauliflower/IMG_9178.jpg  \n",
            "  inflating: new_veggie_fruit_data/base/train/cauliflower/IMG_03391.jpg  \n",
            "  inflating: new_veggie_fruit_data/base/train/cauliflower/IMG_03357.jpg  \n",
            "  inflating: new_veggie_fruit_data/base/train/cauliflower/IMG_03349.jpg  \n",
            "  inflating: new_veggie_fruit_data/base/train/cauliflower/IMG_3195.jpg  \n",
            "  inflating: new_veggie_fruit_data/base/train/cauliflower/IMG_03345.jpg  \n",
            "  inflating: new_veggie_fruit_data/base/train/cauliflower/IMG_03386.jpg  \n",
            "  inflating: new_veggie_fruit_data/base/train/cauliflower/IMG_7742.jpg  \n",
            "  inflating: new_veggie_fruit_data/base/train/cauliflower/IMG_03375.jpg  \n",
            "  inflating: new_veggie_fruit_data/base/train/cauliflower/IMG_03362.jpg  \n",
            "  inflating: new_veggie_fruit_data/base/train/cauliflower/IMG_3196.jpg  \n",
            "  inflating: new_veggie_fruit_data/base/train/cauliflower/IMG_9179.jpg  \n",
            "  inflating: new_veggie_fruit_data/base/train/cauliflower/IMG_9267.jpg  \n",
            "  inflating: new_veggie_fruit_data/base/train/cauliflower/IMG_03392.jpg  \n",
            "  inflating: new_veggie_fruit_data/base/train/cauliflower/IMG_03365.jpg  \n",
            "  inflating: new_veggie_fruit_data/base/train/cauliflower/IMG_03352.jpg  \n",
            "  inflating: new_veggie_fruit_data/base/train/cauliflower/IMG_03364.jpg  \n",
            "  inflating: new_veggie_fruit_data/base/train/cauliflower/IMG_03331.jpg  \n",
            "  inflating: new_veggie_fruit_data/base/train/cauliflower/IMG_3191.jpg  \n",
            "  inflating: new_veggie_fruit_data/base/train/cauliflower/IMG_03395.jpg  \n",
            "  inflating: new_veggie_fruit_data/base/train/cauliflower/IMG_03356.jpg  \n",
            "  inflating: new_veggie_fruit_data/base/train/cauliflower/IMG_03379.jpg  \n",
            "  inflating: new_veggie_fruit_data/base/train/cauliflower/IMG_03330.jpg  \n",
            "  inflating: new_veggie_fruit_data/base/train/cauliflower/IMG_03338.jpg  \n",
            "  inflating: new_veggie_fruit_data/base/train/cauliflower/IMG_8812.jpg  \n",
            "  inflating: new_veggie_fruit_data/base/train/cauliflower/IMG_3190.jpg  \n",
            "  inflating: new_veggie_fruit_data/base/train/cauliflower/IMG_03342.jpg  \n",
            "   creating: new_veggie_fruit_data/base/train/chinese_cabbage/\n",
            "  inflating: new_veggie_fruit_data/base/train/chinese_cabbage/IMG_9157.jpg  \n",
            "  inflating: new_veggie_fruit_data/base/train/chinese_cabbage/IMG_9158.jpg  \n",
            "  inflating: new_veggie_fruit_data/base/train/chinese_cabbage/IMG_9159.jpg  \n",
            "   creating: new_veggie_fruit_data/base/train/broccoli/\n",
            "  inflating: new_veggie_fruit_data/base/train/broccoli/IMG_03388.jpg  \n",
            "  inflating: new_veggie_fruit_data/base/train/broccoli/IMG_03381.jpg  \n",
            "  inflating: new_veggie_fruit_data/base/train/broccoli/IMG_03343.jpg  \n",
            "  inflating: new_veggie_fruit_data/base/train/broccoli/IMG_03335.jpg  \n",
            "  inflating: new_veggie_fruit_data/base/train/broccoli/IMG_03374.jpg  \n",
            "  inflating: new_veggie_fruit_data/base/train/broccoli/IMG_1272.JPG  \n",
            "  inflating: new_veggie_fruit_data/base/train/broccoli/IMG_9190.jpg  \n",
            "  inflating: new_veggie_fruit_data/base/train/broccoli/IMG_03406.jpg  \n",
            "  inflating: new_veggie_fruit_data/base/train/broccoli/IMG_0445.jpg  \n",
            "  inflating: new_veggie_fruit_data/base/train/broccoli/IMG_2225.JPG  \n",
            "  inflating: new_veggie_fruit_data/base/train/broccoli/IMG_4887.JPG  \n",
            "  inflating: new_veggie_fruit_data/base/train/broccoli/IMG_03377.jpg  \n",
            "  inflating: new_veggie_fruit_data/base/train/broccoli/IMG_03394.jpg  \n",
            "  inflating: new_veggie_fruit_data/base/train/broccoli/IMG_03337.jpg  \n",
            "  inflating: new_veggie_fruit_data/base/train/broccoli/IMG_03402.jpg  \n",
            "  inflating: new_veggie_fruit_data/base/train/broccoli/IMG_3207.jpg  \n",
            "  inflating: new_veggie_fruit_data/base/train/broccoli/IMG_4888.JPG  \n",
            "  inflating: new_veggie_fruit_data/base/train/broccoli/IMG_03339.jpg  \n",
            "  inflating: new_veggie_fruit_data/base/train/broccoli/IMG_03378.jpg  \n",
            "  inflating: new_veggie_fruit_data/base/train/broccoli/IMG_9189.jpg  \n",
            "  inflating: new_veggie_fruit_data/base/train/broccoli/IMG_03407.jpg  \n",
            "  inflating: new_veggie_fruit_data/base/train/broccoli/IMG_0444.jpg  \n",
            "  inflating: new_veggie_fruit_data/base/train/broccoli/IMG_03404.jpg  \n",
            "  inflating: new_veggie_fruit_data/base/train/broccoli/IMG_03347.jpg  \n",
            "  inflating: new_veggie_fruit_data/base/train/broccoli/IMG_3176.jpg  \n",
            "  inflating: new_veggie_fruit_data/base/train/broccoli/IMG_3727.jpg  \n",
            "  inflating: new_veggie_fruit_data/base/train/broccoli/IMG_03380.jpg  \n",
            "  inflating: new_veggie_fruit_data/base/train/broccoli/IMG_03371.jpg  \n",
            "  inflating: new_veggie_fruit_data/base/train/broccoli/IMG_03366.jpg  \n",
            "  inflating: new_veggie_fruit_data/base/train/broccoli/IMG_3174.jpg  \n",
            "  inflating: new_veggie_fruit_data/base/train/broccoli/IMG_03383.jpg  \n",
            "  inflating: new_veggie_fruit_data/base/train/broccoli/IMG_1274.JPG  \n",
            "  inflating: new_veggie_fruit_data/base/train/broccoli/IMG_03341.jpg  \n",
            "  inflating: new_veggie_fruit_data/base/train/broccoli/IMG_0321.jpg  \n",
            "  inflating: new_veggie_fruit_data/base/train/broccoli/IMG_03344.jpg  \n",
            "  inflating: new_veggie_fruit_data/base/train/broccoli/IMG_03372.jpg  \n",
            "  inflating: new_veggie_fruit_data/base/train/broccoli/IMG_3186.jpg  \n",
            "  inflating: new_veggie_fruit_data/base/train/broccoli/IMG_03384.jpg  \n",
            "  inflating: new_veggie_fruit_data/base/train/broccoli/IMG_03361.jpg  \n",
            "  inflating: new_veggie_fruit_data/base/train/broccoli/IMG_03333.jpg  \n",
            "  inflating: new_veggie_fruit_data/base/train/broccoli/IMG_4890.JPG  \n",
            "  inflating: new_veggie_fruit_data/base/train/broccoli/IMG_03369.jpg  \n",
            "  inflating: new_veggie_fruit_data/base/train/broccoli/IMG_03390.jpg  \n",
            "  inflating: new_veggie_fruit_data/base/train/broccoli/IMG_03355.jpg  \n",
            "  inflating: new_veggie_fruit_data/base/train/broccoli/IMG_03363.jpg  \n",
            "  inflating: new_veggie_fruit_data/base/train/broccoli/IMG_4891.JPG  \n",
            "  inflating: new_veggie_fruit_data/base/train/broccoli/IMG_03353.jpg  \n",
            "  inflating: new_veggie_fruit_data/base/train/broccoli/IMG_4889.JPG  \n",
            "  inflating: new_veggie_fruit_data/base/train/broccoli/IMG_2223.JPG  \n",
            "  inflating: new_veggie_fruit_data/base/train/broccoli/IMG_03359.jpg  \n",
            "  inflating: new_veggie_fruit_data/base/train/broccoli/IMG_03350.jpg  \n",
            "  inflating: new_veggie_fruit_data/base/train/broccoli/IMG_03354.jpg  \n",
            "  inflating: new_veggie_fruit_data/base/train/broccoli/IMG_03376.jpg  \n",
            "  inflating: new_veggie_fruit_data/base/train/broccoli/IMG_03346.jpg  \n",
            "  inflating: new_veggie_fruit_data/base/train/broccoli/IMG_03389.jpg  \n",
            "  inflating: new_veggie_fruit_data/base/train/broccoli/IMG_03370.jpg  \n",
            "  inflating: new_veggie_fruit_data/base/train/broccoli/IMG_03373.jpg  \n",
            "  inflating: new_veggie_fruit_data/base/train/broccoli/IMG_03393.jpg  \n",
            "  inflating: new_veggie_fruit_data/base/train/broccoli/IMG_03336.jpg  \n",
            "  inflating: new_veggie_fruit_data/base/train/broccoli/IMG_03360.jpg  \n",
            "  inflating: new_veggie_fruit_data/base/train/broccoli/IMG_03332.jpg  \n",
            "  inflating: new_veggie_fruit_data/base/train/broccoli/IMG_03391.jpg  \n",
            "  inflating: new_veggie_fruit_data/base/train/broccoli/IMG_03396.jpg  \n",
            "  inflating: new_veggie_fruit_data/base/train/broccoli/IMG_03357.jpg  \n",
            "  inflating: new_veggie_fruit_data/base/train/broccoli/IMG_03349.jpg  \n",
            "  inflating: new_veggie_fruit_data/base/train/broccoli/IMG_03345.jpg  \n",
            "  inflating: new_veggie_fruit_data/base/train/broccoli/IMG_3728.jpg  \n",
            "  inflating: new_veggie_fruit_data/base/train/broccoli/IMG_03362.jpg  \n",
            "  inflating: new_veggie_fruit_data/base/train/broccoli/IMG_3183.jpg  \n",
            "  inflating: new_veggie_fruit_data/base/train/broccoli/IMG_03408.jpg  \n",
            "  inflating: new_veggie_fruit_data/base/train/broccoli/IMG_03365.jpg  \n",
            "  inflating: new_veggie_fruit_data/base/train/broccoli/IMG_03352.jpg  \n",
            "  inflating: new_veggie_fruit_data/base/train/broccoli/IMG_9212.jpg  \n",
            "  inflating: new_veggie_fruit_data/base/train/broccoli/IMG_03400.jpg  \n",
            "  inflating: new_veggie_fruit_data/base/train/broccoli/IMG_03364.jpg  \n",
            "  inflating: new_veggie_fruit_data/base/train/broccoli/IMG_3729.jpg  \n",
            "  inflating: new_veggie_fruit_data/base/train/broccoli/IMG_03358.jpg  \n",
            "  inflating: new_veggie_fruit_data/base/train/broccoli/IMG_03367.jpg  \n",
            "  inflating: new_veggie_fruit_data/base/train/broccoli/IMG_03331.jpg  \n",
            "  inflating: new_veggie_fruit_data/base/train/broccoli/IMG_4892.JPG  \n",
            "  inflating: new_veggie_fruit_data/base/train/broccoli/IMG_0318.jpg  \n",
            "  inflating: new_veggie_fruit_data/base/train/broccoli/IMG_03395.jpg  \n",
            "  inflating: new_veggie_fruit_data/base/train/broccoli/IMG_03356.jpg  \n",
            "  inflating: new_veggie_fruit_data/base/train/broccoli/IMG_03379.jpg  \n",
            "  inflating: new_veggie_fruit_data/base/train/broccoli/IMG_03401.jpg  \n",
            "  inflating: new_veggie_fruit_data/base/train/broccoli/IMG_03330.jpg  \n",
            "  inflating: new_veggie_fruit_data/base/train/broccoli/IMG_9213.jpg  \n",
            "  inflating: new_veggie_fruit_data/base/train/broccoli/IMG_03338.jpg  \n",
            "  inflating: new_veggie_fruit_data/base/train/broccoli/IMG_03405.jpg  \n",
            "  inflating: new_veggie_fruit_data/base/train/broccoli/IMG_3184.jpg  \n",
            "  inflating: new_veggie_fruit_data/base/train/broccoli/IMG_3185.jpg  \n",
            "  inflating: new_veggie_fruit_data/base/train/broccoli/IMG_1273.JPG  \n",
            "  inflating: new_veggie_fruit_data/base/train/broccoli/IMG_03334.jpg  \n",
            "   creating: new_veggie_fruit_data/base/train/strawberry/\n",
            "  inflating: new_veggie_fruit_data/base/train/strawberry/IMG_7895.jpg  \n",
            "  inflating: new_veggie_fruit_data/base/train/strawberry/IMG_7902.jpg  \n",
            "  inflating: new_veggie_fruit_data/base/train/strawberry/IMG_7904.jpg  \n",
            "  inflating: new_veggie_fruit_data/base/train/strawberry/IMG_7899.jpg  \n",
            "  inflating: new_veggie_fruit_data/base/train/strawberry/IMG_8767.jpg  \n",
            "  inflating: new_veggie_fruit_data/base/train/strawberry/IMG_7898.jpg  \n",
            "  inflating: new_veggie_fruit_data/base/train/strawberry/IMG_8768.jpg  \n",
            "  inflating: new_veggie_fruit_data/base/train/strawberry/IMG_7900.jpg  \n",
            "  inflating: new_veggie_fruit_data/base/train/strawberry/IMG_7787.jpg  \n",
            "  inflating: new_veggie_fruit_data/base/train/strawberry/IMG_7901.jpg  \n",
            "  inflating: new_veggie_fruit_data/base/train/strawberry/IMG_7896.jpg  \n",
            "  inflating: new_veggie_fruit_data/base/train/strawberry/IMG_8663.jpg  \n",
            "  inflating: new_veggie_fruit_data/base/train/strawberry/IMG_2690.JPG  \n",
            "   creating: new_veggie_fruit_data/base/train/fava_beans/\n",
            "  inflating: new_veggie_fruit_data/base/train/fava_beans/IMG_5392.JPG  \n",
            "  inflating: new_veggie_fruit_data/base/train/fava_beans/IMG_5390.JPG  \n",
            "  inflating: new_veggie_fruit_data/base/train/fava_beans/IMG_5389.JPG  \n",
            "   creating: new_veggie_fruit_data/base/train/white_peach/\n",
            "  inflating: new_veggie_fruit_data/base/train/white_peach/IMG_7710.jpg  \n",
            "  inflating: new_veggie_fruit_data/base/train/white_peach/IMG_7265.JPG  \n",
            "  inflating: new_veggie_fruit_data/base/train/white_peach/IMG_7268.JPG  \n",
            "  inflating: new_veggie_fruit_data/base/train/white_peach/IMG_7266.JPG  \n",
            "  inflating: new_veggie_fruit_data/base/train/white_peach/IMG_7711.jpg  \n",
            "   creating: new_veggie_fruit_data/base/train/kale/\n",
            "  inflating: new_veggie_fruit_data/base/train/kale/IMG_6884.JPG  \n",
            "  inflating: new_veggie_fruit_data/base/train/kale/IMG_6881.JPG  \n",
            "  inflating: new_veggie_fruit_data/base/train/kale/IMG_7287.JPG  \n",
            "  inflating: new_veggie_fruit_data/base/train/kale/IMG_7284.JPG  \n",
            "  inflating: new_veggie_fruit_data/base/train/kale/IMG_6883.JPG  \n",
            "  inflating: new_veggie_fruit_data/base/train/kale/IMG_7283.JPG  \n",
            "  inflating: new_veggie_fruit_data/base/train/kale/IMG_7288.JPG  \n",
            "  inflating: new_veggie_fruit_data/base/train/kale/IMG_6974.JPG  \n",
            "  inflating: new_veggie_fruit_data/base/train/kale/IMG_6975.JPG  \n",
            "  inflating: new_veggie_fruit_data/base/train/kale/IMG_6885.JPG  \n",
            "  inflating: new_veggie_fruit_data/base/train/kale/IMG_7285.JPG  \n",
            "  inflating: new_veggie_fruit_data/base/train/kale/IMG_6880.JPG  \n",
            "  inflating: new_veggie_fruit_data/base/train/kale/IMG_6977.JPG  \n",
            "  inflating: new_veggie_fruit_data/base/train/kale/IMG_7290.JPG  \n",
            "   creating: new_veggie_fruit_data/base/train/green_bean/\n",
            "  inflating: new_veggie_fruit_data/base/train/green_bean/IMG_03343.jpg  \n",
            "  inflating: new_veggie_fruit_data/base/train/green_bean/IMG_03335.jpg  \n",
            "  inflating: new_veggie_fruit_data/base/train/green_bean/IMG_03340.jpg  \n",
            "  inflating: new_veggie_fruit_data/base/train/green_bean/IMG_03337.jpg  \n",
            "  inflating: new_veggie_fruit_data/base/train/green_bean/IMG_8643.jpg  \n",
            "  inflating: new_veggie_fruit_data/base/train/green_bean/IMG_03339.jpg  \n",
            "  inflating: new_veggie_fruit_data/base/train/green_bean/IMG_03347.jpg  \n",
            "  inflating: new_veggie_fruit_data/base/train/green_bean/IMG_03351.jpg  \n",
            "  inflating: new_veggie_fruit_data/base/train/green_bean/IMG_03341.jpg  \n",
            "  inflating: new_veggie_fruit_data/base/train/green_bean/IMG_03344.jpg  \n",
            "  inflating: new_veggie_fruit_data/base/train/green_bean/IMG_8645.jpg  \n",
            "  inflating: new_veggie_fruit_data/base/train/green_bean/IMG_8641.jpg  \n",
            "  inflating: new_veggie_fruit_data/base/train/green_bean/IMG_03333.jpg  \n",
            "  inflating: new_veggie_fruit_data/base/train/green_bean/IMG_8644.jpg  \n",
            "  inflating: new_veggie_fruit_data/base/train/green_bean/IMG_03354.jpg  \n",
            "  inflating: new_veggie_fruit_data/base/train/green_bean/IMG_03346.jpg  \n",
            "  inflating: new_veggie_fruit_data/base/train/green_bean/IMG_03336.jpg  \n",
            "  inflating: new_veggie_fruit_data/base/train/green_bean/IMG_03348.jpg  \n",
            "  inflating: new_veggie_fruit_data/base/train/green_bean/IMG_8707.JPG  \n",
            "  inflating: new_veggie_fruit_data/base/train/green_bean/IMG_03332.jpg  \n",
            "  inflating: new_veggie_fruit_data/base/train/green_bean/IMG_03349.jpg  \n",
            "  inflating: new_veggie_fruit_data/base/train/green_bean/IMG_8702.JPG  \n",
            "  inflating: new_veggie_fruit_data/base/train/green_bean/IMG_03345.jpg  \n",
            "  inflating: new_veggie_fruit_data/base/train/green_bean/IMG_03352.jpg  \n",
            "  inflating: new_veggie_fruit_data/base/train/green_bean/IMG_03331.jpg  \n",
            "  inflating: new_veggie_fruit_data/base/train/green_bean/IMG_03330.jpg  \n",
            "  inflating: new_veggie_fruit_data/base/train/green_bean/IMG_8646.jpg  \n",
            "  inflating: new_veggie_fruit_data/base/train/green_bean/IMG_03342.jpg  \n",
            "  inflating: new_veggie_fruit_data/base/train/green_bean/IMG_8642.jpg  \n",
            "  inflating: new_veggie_fruit_data/base/train/green_bean/IMG_03334.jpg  \n",
            "   creating: new_veggie_fruit_data/base/train/ginger/\n",
            "  inflating: new_veggie_fruit_data/base/train/ginger/IMG_4876.JPG  \n",
            "  inflating: new_veggie_fruit_data/base/train/ginger/IMG_1300.JPG  \n",
            "  inflating: new_veggie_fruit_data/base/train/ginger/IMG_1299.JPG  \n",
            "  inflating: new_veggie_fruit_data/base/train/ginger/IMG_4875.JPG  \n",
            "  inflating: new_veggie_fruit_data/base/train/ginger/IMG_1302.JPG  \n",
            "  inflating: new_veggie_fruit_data/base/train/ginger/IMG_2216.JPG  \n",
            "  inflating: new_veggie_fruit_data/base/train/ginger/IMG_2212.JPG  \n",
            "  inflating: new_veggie_fruit_data/base/train/ginger/IMG_2746.JPG  \n",
            "  inflating: new_veggie_fruit_data/base/train/ginger/IMG_1301.JPG  \n",
            "  inflating: new_veggie_fruit_data/base/train/ginger/IMG_2215.JPG  \n",
            "  inflating: new_veggie_fruit_data/base/train/ginger/IMG_4878.JPG  \n",
            "  inflating: new_veggie_fruit_data/base/train/ginger/IMG_4880.JPG  \n",
            "  inflating: new_veggie_fruit_data/base/train/ginger/IMG_1303.JPG  \n",
            "   creating: new_veggie_fruit_data/base/train/bok_choy/\n",
            "  inflating: new_veggie_fruit_data/base/train/bok_choy/IMG_9164.jpg  \n",
            "  inflating: new_veggie_fruit_data/base/train/bok_choy/IMG_8733.jpg  \n",
            "  inflating: new_veggie_fruit_data/base/train/bok_choy/IMG_9165.jpg  \n",
            "  inflating: new_veggie_fruit_data/base/train/bok_choy/IMG_3178.jpg  \n",
            "  inflating: new_veggie_fruit_data/base/train/bok_choy/IMG_5381.JPG  \n",
            "  inflating: new_veggie_fruit_data/base/train/bok_choy/IMG_8864.jpg  \n",
            "  inflating: new_veggie_fruit_data/base/train/bok_choy/IMG_9162.jpg  \n",
            "  inflating: new_veggie_fruit_data/base/train/bok_choy/IMG_3180.jpg  \n",
            "  inflating: new_veggie_fruit_data/base/train/bok_choy/IMG_9161.jpg  \n",
            "  inflating: new_veggie_fruit_data/base/train/bok_choy/IMG_0487.jpg  \n",
            "  inflating: new_veggie_fruit_data/base/train/bok_choy/IMG_8865.jpg  \n",
            "  inflating: new_veggie_fruit_data/base/train/bok_choy/IMG_3179.jpg  \n",
            "  inflating: new_veggie_fruit_data/base/train/bok_choy/IMG_3181.jpg  \n",
            "  inflating: new_veggie_fruit_data/base/train/bok_choy/IMG_3182.jpg  \n",
            "  inflating: new_veggie_fruit_data/base/train/bok_choy/IMG_8731.jpg  \n",
            "  inflating: new_veggie_fruit_data/base/train/bok_choy/IMG_3215.jpg  \n",
            "  inflating: new_veggie_fruit_data/base/train/bok_choy/IMG_3214.jpg  \n",
            "  inflating: new_veggie_fruit_data/base/train/bok_choy/IMG_3231.jpg  \n",
            "  inflating: new_veggie_fruit_data/base/train/bok_choy/IMG_0385.jpg  \n",
            "  inflating: new_veggie_fruit_data/base/train/bok_choy/IMG_3213.jpg  \n",
            "  inflating: new_veggie_fruit_data/base/train/bok_choy/IMG_3229.jpg  \n",
            "  inflating: new_veggie_fruit_data/base/train/bok_choy/IMG_9163.jpg  \n",
            "  inflating: new_veggie_fruit_data/base/train/bok_choy/IMG_3212.jpg  \n",
            "  inflating: new_veggie_fruit_data/base/train/bok_choy/IMG_8732.jpg  \n",
            "  inflating: new_veggie_fruit_data/base/train/bok_choy/IMG_5379.JPG  \n",
            "  inflating: new_veggie_fruit_data/base/train/bok_choy/IMG_0481.jpg  \n",
            "  inflating: new_veggie_fruit_data/base/train/bok_choy/IMG_5382.JPG  \n",
            "   creating: new_veggie_fruit_data/base/train/redbor_kale/\n",
            "  inflating: new_veggie_fruit_data/base/train/redbor_kale/IMG_3731.jpg  \n",
            "  inflating: new_veggie_fruit_data/base/train/redbor_kale/IMG_3733.jpg  \n",
            "   creating: new_veggie_fruit_data/base/train/red_onion/\n",
            "  inflating: new_veggie_fruit_data/base/train/red_onion/IMG_2711.JPG  \n",
            "  inflating: new_veggie_fruit_data/base/train/red_onion/IMG_03381.jpg  \n",
            "  inflating: new_veggie_fruit_data/base/train/red_onion/IMG_2718.JPG  \n",
            "  inflating: new_veggie_fruit_data/base/train/red_onion/IMG_03335.jpg  \n",
            "  inflating: new_veggie_fruit_data/base/train/red_onion/IMG_03374.jpg  \n",
            "  inflating: new_veggie_fruit_data/base/train/red_onion/IMG_4945.JPG  \n",
            "  inflating: new_veggie_fruit_data/base/train/red_onion/IMG_03340.jpg  \n",
            "  inflating: new_veggie_fruit_data/base/train/red_onion/IMG_03377.jpg  \n",
            "  inflating: new_veggie_fruit_data/base/train/red_onion/IMG_03337.jpg  \n",
            "  inflating: new_veggie_fruit_data/base/train/red_onion/IMG_03339.jpg  \n",
            "  inflating: new_veggie_fruit_data/base/train/red_onion/IMG_03378.jpg  \n",
            "  inflating: new_veggie_fruit_data/base/train/red_onion/IMG_03347.jpg  \n",
            "  inflating: new_veggie_fruit_data/base/train/red_onion/IMG_9257.jpg  \n",
            "  inflating: new_veggie_fruit_data/base/train/red_onion/IMG_03380.jpg  \n",
            "  inflating: new_veggie_fruit_data/base/train/red_onion/IMG_03371.jpg  \n",
            "  inflating: new_veggie_fruit_data/base/train/red_onion/IMG_03366.jpg  \n",
            "  inflating: new_veggie_fruit_data/base/train/red_onion/IMG_03383.jpg  \n",
            "  inflating: new_veggie_fruit_data/base/train/red_onion/IMG_03341.jpg  \n",
            "  inflating: new_veggie_fruit_data/base/train/red_onion/IMG_1294.JPG  \n",
            "  inflating: new_veggie_fruit_data/base/train/red_onion/IMG_03344.jpg  \n",
            "  inflating: new_veggie_fruit_data/base/train/red_onion/IMG_1296.JPG  \n",
            "  inflating: new_veggie_fruit_data/base/train/red_onion/IMG_03384.jpg  \n",
            "  inflating: new_veggie_fruit_data/base/train/red_onion/IMG_03361.jpg  \n",
            "  inflating: new_veggie_fruit_data/base/train/red_onion/IMG_4949.JPG  \n",
            "  inflating: new_veggie_fruit_data/base/train/red_onion/IMG_03333.jpg  \n",
            "  inflating: new_veggie_fruit_data/base/train/red_onion/IMG_03369.jpg  \n",
            "  inflating: new_veggie_fruit_data/base/train/red_onion/IMG_03355.jpg  \n",
            "  inflating: new_veggie_fruit_data/base/train/red_onion/IMG_03363.jpg  \n",
            "  inflating: new_veggie_fruit_data/base/train/red_onion/IMG_4942.JPG  \n",
            "  inflating: new_veggie_fruit_data/base/train/red_onion/IMG_03353.jpg  \n",
            "  inflating: new_veggie_fruit_data/base/train/red_onion/IMG_03359.jpg  \n",
            "  inflating: new_veggie_fruit_data/base/train/red_onion/IMG_03350.jpg  \n",
            "  inflating: new_veggie_fruit_data/base/train/red_onion/IMG_03354.jpg  \n",
            "  inflating: new_veggie_fruit_data/base/train/red_onion/IMG_03376.jpg  \n",
            "  inflating: new_veggie_fruit_data/base/train/red_onion/IMG_03346.jpg  \n",
            "  inflating: new_veggie_fruit_data/base/train/red_onion/IMG_03370.jpg  \n",
            "  inflating: new_veggie_fruit_data/base/train/red_onion/IMG_03373.jpg  \n",
            "  inflating: new_veggie_fruit_data/base/train/red_onion/IMG_03336.jpg  \n",
            "  inflating: new_veggie_fruit_data/base/train/red_onion/IMG_4944.JPG  \n",
            "  inflating: new_veggie_fruit_data/base/train/red_onion/IMG_1298.JPG  \n",
            "  inflating: new_veggie_fruit_data/base/train/red_onion/IMG_03360.jpg  \n",
            "  inflating: new_veggie_fruit_data/base/train/red_onion/IMG_03332.jpg  \n",
            "  inflating: new_veggie_fruit_data/base/train/red_onion/IMG_03357.jpg  \n",
            "  inflating: new_veggie_fruit_data/base/train/red_onion/IMG_03349.jpg  \n",
            "  inflating: new_veggie_fruit_data/base/train/red_onion/IMG_4946.JPG  \n",
            "  inflating: new_veggie_fruit_data/base/train/red_onion/IMG_03375.jpg  \n",
            "  inflating: new_veggie_fruit_data/base/train/red_onion/IMG_03362.jpg  \n",
            "  inflating: new_veggie_fruit_data/base/train/red_onion/IMG_03365.jpg  \n",
            "  inflating: new_veggie_fruit_data/base/train/red_onion/IMG_03364.jpg  \n",
            "  inflating: new_veggie_fruit_data/base/train/red_onion/IMG_9258.jpg  \n",
            "  inflating: new_veggie_fruit_data/base/train/red_onion/IMG_03358.jpg  \n",
            "  inflating: new_veggie_fruit_data/base/train/red_onion/IMG_03331.jpg  \n",
            "  inflating: new_veggie_fruit_data/base/train/red_onion/IMG_03356.jpg  \n",
            "  inflating: new_veggie_fruit_data/base/train/red_onion/IMG_03379.jpg  \n",
            "  inflating: new_veggie_fruit_data/base/train/red_onion/IMG_03342.jpg  \n",
            "  inflating: new_veggie_fruit_data/base/train/red_onion/IMG_4943.JPG  \n",
            "  inflating: new_veggie_fruit_data/base/train/red_onion/IMG_03334.jpg  \n",
            "   creating: new_veggie_fruit_data/base/train/butternut/\n",
            "  inflating: new_veggie_fruit_data/base/train/butternut/IMG_5363.JPG  \n",
            "  inflating: new_veggie_fruit_data/base/train/butternut/IMG_5364.JPG  \n",
            "  inflating: new_veggie_fruit_data/base/train/butternut/IMG_5365.JPG  \n",
            "   creating: new_veggie_fruit_data/base/train/mandarin/\n",
            "  inflating: new_veggie_fruit_data/base/train/mandarin/IMG_1185.JPG  \n",
            "  inflating: new_veggie_fruit_data/base/train/mandarin/IMG_9230.jpg  \n",
            "  inflating: new_veggie_fruit_data/base/train/mandarin/IMG_9228.jpg  \n",
            "  inflating: new_veggie_fruit_data/base/train/mandarin/IMG_4957.JPG  \n",
            "  inflating: new_veggie_fruit_data/base/train/mandarin/IMG_4953.JPG  \n",
            "  inflating: new_veggie_fruit_data/base/train/mandarin/IMG_5331.JPG  \n",
            "  inflating: new_veggie_fruit_data/base/train/mandarin/IMG_4955.JPG  \n",
            "  inflating: new_veggie_fruit_data/base/train/mandarin/IMG_4960.JPG  \n",
            "  inflating: new_veggie_fruit_data/base/train/mandarin/IMG_1183.JPG  \n",
            "  inflating: new_veggie_fruit_data/base/train/mandarin/IMG_5330.JPG  \n",
            "  inflating: new_veggie_fruit_data/base/train/mandarin/IMG_4958.JPG  \n",
            "  inflating: new_veggie_fruit_data/base/train/mandarin/IMG_4956.JPG  \n",
            "  inflating: new_veggie_fruit_data/base/train/mandarin/IMG_4961.JPG  \n",
            "  inflating: new_veggie_fruit_data/base/train/mandarin/IMG_4951.JPG  \n",
            "  inflating: new_veggie_fruit_data/base/train/mandarin/IMG_1182.JPG  \n",
            "  inflating: new_veggie_fruit_data/base/train/mandarin/IMG_4959.JPG  \n",
            "   creating: new_veggie_fruit_data/base/train/persimmon/\n",
            "  inflating: new_veggie_fruit_data/base/train/persimmon/IMG_9224.jpg  \n",
            "  inflating: new_veggie_fruit_data/base/train/persimmon/IMG_9223.jpg  \n",
            "  inflating: new_veggie_fruit_data/base/train/persimmon/IMG_9221.jpg  \n",
            "  inflating: new_veggie_fruit_data/base/train/persimmon/IMG_9225.jpg  \n",
            "   creating: new_veggie_fruit_data/base/train/artichoke/\n",
            "  inflating: new_veggie_fruit_data/base/train/artichoke/IMG_7219.JPG  \n",
            "  inflating: new_veggie_fruit_data/base/train/artichoke/IMG_5356.JPG  \n",
            "  inflating: new_veggie_fruit_data/base/train/artichoke/IMG_1811.JPG  \n",
            "  inflating: new_veggie_fruit_data/base/train/artichoke/IMG_7218.JPG  \n",
            "  inflating: new_veggie_fruit_data/base/train/artichoke/IMG_1808.JPG  \n",
            "  inflating: new_veggie_fruit_data/base/train/artichoke/IMG_1810.JPG  \n",
            "  inflating: new_veggie_fruit_data/base/train/artichoke/.DS_Store  \n",
            "  inflating: new_veggie_fruit_data/base/train/artichoke/IMG_5359.JPG  \n",
            "  inflating: new_veggie_fruit_data/base/train/artichoke/IMG_1809.JPG  \n",
            "  inflating: new_veggie_fruit_data/base/train/artichoke/IMG_7221.JPG  \n",
            "  inflating: new_veggie_fruit_data/base/train/artichoke/IMG_1812.JPG  \n",
            "  inflating: new_veggie_fruit_data/base/train/artichoke/IMG_7220.JPG  \n",
            "  inflating: new_veggie_fruit_data/base/train/artichoke/IMG_5360.JPG  \n",
            "   creating: new_veggie_fruit_data/base/train/avocado/\n",
            "  inflating: new_veggie_fruit_data/base/train/avocado/IMG_4859.JPG  \n",
            "  inflating: new_veggie_fruit_data/base/train/avocado/IMG_03343.jpg  \n",
            "  inflating: new_veggie_fruit_data/base/train/avocado/IMG_03335.jpg  \n",
            "  inflating: new_veggie_fruit_data/base/train/avocado/IMG_4858.JPG  \n",
            "  inflating: new_veggie_fruit_data/base/train/avocado/IMG_03340.jpg  \n",
            "  inflating: new_veggie_fruit_data/base/train/avocado/IMG_03337.jpg  \n",
            "  inflating: new_veggie_fruit_data/base/train/avocado/IMG_03339.jpg  \n",
            "  inflating: new_veggie_fruit_data/base/train/avocado/IMG_03347.jpg  \n",
            "  inflating: new_veggie_fruit_data/base/train/avocado/IMG_03366.jpg  \n",
            "  inflating: new_veggie_fruit_data/base/train/avocado/IMG_03341.jpg  \n",
            "  inflating: new_veggie_fruit_data/base/train/avocado/IMG_03344.jpg  \n",
            "  inflating: new_veggie_fruit_data/base/train/avocado/IMG_4860.JPG  \n",
            "  inflating: new_veggie_fruit_data/base/train/avocado/IMG_03361.jpg  \n",
            "  inflating: new_veggie_fruit_data/base/train/avocado/IMG_03333.jpg  \n",
            "  inflating: new_veggie_fruit_data/base/train/avocado/IMG_4861.JPG  \n",
            "  inflating: new_veggie_fruit_data/base/train/avocado/IMG_03355.jpg  \n",
            "  inflating: new_veggie_fruit_data/base/train/avocado/IMG_03363.jpg  \n",
            "  inflating: new_veggie_fruit_data/base/train/avocado/IMG_03353.jpg  \n",
            "  inflating: new_veggie_fruit_data/base/train/avocado/IMG_03359.jpg  \n",
            "  inflating: new_veggie_fruit_data/base/train/avocado/IMG_03354.jpg  \n",
            "  inflating: new_veggie_fruit_data/base/train/avocado/IMG_4857.JPG  \n",
            "  inflating: new_veggie_fruit_data/base/train/avocado/IMG_03336.jpg  \n",
            "  inflating: new_veggie_fruit_data/base/train/avocado/IMG_03348.jpg  \n",
            "  inflating: new_veggie_fruit_data/base/train/avocado/IMG_03360.jpg  \n",
            "  inflating: new_veggie_fruit_data/base/train/avocado/IMG_03332.jpg  \n",
            "  inflating: new_veggie_fruit_data/base/train/avocado/IMG_03349.jpg  \n",
            "  inflating: new_veggie_fruit_data/base/train/avocado/IMG_03345.jpg  \n",
            "  inflating: new_veggie_fruit_data/base/train/avocado/IMG_03362.jpg  \n",
            "  inflating: new_veggie_fruit_data/base/train/avocado/IMG_03368.jpg  \n",
            "  inflating: new_veggie_fruit_data/base/train/avocado/IMG_03365.jpg  \n",
            "  inflating: new_veggie_fruit_data/base/train/avocado/IMG_03352.jpg  \n",
            "  inflating: new_veggie_fruit_data/base/train/avocado/IMG_03367.jpg  \n",
            "  inflating: new_veggie_fruit_data/base/train/avocado/IMG_03331.jpg  \n",
            "  inflating: new_veggie_fruit_data/base/train/avocado/IMG_1921.JPG  \n",
            "  inflating: new_veggie_fruit_data/base/train/avocado/IMG_03356.jpg  \n",
            "  inflating: new_veggie_fruit_data/base/train/avocado/IMG_03330.jpg  \n",
            "  inflating: new_veggie_fruit_data/base/train/avocado/IMG_03338.jpg  \n",
            "  inflating: new_veggie_fruit_data/base/train/avocado/IMG_1918.JPG  \n",
            "  inflating: new_veggie_fruit_data/base/train/avocado/IMG_1917.JPG  \n",
            "  inflating: new_veggie_fruit_data/base/train/avocado/IMG_03334.jpg  \n",
            "  inflating: new_veggie_fruit_data/base/train/avocado/IMG_1922.JPG  \n",
            "   creating: new_veggie_fruit_data/base/train/napa_cabbage/\n",
            "  inflating: new_veggie_fruit_data/base/train/napa_cabbage/IMG_0410.jpg  \n",
            "  inflating: new_veggie_fruit_data/base/train/napa_cabbage/IMG_9549.jpg  \n",
            "  inflating: new_veggie_fruit_data/base/train/napa_cabbage/IMG_0409.jpg  \n",
            "  inflating: new_veggie_fruit_data/base/train/napa_cabbage/IMG_0412.jpg  \n",
            "   creating: new_veggie_fruit_data/base/train/pineapple/\n",
            "  inflating: new_veggie_fruit_data/base/train/pineapple/IMG_03343.jpg  \n",
            "  inflating: new_veggie_fruit_data/base/train/pineapple/IMG_03335.jpg  \n",
            "  inflating: new_veggie_fruit_data/base/train/pineapple/IMG_03340.jpg  \n",
            "  inflating: new_veggie_fruit_data/base/train/pineapple/IMG_1211.JPG  \n",
            "  inflating: new_veggie_fruit_data/base/train/pineapple/IMG_03337.jpg  \n",
            "  inflating: new_veggie_fruit_data/base/train/pineapple/IMG_9858.jpg  \n",
            "  inflating: new_veggie_fruit_data/base/train/pineapple/IMG_03339.jpg  \n",
            "  inflating: new_veggie_fruit_data/base/train/pineapple/IMG_03351.jpg  \n",
            "  inflating: new_veggie_fruit_data/base/train/pineapple/IMG_03366.jpg  \n",
            "  inflating: new_veggie_fruit_data/base/train/pineapple/IMG_9857.jpg  \n",
            "  inflating: new_veggie_fruit_data/base/train/pineapple/IMG_03344.jpg  \n",
            "  inflating: new_veggie_fruit_data/base/train/pineapple/IMG_0134.jpg  \n",
            "  inflating: new_veggie_fruit_data/base/train/pineapple/IMG_03361.jpg  \n",
            "  inflating: new_veggie_fruit_data/base/train/pineapple/IMG_03333.jpg  \n",
            "  inflating: new_veggie_fruit_data/base/train/pineapple/IMG_03369.jpg  \n",
            "  inflating: new_veggie_fruit_data/base/train/pineapple/IMG_03355.jpg  \n",
            "  inflating: new_veggie_fruit_data/base/train/pineapple/IMG_03363.jpg  \n",
            "  inflating: new_veggie_fruit_data/base/train/pineapple/IMG_03353.jpg  \n",
            "  inflating: new_veggie_fruit_data/base/train/pineapple/IMG_03359.jpg  \n",
            "  inflating: new_veggie_fruit_data/base/train/pineapple/IMG_0102.jpg  \n",
            "  inflating: new_veggie_fruit_data/base/train/pineapple/IMG_03354.jpg  \n",
            "  inflating: new_veggie_fruit_data/base/train/pineapple/IMG_03346.jpg  \n",
            "  inflating: new_veggie_fruit_data/base/train/pineapple/IMG_03336.jpg  \n",
            "  inflating: new_veggie_fruit_data/base/train/pineapple/IMG_1209.JPG  \n",
            "  inflating: new_veggie_fruit_data/base/train/pineapple/IMG_03348.jpg  \n",
            "  inflating: new_veggie_fruit_data/base/train/pineapple/IMG_03360.jpg  \n",
            "  inflating: new_veggie_fruit_data/base/train/pineapple/IMG_1210.JPG  \n",
            "  inflating: new_veggie_fruit_data/base/train/pineapple/IMG_03332.jpg  \n",
            "  inflating: new_veggie_fruit_data/base/train/pineapple/IMG_03357.jpg  \n",
            "  inflating: new_veggie_fruit_data/base/train/pineapple/IMG_03349.jpg  \n",
            "  inflating: new_veggie_fruit_data/base/train/pineapple/IMG_03362.jpg  \n",
            "  inflating: new_veggie_fruit_data/base/train/pineapple/IMG_03365.jpg  \n",
            "  inflating: new_veggie_fruit_data/base/train/pineapple/IMG_03352.jpg  \n",
            "  inflating: new_veggie_fruit_data/base/train/pineapple/IMG_0133.jpg  \n",
            "  inflating: new_veggie_fruit_data/base/train/pineapple/IMG_1212.JPG  \n",
            "  inflating: new_veggie_fruit_data/base/train/pineapple/IMG_03367.jpg  \n",
            "  inflating: new_veggie_fruit_data/base/train/pineapple/IMG_03331.jpg  \n",
            "  inflating: new_veggie_fruit_data/base/train/pineapple/IMG_03356.jpg  \n",
            "  inflating: new_veggie_fruit_data/base/train/pineapple/IMG_03330.jpg  \n",
            "  inflating: new_veggie_fruit_data/base/train/pineapple/IMG_03338.jpg  \n",
            "  inflating: new_veggie_fruit_data/base/train/pineapple/IMG_03342.jpg  \n",
            "  inflating: new_veggie_fruit_data/base/train/pineapple/IMG_9859.jpg  \n",
            "  inflating: new_veggie_fruit_data/base/train/pineapple/IMG_03334.jpg  \n",
            "   creating: new_veggie_fruit_data/base/train/white_nectarine/\n",
            "  inflating: new_veggie_fruit_data/base/train/white_nectarine/IMG_7276.JPG  \n",
            "  inflating: new_veggie_fruit_data/base/train/white_nectarine/IMG_7274.JPG  \n",
            "  inflating: new_veggie_fruit_data/base/train/white_nectarine/IMG_7273.JPG  \n",
            "  inflating: new_veggie_fruit_data/base/train/white_nectarine/IMG_7275.JPG  \n",
            "  inflating: new_veggie_fruit_data/base/train/white_nectarine/IMG_7270.JPG  \n",
            "  inflating: new_veggie_fruit_data/base/train/white_nectarine/IMG_7237.JPG  \n",
            "  inflating: new_veggie_fruit_data/base/train/white_nectarine/IMG_7271.JPG  \n",
            "  inflating: new_veggie_fruit_data/base/train/white_nectarine/IMG_7235.JPG  \n",
            "  inflating: new_veggie_fruit_data/base/train/white_nectarine/IMG_7306.JPG  \n",
            "  inflating: new_veggie_fruit_data/base/train/white_nectarine/IMG_7307.JPG  \n",
            "   creating: new_veggie_fruit_data/base/train/papaya/\n",
            "  inflating: new_veggie_fruit_data/base/train/papaya/IMG_03381.jpg  \n",
            "  inflating: new_veggie_fruit_data/base/train/papaya/IMG_03343.jpg  \n",
            "  inflating: new_veggie_fruit_data/base/train/papaya/IMG_1214.JPG  \n",
            "  inflating: new_veggie_fruit_data/base/train/papaya/IMG_4940.JPG  \n",
            "  inflating: new_veggie_fruit_data/base/train/papaya/IMG_03335.jpg  \n",
            "  inflating: new_veggie_fruit_data/base/train/papaya/IMG_03374.jpg  \n",
            "  inflating: new_veggie_fruit_data/base/train/papaya/IMG_03340.jpg  \n",
            "  inflating: new_veggie_fruit_data/base/train/papaya/IMG_4939.JPG  \n",
            "  inflating: new_veggie_fruit_data/base/train/papaya/IMG_03377.jpg  \n",
            "  inflating: new_veggie_fruit_data/base/train/papaya/IMG_03394.jpg  \n",
            "  inflating: new_veggie_fruit_data/base/train/papaya/IMG_03337.jpg  \n",
            "  inflating: new_veggie_fruit_data/base/train/papaya/IMG_1233.JPG  \n",
            "  inflating: new_veggie_fruit_data/base/train/papaya/IMG_03347.jpg  \n",
            "  inflating: new_veggie_fruit_data/base/train/papaya/IMG_4873.JPG  \n",
            "  inflating: new_veggie_fruit_data/base/train/papaya/IMG_03351.jpg  \n",
            "  inflating: new_veggie_fruit_data/base/train/papaya/IMG_03380.jpg  \n",
            "  inflating: new_veggie_fruit_data/base/train/papaya/IMG_1215.JPG  \n",
            "  inflating: new_veggie_fruit_data/base/train/papaya/IMG_03371.jpg  \n",
            "  inflating: new_veggie_fruit_data/base/train/papaya/IMG_03366.jpg  \n",
            "  inflating: new_veggie_fruit_data/base/train/papaya/IMG_03341.jpg  \n",
            "  inflating: new_veggie_fruit_data/base/train/papaya/IMG_03344.jpg  \n",
            "  inflating: new_veggie_fruit_data/base/train/papaya/IMG_03372.jpg  \n",
            "  inflating: new_veggie_fruit_data/base/train/papaya/IMG_03398.jpg  \n",
            "  inflating: new_veggie_fruit_data/base/train/papaya/IMG_03384.jpg  \n",
            "  inflating: new_veggie_fruit_data/base/train/papaya/IMG_03361.jpg  \n",
            "  inflating: new_veggie_fruit_data/base/train/papaya/IMG_03333.jpg  \n",
            "  inflating: new_veggie_fruit_data/base/train/papaya/IMG_03385.jpg  \n",
            "  inflating: new_veggie_fruit_data/base/train/papaya/IMG_03369.jpg  \n",
            "  inflating: new_veggie_fruit_data/base/train/papaya/IMG_1232.JPG  \n",
            "  inflating: new_veggie_fruit_data/base/train/papaya/IMG_03363.jpg  \n",
            "  inflating: new_veggie_fruit_data/base/train/papaya/IMG_03353.jpg  \n",
            "  inflating: new_veggie_fruit_data/base/train/papaya/IMG_4937.JPG  \n",
            "  inflating: new_veggie_fruit_data/base/train/papaya/IMG_03359.jpg  \n",
            "  inflating: new_veggie_fruit_data/base/train/papaya/IMG_03350.jpg  \n",
            "  inflating: new_veggie_fruit_data/base/train/papaya/IMG_03387.jpg  \n",
            "  inflating: new_veggie_fruit_data/base/train/papaya/IMG_03354.jpg  \n",
            "  inflating: new_veggie_fruit_data/base/train/papaya/IMG_03399.jpg  \n",
            "  inflating: new_veggie_fruit_data/base/train/papaya/IMG_03376.jpg  \n",
            "  inflating: new_veggie_fruit_data/base/train/papaya/IMG_03346.jpg  \n",
            "  inflating: new_veggie_fruit_data/base/train/papaya/IMG_03389.jpg  \n",
            "  inflating: new_veggie_fruit_data/base/train/papaya/IMG_03370.jpg  \n",
            "  inflating: new_veggie_fruit_data/base/train/papaya/IMG_03373.jpg  \n",
            "  inflating: new_veggie_fruit_data/base/train/papaya/IMG_03393.jpg  \n",
            "  inflating: new_veggie_fruit_data/base/train/papaya/IMG_03336.jpg  \n",
            "  inflating: new_veggie_fruit_data/base/train/papaya/IMG_03348.jpg  \n",
            "  inflating: new_veggie_fruit_data/base/train/papaya/IMG_1219.JPG  \n",
            "  inflating: new_veggie_fruit_data/base/train/papaya/IMG_1218.JPG  \n",
            "  inflating: new_veggie_fruit_data/base/train/papaya/IMG_03360.jpg  \n",
            "  inflating: new_veggie_fruit_data/base/train/papaya/IMG_03332.jpg  \n",
            "  inflating: new_veggie_fruit_data/base/train/papaya/IMG_1230.JPG  \n",
            "  inflating: new_veggie_fruit_data/base/train/papaya/IMG_03357.jpg  \n",
            "  inflating: new_veggie_fruit_data/base/train/papaya/IMG_03349.jpg  \n",
            "  inflating: new_veggie_fruit_data/base/train/papaya/IMG_03386.jpg  \n",
            "  inflating: new_veggie_fruit_data/base/train/papaya/IMG_03375.jpg  \n",
            "  inflating: new_veggie_fruit_data/base/train/papaya/IMG_03362.jpg  \n",
            "  inflating: new_veggie_fruit_data/base/train/papaya/IMG_03392.jpg  \n",
            "  inflating: new_veggie_fruit_data/base/train/papaya/IMG_03365.jpg  \n",
            "  inflating: new_veggie_fruit_data/base/train/papaya/IMG_03352.jpg  \n",
            "  inflating: new_veggie_fruit_data/base/train/papaya/IMG_03400.jpg  \n",
            "  inflating: new_veggie_fruit_data/base/train/papaya/IMG_1217.JPG  \n",
            "  inflating: new_veggie_fruit_data/base/train/papaya/IMG_1216.JPG  \n",
            "  inflating: new_veggie_fruit_data/base/train/papaya/IMG_03367.jpg  \n",
            "  inflating: new_veggie_fruit_data/base/train/papaya/IMG_03331.jpg  \n",
            "  inflating: new_veggie_fruit_data/base/train/papaya/IMG_1235.JPG  \n",
            "  inflating: new_veggie_fruit_data/base/train/papaya/IMG_03395.jpg  \n",
            "  inflating: new_veggie_fruit_data/base/train/papaya/IMG_03356.jpg  \n",
            "  inflating: new_veggie_fruit_data/base/train/papaya/IMG_03401.jpg  \n",
            "  inflating: new_veggie_fruit_data/base/train/papaya/IMG_03330.jpg  \n",
            "  inflating: new_veggie_fruit_data/base/train/papaya/IMG_03338.jpg  \n",
            "  inflating: new_veggie_fruit_data/base/train/papaya/IMG_03342.jpg  \n",
            "  inflating: new_veggie_fruit_data/base/train/papaya/IMG_03382.jpg  \n",
            "  inflating: new_veggie_fruit_data/base/train/papaya/IMG_03334.jpg  \n",
            "   creating: new_veggie_fruit_data/base/train/cherry_tomato/\n",
            "  inflating: new_veggie_fruit_data/base/train/cherry_tomato/IMG_0466.jpg  \n",
            "  inflating: new_veggie_fruit_data/base/train/cherry_tomato/IMG_2731.JPG  \n",
            "  inflating: new_veggie_fruit_data/base/train/cherry_tomato/IMG_7778.jpg  \n",
            "  inflating: new_veggie_fruit_data/base/train/cherry_tomato/IMG_8875.jpg  \n",
            "  inflating: new_veggie_fruit_data/base/train/cherry_tomato/IMG_7912.jpg  \n",
            "  inflating: new_veggie_fruit_data/base/train/cherry_tomato/IMG_2666.JPG  \n",
            "  inflating: new_veggie_fruit_data/base/train/cherry_tomato/IMG_0465.jpg  \n",
            "  inflating: new_veggie_fruit_data/base/train/cherry_tomato/IMG_8873.jpg  \n",
            "  inflating: new_veggie_fruit_data/base/train/cherry_tomato/IMG_7911.jpg  \n",
            "  inflating: new_veggie_fruit_data/base/train/cherry_tomato/IMG_2732.JPG  \n",
            "  inflating: new_veggie_fruit_data/base/train/cherry_tomato/IMG_8874.jpg  \n",
            "   creating: new_veggie_fruit_data/base/train/bitter_melon/\n",
            "  inflating: new_veggie_fruit_data/base/train/bitter_melon/IMG_03343.jpg  \n",
            "  inflating: new_veggie_fruit_data/base/train/bitter_melon/IMG_03335.jpg  \n",
            "  inflating: new_veggie_fruit_data/base/train/bitter_melon/IMG_7802.jpg  \n",
            "  inflating: new_veggie_fruit_data/base/train/bitter_melon/IMG_7118.JPG  \n",
            "  inflating: new_veggie_fruit_data/base/train/bitter_melon/IMG_8753.jpg  \n",
            "  inflating: new_veggie_fruit_data/base/train/bitter_melon/IMG_03340.jpg  \n",
            "  inflating: new_veggie_fruit_data/base/train/bitter_melon/IMG_8781.jpg  \n",
            "  inflating: new_veggie_fruit_data/base/train/bitter_melon/IMG_8782.jpg  \n",
            "  inflating: new_veggie_fruit_data/base/train/bitter_melon/IMG_03337.jpg  \n",
            "  inflating: new_veggie_fruit_data/base/train/bitter_melon/IMG_03339.jpg  \n",
            "  inflating: new_veggie_fruit_data/base/train/bitter_melon/IMG_03351.jpg  \n",
            "  inflating: new_veggie_fruit_data/base/train/bitter_melon/IMG_03366.jpg  \n",
            "  inflating: new_veggie_fruit_data/base/train/bitter_melon/IMG_6972.JPG  \n",
            "  inflating: new_veggie_fruit_data/base/train/bitter_melon/IMG_03341.jpg  \n",
            "  inflating: new_veggie_fruit_data/base/train/bitter_melon/IMG_03344.jpg  \n",
            "  inflating: new_veggie_fruit_data/base/train/bitter_melon/IMG_03372.jpg  \n",
            "  inflating: new_veggie_fruit_data/base/train/bitter_melon/IMG_03361.jpg  \n",
            "  inflating: new_veggie_fruit_data/base/train/bitter_melon/IMG_03333.jpg  \n",
            "  inflating: new_veggie_fruit_data/base/train/bitter_melon/IMG_03369.jpg  \n",
            "  inflating: new_veggie_fruit_data/base/train/bitter_melon/IMG_7115.JPG  \n",
            "  inflating: new_veggie_fruit_data/base/train/bitter_melon/IMG_03355.jpg  \n",
            "  inflating: new_veggie_fruit_data/base/train/bitter_melon/IMG_03363.jpg  \n",
            "  inflating: new_veggie_fruit_data/base/train/bitter_melon/IMG_03353.jpg  \n",
            "  inflating: new_veggie_fruit_data/base/train/bitter_melon/IMG_03359.jpg  \n",
            "  inflating: new_veggie_fruit_data/base/train/bitter_melon/IMG_03350.jpg  \n",
            "  inflating: new_veggie_fruit_data/base/train/bitter_melon/IMG_03354.jpg  \n",
            "  inflating: new_veggie_fruit_data/base/train/bitter_melon/IMG_03376.jpg  \n",
            "  inflating: new_veggie_fruit_data/base/train/bitter_melon/IMG_03370.jpg  \n",
            "  inflating: new_veggie_fruit_data/base/train/bitter_melon/IMG_03373.jpg  \n",
            "  inflating: new_veggie_fruit_data/base/train/bitter_melon/IMG_03336.jpg  \n",
            "  inflating: new_veggie_fruit_data/base/train/bitter_melon/IMG_03348.jpg  \n",
            "  inflating: new_veggie_fruit_data/base/train/bitter_melon/IMG_03360.jpg  \n",
            "  inflating: new_veggie_fruit_data/base/train/bitter_melon/IMG_7129.JPG  \n",
            "  inflating: new_veggie_fruit_data/base/train/bitter_melon/IMG_7801.jpg  \n",
            "  inflating: new_veggie_fruit_data/base/train/bitter_melon/IMG_03332.jpg  \n",
            "  inflating: new_veggie_fruit_data/base/train/bitter_melon/IMG_03357.jpg  \n",
            "  inflating: new_veggie_fruit_data/base/train/bitter_melon/IMG_03349.jpg  \n",
            "  inflating: new_veggie_fruit_data/base/train/bitter_melon/IMG_03345.jpg  \n",
            "  inflating: new_veggie_fruit_data/base/train/bitter_melon/IMG_7117.JPG  \n",
            "  inflating: new_veggie_fruit_data/base/train/bitter_melon/IMG_03375.jpg  \n",
            "  inflating: new_veggie_fruit_data/base/train/bitter_melon/IMG_03362.jpg  \n",
            "  inflating: new_veggie_fruit_data/base/train/bitter_melon/IMG_03352.jpg  \n",
            "  inflating: new_veggie_fruit_data/base/train/bitter_melon/IMG_8780.jpg  \n",
            "  inflating: new_veggie_fruit_data/base/train/bitter_melon/IMG_03364.jpg  \n",
            "  inflating: new_veggie_fruit_data/base/train/bitter_melon/IMG_03358.jpg  \n",
            "  inflating: new_veggie_fruit_data/base/train/bitter_melon/IMG_03331.jpg  \n",
            "  inflating: new_veggie_fruit_data/base/train/bitter_melon/IMG_2780.JPG  \n",
            "  inflating: new_veggie_fruit_data/base/train/bitter_melon/IMG_03330.jpg  \n",
            "  inflating: new_veggie_fruit_data/base/train/bitter_melon/IMG_03338.jpg  \n",
            "  inflating: new_veggie_fruit_data/base/train/bitter_melon/IMG_03342.jpg  \n",
            "  inflating: new_veggie_fruit_data/base/train/bitter_melon/IMG_7120.JPG  \n",
            "  inflating: new_veggie_fruit_data/base/train/bitter_melon/IMG_8751.jpg  \n",
            "  inflating: new_veggie_fruit_data/base/train/bitter_melon/IMG_03334.jpg  \n",
            "   creating: new_veggie_fruit_data/base/train/red_radishes/\n",
            "  inflating: new_veggie_fruit_data/base/train/red_radishes/IMG_5354.JPG  \n",
            "  inflating: new_veggie_fruit_data/base/train/red_radishes/IMG_5350.JPG  \n",
            "  inflating: new_veggie_fruit_data/base/train/red_radishes/IMG_5353.JPG  \n",
            "  inflating: new_veggie_fruit_data/base/train/red_radishes/IMG_5351.JPG  \n",
            "   creating: new_veggie_fruit_data/base/train/peanut/\n",
            "  inflating: new_veggie_fruit_data/base/train/peanut/IMG_7088.JPG  \n",
            "  inflating: new_veggie_fruit_data/base/train/peanut/IMG_6997.JPG  \n",
            "  inflating: new_veggie_fruit_data/base/train/peanut/IMG_7005.JPG  \n",
            "  inflating: new_veggie_fruit_data/base/train/peanut/IMG_7084.JPG  \n",
            "  inflating: new_veggie_fruit_data/base/train/peanut/IMG_2791.JPG  \n",
            "  inflating: new_veggie_fruit_data/base/train/peanut/IMG_7210.JPG  \n",
            "  inflating: new_veggie_fruit_data/base/train/peanut/IMG_7004.JPG  \n",
            "  inflating: new_veggie_fruit_data/base/train/peanut/IMG_7089.JPG  \n",
            "  inflating: new_veggie_fruit_data/base/train/peanut/IMG_7085.JPG  \n",
            "  inflating: new_veggie_fruit_data/base/train/peanut/IMG_7002.JPG  \n",
            "  inflating: new_veggie_fruit_data/base/train/peanut/IMG_6998.JPG  \n",
            "  inflating: new_veggie_fruit_data/base/train/peanut/IMG_7083.JPG  \n",
            "  inflating: new_veggie_fruit_data/base/train/peanut/IMG_7209.JPG  \n",
            "  inflating: new_veggie_fruit_data/base/train/peanut/IMG_7087.JPG  \n",
            "  inflating: new_veggie_fruit_data/base/train/peanut/IMG_6999.JPG  \n",
            "   creating: new_veggie_fruit_data/base/validate/\n",
            "   creating: new_veggie_fruit_data/base/validate/water_melon/\n",
            "  inflating: new_veggie_fruit_data/base/validate/water_melon/IMG_1187.JPG  \n",
            "  inflating: new_veggie_fruit_data/base/validate/water_melon/IMG_03339.jpg  \n",
            "  inflating: new_veggie_fruit_data/base/validate/water_melon/IMG_03347.jpg  \n",
            "  inflating: new_veggie_fruit_data/base/validate/water_melon/IMG_6664.JPG  \n",
            "  inflating: new_veggie_fruit_data/base/validate/water_melon/IMG_03344.jpg  \n",
            "  inflating: new_veggie_fruit_data/base/validate/water_melon/IMG_1190.JPG  \n",
            "  inflating: new_veggie_fruit_data/base/validate/water_melon/IMG_03350.jpg  \n",
            "  inflating: new_veggie_fruit_data/base/validate/water_melon/IMG_03364.jpg  \n",
            "  inflating: new_veggie_fruit_data/base/validate/water_melon/IMG_0578.jpg  \n",
            "  inflating: new_veggie_fruit_data/base/validate/water_melon/IMG_03358.jpg  \n",
            "  inflating: new_veggie_fruit_data/base/validate/water_melon/IMG_03356.jpg  \n",
            "  inflating: new_veggie_fruit_data/base/validate/water_melon/IMG_6662.JPG  \n",
            "   creating: new_veggie_fruit_data/base/validate/tomato/\n",
            "  inflating: new_veggie_fruit_data/base/validate/tomato/IMG_03388.jpg  \n",
            "  inflating: new_veggie_fruit_data/base/validate/tomato/IMG_03381.jpg  \n",
            "  inflating: new_veggie_fruit_data/base/validate/tomato/IMG_7103.JPG  \n",
            "  inflating: new_veggie_fruit_data/base/validate/tomato/IMG_03433.jpg  \n",
            "  inflating: new_veggie_fruit_data/base/validate/tomato/IMG_6610.JPG  \n",
            "  inflating: new_veggie_fruit_data/base/validate/tomato/IMG_03377.jpg  \n",
            "  inflating: new_veggie_fruit_data/base/validate/tomato/IMG_03407.jpg  \n",
            "  inflating: new_veggie_fruit_data/base/validate/tomato/IMG_03366.jpg  \n",
            "  inflating: new_veggie_fruit_data/base/validate/tomato/IMG_03422.jpg  \n",
            "  inflating: new_veggie_fruit_data/base/validate/tomato/IMG_03412.jpg  \n",
            "  inflating: new_veggie_fruit_data/base/validate/tomato/IMG_03413.jpg  \n",
            "  inflating: new_veggie_fruit_data/base/validate/tomato/IMG_03361.jpg  \n",
            "  inflating: new_veggie_fruit_data/base/validate/tomato/IMG_03385.jpg  \n",
            "  inflating: new_veggie_fruit_data/base/validate/tomato/IMG_03355.jpg  \n",
            "  inflating: new_veggie_fruit_data/base/validate/tomato/IMG_03353.jpg  \n",
            "  inflating: new_veggie_fruit_data/base/validate/tomato/IMG_03393.jpg  \n",
            "  inflating: new_veggie_fruit_data/base/validate/tomato/IMG_03386.jpg  \n",
            "  inflating: new_veggie_fruit_data/base/validate/tomato/IMG_03410.jpg  \n",
            "  inflating: new_veggie_fruit_data/base/validate/tomato/IMG_03358.jpg  \n",
            "  inflating: new_veggie_fruit_data/base/validate/tomato/IMG_03420.jpg  \n",
            "  inflating: new_veggie_fruit_data/base/validate/tomato/IMG_03331.jpg  \n",
            "  inflating: new_veggie_fruit_data/base/validate/tomato/IMG_03379.jpg  \n",
            "  inflating: new_veggie_fruit_data/base/validate/tomato/IMG_03338.jpg  \n",
            "   creating: new_veggie_fruit_data/base/validate/celery/\n",
            "  inflating: new_veggie_fruit_data/base/validate/celery/IMG_5396.JPG  \n",
            "  inflating: new_veggie_fruit_data/base/validate/celery/IMG_9193.jpg  \n",
            "  inflating: new_veggie_fruit_data/base/validate/celery/IMG_6930.JPG  \n",
            "  inflating: new_veggie_fruit_data/base/validate/celery/IMG_6932.JPG  \n",
            "  inflating: new_veggie_fruit_data/base/validate/celery/IMG_6927.JPG  \n",
            "  inflating: new_veggie_fruit_data/base/validate/celery/IMG_6978.JPG  \n",
            "   creating: new_veggie_fruit_data/base/validate/cabbage/\n",
            "  inflating: new_veggie_fruit_data/base/validate/cabbage/IMG_03388.jpg  \n",
            "  inflating: new_veggie_fruit_data/base/validate/cabbage/IMG_9264.jpg  \n",
            "  inflating: new_veggie_fruit_data/base/validate/cabbage/IMG_03378.jpg  \n",
            "  inflating: new_veggie_fruit_data/base/validate/cabbage/IMG_03347.jpg  \n",
            "  inflating: new_veggie_fruit_data/base/validate/cabbage/IMG_03371.jpg  \n",
            "  inflating: new_veggie_fruit_data/base/validate/cabbage/IMG_03366.jpg  \n",
            "  inflating: new_veggie_fruit_data/base/validate/cabbage/IMG_03383.jpg  \n",
            "  inflating: new_veggie_fruit_data/base/validate/cabbage/IMG_03390.jpg  \n",
            "  inflating: new_veggie_fruit_data/base/validate/cabbage/IMG_03355.jpg  \n",
            "  inflating: new_veggie_fruit_data/base/validate/cabbage/IMG_03393.jpg  \n",
            "  inflating: new_veggie_fruit_data/base/validate/cabbage/IMG_03348.jpg  \n",
            "  inflating: new_veggie_fruit_data/base/validate/cabbage/IMG_03391.jpg  \n",
            "  inflating: new_veggie_fruit_data/base/validate/cabbage/IMG_03345.jpg  \n",
            "  inflating: new_veggie_fruit_data/base/validate/cabbage/IMG_03364.jpg  \n",
            "  inflating: new_veggie_fruit_data/base/validate/cabbage/IMG_03358.jpg  \n",
            "  inflating: new_veggie_fruit_data/base/validate/cabbage/IMG_9262.jpg  \n",
            "  inflating: new_veggie_fruit_data/base/validate/cabbage/IMG_03405.jpg  \n",
            "   creating: new_veggie_fruit_data/base/validate/durian/\n",
            "  inflating: new_veggie_fruit_data/base/validate/durian/IMG_9084.JPG  \n",
            "  inflating: new_veggie_fruit_data/base/validate/durian/IMG_9109.JPG  \n",
            "  inflating: new_veggie_fruit_data/base/validate/durian/IMG_9116.JPG  \n",
            "  inflating: new_veggie_fruit_data/base/validate/durian/IMG_9094.JPG  \n",
            "  inflating: new_veggie_fruit_data/base/validate/durian/IMG_9087.JPG  \n",
            "  inflating: new_veggie_fruit_data/base/validate/durian/IMG_9090.JPG  \n",
            "   creating: new_veggie_fruit_data/base/validate/eggplant/\n",
            "  inflating: new_veggie_fruit_data/base/validate/eggplant/IMG_03388.jpg  \n",
            "  inflating: new_veggie_fruit_data/base/validate/eggplant/IMG_0316.jpg  \n",
            "  inflating: new_veggie_fruit_data/base/validate/eggplant/IMG_03377.jpg  \n",
            "  inflating: new_veggie_fruit_data/base/validate/eggplant/IMG_03402.jpg  \n",
            "  inflating: new_veggie_fruit_data/base/validate/eggplant/IMG_03351.jpg  \n",
            "  inflating: new_veggie_fruit_data/base/validate/eggplant/IMG_03372.jpg  \n",
            "  inflating: new_veggie_fruit_data/base/validate/eggplant/IMG_3668.jpg  \n",
            "  inflating: new_veggie_fruit_data/base/validate/eggplant/IMG_7137.JPG  \n",
            "  inflating: new_veggie_fruit_data/base/validate/eggplant/IMG_03369.jpg  \n",
            "  inflating: new_veggie_fruit_data/base/validate/eggplant/IMG_03355.jpg  \n",
            "  inflating: new_veggie_fruit_data/base/validate/eggplant/IMG_03363.jpg  \n",
            "  inflating: new_veggie_fruit_data/base/validate/eggplant/IMG_03353.jpg  \n",
            "  inflating: new_veggie_fruit_data/base/validate/eggplant/IMG_03393.jpg  \n",
            "  inflating: new_veggie_fruit_data/base/validate/eggplant/IMG_0382.jpg  \n",
            "  inflating: new_veggie_fruit_data/base/validate/eggplant/IMG_0395.jpg  \n",
            "  inflating: new_veggie_fruit_data/base/validate/eggplant/IMG_7813.jpg  \n",
            "  inflating: new_veggie_fruit_data/base/validate/eggplant/IMG_7155.JPG  \n",
            "  inflating: new_veggie_fruit_data/base/validate/eggplant/IMG_03379.jpg  \n",
            "  inflating: new_veggie_fruit_data/base/validate/eggplant/IMG_03401.jpg  \n",
            "   creating: new_veggie_fruit_data/base/validate/lemon/\n",
            "  inflating: new_veggie_fruit_data/base/validate/lemon/IMG_4870.JPG  \n",
            "  inflating: new_veggie_fruit_data/base/validate/lemon/IMG_03340.jpg  \n",
            "  inflating: new_veggie_fruit_data/base/validate/lemon/IMG_03351.jpg  \n",
            "  inflating: new_veggie_fruit_data/base/validate/lemon/IMG_03350.jpg  \n",
            "  inflating: new_veggie_fruit_data/base/validate/lemon/IMG_03354.jpg  \n",
            "  inflating: new_veggie_fruit_data/base/validate/lemon/IMG_4872.JPG  \n",
            "  inflating: new_veggie_fruit_data/base/validate/lemon/IMG_03346.jpg  \n",
            "  inflating: new_veggie_fruit_data/base/validate/lemon/IMG_03370.jpg  \n",
            "  inflating: new_veggie_fruit_data/base/validate/lemon/IMG_03357.jpg  \n",
            "  inflating: new_veggie_fruit_data/base/validate/lemon/IMG_03362.jpg  \n",
            "   creating: new_veggie_fruit_data/base/validate/dragon_fruit/\n",
            "  inflating: new_veggie_fruit_data/base/validate/dragon_fruit/IMG_03388.jpg  \n",
            "  inflating: new_veggie_fruit_data/base/validate/dragon_fruit/IMG_03374.jpg  \n",
            "  inflating: new_veggie_fruit_data/base/validate/dragon_fruit/IMG_03372.jpg  \n",
            "  inflating: new_veggie_fruit_data/base/validate/dragon_fruit/IMG_03385.jpg  \n",
            "  inflating: new_veggie_fruit_data/base/validate/dragon_fruit/IMG_03390.jpg  \n",
            "  inflating: new_veggie_fruit_data/base/validate/dragon_fruit/IMG_03387.jpg  \n",
            "  inflating: new_veggie_fruit_data/base/validate/dragon_fruit/IMG_03354.jpg  \n",
            "  inflating: new_veggie_fruit_data/base/validate/dragon_fruit/IMG_03393.jpg  \n",
            "  inflating: new_veggie_fruit_data/base/validate/dragon_fruit/IMG_03357.jpg  \n",
            "  inflating: new_veggie_fruit_data/base/validate/dragon_fruit/IMG_03345.jpg  \n",
            "  inflating: new_veggie_fruit_data/base/validate/dragon_fruit/IMG_03362.jpg  \n",
            "  inflating: new_veggie_fruit_data/base/validate/dragon_fruit/IMG_03367.jpg  \n",
            "  inflating: new_veggie_fruit_data/base/validate/dragon_fruit/IMG_03356.jpg  \n",
            "  inflating: new_veggie_fruit_data/base/validate/dragon_fruit/IMG_03379.jpg  \n",
            "  inflating: new_veggie_fruit_data/base/validate/dragon_fruit/IMG_03330.jpg  \n",
            "   creating: new_veggie_fruit_data/base/validate/banana/\n",
            "  inflating: new_veggie_fruit_data/base/validate/banana/IMG_03388.jpg  \n",
            "  inflating: new_veggie_fruit_data/base/validate/banana/IMG_03335.jpg  \n",
            "  inflating: new_veggie_fruit_data/base/validate/banana/IMG_03406.jpg  \n",
            "  inflating: new_veggie_fruit_data/base/validate/banana/IMG_03337.jpg  \n",
            "  inflating: new_veggie_fruit_data/base/validate/banana/IMG_03339.jpg  \n",
            "  inflating: new_veggie_fruit_data/base/validate/banana/IMG_03347.jpg  \n",
            "  inflating: new_veggie_fruit_data/base/validate/banana/IMG_03361.jpg  \n",
            "  inflating: new_veggie_fruit_data/base/validate/banana/IMG_03399.jpg  \n",
            "  inflating: new_veggie_fruit_data/base/validate/banana/IMG_03393.jpg  \n",
            "  inflating: new_veggie_fruit_data/base/validate/banana/IMG_03391.jpg  \n",
            "  inflating: new_veggie_fruit_data/base/validate/banana/IMG_03396.jpg  \n",
            "  inflating: new_veggie_fruit_data/base/validate/banana/IMG_03357.jpg  \n",
            "  inflating: new_veggie_fruit_data/base/validate/banana/IMG_03362.jpg  \n",
            "  inflating: new_veggie_fruit_data/base/validate/banana/IMG_1193.JPG  \n",
            "  inflating: new_veggie_fruit_data/base/validate/banana/IMG_03358.jpg  \n",
            "  inflating: new_veggie_fruit_data/base/validate/banana/IMG_03356.jpg  \n",
            "  inflating: new_veggie_fruit_data/base/validate/banana/IMG_03379.jpg  \n",
            "  inflating: new_veggie_fruit_data/base/validate/banana/IMG_03405.jpg  \n",
            "   creating: new_veggie_fruit_data/base/validate/kabocha_squash/\n",
            "  inflating: new_veggie_fruit_data/base/validate/kabocha_squash/IMG_03456.jpg  \n",
            "  inflating: new_veggie_fruit_data/base/validate/kabocha_squash/IMG_03446.jpg  \n",
            "  inflating: new_veggie_fruit_data/base/validate/kabocha_squash/IMG_03451.jpg  \n",
            "  inflating: new_veggie_fruit_data/base/validate/kabocha_squash/IMG_03492.jpg  \n",
            "  inflating: new_veggie_fruit_data/base/validate/kabocha_squash/IMG_03493.jpg  \n",
            "  inflating: new_veggie_fruit_data/base/validate/kabocha_squash/IMG_03464.jpg  \n",
            "  inflating: new_veggie_fruit_data/base/validate/kabocha_squash/IMG_03476.jpg  \n",
            "  inflating: new_veggie_fruit_data/base/validate/kabocha_squash/IMG_3661.jpg  \n",
            "  inflating: new_veggie_fruit_data/base/validate/kabocha_squash/IMG_03475.jpg  \n",
            "  inflating: new_veggie_fruit_data/base/validate/kabocha_squash/IMG_03466.jpg  \n",
            "  inflating: new_veggie_fruit_data/base/validate/kabocha_squash/IMG_03490.jpg  \n",
            "  inflating: new_veggie_fruit_data/base/validate/kabocha_squash/IMG_03438.jpg  \n",
            "  inflating: new_veggie_fruit_data/base/validate/kabocha_squash/IMG_03484.jpg  \n",
            "   creating: new_veggie_fruit_data/base/validate/green_onion/\n",
            "  inflating: new_veggie_fruit_data/base/validate/green_onion/IMG_03411.jpg  \n",
            "  inflating: new_veggie_fruit_data/base/validate/green_onion/IMG_03414.jpg  \n",
            "  inflating: new_veggie_fruit_data/base/validate/green_onion/IMG_03397.jpg  \n",
            "  inflating: new_veggie_fruit_data/base/validate/green_onion/IMG_03366.jpg  \n",
            "  inflating: new_veggie_fruit_data/base/validate/green_onion/IMG_03383.jpg  \n",
            "  inflating: new_veggie_fruit_data/base/validate/green_onion/IMG_03341.jpg  \n",
            "  inflating: new_veggie_fruit_data/base/validate/green_onion/IMG_03422.jpg  \n",
            "  inflating: new_veggie_fruit_data/base/validate/green_onion/IMG_03398.jpg  \n",
            "  inflating: new_veggie_fruit_data/base/validate/green_onion/IMG_03333.jpg  \n",
            "  inflating: new_veggie_fruit_data/base/validate/green_onion/IMG_03390.jpg  \n",
            "  inflating: new_veggie_fruit_data/base/validate/green_onion/IMG_3221.jpg  \n",
            "  inflating: new_veggie_fruit_data/base/validate/green_onion/IMG_03399.jpg  \n",
            "  inflating: new_veggie_fruit_data/base/validate/green_onion/IMG_0302.jpg  \n",
            "  inflating: new_veggie_fruit_data/base/validate/green_onion/IMG_3169.jpg  \n",
            "  inflating: new_veggie_fruit_data/base/validate/green_onion/IMG_0301.jpg  \n",
            "  inflating: new_veggie_fruit_data/base/validate/green_onion/IMG_03357.jpg  \n",
            "  inflating: new_veggie_fruit_data/base/validate/green_onion/IMG_1266.JPG  \n",
            "  inflating: new_veggie_fruit_data/base/validate/green_onion/IMG_03368.jpg  \n",
            "  inflating: new_veggie_fruit_data/base/validate/green_onion/IMG_03426.jpg  \n",
            "  inflating: new_veggie_fruit_data/base/validate/green_onion/IMG_03358.jpg  \n",
            "  inflating: new_veggie_fruit_data/base/validate/green_onion/IMG_03409.jpg  \n",
            "  inflating: new_veggie_fruit_data/base/validate/green_onion/IMG_1268.JPG  \n",
            "  inflating: new_veggie_fruit_data/base/validate/green_onion/IMG_03356.jpg  \n",
            "  inflating: new_veggie_fruit_data/base/validate/green_onion/IMG_03379.jpg  \n",
            "  inflating: new_veggie_fruit_data/base/validate/green_onion/IMG_03338.jpg  \n",
            "  inflating: new_veggie_fruit_data/base/validate/green_onion/IMG_03342.jpg  \n",
            "  inflating: new_veggie_fruit_data/base/validate/green_onion/IMG_3220.jpg  \n",
            "   creating: new_veggie_fruit_data/base/validate/carrot/\n",
            "  inflating: new_veggie_fruit_data/base/validate/carrot/IMG_8664.jpg  \n",
            "  inflating: new_veggie_fruit_data/base/validate/carrot/IMG_9198.jpg  \n",
            "  inflating: new_veggie_fruit_data/base/validate/carrot/IMG_8665.jpg  \n",
            "  inflating: new_veggie_fruit_data/base/validate/carrot/IMG_3206.jpg  \n",
            "  inflating: new_veggie_fruit_data/base/validate/carrot/IMG_7224.JPG  \n",
            "  inflating: new_veggie_fruit_data/base/validate/carrot/IMG_7229.JPG  \n",
            "  inflating: new_veggie_fruit_data/base/validate/carrot/IMG_9208.jpg  \n",
            "   creating: new_veggie_fruit_data/base/validate/pomegranate/\n",
            "  inflating: new_veggie_fruit_data/base/validate/pomegranate/IMG_7303.JPG  \n",
            "  inflating: new_veggie_fruit_data/base/validate/pomegranate/IMG_7304.JPG  \n",
            "  inflating: new_veggie_fruit_data/base/validate/pomegranate/IMG_7280.JPG  \n",
            "  inflating: new_veggie_fruit_data/base/validate/pomegranate/IMG_7278.JPG  \n",
            "  inflating: new_veggie_fruit_data/base/validate/pomegranate/IMG_6621.JPG  \n",
            "  inflating: new_veggie_fruit_data/base/validate/pomegranate/IMG_7281.JPG  \n",
            "   creating: new_veggie_fruit_data/base/validate/long_bean/\n",
            "  inflating: new_veggie_fruit_data/base/validate/long_bean/IMG_6606.JPG  \n",
            "  inflating: new_veggie_fruit_data/base/validate/long_bean/IMG_6605.JPG  \n",
            "  inflating: new_veggie_fruit_data/base/validate/long_bean/IMG_6609.JPG  \n",
            "  inflating: new_veggie_fruit_data/base/validate/long_bean/IMG_7009.JPG  \n",
            "  inflating: new_veggie_fruit_data/base/validate/long_bean/IMG_7010.JPG  \n",
            "  inflating: new_veggie_fruit_data/base/validate/long_bean/IMG_5533.JPG  \n",
            "   creating: new_veggie_fruit_data/base/validate/okra/\n",
            "  inflating: new_veggie_fruit_data/base/validate/okra/IMG_8634.jpg  \n",
            "  inflating: new_veggie_fruit_data/base/validate/okra/IMG_7123.JPG  \n",
            "  inflating: new_veggie_fruit_data/base/validate/okra/IMG_2777.JPG  \n",
            "  inflating: new_veggie_fruit_data/base/validate/okra/IMG_0378.jpg  \n",
            "  inflating: new_veggie_fruit_data/base/validate/okra/IMG_7125.JPG  \n",
            "  inflating: new_veggie_fruit_data/base/validate/okra/IMG_7248.JPG  \n",
            "  inflating: new_veggie_fruit_data/base/validate/okra/IMG_8680.jpg  \n",
            "   creating: new_veggie_fruit_data/base/validate/lime/\n",
            "  inflating: new_veggie_fruit_data/base/validate/lime/IMG_2159.JPG  \n",
            "  inflating: new_veggie_fruit_data/base/validate/lime/IMG_03337.jpg  \n",
            "  inflating: new_veggie_fruit_data/base/validate/lime/IMG_03347.jpg  \n",
            "  inflating: new_veggie_fruit_data/base/validate/lime/IMG_03351.jpg  \n",
            "  inflating: new_veggie_fruit_data/base/validate/lime/IMG_03330.jpg  \n",
            "  inflating: new_veggie_fruit_data/base/validate/lime/IMG_03338.jpg  \n",
            "  inflating: new_veggie_fruit_data/base/validate/lime/IMG_03342.jpg  \n",
            "   creating: new_veggie_fruit_data/base/validate/red_chicory/\n",
            "  inflating: new_veggie_fruit_data/base/validate/red_chicory/IMG_3686.jpg  \n",
            "   creating: new_veggie_fruit_data/base/validate/yellow_peach/\n",
            "  inflating: new_veggie_fruit_data/base/validate/yellow_peach/IMG_7717.jpg  \n",
            "   creating: new_veggie_fruit_data/base/validate/corn/\n",
            "  inflating: new_veggie_fruit_data/base/validate/corn/IMG_03343.jpg  \n",
            "  inflating: new_veggie_fruit_data/base/validate/corn/IMG_1256.JPG  \n",
            "  inflating: new_veggie_fruit_data/base/validate/corn/IMG_03371.jpg  \n",
            "  inflating: new_veggie_fruit_data/base/validate/corn/IMG_03366.jpg  \n",
            "  inflating: new_veggie_fruit_data/base/validate/corn/IMG_03361.jpg  \n",
            "  inflating: new_veggie_fruit_data/base/validate/corn/IMG_03350.jpg  \n",
            "  inflating: new_veggie_fruit_data/base/validate/corn/IMG_03346.jpg  \n",
            "  inflating: new_veggie_fruit_data/base/validate/corn/IMG_03370.jpg  \n",
            "  inflating: new_veggie_fruit_data/base/validate/corn/IMG_03345.jpg  \n",
            "  inflating: new_veggie_fruit_data/base/validate/corn/IMG_03375.jpg  \n",
            "  inflating: new_veggie_fruit_data/base/validate/corn/IMG_03362.jpg  \n",
            "  inflating: new_veggie_fruit_data/base/validate/corn/IMG_03356.jpg  \n",
            "   creating: new_veggie_fruit_data/base/validate/cauliflower/\n",
            "  inflating: new_veggie_fruit_data/base/validate/cauliflower/IMG_7743.jpg  \n",
            "  inflating: new_veggie_fruit_data/base/validate/cauliflower/IMG_03381.jpg  \n",
            "  inflating: new_veggie_fruit_data/base/validate/cauliflower/IMG_03343.jpg  \n",
            "  inflating: new_veggie_fruit_data/base/validate/cauliflower/IMG_0289.jpg  \n",
            "  inflating: new_veggie_fruit_data/base/validate/cauliflower/IMG_03378.jpg  \n",
            "  inflating: new_veggie_fruit_data/base/validate/cauliflower/IMG_03383.jpg  \n",
            "  inflating: new_veggie_fruit_data/base/validate/cauliflower/IMG_03333.jpg  \n",
            "  inflating: new_veggie_fruit_data/base/validate/cauliflower/IMG_03390.jpg  \n",
            "  inflating: new_veggie_fruit_data/base/validate/cauliflower/IMG_03355.jpg  \n",
            "  inflating: new_veggie_fruit_data/base/validate/cauliflower/IMG_03363.jpg  \n",
            "  inflating: new_veggie_fruit_data/base/validate/cauliflower/IMG_03387.jpg  \n",
            "  inflating: new_veggie_fruit_data/base/validate/cauliflower/IMG_03368.jpg  \n",
            "  inflating: new_veggie_fruit_data/base/validate/cauliflower/IMG_3237.jpg  \n",
            "  inflating: new_veggie_fruit_data/base/validate/cauliflower/IMG_03358.jpg  \n",
            "  inflating: new_veggie_fruit_data/base/validate/cauliflower/IMG_03367.jpg  \n",
            "  inflating: new_veggie_fruit_data/base/validate/cauliflower/IMG_3197.jpg  \n",
            "  inflating: new_veggie_fruit_data/base/validate/cauliflower/IMG_03382.jpg  \n",
            "  inflating: new_veggie_fruit_data/base/validate/cauliflower/IMG_9177.jpg  \n",
            "  inflating: new_veggie_fruit_data/base/validate/cauliflower/IMG_03334.jpg  \n",
            "   creating: new_veggie_fruit_data/base/validate/chinese_cabbage/\n",
            "  inflating: new_veggie_fruit_data/base/validate/chinese_cabbage/IMG_9156.jpg  \n",
            "   creating: new_veggie_fruit_data/base/validate/broccoli/\n",
            "  inflating: new_veggie_fruit_data/base/validate/broccoli/IMG_3175.jpg  \n",
            "  inflating: new_veggie_fruit_data/base/validate/broccoli/IMG_03340.jpg  \n",
            "  inflating: new_veggie_fruit_data/base/validate/broccoli/IMG_03397.jpg  \n",
            "  inflating: new_veggie_fruit_data/base/validate/broccoli/IMG_1275.JPG  \n",
            "  inflating: new_veggie_fruit_data/base/validate/broccoli/IMG_03351.jpg  \n",
            "  inflating: new_veggie_fruit_data/base/validate/broccoli/IMG_03398.jpg  \n",
            "  inflating: new_veggie_fruit_data/base/validate/broccoli/IMG_03385.jpg  \n",
            "  inflating: new_veggie_fruit_data/base/validate/broccoli/IMG_9191.jpg  \n",
            "  inflating: new_veggie_fruit_data/base/validate/broccoli/IMG_03387.jpg  \n",
            "  inflating: new_veggie_fruit_data/base/validate/broccoli/IMG_03399.jpg  \n",
            "  inflating: new_veggie_fruit_data/base/validate/broccoli/IMG_3210.jpg  \n",
            "  inflating: new_veggie_fruit_data/base/validate/broccoli/IMG_03348.jpg  \n",
            "  inflating: new_veggie_fruit_data/base/validate/broccoli/IMG_3211.jpg  \n",
            "  inflating: new_veggie_fruit_data/base/validate/broccoli/IMG_0320.jpg  \n",
            "  inflating: new_veggie_fruit_data/base/validate/broccoli/IMG_0319.jpg  \n",
            "  inflating: new_veggie_fruit_data/base/validate/broccoli/IMG_03403.jpg  \n",
            "  inflating: new_veggie_fruit_data/base/validate/broccoli/IMG_03386.jpg  \n",
            "  inflating: new_veggie_fruit_data/base/validate/broccoli/IMG_03375.jpg  \n",
            "  inflating: new_veggie_fruit_data/base/validate/broccoli/IMG_03368.jpg  \n",
            "  inflating: new_veggie_fruit_data/base/validate/broccoli/IMG_03392.jpg  \n",
            "  inflating: new_veggie_fruit_data/base/validate/broccoli/IMG_9211.jpg  \n",
            "  inflating: new_veggie_fruit_data/base/validate/broccoli/IMG_03342.jpg  \n",
            "  inflating: new_veggie_fruit_data/base/validate/broccoli/IMG_03382.jpg  \n",
            "  inflating: new_veggie_fruit_data/base/validate/broccoli/IMG_3177.jpg  \n",
            "   creating: new_veggie_fruit_data/base/validate/strawberry/\n",
            "  inflating: new_veggie_fruit_data/base/validate/strawberry/IMG_8766.jpg  \n",
            "  inflating: new_veggie_fruit_data/base/validate/strawberry/IMG_7897.jpg  \n",
            "  inflating: new_veggie_fruit_data/base/validate/strawberry/IMG_7903.jpg  \n",
            "  inflating: new_veggie_fruit_data/base/validate/strawberry/IMG_8662.jpg  \n",
            "   creating: new_veggie_fruit_data/base/validate/fava_beans/\n",
            "  inflating: new_veggie_fruit_data/base/validate/fava_beans/IMG_5391.JPG  \n",
            "   creating: new_veggie_fruit_data/base/validate/white_peach/\n",
            "  inflating: new_veggie_fruit_data/base/validate/white_peach/IMG_7267.JPG  \n",
            "  inflating: new_veggie_fruit_data/base/validate/white_peach/IMG_7708.jpg  \n",
            "   creating: new_veggie_fruit_data/base/validate/kale/\n",
            "  inflating: new_veggie_fruit_data/base/validate/kale/IMG_6882.JPG  \n",
            "  inflating: new_veggie_fruit_data/base/validate/kale/IMG_7289.JPG  \n",
            "  inflating: new_veggie_fruit_data/base/validate/kale/IMG_7286.JPG  \n",
            "  inflating: new_veggie_fruit_data/base/validate/kale/IMG_6976.JPG  \n",
            "   creating: new_veggie_fruit_data/base/validate/green_bean/\n",
            "  inflating: new_veggie_fruit_data/base/validate/green_bean/IMG_6970.JPG  \n",
            "  inflating: new_veggie_fruit_data/base/validate/green_bean/IMG_6969.JPG  \n",
            "  inflating: new_veggie_fruit_data/base/validate/green_bean/IMG_03355.jpg  \n",
            "  inflating: new_veggie_fruit_data/base/validate/green_bean/IMG_03353.jpg  \n",
            "  inflating: new_veggie_fruit_data/base/validate/green_bean/IMG_03350.jpg  \n",
            "  inflating: new_veggie_fruit_data/base/validate/green_bean/IMG_6971.JPG  \n",
            "  inflating: new_veggie_fruit_data/base/validate/green_bean/IMG_03356.jpg  \n",
            "  inflating: new_veggie_fruit_data/base/validate/green_bean/IMG_03338.jpg  \n",
            "   creating: new_veggie_fruit_data/base/validate/ginger/\n",
            "  inflating: new_veggie_fruit_data/base/validate/ginger/IMG_4879.JPG  \n",
            "  inflating: new_veggie_fruit_data/base/validate/ginger/IMG_2214.JPG  \n",
            "  inflating: new_veggie_fruit_data/base/validate/ginger/IMG_1304.JPG  \n",
            "  inflating: new_veggie_fruit_data/base/validate/ginger/IMG_2213.JPG  \n",
            "   creating: new_veggie_fruit_data/base/validate/bok_choy/\n",
            "  inflating: new_veggie_fruit_data/base/validate/bok_choy/IMG_5383.JPG  \n",
            "  inflating: new_veggie_fruit_data/base/validate/bok_choy/IMG_3230.jpg  \n",
            "  inflating: new_veggie_fruit_data/base/validate/bok_choy/IMG_0480.jpg  \n",
            "  inflating: new_veggie_fruit_data/base/validate/bok_choy/IMG_3228.jpg  \n",
            "  inflating: new_veggie_fruit_data/base/validate/bok_choy/IMG_5380.JPG  \n",
            "  inflating: new_veggie_fruit_data/base/validate/bok_choy/IMG_0386.jpg  \n",
            "  inflating: new_veggie_fruit_data/base/validate/bok_choy/IMG_3216.jpg  \n",
            "   creating: new_veggie_fruit_data/base/validate/redbor_kale/\n",
            "  inflating: new_veggie_fruit_data/base/validate/redbor_kale/IMG_3732.jpg  \n",
            "   creating: new_veggie_fruit_data/base/validate/red_onion/\n",
            "  inflating: new_veggie_fruit_data/base/validate/red_onion/IMG_03343.jpg  \n",
            "  inflating: new_veggie_fruit_data/base/validate/red_onion/IMG_1297.JPG  \n",
            "  inflating: new_veggie_fruit_data/base/validate/red_onion/IMG_4948.JPG  \n",
            "  inflating: new_veggie_fruit_data/base/validate/red_onion/IMG_1295.JPG  \n",
            "  inflating: new_veggie_fruit_data/base/validate/red_onion/IMG_03351.jpg  \n",
            "  inflating: new_veggie_fruit_data/base/validate/red_onion/IMG_03372.jpg  \n",
            "  inflating: new_veggie_fruit_data/base/validate/red_onion/IMG_03348.jpg  \n",
            "  inflating: new_veggie_fruit_data/base/validate/red_onion/IMG_4947.JPG  \n",
            "  inflating: new_veggie_fruit_data/base/validate/red_onion/IMG_03345.jpg  \n",
            "  inflating: new_veggie_fruit_data/base/validate/red_onion/IMG_03368.jpg  \n",
            "  inflating: new_veggie_fruit_data/base/validate/red_onion/IMG_03352.jpg  \n",
            "  inflating: new_veggie_fruit_data/base/validate/red_onion/IMG_03367.jpg  \n",
            "  inflating: new_veggie_fruit_data/base/validate/red_onion/IMG_03330.jpg  \n",
            "  inflating: new_veggie_fruit_data/base/validate/red_onion/IMG_03338.jpg  \n",
            "  inflating: new_veggie_fruit_data/base/validate/red_onion/IMG_03382.jpg  \n",
            "   creating: new_veggie_fruit_data/base/validate/butternut/\n",
            "  inflating: new_veggie_fruit_data/base/validate/butternut/IMG_5362.JPG  \n",
            "   creating: new_veggie_fruit_data/base/validate/mandarin/\n",
            "  inflating: new_veggie_fruit_data/base/validate/mandarin/IMG_4954.JPG  \n",
            "  inflating: new_veggie_fruit_data/base/validate/mandarin/IMG_4952.JPG  \n",
            "  inflating: new_veggie_fruit_data/base/validate/mandarin/IMG_9229.jpg  \n",
            "  inflating: new_veggie_fruit_data/base/validate/mandarin/IMG_5332.JPG  \n",
            "   creating: new_veggie_fruit_data/base/validate/persimmon/\n",
            "  inflating: new_veggie_fruit_data/base/validate/persimmon/IMG_9222.jpg  \n",
            "   creating: new_veggie_fruit_data/base/validate/artichoke/\n",
            "  inflating: new_veggie_fruit_data/base/validate/artichoke/IMG_7222.JPG  \n",
            "  inflating: new_veggie_fruit_data/base/validate/artichoke/IMG_5358.JPG  \n",
            "  inflating: new_veggie_fruit_data/base/validate/artichoke/IMG_5357.JPG  \n",
            "   creating: new_veggie_fruit_data/base/validate/avocado/\n",
            "  inflating: new_veggie_fruit_data/base/validate/avocado/IMG_1919.JPG  \n",
            "  inflating: new_veggie_fruit_data/base/validate/avocado/IMG_1923.JPG  \n",
            "  inflating: new_veggie_fruit_data/base/validate/avocado/IMG_1916.JPG  \n",
            "  inflating: new_veggie_fruit_data/base/validate/avocado/IMG_03351.jpg  \n",
            "  inflating: new_veggie_fruit_data/base/validate/avocado/IMG_03350.jpg  \n",
            "  inflating: new_veggie_fruit_data/base/validate/avocado/IMG_03346.jpg  \n",
            "  inflating: new_veggie_fruit_data/base/validate/avocado/IMG_03357.jpg  \n",
            "  inflating: new_veggie_fruit_data/base/validate/avocado/IMG_03364.jpg  \n",
            "  inflating: new_veggie_fruit_data/base/validate/avocado/IMG_1920.JPG  \n",
            "  inflating: new_veggie_fruit_data/base/validate/avocado/IMG_03358.jpg  \n",
            "  inflating: new_veggie_fruit_data/base/validate/avocado/IMG_03342.jpg  \n",
            "   creating: new_veggie_fruit_data/base/validate/napa_cabbage/\n",
            "  inflating: new_veggie_fruit_data/base/validate/napa_cabbage/IMG_0411.jpg  \n",
            "  inflating: new_veggie_fruit_data/base/validate/napa_cabbage/IMG_0408.jpg  \n",
            "   creating: new_veggie_fruit_data/base/validate/pineapple/\n",
            "  inflating: new_veggie_fruit_data/base/validate/pineapple/IMG_03347.jpg  \n",
            "  inflating: new_veggie_fruit_data/base/validate/pineapple/IMG_03341.jpg  \n",
            "  inflating: new_veggie_fruit_data/base/validate/pineapple/IMG_1208.JPG  \n",
            "  inflating: new_veggie_fruit_data/base/validate/pineapple/IMG_03350.jpg  \n",
            "  inflating: new_veggie_fruit_data/base/validate/pineapple/IMG_4872.JPG  \n",
            "  inflating: new_veggie_fruit_data/base/validate/pineapple/IMG_0101.jpg  \n",
            "  inflating: new_veggie_fruit_data/base/validate/pineapple/IMG_03345.jpg  \n",
            "  inflating: new_veggie_fruit_data/base/validate/pineapple/IMG_0132.jpg  \n",
            "  inflating: new_veggie_fruit_data/base/validate/pineapple/IMG_03368.jpg  \n",
            "  inflating: new_veggie_fruit_data/base/validate/pineapple/IMG_03364.jpg  \n",
            "  inflating: new_veggie_fruit_data/base/validate/pineapple/IMG_03358.jpg  \n",
            "   creating: new_veggie_fruit_data/base/validate/white_nectarine/\n",
            "  inflating: new_veggie_fruit_data/base/validate/white_nectarine/IMG_7238.JPG  \n",
            "  inflating: new_veggie_fruit_data/base/validate/white_nectarine/IMG_7236.JPG  \n",
            "  inflating: new_veggie_fruit_data/base/validate/white_nectarine/IMG_7272.JPG  \n",
            "   creating: new_veggie_fruit_data/base/validate/papaya/\n",
            "  inflating: new_veggie_fruit_data/base/validate/papaya/IMG_03388.jpg  \n",
            "  inflating: new_veggie_fruit_data/base/validate/papaya/IMG_03397.jpg  \n",
            "  inflating: new_veggie_fruit_data/base/validate/papaya/IMG_03339.jpg  \n",
            "  inflating: new_veggie_fruit_data/base/validate/papaya/IMG_03378.jpg  \n",
            "  inflating: new_veggie_fruit_data/base/validate/papaya/IMG_03383.jpg  \n",
            "  inflating: new_veggie_fruit_data/base/validate/papaya/IMG_1231.JPG  \n",
            "  inflating: new_veggie_fruit_data/base/validate/papaya/IMG_03390.jpg  \n",
            "  inflating: new_veggie_fruit_data/base/validate/papaya/IMG_03355.jpg  \n",
            "  inflating: new_veggie_fruit_data/base/validate/papaya/IMG_03391.jpg  \n",
            "  inflating: new_veggie_fruit_data/base/validate/papaya/IMG_03396.jpg  \n",
            "  inflating: new_veggie_fruit_data/base/validate/papaya/IMG_03345.jpg  \n",
            "  inflating: new_veggie_fruit_data/base/validate/papaya/IMG_1234.JPG  \n",
            "  inflating: new_veggie_fruit_data/base/validate/papaya/IMG_03368.jpg  \n",
            "  inflating: new_veggie_fruit_data/base/validate/papaya/IMG_4938.JPG  \n",
            "  inflating: new_veggie_fruit_data/base/validate/papaya/IMG_03364.jpg  \n",
            "  inflating: new_veggie_fruit_data/base/validate/papaya/IMG_03358.jpg  \n",
            "  inflating: new_veggie_fruit_data/base/validate/papaya/IMG_4941.JPG  \n",
            "  inflating: new_veggie_fruit_data/base/validate/papaya/IMG_1213.JPG  \n",
            "  inflating: new_veggie_fruit_data/base/validate/papaya/IMG_03379.jpg  \n",
            "   creating: new_veggie_fruit_data/base/validate/cherry_tomato/\n",
            "  inflating: new_veggie_fruit_data/base/validate/cherry_tomato/IMG_7913.jpg  \n",
            "  inflating: new_veggie_fruit_data/base/validate/cherry_tomato/IMG_7793.jpg  \n",
            "  inflating: new_veggie_fruit_data/base/validate/cherry_tomato/IMG_2668.JPG  \n",
            "   creating: new_veggie_fruit_data/base/validate/bitter_melon/\n",
            "  inflating: new_veggie_fruit_data/base/validate/bitter_melon/IMG_8754.jpg  \n",
            "  inflating: new_veggie_fruit_data/base/validate/bitter_melon/IMG_7862.jpg  \n",
            "  inflating: new_veggie_fruit_data/base/validate/bitter_melon/IMG_7116.JPG  \n",
            "  inflating: new_veggie_fruit_data/base/validate/bitter_melon/IMG_03347.jpg  \n",
            "  inflating: new_veggie_fruit_data/base/validate/bitter_melon/IMG_6973.JPG  \n",
            "  inflating: new_veggie_fruit_data/base/validate/bitter_melon/IMG_03371.jpg  \n",
            "  inflating: new_veggie_fruit_data/base/validate/bitter_melon/IMG_03346.jpg  \n",
            "  inflating: new_veggie_fruit_data/base/validate/bitter_melon/IMG_7119.JPG  \n",
            "  inflating: new_veggie_fruit_data/base/validate/bitter_melon/IMG_03368.jpg  \n",
            "  inflating: new_veggie_fruit_data/base/validate/bitter_melon/IMG_03365.jpg  \n",
            "  inflating: new_veggie_fruit_data/base/validate/bitter_melon/IMG_03367.jpg  \n",
            "  inflating: new_veggie_fruit_data/base/validate/bitter_melon/IMG_7864.jpg  \n",
            "  inflating: new_veggie_fruit_data/base/validate/bitter_melon/IMG_03356.jpg  \n",
            "  inflating: new_veggie_fruit_data/base/validate/bitter_melon/IMG_7130.JPG  \n",
            "   creating: new_veggie_fruit_data/base/validate/red_radishes/\n",
            "  inflating: new_veggie_fruit_data/base/validate/red_radishes/IMG_5352.JPG  \n",
            "   creating: new_veggie_fruit_data/base/validate/peanut/\n",
            "  inflating: new_veggie_fruit_data/base/validate/peanut/IMG_7086.JPG  \n",
            "  inflating: new_veggie_fruit_data/base/validate/peanut/IMG_7208.JPG  \n",
            "  inflating: new_veggie_fruit_data/base/validate/peanut/IMG_2745.JPG  \n",
            "  inflating: new_veggie_fruit_data/base/validate/peanut/IMG_7001.JPG  \n",
            "   creating: new_veggie_fruit_data/fewshot/\n",
            "   creating: new_veggie_fruit_data/fewshot/train/\n",
            "   creating: new_veggie_fruit_data/fewshot/train/lemongrass/\n",
            "  inflating: new_veggie_fruit_data/fewshot/train/lemongrass/IMG_5562.JPG  \n",
            "  inflating: new_veggie_fruit_data/fewshot/train/lemongrass/IMG_5560.JPG  \n",
            "  inflating: new_veggie_fruit_data/fewshot/train/lemongrass/IMG_7015.JPG  \n",
            "  inflating: new_veggie_fruit_data/fewshot/train/lemongrass/IMG_7017.JPG  \n",
            "  inflating: new_veggie_fruit_data/fewshot/train/lemongrass/IMG_7012.JPG  \n",
            "  inflating: new_veggie_fruit_data/fewshot/train/lemongrass/IMG_7014.JPG  \n",
            "  inflating: new_veggie_fruit_data/fewshot/train/lemongrass/IMG_7019.JPG  \n",
            "  inflating: new_veggie_fruit_data/fewshot/train/lemongrass/IMG_7013.JPG  \n",
            "  inflating: new_veggie_fruit_data/fewshot/train/lemongrass/IMG_5559.JPG  \n",
            "  inflating: new_veggie_fruit_data/fewshot/train/lemongrass/IMG_5556.JPG  \n",
            "  inflating: new_veggie_fruit_data/fewshot/train/lemongrass/IMG_7011.JPG  \n",
            "  inflating: new_veggie_fruit_data/fewshot/train/lemongrass/IMG_5558.JPG  \n",
            "  inflating: new_veggie_fruit_data/fewshot/train/lemongrass/IMG_5554.JPG  \n",
            "  inflating: new_veggie_fruit_data/fewshot/train/lemongrass/IMG_7018.JPG  \n",
            "   creating: new_veggie_fruit_data/fewshot/train/lacinato_kale/\n",
            "  inflating: new_veggie_fruit_data/fewshot/train/lacinato_kale/IMG_3718.jpg  \n",
            "  inflating: new_veggie_fruit_data/fewshot/train/lacinato_kale/IMG_3716.jpg  \n",
            "   creating: new_veggie_fruit_data/fewshot/train/beets/\n",
            "  inflating: new_veggie_fruit_data/fewshot/train/beets/IMG_5374.JPG  \n",
            "  inflating: new_veggie_fruit_data/fewshot/train/beets/IMG_3755.JPG  \n",
            "  inflating: new_veggie_fruit_data/fewshot/train/beets/IMG_5377.JPG  \n",
            "  inflating: new_veggie_fruit_data/fewshot/train/beets/IMG_3754.JPG  \n",
            "  inflating: new_veggie_fruit_data/fewshot/train/beets/IMG_3750.JPG  \n",
            "  inflating: new_veggie_fruit_data/fewshot/train/beets/IMG_3756.JPG  \n",
            "  inflating: new_veggie_fruit_data/fewshot/train/beets/IMG_3753.JPG  \n",
            "  inflating: new_veggie_fruit_data/fewshot/train/beets/IMG_5375.JPG  \n",
            "   creating: new_veggie_fruit_data/fewshot/train/potato/\n",
            "  inflating: new_veggie_fruit_data/fewshot/train/potato/IMG_5402.JPG  \n",
            "  inflating: new_veggie_fruit_data/fewshot/train/potato/IMG_5404.JPG  \n",
            "  inflating: new_veggie_fruit_data/fewshot/train/potato/IMG_5401.JPG  \n",
            "  inflating: new_veggie_fruit_data/fewshot/train/potato/IMG_5403.JPG  \n",
            "   creating: new_veggie_fruit_data/fewshot/train/daikon/\n",
            "  inflating: new_veggie_fruit_data/fewshot/train/daikon/IMG_4919.JPG  \n",
            "  inflating: new_veggie_fruit_data/fewshot/train/daikon/IMG_1251.JPG  \n",
            "  inflating: new_veggie_fruit_data/fewshot/train/daikon/IMG_1249.JPG  \n",
            "  inflating: new_veggie_fruit_data/fewshot/train/daikon/IMG_4920.JPG  \n",
            "  inflating: new_veggie_fruit_data/fewshot/train/daikon/IMG_4922.JPG  \n",
            "  inflating: new_veggie_fruit_data/fewshot/train/daikon/IMG_1250.JPG  \n",
            "  inflating: new_veggie_fruit_data/fewshot/train/daikon/IMG_2747.JPG  \n",
            "  inflating: new_veggie_fruit_data/fewshot/train/daikon/IMG_4921.JPG  \n",
            "   creating: new_veggie_fruit_data/fewshot/train/english_peas/\n",
            "  inflating: new_veggie_fruit_data/fewshot/train/english_peas/IMG_5411.JPG  \n",
            "  inflating: new_veggie_fruit_data/fewshot/train/english_peas/IMG_5410.JPG  \n",
            "  inflating: new_veggie_fruit_data/fewshot/train/english_peas/IMG_5412.JPG  \n",
            "  inflating: new_veggie_fruit_data/fewshot/train/english_peas/IMG_5409.JPG  \n",
            "   creating: new_veggie_fruit_data/fewshot/train/savoy_cabbage/\n",
            "  inflating: new_veggie_fruit_data/fewshot/train/savoy_cabbage/IMG_3692.jpg  \n",
            "  inflating: new_veggie_fruit_data/fewshot/train/savoy_cabbage/IMG_3691.jpg  \n",
            "   creating: new_veggie_fruit_data/fewshot/train/curly_leaf_kale/\n",
            "  inflating: new_veggie_fruit_data/fewshot/train/curly_leaf_kale/IMG_3713.jpg  \n",
            "  inflating: new_veggie_fruit_data/fewshot/train/curly_leaf_kale/IMG_3711.jpg  \n",
            "   creating: new_veggie_fruit_data/fewshot/train/dandelion_greens/\n",
            "  inflating: new_veggie_fruit_data/fewshot/train/dandelion_greens/IMG_3739.jpg  \n",
            "  inflating: new_veggie_fruit_data/fewshot/train/dandelion_greens/IMG_3741.jpg  \n",
            "   creating: new_veggie_fruit_data/fewshot/train/leeks/\n",
            "  inflating: new_veggie_fruit_data/fewshot/train/leeks/IMG_3746.JPG  \n",
            "  inflating: new_veggie_fruit_data/fewshot/train/leeks/IMG_3743.JPG  \n",
            "  inflating: new_veggie_fruit_data/fewshot/train/leeks/IMG_3744.JPG  \n",
            "  inflating: new_veggie_fruit_data/fewshot/train/leeks/IMG_3747.JPG  \n",
            "   creating: new_veggie_fruit_data/fewshot/train/asparagus/\n",
            "  inflating: new_veggie_fruit_data/fewshot/train/asparagus/IMG_1888.JPG  \n",
            "  inflating: new_veggie_fruit_data/fewshot/train/asparagus/IMG_1893.JPG  \n",
            "  inflating: new_veggie_fruit_data/fewshot/train/asparagus/IMG_1890.JPG  \n",
            "  inflating: new_veggie_fruit_data/fewshot/train/asparagus/IMG_1897.JPG  \n",
            "  inflating: new_veggie_fruit_data/fewshot/train/asparagus/IMG_1894.JPG  \n",
            "  inflating: new_veggie_fruit_data/fewshot/train/asparagus/IMG_1895.JPG  \n",
            "  inflating: new_veggie_fruit_data/fewshot/train/asparagus/IMG_1896.JPG  \n",
            "  inflating: new_veggie_fruit_data/fewshot/train/asparagus/IMG_1898.JPG  \n",
            "  inflating: new_veggie_fruit_data/fewshot/train/asparagus/IMG_1892.JPG  \n",
            "  inflating: new_veggie_fruit_data/fewshot/train/asparagus/IMG_1886.JPG  \n",
            "   creating: new_veggie_fruit_data/fewshot/train/baby_head_lettuce/\n",
            "  inflating: new_veggie_fruit_data/fewshot/train/baby_head_lettuce/IMG_5372.JPG  \n",
            "  inflating: new_veggie_fruit_data/fewshot/train/baby_head_lettuce/IMG_5371.JPG  \n",
            "  inflating: new_veggie_fruit_data/fewshot/train/baby_head_lettuce/IMG_5370.JPG  \n",
            "  inflating: new_veggie_fruit_data/fewshot/train/baby_head_lettuce/IMG_5369.JPG  \n",
            "   creating: new_veggie_fruit_data/fewshot/train/korean_radish/\n",
            "  inflating: new_veggie_fruit_data/fewshot/train/korean_radish/IMG_1281.JPG  \n",
            "  inflating: new_veggie_fruit_data/fewshot/train/korean_radish/IMG_1279.JPG  \n",
            "  inflating: new_veggie_fruit_data/fewshot/train/korean_radish/IMG_1276.JPG  \n",
            "  inflating: new_veggie_fruit_data/fewshot/train/korean_radish/IMG_1280.JPG  \n",
            "  inflating: new_veggie_fruit_data/fewshot/train/korean_radish/IMG_1278.JPG  \n",
            "  inflating: new_veggie_fruit_data/fewshot/train/korean_radish/IMG_1283.JPG  \n",
            "   creating: new_veggie_fruit_data/fewshot/train/rainbow_chard/\n",
            "  inflating: new_veggie_fruit_data/fewshot/train/rainbow_chard/IMG_3725.jpg  \n",
            "   creating: new_veggie_fruit_data/fewshot/train/sugar_snap_peas/\n",
            "  inflating: new_veggie_fruit_data/fewshot/train/sugar_snap_peas/IMG_5385.JPG  \n",
            "  inflating: new_veggie_fruit_data/fewshot/train/sugar_snap_peas/IMG_5387.JPG  \n",
            "   creating: new_veggie_fruit_data/fewshot/train/collard/\n",
            "  inflating: new_veggie_fruit_data/fewshot/train/collard/IMG_3737.jpg  \n",
            "  inflating: new_veggie_fruit_data/fewshot/train/collard/IMG_3735.jpg  \n",
            "   creating: new_veggie_fruit_data/fewshot/train/onion/\n",
            "  inflating: new_veggie_fruit_data/fewshot/train/onion/IMG_3438.jpg  \n",
            "  inflating: new_veggie_fruit_data/fewshot/train/onion/IMG_7781.jpg  \n",
            "  inflating: new_veggie_fruit_data/fewshot/train/onion/IMG_3353.jpg  \n",
            "  inflating: new_veggie_fruit_data/fewshot/train/onion/IMG_3355.jpg  \n",
            "  inflating: new_veggie_fruit_data/fewshot/train/onion/IMG_0295.jpg  \n",
            "  inflating: new_veggie_fruit_data/fewshot/train/onion/IMG_9261.jpg  \n",
            "  inflating: new_veggie_fruit_data/fewshot/train/onion/IMG_7782.jpg  \n",
            "  inflating: new_veggie_fruit_data/fewshot/train/onion/IMG_7757.jpg  \n",
            "  inflating: new_veggie_fruit_data/fewshot/train/onion/IMG_0297.jpg  \n",
            "  inflating: new_veggie_fruit_data/fewshot/train/onion/IMG_3354.jpg  \n",
            "  inflating: new_veggie_fruit_data/fewshot/train/onion/IMG_7758.jpg  \n",
            "  inflating: new_veggie_fruit_data/fewshot/train/onion/IMG_0296.jpg  \n",
            "  inflating: new_veggie_fruit_data/fewshot/train/onion/IMG_3441.jpg  \n",
            "  inflating: new_veggie_fruit_data/fewshot/train/onion/IMG_9260.jpg  \n",
            "   creating: new_veggie_fruit_data/fewshot/train/summer_squash/\n",
            "  inflating: new_veggie_fruit_data/fewshot/train/summer_squash/IMG_5414.JPG  \n",
            "  inflating: new_veggie_fruit_data/fewshot/train/summer_squash/IMG_5417.JPG  \n",
            "  inflating: new_veggie_fruit_data/fewshot/train/summer_squash/IMG_5418.JPG  \n",
            "  inflating: new_veggie_fruit_data/fewshot/train/summer_squash/IMG_5420.JPG  \n",
            "  inflating: new_veggie_fruit_data/fewshot/train/summer_squash/IMG_5416.JPG  \n",
            "  inflating: new_veggie_fruit_data/fewshot/train/summer_squash/IMG_5419.JPG  \n",
            "   creating: new_veggie_fruit_data/fewshot/train/cantaloupe/\n",
            "  inflating: new_veggie_fruit_data/fewshot/train/cantaloupe/IMG_2134.JPG  \n",
            "  inflating: new_veggie_fruit_data/fewshot/train/cantaloupe/IMG_2136.JPG  \n",
            "  inflating: new_veggie_fruit_data/fewshot/train/cantaloupe/IMG_2133.JPG  \n",
            "  inflating: new_veggie_fruit_data/fewshot/train/cantaloupe/IMG_2137.JPG  \n",
            "  inflating: new_veggie_fruit_data/fewshot/train/cantaloupe/IMG_2132.JPG  \n",
            "  inflating: new_veggie_fruit_data/fewshot/train/cantaloupe/IMG_2135.JPG  \n",
            "   creating: new_veggie_fruit_data/fewshot/train/cilantro/\n",
            "  inflating: new_veggie_fruit_data/fewshot/train/cilantro/IMG_9181.jpg  \n",
            "  inflating: new_veggie_fruit_data/fewshot/train/cilantro/IMG_9180.jpg  \n",
            "   creating: new_veggie_fruit_data/fewshot/validate/\n",
            "   creating: new_veggie_fruit_data/fewshot/validate/lemongrass/\n",
            "  inflating: new_veggie_fruit_data/fewshot/validate/lemongrass/IMG_5557.JPG  \n",
            "  inflating: new_veggie_fruit_data/fewshot/validate/lemongrass/IMG_5555.JPG  \n",
            "  inflating: new_veggie_fruit_data/fewshot/validate/lemongrass/IMG_7016.JPG  \n",
            "  inflating: new_veggie_fruit_data/fewshot/validate/lemongrass/IMG_5561.JPG  \n",
            "   creating: new_veggie_fruit_data/fewshot/validate/lacinato_kale/\n",
            "  inflating: new_veggie_fruit_data/fewshot/validate/lacinato_kale/IMG_3717.jpg  \n",
            "   creating: new_veggie_fruit_data/fewshot/validate/beets/\n",
            "  inflating: new_veggie_fruit_data/fewshot/validate/beets/IMG_5376.JPG  \n",
            "  inflating: new_veggie_fruit_data/fewshot/validate/beets/IMG_3751.JPG  \n",
            "   creating: new_veggie_fruit_data/fewshot/validate/potato/\n",
            "  inflating: new_veggie_fruit_data/fewshot/validate/potato/IMG_5405.JPG  \n",
            "   creating: new_veggie_fruit_data/fewshot/validate/daikon/\n",
            "  inflating: new_veggie_fruit_data/fewshot/validate/daikon/IMG_4917.JPG  \n",
            "  inflating: new_veggie_fruit_data/fewshot/validate/daikon/IMG_4918.JPG  \n",
            "   creating: new_veggie_fruit_data/fewshot/validate/english_peas/\n",
            "  inflating: new_veggie_fruit_data/fewshot/validate/english_peas/IMG_5407.JPG  \n",
            "  inflating: new_veggie_fruit_data/fewshot/validate/english_peas/IMG_5408.JPG  \n",
            "   creating: new_veggie_fruit_data/fewshot/validate/savoy_cabbage/\n",
            "  inflating: new_veggie_fruit_data/fewshot/validate/savoy_cabbage/IMG_3690.jpg  \n",
            "   creating: new_veggie_fruit_data/fewshot/validate/curly_leaf_kale/\n",
            "  inflating: new_veggie_fruit_data/fewshot/validate/curly_leaf_kale/IMG_3712.jpg  \n",
            "   creating: new_veggie_fruit_data/fewshot/validate/dandelion_greens/\n",
            "  inflating: new_veggie_fruit_data/fewshot/validate/dandelion_greens/IMG_3740.jpg  \n",
            "   creating: new_veggie_fruit_data/fewshot/validate/leeks/\n",
            "  inflating: new_veggie_fruit_data/fewshot/validate/leeks/IMG_3745.JPG  \n",
            "   creating: new_veggie_fruit_data/fewshot/validate/asparagus/\n",
            "  inflating: new_veggie_fruit_data/fewshot/validate/asparagus/IMG_1891.JPG  \n",
            "  inflating: new_veggie_fruit_data/fewshot/validate/asparagus/IMG_1889.JPG  \n",
            "  inflating: new_veggie_fruit_data/fewshot/validate/asparagus/IMG_1887.JPG  \n",
            "   creating: new_veggie_fruit_data/fewshot/validate/baby_head_lettuce/\n",
            "  inflating: new_veggie_fruit_data/fewshot/validate/baby_head_lettuce/IMG_5368.JPG  \n",
            "   creating: new_veggie_fruit_data/fewshot/validate/korean_radish/\n",
            "  inflating: new_veggie_fruit_data/fewshot/validate/korean_radish/IMG_1282.JPG  \n",
            "  inflating: new_veggie_fruit_data/fewshot/validate/korean_radish/IMG_1277.JPG  \n",
            "   creating: new_veggie_fruit_data/fewshot/validate/rainbow_chard/\n",
            "  inflating: new_veggie_fruit_data/fewshot/validate/rainbow_chard/IMG_3723.jpg  \n",
            "   creating: new_veggie_fruit_data/fewshot/validate/sugar_snap_peas/\n",
            "  inflating: new_veggie_fruit_data/fewshot/validate/sugar_snap_peas/IMG_5386.JPG  \n",
            "   creating: new_veggie_fruit_data/fewshot/validate/collard/\n",
            "  inflating: new_veggie_fruit_data/fewshot/validate/collard/IMG_3736.jpg  \n",
            "   creating: new_veggie_fruit_data/fewshot/validate/onion/\n",
            "  inflating: new_veggie_fruit_data/fewshot/validate/onion/IMG_9259.jpg  \n",
            "  inflating: new_veggie_fruit_data/fewshot/validate/onion/IMG_7755.jpg  \n",
            "  inflating: new_veggie_fruit_data/fewshot/validate/onion/IMG_3437.jpg  \n",
            "  inflating: new_veggie_fruit_data/fewshot/validate/onion/IMG_3436.jpg  \n",
            "   creating: new_veggie_fruit_data/fewshot/validate/summer_squash/\n",
            "  inflating: new_veggie_fruit_data/fewshot/validate/summer_squash/IMG_5415.JPG  \n",
            "  inflating: new_veggie_fruit_data/fewshot/validate/summer_squash/IMG_5421.JPG  \n",
            "   creating: new_veggie_fruit_data/fewshot/validate/cantaloupe/\n",
            "  inflating: new_veggie_fruit_data/fewshot/validate/cantaloupe/IMG_2131.JPG  \n",
            "  inflating: new_veggie_fruit_data/fewshot/validate/cantaloupe/IMG_2130.JPG  \n",
            "   creating: new_veggie_fruit_data/fewshot/validate/cilantro/\n",
            "  inflating: new_veggie_fruit_data/fewshot/validate/cilantro/IMG_9182.jpg  \n"
          ],
          "name": "stdout"
        }
      ]
    },
    {
      "cell_type": "markdown",
      "metadata": {
        "id": "vM_g95etqh6l",
        "colab_type": "text"
      },
      "source": [
        "# Base Training on Base Classes"
      ]
    },
    {
      "cell_type": "code",
      "metadata": {
        "id": "Czd4CNvRdlue",
        "colab_type": "code",
        "outputId": "5acfe081-8db5-4dd3-c084-6cc9fa366937",
        "colab": {
          "base_uri": "https://localhost:8080/",
          "height": 1000,
          "referenced_widgets": [
            "f17d69c4b011443d8c9532b803963a94",
            "97395bfde5504af5aadf2ec64a802c18",
            "b244979cae8641a2a7074182ca90b67e",
            "5c9c2a565938408ab99b5c54ea511345",
            "7180713e21d549bb88844785c70841a2",
            "634cb8d965dc459582e4933c8bf2398b",
            "b207d3c47a4d436ea056e7f6262ebcd6",
            "487d918f1a8546fabcd3ec93158b89fa"
          ]
        }
      },
      "source": [
        "import torch                                                                                                                                                                                                \n",
        "import torchvision\n",
        "import torchvision.transforms as transforms\n",
        "from torch.utils import data\n",
        "import argparse\n",
        "import torch.nn as nn\n",
        "import tqdm\n",
        "import torch.optim as optim\n",
        "from sklearn.metrics import precision_recall_fscore_support\n",
        "\n",
        "def train():\n",
        "    data_dir = 'new_veggie_fruit_data/base/'\n",
        "    total_classes = 44\n",
        "    val_every_nepochs = 1 \n",
        "    batch_size = 30\n",
        "    nepochs = 80\n",
        "    num_workers = 8\n",
        "    train_input_folder = data_dir + 'train/'\n",
        "    validate_input_folder = data_dir + 'validate/'\n",
        "\n",
        "    # Training Data Loader\n",
        "    train_transform = transforms.Compose([\n",
        "       transforms.RandomHorizontalFlip(),\n",
        "       transforms.RandomVerticalFlip(),\n",
        "       transforms.RandomAffine(scale=(0.9, 1.25), shear=0.2, degrees=0),\n",
        "       transforms.Resize((224,224)),\n",
        "       transforms.ToTensor(),\n",
        "       transforms.Normalize((0.485, 0.456, 0.406), (0.229, 0.224, 0.225)),\n",
        "    ])  \n",
        "    train_dataset = torchvision.datasets.ImageFolder(train_input_folder,\n",
        "                                                     transform=train_transform)\n",
        "    train_loader = data.DataLoader(train_dataset, batch_size=batch_size,\n",
        "                                   shuffle=True, num_workers=num_workers)\n",
        "\n",
        "    # Validation Data Loader\n",
        "    val_transform = transforms.Compose([\n",
        "       transforms.Resize((224,224)),\n",
        "       transforms.ToTensor(),\n",
        "       transforms.Normalize((0.485, 0.456, 0.406), (0.229, 0.224, 0.225)),\n",
        "    ])\n",
        "    val_dataset = torchvision.datasets.ImageFolder(validate_input_folder,\n",
        "                                                     transform=val_transform)\n",
        "    val_loader = data.DataLoader(val_dataset, batch_size=batch_size,\n",
        "                                   shuffle=False, num_workers=num_workers)\n",
        "\n",
        "    # Create Model\n",
        "    model = torchvision.models.vgg19(pretrained=True)\n",
        "    model.classifier[6] = nn.Linear(4096, total_classes, bias=True)\n",
        "    model = model.cuda()\n",
        "    criterion = nn.CrossEntropyLoss(ignore_index=255).cuda()\n",
        "\n",
        "    # Create Optimizer and freeze backbone\n",
        "    for param in model.features.parameters():\n",
        "        param.requires_grad = False                                                                                                                                                                         \n",
        "    optimizer = optim.Adam(model.parameters(), lr=0.001)\n",
        "\n",
        "    # Training/Val Loop\n",
        "    model.train()\n",
        "    for epoch in range(nepochs):\n",
        "        print('Epoch ', epoch)\n",
        "        tqdm_train = tqdm.tqdm(train_loader)\n",
        "        for image, label in tqdm_train:\n",
        "            image = image.cuda()\n",
        "            label = label.cuda()\n",
        "\n",
        "            optimizer.zero_grad()\n",
        "            pred = model(image)\n",
        "            loss = criterion(pred, label)\n",
        "            loss.backward()\n",
        "            optimizer.step()\n",
        "        if epoch % val_every_nepochs == 0:\n",
        "            model.eval()\n",
        "            with torch.no_grad():\n",
        "                correct = 0.0\n",
        "                tqdm_val = tqdm.tqdm(val_loader)\n",
        "                metrics = {'macro': {'prec': 0.0, 'rec': 0.0, 'fscore': 0.0},                                                                                                                               \n",
        "                           'micro': {'prec': 0.0, 'rec': 0.0, 'fscore': 0.0},\n",
        "                           'weighted': {'prec': 0.0, 'rec': 0.0, 'fscore': 0.0}}\n",
        "\n",
        "                for image, label in tqdm_val:\n",
        "                    image = image.cuda()\n",
        "                    pred = model(image)\n",
        "                    pred_labels = pred.detach().cpu().argmax(dim=1)\n",
        "                    for key in metrics.keys():\n",
        "                        prec, recall, fscore, _ = precision_recall_fscore_support(label, pred_labels,\n",
        "                                                                                  average=key)\n",
        "                        metrics[key]['prec'] += prec\n",
        "                        metrics[key]['rec'] += recall\n",
        "                        metrics[key]['fscore'] += fscore\n",
        "                    correct += (pred_labels == label).sum().item()\n",
        "                print('Accuracy ', correct/(len(tqdm_val)*batch_size))\n",
        "                for key in metrics.keys():\n",
        "                    print(' Metric %s: prec rec fscore'%key)\n",
        "                    out_str = ''\n",
        "                    for k2 in metrics[key].keys():\n",
        "                        metrics[key][k2] /= (len(tqdm_val))\n",
        "                        out_str += str(metrics[key][k2]) + ' '\n",
        "                    print(out_str)\n",
        "                torch.save(model.state_dict(), 'base_ckpt.pth')\n",
        "\n",
        "\n",
        "train()\n",
        "                                             "
      ],
      "execution_count": 0,
      "outputs": [
        {
          "output_type": "stream",
          "text": [
            "Downloading: \"https://download.pytorch.org/models/vgg19-dcbb9e9d.pth\" to /root/.cache/torch/checkpoints/vgg19-dcbb9e9d.pth\n"
          ],
          "name": "stderr"
        },
        {
          "output_type": "display_data",
          "data": {
            "application/vnd.jupyter.widget-view+json": {
              "model_id": "f17d69c4b011443d8c9532b803963a94",
              "version_minor": 0,
              "version_major": 2
            },
            "text/plain": [
              "HBox(children=(FloatProgress(value=0.0, max=574673361.0), HTML(value='')))"
            ]
          },
          "metadata": {
            "tags": []
          }
        },
        {
          "output_type": "stream",
          "text": [
            "\n"
          ],
          "name": "stdout"
        },
        {
          "output_type": "stream",
          "text": [
            "\r  0%|          | 0/48 [00:00<?, ?it/s]"
          ],
          "name": "stderr"
        },
        {
          "output_type": "stream",
          "text": [
            "Epoch  0\n"
          ],
          "name": "stdout"
        },
        {
          "output_type": "stream",
          "text": [
            "100%|██████████| 48/48 [02:12<00:00,  2.77s/it]\n",
            "  0%|          | 0/13 [00:00<?, ?it/s]/usr/local/lib/python3.6/dist-packages/sklearn/metrics/_classification.py:1272: UndefinedMetricWarning: Precision and F-score are ill-defined and being set to 0.0 in labels with no predicted samples. Use `zero_division` parameter to control this behavior.\n",
            "  _warn_prf(average, modifier, msg_start, len(result))\n",
            "/usr/local/lib/python3.6/dist-packages/sklearn/metrics/_classification.py:1272: UndefinedMetricWarning: Recall and F-score are ill-defined and being set to 0.0 in labels with no true samples. Use `zero_division` parameter to control this behavior.\n",
            "  _warn_prf(average, modifier, msg_start, len(result))\n",
            "100%|██████████| 13/13 [00:31<00:00,  2.39s/it]\n"
          ],
          "name": "stderr"
        },
        {
          "output_type": "stream",
          "text": [
            "Accuracy  0.8538461538461538\n",
            " Metric macro: prec rec fscore\n",
            "0.5412481937368815 0.5056062352085215 0.5165988191934328 \n",
            " Metric micro: prec rec fscore\n",
            "0.8717948717948717 0.8717948717948717 0.8717948717948717 \n",
            " Metric weighted: prec rec fscore\n",
            "0.9198746954403063 0.8717948717948717 0.8870285308729245 \n"
          ],
          "name": "stdout"
        },
        {
          "output_type": "stream",
          "text": [
            "\r  0%|          | 0/48 [00:00<?, ?it/s]"
          ],
          "name": "stderr"
        },
        {
          "output_type": "stream",
          "text": [
            "Epoch  1\n"
          ],
          "name": "stdout"
        },
        {
          "output_type": "stream",
          "text": [
            "100%|██████████| 48/48 [02:13<00:00,  2.78s/it]\n",
            "100%|██████████| 13/13 [00:31<00:00,  2.39s/it]\n"
          ],
          "name": "stderr"
        },
        {
          "output_type": "stream",
          "text": [
            "Accuracy  0.8846153846153846\n",
            " Metric macro: prec rec fscore\n",
            "0.6935635792778648 0.6767318952415106 0.6790140637783318 \n",
            " Metric micro: prec rec fscore\n",
            "0.9025641025641027 0.9025641025641027 0.9025641025641027 \n",
            " Metric weighted: prec rec fscore\n",
            "0.9439560439560439 0.9025641025641027 0.9158703718546565 \n"
          ],
          "name": "stdout"
        },
        {
          "output_type": "stream",
          "text": [
            "\r  0%|          | 0/48 [00:00<?, ?it/s]"
          ],
          "name": "stderr"
        },
        {
          "output_type": "stream",
          "text": [
            "Epoch  2\n"
          ],
          "name": "stdout"
        },
        {
          "output_type": "stream",
          "text": [
            "100%|██████████| 48/48 [02:13<00:00,  2.79s/it]\n",
            "100%|██████████| 13/13 [00:30<00:00,  2.37s/it]\n"
          ],
          "name": "stderr"
        },
        {
          "output_type": "stream",
          "text": [
            "Accuracy  0.9153846153846154\n",
            " Metric macro: prec rec fscore\n",
            "0.7184065934065933 0.7027370777370778 0.7087118467612974 \n",
            " Metric micro: prec rec fscore\n",
            "0.935897435897436 0.935897435897436 0.935897435897436 \n",
            " Metric weighted: prec rec fscore\n",
            "0.957371794871795 0.935897435897436 0.9446316504008814 \n"
          ],
          "name": "stdout"
        },
        {
          "output_type": "stream",
          "text": [
            "\r  0%|          | 0/48 [00:00<?, ?it/s]"
          ],
          "name": "stderr"
        },
        {
          "output_type": "stream",
          "text": [
            "Epoch  3\n"
          ],
          "name": "stdout"
        },
        {
          "output_type": "stream",
          "text": [
            "100%|██████████| 48/48 [02:12<00:00,  2.77s/it]\n",
            "100%|██████████| 13/13 [00:30<00:00,  2.37s/it]\n"
          ],
          "name": "stderr"
        },
        {
          "output_type": "stream",
          "text": [
            "Accuracy  0.9333333333333333\n",
            " Metric macro: prec rec fscore\n",
            "0.7947802197802196 0.7838151927437642 0.7862336483215605 \n",
            " Metric micro: prec rec fscore\n",
            "0.9525641025641025 0.9525641025641025 0.9525641025641025 \n",
            " Metric weighted: prec rec fscore\n",
            "0.9794871794871794 0.9525641025641025 0.9623497347856322 \n"
          ],
          "name": "stdout"
        },
        {
          "output_type": "stream",
          "text": [
            "\r  0%|          | 0/48 [00:00<?, ?it/s]"
          ],
          "name": "stderr"
        },
        {
          "output_type": "stream",
          "text": [
            "Epoch  4\n"
          ],
          "name": "stdout"
        },
        {
          "output_type": "stream",
          "text": [
            "100%|██████████| 48/48 [02:13<00:00,  2.77s/it]\n",
            "100%|██████████| 13/13 [00:30<00:00,  2.37s/it]\n"
          ],
          "name": "stderr"
        },
        {
          "output_type": "stream",
          "text": [
            "Accuracy  0.9076923076923077\n",
            " Metric macro: prec rec fscore\n",
            "0.782948717948718 0.7385623513912988 0.7531082131407361 \n",
            " Metric micro: prec rec fscore\n",
            "0.9307692307692309 0.9307692307692309 0.9307692307692309 \n",
            " Metric weighted: prec rec fscore\n",
            "0.9828846153846154 0.9307692307692309 0.9496820989978592 \n"
          ],
          "name": "stdout"
        },
        {
          "output_type": "stream",
          "text": [
            "\r  0%|          | 0/48 [00:00<?, ?it/s]"
          ],
          "name": "stderr"
        },
        {
          "output_type": "stream",
          "text": [
            "Epoch  5\n"
          ],
          "name": "stdout"
        },
        {
          "output_type": "stream",
          "text": [
            "100%|██████████| 48/48 [02:12<00:00,  2.76s/it]\n",
            "100%|██████████| 13/13 [00:31<00:00,  2.39s/it]\n"
          ],
          "name": "stderr"
        },
        {
          "output_type": "stream",
          "text": [
            "Accuracy  0.9025641025641026\n",
            " Metric macro: prec rec fscore\n",
            "0.6963581290504367 0.6595977028669336 0.6721152406723357 \n",
            " Metric micro: prec rec fscore\n",
            "0.9256410256410258 0.9256410256410258 0.9256410256410258 \n",
            " Metric weighted: prec rec fscore\n",
            "0.9780818540433925 0.9256410256410258 0.9435135516451012 \n"
          ],
          "name": "stdout"
        },
        {
          "output_type": "stream",
          "text": [
            "\r  0%|          | 0/48 [00:00<?, ?it/s]"
          ],
          "name": "stderr"
        },
        {
          "output_type": "stream",
          "text": [
            "Epoch  6\n"
          ],
          "name": "stdout"
        },
        {
          "output_type": "stream",
          "text": [
            "100%|██████████| 48/48 [02:13<00:00,  2.79s/it]\n",
            "100%|██████████| 13/13 [00:31<00:00,  2.39s/it]\n"
          ],
          "name": "stderr"
        },
        {
          "output_type": "stream",
          "text": [
            "Accuracy  0.9333333333333333\n",
            " Metric macro: prec rec fscore\n",
            "0.807532638301869 0.7849567099567099 0.7927957861456622 \n",
            " Metric micro: prec rec fscore\n",
            "0.9576923076923077 0.9576923076923077 0.9576923076923077 \n",
            " Metric weighted: prec rec fscore\n",
            "0.9836374095989482 0.9576923076923077 0.9677562248430734 \n"
          ],
          "name": "stdout"
        },
        {
          "output_type": "stream",
          "text": [
            "\r  0%|          | 0/48 [00:00<?, ?it/s]"
          ],
          "name": "stderr"
        },
        {
          "output_type": "stream",
          "text": [
            "Epoch  7\n"
          ],
          "name": "stdout"
        },
        {
          "output_type": "stream",
          "text": [
            "100%|██████████| 48/48 [02:13<00:00,  2.79s/it]\n",
            "100%|██████████| 13/13 [00:31<00:00,  2.39s/it]\n"
          ],
          "name": "stderr"
        },
        {
          "output_type": "stream",
          "text": [
            "Accuracy  0.9051282051282051\n",
            " Metric macro: prec rec fscore\n",
            "0.7099594849594849 0.6665974279258055 0.6834693796232257 \n",
            " Metric micro: prec rec fscore\n",
            "0.9282051282051283 0.9282051282051283 0.9282051282051283 \n",
            " Metric weighted: prec rec fscore\n",
            "0.984527972027972 0.9282051282051283 0.950928497902857 \n"
          ],
          "name": "stdout"
        },
        {
          "output_type": "stream",
          "text": [
            "\r  0%|          | 0/48 [00:00<?, ?it/s]"
          ],
          "name": "stderr"
        },
        {
          "output_type": "stream",
          "text": [
            "Epoch  8\n"
          ],
          "name": "stdout"
        },
        {
          "output_type": "stream",
          "text": [
            "100%|██████████| 48/48 [02:14<00:00,  2.80s/it]\n",
            "100%|██████████| 13/13 [00:31<00:00,  2.38s/it]\n"
          ],
          "name": "stderr"
        },
        {
          "output_type": "stream",
          "text": [
            "Accuracy  0.8487179487179487\n",
            " Metric macro: prec rec fscore\n",
            "0.7019841269841269 0.665216434206819 0.6797283634240157 \n",
            " Metric micro: prec rec fscore\n",
            "0.8717948717948718 0.8717948717948718 0.8717948717948718 \n",
            " Metric weighted: prec rec fscore\n",
            "0.9423076923076923 0.8717948717948718 0.8995465070047011 \n"
          ],
          "name": "stdout"
        },
        {
          "output_type": "stream",
          "text": [
            "\r  0%|          | 0/48 [00:00<?, ?it/s]"
          ],
          "name": "stderr"
        },
        {
          "output_type": "stream",
          "text": [
            "Epoch  9\n"
          ],
          "name": "stdout"
        },
        {
          "output_type": "stream",
          "text": [
            "100%|██████████| 48/48 [02:13<00:00,  2.79s/it]\n",
            "100%|██████████| 13/13 [00:31<00:00,  2.39s/it]\n"
          ],
          "name": "stderr"
        },
        {
          "output_type": "stream",
          "text": [
            "Accuracy  0.9230769230769231\n",
            " Metric macro: prec rec fscore\n",
            "0.7739316239316238 0.7438627284022021 0.7535848822424991 \n",
            " Metric micro: prec rec fscore\n",
            "0.9448717948717948 0.9448717948717948 0.9448717948717948 \n",
            " Metric weighted: prec rec fscore\n",
            "0.9863247863247864 0.9448717948717948 0.9586126007392975 \n"
          ],
          "name": "stdout"
        },
        {
          "output_type": "stream",
          "text": [
            "\r  0%|          | 0/48 [00:00<?, ?it/s]"
          ],
          "name": "stderr"
        },
        {
          "output_type": "stream",
          "text": [
            "Epoch  10\n"
          ],
          "name": "stdout"
        },
        {
          "output_type": "stream",
          "text": [
            "100%|██████████| 48/48 [02:12<00:00,  2.76s/it]\n",
            "100%|██████████| 13/13 [00:31<00:00,  2.40s/it]\n"
          ],
          "name": "stderr"
        },
        {
          "output_type": "stream",
          "text": [
            "Accuracy  0.9282051282051282\n",
            " Metric macro: prec rec fscore\n",
            "0.7572039072039071 0.7281440781440782 0.7394129043436257 \n",
            " Metric micro: prec rec fscore\n",
            "0.9512820512820515 0.9512820512820515 0.9512820512820515 \n",
            " Metric weighted: prec rec fscore\n",
            "0.9807692307692307 0.9512820512820515 0.963141403375517 \n"
          ],
          "name": "stdout"
        },
        {
          "output_type": "stream",
          "text": [
            "\r  0%|          | 0/48 [00:00<?, ?it/s]"
          ],
          "name": "stderr"
        },
        {
          "output_type": "stream",
          "text": [
            "Epoch  11\n"
          ],
          "name": "stdout"
        },
        {
          "output_type": "stream",
          "text": [
            "100%|██████████| 48/48 [02:13<00:00,  2.78s/it]\n",
            "100%|██████████| 13/13 [00:31<00:00,  2.41s/it]\n"
          ],
          "name": "stderr"
        },
        {
          "output_type": "stream",
          "text": [
            "Accuracy  0.9358974358974359\n",
            " Metric macro: prec rec fscore\n",
            "0.8296398046398046 0.7993131868131869 0.810154314549919 \n",
            " Metric micro: prec rec fscore\n",
            "0.9602564102564103 0.9602564102564103 0.9602564102564103 \n",
            " Metric weighted: prec rec fscore\n",
            "0.989423076923077 0.9602564102564103 0.9711767719460027 \n"
          ],
          "name": "stdout"
        },
        {
          "output_type": "stream",
          "text": [
            "\r  0%|          | 0/48 [00:00<?, ?it/s]"
          ],
          "name": "stderr"
        },
        {
          "output_type": "stream",
          "text": [
            "Epoch  12\n"
          ],
          "name": "stdout"
        },
        {
          "output_type": "stream",
          "text": [
            "100%|██████████| 48/48 [02:13<00:00,  2.77s/it]\n",
            "100%|██████████| 13/13 [00:31<00:00,  2.39s/it]\n"
          ],
          "name": "stderr"
        },
        {
          "output_type": "stream",
          "text": [
            "Accuracy  0.9076923076923077\n",
            " Metric macro: prec rec fscore\n",
            "0.7797619047619049 0.7484457671957672 0.7578348400894142 \n",
            " Metric micro: prec rec fscore\n",
            "0.926923076923077 0.926923076923077 0.926923076923077 \n",
            " Metric weighted: prec rec fscore\n",
            "0.9796703296703296 0.926923076923077 0.9443146343677526 \n"
          ],
          "name": "stdout"
        },
        {
          "output_type": "stream",
          "text": [
            "\r  0%|          | 0/48 [00:00<?, ?it/s]"
          ],
          "name": "stderr"
        },
        {
          "output_type": "stream",
          "text": [
            "Epoch  13\n"
          ],
          "name": "stdout"
        },
        {
          "output_type": "stream",
          "text": [
            "100%|██████████| 48/48 [02:14<00:00,  2.80s/it]\n",
            "100%|██████████| 13/13 [00:30<00:00,  2.37s/it]\n"
          ],
          "name": "stderr"
        },
        {
          "output_type": "stream",
          "text": [
            "Accuracy  0.9153846153846154\n",
            " Metric macro: prec rec fscore\n",
            "0.7546069315300085 0.7292360473534564 0.737751560963395 \n",
            " Metric micro: prec rec fscore\n",
            "0.9371794871794872 0.9371794871794872 0.9371794871794872 \n",
            " Metric weighted: prec rec fscore\n",
            "0.9663905325443788 0.9371794871794872 0.9472399463326239 \n"
          ],
          "name": "stdout"
        },
        {
          "output_type": "stream",
          "text": [
            "\r  0%|          | 0/48 [00:00<?, ?it/s]"
          ],
          "name": "stderr"
        },
        {
          "output_type": "stream",
          "text": [
            "Epoch  14\n"
          ],
          "name": "stdout"
        },
        {
          "output_type": "stream",
          "text": [
            "100%|██████████| 48/48 [02:12<00:00,  2.76s/it]\n",
            "100%|██████████| 13/13 [00:30<00:00,  2.38s/it]\n"
          ],
          "name": "stderr"
        },
        {
          "output_type": "stream",
          "text": [
            "Accuracy  0.9487179487179487\n",
            " Metric macro: prec rec fscore\n",
            "0.8436147186147185 0.8267704517704517 0.8321229495142538 \n",
            " Metric micro: prec rec fscore\n",
            "0.9705128205128205 0.9705128205128205 0.9705128205128205 \n",
            " Metric weighted: prec rec fscore\n",
            "0.9832459207459207 0.9705128205128205 0.9745840632797156 \n"
          ],
          "name": "stdout"
        },
        {
          "output_type": "stream",
          "text": [
            "\r  0%|          | 0/48 [00:00<?, ?it/s]"
          ],
          "name": "stderr"
        },
        {
          "output_type": "stream",
          "text": [
            "Epoch  15\n"
          ],
          "name": "stdout"
        },
        {
          "output_type": "stream",
          "text": [
            "100%|██████████| 48/48 [02:13<00:00,  2.77s/it]\n",
            "100%|██████████| 13/13 [00:30<00:00,  2.38s/it]\n"
          ],
          "name": "stderr"
        },
        {
          "output_type": "stream",
          "text": [
            "Accuracy  0.9307692307692308\n",
            " Metric macro: prec rec fscore\n",
            "0.8117216117216117 0.793697755236217 0.7997049292908038 \n",
            " Metric micro: prec rec fscore\n",
            "0.9551282051282052 0.9551282051282052 0.9551282051282052 \n",
            " Metric weighted: prec rec fscore\n",
            "0.983440170940171 0.9551282051282052 0.9661046940371487 \n"
          ],
          "name": "stdout"
        },
        {
          "output_type": "stream",
          "text": [
            "\r  0%|          | 0/48 [00:00<?, ?it/s]"
          ],
          "name": "stderr"
        },
        {
          "output_type": "stream",
          "text": [
            "Epoch  16\n"
          ],
          "name": "stdout"
        },
        {
          "output_type": "stream",
          "text": [
            "100%|██████████| 48/48 [02:13<00:00,  2.77s/it]\n",
            "100%|██████████| 13/13 [00:30<00:00,  2.38s/it]\n"
          ],
          "name": "stderr"
        },
        {
          "output_type": "stream",
          "text": [
            "Accuracy  0.9307692307692308\n",
            " Metric macro: prec rec fscore\n",
            "0.8236504723346828 0.7958764180766443 0.8076810177012607 \n",
            " Metric micro: prec rec fscore\n",
            "0.9564102564102565 0.9564102564102565 0.9564102564102565 \n",
            " Metric weighted: prec rec fscore\n",
            "0.9898785425101214 0.9564102564102565 0.970597992525118 \n"
          ],
          "name": "stdout"
        },
        {
          "output_type": "stream",
          "text": [
            "\r  0%|          | 0/48 [00:00<?, ?it/s]"
          ],
          "name": "stderr"
        },
        {
          "output_type": "stream",
          "text": [
            "Epoch  17\n"
          ],
          "name": "stdout"
        },
        {
          "output_type": "stream",
          "text": [
            "100%|██████████| 48/48 [02:13<00:00,  2.79s/it]\n",
            "100%|██████████| 13/13 [00:30<00:00,  2.37s/it]\n"
          ],
          "name": "stderr"
        },
        {
          "output_type": "stream",
          "text": [
            "Accuracy  0.941025641025641\n",
            " Metric macro: prec rec fscore\n",
            "0.8422402159244264 0.8175047583135819 0.8264607318178747 \n",
            " Metric micro: prec rec fscore\n",
            "0.9653846153846154 0.9653846153846154 0.9653846153846154 \n",
            " Metric weighted: prec rec fscore\n",
            "0.986993927125506 0.9653846153846154 0.9737301674801675 \n"
          ],
          "name": "stdout"
        },
        {
          "output_type": "stream",
          "text": [
            "\r  0%|          | 0/48 [00:00<?, ?it/s]"
          ],
          "name": "stderr"
        },
        {
          "output_type": "stream",
          "text": [
            "Epoch  18\n"
          ],
          "name": "stdout"
        },
        {
          "output_type": "stream",
          "text": [
            "100%|██████████| 48/48 [02:13<00:00,  2.79s/it]\n",
            "100%|██████████| 13/13 [00:31<00:00,  2.40s/it]\n"
          ],
          "name": "stderr"
        },
        {
          "output_type": "stream",
          "text": [
            "Accuracy  0.9102564102564102\n",
            " Metric macro: prec rec fscore\n",
            "0.7801587301587302 0.7388569829106266 0.7544257009617736 \n",
            " Metric micro: prec rec fscore\n",
            "0.9294871794871796 0.9294871794871796 0.9294871794871796 \n",
            " Metric weighted: prec rec fscore\n",
            "0.9818376068376069 0.9294871794871796 0.9510443570477016 \n"
          ],
          "name": "stdout"
        },
        {
          "output_type": "stream",
          "text": [
            "\r  0%|          | 0/48 [00:00<?, ?it/s]"
          ],
          "name": "stderr"
        },
        {
          "output_type": "stream",
          "text": [
            "Epoch  19\n"
          ],
          "name": "stdout"
        },
        {
          "output_type": "stream",
          "text": [
            "100%|██████████| 48/48 [02:13<00:00,  2.78s/it]\n",
            "100%|██████████| 13/13 [00:30<00:00,  2.38s/it]\n"
          ],
          "name": "stderr"
        },
        {
          "output_type": "stream",
          "text": [
            "Accuracy  0.9538461538461539\n",
            " Metric macro: prec rec fscore\n",
            "0.9031135531135531 0.8804334554334553 0.8895970695970696 \n",
            " Metric micro: prec rec fscore\n",
            "0.9782051282051282 0.9782051282051282 0.9782051282051282 \n",
            " Metric weighted: prec rec fscore\n",
            "0.9974358974358974 0.9782051282051282 0.9860439560439562 \n"
          ],
          "name": "stdout"
        },
        {
          "output_type": "stream",
          "text": [
            "\r  0%|          | 0/48 [00:00<?, ?it/s]"
          ],
          "name": "stderr"
        },
        {
          "output_type": "stream",
          "text": [
            "Epoch  20\n"
          ],
          "name": "stdout"
        },
        {
          "output_type": "stream",
          "text": [
            "100%|██████████| 48/48 [02:13<00:00,  2.79s/it]\n",
            "100%|██████████| 13/13 [00:30<00:00,  2.38s/it]\n"
          ],
          "name": "stderr"
        },
        {
          "output_type": "stream",
          "text": [
            "Accuracy  0.9282051282051282\n",
            " Metric macro: prec rec fscore\n",
            "0.824908424908425 0.7852178523231156 0.7985656416401757 \n",
            " Metric micro: prec rec fscore\n",
            "0.9525641025641026 0.9525641025641026 0.9525641025641026 \n",
            " Metric weighted: prec rec fscore\n",
            "0.9974358974358974 0.9525641025641026 0.968101416797069 \n"
          ],
          "name": "stdout"
        },
        {
          "output_type": "stream",
          "text": [
            "\r  0%|          | 0/48 [00:00<?, ?it/s]"
          ],
          "name": "stderr"
        },
        {
          "output_type": "stream",
          "text": [
            "Epoch  21\n"
          ],
          "name": "stdout"
        },
        {
          "output_type": "stream",
          "text": [
            "100%|██████████| 48/48 [02:14<00:00,  2.80s/it]\n",
            "100%|██████████| 13/13 [00:30<00:00,  2.37s/it]\n"
          ],
          "name": "stderr"
        },
        {
          "output_type": "stream",
          "text": [
            "Accuracy  0.9435897435897436\n",
            " Metric macro: prec rec fscore\n",
            "0.8713369963369964 0.8508028886318362 0.8596552627608529 \n",
            " Metric micro: prec rec fscore\n",
            "0.967948717948718 0.967948717948718 0.967948717948718 \n",
            " Metric weighted: prec rec fscore\n",
            "0.9948717948717949 0.967948717948718 0.9797863984820506 \n"
          ],
          "name": "stdout"
        },
        {
          "output_type": "stream",
          "text": [
            "\r  0%|          | 0/48 [00:00<?, ?it/s]"
          ],
          "name": "stderr"
        },
        {
          "output_type": "stream",
          "text": [
            "Epoch  22\n"
          ],
          "name": "stdout"
        },
        {
          "output_type": "stream",
          "text": [
            "100%|██████████| 48/48 [02:13<00:00,  2.79s/it]\n",
            "100%|██████████| 13/13 [00:31<00:00,  2.43s/it]\n"
          ],
          "name": "stderr"
        },
        {
          "output_type": "stream",
          "text": [
            "Accuracy  0.9512820512820512\n",
            " Metric macro: prec rec fscore\n",
            "0.8957875457875458 0.876864374941298 0.8849713381856241 \n",
            " Metric micro: prec rec fscore\n",
            "0.976923076923077 0.976923076923077 0.976923076923077 \n",
            " Metric weighted: prec rec fscore\n",
            "0.9974358974358974 0.976923076923077 0.985786990786991 \n"
          ],
          "name": "stdout"
        },
        {
          "output_type": "stream",
          "text": [
            "\r  0%|          | 0/48 [00:00<?, ?it/s]"
          ],
          "name": "stderr"
        },
        {
          "output_type": "stream",
          "text": [
            "Epoch  23\n"
          ],
          "name": "stdout"
        },
        {
          "output_type": "stream",
          "text": [
            "100%|██████████| 48/48 [02:14<00:00,  2.80s/it]\n",
            "100%|██████████| 13/13 [00:30<00:00,  2.37s/it]\n"
          ],
          "name": "stderr"
        },
        {
          "output_type": "stream",
          "text": [
            "Accuracy  0.9512820512820512\n",
            " Metric macro: prec rec fscore\n",
            "0.877912087912088 0.8584108199492817 0.8643492945977418 \n",
            " Metric micro: prec rec fscore\n",
            "0.9743589743589745 0.9743589743589745 0.9743589743589745 \n",
            " Metric weighted: prec rec fscore\n",
            "0.9902564102564102 0.9743589743589745 0.9799254441210964 \n"
          ],
          "name": "stdout"
        },
        {
          "output_type": "stream",
          "text": [
            "\r  0%|          | 0/48 [00:00<?, ?it/s]"
          ],
          "name": "stderr"
        },
        {
          "output_type": "stream",
          "text": [
            "Epoch  24\n"
          ],
          "name": "stdout"
        },
        {
          "output_type": "stream",
          "text": [
            "100%|██████████| 48/48 [02:15<00:00,  2.82s/it]\n",
            "100%|██████████| 13/13 [00:31<00:00,  2.41s/it]\n"
          ],
          "name": "stderr"
        },
        {
          "output_type": "stream",
          "text": [
            "Accuracy  0.9384615384615385\n",
            " Metric macro: prec rec fscore\n",
            "0.8774725274725275 0.8502616431187859 0.8580443525259577 \n",
            " Metric micro: prec rec fscore\n",
            "0.9628205128205128 0.9628205128205128 0.9628205128205128 \n",
            " Metric weighted: prec rec fscore\n",
            "0.9919871794871795 0.9628205128205128 0.9720734115382945 \n"
          ],
          "name": "stdout"
        },
        {
          "output_type": "stream",
          "text": [
            "\r  0%|          | 0/48 [00:00<?, ?it/s]"
          ],
          "name": "stderr"
        },
        {
          "output_type": "stream",
          "text": [
            "Epoch  25\n"
          ],
          "name": "stdout"
        },
        {
          "output_type": "stream",
          "text": [
            "100%|██████████| 48/48 [02:14<00:00,  2.81s/it]\n",
            "100%|██████████| 13/13 [00:31<00:00,  2.40s/it]\n"
          ],
          "name": "stderr"
        },
        {
          "output_type": "stream",
          "text": [
            "Accuracy  0.9487179487179487\n",
            " Metric macro: prec rec fscore\n",
            "0.8864069690992766 0.8816239316239317 0.8827955377955378 \n",
            " Metric micro: prec rec fscore\n",
            "0.9705128205128205 0.9705128205128205 0.9705128205128205 \n",
            " Metric weighted: prec rec fscore\n",
            "0.9759368836291914 0.9705128205128205 0.9720299700299702 \n"
          ],
          "name": "stdout"
        },
        {
          "output_type": "stream",
          "text": [
            "\r  0%|          | 0/48 [00:00<?, ?it/s]"
          ],
          "name": "stderr"
        },
        {
          "output_type": "stream",
          "text": [
            "Epoch  26\n"
          ],
          "name": "stdout"
        },
        {
          "output_type": "stream",
          "text": [
            "100%|██████████| 48/48 [02:12<00:00,  2.75s/it]\n",
            "100%|██████████| 13/13 [00:30<00:00,  2.38s/it]\n"
          ],
          "name": "stderr"
        },
        {
          "output_type": "stream",
          "text": [
            "Accuracy  0.9358974358974359\n",
            " Metric macro: prec rec fscore\n",
            "0.8742673992673993 0.8541514041514042 0.8621193420106461 \n",
            " Metric micro: prec rec fscore\n",
            "0.9602564102564102 0.9602564102564102 0.9602564102564102 \n",
            " Metric weighted: prec rec fscore\n",
            "0.9948717948717949 0.9602564102564102 0.9745896132852656 \n"
          ],
          "name": "stdout"
        },
        {
          "output_type": "stream",
          "text": [
            "\r  0%|          | 0/48 [00:00<?, ?it/s]"
          ],
          "name": "stderr"
        },
        {
          "output_type": "stream",
          "text": [
            "Epoch  27\n"
          ],
          "name": "stdout"
        },
        {
          "output_type": "stream",
          "text": [
            "100%|██████████| 48/48 [02:15<00:00,  2.82s/it]\n",
            "100%|██████████| 13/13 [00:31<00:00,  2.41s/it]\n"
          ],
          "name": "stderr"
        },
        {
          "output_type": "stream",
          "text": [
            "Accuracy  0.9512820512820512\n",
            " Metric macro: prec rec fscore\n",
            "0.8761904761904762 0.8615129261763879 0.8669487501745565 \n",
            " Metric micro: prec rec fscore\n",
            "0.9756410256410256 0.9756410256410256 0.9756410256410256 \n",
            " Metric weighted: prec rec fscore\n",
            "0.9948717948717949 0.9756410256410256 0.9836669352153223 \n"
          ],
          "name": "stdout"
        },
        {
          "output_type": "stream",
          "text": [
            "\r  0%|          | 0/48 [00:00<?, ?it/s]"
          ],
          "name": "stderr"
        },
        {
          "output_type": "stream",
          "text": [
            "Epoch  28\n"
          ],
          "name": "stdout"
        },
        {
          "output_type": "stream",
          "text": [
            "100%|██████████| 48/48 [02:13<00:00,  2.78s/it]\n",
            "100%|██████████| 13/13 [00:30<00:00,  2.38s/it]\n"
          ],
          "name": "stderr"
        },
        {
          "output_type": "stream",
          "text": [
            "Accuracy  0.9461538461538461\n",
            " Metric macro: prec rec fscore\n",
            "0.8326923076923076 0.8101146449704142 0.8173651115909178 \n",
            " Metric micro: prec rec fscore\n",
            "0.9692307692307693 0.9692307692307693 0.9692307692307693 \n",
            " Metric weighted: prec rec fscore\n",
            "0.9868589743589744 0.9692307692307693 0.9759624175108047 \n"
          ],
          "name": "stdout"
        },
        {
          "output_type": "stream",
          "text": [
            "\r  0%|          | 0/48 [00:00<?, ?it/s]"
          ],
          "name": "stderr"
        },
        {
          "output_type": "stream",
          "text": [
            "Epoch  29\n"
          ],
          "name": "stdout"
        },
        {
          "output_type": "stream",
          "text": [
            "100%|██████████| 48/48 [02:14<00:00,  2.80s/it]\n",
            "100%|██████████| 13/13 [00:31<00:00,  2.39s/it]\n"
          ],
          "name": "stderr"
        },
        {
          "output_type": "stream",
          "text": [
            "Accuracy  0.9564102564102565\n",
            " Metric macro: prec rec fscore\n",
            "0.9101889338731444 0.8968750000000002 0.9027474059732122 \n",
            " Metric micro: prec rec fscore\n",
            "0.9820512820512821 0.9820512820512821 0.9820512820512821 \n",
            " Metric weighted: prec rec fscore\n",
            "0.9950067476383265 0.9820512820512821 0.9877129812613684 \n"
          ],
          "name": "stdout"
        },
        {
          "output_type": "stream",
          "text": [
            "\r  0%|          | 0/48 [00:00<?, ?it/s]"
          ],
          "name": "stderr"
        },
        {
          "output_type": "stream",
          "text": [
            "Epoch  30\n"
          ],
          "name": "stdout"
        },
        {
          "output_type": "stream",
          "text": [
            "100%|██████████| 48/48 [02:13<00:00,  2.78s/it]\n",
            "100%|██████████| 13/13 [00:30<00:00,  2.38s/it]\n"
          ],
          "name": "stderr"
        },
        {
          "output_type": "stream",
          "text": [
            "Accuracy  0.9512820512820512\n",
            " Metric macro: prec rec fscore\n",
            "0.8785714285714286 0.8653731684981685 0.8711245743503806 \n",
            " Metric micro: prec rec fscore\n",
            "0.976923076923077 0.976923076923077 0.976923076923077 \n",
            " Metric weighted: prec rec fscore\n",
            "0.9923076923076923 0.976923076923077 0.9837182172666045 \n"
          ],
          "name": "stdout"
        },
        {
          "output_type": "stream",
          "text": [
            "\r  0%|          | 0/48 [00:00<?, ?it/s]"
          ],
          "name": "stderr"
        },
        {
          "output_type": "stream",
          "text": [
            "Epoch  31\n"
          ],
          "name": "stdout"
        },
        {
          "output_type": "stream",
          "text": [
            "100%|██████████| 48/48 [02:14<00:00,  2.80s/it]\n",
            "100%|██████████| 13/13 [00:31<00:00,  2.40s/it]\n"
          ],
          "name": "stderr"
        },
        {
          "output_type": "stream",
          "text": [
            "Accuracy  0.958974358974359\n",
            " Metric macro: prec rec fscore\n",
            "0.8959706959706961 0.890842490842491 0.893173493173493 \n",
            " Metric micro: prec rec fscore\n",
            "0.9846153846153847 0.9846153846153847 0.9846153846153847 \n",
            " Metric weighted: prec rec fscore\n",
            "0.9897435897435898 0.9846153846153847 0.986946386946387 \n"
          ],
          "name": "stdout"
        },
        {
          "output_type": "stream",
          "text": [
            "\r  0%|          | 0/48 [00:00<?, ?it/s]"
          ],
          "name": "stderr"
        },
        {
          "output_type": "stream",
          "text": [
            "Epoch  32\n"
          ],
          "name": "stdout"
        },
        {
          "output_type": "stream",
          "text": [
            "100%|██████████| 48/48 [02:15<00:00,  2.81s/it]\n",
            "100%|██████████| 13/13 [00:31<00:00,  2.41s/it]\n"
          ],
          "name": "stderr"
        },
        {
          "output_type": "stream",
          "text": [
            "Accuracy  0.9461538461538461\n",
            " Metric macro: prec rec fscore\n",
            "0.8702380952380953 0.8549221611721612 0.8579279694664309 \n",
            " Metric micro: prec rec fscore\n",
            "0.9692307692307693 0.9692307692307693 0.9692307692307693 \n",
            " Metric weighted: prec rec fscore\n",
            "0.9858974358974358 0.9692307692307693 0.9742598000290309 \n"
          ],
          "name": "stdout"
        },
        {
          "output_type": "stream",
          "text": [
            "\r  0%|          | 0/48 [00:00<?, ?it/s]"
          ],
          "name": "stderr"
        },
        {
          "output_type": "stream",
          "text": [
            "Epoch  33\n"
          ],
          "name": "stdout"
        },
        {
          "output_type": "stream",
          "text": [
            "100%|██████████| 48/48 [02:16<00:00,  2.84s/it]\n",
            "100%|██████████| 13/13 [00:31<00:00,  2.42s/it]\n"
          ],
          "name": "stderr"
        },
        {
          "output_type": "stream",
          "text": [
            "Accuracy  0.9487179487179487\n",
            " Metric macro: prec rec fscore\n",
            "0.8670940170940171 0.8436965811965812 0.8514402264402263 \n",
            " Metric micro: prec rec fscore\n",
            "0.9743589743589745 0.9743589743589745 0.9743589743589745 \n",
            " Metric weighted: prec rec fscore\n",
            "0.9923076923076923 0.9743589743589745 0.9811532911532913 \n"
          ],
          "name": "stdout"
        },
        {
          "output_type": "stream",
          "text": [
            "\r  0%|          | 0/48 [00:00<?, ?it/s]"
          ],
          "name": "stderr"
        },
        {
          "output_type": "stream",
          "text": [
            "Epoch  34\n"
          ],
          "name": "stdout"
        },
        {
          "output_type": "stream",
          "text": [
            "100%|██████████| 48/48 [02:15<00:00,  2.83s/it]\n",
            "100%|██████████| 13/13 [00:31<00:00,  2.42s/it]\n"
          ],
          "name": "stderr"
        },
        {
          "output_type": "stream",
          "text": [
            "Accuracy  0.9461538461538461\n",
            " Metric macro: prec rec fscore\n",
            "0.8658119658119657 0.841559829059829 0.8495171495171494 \n",
            " Metric micro: prec rec fscore\n",
            "0.9717948717948719 0.9717948717948719 0.9717948717948719 \n",
            " Metric weighted: prec rec fscore\n",
            "0.9923076923076923 0.9717948717948719 0.9791020091020092 \n"
          ],
          "name": "stdout"
        },
        {
          "output_type": "stream",
          "text": [
            "\r  0%|          | 0/48 [00:00<?, ?it/s]"
          ],
          "name": "stderr"
        },
        {
          "output_type": "stream",
          "text": [
            "Epoch  35\n"
          ],
          "name": "stdout"
        },
        {
          "output_type": "stream",
          "text": [
            "100%|██████████| 48/48 [02:16<00:00,  2.84s/it]\n",
            "100%|██████████| 13/13 [00:31<00:00,  2.46s/it]\n"
          ],
          "name": "stderr"
        },
        {
          "output_type": "stream",
          "text": [
            "Accuracy  0.9205128205128205\n",
            " Metric macro: prec rec fscore\n",
            "0.8011904761904762 0.7848595848595848 0.790236302159379 \n",
            " Metric micro: prec rec fscore\n",
            "0.9461538461538462 0.9461538461538462 0.9461538461538462 \n",
            " Metric weighted: prec rec fscore\n",
            "0.9759615384615384 0.9461538461538462 0.956806441421826 \n"
          ],
          "name": "stdout"
        },
        {
          "output_type": "stream",
          "text": [
            "\r  0%|          | 0/48 [00:00<?, ?it/s]"
          ],
          "name": "stderr"
        },
        {
          "output_type": "stream",
          "text": [
            "Epoch  36\n"
          ],
          "name": "stdout"
        },
        {
          "output_type": "stream",
          "text": [
            "100%|██████████| 48/48 [02:15<00:00,  2.83s/it]\n",
            "100%|██████████| 13/13 [00:31<00:00,  2.46s/it]\n"
          ],
          "name": "stderr"
        },
        {
          "output_type": "stream",
          "text": [
            "Accuracy  0.958974358974359\n",
            " Metric macro: prec rec fscore\n",
            "0.8978021978021979 0.8861943611943613 0.8913419913419912 \n",
            " Metric micro: prec rec fscore\n",
            "0.9846153846153847 0.9846153846153847 0.9846153846153847 \n",
            " Metric weighted: prec rec fscore\n",
            "0.9974358974358974 0.9846153846153847 0.9904384504384505 \n"
          ],
          "name": "stdout"
        },
        {
          "output_type": "stream",
          "text": [
            "\r  0%|          | 0/48 [00:00<?, ?it/s]"
          ],
          "name": "stderr"
        },
        {
          "output_type": "stream",
          "text": [
            "Epoch  37\n"
          ],
          "name": "stdout"
        },
        {
          "output_type": "stream",
          "text": [
            "100%|██████████| 48/48 [02:16<00:00,  2.84s/it]\n",
            "100%|██████████| 13/13 [00:31<00:00,  2.45s/it]\n"
          ],
          "name": "stderr"
        },
        {
          "output_type": "stream",
          "text": [
            "Accuracy  0.9282051282051282\n",
            " Metric macro: prec rec fscore\n",
            "0.8065018315018316 0.7894292111397376 0.79720071620852 \n",
            " Metric micro: prec rec fscore\n",
            "0.9525641025641025 0.9525641025641025 0.9525641025641025 \n",
            " Metric weighted: prec rec fscore\n",
            "0.9871794871794872 0.9525641025641025 0.9681615094101159 \n"
          ],
          "name": "stdout"
        },
        {
          "output_type": "stream",
          "text": [
            "\r  0%|          | 0/48 [00:00<?, ?it/s]"
          ],
          "name": "stderr"
        },
        {
          "output_type": "stream",
          "text": [
            "Epoch  38\n"
          ],
          "name": "stdout"
        },
        {
          "output_type": "stream",
          "text": [
            "100%|██████████| 48/48 [02:18<00:00,  2.89s/it]\n",
            "100%|██████████| 13/13 [00:32<00:00,  2.47s/it]\n"
          ],
          "name": "stderr"
        },
        {
          "output_type": "stream",
          "text": [
            "Accuracy  0.9384615384615385\n",
            " Metric macro: prec rec fscore\n",
            "0.854945054945055 0.8336996336996336 0.8414575709367872 \n",
            " Metric micro: prec rec fscore\n",
            "0.9641025641025642 0.9641025641025642 0.9641025641025642 \n",
            " Metric weighted: prec rec fscore\n",
            "0.9897435897435898 0.9641025641025642 0.9738383133031963 \n"
          ],
          "name": "stdout"
        },
        {
          "output_type": "stream",
          "text": [
            "\r  0%|          | 0/48 [00:00<?, ?it/s]"
          ],
          "name": "stderr"
        },
        {
          "output_type": "stream",
          "text": [
            "Epoch  39\n"
          ],
          "name": "stdout"
        },
        {
          "output_type": "stream",
          "text": [
            "100%|██████████| 48/48 [02:18<00:00,  2.89s/it]\n",
            "100%|██████████| 13/13 [00:32<00:00,  2.48s/it]\n"
          ],
          "name": "stderr"
        },
        {
          "output_type": "stream",
          "text": [
            "Accuracy  0.9435897435897436\n",
            " Metric macro: prec rec fscore\n",
            "0.8590354090354091 0.8314102564102565 0.8408417650725344 \n",
            " Metric micro: prec rec fscore\n",
            "0.9692307692307693 0.9692307692307693 0.9692307692307693 \n",
            " Metric weighted: prec rec fscore\n",
            "0.9923076923076923 0.9692307692307693 0.9781364789057096 \n"
          ],
          "name": "stdout"
        },
        {
          "output_type": "stream",
          "text": [
            "\r  0%|          | 0/48 [00:00<?, ?it/s]"
          ],
          "name": "stderr"
        },
        {
          "output_type": "stream",
          "text": [
            "Epoch  40\n"
          ],
          "name": "stdout"
        },
        {
          "output_type": "stream",
          "text": [
            "100%|██████████| 48/48 [02:18<00:00,  2.88s/it]\n",
            "100%|██████████| 13/13 [00:32<00:00,  2.47s/it]\n"
          ],
          "name": "stderr"
        },
        {
          "output_type": "stream",
          "text": [
            "Accuracy  0.9564102564102565\n",
            " Metric macro: prec rec fscore\n",
            "0.9042124542124542 0.8916525781910399 0.8972446601018029 \n",
            " Metric micro: prec rec fscore\n",
            "0.9820512820512821 0.9820512820512821 0.9820512820512821 \n",
            " Metric weighted: prec rec fscore\n",
            "0.9974358974358974 0.9820512820512821 0.988909756909757 \n"
          ],
          "name": "stdout"
        },
        {
          "output_type": "stream",
          "text": [
            "\r  0%|          | 0/48 [00:00<?, ?it/s]"
          ],
          "name": "stderr"
        },
        {
          "output_type": "stream",
          "text": [
            "Epoch  41\n"
          ],
          "name": "stdout"
        },
        {
          "output_type": "stream",
          "text": [
            "100%|██████████| 48/48 [02:17<00:00,  2.86s/it]\n",
            "100%|██████████| 13/13 [00:31<00:00,  2.44s/it]\n"
          ],
          "name": "stderr"
        },
        {
          "output_type": "stream",
          "text": [
            "Accuracy  0.9128205128205128\n",
            " Metric macro: prec rec fscore\n",
            "0.7283882783882784 0.6880573638815396 0.7024467246259982 \n",
            " Metric micro: prec rec fscore\n",
            "0.935897435897436 0.935897435897436 0.935897435897436 \n",
            " Metric weighted: prec rec fscore\n",
            "0.9823717948717949 0.935897435897436 0.95406545201814 \n"
          ],
          "name": "stdout"
        },
        {
          "output_type": "stream",
          "text": [
            "\r  0%|          | 0/48 [00:00<?, ?it/s]"
          ],
          "name": "stderr"
        },
        {
          "output_type": "stream",
          "text": [
            "Epoch  42\n"
          ],
          "name": "stdout"
        },
        {
          "output_type": "stream",
          "text": [
            "100%|██████████| 48/48 [02:16<00:00,  2.84s/it]\n",
            "100%|██████████| 13/13 [00:31<00:00,  2.40s/it]\n"
          ],
          "name": "stderr"
        },
        {
          "output_type": "stream",
          "text": [
            "Accuracy  0.9307692307692308\n",
            " Metric macro: prec rec fscore\n",
            "0.7713064713064713 0.7338626168296496 0.7477839634839157 \n",
            " Metric micro: prec rec fscore\n",
            "0.9551282051282051 0.9551282051282051 0.9551282051282051 \n",
            " Metric weighted: prec rec fscore\n",
            "0.9923076923076923 0.9551282051282051 0.9704539445854944 \n"
          ],
          "name": "stdout"
        },
        {
          "output_type": "stream",
          "text": [
            "\r  0%|          | 0/48 [00:00<?, ?it/s]"
          ],
          "name": "stderr"
        },
        {
          "output_type": "stream",
          "text": [
            "Epoch  43\n"
          ],
          "name": "stdout"
        },
        {
          "output_type": "stream",
          "text": [
            "100%|██████████| 48/48 [02:17<00:00,  2.86s/it]\n",
            "100%|██████████| 13/13 [00:32<00:00,  2.51s/it]\n"
          ],
          "name": "stderr"
        },
        {
          "output_type": "stream",
          "text": [
            "Accuracy  0.9435897435897436\n",
            " Metric macro: prec rec fscore\n",
            "0.8282967032967032 0.8128209931094548 0.816180963486267 \n",
            " Metric micro: prec rec fscore\n",
            "0.9666666666666668 0.9666666666666668 0.9666666666666668 \n",
            " Metric weighted: prec rec fscore\n",
            "0.9884615384615384 0.9666666666666668 0.9743481368130199 \n"
          ],
          "name": "stdout"
        },
        {
          "output_type": "stream",
          "text": [
            "\r  0%|          | 0/48 [00:00<?, ?it/s]"
          ],
          "name": "stderr"
        },
        {
          "output_type": "stream",
          "text": [
            "Epoch  44\n"
          ],
          "name": "stdout"
        },
        {
          "output_type": "stream",
          "text": [
            "100%|██████████| 48/48 [02:19<00:00,  2.91s/it]\n",
            "100%|██████████| 13/13 [00:32<00:00,  2.47s/it]\n"
          ],
          "name": "stderr"
        },
        {
          "output_type": "stream",
          "text": [
            "Accuracy  0.9435897435897436\n",
            " Metric macro: prec rec fscore\n",
            "0.8620879120879121 0.8251373626373627 0.8384432993407351 \n",
            " Metric micro: prec rec fscore\n",
            "0.9692307692307692 0.9692307692307692 0.9692307692307692 \n",
            " Metric weighted: prec rec fscore\n",
            "1.0 0.9692307692307692 0.9816888998940281 \n"
          ],
          "name": "stdout"
        },
        {
          "output_type": "stream",
          "text": [
            "\r  0%|          | 0/48 [00:00<?, ?it/s]"
          ],
          "name": "stderr"
        },
        {
          "output_type": "stream",
          "text": [
            "Epoch  45\n"
          ],
          "name": "stdout"
        },
        {
          "output_type": "stream",
          "text": [
            "100%|██████████| 48/48 [02:17<00:00,  2.87s/it]\n",
            "100%|██████████| 13/13 [00:31<00:00,  2.42s/it]\n"
          ],
          "name": "stderr"
        },
        {
          "output_type": "stream",
          "text": [
            "Accuracy  0.9564102564102565\n",
            " Metric macro: prec rec fscore\n",
            "0.9111721611721612 0.9014874014874015 0.9054945054945054 \n",
            " Metric micro: prec rec fscore\n",
            "0.9782051282051282 0.9782051282051282 0.9782051282051282 \n",
            " Metric weighted: prec rec fscore\n",
            "0.9884615384615384 0.9782051282051282 0.9825030525030526 \n"
          ],
          "name": "stdout"
        },
        {
          "output_type": "stream",
          "text": [
            "\r  0%|          | 0/48 [00:00<?, ?it/s]"
          ],
          "name": "stderr"
        },
        {
          "output_type": "stream",
          "text": [
            "Epoch  46\n"
          ],
          "name": "stdout"
        },
        {
          "output_type": "stream",
          "text": [
            "100%|██████████| 48/48 [02:15<00:00,  2.82s/it]\n",
            "100%|██████████| 13/13 [00:31<00:00,  2.43s/it]\n"
          ],
          "name": "stderr"
        },
        {
          "output_type": "stream",
          "text": [
            "Accuracy  0.958974358974359\n",
            " Metric macro: prec rec fscore\n",
            "0.9313186813186815 0.9182151182151184 0.9202797202797203 \n",
            " Metric micro: prec rec fscore\n",
            "0.9820512820512821 0.9820512820512821 0.9820512820512821 \n",
            " Metric weighted: prec rec fscore\n",
            "0.9961538461538461 0.9820512820512821 0.9859879009879011 \n"
          ],
          "name": "stdout"
        },
        {
          "output_type": "stream",
          "text": [
            "\r  0%|          | 0/48 [00:00<?, ?it/s]"
          ],
          "name": "stderr"
        },
        {
          "output_type": "stream",
          "text": [
            "Epoch  47\n"
          ],
          "name": "stdout"
        },
        {
          "output_type": "stream",
          "text": [
            "100%|██████████| 48/48 [02:14<00:00,  2.81s/it]\n",
            "100%|██████████| 13/13 [00:31<00:00,  2.42s/it]\n"
          ],
          "name": "stderr"
        },
        {
          "output_type": "stream",
          "text": [
            "Accuracy  0.958974358974359\n",
            " Metric macro: prec rec fscore\n",
            "0.9287545787545789 0.9076534576534578 0.9156269205049694 \n",
            " Metric micro: prec rec fscore\n",
            "0.9820512820512821 0.9820512820512821 0.9820512820512821 \n",
            " Metric weighted: prec rec fscore\n",
            "1.0 0.9820512820512821 0.9893637798515849 \n"
          ],
          "name": "stdout"
        },
        {
          "output_type": "stream",
          "text": [
            "\r  0%|          | 0/48 [00:00<?, ?it/s]"
          ],
          "name": "stderr"
        },
        {
          "output_type": "stream",
          "text": [
            "Epoch  48\n"
          ],
          "name": "stdout"
        },
        {
          "output_type": "stream",
          "text": [
            "100%|██████████| 48/48 [02:14<00:00,  2.81s/it]\n",
            "100%|██████████| 13/13 [00:31<00:00,  2.43s/it]\n"
          ],
          "name": "stderr"
        },
        {
          "output_type": "stream",
          "text": [
            "Accuracy  0.958974358974359\n",
            " Metric macro: prec rec fscore\n",
            "0.926007326007326 0.9029151404151405 0.9116661116661116 \n",
            " Metric micro: prec rec fscore\n",
            "0.9820512820512821 0.9820512820512821 0.9820512820512821 \n",
            " Metric weighted: prec rec fscore\n",
            "1.0 0.9820512820512821 0.9891142191142192 \n"
          ],
          "name": "stdout"
        },
        {
          "output_type": "stream",
          "text": [
            "\r  0%|          | 0/48 [00:00<?, ?it/s]"
          ],
          "name": "stderr"
        },
        {
          "output_type": "stream",
          "text": [
            "Epoch  49\n"
          ],
          "name": "stdout"
        },
        {
          "output_type": "stream",
          "text": [
            "100%|██████████| 48/48 [02:16<00:00,  2.84s/it]\n",
            "100%|██████████| 13/13 [00:31<00:00,  2.41s/it]\n"
          ],
          "name": "stderr"
        },
        {
          "output_type": "stream",
          "text": [
            "Accuracy  0.9384615384615385\n",
            " Metric macro: prec rec fscore\n",
            "0.848901098901099 0.8255411255411255 0.8347085962470577 \n",
            " Metric micro: prec rec fscore\n",
            "0.9641025641025642 0.9641025641025642 0.9641025641025642 \n",
            " Metric weighted: prec rec fscore\n",
            "0.9923076923076923 0.9641025641025642 0.9752644127003103 \n"
          ],
          "name": "stdout"
        },
        {
          "output_type": "stream",
          "text": [
            "\r  0%|          | 0/48 [00:00<?, ?it/s]"
          ],
          "name": "stderr"
        },
        {
          "output_type": "stream",
          "text": [
            "Epoch  50\n"
          ],
          "name": "stdout"
        },
        {
          "output_type": "stream",
          "text": [
            "100%|██████████| 48/48 [02:14<00:00,  2.81s/it]\n",
            "100%|██████████| 13/13 [00:31<00:00,  2.41s/it]\n"
          ],
          "name": "stderr"
        },
        {
          "output_type": "stream",
          "text": [
            "Accuracy  0.9564102564102565\n",
            " Metric macro: prec rec fscore\n",
            "0.8787545787545787 0.8662004662004663 0.871993533531995 \n",
            " Metric micro: prec rec fscore\n",
            "0.9820512820512821 0.9820512820512821 0.9820512820512821 \n",
            " Metric weighted: prec rec fscore\n",
            "0.9974358974358974 0.9820512820512821 0.9891867866226841 \n"
          ],
          "name": "stdout"
        },
        {
          "output_type": "stream",
          "text": [
            "\r  0%|          | 0/48 [00:00<?, ?it/s]"
          ],
          "name": "stderr"
        },
        {
          "output_type": "stream",
          "text": [
            "Epoch  51\n"
          ],
          "name": "stdout"
        },
        {
          "output_type": "stream",
          "text": [
            "100%|██████████| 48/48 [02:15<00:00,  2.82s/it]\n",
            "100%|██████████| 13/13 [00:31<00:00,  2.40s/it]\n"
          ],
          "name": "stderr"
        },
        {
          "output_type": "stream",
          "text": [
            "Accuracy  0.9461538461538461\n",
            " Metric macro: prec rec fscore\n",
            "0.8425824175824176 0.8219683094683096 0.8309537288108717 \n",
            " Metric micro: prec rec fscore\n",
            "0.9717948717948719 0.9717948717948719 0.9717948717948719 \n",
            " Metric weighted: prec rec fscore\n",
            "0.9923076923076923 0.9717948717948719 0.9809324009324011 \n"
          ],
          "name": "stdout"
        },
        {
          "output_type": "stream",
          "text": [
            "\r  0%|          | 0/48 [00:00<?, ?it/s]"
          ],
          "name": "stderr"
        },
        {
          "output_type": "stream",
          "text": [
            "Epoch  52\n"
          ],
          "name": "stdout"
        },
        {
          "output_type": "stream",
          "text": [
            "100%|██████████| 48/48 [02:13<00:00,  2.79s/it]\n",
            "100%|██████████| 13/13 [00:31<00:00,  2.40s/it]\n"
          ],
          "name": "stderr"
        },
        {
          "output_type": "stream",
          "text": [
            "Accuracy  0.9564102564102565\n",
            " Metric macro: prec rec fscore\n",
            "0.882967032967033 0.8700434981684982 0.8746611019253698 \n",
            " Metric micro: prec rec fscore\n",
            "0.9820512820512821 0.9820512820512821 0.9820512820512821 \n",
            " Metric weighted: prec rec fscore\n",
            "0.9948717948717949 0.9820512820512821 0.9869229612405791 \n"
          ],
          "name": "stdout"
        },
        {
          "output_type": "stream",
          "text": [
            "\r  0%|          | 0/48 [00:00<?, ?it/s]"
          ],
          "name": "stderr"
        },
        {
          "output_type": "stream",
          "text": [
            "Epoch  53\n"
          ],
          "name": "stdout"
        },
        {
          "output_type": "stream",
          "text": [
            "100%|██████████| 48/48 [02:14<00:00,  2.79s/it]\n",
            "100%|██████████| 13/13 [00:31<00:00,  2.40s/it]\n"
          ],
          "name": "stderr"
        },
        {
          "output_type": "stream",
          "text": [
            "Accuracy  0.9538461538461539\n",
            " Metric macro: prec rec fscore\n",
            "0.8584249084249086 0.846886446886447 0.8521504136888752 \n",
            " Metric micro: prec rec fscore\n",
            "0.9794871794871796 0.9794871794871796 0.9794871794871796 \n",
            " Metric weighted: prec rec fscore\n",
            "0.9923076923076923 0.9794871794871796 0.985332616101847 \n"
          ],
          "name": "stdout"
        },
        {
          "output_type": "stream",
          "text": [
            "\r  0%|          | 0/48 [00:00<?, ?it/s]"
          ],
          "name": "stderr"
        },
        {
          "output_type": "stream",
          "text": [
            "Epoch  54\n"
          ],
          "name": "stdout"
        },
        {
          "output_type": "stream",
          "text": [
            "100%|██████████| 48/48 [02:14<00:00,  2.81s/it]\n",
            "100%|██████████| 13/13 [00:31<00:00,  2.41s/it]\n"
          ],
          "name": "stderr"
        },
        {
          "output_type": "stream",
          "text": [
            "Accuracy  0.9538461538461539\n",
            " Metric macro: prec rec fscore\n",
            "0.8784981684981685 0.8805860805860808 0.8772586387971002 \n",
            " Metric micro: prec rec fscore\n",
            "0.9756410256410256 0.9756410256410256 0.9756410256410256 \n",
            " Metric weighted: prec rec fscore\n",
            "0.9787179487179487 0.9756410256410256 0.9758587566279874 \n"
          ],
          "name": "stdout"
        },
        {
          "output_type": "stream",
          "text": [
            "\r  0%|          | 0/48 [00:00<?, ?it/s]"
          ],
          "name": "stderr"
        },
        {
          "output_type": "stream",
          "text": [
            "Epoch  55\n"
          ],
          "name": "stdout"
        },
        {
          "output_type": "stream",
          "text": [
            "100%|██████████| 48/48 [02:15<00:00,  2.82s/it]\n",
            "100%|██████████| 13/13 [00:31<00:00,  2.41s/it]\n"
          ],
          "name": "stderr"
        },
        {
          "output_type": "stream",
          "text": [
            "Accuracy  0.9564102564102565\n",
            " Metric macro: prec rec fscore\n",
            "0.8782051282051283 0.8605006105006106 0.8668357283741899 \n",
            " Metric micro: prec rec fscore\n",
            "0.9807692307692307 0.9807692307692307 0.9807692307692307 \n",
            " Metric weighted: prec rec fscore\n",
            "0.9919871794871795 0.9807692307692307 0.9849430057122366 \n"
          ],
          "name": "stdout"
        },
        {
          "output_type": "stream",
          "text": [
            "\r  0%|          | 0/48 [00:00<?, ?it/s]"
          ],
          "name": "stderr"
        },
        {
          "output_type": "stream",
          "text": [
            "Epoch  56\n"
          ],
          "name": "stdout"
        },
        {
          "output_type": "stream",
          "text": [
            "100%|██████████| 48/48 [02:13<00:00,  2.78s/it]\n",
            "100%|██████████| 13/13 [00:31<00:00,  2.42s/it]\n"
          ],
          "name": "stderr"
        },
        {
          "output_type": "stream",
          "text": [
            "Accuracy  0.9384615384615385\n",
            " Metric macro: prec rec fscore\n",
            "0.8034798534798534 0.7795978327228327 0.7876856649559051 \n",
            " Metric micro: prec rec fscore\n",
            "0.9628205128205128 0.9628205128205128 0.9628205128205128 \n",
            " Metric weighted: prec rec fscore\n",
            "0.9836996336996336 0.9628205128205128 0.9710983733424127 \n"
          ],
          "name": "stdout"
        },
        {
          "output_type": "stream",
          "text": [
            "\r  0%|          | 0/48 [00:00<?, ?it/s]"
          ],
          "name": "stderr"
        },
        {
          "output_type": "stream",
          "text": [
            "Epoch  57\n"
          ],
          "name": "stdout"
        },
        {
          "output_type": "stream",
          "text": [
            "100%|██████████| 48/48 [02:15<00:00,  2.82s/it]\n",
            "100%|██████████| 13/13 [00:31<00:00,  2.40s/it]\n"
          ],
          "name": "stderr"
        },
        {
          "output_type": "stream",
          "text": [
            "Accuracy  0.9333333333333333\n",
            " Metric macro: prec rec fscore\n",
            "0.8142024642024641 0.7779952686202687 0.7900200561579506 \n",
            " Metric micro: prec rec fscore\n",
            "0.9576923076923076 0.9576923076923076 0.9576923076923076 \n",
            " Metric weighted: prec rec fscore\n",
            "0.9870920745920746 0.9576923076923076 0.9686070036938523 \n"
          ],
          "name": "stdout"
        },
        {
          "output_type": "stream",
          "text": [
            "\r  0%|          | 0/48 [00:00<?, ?it/s]"
          ],
          "name": "stderr"
        },
        {
          "output_type": "stream",
          "text": [
            "Epoch  58\n"
          ],
          "name": "stdout"
        },
        {
          "output_type": "stream",
          "text": [
            "100%|██████████| 48/48 [02:14<00:00,  2.80s/it]\n",
            "100%|██████████| 13/13 [00:31<00:00,  2.40s/it]\n"
          ],
          "name": "stderr"
        },
        {
          "output_type": "stream",
          "text": [
            "Accuracy  0.9538461538461539\n",
            " Metric macro: prec rec fscore\n",
            "0.893956043956044 0.8670188785573403 0.87509657009657 \n",
            " Metric micro: prec rec fscore\n",
            "0.9782051282051282 0.9782051282051282 0.9782051282051282 \n",
            " Metric weighted: prec rec fscore\n",
            "0.9945512820512821 0.9782051282051282 0.9837082917082918 \n"
          ],
          "name": "stdout"
        },
        {
          "output_type": "stream",
          "text": [
            "\r  0%|          | 0/48 [00:00<?, ?it/s]"
          ],
          "name": "stderr"
        },
        {
          "output_type": "stream",
          "text": [
            "Epoch  59\n"
          ],
          "name": "stdout"
        },
        {
          "output_type": "stream",
          "text": [
            "100%|██████████| 48/48 [02:14<00:00,  2.81s/it]\n",
            "100%|██████████| 13/13 [00:31<00:00,  2.41s/it]\n"
          ],
          "name": "stderr"
        },
        {
          "output_type": "stream",
          "text": [
            "Accuracy  0.9487179487179487\n",
            " Metric macro: prec rec fscore\n",
            "0.8692307692307693 0.8523668639053257 0.8584168212739642 \n",
            " Metric micro: prec rec fscore\n",
            "0.9730769230769231 0.9730769230769231 0.9730769230769231 \n",
            " Metric weighted: prec rec fscore\n",
            "0.989423076923077 0.9730769230769231 0.9794958374958376 \n"
          ],
          "name": "stdout"
        },
        {
          "output_type": "stream",
          "text": [
            "\r  0%|          | 0/48 [00:00<?, ?it/s]"
          ],
          "name": "stderr"
        },
        {
          "output_type": "stream",
          "text": [
            "Epoch  60\n"
          ],
          "name": "stdout"
        },
        {
          "output_type": "stream",
          "text": [
            "100%|██████████| 48/48 [02:15<00:00,  2.82s/it]\n",
            "100%|██████████| 13/13 [00:31<00:00,  2.44s/it]\n"
          ],
          "name": "stderr"
        },
        {
          "output_type": "stream",
          "text": [
            "Accuracy  0.9333333333333333\n",
            " Metric macro: prec rec fscore\n",
            "0.8257326007326007 0.7917069042069044 0.8021108582981492 \n",
            " Metric micro: prec rec fscore\n",
            "0.9551282051282051 0.9551282051282051 0.9551282051282051 \n",
            " Metric weighted: prec rec fscore\n",
            "0.984981684981685 0.9551282051282051 0.9655053642010164 \n"
          ],
          "name": "stdout"
        },
        {
          "output_type": "stream",
          "text": [
            "\r  0%|          | 0/48 [00:00<?, ?it/s]"
          ],
          "name": "stderr"
        },
        {
          "output_type": "stream",
          "text": [
            "Epoch  61\n"
          ],
          "name": "stdout"
        },
        {
          "output_type": "stream",
          "text": [
            "100%|██████████| 48/48 [02:16<00:00,  2.84s/it]\n",
            "100%|██████████| 13/13 [00:31<00:00,  2.44s/it]\n"
          ],
          "name": "stderr"
        },
        {
          "output_type": "stream",
          "text": [
            "Accuracy  0.9435897435897436\n",
            " Metric macro: prec rec fscore\n",
            "0.8346153846153848 0.8080139945524561 0.8187168387168385 \n",
            " Metric micro: prec rec fscore\n",
            "0.9653846153846154 0.9653846153846154 0.9653846153846154 \n",
            " Metric weighted: prec rec fscore\n",
            "0.9865384615384616 0.9653846153846154 0.9742455322455323 \n"
          ],
          "name": "stdout"
        },
        {
          "output_type": "stream",
          "text": [
            "\r  0%|          | 0/48 [00:00<?, ?it/s]"
          ],
          "name": "stderr"
        },
        {
          "output_type": "stream",
          "text": [
            "Epoch  62\n"
          ],
          "name": "stdout"
        },
        {
          "output_type": "stream",
          "text": [
            "100%|██████████| 48/48 [02:15<00:00,  2.83s/it]\n",
            "100%|██████████| 13/13 [00:31<00:00,  2.43s/it]\n"
          ],
          "name": "stderr"
        },
        {
          "output_type": "stream",
          "text": [
            "Accuracy  0.9538461538461539\n",
            " Metric macro: prec rec fscore\n",
            "0.9015567765567764 0.8844627594627595 0.8899877899877899 \n",
            " Metric micro: prec rec fscore\n",
            "0.976923076923077 0.976923076923077 0.976923076923077 \n",
            " Metric weighted: prec rec fscore\n",
            "0.9919871794871795 0.976923076923077 0.9820879120879121 \n"
          ],
          "name": "stdout"
        },
        {
          "output_type": "stream",
          "text": [
            "\r  0%|          | 0/48 [00:00<?, ?it/s]"
          ],
          "name": "stderr"
        },
        {
          "output_type": "stream",
          "text": [
            "Epoch  63\n"
          ],
          "name": "stdout"
        },
        {
          "output_type": "stream",
          "text": [
            "100%|██████████| 48/48 [02:15<00:00,  2.82s/it]\n",
            "100%|██████████| 13/13 [00:31<00:00,  2.43s/it]\n"
          ],
          "name": "stderr"
        },
        {
          "output_type": "stream",
          "text": [
            "Accuracy  0.9333333333333333\n",
            " Metric macro: prec rec fscore\n",
            "0.7817765567765568 0.7495598151848153 0.761317018472591 \n",
            " Metric micro: prec rec fscore\n",
            "0.9538461538461539 0.9538461538461539 0.9538461538461539 \n",
            " Metric weighted: prec rec fscore\n",
            "0.9897435897435898 0.9538461538461539 0.9675231098842061 \n"
          ],
          "name": "stdout"
        },
        {
          "output_type": "stream",
          "text": [
            "\r  0%|          | 0/48 [00:00<?, ?it/s]"
          ],
          "name": "stderr"
        },
        {
          "output_type": "stream",
          "text": [
            "Epoch  64\n"
          ],
          "name": "stdout"
        },
        {
          "output_type": "stream",
          "text": [
            "100%|██████████| 48/48 [02:15<00:00,  2.82s/it]\n",
            "100%|██████████| 13/13 [00:31<00:00,  2.42s/it]\n"
          ],
          "name": "stderr"
        },
        {
          "output_type": "stream",
          "text": [
            "Accuracy  0.9307692307692308\n",
            " Metric macro: prec rec fscore\n",
            "0.7982600732600733 0.7771998222365869 0.7843311228053763 \n",
            " Metric micro: prec rec fscore\n",
            "0.9512820512820515 0.9512820512820515 0.9512820512820515 \n",
            " Metric weighted: prec rec fscore\n",
            "0.9783119658119659 0.9512820512820515 0.9618095784014439 \n"
          ],
          "name": "stdout"
        },
        {
          "output_type": "stream",
          "text": [
            "\r  0%|          | 0/48 [00:00<?, ?it/s]"
          ],
          "name": "stderr"
        },
        {
          "output_type": "stream",
          "text": [
            "Epoch  65\n"
          ],
          "name": "stdout"
        },
        {
          "output_type": "stream",
          "text": [
            "100%|██████████| 48/48 [02:15<00:00,  2.82s/it]\n",
            "100%|██████████| 13/13 [00:31<00:00,  2.43s/it]\n"
          ],
          "name": "stderr"
        },
        {
          "output_type": "stream",
          "text": [
            "Accuracy  0.9461538461538461\n",
            " Metric macro: prec rec fscore\n",
            "0.8597985347985347 0.8336662241267503 0.8426724605296034 \n",
            " Metric micro: prec rec fscore\n",
            "0.9692307692307693 0.9692307692307693 0.9692307692307693 \n",
            " Metric weighted: prec rec fscore\n",
            "0.9919871794871795 0.9692307692307693 0.9777919677919679 \n"
          ],
          "name": "stdout"
        },
        {
          "output_type": "stream",
          "text": [
            "\r  0%|          | 0/48 [00:00<?, ?it/s]"
          ],
          "name": "stderr"
        },
        {
          "output_type": "stream",
          "text": [
            "Epoch  66\n"
          ],
          "name": "stdout"
        },
        {
          "output_type": "stream",
          "text": [
            "100%|██████████| 48/48 [02:16<00:00,  2.85s/it]\n",
            "100%|██████████| 13/13 [00:31<00:00,  2.44s/it]\n"
          ],
          "name": "stderr"
        },
        {
          "output_type": "stream",
          "text": [
            "Accuracy  0.9358974358974359\n",
            " Metric macro: prec rec fscore\n",
            "0.8049450549450549 0.7762374377758993 0.7870302368439016 \n",
            " Metric micro: prec rec fscore\n",
            "0.9602564102564103 0.9602564102564103 0.9602564102564103 \n",
            " Metric weighted: prec rec fscore\n",
            "0.9842948717948719 0.9602564102564103 0.9698441365397887 \n"
          ],
          "name": "stdout"
        },
        {
          "output_type": "stream",
          "text": [
            "\r  0%|          | 0/48 [00:00<?, ?it/s]"
          ],
          "name": "stderr"
        },
        {
          "output_type": "stream",
          "text": [
            "Epoch  67\n"
          ],
          "name": "stdout"
        },
        {
          "output_type": "stream",
          "text": [
            "100%|██████████| 48/48 [02:15<00:00,  2.83s/it]\n",
            "100%|██████████| 13/13 [00:31<00:00,  2.44s/it]\n"
          ],
          "name": "stderr"
        },
        {
          "output_type": "stream",
          "text": [
            "Accuracy  0.9487179487179487\n",
            " Metric macro: prec rec fscore\n",
            "0.8424908424908424 0.8215201465201465 0.8290376290376291 \n",
            " Metric micro: prec rec fscore\n",
            "0.9730769230769231 0.9730769230769231 0.9730769230769231 \n",
            " Metric weighted: prec rec fscore\n",
            "0.989423076923077 0.9730769230769231 0.9792485292485293 \n"
          ],
          "name": "stdout"
        },
        {
          "output_type": "stream",
          "text": [
            "\r  0%|          | 0/48 [00:00<?, ?it/s]"
          ],
          "name": "stderr"
        },
        {
          "output_type": "stream",
          "text": [
            "Epoch  68\n"
          ],
          "name": "stdout"
        },
        {
          "output_type": "stream",
          "text": [
            "100%|██████████| 48/48 [02:16<00:00,  2.85s/it]\n",
            "100%|██████████| 13/13 [00:31<00:00,  2.42s/it]\n"
          ],
          "name": "stderr"
        },
        {
          "output_type": "stream",
          "text": [
            "Accuracy  0.9461538461538461\n",
            " Metric macro: prec rec fscore\n",
            "0.8932234432234433 0.8702380952380954 0.878246621103764 \n",
            " Metric micro: prec rec fscore\n",
            "0.9705128205128205 0.9705128205128205 0.9705128205128205 \n",
            " Metric weighted: prec rec fscore\n",
            "0.9945512820512821 0.9705128205128205 0.979572896239563 \n"
          ],
          "name": "stdout"
        },
        {
          "output_type": "stream",
          "text": [
            "\r  0%|          | 0/48 [00:00<?, ?it/s]"
          ],
          "name": "stderr"
        },
        {
          "output_type": "stream",
          "text": [
            "Epoch  69\n"
          ],
          "name": "stdout"
        },
        {
          "output_type": "stream",
          "text": [
            "100%|██████████| 48/48 [02:16<00:00,  2.85s/it]\n",
            "100%|██████████| 13/13 [00:31<00:00,  2.44s/it]\n"
          ],
          "name": "stderr"
        },
        {
          "output_type": "stream",
          "text": [
            "Accuracy  0.9487179487179487\n",
            " Metric macro: prec rec fscore\n",
            "0.8826007326007324 0.8676823176823176 0.8728319299747871 \n",
            " Metric micro: prec rec fscore\n",
            "0.9730769230769231 0.9730769230769231 0.9730769230769231 \n",
            " Metric weighted: prec rec fscore\n",
            "0.9919871794871795 0.9730769230769231 0.9805117105117105 \n"
          ],
          "name": "stdout"
        },
        {
          "output_type": "stream",
          "text": [
            "\r  0%|          | 0/48 [00:00<?, ?it/s]"
          ],
          "name": "stderr"
        },
        {
          "output_type": "stream",
          "text": [
            "Epoch  70\n"
          ],
          "name": "stdout"
        },
        {
          "output_type": "stream",
          "text": [
            "100%|██████████| 48/48 [02:15<00:00,  2.82s/it]\n",
            "100%|██████████| 13/13 [00:31<00:00,  2.42s/it]\n"
          ],
          "name": "stderr"
        },
        {
          "output_type": "stream",
          "text": [
            "Accuracy  0.9461538461538461\n",
            " Metric macro: prec rec fscore\n",
            "0.8816849816849814 0.8645530939648587 0.8701695130266559 \n",
            " Metric micro: prec rec fscore\n",
            "0.9705128205128205 0.9705128205128205 0.9705128205128205 \n",
            " Metric weighted: prec rec fscore\n",
            "0.9919871794871795 0.9705128205128205 0.9785381285381286 \n"
          ],
          "name": "stdout"
        },
        {
          "output_type": "stream",
          "text": [
            "\r  0%|          | 0/48 [00:00<?, ?it/s]"
          ],
          "name": "stderr"
        },
        {
          "output_type": "stream",
          "text": [
            "Epoch  71\n"
          ],
          "name": "stdout"
        },
        {
          "output_type": "stream",
          "text": [
            "100%|██████████| 48/48 [02:16<00:00,  2.85s/it]\n",
            "100%|██████████| 13/13 [00:31<00:00,  2.44s/it]\n"
          ],
          "name": "stderr"
        },
        {
          "output_type": "stream",
          "text": [
            "Accuracy  0.9487179487179487\n",
            " Metric macro: prec rec fscore\n",
            "0.8765567765567766 0.8567442361560009 0.8633985062556491 \n",
            " Metric micro: prec rec fscore\n",
            "0.9730769230769231 0.9730769230769231 0.9730769230769231 \n",
            " Metric weighted: prec rec fscore\n",
            "0.9919871794871795 0.9730769230769231 0.97994782994783 \n"
          ],
          "name": "stdout"
        },
        {
          "output_type": "stream",
          "text": [
            "\r  0%|          | 0/48 [00:00<?, ?it/s]"
          ],
          "name": "stderr"
        },
        {
          "output_type": "stream",
          "text": [
            "Epoch  72\n"
          ],
          "name": "stdout"
        },
        {
          "output_type": "stream",
          "text": [
            "100%|██████████| 48/48 [02:16<00:00,  2.85s/it]\n",
            "100%|██████████| 13/13 [00:31<00:00,  2.42s/it]\n"
          ],
          "name": "stderr"
        },
        {
          "output_type": "stream",
          "text": [
            "Accuracy  0.9615384615384616\n",
            " Metric macro: prec rec fscore\n",
            "0.9294871794871795 0.9205128205128206 0.922930402930403 \n",
            " Metric micro: prec rec fscore\n",
            "0.9858974358974358 0.9858974358974358 0.9858974358974358 \n",
            " Metric weighted: prec rec fscore\n",
            "0.9919871794871795 0.9858974358974358 0.9875824175824176 \n"
          ],
          "name": "stdout"
        },
        {
          "output_type": "stream",
          "text": [
            "\r  0%|          | 0/48 [00:00<?, ?it/s]"
          ],
          "name": "stderr"
        },
        {
          "output_type": "stream",
          "text": [
            "Epoch  73\n"
          ],
          "name": "stdout"
        },
        {
          "output_type": "stream",
          "text": [
            "100%|██████████| 48/48 [02:17<00:00,  2.85s/it]\n",
            "100%|██████████| 13/13 [00:31<00:00,  2.44s/it]\n"
          ],
          "name": "stderr"
        },
        {
          "output_type": "stream",
          "text": [
            "Accuracy  0.9666666666666667\n",
            " Metric macro: prec rec fscore\n",
            "0.9333333333333335 0.9307692307692309 0.931934731934732 \n",
            " Metric micro: prec rec fscore\n",
            "0.9923076923076923 0.9923076923076923 0.9923076923076923 \n",
            " Metric weighted: prec rec fscore\n",
            "0.9948717948717949 0.9923076923076923 0.9934731934731935 \n"
          ],
          "name": "stdout"
        },
        {
          "output_type": "stream",
          "text": [
            "\r  0%|          | 0/48 [00:00<?, ?it/s]"
          ],
          "name": "stderr"
        },
        {
          "output_type": "stream",
          "text": [
            "Epoch  74\n"
          ],
          "name": "stdout"
        },
        {
          "output_type": "stream",
          "text": [
            "100%|██████████| 48/48 [02:16<00:00,  2.85s/it]\n",
            "100%|██████████| 13/13 [00:31<00:00,  2.44s/it]\n"
          ],
          "name": "stderr"
        },
        {
          "output_type": "stream",
          "text": [
            "Accuracy  0.9666666666666667\n",
            " Metric macro: prec rec fscore\n",
            "0.9333333333333335 0.9307692307692309 0.931934731934732 \n",
            " Metric micro: prec rec fscore\n",
            "0.9923076923076923 0.9923076923076923 0.9923076923076923 \n",
            " Metric weighted: prec rec fscore\n",
            "0.9948717948717949 0.9923076923076923 0.9934731934731935 \n"
          ],
          "name": "stdout"
        },
        {
          "output_type": "stream",
          "text": [
            "\r  0%|          | 0/48 [00:00<?, ?it/s]"
          ],
          "name": "stderr"
        },
        {
          "output_type": "stream",
          "text": [
            "Epoch  75\n"
          ],
          "name": "stdout"
        },
        {
          "output_type": "stream",
          "text": [
            "100%|██████████| 48/48 [02:17<00:00,  2.86s/it]\n",
            "100%|██████████| 13/13 [00:31<00:00,  2.41s/it]\n"
          ],
          "name": "stderr"
        },
        {
          "output_type": "stream",
          "text": [
            "Accuracy  0.9615384615384616\n",
            " Metric macro: prec rec fscore\n",
            "0.9044871794871796 0.9051282051282052 0.9044622044622044 \n",
            " Metric micro: prec rec fscore\n",
            "0.9846153846153847 0.9846153846153847 0.9846153846153847 \n",
            " Metric weighted: prec rec fscore\n",
            "0.9842948717948719 0.9846153846153847 0.9841325341325342 \n"
          ],
          "name": "stdout"
        },
        {
          "output_type": "stream",
          "text": [
            "\r  0%|          | 0/48 [00:00<?, ?it/s]"
          ],
          "name": "stderr"
        },
        {
          "output_type": "stream",
          "text": [
            "Epoch  76\n"
          ],
          "name": "stdout"
        },
        {
          "output_type": "stream",
          "text": [
            "100%|██████████| 48/48 [02:14<00:00,  2.80s/it]\n",
            "100%|██████████| 13/13 [00:31<00:00,  2.40s/it]\n"
          ],
          "name": "stderr"
        },
        {
          "output_type": "stream",
          "text": [
            "Accuracy  0.9641025641025641\n",
            " Metric macro: prec rec fscore\n",
            "0.9223443223443224 0.917948717948718 0.9199467199467198 \n",
            " Metric micro: prec rec fscore\n",
            "0.9897435897435898 0.9897435897435898 0.9897435897435898 \n",
            " Metric weighted: prec rec fscore\n",
            "0.9948717948717949 0.9897435897435898 0.9920745920745921 \n"
          ],
          "name": "stdout"
        },
        {
          "output_type": "stream",
          "text": [
            "\r  0%|          | 0/48 [00:00<?, ?it/s]"
          ],
          "name": "stderr"
        },
        {
          "output_type": "stream",
          "text": [
            "Epoch  77\n"
          ],
          "name": "stdout"
        },
        {
          "output_type": "stream",
          "text": [
            "100%|██████████| 48/48 [02:13<00:00,  2.78s/it]\n",
            "100%|██████████| 13/13 [00:31<00:00,  2.40s/it]\n"
          ],
          "name": "stderr"
        },
        {
          "output_type": "stream",
          "text": [
            "Accuracy  0.9641025641025641\n",
            " Metric macro: prec rec fscore\n",
            "0.9223443223443224 0.917948717948718 0.9199467199467198 \n",
            " Metric micro: prec rec fscore\n",
            "0.9897435897435898 0.9897435897435898 0.9897435897435898 \n",
            " Metric weighted: prec rec fscore\n",
            "0.9948717948717949 0.9897435897435898 0.9920745920745921 \n"
          ],
          "name": "stdout"
        },
        {
          "output_type": "stream",
          "text": [
            "\r  0%|          | 0/48 [00:00<?, ?it/s]"
          ],
          "name": "stderr"
        },
        {
          "output_type": "stream",
          "text": [
            "Epoch  78\n"
          ],
          "name": "stdout"
        },
        {
          "output_type": "stream",
          "text": [
            "100%|██████████| 48/48 [02:14<00:00,  2.80s/it]\n",
            "100%|██████████| 13/13 [00:31<00:00,  2.40s/it]\n"
          ],
          "name": "stderr"
        },
        {
          "output_type": "stream",
          "text": [
            "Accuracy  0.9641025641025641\n",
            " Metric macro: prec rec fscore\n",
            "0.9223443223443224 0.917948717948718 0.9199467199467198 \n",
            " Metric micro: prec rec fscore\n",
            "0.9897435897435898 0.9897435897435898 0.9897435897435898 \n",
            " Metric weighted: prec rec fscore\n",
            "0.9948717948717949 0.9897435897435898 0.9920745920745921 \n"
          ],
          "name": "stdout"
        },
        {
          "output_type": "stream",
          "text": [
            "\r  0%|          | 0/48 [00:00<?, ?it/s]"
          ],
          "name": "stderr"
        },
        {
          "output_type": "stream",
          "text": [
            "Epoch  79\n"
          ],
          "name": "stdout"
        },
        {
          "output_type": "stream",
          "text": [
            "100%|██████████| 48/48 [02:14<00:00,  2.80s/it]\n",
            "100%|██████████| 13/13 [00:31<00:00,  2.39s/it]\n"
          ],
          "name": "stderr"
        },
        {
          "output_type": "stream",
          "text": [
            "Accuracy  0.958974358974359\n",
            " Metric macro: prec rec fscore\n",
            "0.8930402930402932 0.886813186813187 0.8896436896436897 \n",
            " Metric micro: prec rec fscore\n",
            "0.9846153846153847 0.9846153846153847 0.9846153846153847 \n",
            " Metric weighted: prec rec fscore\n",
            "0.9923076923076923 0.9846153846153847 0.9881118881118881 \n"
          ],
          "name": "stdout"
        }
      ]
    },
    {
      "cell_type": "code",
      "metadata": {
        "id": "oVu2mS6JqbxT",
        "colab_type": "code",
        "outputId": "93a5c4a9-2f74-48ad-adf0-37412865d147",
        "colab": {
          "base_uri": "https://localhost:8080/",
          "height": 1000
        }
      },
      "source": [
        "import torch\n",
        "import torchvision\n",
        "from sklearn.metrics import precision_recall_fscore_support\n",
        "\n",
        "data_dir = 'new_veggie_fruit_data/base/'\n",
        "total_classes = 44\n",
        "batch_size = 30\n",
        "num_workers = 8\n",
        "train_input_folder = data_dir + 'train/'\n",
        "validate_input_folder = data_dir + 'validate/'\n",
        "\n",
        "# Validation Data Loader\n",
        "val_transform = transforms.Compose([\n",
        "    transforms.Resize((224,224)),\n",
        "    transforms.ToTensor(),\n",
        "    transforms.Normalize((0.485, 0.456, 0.406), (0.229, 0.224, 0.225)),\n",
        "])\n",
        "val_dataset = torchvision.datasets.ImageFolder(validate_input_folder,\n",
        "                                                  transform=val_transform)\n",
        "val_loader = data.DataLoader(val_dataset, batch_size=batch_size,\n",
        "                                shuffle=False, num_workers=num_workers)\n",
        "# Create Model\n",
        "model = torchvision.models.vgg19(pretrained=True)\n",
        "model.classifier[6] = nn.Linear(4096, total_classes, bias=True)\n",
        "model = model.cuda()\n",
        "\n",
        "model.load_state_dict(torch.load(\"base_ckpt.pth\"))\n",
        "\n",
        "model.eval()\n",
        "with torch.no_grad():\n",
        "    correct = 0.0\n",
        "    tqdm_val = tqdm.tqdm(val_loader)\n",
        "    metrics = {'macro': {'prec': 0.0, 'rec': 0.0, 'fscore': 0.0},                                                                                                                               \n",
        "                'micro': {'prec': 0.0, 'rec': 0.0, 'fscore': 0.0},\n",
        "                'weighted': {'prec': 0.0, 'rec': 0.0, 'fscore': 0.0}}\n",
        "    labels = None\n",
        "    preds = None\n",
        "    count_cls = {}\n",
        "    for image, label in tqdm_val:\n",
        "        image = image.cuda()\n",
        "        pred = model(image)\n",
        "        pred_labels = pred.detach().cpu().argmax(dim=1)\n",
        "        if labels is None:\n",
        "          labels = label\n",
        "          preds = pred_labels\n",
        "        else:\n",
        "          labels = torch.cat((labels, label), dim=0)\n",
        "          preds = torch.cat((preds, pred_labels), dim=0)\n",
        "\n",
        "        for key in metrics.keys():\n",
        "            prec, recall, fscore, _ = precision_recall_fscore_support(label, pred_labels,\n",
        "                                                                      average=key)\n",
        "            metrics[key]['prec'] += prec\n",
        "            metrics[key]['rec'] += recall\n",
        "            metrics[key]['fscore'] += fscore\n",
        "        correct += (pred_labels == label).sum().item()\n",
        "    \n",
        "    print('Accuracy ', correct/(len(tqdm_val)*batch_size))\n",
        "    for key in metrics.keys():\n",
        "        print(' Metric %s: prec rec fscore'%key)\n",
        "        out_str = ''\n",
        "        for k2 in metrics[key].keys():\n",
        "            metrics[key][k2] /= (len(tqdm_val))\n",
        "            out_str += str(metrics[key][k2]) + ' '\n",
        "        print(out_str)\n",
        "\n",
        "    print('Fscore per class ') \n",
        "    prec, recall, fscore, sprt = precision_recall_fscore_support(labels, preds, average=None)\n",
        "    for i in range(len(fscore)):\n",
        "      print('Class : ', i, 'Fscore : ', fscore[i], ' Support: ', sprt[i])\n",
        "    "
      ],
      "execution_count": 0,
      "outputs": [
        {
          "output_type": "stream",
          "text": [
            " 31%|███       | 4/13 [00:21<01:06,  7.36s/it]/usr/local/lib/python3.6/dist-packages/sklearn/metrics/_classification.py:1272: UndefinedMetricWarning: Recall and F-score are ill-defined and being set to 0.0 in labels with no true samples. Use `zero_division` parameter to control this behavior.\n",
            "  _warn_prf(average, modifier, msg_start, len(result))\n",
            " 46%|████▌     | 6/13 [00:24<00:29,  4.27s/it]/usr/local/lib/python3.6/dist-packages/sklearn/metrics/_classification.py:1272: UndefinedMetricWarning: Precision and F-score are ill-defined and being set to 0.0 in labels with no predicted samples. Use `zero_division` parameter to control this behavior.\n",
            "  _warn_prf(average, modifier, msg_start, len(result))\n",
            "100%|██████████| 13/13 [00:38<00:00,  2.93s/it]\n"
          ],
          "name": "stderr"
        },
        {
          "output_type": "stream",
          "text": [
            "Accuracy  0.958974358974359\n",
            " Metric macro: prec rec fscore\n",
            "0.8930402930402932 0.886813186813187 0.8896436896436897 \n",
            " Metric micro: prec rec fscore\n",
            "0.9846153846153847 0.9846153846153847 0.9846153846153847 \n",
            " Metric weighted: prec rec fscore\n",
            "0.9923076923076923 0.9846153846153847 0.9881118881118881 \n",
            "Fscore per class \n",
            "Class :  0 Fscore :  1.0  Support:  3\n",
            "Class :  1 Fscore :  1.0  Support:  11\n",
            "Class :  2 Fscore :  1.0  Support:  18\n",
            "Class :  3 Fscore :  1.0  Support:  14\n",
            "Class :  4 Fscore :  0.9333333333333333  Support:  7\n",
            "Class :  5 Fscore :  1.0  Support:  24\n",
            "Class :  6 Fscore :  1.0  Support:  1\n",
            "Class :  7 Fscore :  1.0  Support:  17\n",
            "Class :  8 Fscore :  1.0  Support:  7\n",
            "Class :  9 Fscore :  1.0  Support:  19\n",
            "Class :  10 Fscore :  0.9090909090909091  Support:  6\n",
            "Class :  11 Fscore :  1.0  Support:  3\n",
            "Class :  12 Fscore :  1.0  Support:  1\n",
            "Class :  13 Fscore :  1.0  Support:  12\n",
            "Class :  14 Fscore :  1.0  Support:  15\n",
            "Class :  15 Fscore :  1.0  Support:  6\n",
            "Class :  16 Fscore :  0.9743589743589743  Support:  19\n",
            "Class :  17 Fscore :  0.0  Support:  1\n",
            "Class :  18 Fscore :  1.0  Support:  4\n",
            "Class :  19 Fscore :  1.0  Support:  8\n",
            "Class :  20 Fscore :  1.0  Support:  27\n",
            "Class :  21 Fscore :  0.962962962962963  Support:  13\n",
            "Class :  22 Fscore :  0.888888888888889  Support:  4\n",
            "Class :  23 Fscore :  1.0  Support:  10\n",
            "Class :  24 Fscore :  1.0  Support:  7\n",
            "Class :  25 Fscore :  0.9090909090909091  Support:  6\n",
            "Class :  26 Fscore :  1.0  Support:  4\n",
            "Class :  27 Fscore :  1.0  Support:  2\n",
            "Class :  28 Fscore :  0.9333333333333333  Support:  7\n",
            "Class :  29 Fscore :  1.0  Support:  19\n",
            "Class :  30 Fscore :  1.0  Support:  4\n",
            "Class :  31 Fscore :  1.0  Support:  1\n",
            "Class :  32 Fscore :  1.0  Support:  11\n",
            "Class :  33 Fscore :  0.9090909090909091  Support:  6\n",
            "Class :  34 Fscore :  1.0  Support:  1\n",
            "Class :  35 Fscore :  1.0  Support:  15\n",
            "Class :  36 Fscore :  0.0  Support:  1\n",
            "Class :  37 Fscore :  0.0  Support:  1\n",
            "Class :  38 Fscore :  1.0  Support:  4\n",
            "Class :  39 Fscore :  1.0  Support:  23\n",
            "Class :  40 Fscore :  1.0  Support:  12\n",
            "Class :  41 Fscore :  0.8571428571428571  Support:  3\n",
            "Class :  42 Fscore :  1.0  Support:  2\n",
            "Class :  43 Fscore :  1.0  Support:  1\n"
          ],
          "name": "stdout"
        }
      ]
    },
    {
      "cell_type": "markdown",
      "metadata": {
        "id": "Y1aYqEjOqtSK",
        "colab_type": "text"
      },
      "source": [
        "# Finetune on Fewshot (Base+Novel) Data"
      ]
    },
    {
      "cell_type": "code",
      "metadata": {
        "id": "THjSx_9-1zL3",
        "colab_type": "code",
        "outputId": "1ab91569-c4d7-4cae-b384-0ba91d1d8c35",
        "colab": {
          "base_uri": "https://localhost:8080/",
          "height": 69
        }
      },
      "source": [
        "!curl --header 'Host: doc-0g-b8-docs.googleusercontent.com' --user-agent 'Mozilla/5.0 (X11; Ubuntu; Linux x86_64; rv:76.0) Gecko/20100101 Firefox/76.0' --header 'Accept: text/html,application/xhtml+xml,application/xml;q=0.9,image/webp,*/*;q=0.8' --header 'Accept-Language: en-CA,en-US;q=0.7,en;q=0.3' --referer 'https://drive.google.com/drive/u/0/recent' --cookie 'AUTH_ke38de5om415qdl9mh10ijp9ovprni2j_nonce=c5n597cbmsdpc' --header 'Upgrade-Insecure-Requests: 1' 'https://doc-0g-b8-docs.googleusercontent.com/docs/securesc/2n3g1c92fvum2ti2873eohe2s5i599l8/l0acbnvntupol3vuvovcrhbuna712ccf/1590771825000/11397432307160908430/11397432307160908430/1INdAM0bNL_02QrY40D784ECrJXaGpBvD?e=download&h=04295518330385903249&authuser=0&nonce=c5n597cbmsdpc&user=11397432307160908430&hash=7aost88t7st6dn21qu5cn9rc51sgiacq' --output 'base_ckpt.pth'"
      ],
      "execution_count": 1,
      "outputs": [
        {
          "output_type": "stream",
          "text": [
            "  % Total    % Received % Xferd  Average Speed   Time    Time     Time  Current\n",
            "                                 Dload  Upload   Total   Spent    Left  Speed\n",
            "100  533M    0  533M    0     0  48.7M      0 --:--:--  0:00:10 --:--:-- 45.4M\n"
          ],
          "name": "stdout"
        }
      ]
    },
    {
      "cell_type": "code",
      "metadata": {
        "id": "HWiLE7zTZbZ5",
        "colab_type": "code",
        "colab": {
          "base_uri": "https://localhost:8080/",
          "height": 1000
        },
        "outputId": "fd7bfd29-621f-4f0c-eff8-56f461691d33"
      },
      "source": [
        "#from google.colab import drive\n",
        "#drive.mount('/content/drive')\n",
        "#!cp drive/My\\ Drive/veggie_fruit_data.zip .\n",
        "#!curl --header 'Host: doc-00-b8-docs.googleusercontent.com' --user-agent 'Mozilla/5.0 (X11; Ubuntu; Linux x86_64; rv:76.0) Gecko/20100101 Firefox/76.0' --header 'Accept: text/html,application/xhtml+xml,application/xml;q=0.9,image/webp,*/*;q=0.8' --header 'Accept-Language: en-CA,en-US;q=0.7,en;q=0.3' --referer 'https://drive.google.com/drive/u/0/recent' --cookie 'AUTH_ke38de5om415qdl9mh10ijp9ovprni2j_nonce=ke2thums9bnve' --header 'Upgrade-Insecure-Requests: 1' 'https://doc-00-b8-docs.googleusercontent.com/docs/securesc/2n3g1c92fvum2ti2873eohe2s5i599l8/2o7ikpo16uhblm2sn6d7c7gifoe0q5cn/1590788625000/11397432307160908430/11397432307160908430/1H66JjnNpiGX0q7s0HJ3xUNkFILPQEG1_?e=download&h=04295518330385903249&authuser=0&nonce=ke2thums9bnve&user=11397432307160908430&hash=9pp2d3i2i7s6p8pv0hd6qh87d5icj4p7' --output 'new_veggie_fruit_data.zip'\n",
        "!unzip new_veggie_fruit_data.zip\n",
        "#!unzip veggie_fruit_data.zip\n",
        "#!ls"
      ],
      "execution_count": 8,
      "outputs": [
        {
          "output_type": "stream",
          "text": [
            "Archive:  new_veggie_fruit_data.zip\n",
            "   creating: new_veggie_fruit_data/\n",
            "   creating: new_veggie_fruit_data/base/\n",
            "   creating: new_veggie_fruit_data/base/train/\n",
            "   creating: new_veggie_fruit_data/base/train/water_melon/\n",
            "  inflating: new_veggie_fruit_data/base/train/water_melon/IMG_1207.JPG  \n",
            "  inflating: new_veggie_fruit_data/base/train/water_melon/IMG_03343.jpg  \n",
            "  inflating: new_veggie_fruit_data/base/train/water_melon/IMG_03335.jpg  \n",
            "  inflating: new_veggie_fruit_data/base/train/water_melon/IMG_1186.JPG  \n",
            "  inflating: new_veggie_fruit_data/base/train/water_melon/IMG_1204.JPG  \n",
            "  inflating: new_veggie_fruit_data/base/train/water_melon/IMG_03340.jpg  \n",
            "  inflating: new_veggie_fruit_data/base/train/water_melon/IMG_03337.jpg  \n",
            "  inflating: new_veggie_fruit_data/base/train/water_melon/IMG_2665.JPG  \n",
            "  inflating: new_veggie_fruit_data/base/train/water_melon/IMG_03351.jpg  \n",
            "  inflating: new_veggie_fruit_data/base/train/water_melon/IMG_6665.JPG  \n",
            "  inflating: new_veggie_fruit_data/base/train/water_melon/IMG_0533.jpg  \n",
            "  inflating: new_veggie_fruit_data/base/train/water_melon/IMG_03366.jpg  \n",
            "  inflating: new_veggie_fruit_data/base/train/water_melon/IMG_1205.JPG  \n",
            "  inflating: new_veggie_fruit_data/base/train/water_melon/IMG_03341.jpg  \n",
            "  inflating: new_veggie_fruit_data/base/train/water_melon/IMG_03361.jpg  \n",
            "  inflating: new_veggie_fruit_data/base/train/water_melon/IMG_03333.jpg  \n",
            "  inflating: new_veggie_fruit_data/base/train/water_melon/IMG_4849.JPG  \n",
            "  inflating: new_veggie_fruit_data/base/train/water_melon/IMG_1206.JPG  \n",
            "  inflating: new_veggie_fruit_data/base/train/water_melon/IMG_03355.jpg  \n",
            "  inflating: new_veggie_fruit_data/base/train/water_melon/IMG_03363.jpg  \n",
            "  inflating: new_veggie_fruit_data/base/train/water_melon/IMG_03353.jpg  \n",
            "  inflating: new_veggie_fruit_data/base/train/water_melon/IMG_03359.jpg  \n",
            "  inflating: new_veggie_fruit_data/base/train/water_melon/IMG_03354.jpg  \n",
            "  inflating: new_veggie_fruit_data/base/train/water_melon/IMG_6667.JPG  \n",
            "  inflating: new_veggie_fruit_data/base/train/water_melon/IMG_03346.jpg  \n",
            "  inflating: new_veggie_fruit_data/base/train/water_melon/IMG_03336.jpg  \n",
            "  inflating: new_veggie_fruit_data/base/train/water_melon/IMG_0534.jpg  \n",
            "  inflating: new_veggie_fruit_data/base/train/water_melon/IMG_03348.jpg  \n",
            "  inflating: new_veggie_fruit_data/base/train/water_melon/IMG_03360.jpg  \n",
            "  inflating: new_veggie_fruit_data/base/train/water_melon/IMG_03332.jpg  \n",
            "  inflating: new_veggie_fruit_data/base/train/water_melon/IMG_0576.jpg  \n",
            "  inflating: new_veggie_fruit_data/base/train/water_melon/IMG_03357.jpg  \n",
            "  inflating: new_veggie_fruit_data/base/train/water_melon/IMG_1188.JPG  \n",
            "  inflating: new_veggie_fruit_data/base/train/water_melon/IMG_03349.jpg  \n",
            "  inflating: new_veggie_fruit_data/base/train/water_melon/IMG_0536.jpg  \n",
            "  inflating: new_veggie_fruit_data/base/train/water_melon/IMG_0577.jpg  \n",
            "  inflating: new_veggie_fruit_data/base/train/water_melon/IMG_03345.jpg  \n",
            "  inflating: new_veggie_fruit_data/base/train/water_melon/IMG_03362.jpg  \n",
            "  inflating: new_veggie_fruit_data/base/train/water_melon/IMG_03365.jpg  \n",
            "  inflating: new_veggie_fruit_data/base/train/water_melon/IMG_03352.jpg  \n",
            "  inflating: new_veggie_fruit_data/base/train/water_melon/IMG_03367.jpg  \n",
            "  inflating: new_veggie_fruit_data/base/train/water_melon/IMG_03331.jpg  \n",
            "  inflating: new_veggie_fruit_data/base/train/water_melon/IMG_1189.JPG  \n",
            "  inflating: new_veggie_fruit_data/base/train/water_melon/IMG_6666.JPG  \n",
            "  inflating: new_veggie_fruit_data/base/train/water_melon/IMG_03330.jpg  \n",
            "  inflating: new_veggie_fruit_data/base/train/water_melon/IMG_03338.jpg  \n",
            "  inflating: new_veggie_fruit_data/base/train/water_melon/IMG_03342.jpg  \n",
            "  inflating: new_veggie_fruit_data/base/train/water_melon/IMG_03334.jpg  \n",
            "   creating: new_veggie_fruit_data/base/train/tomato/\n",
            "  inflating: new_veggie_fruit_data/base/train/tomato/IMG_7102.JPG  \n",
            "  inflating: new_veggie_fruit_data/base/train/tomato/IMG_03411.jpg  \n",
            "  inflating: new_veggie_fruit_data/base/train/tomato/IMG_03418.jpg  \n",
            "  inflating: new_veggie_fruit_data/base/train/tomato/IMG_03427.jpg  \n",
            "  inflating: new_veggie_fruit_data/base/train/tomato/IMG_03343.jpg  \n",
            "  inflating: new_veggie_fruit_data/base/train/tomato/IMG_03335.jpg  \n",
            "  inflating: new_veggie_fruit_data/base/train/tomato/IMG_03423.jpg  \n",
            "  inflating: new_veggie_fruit_data/base/train/tomato/IMG_03374.jpg  \n",
            "  inflating: new_veggie_fruit_data/base/train/tomato/IMG_03429.jpg  \n",
            "  inflating: new_veggie_fruit_data/base/train/tomato/IMG_03414.jpg  \n",
            "  inflating: new_veggie_fruit_data/base/train/tomato/IMG_03406.jpg  \n",
            "  inflating: new_veggie_fruit_data/base/train/tomato/IMG_03431.jpg  \n",
            "  inflating: new_veggie_fruit_data/base/train/tomato/IMG_03340.jpg  \n",
            "  inflating: new_veggie_fruit_data/base/train/tomato/IMG_03415.jpg  \n",
            "  inflating: new_veggie_fruit_data/base/train/tomato/IMG_6616.JPG  \n",
            "  inflating: new_veggie_fruit_data/base/train/tomato/IMG_03428.jpg  \n",
            "  inflating: new_veggie_fruit_data/base/train/tomato/IMG_03434.jpg  \n",
            "  inflating: new_veggie_fruit_data/base/train/tomato/IMG_03397.jpg  \n",
            "  inflating: new_veggie_fruit_data/base/train/tomato/IMG_03394.jpg  \n",
            "  inflating: new_veggie_fruit_data/base/train/tomato/IMG_03337.jpg  \n",
            "  inflating: new_veggie_fruit_data/base/train/tomato/IMG_03416.jpg  \n",
            "  inflating: new_veggie_fruit_data/base/train/tomato/IMG_03402.jpg  \n",
            "  inflating: new_veggie_fruit_data/base/train/tomato/IMG_03339.jpg  \n",
            "  inflating: new_veggie_fruit_data/base/train/tomato/IMG_03378.jpg  \n",
            "  inflating: new_veggie_fruit_data/base/train/tomato/IMG_03421.jpg  \n",
            "  inflating: new_veggie_fruit_data/base/train/tomato/IMG_03404.jpg  \n",
            "  inflating: new_veggie_fruit_data/base/train/tomato/IMG_03347.jpg  \n",
            "  inflating: new_veggie_fruit_data/base/train/tomato/IMG_03351.jpg  \n",
            "  inflating: new_veggie_fruit_data/base/train/tomato/IMG_6618.JPG  \n",
            "  inflating: new_veggie_fruit_data/base/train/tomato/IMG_03380.jpg  \n",
            "  inflating: new_veggie_fruit_data/base/train/tomato/IMG_03371.jpg  \n",
            "  inflating: new_veggie_fruit_data/base/train/tomato/IMG_03425.jpg  \n",
            "  inflating: new_veggie_fruit_data/base/train/tomato/IMG_03383.jpg  \n",
            "  inflating: new_veggie_fruit_data/base/train/tomato/IMG_03341.jpg  \n",
            "  inflating: new_veggie_fruit_data/base/train/tomato/IMG_03344.jpg  \n",
            "  inflating: new_veggie_fruit_data/base/train/tomato/IMG_03372.jpg  \n",
            "  inflating: new_veggie_fruit_data/base/train/tomato/IMG_03398.jpg  \n",
            "  inflating: new_veggie_fruit_data/base/train/tomato/IMG_03384.jpg  \n",
            "  inflating: new_veggie_fruit_data/base/train/tomato/IMG_03333.jpg  \n",
            "  inflating: new_veggie_fruit_data/base/train/tomato/IMG_03369.jpg  \n",
            "  inflating: new_veggie_fruit_data/base/train/tomato/IMG_03390.jpg  \n",
            "  inflating: new_veggie_fruit_data/base/train/tomato/IMG_03363.jpg  \n",
            "  inflating: new_veggie_fruit_data/base/train/tomato/IMG_03359.jpg  \n",
            "  inflating: new_veggie_fruit_data/base/train/tomato/IMG_03350.jpg  \n",
            "  inflating: new_veggie_fruit_data/base/train/tomato/IMG_03387.jpg  \n",
            "  inflating: new_veggie_fruit_data/base/train/tomato/IMG_03354.jpg  \n",
            "  inflating: new_veggie_fruit_data/base/train/tomato/IMG_03399.jpg  \n",
            "  inflating: new_veggie_fruit_data/base/train/tomato/IMG_03376.jpg  \n",
            "  inflating: new_veggie_fruit_data/base/train/tomato/IMG_03346.jpg  \n",
            "  inflating: new_veggie_fruit_data/base/train/tomato/IMG_03389.jpg  \n",
            "  inflating: new_veggie_fruit_data/base/train/tomato/IMG_03370.jpg  \n",
            "  inflating: new_veggie_fruit_data/base/train/tomato/IMG_03430.jpg  \n",
            "  inflating: new_veggie_fruit_data/base/train/tomato/IMG_03373.jpg  \n",
            "  inflating: new_veggie_fruit_data/base/train/tomato/IMG_03336.jpg  \n",
            "  inflating: new_veggie_fruit_data/base/train/tomato/IMG_03348.jpg  \n",
            "  inflating: new_veggie_fruit_data/base/train/tomato/IMG_03360.jpg  \n",
            "  inflating: new_veggie_fruit_data/base/train/tomato/IMG_03332.jpg  \n",
            "  inflating: new_veggie_fruit_data/base/train/tomato/IMG_03403.jpg  \n",
            "  inflating: new_veggie_fruit_data/base/train/tomato/IMG_03391.jpg  \n",
            "  inflating: new_veggie_fruit_data/base/train/tomato/IMG_03435.jpg  \n",
            "  inflating: new_veggie_fruit_data/base/train/tomato/IMG_03396.jpg  \n",
            "  inflating: new_veggie_fruit_data/base/train/tomato/IMG_03357.jpg  \n",
            "  inflating: new_veggie_fruit_data/base/train/tomato/IMG_03349.jpg  \n",
            "  inflating: new_veggie_fruit_data/base/train/tomato/IMG_6612.JPG  \n",
            "  inflating: new_veggie_fruit_data/base/train/tomato/IMG_7104.JPG  \n",
            "  inflating: new_veggie_fruit_data/base/train/tomato/IMG_03345.jpg  \n",
            "  inflating: new_veggie_fruit_data/base/train/tomato/IMG_03432.jpg  \n",
            "  inflating: new_veggie_fruit_data/base/train/tomato/IMG_03375.jpg  \n",
            "  inflating: new_veggie_fruit_data/base/train/tomato/IMG_03362.jpg  \n",
            "  inflating: new_veggie_fruit_data/base/train/tomato/IMG_03424.jpg  \n",
            "  inflating: new_veggie_fruit_data/base/train/tomato/IMG_03408.jpg  \n",
            "  inflating: new_veggie_fruit_data/base/train/tomato/IMG_03368.jpg  \n",
            "  inflating: new_veggie_fruit_data/base/train/tomato/IMG_03392.jpg  \n",
            "  inflating: new_veggie_fruit_data/base/train/tomato/IMG_03365.jpg  \n",
            "  inflating: new_veggie_fruit_data/base/train/tomato/IMG_03352.jpg  \n",
            "  inflating: new_veggie_fruit_data/base/train/tomato/IMG_03426.jpg  \n",
            "  inflating: new_veggie_fruit_data/base/train/tomato/IMG_03400.jpg  \n",
            "  inflating: new_veggie_fruit_data/base/train/tomato/IMG_03364.jpg  \n",
            "  inflating: new_veggie_fruit_data/base/train/tomato/IMG_03409.jpg  \n",
            "  inflating: new_veggie_fruit_data/base/train/tomato/IMG_03367.jpg  \n",
            "  inflating: new_veggie_fruit_data/base/train/tomato/IMG_6611.JPG  \n",
            "  inflating: new_veggie_fruit_data/base/train/tomato/IMG_03417.jpg  \n",
            "  inflating: new_veggie_fruit_data/base/train/tomato/IMG_03395.jpg  \n",
            "  inflating: new_veggie_fruit_data/base/train/tomato/IMG_03356.jpg  \n",
            "  inflating: new_veggie_fruit_data/base/train/tomato/IMG_03401.jpg  \n",
            "  inflating: new_veggie_fruit_data/base/train/tomato/IMG_03330.jpg  \n",
            "  inflating: new_veggie_fruit_data/base/train/tomato/IMG_03405.jpg  \n",
            "  inflating: new_veggie_fruit_data/base/train/tomato/IMG_03342.jpg  \n",
            "  inflating: new_veggie_fruit_data/base/train/tomato/IMG_03382.jpg  \n",
            "  inflating: new_veggie_fruit_data/base/train/tomato/IMG_03419.jpg  \n",
            "  inflating: new_veggie_fruit_data/base/train/tomato/IMG_6617.JPG  \n",
            "  inflating: new_veggie_fruit_data/base/train/tomato/IMG_03334.jpg  \n",
            "   creating: new_veggie_fruit_data/base/train/celery/\n",
            "  inflating: new_veggie_fruit_data/base/train/celery/IMG_5395.JPG  \n",
            "  inflating: new_veggie_fruit_data/base/train/celery/IMG_9214.jpg  \n",
            "  inflating: new_veggie_fruit_data/base/train/celery/IMG_5394.JPG  \n",
            "  inflating: new_veggie_fruit_data/base/train/celery/IMG_9194.jpg  \n",
            "  inflating: new_veggie_fruit_data/base/train/celery/IMG_7146.JPG  \n",
            "  inflating: new_veggie_fruit_data/base/train/celery/IMG_6980.JPG  \n",
            "  inflating: new_veggie_fruit_data/base/train/celery/IMG_6929.JPG  \n",
            "  inflating: new_veggie_fruit_data/base/train/celery/IMG_6979.JPG  \n",
            "  inflating: new_veggie_fruit_data/base/train/celery/IMG_5397.JPG  \n",
            "  inflating: new_veggie_fruit_data/base/train/celery/IMG_6931.JPG  \n",
            "  inflating: new_veggie_fruit_data/base/train/celery/IMG_7148.JPG  \n",
            "  inflating: new_veggie_fruit_data/base/train/celery/IMG_7145.JPG  \n",
            "  inflating: new_veggie_fruit_data/base/train/celery/IMG_5398.JPG  \n",
            "  inflating: new_veggie_fruit_data/base/train/celery/IMG_7215.JPG  \n",
            "  inflating: new_veggie_fruit_data/base/train/celery/IMG_9216.jpg  \n",
            "  inflating: new_veggie_fruit_data/base/train/celery/IMG_9195.jpg  \n",
            "  inflating: new_veggie_fruit_data/base/train/celery/IMG_6942.JPG  \n",
            "  inflating: new_veggie_fruit_data/base/train/celery/IMG_7147.JPG  \n",
            "  inflating: new_veggie_fruit_data/base/train/celery/IMG_6928.JPG  \n",
            "  inflating: new_veggie_fruit_data/base/train/celery/IMG_6941.JPG  \n",
            "  inflating: new_veggie_fruit_data/base/train/celery/IMG_7214.JPG  \n",
            "  inflating: new_veggie_fruit_data/base/train/celery/IMG_6926.JPG  \n",
            "   creating: new_veggie_fruit_data/base/train/cabbage/\n",
            "  inflating: new_veggie_fruit_data/base/train/cabbage/IMG_9186.jpg  \n",
            "  inflating: new_veggie_fruit_data/base/train/cabbage/IMG_03381.jpg  \n",
            "  inflating: new_veggie_fruit_data/base/train/cabbage/IMG_03343.jpg  \n",
            "  inflating: new_veggie_fruit_data/base/train/cabbage/IMG_03335.jpg  \n",
            "  inflating: new_veggie_fruit_data/base/train/cabbage/IMG_03374.jpg  \n",
            "  inflating: new_veggie_fruit_data/base/train/cabbage/IMG_03340.jpg  \n",
            "  inflating: new_veggie_fruit_data/base/train/cabbage/IMG_9187.jpg  \n",
            "  inflating: new_veggie_fruit_data/base/train/cabbage/IMG_03397.jpg  \n",
            "  inflating: new_veggie_fruit_data/base/train/cabbage/IMG_03377.jpg  \n",
            "  inflating: new_veggie_fruit_data/base/train/cabbage/IMG_03394.jpg  \n",
            "  inflating: new_veggie_fruit_data/base/train/cabbage/IMG_03337.jpg  \n",
            "  inflating: new_veggie_fruit_data/base/train/cabbage/IMG_03402.jpg  \n",
            "  inflating: new_veggie_fruit_data/base/train/cabbage/IMG_9184.jpg  \n",
            "  inflating: new_veggie_fruit_data/base/train/cabbage/IMG_03339.jpg  \n",
            "  inflating: new_veggie_fruit_data/base/train/cabbage/IMG_03404.jpg  \n",
            "  inflating: new_veggie_fruit_data/base/train/cabbage/IMG_03351.jpg  \n",
            "  inflating: new_veggie_fruit_data/base/train/cabbage/IMG_03380.jpg  \n",
            "  inflating: new_veggie_fruit_data/base/train/cabbage/IMG_03341.jpg  \n",
            "  inflating: new_veggie_fruit_data/base/train/cabbage/IMG_03344.jpg  \n",
            "  inflating: new_veggie_fruit_data/base/train/cabbage/IMG_03372.jpg  \n",
            "  inflating: new_veggie_fruit_data/base/train/cabbage/IMG_03398.jpg  \n",
            "  inflating: new_veggie_fruit_data/base/train/cabbage/IMG_03384.jpg  \n",
            "  inflating: new_veggie_fruit_data/base/train/cabbage/IMG_03361.jpg  \n",
            "  inflating: new_veggie_fruit_data/base/train/cabbage/IMG_03333.jpg  \n",
            "  inflating: new_veggie_fruit_data/base/train/cabbage/IMG_03385.jpg  \n",
            "  inflating: new_veggie_fruit_data/base/train/cabbage/IMG_03369.jpg  \n",
            "  inflating: new_veggie_fruit_data/base/train/cabbage/IMG_03363.jpg  \n",
            "  inflating: new_veggie_fruit_data/base/train/cabbage/IMG_03353.jpg  \n",
            "  inflating: new_veggie_fruit_data/base/train/cabbage/IMG_03359.jpg  \n",
            "  inflating: new_veggie_fruit_data/base/train/cabbage/IMG_03350.jpg  \n",
            "  inflating: new_veggie_fruit_data/base/train/cabbage/IMG_03387.jpg  \n",
            "  inflating: new_veggie_fruit_data/base/train/cabbage/IMG_03354.jpg  \n",
            "  inflating: new_veggie_fruit_data/base/train/cabbage/IMG_03399.jpg  \n",
            "  inflating: new_veggie_fruit_data/base/train/cabbage/IMG_03376.jpg  \n",
            "  inflating: new_veggie_fruit_data/base/train/cabbage/IMG_03346.jpg  \n",
            "  inflating: new_veggie_fruit_data/base/train/cabbage/IMG_03389.jpg  \n",
            "  inflating: new_veggie_fruit_data/base/train/cabbage/IMG_03370.jpg  \n",
            "  inflating: new_veggie_fruit_data/base/train/cabbage/IMG_03373.jpg  \n",
            "  inflating: new_veggie_fruit_data/base/train/cabbage/IMG_03336.jpg  \n",
            "  inflating: new_veggie_fruit_data/base/train/cabbage/IMG_03360.jpg  \n",
            "  inflating: new_veggie_fruit_data/base/train/cabbage/IMG_03332.jpg  \n",
            "  inflating: new_veggie_fruit_data/base/train/cabbage/IMG_03403.jpg  \n",
            "  inflating: new_veggie_fruit_data/base/train/cabbage/IMG_03396.jpg  \n",
            "  inflating: new_veggie_fruit_data/base/train/cabbage/IMG_03357.jpg  \n",
            "  inflating: new_veggie_fruit_data/base/train/cabbage/IMG_03349.jpg  \n",
            "  inflating: new_veggie_fruit_data/base/train/cabbage/IMG_03386.jpg  \n",
            "  inflating: new_veggie_fruit_data/base/train/cabbage/IMG_03375.jpg  \n",
            "  inflating: new_veggie_fruit_data/base/train/cabbage/IMG_03362.jpg  \n",
            "  inflating: new_veggie_fruit_data/base/train/cabbage/IMG_9188.jpg  \n",
            "  inflating: new_veggie_fruit_data/base/train/cabbage/IMG_03368.jpg  \n",
            "  inflating: new_veggie_fruit_data/base/train/cabbage/IMG_9183.jpg  \n",
            "  inflating: new_veggie_fruit_data/base/train/cabbage/IMG_03392.jpg  \n",
            "  inflating: new_veggie_fruit_data/base/train/cabbage/IMG_03365.jpg  \n",
            "  inflating: new_veggie_fruit_data/base/train/cabbage/IMG_03352.jpg  \n",
            "  inflating: new_veggie_fruit_data/base/train/cabbage/IMG_03400.jpg  \n",
            "  inflating: new_veggie_fruit_data/base/train/cabbage/IMG_9263.jpg  \n",
            "  inflating: new_veggie_fruit_data/base/train/cabbage/IMG_03367.jpg  \n",
            "  inflating: new_veggie_fruit_data/base/train/cabbage/IMG_03331.jpg  \n",
            "  inflating: new_veggie_fruit_data/base/train/cabbage/IMG_03395.jpg  \n",
            "  inflating: new_veggie_fruit_data/base/train/cabbage/IMG_9185.jpg  \n",
            "  inflating: new_veggie_fruit_data/base/train/cabbage/IMG_03356.jpg  \n",
            "  inflating: new_veggie_fruit_data/base/train/cabbage/IMG_03379.jpg  \n",
            "  inflating: new_veggie_fruit_data/base/train/cabbage/IMG_03401.jpg  \n",
            "  inflating: new_veggie_fruit_data/base/train/cabbage/IMG_03330.jpg  \n",
            "  inflating: new_veggie_fruit_data/base/train/cabbage/IMG_03338.jpg  \n",
            "  inflating: new_veggie_fruit_data/base/train/cabbage/IMG_03342.jpg  \n",
            "  inflating: new_veggie_fruit_data/base/train/cabbage/IMG_03382.jpg  \n",
            "  inflating: new_veggie_fruit_data/base/train/cabbage/IMG_03334.jpg  \n",
            "   creating: new_veggie_fruit_data/base/train/durian/\n",
            "  inflating: new_veggie_fruit_data/base/train/durian/IMG_9091.JPG  \n",
            "  inflating: new_veggie_fruit_data/base/train/durian/IMG_9126.JPG  \n",
            "  inflating: new_veggie_fruit_data/base/train/durian/IMG_9115.JPG  \n",
            "  inflating: new_veggie_fruit_data/base/train/durian/IMG_1176.JPG  \n",
            "  inflating: new_veggie_fruit_data/base/train/durian/IMG_9114.JPG  \n",
            "  inflating: new_veggie_fruit_data/base/train/durian/IMG_9108.JPG  \n",
            "  inflating: new_veggie_fruit_data/base/train/durian/IMG_9096.JPG  \n",
            "  inflating: new_veggie_fruit_data/base/train/durian/IMG_9117.JPG  \n",
            "  inflating: new_veggie_fruit_data/base/train/durian/IMG_1175.JPG  \n",
            "  inflating: new_veggie_fruit_data/base/train/durian/IMG_9110.JPG  \n",
            "  inflating: new_veggie_fruit_data/base/train/durian/IMG_9093.JPG  \n",
            "  inflating: new_veggie_fruit_data/base/train/durian/IMG_9107.JPG  \n",
            "  inflating: new_veggie_fruit_data/base/train/durian/IMG_9089.JPG  \n",
            "  inflating: new_veggie_fruit_data/base/train/durian/IMG_9086.JPG  \n",
            "  inflating: new_veggie_fruit_data/base/train/durian/IMG_9092.JPG  \n",
            "  inflating: new_veggie_fruit_data/base/train/durian/IMG_1177.JPG  \n",
            "  inflating: new_veggie_fruit_data/base/train/durian/IMG_9095.JPG  \n",
            "  inflating: new_veggie_fruit_data/base/train/durian/IMG_9088.JPG  \n",
            "  inflating: new_veggie_fruit_data/base/train/durian/IMG_9124.JPG  \n",
            "  inflating: new_veggie_fruit_data/base/train/durian/IMG_9085.JPG  \n",
            "   creating: new_veggie_fruit_data/base/train/eggplant/\n",
            "  inflating: new_veggie_fruit_data/base/train/eggplant/IMG_03381.jpg  \n",
            "  inflating: new_veggie_fruit_data/base/train/eggplant/IMG_0396.jpg  \n",
            "  inflating: new_veggie_fruit_data/base/train/eggplant/IMG_7834.jpg  \n",
            "  inflating: new_veggie_fruit_data/base/train/eggplant/IMG_1905.JPG  \n",
            "  inflating: new_veggie_fruit_data/base/train/eggplant/IMG_03374.jpg  \n",
            "  inflating: new_veggie_fruit_data/base/train/eggplant/IMG_8879.jpg  \n",
            "  inflating: new_veggie_fruit_data/base/train/eggplant/IMG_1908.JPG  \n",
            "  inflating: new_veggie_fruit_data/base/train/eggplant/IMG_0397.jpg  \n",
            "  inflating: new_veggie_fruit_data/base/train/eggplant/D6F71FEA-B6A5-4E3F-AE21-1410E6302816.jpg  \n",
            "  inflating: new_veggie_fruit_data/base/train/eggplant/IMG_0379.jpg  \n",
            "  inflating: new_veggie_fruit_data/base/train/eggplant/IMG_1912.JPG  \n",
            "  inflating: new_veggie_fruit_data/base/train/eggplant/IMG_03397.jpg  \n",
            "  inflating: new_veggie_fruit_data/base/train/eggplant/IMG_03394.jpg  \n",
            "  inflating: new_veggie_fruit_data/base/train/eggplant/IMG_0315.jpg  \n",
            "  inflating: new_veggie_fruit_data/base/train/eggplant/IMG_03378.jpg  \n",
            "  inflating: new_veggie_fruit_data/base/train/eggplant/IMG_3424.jpg  \n",
            "  inflating: new_veggie_fruit_data/base/train/eggplant/IMG_03380.jpg  \n",
            "  inflating: new_veggie_fruit_data/base/train/eggplant/IMG_03371.jpg  \n",
            "  inflating: new_veggie_fruit_data/base/train/eggplant/IMG_03366.jpg  \n",
            "  inflating: new_veggie_fruit_data/base/train/eggplant/IMG_3425.jpg  \n",
            "  inflating: new_veggie_fruit_data/base/train/eggplant/IMG_3669.jpg  \n",
            "  inflating: new_veggie_fruit_data/base/train/eggplant/IMG_03383.jpg  \n",
            "  inflating: new_veggie_fruit_data/base/train/eggplant/IMG_3423.jpg  \n",
            "  inflating: new_veggie_fruit_data/base/train/eggplant/IMG_7814.jpg  \n",
            "  inflating: new_veggie_fruit_data/base/train/eggplant/IMG_03398.jpg  \n",
            "  inflating: new_veggie_fruit_data/base/train/eggplant/IMG_1910.JPG  \n",
            "  inflating: new_veggie_fruit_data/base/train/eggplant/IMG_03384.jpg  \n",
            "  inflating: new_veggie_fruit_data/base/train/eggplant/IMG_03385.jpg  \n",
            "  inflating: new_veggie_fruit_data/base/train/eggplant/IMG_03390.jpg  \n",
            "  inflating: new_veggie_fruit_data/base/train/eggplant/IMG_03350.jpg  \n",
            "  inflating: new_veggie_fruit_data/base/train/eggplant/IMG_03387.jpg  \n",
            "  inflating: new_veggie_fruit_data/base/train/eggplant/IMG_03354.jpg  \n",
            "  inflating: new_veggie_fruit_data/base/train/eggplant/IMG_03399.jpg  \n",
            "  inflating: new_veggie_fruit_data/base/train/eggplant/IMG_8883.jpg  \n",
            "  inflating: new_veggie_fruit_data/base/train/eggplant/IMG_03376.jpg  \n",
            "  inflating: new_veggie_fruit_data/base/train/eggplant/IMG_7156.JPG  \n",
            "  inflating: new_veggie_fruit_data/base/train/eggplant/IMG_0381.jpg  \n",
            "  inflating: new_veggie_fruit_data/base/train/eggplant/IMG_3665.jpg  \n",
            "  inflating: new_veggie_fruit_data/base/train/eggplant/IMG_03389.jpg  \n",
            "  inflating: new_veggie_fruit_data/base/train/eggplant/IMG_03370.jpg  \n",
            "  inflating: new_veggie_fruit_data/base/train/eggplant/IMG_8881.jpg  \n",
            "  inflating: new_veggie_fruit_data/base/train/eggplant/IMG_03373.jpg  \n",
            "  inflating: new_veggie_fruit_data/base/train/eggplant/IMG_0380.jpg  \n",
            "  inflating: new_veggie_fruit_data/base/train/eggplant/IMG_3427.jpg  \n",
            "  inflating: new_veggie_fruit_data/base/train/eggplant/IMG_03391.jpg  \n",
            "  inflating: new_veggie_fruit_data/base/train/eggplant/IMG_03396.jpg  \n",
            "  inflating: new_veggie_fruit_data/base/train/eggplant/IMG_7157.JPG  \n",
            "  inflating: new_veggie_fruit_data/base/train/eggplant/IMG_0314.jpg  \n",
            "  inflating: new_veggie_fruit_data/base/train/eggplant/IMG_03386.jpg  \n",
            "  inflating: new_veggie_fruit_data/base/train/eggplant/IMG_1913.JPG  \n",
            "  inflating: new_veggie_fruit_data/base/train/eggplant/IMG_03375.jpg  \n",
            "  inflating: new_veggie_fruit_data/base/train/eggplant/IMG_03362.jpg  \n",
            "  inflating: new_veggie_fruit_data/base/train/eggplant/IMG_03368.jpg  \n",
            "  inflating: new_veggie_fruit_data/base/train/eggplant/IMG_03392.jpg  \n",
            "  inflating: new_veggie_fruit_data/base/train/eggplant/IMG_8880.jpg  \n",
            "  inflating: new_veggie_fruit_data/base/train/eggplant/IMG_2737.JPG  \n",
            "  inflating: new_veggie_fruit_data/base/train/eggplant/IMG_03365.jpg  \n",
            "  inflating: new_veggie_fruit_data/base/train/eggplant/IMG_03352.jpg  \n",
            "  inflating: new_veggie_fruit_data/base/train/eggplant/IMG_1914.JPG  \n",
            "  inflating: new_veggie_fruit_data/base/train/eggplant/IMG_03400.jpg  \n",
            "  inflating: new_veggie_fruit_data/base/train/eggplant/IMG_03364.jpg  \n",
            "  inflating: new_veggie_fruit_data/base/train/eggplant/IMG_3421.jpg  \n",
            "  inflating: new_veggie_fruit_data/base/train/eggplant/IMG_3422.jpg  \n",
            "  inflating: new_veggie_fruit_data/base/train/eggplant/IMG_03367.jpg  \n",
            "  inflating: new_veggie_fruit_data/base/train/eggplant/IMG_0317.jpg  \n",
            "  inflating: new_veggie_fruit_data/base/train/eggplant/IMG_1915.JPG  \n",
            "  inflating: new_veggie_fruit_data/base/train/eggplant/IMG_03395.jpg  \n",
            "  inflating: new_veggie_fruit_data/base/train/eggplant/IMG_0383.jpg  \n",
            "  inflating: new_veggie_fruit_data/base/train/eggplant/IMG_03356.jpg  \n",
            "  inflating: new_veggie_fruit_data/base/train/eggplant/IMG_1906.JPG  \n",
            "  inflating: new_veggie_fruit_data/base/train/eggplant/IMG_8882.jpg  \n",
            "  inflating: new_veggie_fruit_data/base/train/eggplant/IMG_03382.jpg  \n",
            "  inflating: new_veggie_fruit_data/base/train/eggplant/IMG_3426.jpg  \n",
            "   creating: new_veggie_fruit_data/base/train/lemon/\n",
            "  inflating: new_veggie_fruit_data/base/train/lemon/IMG_03343.jpg  \n",
            "  inflating: new_veggie_fruit_data/base/train/lemon/IMG_03335.jpg  \n",
            "  inflating: new_veggie_fruit_data/base/train/lemon/IMG_03337.jpg  \n",
            "  inflating: new_veggie_fruit_data/base/train/lemon/IMG_03339.jpg  \n",
            "  inflating: new_veggie_fruit_data/base/train/lemon/IMG_03347.jpg  \n",
            "  inflating: new_veggie_fruit_data/base/train/lemon/IMG_4873.JPG  \n",
            "  inflating: new_veggie_fruit_data/base/train/lemon/IMG_03371.jpg  \n",
            "  inflating: new_veggie_fruit_data/base/train/lemon/IMG_03366.jpg  \n",
            "  inflating: new_veggie_fruit_data/base/train/lemon/IMG_03341.jpg  \n",
            "  inflating: new_veggie_fruit_data/base/train/lemon/IMG_03344.jpg  \n",
            "  inflating: new_veggie_fruit_data/base/train/lemon/IMG_03372.jpg  \n",
            "  inflating: new_veggie_fruit_data/base/train/lemon/IMG_03361.jpg  \n",
            "  inflating: new_veggie_fruit_data/base/train/lemon/IMG_03333.jpg  \n",
            "  inflating: new_veggie_fruit_data/base/train/lemon/IMG_03369.jpg  \n",
            "  inflating: new_veggie_fruit_data/base/train/lemon/IMG_03355.jpg  \n",
            "  inflating: new_veggie_fruit_data/base/train/lemon/IMG_03363.jpg  \n",
            "  inflating: new_veggie_fruit_data/base/train/lemon/IMG_03353.jpg  \n",
            "  inflating: new_veggie_fruit_data/base/train/lemon/IMG_03359.jpg  \n",
            "  inflating: new_veggie_fruit_data/base/train/lemon/IMG_4869.JPG  \n",
            "  inflating: new_veggie_fruit_data/base/train/lemon/IMG_03336.jpg  \n",
            "  inflating: new_veggie_fruit_data/base/train/lemon/IMG_03348.jpg  \n",
            "  inflating: new_veggie_fruit_data/base/train/lemon/IMG_03360.jpg  \n",
            "  inflating: new_veggie_fruit_data/base/train/lemon/IMG_03332.jpg  \n",
            "  inflating: new_veggie_fruit_data/base/train/lemon/IMG_4871.JPG  \n",
            "  inflating: new_veggie_fruit_data/base/train/lemon/IMG_03349.jpg  \n",
            "  inflating: new_veggie_fruit_data/base/train/lemon/IMG_03345.jpg  \n",
            "  inflating: new_veggie_fruit_data/base/train/lemon/IMG_03368.jpg  \n",
            "  inflating: new_veggie_fruit_data/base/train/lemon/IMG_03365.jpg  \n",
            "  inflating: new_veggie_fruit_data/base/train/lemon/IMG_03352.jpg  \n",
            "  inflating: new_veggie_fruit_data/base/train/lemon/IMG_03364.jpg  \n",
            "  inflating: new_veggie_fruit_data/base/train/lemon/IMG_03358.jpg  \n",
            "  inflating: new_veggie_fruit_data/base/train/lemon/IMG_03367.jpg  \n",
            "  inflating: new_veggie_fruit_data/base/train/lemon/IMG_03331.jpg  \n",
            "  inflating: new_veggie_fruit_data/base/train/lemon/IMG_03356.jpg  \n",
            "  inflating: new_veggie_fruit_data/base/train/lemon/IMG_03330.jpg  \n",
            "  inflating: new_veggie_fruit_data/base/train/lemon/IMG_03338.jpg  \n",
            "  inflating: new_veggie_fruit_data/base/train/lemon/IMG_03342.jpg  \n",
            "  inflating: new_veggie_fruit_data/base/train/lemon/IMG_4874.JPG  \n",
            "  inflating: new_veggie_fruit_data/base/train/lemon/IMG_03334.jpg  \n",
            "   creating: new_veggie_fruit_data/base/train/dragon_fruit/\n",
            "  inflating: new_veggie_fruit_data/base/train/dragon_fruit/IMG_03381.jpg  \n",
            "  inflating: new_veggie_fruit_data/base/train/dragon_fruit/IMG_03343.jpg  \n",
            "  inflating: new_veggie_fruit_data/base/train/dragon_fruit/IMG_4886.JPG  \n",
            "  inflating: new_veggie_fruit_data/base/train/dragon_fruit/IMG_03335.jpg  \n",
            "  inflating: new_veggie_fruit_data/base/train/dragon_fruit/IMG_03340.jpg  \n",
            "  inflating: new_veggie_fruit_data/base/train/dragon_fruit/IMG_4882.JPG  \n",
            "  inflating: new_veggie_fruit_data/base/train/dragon_fruit/IMG_03377.jpg  \n",
            "  inflating: new_veggie_fruit_data/base/train/dragon_fruit/IMG_03394.jpg  \n",
            "  inflating: new_veggie_fruit_data/base/train/dragon_fruit/IMG_03337.jpg  \n",
            "  inflating: new_veggie_fruit_data/base/train/dragon_fruit/IMG_03339.jpg  \n",
            "  inflating: new_veggie_fruit_data/base/train/dragon_fruit/IMG_03378.jpg  \n",
            "  inflating: new_veggie_fruit_data/base/train/dragon_fruit/IMG_03347.jpg  \n",
            "  inflating: new_veggie_fruit_data/base/train/dragon_fruit/IMG_03351.jpg  \n",
            "  inflating: new_veggie_fruit_data/base/train/dragon_fruit/IMG_03380.jpg  \n",
            "  inflating: new_veggie_fruit_data/base/train/dragon_fruit/IMG_03371.jpg  \n",
            "  inflating: new_veggie_fruit_data/base/train/dragon_fruit/IMG_03366.jpg  \n",
            "  inflating: new_veggie_fruit_data/base/train/dragon_fruit/IMG_03383.jpg  \n",
            "  inflating: new_veggie_fruit_data/base/train/dragon_fruit/IMG_4881.JPG  \n",
            "  inflating: new_veggie_fruit_data/base/train/dragon_fruit/IMG_03341.jpg  \n",
            "  inflating: new_veggie_fruit_data/base/train/dragon_fruit/IMG_03344.jpg  \n",
            "  inflating: new_veggie_fruit_data/base/train/dragon_fruit/IMG_03384.jpg  \n",
            "  inflating: new_veggie_fruit_data/base/train/dragon_fruit/IMG_03361.jpg  \n",
            "  inflating: new_veggie_fruit_data/base/train/dragon_fruit/IMG_03333.jpg  \n",
            "  inflating: new_veggie_fruit_data/base/train/dragon_fruit/IMG_03369.jpg  \n",
            "  inflating: new_veggie_fruit_data/base/train/dragon_fruit/IMG_03355.jpg  \n",
            "  inflating: new_veggie_fruit_data/base/train/dragon_fruit/IMG_03363.jpg  \n",
            "  inflating: new_veggie_fruit_data/base/train/dragon_fruit/IMG_4884.JPG  \n",
            "  inflating: new_veggie_fruit_data/base/train/dragon_fruit/IMG_03353.jpg  \n",
            "  inflating: new_veggie_fruit_data/base/train/dragon_fruit/IMG_03359.jpg  \n",
            "  inflating: new_veggie_fruit_data/base/train/dragon_fruit/IMG_03350.jpg  \n",
            "  inflating: new_veggie_fruit_data/base/train/dragon_fruit/IMG_03376.jpg  \n",
            "  inflating: new_veggie_fruit_data/base/train/dragon_fruit/IMG_03346.jpg  \n",
            "  inflating: new_veggie_fruit_data/base/train/dragon_fruit/IMG_03389.jpg  \n",
            "  inflating: new_veggie_fruit_data/base/train/dragon_fruit/IMG_03370.jpg  \n",
            "  inflating: new_veggie_fruit_data/base/train/dragon_fruit/IMG_03373.jpg  \n",
            "  inflating: new_veggie_fruit_data/base/train/dragon_fruit/IMG_03336.jpg  \n",
            "  inflating: new_veggie_fruit_data/base/train/dragon_fruit/IMG_03348.jpg  \n",
            "  inflating: new_veggie_fruit_data/base/train/dragon_fruit/IMG_4885.JPG  \n",
            "  inflating: new_veggie_fruit_data/base/train/dragon_fruit/IMG_03360.jpg  \n",
            "  inflating: new_veggie_fruit_data/base/train/dragon_fruit/IMG_03332.jpg  \n",
            "  inflating: new_veggie_fruit_data/base/train/dragon_fruit/IMG_03391.jpg  \n",
            "  inflating: new_veggie_fruit_data/base/train/dragon_fruit/IMG_03349.jpg  \n",
            "  inflating: new_veggie_fruit_data/base/train/dragon_fruit/IMG_03386.jpg  \n",
            "  inflating: new_veggie_fruit_data/base/train/dragon_fruit/IMG_03375.jpg  \n",
            "  inflating: new_veggie_fruit_data/base/train/dragon_fruit/IMG_03368.jpg  \n",
            "  inflating: new_veggie_fruit_data/base/train/dragon_fruit/IMG_03392.jpg  \n",
            "  inflating: new_veggie_fruit_data/base/train/dragon_fruit/IMG_03365.jpg  \n",
            "  inflating: new_veggie_fruit_data/base/train/dragon_fruit/IMG_03352.jpg  \n",
            "  inflating: new_veggie_fruit_data/base/train/dragon_fruit/IMG_03364.jpg  \n",
            "  inflating: new_veggie_fruit_data/base/train/dragon_fruit/IMG_03358.jpg  \n",
            "  inflating: new_veggie_fruit_data/base/train/dragon_fruit/IMG_03331.jpg  \n",
            "  inflating: new_veggie_fruit_data/base/train/dragon_fruit/IMG_03338.jpg  \n",
            "  inflating: new_veggie_fruit_data/base/train/dragon_fruit/IMG_03342.jpg  \n",
            "  inflating: new_veggie_fruit_data/base/train/dragon_fruit/IMG_03382.jpg  \n",
            "  inflating: new_veggie_fruit_data/base/train/dragon_fruit/IMG_03334.jpg  \n",
            "  inflating: new_veggie_fruit_data/base/train/dragon_fruit/IMG_4883.JPG  \n",
            "   creating: new_veggie_fruit_data/base/train/banana/\n",
            "  inflating: new_veggie_fruit_data/base/train/banana/IMG_03381.jpg  \n",
            "  inflating: new_veggie_fruit_data/base/train/banana/IMG_03343.jpg  \n",
            "  inflating: new_veggie_fruit_data/base/train/banana/IMG_1194.JPG  \n",
            "  inflating: new_veggie_fruit_data/base/train/banana/IMG_03374.jpg  \n",
            "  inflating: new_veggie_fruit_data/base/train/banana/IMG_03340.jpg  \n",
            "  inflating: new_veggie_fruit_data/base/train/banana/IMG_1195.JPG  \n",
            "  inflating: new_veggie_fruit_data/base/train/banana/IMG_03397.jpg  \n",
            "  inflating: new_veggie_fruit_data/base/train/banana/IMG_03377.jpg  \n",
            "  inflating: new_veggie_fruit_data/base/train/banana/IMG_03394.jpg  \n",
            "  inflating: new_veggie_fruit_data/base/train/banana/IMG_03402.jpg  \n",
            "  inflating: new_veggie_fruit_data/base/train/banana/IMG_03378.jpg  \n",
            "  inflating: new_veggie_fruit_data/base/train/banana/IMG_03407.jpg  \n",
            "  inflating: new_veggie_fruit_data/base/train/banana/IMG_03404.jpg  \n",
            "  inflating: new_veggie_fruit_data/base/train/banana/IMG_1192.JPG  \n",
            "  inflating: new_veggie_fruit_data/base/train/banana/IMG_03351.jpg  \n",
            "  inflating: new_veggie_fruit_data/base/train/banana/IMG_1196.JPG  \n",
            "  inflating: new_veggie_fruit_data/base/train/banana/IMG_03380.jpg  \n",
            "  inflating: new_veggie_fruit_data/base/train/banana/IMG_03371.jpg  \n",
            "  inflating: new_veggie_fruit_data/base/train/banana/IMG_03366.jpg  \n",
            "  inflating: new_veggie_fruit_data/base/train/banana/IMG_03383.jpg  \n",
            "  inflating: new_veggie_fruit_data/base/train/banana/IMG_03341.jpg  \n",
            "  inflating: new_veggie_fruit_data/base/train/banana/IMG_03344.jpg  \n",
            "  inflating: new_veggie_fruit_data/base/train/banana/IMG_03372.jpg  \n",
            "  inflating: new_veggie_fruit_data/base/train/banana/IMG_03398.jpg  \n",
            "  inflating: new_veggie_fruit_data/base/train/banana/IMG_03384.jpg  \n",
            "  inflating: new_veggie_fruit_data/base/train/banana/IMG_03333.jpg  \n",
            "  inflating: new_veggie_fruit_data/base/train/banana/IMG_03385.jpg  \n",
            "  inflating: new_veggie_fruit_data/base/train/banana/IMG_03369.jpg  \n",
            "  inflating: new_veggie_fruit_data/base/train/banana/IMG_03390.jpg  \n",
            "  inflating: new_veggie_fruit_data/base/train/banana/IMG_03355.jpg  \n",
            "  inflating: new_veggie_fruit_data/base/train/banana/IMG_03363.jpg  \n",
            "  inflating: new_veggie_fruit_data/base/train/banana/IMG_03353.jpg  \n",
            "  inflating: new_veggie_fruit_data/base/train/banana/IMG_03359.jpg  \n",
            "  inflating: new_veggie_fruit_data/base/train/banana/IMG_03350.jpg  \n",
            "  inflating: new_veggie_fruit_data/base/train/banana/IMG_03387.jpg  \n",
            "  inflating: new_veggie_fruit_data/base/train/banana/IMG_03354.jpg  \n",
            "  inflating: new_veggie_fruit_data/base/train/banana/IMG_03376.jpg  \n",
            "  inflating: new_veggie_fruit_data/base/train/banana/IMG_03346.jpg  \n",
            "  inflating: new_veggie_fruit_data/base/train/banana/IMG_03389.jpg  \n",
            "  inflating: new_veggie_fruit_data/base/train/banana/IMG_03370.jpg  \n",
            "  inflating: new_veggie_fruit_data/base/train/banana/IMG_03373.jpg  \n",
            "  inflating: new_veggie_fruit_data/base/train/banana/IMG_03336.jpg  \n",
            "  inflating: new_veggie_fruit_data/base/train/banana/IMG_1197.JPG  \n",
            "  inflating: new_veggie_fruit_data/base/train/banana/IMG_03348.jpg  \n",
            "  inflating: new_veggie_fruit_data/base/train/banana/IMG_03360.jpg  \n",
            "  inflating: new_veggie_fruit_data/base/train/banana/IMG_1191.JPG  \n",
            "  inflating: new_veggie_fruit_data/base/train/banana/IMG_03332.jpg  \n",
            "  inflating: new_veggie_fruit_data/base/train/banana/IMG_03403.jpg  \n",
            "  inflating: new_veggie_fruit_data/base/train/banana/IMG_03349.jpg  \n",
            "  inflating: new_veggie_fruit_data/base/train/banana/IMG_03345.jpg  \n",
            "  inflating: new_veggie_fruit_data/base/train/banana/IMG_03386.jpg  \n",
            "  inflating: new_veggie_fruit_data/base/train/banana/IMG_03375.jpg  \n",
            "  inflating: new_veggie_fruit_data/base/train/banana/IMG_03408.jpg  \n",
            "  inflating: new_veggie_fruit_data/base/train/banana/IMG_03368.jpg  \n",
            "  inflating: new_veggie_fruit_data/base/train/banana/IMG_03392.jpg  \n",
            "  inflating: new_veggie_fruit_data/base/train/banana/IMG_03365.jpg  \n",
            "  inflating: new_veggie_fruit_data/base/train/banana/IMG_03352.jpg  \n",
            "  inflating: new_veggie_fruit_data/base/train/banana/IMG_03400.jpg  \n",
            "  inflating: new_veggie_fruit_data/base/train/banana/IMG_03364.jpg  \n",
            "  inflating: new_veggie_fruit_data/base/train/banana/IMG_03367.jpg  \n",
            "  inflating: new_veggie_fruit_data/base/train/banana/IMG_03331.jpg  \n",
            "  inflating: new_veggie_fruit_data/base/train/banana/IMG_03395.jpg  \n",
            "  inflating: new_veggie_fruit_data/base/train/banana/IMG_03401.jpg  \n",
            "  inflating: new_veggie_fruit_data/base/train/banana/IMG_03330.jpg  \n",
            "  inflating: new_veggie_fruit_data/base/train/banana/IMG_03338.jpg  \n",
            "  inflating: new_veggie_fruit_data/base/train/banana/IMG_03342.jpg  \n",
            "  inflating: new_veggie_fruit_data/base/train/banana/IMG_03382.jpg  \n",
            "  inflating: new_veggie_fruit_data/base/train/banana/IMG_03334.jpg  \n",
            "   creating: new_veggie_fruit_data/base/train/kabocha_squash/\n",
            "  inflating: new_veggie_fruit_data/base/train/kabocha_squash/IMG_03440.jpg  \n",
            "  inflating: new_veggie_fruit_data/base/train/kabocha_squash/IMG_03494.jpg  \n",
            "  inflating: new_veggie_fruit_data/base/train/kabocha_squash/IMG_03477.jpg  \n",
            "  inflating: new_veggie_fruit_data/base/train/kabocha_squash/IMG_03470.jpg  \n",
            "  inflating: new_veggie_fruit_data/base/train/kabocha_squash/IMG_03442.jpg  \n",
            "  inflating: new_veggie_fruit_data/base/train/kabocha_squash/IMG_3660.jpg  \n",
            "  inflating: new_veggie_fruit_data/base/train/kabocha_squash/IMG_03467.jpg  \n",
            "  inflating: new_veggie_fruit_data/base/train/kabocha_squash/IMG_03445.jpg  \n",
            "  inflating: new_veggie_fruit_data/base/train/kabocha_squash/IMG_03455.jpg  \n",
            "  inflating: new_veggie_fruit_data/base/train/kabocha_squash/IMG_03443.jpg  \n",
            "  inflating: new_veggie_fruit_data/base/train/kabocha_squash/IMG_3659.jpg  \n",
            "  inflating: new_veggie_fruit_data/base/train/kabocha_squash/IMG_03486.jpg  \n",
            "  inflating: new_veggie_fruit_data/base/train/kabocha_squash/IMG_03482.jpg  \n",
            "  inflating: new_veggie_fruit_data/base/train/kabocha_squash/IMG_03453.jpg  \n",
            "  inflating: new_veggie_fruit_data/base/train/kabocha_squash/IMG_03479.jpg  \n",
            "  inflating: new_veggie_fruit_data/base/train/kabocha_squash/IMG_03469.jpg  \n",
            "  inflating: new_veggie_fruit_data/base/train/kabocha_squash/IMG_03483.jpg  \n",
            "  inflating: new_veggie_fruit_data/base/train/kabocha_squash/IMG_03444.jpg  \n",
            "  inflating: new_veggie_fruit_data/base/train/kabocha_squash/IMG_03471.jpg  \n",
            "  inflating: new_veggie_fruit_data/base/train/kabocha_squash/IMG_03480.jpg  \n",
            "  inflating: new_veggie_fruit_data/base/train/kabocha_squash/IMG_03441.jpg  \n",
            "  inflating: new_veggie_fruit_data/base/train/kabocha_squash/IMG_3662.jpg  \n",
            "  inflating: new_veggie_fruit_data/base/train/kabocha_squash/IMG_03485.jpg  \n",
            "  inflating: new_veggie_fruit_data/base/train/kabocha_squash/IMG_03460.jpg  \n",
            "  inflating: new_veggie_fruit_data/base/train/kabocha_squash/IMG_03468.jpg  \n",
            "  inflating: new_veggie_fruit_data/base/train/kabocha_squash/IMG_03452.jpg  \n",
            "  inflating: new_veggie_fruit_data/base/train/kabocha_squash/IMG_03473.jpg  \n",
            "  inflating: new_veggie_fruit_data/base/train/kabocha_squash/IMG_03487.jpg  \n",
            "  inflating: new_veggie_fruit_data/base/train/kabocha_squash/IMG_03450.jpg  \n",
            "  inflating: new_veggie_fruit_data/base/train/kabocha_squash/IMG_03436.jpg  \n",
            "  inflating: new_veggie_fruit_data/base/train/kabocha_squash/IMG_03462.jpg  \n",
            "  inflating: new_veggie_fruit_data/base/train/kabocha_squash/IMG_03481.jpg  \n",
            "  inflating: new_veggie_fruit_data/base/train/kabocha_squash/IMG_03457.jpg  \n",
            "  inflating: new_veggie_fruit_data/base/train/kabocha_squash/IMG_03437.jpg  \n",
            "  inflating: new_veggie_fruit_data/base/train/kabocha_squash/IMG_03439.jpg  \n",
            "  inflating: new_veggie_fruit_data/base/train/kabocha_squash/IMG_03454.jpg  \n",
            "  inflating: new_veggie_fruit_data/base/train/kabocha_squash/IMG_03472.jpg  \n",
            "  inflating: new_veggie_fruit_data/base/train/kabocha_squash/IMG_03461.jpg  \n",
            "  inflating: new_veggie_fruit_data/base/train/kabocha_squash/IMG_03459.jpg  \n",
            "  inflating: new_veggie_fruit_data/base/train/kabocha_squash/IMG_03491.jpg  \n",
            "  inflating: new_veggie_fruit_data/base/train/kabocha_squash/IMG_03448.jpg  \n",
            "  inflating: new_veggie_fruit_data/base/train/kabocha_squash/IMG_03449.jpg  \n",
            "  inflating: new_veggie_fruit_data/base/train/kabocha_squash/IMG_03447.jpg  \n",
            "  inflating: new_veggie_fruit_data/base/train/kabocha_squash/IMG_03465.jpg  \n",
            "  inflating: new_veggie_fruit_data/base/train/kabocha_squash/IMG_03458.jpg  \n",
            "  inflating: new_veggie_fruit_data/base/train/kabocha_squash/IMG_03489.jpg  \n",
            "  inflating: new_veggie_fruit_data/base/train/kabocha_squash/IMG_03488.jpg  \n",
            "  inflating: new_veggie_fruit_data/base/train/kabocha_squash/IMG_03463.jpg  \n",
            "  inflating: new_veggie_fruit_data/base/train/kabocha_squash/IMG_03478.jpg  \n",
            "  inflating: new_veggie_fruit_data/base/train/kabocha_squash/IMG_03474.jpg  \n",
            "   creating: new_veggie_fruit_data/base/train/green_onion/\n",
            "  inflating: new_veggie_fruit_data/base/train/green_onion/IMG_03388.jpg  \n",
            "  inflating: new_veggie_fruit_data/base/train/green_onion/IMG_03381.jpg  \n",
            "  inflating: new_veggie_fruit_data/base/train/green_onion/IMG_03418.jpg  \n",
            "  inflating: new_veggie_fruit_data/base/train/green_onion/IMG_03427.jpg  \n",
            "  inflating: new_veggie_fruit_data/base/train/green_onion/IMG_03343.jpg  \n",
            "  inflating: new_veggie_fruit_data/base/train/green_onion/IMG_3173.jpg  \n",
            "  inflating: new_veggie_fruit_data/base/train/green_onion/IMG_03335.jpg  \n",
            "  inflating: new_veggie_fruit_data/base/train/green_onion/IMG_03423.jpg  \n",
            "  inflating: new_veggie_fruit_data/base/train/green_onion/IMG_0303.jpg  \n",
            "  inflating: new_veggie_fruit_data/base/train/green_onion/IMG_0483.jpg  \n",
            "  inflating: new_veggie_fruit_data/base/train/green_onion/IMG_03374.jpg  \n",
            "  inflating: new_veggie_fruit_data/base/train/green_onion/IMG_0113.jpg  \n",
            "  inflating: new_veggie_fruit_data/base/train/green_onion/IMG_8675.jpg  \n",
            "  inflating: new_veggie_fruit_data/base/train/green_onion/IMG_03406.jpg  \n",
            "  inflating: new_veggie_fruit_data/base/train/green_onion/IMG_9501.jpg  \n",
            "  inflating: new_veggie_fruit_data/base/train/green_onion/IMG_03340.jpg  \n",
            "  inflating: new_veggie_fruit_data/base/train/green_onion/IMG_03415.jpg  \n",
            "  inflating: new_veggie_fruit_data/base/train/green_onion/IMG_03377.jpg  \n",
            "  inflating: new_veggie_fruit_data/base/train/green_onion/IMG_03394.jpg  \n",
            "  inflating: new_veggie_fruit_data/base/train/green_onion/IMG_03337.jpg  \n",
            "  inflating: new_veggie_fruit_data/base/train/green_onion/IMG_03416.jpg  \n",
            "  inflating: new_veggie_fruit_data/base/train/green_onion/IMG_03402.jpg  \n",
            "  inflating: new_veggie_fruit_data/base/train/green_onion/IMG_4897.JPG  \n",
            "  inflating: new_veggie_fruit_data/base/train/green_onion/IMG_03339.jpg  \n",
            "  inflating: new_veggie_fruit_data/base/train/green_onion/IMG_9502.jpg  \n",
            "  inflating: new_veggie_fruit_data/base/train/green_onion/IMG_03378.jpg  \n",
            "  inflating: new_veggie_fruit_data/base/train/green_onion/IMG_03421.jpg  \n",
            "  inflating: new_veggie_fruit_data/base/train/green_onion/IMG_03407.jpg  \n",
            "  inflating: new_veggie_fruit_data/base/train/green_onion/IMG_3217.jpg  \n",
            "  inflating: new_veggie_fruit_data/base/train/green_onion/IMG_03404.jpg  \n",
            "  inflating: new_veggie_fruit_data/base/train/green_onion/IMG_03347.jpg  \n",
            "  inflating: new_veggie_fruit_data/base/train/green_onion/IMG_03351.jpg  \n",
            "  inflating: new_veggie_fruit_data/base/train/green_onion/IMG_03380.jpg  \n",
            "  inflating: new_veggie_fruit_data/base/train/green_onion/IMG_03371.jpg  \n",
            "  inflating: new_veggie_fruit_data/base/train/green_onion/IMG_03425.jpg  \n",
            "  inflating: new_veggie_fruit_data/base/train/green_onion/IMG_3219.jpg  \n",
            "  inflating: new_veggie_fruit_data/base/train/green_onion/IMG_03412.jpg  \n",
            "  inflating: new_veggie_fruit_data/base/train/green_onion/IMG_0471.jpg  \n",
            "  inflating: new_veggie_fruit_data/base/train/green_onion/IMG_3171.jpg  \n",
            "  inflating: new_veggie_fruit_data/base/train/green_onion/IMG_03413.jpg  \n",
            "  inflating: new_veggie_fruit_data/base/train/green_onion/IMG_03344.jpg  \n",
            "  inflating: new_veggie_fruit_data/base/train/green_onion/IMG_03372.jpg  \n",
            "  inflating: new_veggie_fruit_data/base/train/green_onion/IMG_8674.jpg  \n",
            "  inflating: new_veggie_fruit_data/base/train/green_onion/IMG_1263.JPG  \n",
            "  inflating: new_veggie_fruit_data/base/train/green_onion/IMG_03384.jpg  \n",
            "  inflating: new_veggie_fruit_data/base/train/green_onion/IMG_03361.jpg  \n",
            "  inflating: new_veggie_fruit_data/base/train/green_onion/IMG_03385.jpg  \n",
            "  inflating: new_veggie_fruit_data/base/train/green_onion/IMG_03369.jpg  \n",
            "  inflating: new_veggie_fruit_data/base/train/green_onion/IMG_3172.jpg  \n",
            "  inflating: new_veggie_fruit_data/base/train/green_onion/IMG_03355.jpg  \n",
            "  inflating: new_veggie_fruit_data/base/train/green_onion/IMG_03363.jpg  \n",
            "  inflating: new_veggie_fruit_data/base/train/green_onion/IMG_03353.jpg  \n",
            "  inflating: new_veggie_fruit_data/base/train/green_onion/IMG_03359.jpg  \n",
            "  inflating: new_veggie_fruit_data/base/train/green_onion/IMG_03350.jpg  \n",
            "  inflating: new_veggie_fruit_data/base/train/green_onion/IMG_03387.jpg  \n",
            "  inflating: new_veggie_fruit_data/base/train/green_onion/IMG_1264.JPG  \n",
            "  inflating: new_veggie_fruit_data/base/train/green_onion/IMG_03354.jpg  \n",
            "  inflating: new_veggie_fruit_data/base/train/green_onion/IMG_03376.jpg  \n",
            "  inflating: new_veggie_fruit_data/base/train/green_onion/IMG_0333.jpg  \n",
            "  inflating: new_veggie_fruit_data/base/train/green_onion/IMG_03346.jpg  \n",
            "  inflating: new_veggie_fruit_data/base/train/green_onion/IMG_03389.jpg  \n",
            "  inflating: new_veggie_fruit_data/base/train/green_onion/IMG_03370.jpg  \n",
            "  inflating: new_veggie_fruit_data/base/train/green_onion/IMG_03373.jpg  \n",
            "  inflating: new_veggie_fruit_data/base/train/green_onion/IMG_03393.jpg  \n",
            "  inflating: new_veggie_fruit_data/base/train/green_onion/IMG_03336.jpg  \n",
            "  inflating: new_veggie_fruit_data/base/train/green_onion/IMG_03348.jpg  \n",
            "  inflating: new_veggie_fruit_data/base/train/green_onion/IMG_8676.jpg  \n",
            "  inflating: new_veggie_fruit_data/base/train/green_onion/IMG_4893.JPG  \n",
            "  inflating: new_veggie_fruit_data/base/train/green_onion/IMG_03360.jpg  \n",
            "  inflating: new_veggie_fruit_data/base/train/green_onion/IMG_1265.JPG  \n",
            "  inflating: new_veggie_fruit_data/base/train/green_onion/IMG_03332.jpg  \n",
            "  inflating: new_veggie_fruit_data/base/train/green_onion/IMG_03403.jpg  \n",
            "  inflating: new_veggie_fruit_data/base/train/green_onion/IMG_03391.jpg  \n",
            "  inflating: new_veggie_fruit_data/base/train/green_onion/IMG_03396.jpg  \n",
            "  inflating: new_veggie_fruit_data/base/train/green_onion/IMG_03349.jpg  \n",
            "  inflating: new_veggie_fruit_data/base/train/green_onion/IMG_03345.jpg  \n",
            "  inflating: new_veggie_fruit_data/base/train/green_onion/IMG_03386.jpg  \n",
            "  inflating: new_veggie_fruit_data/base/train/green_onion/IMG_03410.jpg  \n",
            "  inflating: new_veggie_fruit_data/base/train/green_onion/IMG_03375.jpg  \n",
            "  inflating: new_veggie_fruit_data/base/train/green_onion/IMG_03362.jpg  \n",
            "  inflating: new_veggie_fruit_data/base/train/green_onion/IMG_4894.JPG  \n",
            "  inflating: new_veggie_fruit_data/base/train/green_onion/IMG_03424.jpg  \n",
            "  inflating: new_veggie_fruit_data/base/train/green_onion/IMG_03408.jpg  \n",
            "  inflating: new_veggie_fruit_data/base/train/green_onion/IMG_03392.jpg  \n",
            "  inflating: new_veggie_fruit_data/base/train/green_onion/IMG_03365.jpg  \n",
            "  inflating: new_veggie_fruit_data/base/train/green_onion/IMG_03352.jpg  \n",
            "  inflating: new_veggie_fruit_data/base/train/green_onion/IMG_4896.JPG  \n",
            "  inflating: new_veggie_fruit_data/base/train/green_onion/IMG_03400.jpg  \n",
            "  inflating: new_veggie_fruit_data/base/train/green_onion/IMG_03364.jpg  \n",
            "  inflating: new_veggie_fruit_data/base/train/green_onion/IMG_4898.JPG  \n",
            "  inflating: new_veggie_fruit_data/base/train/green_onion/IMG_03420.jpg  \n",
            "  inflating: new_veggie_fruit_data/base/train/green_onion/IMG_03367.jpg  \n",
            "  inflating: new_veggie_fruit_data/base/train/green_onion/IMG_03331.jpg  \n",
            "  inflating: new_veggie_fruit_data/base/train/green_onion/IMG_3170.jpg  \n",
            "  inflating: new_veggie_fruit_data/base/train/green_onion/IMG_03417.jpg  \n",
            "  inflating: new_veggie_fruit_data/base/train/green_onion/IMG_03395.jpg  \n",
            "  inflating: new_veggie_fruit_data/base/train/green_onion/IMG_1267.JPG  \n",
            "  inflating: new_veggie_fruit_data/base/train/green_onion/IMG_4899.JPG  \n",
            "  inflating: new_veggie_fruit_data/base/train/green_onion/IMG_4895.JPG  \n",
            "  inflating: new_veggie_fruit_data/base/train/green_onion/IMG_03401.jpg  \n",
            "  inflating: new_veggie_fruit_data/base/train/green_onion/IMG_03330.jpg  \n",
            "  inflating: new_veggie_fruit_data/base/train/green_onion/IMG_03405.jpg  \n",
            "  inflating: new_veggie_fruit_data/base/train/green_onion/IMG_3218.jpg  \n",
            "  inflating: new_veggie_fruit_data/base/train/green_onion/IMG_03382.jpg  \n",
            "  inflating: new_veggie_fruit_data/base/train/green_onion/IMG_0115.jpg  \n",
            "  inflating: new_veggie_fruit_data/base/train/green_onion/IMG_03419.jpg  \n",
            "  inflating: new_veggie_fruit_data/base/train/green_onion/IMG_0114.jpg  \n",
            "  inflating: new_veggie_fruit_data/base/train/green_onion/IMG_03334.jpg  \n",
            "   creating: new_veggie_fruit_data/base/train/carrot/\n",
            "  inflating: new_veggie_fruit_data/base/train/carrot/IMG_9256.jpg  \n",
            "  inflating: new_veggie_fruit_data/base/train/carrot/IMG_7227.JPG  \n",
            "  inflating: new_veggie_fruit_data/base/train/carrot/IMG_9210.jpg  \n",
            "  inflating: new_veggie_fruit_data/base/train/carrot/IMG_2743.JPG  \n",
            "  inflating: new_veggie_fruit_data/base/train/carrot/IMG_8851.jpg  \n",
            "  inflating: new_veggie_fruit_data/base/train/carrot/IMG_8853.jpg  \n",
            "  inflating: new_veggie_fruit_data/base/train/carrot/IMG_8852.jpg  \n",
            "  inflating: new_veggie_fruit_data/base/train/carrot/IMG_3204.jpg  \n",
            "  inflating: new_veggie_fruit_data/base/train/carrot/IMG_7225.JPG  \n",
            "  inflating: new_veggie_fruit_data/base/train/carrot/IMG_9253.heic  \n",
            "  inflating: new_veggie_fruit_data/base/train/carrot/IMG_9199.jpg  \n",
            "  inflating: new_veggie_fruit_data/base/train/carrot/IMG_9200.jpg  \n",
            "  inflating: new_veggie_fruit_data/base/train/carrot/IMG_9255.jpg  \n",
            "  inflating: new_veggie_fruit_data/base/train/carrot/IMG_7226.JPG  \n",
            "  inflating: new_veggie_fruit_data/base/train/carrot/IMG_9254.jpg  \n",
            "  inflating: new_veggie_fruit_data/base/train/carrot/IMG_9209.jpg  \n",
            "  inflating: new_veggie_fruit_data/base/train/carrot/IMG_7223.JPG  \n",
            "  inflating: new_veggie_fruit_data/base/train/carrot/IMG_3203.jpg  \n",
            "  inflating: new_veggie_fruit_data/base/train/carrot/IMG_8666.jpg  \n",
            "  inflating: new_veggie_fruit_data/base/train/carrot/IMG_7228.JPG  \n",
            "  inflating: new_veggie_fruit_data/base/train/carrot/IMG_3205.jpg  \n",
            "  inflating: new_veggie_fruit_data/base/train/carrot/IMG_9196.jpg  \n",
            "  inflating: new_veggie_fruit_data/base/train/carrot/IMG_9207.jpg  \n",
            "  inflating: new_veggie_fruit_data/base/train/carrot/IMG_9197.jpg  \n",
            "  inflating: new_veggie_fruit_data/base/train/carrot/IMG_8699.JPG  \n",
            "   creating: new_veggie_fruit_data/base/train/pomegranate/\n",
            "  inflating: new_veggie_fruit_data/base/train/pomegranate/IMG_6619.JPG  \n",
            "  inflating: new_veggie_fruit_data/base/train/pomegranate/IMG_6620.JPG  \n",
            "  inflating: new_veggie_fruit_data/base/train/pomegranate/IMG_6623.JPG  \n",
            "  inflating: new_veggie_fruit_data/base/train/pomegranate/IMG_6629.JPG  \n",
            "  inflating: new_veggie_fruit_data/base/train/pomegranate/IMG_7277.JPG  \n",
            "  inflating: new_veggie_fruit_data/base/train/pomegranate/IMG_6626.JPG  \n",
            "  inflating: new_veggie_fruit_data/base/train/pomegranate/IMG_7305.JPG  \n",
            "  inflating: new_veggie_fruit_data/base/train/pomegranate/IMG_6624.JPG  \n",
            "  inflating: new_veggie_fruit_data/base/train/pomegranate/IMG_9244.jpg  \n",
            "  inflating: new_veggie_fruit_data/base/train/pomegranate/IMG_6622.JPG  \n",
            "  inflating: new_veggie_fruit_data/base/train/pomegranate/IMG_9242.jpg  \n",
            "  inflating: new_veggie_fruit_data/base/train/pomegranate/IMG_9241.jpg  \n",
            "  inflating: new_veggie_fruit_data/base/train/pomegranate/IMG_6628.JPG  \n",
            "  inflating: new_veggie_fruit_data/base/train/pomegranate/IMG_7279.JPG  \n",
            "  inflating: new_veggie_fruit_data/base/train/pomegranate/IMG_6625.JPG  \n",
            "  inflating: new_veggie_fruit_data/base/train/pomegranate/IMG_6627.JPG  \n",
            "  inflating: new_veggie_fruit_data/base/train/pomegranate/IMG_9243.jpg  \n",
            "  inflating: new_veggie_fruit_data/base/train/pomegranate/IMG_7302.JPG  \n",
            "  inflating: new_veggie_fruit_data/base/train/pomegranate/IMG_7301.JPG  \n",
            "  inflating: new_veggie_fruit_data/base/train/pomegranate/IMG_9240.jpg  \n",
            "   creating: new_veggie_fruit_data/base/train/long_bean/\n",
            "  inflating: new_veggie_fruit_data/base/train/long_bean/IMG_6607.JPG  \n",
            "  inflating: new_veggie_fruit_data/base/train/long_bean/IMG_6608.JPG  \n",
            "  inflating: new_veggie_fruit_data/base/train/long_bean/IMG_5537.JPG  \n",
            "  inflating: new_veggie_fruit_data/base/train/long_bean/IMG_7158.JPG  \n",
            "  inflating: new_veggie_fruit_data/base/train/long_bean/IMG_5532.JPG  \n",
            "  inflating: new_veggie_fruit_data/base/train/long_bean/IMG_5529.JPG  \n",
            "  inflating: new_veggie_fruit_data/base/train/long_bean/IMG_7161.JPG  \n",
            "  inflating: new_veggie_fruit_data/base/train/long_bean/IMG_7108.JPG  \n",
            "  inflating: new_veggie_fruit_data/base/train/long_bean/IMG_7107.JPG  \n",
            "  inflating: new_veggie_fruit_data/base/train/long_bean/IMG_7109.JPG  \n",
            "  inflating: new_veggie_fruit_data/base/train/long_bean/IMG_5540.JPG  \n",
            "  inflating: new_veggie_fruit_data/base/train/long_bean/IMG_6603.JPG  \n",
            "  inflating: new_veggie_fruit_data/base/train/long_bean/IMG_5531.JPG  \n",
            "  inflating: new_veggie_fruit_data/base/train/long_bean/IMG_7110.JPG  \n",
            "  inflating: new_veggie_fruit_data/base/train/long_bean/IMG_7112.JPG  \n",
            "  inflating: new_veggie_fruit_data/base/train/long_bean/IMG_5530.JPG  \n",
            "  inflating: new_veggie_fruit_data/base/train/long_bean/IMG_7006.JPG  \n",
            "  inflating: new_veggie_fruit_data/base/train/long_bean/IMG_7008.JPG  \n",
            "  inflating: new_veggie_fruit_data/base/train/long_bean/IMG_5539.JPG  \n",
            "  inflating: new_veggie_fruit_data/base/train/long_bean/IMG_7111.JPG  \n",
            "  inflating: new_veggie_fruit_data/base/train/long_bean/IMG_5538.JPG  \n",
            "   creating: new_veggie_fruit_data/base/train/okra/\n",
            "  inflating: new_veggie_fruit_data/base/train/okra/IMG_6990.JPG  \n",
            "  inflating: new_veggie_fruit_data/base/train/okra/IMG_8836.jpg  \n",
            "  inflating: new_veggie_fruit_data/base/train/okra/IMG_8838.jpg  \n",
            "  inflating: new_veggie_fruit_data/base/train/okra/IMG_8636.jpg  \n",
            "  inflating: new_veggie_fruit_data/base/train/okra/IMG_6989.JPG  \n",
            "  inflating: new_veggie_fruit_data/base/train/okra/IMG_8681.jpg  \n",
            "  inflating: new_veggie_fruit_data/base/train/okra/IMG_7124.JPG  \n",
            "  inflating: new_veggie_fruit_data/base/train/okra/IMG_5527.JPG  \n",
            "  inflating: new_veggie_fruit_data/base/train/okra/IMG_5521.JPG  \n",
            "  inflating: new_veggie_fruit_data/base/train/okra/IMG_0376.jpg  \n",
            "  inflating: new_veggie_fruit_data/base/train/okra/IMG_6988.JPG  \n",
            "  inflating: new_veggie_fruit_data/base/train/okra/IMG_8834.jpg  \n",
            "  inflating: new_veggie_fruit_data/base/train/okra/IMG_7316.JPG  \n",
            "  inflating: new_veggie_fruit_data/base/train/okra/IMG_8637.jpg  \n",
            "  inflating: new_veggie_fruit_data/base/train/okra/IMG_7122.JPG  \n",
            "  inflating: new_veggie_fruit_data/base/train/okra/IMG_5526.JPG  \n",
            "  inflating: new_veggie_fruit_data/base/train/okra/IMG_8683.jpg  \n",
            "  inflating: new_veggie_fruit_data/base/train/okra/IMG_8835.jpg  \n",
            "  inflating: new_veggie_fruit_data/base/train/okra/IMG_8837.jpg  \n",
            "  inflating: new_veggie_fruit_data/base/train/okra/IMG_5525.JPG  \n",
            "  inflating: new_veggie_fruit_data/base/train/okra/IMG_8635.jpg  \n",
            "  inflating: new_veggie_fruit_data/base/train/okra/IMG_8682.jpg  \n",
            "  inflating: new_veggie_fruit_data/base/train/okra/IMG_0377.jpg  \n",
            "  inflating: new_veggie_fruit_data/base/train/okra/IMG_5524.JPG  \n",
            "   creating: new_veggie_fruit_data/base/train/lime/\n",
            "  inflating: new_veggie_fruit_data/base/train/lime/IMG_03343.jpg  \n",
            "  inflating: new_veggie_fruit_data/base/train/lime/IMG_03335.jpg  \n",
            "  inflating: new_veggie_fruit_data/base/train/lime/IMG_4867.JPG  \n",
            "  inflating: new_veggie_fruit_data/base/train/lime/IMG_2155.JPG  \n",
            "  inflating: new_veggie_fruit_data/base/train/lime/IMG_4864.JPG  \n",
            "  inflating: new_veggie_fruit_data/base/train/lime/IMG_03340.jpg  \n",
            "  inflating: new_veggie_fruit_data/base/train/lime/IMG_03339.jpg  \n",
            "  inflating: new_veggie_fruit_data/base/train/lime/IMG_4865.JPG  \n",
            "  inflating: new_veggie_fruit_data/base/train/lime/IMG_4868.JPG  \n",
            "  inflating: new_veggie_fruit_data/base/train/lime/IMG_2154.JPG  \n",
            "  inflating: new_veggie_fruit_data/base/train/lime/IMG_03341.jpg  \n",
            "  inflating: new_veggie_fruit_data/base/train/lime/IMG_03344.jpg  \n",
            "  inflating: new_veggie_fruit_data/base/train/lime/IMG_03333.jpg  \n",
            "  inflating: new_veggie_fruit_data/base/train/lime/IMG_4866.JPG  \n",
            "  inflating: new_veggie_fruit_data/base/train/lime/IMG_03350.jpg  \n",
            "  inflating: new_veggie_fruit_data/base/train/lime/IMG_4863.JPG  \n",
            "  inflating: new_veggie_fruit_data/base/train/lime/IMG_03346.jpg  \n",
            "  inflating: new_veggie_fruit_data/base/train/lime/IMG_03336.jpg  \n",
            "  inflating: new_veggie_fruit_data/base/train/lime/IMG_03348.jpg  \n",
            "  inflating: new_veggie_fruit_data/base/train/lime/IMG_2161.JPG  \n",
            "  inflating: new_veggie_fruit_data/base/train/lime/IMG_2157.JPG  \n",
            "  inflating: new_veggie_fruit_data/base/train/lime/IMG_03332.jpg  \n",
            "  inflating: new_veggie_fruit_data/base/train/lime/IMG_2156.JPG  \n",
            "  inflating: new_veggie_fruit_data/base/train/lime/IMG_03349.jpg  \n",
            "  inflating: new_veggie_fruit_data/base/train/lime/IMG_03345.jpg  \n",
            "  inflating: new_veggie_fruit_data/base/train/lime/IMG_2158.JPG  \n",
            "  inflating: new_veggie_fruit_data/base/train/lime/IMG_03331.jpg  \n",
            "  inflating: new_veggie_fruit_data/base/train/lime/IMG_03334.jpg  \n",
            "   creating: new_veggie_fruit_data/base/train/red_chicory/\n",
            "  inflating: new_veggie_fruit_data/base/train/red_chicory/IMG_3687.jpg  \n",
            "  inflating: new_veggie_fruit_data/base/train/red_chicory/IMG_3688.jpg  \n",
            "   creating: new_veggie_fruit_data/base/train/yellow_peach/\n",
            "  inflating: new_veggie_fruit_data/base/train/yellow_peach/IMG_7716.jpg  \n",
            "  inflating: new_veggie_fruit_data/base/train/yellow_peach/IMG_7870.jpg  \n",
            "  inflating: new_veggie_fruit_data/base/train/yellow_peach/IMG_7871.jpg  \n",
            "   creating: new_veggie_fruit_data/base/train/corn/\n",
            "  inflating: new_veggie_fruit_data/base/train/corn/IMG_1254.JPG  \n",
            "  inflating: new_veggie_fruit_data/base/train/corn/IMG_03335.jpg  \n",
            "  inflating: new_veggie_fruit_data/base/train/corn/IMG_03374.jpg  \n",
            "  inflating: new_veggie_fruit_data/base/train/corn/IMG_1252.JPG  \n",
            "  inflating: new_veggie_fruit_data/base/train/corn/IMG_03340.jpg  \n",
            "  inflating: new_veggie_fruit_data/base/train/corn/IMG_03377.jpg  \n",
            "  inflating: new_veggie_fruit_data/base/train/corn/IMG_03337.jpg  \n",
            "  inflating: new_veggie_fruit_data/base/train/corn/IMG_7101.JPG  \n",
            "  inflating: new_veggie_fruit_data/base/train/corn/IMG_03339.jpg  \n",
            "  inflating: new_veggie_fruit_data/base/train/corn/IMG_03378.jpg  \n",
            "  inflating: new_veggie_fruit_data/base/train/corn/IMG_1255.JPG  \n",
            "  inflating: new_veggie_fruit_data/base/train/corn/IMG_03347.jpg  \n",
            "  inflating: new_veggie_fruit_data/base/train/corn/IMG_03351.jpg  \n",
            "  inflating: new_veggie_fruit_data/base/train/corn/IMG_03341.jpg  \n",
            "  inflating: new_veggie_fruit_data/base/train/corn/IMG_03344.jpg  \n",
            "  inflating: new_veggie_fruit_data/base/train/corn/IMG_03372.jpg  \n",
            "  inflating: new_veggie_fruit_data/base/train/corn/IMG_03333.jpg  \n",
            "  inflating: new_veggie_fruit_data/base/train/corn/IMG_03369.jpg  \n",
            "  inflating: new_veggie_fruit_data/base/train/corn/IMG_03355.jpg  \n",
            "  inflating: new_veggie_fruit_data/base/train/corn/IMG_03363.jpg  \n",
            "  inflating: new_veggie_fruit_data/base/train/corn/IMG_03353.jpg  \n",
            "  inflating: new_veggie_fruit_data/base/train/corn/IMG_03359.jpg  \n",
            "  inflating: new_veggie_fruit_data/base/train/corn/IMG_03354.jpg  \n",
            "  inflating: new_veggie_fruit_data/base/train/corn/IMG_7100.JPG  \n",
            "  inflating: new_veggie_fruit_data/base/train/corn/IMG_03376.jpg  \n",
            "  inflating: new_veggie_fruit_data/base/train/corn/IMG_03373.jpg  \n",
            "  inflating: new_veggie_fruit_data/base/train/corn/IMG_03336.jpg  \n",
            "  inflating: new_veggie_fruit_data/base/train/corn/IMG_03348.jpg  \n",
            "  inflating: new_veggie_fruit_data/base/train/corn/IMG_03360.jpg  \n",
            "  inflating: new_veggie_fruit_data/base/train/corn/IMG_03332.jpg  \n",
            "  inflating: new_veggie_fruit_data/base/train/corn/IMG_03357.jpg  \n",
            "  inflating: new_veggie_fruit_data/base/train/corn/IMG_03349.jpg  \n",
            "  inflating: new_veggie_fruit_data/base/train/corn/IMG_1253.JPG  \n",
            "  inflating: new_veggie_fruit_data/base/train/corn/IMG_7098.JPG  \n",
            "  inflating: new_veggie_fruit_data/base/train/corn/IMG_03368.jpg  \n",
            "  inflating: new_veggie_fruit_data/base/train/corn/IMG_03365.jpg  \n",
            "  inflating: new_veggie_fruit_data/base/train/corn/IMG_03352.jpg  \n",
            "  inflating: new_veggie_fruit_data/base/train/corn/IMG_7099.JPG  \n",
            "  inflating: new_veggie_fruit_data/base/train/corn/IMG_03364.jpg  \n",
            "  inflating: new_veggie_fruit_data/base/train/corn/IMG_03358.jpg  \n",
            "  inflating: new_veggie_fruit_data/base/train/corn/IMG_03367.jpg  \n",
            "  inflating: new_veggie_fruit_data/base/train/corn/IMG_03331.jpg  \n",
            "  inflating: new_veggie_fruit_data/base/train/corn/IMG_03379.jpg  \n",
            "  inflating: new_veggie_fruit_data/base/train/corn/IMG_03330.jpg  \n",
            "  inflating: new_veggie_fruit_data/base/train/corn/IMG_03338.jpg  \n",
            "  inflating: new_veggie_fruit_data/base/train/corn/IMG_03342.jpg  \n",
            "  inflating: new_veggie_fruit_data/base/train/corn/IMG_03334.jpg  \n",
            "   creating: new_veggie_fruit_data/base/train/cauliflower/\n",
            "  inflating: new_veggie_fruit_data/base/train/cauliflower/IMG_03388.jpg  \n",
            "  inflating: new_veggie_fruit_data/base/train/cauliflower/IMG_03335.jpg  \n",
            "  inflating: new_veggie_fruit_data/base/train/cauliflower/IMG_9174.jpg  \n",
            "  inflating: new_veggie_fruit_data/base/train/cauliflower/IMG_03374.jpg  \n",
            "  inflating: new_veggie_fruit_data/base/train/cauliflower/IMG_3189.jpg  \n",
            "  inflating: new_veggie_fruit_data/base/train/cauliflower/IMG_9175.jpg  \n",
            "  inflating: new_veggie_fruit_data/base/train/cauliflower/IMG_03340.jpg  \n",
            "  inflating: new_veggie_fruit_data/base/train/cauliflower/IMG_03377.jpg  \n",
            "  inflating: new_veggie_fruit_data/base/train/cauliflower/IMG_8813.jpg  \n",
            "  inflating: new_veggie_fruit_data/base/train/cauliflower/IMG_03394.jpg  \n",
            "  inflating: new_veggie_fruit_data/base/train/cauliflower/IMG_03337.jpg  \n",
            "  inflating: new_veggie_fruit_data/base/train/cauliflower/IMG_6893.JPG  \n",
            "  inflating: new_veggie_fruit_data/base/train/cauliflower/IMG_03339.jpg  \n",
            "  inflating: new_veggie_fruit_data/base/train/cauliflower/IMG_03347.jpg  \n",
            "  inflating: new_veggie_fruit_data/base/train/cauliflower/IMG_03351.jpg  \n",
            "  inflating: new_veggie_fruit_data/base/train/cauliflower/IMG_03380.jpg  \n",
            "  inflating: new_veggie_fruit_data/base/train/cauliflower/IMG_03371.jpg  \n",
            "  inflating: new_veggie_fruit_data/base/train/cauliflower/IMG_03366.jpg  \n",
            "  inflating: new_veggie_fruit_data/base/train/cauliflower/IMG_03341.jpg  \n",
            "  inflating: new_veggie_fruit_data/base/train/cauliflower/IMG_3188.jpg  \n",
            "  inflating: new_veggie_fruit_data/base/train/cauliflower/IMG_03344.jpg  \n",
            "  inflating: new_veggie_fruit_data/base/train/cauliflower/IMG_03372.jpg  \n",
            "  inflating: new_veggie_fruit_data/base/train/cauliflower/IMG_03384.jpg  \n",
            "  inflating: new_veggie_fruit_data/base/train/cauliflower/IMG_03361.jpg  \n",
            "  inflating: new_veggie_fruit_data/base/train/cauliflower/IMG_8814.jpg  \n",
            "  inflating: new_veggie_fruit_data/base/train/cauliflower/IMG_03385.jpg  \n",
            "  inflating: new_veggie_fruit_data/base/train/cauliflower/IMG_03369.jpg  \n",
            "  inflating: new_veggie_fruit_data/base/train/cauliflower/IMG_0287.jpg  \n",
            "  inflating: new_veggie_fruit_data/base/train/cauliflower/IMG_3235.jpg  \n",
            "  inflating: new_veggie_fruit_data/base/train/cauliflower/IMG_03353.jpg  \n",
            "  inflating: new_veggie_fruit_data/base/train/cauliflower/IMG_03359.jpg  \n",
            "  inflating: new_veggie_fruit_data/base/train/cauliflower/IMG_03350.jpg  \n",
            "  inflating: new_veggie_fruit_data/base/train/cauliflower/IMG_03354.jpg  \n",
            "  inflating: new_veggie_fruit_data/base/train/cauliflower/IMG_03376.jpg  \n",
            "  inflating: new_veggie_fruit_data/base/train/cauliflower/IMG_3236.jpg  \n",
            "  inflating: new_veggie_fruit_data/base/train/cauliflower/IMG_0288.jpg  \n",
            "  inflating: new_veggie_fruit_data/base/train/cauliflower/IMG_03346.jpg  \n",
            "  inflating: new_veggie_fruit_data/base/train/cauliflower/IMG_03389.jpg  \n",
            "  inflating: new_veggie_fruit_data/base/train/cauliflower/IMG_03370.jpg  \n",
            "  inflating: new_veggie_fruit_data/base/train/cauliflower/IMG_03373.jpg  \n",
            "  inflating: new_veggie_fruit_data/base/train/cauliflower/IMG_9266.jpg  \n",
            "  inflating: new_veggie_fruit_data/base/train/cauliflower/IMG_03393.jpg  \n",
            "  inflating: new_veggie_fruit_data/base/train/cauliflower/IMG_03336.jpg  \n",
            "  inflating: new_veggie_fruit_data/base/train/cauliflower/IMG_03348.jpg  \n",
            "  inflating: new_veggie_fruit_data/base/train/cauliflower/IMG_3187.jpg  \n",
            "  inflating: new_veggie_fruit_data/base/train/cauliflower/IMG_03360.jpg  \n",
            "  inflating: new_veggie_fruit_data/base/train/cauliflower/IMG_03332.jpg  \n",
            "  inflating: new_veggie_fruit_data/base/train/cauliflower/IMG_9176.jpg  \n",
            "  inflating: new_veggie_fruit_data/base/train/cauliflower/IMG_9178.jpg  \n",
            "  inflating: new_veggie_fruit_data/base/train/cauliflower/IMG_03391.jpg  \n",
            "  inflating: new_veggie_fruit_data/base/train/cauliflower/IMG_03357.jpg  \n",
            "  inflating: new_veggie_fruit_data/base/train/cauliflower/IMG_03349.jpg  \n",
            "  inflating: new_veggie_fruit_data/base/train/cauliflower/IMG_3195.jpg  \n",
            "  inflating: new_veggie_fruit_data/base/train/cauliflower/IMG_03345.jpg  \n",
            "  inflating: new_veggie_fruit_data/base/train/cauliflower/IMG_03386.jpg  \n",
            "  inflating: new_veggie_fruit_data/base/train/cauliflower/IMG_7742.jpg  \n",
            "  inflating: new_veggie_fruit_data/base/train/cauliflower/IMG_03375.jpg  \n",
            "  inflating: new_veggie_fruit_data/base/train/cauliflower/IMG_03362.jpg  \n",
            "  inflating: new_veggie_fruit_data/base/train/cauliflower/IMG_3196.jpg  \n",
            "  inflating: new_veggie_fruit_data/base/train/cauliflower/IMG_9179.jpg  \n",
            "  inflating: new_veggie_fruit_data/base/train/cauliflower/IMG_9267.jpg  \n",
            "  inflating: new_veggie_fruit_data/base/train/cauliflower/IMG_03392.jpg  \n",
            "  inflating: new_veggie_fruit_data/base/train/cauliflower/IMG_03365.jpg  \n",
            "  inflating: new_veggie_fruit_data/base/train/cauliflower/IMG_03352.jpg  \n",
            "  inflating: new_veggie_fruit_data/base/train/cauliflower/IMG_03364.jpg  \n",
            "  inflating: new_veggie_fruit_data/base/train/cauliflower/IMG_03331.jpg  \n",
            "  inflating: new_veggie_fruit_data/base/train/cauliflower/IMG_3191.jpg  \n",
            "  inflating: new_veggie_fruit_data/base/train/cauliflower/IMG_03395.jpg  \n",
            "  inflating: new_veggie_fruit_data/base/train/cauliflower/IMG_03356.jpg  \n",
            "  inflating: new_veggie_fruit_data/base/train/cauliflower/IMG_03379.jpg  \n",
            "  inflating: new_veggie_fruit_data/base/train/cauliflower/IMG_03330.jpg  \n",
            "  inflating: new_veggie_fruit_data/base/train/cauliflower/IMG_03338.jpg  \n",
            "  inflating: new_veggie_fruit_data/base/train/cauliflower/IMG_8812.jpg  \n",
            "  inflating: new_veggie_fruit_data/base/train/cauliflower/IMG_3190.jpg  \n",
            "  inflating: new_veggie_fruit_data/base/train/cauliflower/IMG_03342.jpg  \n",
            "   creating: new_veggie_fruit_data/base/train/chinese_cabbage/\n",
            "  inflating: new_veggie_fruit_data/base/train/chinese_cabbage/IMG_9157.jpg  \n",
            "  inflating: new_veggie_fruit_data/base/train/chinese_cabbage/IMG_9158.jpg  \n",
            "  inflating: new_veggie_fruit_data/base/train/chinese_cabbage/IMG_9159.jpg  \n",
            "   creating: new_veggie_fruit_data/base/train/broccoli/\n",
            "  inflating: new_veggie_fruit_data/base/train/broccoli/IMG_03388.jpg  \n",
            "  inflating: new_veggie_fruit_data/base/train/broccoli/IMG_03381.jpg  \n",
            "  inflating: new_veggie_fruit_data/base/train/broccoli/IMG_03343.jpg  \n",
            "  inflating: new_veggie_fruit_data/base/train/broccoli/IMG_03335.jpg  \n",
            "  inflating: new_veggie_fruit_data/base/train/broccoli/IMG_03374.jpg  \n",
            "  inflating: new_veggie_fruit_data/base/train/broccoli/IMG_1272.JPG  \n",
            "  inflating: new_veggie_fruit_data/base/train/broccoli/IMG_9190.jpg  \n",
            "  inflating: new_veggie_fruit_data/base/train/broccoli/IMG_03406.jpg  \n",
            "  inflating: new_veggie_fruit_data/base/train/broccoli/IMG_0445.jpg  \n",
            "  inflating: new_veggie_fruit_data/base/train/broccoli/IMG_2225.JPG  \n",
            "  inflating: new_veggie_fruit_data/base/train/broccoli/IMG_4887.JPG  \n",
            "  inflating: new_veggie_fruit_data/base/train/broccoli/IMG_03377.jpg  \n",
            "  inflating: new_veggie_fruit_data/base/train/broccoli/IMG_03394.jpg  \n",
            "  inflating: new_veggie_fruit_data/base/train/broccoli/IMG_03337.jpg  \n",
            "  inflating: new_veggie_fruit_data/base/train/broccoli/IMG_03402.jpg  \n",
            "  inflating: new_veggie_fruit_data/base/train/broccoli/IMG_3207.jpg  \n",
            "  inflating: new_veggie_fruit_data/base/train/broccoli/IMG_4888.JPG  \n",
            "  inflating: new_veggie_fruit_data/base/train/broccoli/IMG_03339.jpg  \n",
            "  inflating: new_veggie_fruit_data/base/train/broccoli/IMG_03378.jpg  \n",
            "  inflating: new_veggie_fruit_data/base/train/broccoli/IMG_9189.jpg  \n",
            "  inflating: new_veggie_fruit_data/base/train/broccoli/IMG_03407.jpg  \n",
            "  inflating: new_veggie_fruit_data/base/train/broccoli/IMG_0444.jpg  \n",
            "  inflating: new_veggie_fruit_data/base/train/broccoli/IMG_03404.jpg  \n",
            "  inflating: new_veggie_fruit_data/base/train/broccoli/IMG_03347.jpg  \n",
            "  inflating: new_veggie_fruit_data/base/train/broccoli/IMG_3176.jpg  \n",
            "  inflating: new_veggie_fruit_data/base/train/broccoli/IMG_3727.jpg  \n",
            "  inflating: new_veggie_fruit_data/base/train/broccoli/IMG_03380.jpg  \n",
            "  inflating: new_veggie_fruit_data/base/train/broccoli/IMG_03371.jpg  \n",
            "  inflating: new_veggie_fruit_data/base/train/broccoli/IMG_03366.jpg  \n",
            "  inflating: new_veggie_fruit_data/base/train/broccoli/IMG_3174.jpg  \n",
            "  inflating: new_veggie_fruit_data/base/train/broccoli/IMG_03383.jpg  \n",
            "  inflating: new_veggie_fruit_data/base/train/broccoli/IMG_1274.JPG  \n",
            "  inflating: new_veggie_fruit_data/base/train/broccoli/IMG_03341.jpg  \n",
            "  inflating: new_veggie_fruit_data/base/train/broccoli/IMG_0321.jpg  \n",
            "  inflating: new_veggie_fruit_data/base/train/broccoli/IMG_03344.jpg  \n",
            "  inflating: new_veggie_fruit_data/base/train/broccoli/IMG_03372.jpg  \n",
            "  inflating: new_veggie_fruit_data/base/train/broccoli/IMG_3186.jpg  \n",
            "  inflating: new_veggie_fruit_data/base/train/broccoli/IMG_03384.jpg  \n",
            "  inflating: new_veggie_fruit_data/base/train/broccoli/IMG_03361.jpg  \n",
            "  inflating: new_veggie_fruit_data/base/train/broccoli/IMG_03333.jpg  \n",
            "  inflating: new_veggie_fruit_data/base/train/broccoli/IMG_4890.JPG  \n",
            "  inflating: new_veggie_fruit_data/base/train/broccoli/IMG_03369.jpg  \n",
            "  inflating: new_veggie_fruit_data/base/train/broccoli/IMG_03390.jpg  \n",
            "  inflating: new_veggie_fruit_data/base/train/broccoli/IMG_03355.jpg  \n",
            "  inflating: new_veggie_fruit_data/base/train/broccoli/IMG_03363.jpg  \n",
            "  inflating: new_veggie_fruit_data/base/train/broccoli/IMG_4891.JPG  \n",
            "  inflating: new_veggie_fruit_data/base/train/broccoli/IMG_03353.jpg  \n",
            "  inflating: new_veggie_fruit_data/base/train/broccoli/IMG_4889.JPG  \n",
            "  inflating: new_veggie_fruit_data/base/train/broccoli/IMG_2223.JPG  \n",
            "  inflating: new_veggie_fruit_data/base/train/broccoli/IMG_03359.jpg  \n",
            "  inflating: new_veggie_fruit_data/base/train/broccoli/IMG_03350.jpg  \n",
            "  inflating: new_veggie_fruit_data/base/train/broccoli/IMG_03354.jpg  \n",
            "  inflating: new_veggie_fruit_data/base/train/broccoli/IMG_03376.jpg  \n",
            "  inflating: new_veggie_fruit_data/base/train/broccoli/IMG_03346.jpg  \n",
            "  inflating: new_veggie_fruit_data/base/train/broccoli/IMG_03389.jpg  \n",
            "  inflating: new_veggie_fruit_data/base/train/broccoli/IMG_03370.jpg  \n",
            "  inflating: new_veggie_fruit_data/base/train/broccoli/IMG_03373.jpg  \n",
            "  inflating: new_veggie_fruit_data/base/train/broccoli/IMG_03393.jpg  \n",
            "  inflating: new_veggie_fruit_data/base/train/broccoli/IMG_03336.jpg  \n",
            "  inflating: new_veggie_fruit_data/base/train/broccoli/IMG_03360.jpg  \n",
            "  inflating: new_veggie_fruit_data/base/train/broccoli/IMG_03332.jpg  \n",
            "  inflating: new_veggie_fruit_data/base/train/broccoli/IMG_03391.jpg  \n",
            "  inflating: new_veggie_fruit_data/base/train/broccoli/IMG_03396.jpg  \n",
            "  inflating: new_veggie_fruit_data/base/train/broccoli/IMG_03357.jpg  \n",
            "  inflating: new_veggie_fruit_data/base/train/broccoli/IMG_03349.jpg  \n",
            "  inflating: new_veggie_fruit_data/base/train/broccoli/IMG_03345.jpg  \n",
            "  inflating: new_veggie_fruit_data/base/train/broccoli/IMG_3728.jpg  \n",
            "  inflating: new_veggie_fruit_data/base/train/broccoli/IMG_03362.jpg  \n",
            "  inflating: new_veggie_fruit_data/base/train/broccoli/IMG_3183.jpg  \n",
            "  inflating: new_veggie_fruit_data/base/train/broccoli/IMG_03408.jpg  \n",
            "  inflating: new_veggie_fruit_data/base/train/broccoli/IMG_03365.jpg  \n",
            "  inflating: new_veggie_fruit_data/base/train/broccoli/IMG_03352.jpg  \n",
            "  inflating: new_veggie_fruit_data/base/train/broccoli/IMG_9212.jpg  \n",
            "  inflating: new_veggie_fruit_data/base/train/broccoli/IMG_03400.jpg  \n",
            "  inflating: new_veggie_fruit_data/base/train/broccoli/IMG_03364.jpg  \n",
            "  inflating: new_veggie_fruit_data/base/train/broccoli/IMG_3729.jpg  \n",
            "  inflating: new_veggie_fruit_data/base/train/broccoli/IMG_03358.jpg  \n",
            "  inflating: new_veggie_fruit_data/base/train/broccoli/IMG_03367.jpg  \n",
            "  inflating: new_veggie_fruit_data/base/train/broccoli/IMG_03331.jpg  \n",
            "  inflating: new_veggie_fruit_data/base/train/broccoli/IMG_4892.JPG  \n",
            "  inflating: new_veggie_fruit_data/base/train/broccoli/IMG_0318.jpg  \n",
            "  inflating: new_veggie_fruit_data/base/train/broccoli/IMG_03395.jpg  \n",
            "  inflating: new_veggie_fruit_data/base/train/broccoli/IMG_03356.jpg  \n",
            "  inflating: new_veggie_fruit_data/base/train/broccoli/IMG_03379.jpg  \n",
            "  inflating: new_veggie_fruit_data/base/train/broccoli/IMG_03401.jpg  \n",
            "  inflating: new_veggie_fruit_data/base/train/broccoli/IMG_03330.jpg  \n",
            "  inflating: new_veggie_fruit_data/base/train/broccoli/IMG_9213.jpg  \n",
            "  inflating: new_veggie_fruit_data/base/train/broccoli/IMG_03338.jpg  \n",
            "  inflating: new_veggie_fruit_data/base/train/broccoli/IMG_03405.jpg  \n",
            "  inflating: new_veggie_fruit_data/base/train/broccoli/IMG_3184.jpg  \n",
            "  inflating: new_veggie_fruit_data/base/train/broccoli/IMG_3185.jpg  \n",
            "  inflating: new_veggie_fruit_data/base/train/broccoli/IMG_1273.JPG  \n",
            "  inflating: new_veggie_fruit_data/base/train/broccoli/IMG_03334.jpg  \n",
            "   creating: new_veggie_fruit_data/base/train/strawberry/\n",
            "  inflating: new_veggie_fruit_data/base/train/strawberry/IMG_7895.jpg  \n",
            "  inflating: new_veggie_fruit_data/base/train/strawberry/IMG_7902.jpg  \n",
            "  inflating: new_veggie_fruit_data/base/train/strawberry/IMG_7904.jpg  \n",
            "  inflating: new_veggie_fruit_data/base/train/strawberry/IMG_7899.jpg  \n",
            "  inflating: new_veggie_fruit_data/base/train/strawberry/IMG_8767.jpg  \n",
            "  inflating: new_veggie_fruit_data/base/train/strawberry/IMG_7898.jpg  \n",
            "  inflating: new_veggie_fruit_data/base/train/strawberry/IMG_8768.jpg  \n",
            "  inflating: new_veggie_fruit_data/base/train/strawberry/IMG_7900.jpg  \n",
            "  inflating: new_veggie_fruit_data/base/train/strawberry/IMG_7787.jpg  \n",
            "  inflating: new_veggie_fruit_data/base/train/strawberry/IMG_7901.jpg  \n",
            "  inflating: new_veggie_fruit_data/base/train/strawberry/IMG_7896.jpg  \n",
            "  inflating: new_veggie_fruit_data/base/train/strawberry/IMG_8663.jpg  \n",
            "  inflating: new_veggie_fruit_data/base/train/strawberry/IMG_2690.JPG  \n",
            "   creating: new_veggie_fruit_data/base/train/fava_beans/\n",
            "  inflating: new_veggie_fruit_data/base/train/fava_beans/IMG_5392.JPG  \n",
            "  inflating: new_veggie_fruit_data/base/train/fava_beans/IMG_5390.JPG  \n",
            "  inflating: new_veggie_fruit_data/base/train/fava_beans/IMG_5389.JPG  \n",
            "   creating: new_veggie_fruit_data/base/train/white_peach/\n",
            "  inflating: new_veggie_fruit_data/base/train/white_peach/IMG_7710.jpg  \n",
            "  inflating: new_veggie_fruit_data/base/train/white_peach/IMG_7265.JPG  \n",
            "  inflating: new_veggie_fruit_data/base/train/white_peach/IMG_7268.JPG  \n",
            "  inflating: new_veggie_fruit_data/base/train/white_peach/IMG_7266.JPG  \n",
            "  inflating: new_veggie_fruit_data/base/train/white_peach/IMG_7711.jpg  \n",
            "   creating: new_veggie_fruit_data/base/train/kale/\n",
            "  inflating: new_veggie_fruit_data/base/train/kale/IMG_6884.JPG  \n",
            "  inflating: new_veggie_fruit_data/base/train/kale/IMG_6881.JPG  \n",
            "  inflating: new_veggie_fruit_data/base/train/kale/IMG_7287.JPG  \n",
            "  inflating: new_veggie_fruit_data/base/train/kale/IMG_7284.JPG  \n",
            "  inflating: new_veggie_fruit_data/base/train/kale/IMG_6883.JPG  \n",
            "  inflating: new_veggie_fruit_data/base/train/kale/IMG_7283.JPG  \n",
            "  inflating: new_veggie_fruit_data/base/train/kale/IMG_7288.JPG  \n",
            "  inflating: new_veggie_fruit_data/base/train/kale/IMG_6974.JPG  \n",
            "  inflating: new_veggie_fruit_data/base/train/kale/IMG_6975.JPG  \n",
            "  inflating: new_veggie_fruit_data/base/train/kale/IMG_6885.JPG  \n",
            "  inflating: new_veggie_fruit_data/base/train/kale/IMG_7285.JPG  \n",
            "  inflating: new_veggie_fruit_data/base/train/kale/IMG_6880.JPG  \n",
            "  inflating: new_veggie_fruit_data/base/train/kale/IMG_6977.JPG  \n",
            "  inflating: new_veggie_fruit_data/base/train/kale/IMG_7290.JPG  \n",
            "   creating: new_veggie_fruit_data/base/train/green_bean/\n",
            "  inflating: new_veggie_fruit_data/base/train/green_bean/IMG_03343.jpg  \n",
            "  inflating: new_veggie_fruit_data/base/train/green_bean/IMG_03335.jpg  \n",
            "  inflating: new_veggie_fruit_data/base/train/green_bean/IMG_03340.jpg  \n",
            "  inflating: new_veggie_fruit_data/base/train/green_bean/IMG_03337.jpg  \n",
            "  inflating: new_veggie_fruit_data/base/train/green_bean/IMG_8643.jpg  \n",
            "  inflating: new_veggie_fruit_data/base/train/green_bean/IMG_03339.jpg  \n",
            "  inflating: new_veggie_fruit_data/base/train/green_bean/IMG_03347.jpg  \n",
            "  inflating: new_veggie_fruit_data/base/train/green_bean/IMG_03351.jpg  \n",
            "  inflating: new_veggie_fruit_data/base/train/green_bean/IMG_03341.jpg  \n",
            "  inflating: new_veggie_fruit_data/base/train/green_bean/IMG_03344.jpg  \n",
            "  inflating: new_veggie_fruit_data/base/train/green_bean/IMG_8645.jpg  \n",
            "  inflating: new_veggie_fruit_data/base/train/green_bean/IMG_8641.jpg  \n",
            "  inflating: new_veggie_fruit_data/base/train/green_bean/IMG_03333.jpg  \n",
            "  inflating: new_veggie_fruit_data/base/train/green_bean/IMG_8644.jpg  \n",
            "  inflating: new_veggie_fruit_data/base/train/green_bean/IMG_03354.jpg  \n",
            "  inflating: new_veggie_fruit_data/base/train/green_bean/IMG_03346.jpg  \n",
            "  inflating: new_veggie_fruit_data/base/train/green_bean/IMG_03336.jpg  \n",
            "  inflating: new_veggie_fruit_data/base/train/green_bean/IMG_03348.jpg  \n",
            "  inflating: new_veggie_fruit_data/base/train/green_bean/IMG_8707.JPG  \n",
            "  inflating: new_veggie_fruit_data/base/train/green_bean/IMG_03332.jpg  \n",
            "  inflating: new_veggie_fruit_data/base/train/green_bean/IMG_03349.jpg  \n",
            "  inflating: new_veggie_fruit_data/base/train/green_bean/IMG_8702.JPG  \n",
            "  inflating: new_veggie_fruit_data/base/train/green_bean/IMG_03345.jpg  \n",
            "  inflating: new_veggie_fruit_data/base/train/green_bean/IMG_03352.jpg  \n",
            "  inflating: new_veggie_fruit_data/base/train/green_bean/IMG_03331.jpg  \n",
            "  inflating: new_veggie_fruit_data/base/train/green_bean/IMG_03330.jpg  \n",
            "  inflating: new_veggie_fruit_data/base/train/green_bean/IMG_8646.jpg  \n",
            "  inflating: new_veggie_fruit_data/base/train/green_bean/IMG_03342.jpg  \n",
            "  inflating: new_veggie_fruit_data/base/train/green_bean/IMG_8642.jpg  \n",
            "  inflating: new_veggie_fruit_data/base/train/green_bean/IMG_03334.jpg  \n",
            "   creating: new_veggie_fruit_data/base/train/ginger/\n",
            "  inflating: new_veggie_fruit_data/base/train/ginger/IMG_4876.JPG  \n",
            "  inflating: new_veggie_fruit_data/base/train/ginger/IMG_1300.JPG  \n",
            "  inflating: new_veggie_fruit_data/base/train/ginger/IMG_1299.JPG  \n",
            "  inflating: new_veggie_fruit_data/base/train/ginger/IMG_4875.JPG  \n",
            "  inflating: new_veggie_fruit_data/base/train/ginger/IMG_1302.JPG  \n",
            "  inflating: new_veggie_fruit_data/base/train/ginger/IMG_2216.JPG  \n",
            "  inflating: new_veggie_fruit_data/base/train/ginger/IMG_2212.JPG  \n",
            "  inflating: new_veggie_fruit_data/base/train/ginger/IMG_2746.JPG  \n",
            "  inflating: new_veggie_fruit_data/base/train/ginger/IMG_1301.JPG  \n",
            "  inflating: new_veggie_fruit_data/base/train/ginger/IMG_2215.JPG  \n",
            "  inflating: new_veggie_fruit_data/base/train/ginger/IMG_4878.JPG  \n",
            "  inflating: new_veggie_fruit_data/base/train/ginger/IMG_4880.JPG  \n",
            "  inflating: new_veggie_fruit_data/base/train/ginger/IMG_1303.JPG  \n",
            "   creating: new_veggie_fruit_data/base/train/bok_choy/\n",
            "  inflating: new_veggie_fruit_data/base/train/bok_choy/IMG_9164.jpg  \n",
            "  inflating: new_veggie_fruit_data/base/train/bok_choy/IMG_8733.jpg  \n",
            "  inflating: new_veggie_fruit_data/base/train/bok_choy/IMG_9165.jpg  \n",
            "  inflating: new_veggie_fruit_data/base/train/bok_choy/IMG_3178.jpg  \n",
            "  inflating: new_veggie_fruit_data/base/train/bok_choy/IMG_5381.JPG  \n",
            "  inflating: new_veggie_fruit_data/base/train/bok_choy/IMG_8864.jpg  \n",
            "  inflating: new_veggie_fruit_data/base/train/bok_choy/IMG_9162.jpg  \n",
            "  inflating: new_veggie_fruit_data/base/train/bok_choy/IMG_3180.jpg  \n",
            "  inflating: new_veggie_fruit_data/base/train/bok_choy/IMG_9161.jpg  \n",
            "  inflating: new_veggie_fruit_data/base/train/bok_choy/IMG_0487.jpg  \n",
            "  inflating: new_veggie_fruit_data/base/train/bok_choy/IMG_8865.jpg  \n",
            "  inflating: new_veggie_fruit_data/base/train/bok_choy/IMG_3179.jpg  \n",
            "  inflating: new_veggie_fruit_data/base/train/bok_choy/IMG_3181.jpg  \n",
            "  inflating: new_veggie_fruit_data/base/train/bok_choy/IMG_3182.jpg  \n",
            "  inflating: new_veggie_fruit_data/base/train/bok_choy/IMG_8731.jpg  \n",
            "  inflating: new_veggie_fruit_data/base/train/bok_choy/IMG_3215.jpg  \n",
            "  inflating: new_veggie_fruit_data/base/train/bok_choy/IMG_3214.jpg  \n",
            "  inflating: new_veggie_fruit_data/base/train/bok_choy/IMG_3231.jpg  \n",
            "  inflating: new_veggie_fruit_data/base/train/bok_choy/IMG_0385.jpg  \n",
            "  inflating: new_veggie_fruit_data/base/train/bok_choy/IMG_3213.jpg  \n",
            "  inflating: new_veggie_fruit_data/base/train/bok_choy/IMG_3229.jpg  \n",
            "  inflating: new_veggie_fruit_data/base/train/bok_choy/IMG_9163.jpg  \n",
            "  inflating: new_veggie_fruit_data/base/train/bok_choy/IMG_3212.jpg  \n",
            "  inflating: new_veggie_fruit_data/base/train/bok_choy/IMG_8732.jpg  \n",
            "  inflating: new_veggie_fruit_data/base/train/bok_choy/IMG_5379.JPG  \n",
            "  inflating: new_veggie_fruit_data/base/train/bok_choy/IMG_0481.jpg  \n",
            "  inflating: new_veggie_fruit_data/base/train/bok_choy/IMG_5382.JPG  \n",
            "   creating: new_veggie_fruit_data/base/train/redbor_kale/\n",
            "  inflating: new_veggie_fruit_data/base/train/redbor_kale/IMG_3731.jpg  \n",
            "  inflating: new_veggie_fruit_data/base/train/redbor_kale/IMG_3733.jpg  \n",
            "   creating: new_veggie_fruit_data/base/train/red_onion/\n",
            "  inflating: new_veggie_fruit_data/base/train/red_onion/IMG_2711.JPG  \n",
            "  inflating: new_veggie_fruit_data/base/train/red_onion/IMG_03381.jpg  \n",
            "  inflating: new_veggie_fruit_data/base/train/red_onion/IMG_2718.JPG  \n",
            "  inflating: new_veggie_fruit_data/base/train/red_onion/IMG_03335.jpg  \n",
            "  inflating: new_veggie_fruit_data/base/train/red_onion/IMG_03374.jpg  \n",
            "  inflating: new_veggie_fruit_data/base/train/red_onion/IMG_4945.JPG  \n",
            "  inflating: new_veggie_fruit_data/base/train/red_onion/IMG_03340.jpg  \n",
            "  inflating: new_veggie_fruit_data/base/train/red_onion/IMG_03377.jpg  \n",
            "  inflating: new_veggie_fruit_data/base/train/red_onion/IMG_03337.jpg  \n",
            "  inflating: new_veggie_fruit_data/base/train/red_onion/IMG_03339.jpg  \n",
            "  inflating: new_veggie_fruit_data/base/train/red_onion/IMG_03378.jpg  \n",
            "  inflating: new_veggie_fruit_data/base/train/red_onion/IMG_03347.jpg  \n",
            "  inflating: new_veggie_fruit_data/base/train/red_onion/IMG_9257.jpg  \n",
            "  inflating: new_veggie_fruit_data/base/train/red_onion/IMG_03380.jpg  \n",
            "  inflating: new_veggie_fruit_data/base/train/red_onion/IMG_03371.jpg  \n",
            "  inflating: new_veggie_fruit_data/base/train/red_onion/IMG_03366.jpg  \n",
            "  inflating: new_veggie_fruit_data/base/train/red_onion/IMG_03383.jpg  \n",
            "  inflating: new_veggie_fruit_data/base/train/red_onion/IMG_03341.jpg  \n",
            "  inflating: new_veggie_fruit_data/base/train/red_onion/IMG_1294.JPG  \n",
            "  inflating: new_veggie_fruit_data/base/train/red_onion/IMG_03344.jpg  \n",
            "  inflating: new_veggie_fruit_data/base/train/red_onion/IMG_1296.JPG  \n",
            "  inflating: new_veggie_fruit_data/base/train/red_onion/IMG_03384.jpg  \n",
            "  inflating: new_veggie_fruit_data/base/train/red_onion/IMG_03361.jpg  \n",
            "  inflating: new_veggie_fruit_data/base/train/red_onion/IMG_4949.JPG  \n",
            "  inflating: new_veggie_fruit_data/base/train/red_onion/IMG_03333.jpg  \n",
            "  inflating: new_veggie_fruit_data/base/train/red_onion/IMG_03369.jpg  \n",
            "  inflating: new_veggie_fruit_data/base/train/red_onion/IMG_03355.jpg  \n",
            "  inflating: new_veggie_fruit_data/base/train/red_onion/IMG_03363.jpg  \n",
            "  inflating: new_veggie_fruit_data/base/train/red_onion/IMG_4942.JPG  \n",
            "  inflating: new_veggie_fruit_data/base/train/red_onion/IMG_03353.jpg  \n",
            "  inflating: new_veggie_fruit_data/base/train/red_onion/IMG_03359.jpg  \n",
            "  inflating: new_veggie_fruit_data/base/train/red_onion/IMG_03350.jpg  \n",
            "  inflating: new_veggie_fruit_data/base/train/red_onion/IMG_03354.jpg  \n",
            "  inflating: new_veggie_fruit_data/base/train/red_onion/IMG_03376.jpg  \n",
            "  inflating: new_veggie_fruit_data/base/train/red_onion/IMG_03346.jpg  \n",
            "  inflating: new_veggie_fruit_data/base/train/red_onion/IMG_03370.jpg  \n",
            "  inflating: new_veggie_fruit_data/base/train/red_onion/IMG_03373.jpg  \n",
            "  inflating: new_veggie_fruit_data/base/train/red_onion/IMG_03336.jpg  \n",
            "  inflating: new_veggie_fruit_data/base/train/red_onion/IMG_4944.JPG  \n",
            "  inflating: new_veggie_fruit_data/base/train/red_onion/IMG_1298.JPG  \n",
            "  inflating: new_veggie_fruit_data/base/train/red_onion/IMG_03360.jpg  \n",
            "  inflating: new_veggie_fruit_data/base/train/red_onion/IMG_03332.jpg  \n",
            "  inflating: new_veggie_fruit_data/base/train/red_onion/IMG_03357.jpg  \n",
            "  inflating: new_veggie_fruit_data/base/train/red_onion/IMG_03349.jpg  \n",
            "  inflating: new_veggie_fruit_data/base/train/red_onion/IMG_4946.JPG  \n",
            "  inflating: new_veggie_fruit_data/base/train/red_onion/IMG_03375.jpg  \n",
            "  inflating: new_veggie_fruit_data/base/train/red_onion/IMG_03362.jpg  \n",
            "  inflating: new_veggie_fruit_data/base/train/red_onion/IMG_03365.jpg  \n",
            "  inflating: new_veggie_fruit_data/base/train/red_onion/IMG_03364.jpg  \n",
            "  inflating: new_veggie_fruit_data/base/train/red_onion/IMG_9258.jpg  \n",
            "  inflating: new_veggie_fruit_data/base/train/red_onion/IMG_03358.jpg  \n",
            "  inflating: new_veggie_fruit_data/base/train/red_onion/IMG_03331.jpg  \n",
            "  inflating: new_veggie_fruit_data/base/train/red_onion/IMG_03356.jpg  \n",
            "  inflating: new_veggie_fruit_data/base/train/red_onion/IMG_03379.jpg  \n",
            "  inflating: new_veggie_fruit_data/base/train/red_onion/IMG_03342.jpg  \n",
            "  inflating: new_veggie_fruit_data/base/train/red_onion/IMG_4943.JPG  \n",
            "  inflating: new_veggie_fruit_data/base/train/red_onion/IMG_03334.jpg  \n",
            "   creating: new_veggie_fruit_data/base/train/butternut/\n",
            "  inflating: new_veggie_fruit_data/base/train/butternut/IMG_5363.JPG  \n",
            "  inflating: new_veggie_fruit_data/base/train/butternut/IMG_5364.JPG  \n",
            "  inflating: new_veggie_fruit_data/base/train/butternut/IMG_5365.JPG  \n",
            "   creating: new_veggie_fruit_data/base/train/mandarin/\n",
            "  inflating: new_veggie_fruit_data/base/train/mandarin/IMG_1185.JPG  \n",
            "  inflating: new_veggie_fruit_data/base/train/mandarin/IMG_9230.jpg  \n",
            "  inflating: new_veggie_fruit_data/base/train/mandarin/IMG_9228.jpg  \n",
            "  inflating: new_veggie_fruit_data/base/train/mandarin/IMG_4957.JPG  \n",
            "  inflating: new_veggie_fruit_data/base/train/mandarin/IMG_4953.JPG  \n",
            "  inflating: new_veggie_fruit_data/base/train/mandarin/IMG_5331.JPG  \n",
            "  inflating: new_veggie_fruit_data/base/train/mandarin/IMG_4955.JPG  \n",
            "  inflating: new_veggie_fruit_data/base/train/mandarin/IMG_4960.JPG  \n",
            "  inflating: new_veggie_fruit_data/base/train/mandarin/IMG_1183.JPG  \n",
            "  inflating: new_veggie_fruit_data/base/train/mandarin/IMG_5330.JPG  \n",
            "  inflating: new_veggie_fruit_data/base/train/mandarin/IMG_4958.JPG  \n",
            "  inflating: new_veggie_fruit_data/base/train/mandarin/IMG_4956.JPG  \n",
            "  inflating: new_veggie_fruit_data/base/train/mandarin/IMG_4961.JPG  \n",
            "  inflating: new_veggie_fruit_data/base/train/mandarin/IMG_4951.JPG  \n",
            "  inflating: new_veggie_fruit_data/base/train/mandarin/IMG_1182.JPG  \n",
            "  inflating: new_veggie_fruit_data/base/train/mandarin/IMG_4959.JPG  \n",
            "   creating: new_veggie_fruit_data/base/train/persimmon/\n",
            "  inflating: new_veggie_fruit_data/base/train/persimmon/IMG_9224.jpg  \n",
            "  inflating: new_veggie_fruit_data/base/train/persimmon/IMG_9223.jpg  \n",
            "  inflating: new_veggie_fruit_data/base/train/persimmon/IMG_9221.jpg  \n",
            "  inflating: new_veggie_fruit_data/base/train/persimmon/IMG_9225.jpg  \n",
            "   creating: new_veggie_fruit_data/base/train/artichoke/\n",
            "  inflating: new_veggie_fruit_data/base/train/artichoke/IMG_7219.JPG  \n",
            "  inflating: new_veggie_fruit_data/base/train/artichoke/IMG_5356.JPG  \n",
            "  inflating: new_veggie_fruit_data/base/train/artichoke/IMG_1811.JPG  \n",
            "  inflating: new_veggie_fruit_data/base/train/artichoke/IMG_7218.JPG  \n",
            "  inflating: new_veggie_fruit_data/base/train/artichoke/IMG_1808.JPG  \n",
            "  inflating: new_veggie_fruit_data/base/train/artichoke/IMG_1810.JPG  \n",
            "  inflating: new_veggie_fruit_data/base/train/artichoke/.DS_Store  \n",
            "  inflating: new_veggie_fruit_data/base/train/artichoke/IMG_5359.JPG  \n",
            "  inflating: new_veggie_fruit_data/base/train/artichoke/IMG_1809.JPG  \n",
            "  inflating: new_veggie_fruit_data/base/train/artichoke/IMG_7221.JPG  \n",
            "  inflating: new_veggie_fruit_data/base/train/artichoke/IMG_1812.JPG  \n",
            "  inflating: new_veggie_fruit_data/base/train/artichoke/IMG_7220.JPG  \n",
            "  inflating: new_veggie_fruit_data/base/train/artichoke/IMG_5360.JPG  \n",
            "   creating: new_veggie_fruit_data/base/train/avocado/\n",
            "  inflating: new_veggie_fruit_data/base/train/avocado/IMG_4859.JPG  \n",
            "  inflating: new_veggie_fruit_data/base/train/avocado/IMG_03343.jpg  \n",
            "  inflating: new_veggie_fruit_data/base/train/avocado/IMG_03335.jpg  \n",
            "  inflating: new_veggie_fruit_data/base/train/avocado/IMG_4858.JPG  \n",
            "  inflating: new_veggie_fruit_data/base/train/avocado/IMG_03340.jpg  \n",
            "  inflating: new_veggie_fruit_data/base/train/avocado/IMG_03337.jpg  \n",
            "  inflating: new_veggie_fruit_data/base/train/avocado/IMG_03339.jpg  \n",
            "  inflating: new_veggie_fruit_data/base/train/avocado/IMG_03347.jpg  \n",
            "  inflating: new_veggie_fruit_data/base/train/avocado/IMG_03366.jpg  \n",
            "  inflating: new_veggie_fruit_data/base/train/avocado/IMG_03341.jpg  \n",
            "  inflating: new_veggie_fruit_data/base/train/avocado/IMG_03344.jpg  \n",
            "  inflating: new_veggie_fruit_data/base/train/avocado/IMG_4860.JPG  \n",
            "  inflating: new_veggie_fruit_data/base/train/avocado/IMG_03361.jpg  \n",
            "  inflating: new_veggie_fruit_data/base/train/avocado/IMG_03333.jpg  \n",
            "  inflating: new_veggie_fruit_data/base/train/avocado/IMG_4861.JPG  \n",
            "  inflating: new_veggie_fruit_data/base/train/avocado/IMG_03355.jpg  \n",
            "  inflating: new_veggie_fruit_data/base/train/avocado/IMG_03363.jpg  \n",
            "  inflating: new_veggie_fruit_data/base/train/avocado/IMG_03353.jpg  \n",
            "  inflating: new_veggie_fruit_data/base/train/avocado/IMG_03359.jpg  \n",
            "  inflating: new_veggie_fruit_data/base/train/avocado/IMG_03354.jpg  \n",
            "  inflating: new_veggie_fruit_data/base/train/avocado/IMG_4857.JPG  \n",
            "  inflating: new_veggie_fruit_data/base/train/avocado/IMG_03336.jpg  \n",
            "  inflating: new_veggie_fruit_data/base/train/avocado/IMG_03348.jpg  \n",
            "  inflating: new_veggie_fruit_data/base/train/avocado/IMG_03360.jpg  \n",
            "  inflating: new_veggie_fruit_data/base/train/avocado/IMG_03332.jpg  \n",
            "  inflating: new_veggie_fruit_data/base/train/avocado/IMG_03349.jpg  \n",
            "  inflating: new_veggie_fruit_data/base/train/avocado/IMG_03345.jpg  \n",
            "  inflating: new_veggie_fruit_data/base/train/avocado/IMG_03362.jpg  \n",
            "  inflating: new_veggie_fruit_data/base/train/avocado/IMG_03368.jpg  \n",
            "  inflating: new_veggie_fruit_data/base/train/avocado/IMG_03365.jpg  \n",
            "  inflating: new_veggie_fruit_data/base/train/avocado/IMG_03352.jpg  \n",
            "  inflating: new_veggie_fruit_data/base/train/avocado/IMG_03367.jpg  \n",
            "  inflating: new_veggie_fruit_data/base/train/avocado/IMG_03331.jpg  \n",
            "  inflating: new_veggie_fruit_data/base/train/avocado/IMG_1921.JPG  \n",
            "  inflating: new_veggie_fruit_data/base/train/avocado/IMG_03356.jpg  \n",
            "  inflating: new_veggie_fruit_data/base/train/avocado/IMG_03330.jpg  \n",
            "  inflating: new_veggie_fruit_data/base/train/avocado/IMG_03338.jpg  \n",
            "  inflating: new_veggie_fruit_data/base/train/avocado/IMG_1918.JPG  \n",
            "  inflating: new_veggie_fruit_data/base/train/avocado/IMG_1917.JPG  \n",
            "  inflating: new_veggie_fruit_data/base/train/avocado/IMG_03334.jpg  \n",
            "  inflating: new_veggie_fruit_data/base/train/avocado/IMG_1922.JPG  \n",
            "   creating: new_veggie_fruit_data/base/train/napa_cabbage/\n",
            "  inflating: new_veggie_fruit_data/base/train/napa_cabbage/IMG_0410.jpg  \n",
            "  inflating: new_veggie_fruit_data/base/train/napa_cabbage/IMG_9549.jpg  \n",
            "  inflating: new_veggie_fruit_data/base/train/napa_cabbage/IMG_0409.jpg  \n",
            "  inflating: new_veggie_fruit_data/base/train/napa_cabbage/IMG_0412.jpg  \n",
            "   creating: new_veggie_fruit_data/base/train/pineapple/\n",
            "  inflating: new_veggie_fruit_data/base/train/pineapple/IMG_03343.jpg  \n",
            "  inflating: new_veggie_fruit_data/base/train/pineapple/IMG_03335.jpg  \n",
            "  inflating: new_veggie_fruit_data/base/train/pineapple/IMG_03340.jpg  \n",
            "  inflating: new_veggie_fruit_data/base/train/pineapple/IMG_1211.JPG  \n",
            "  inflating: new_veggie_fruit_data/base/train/pineapple/IMG_03337.jpg  \n",
            "  inflating: new_veggie_fruit_data/base/train/pineapple/IMG_9858.jpg  \n",
            "  inflating: new_veggie_fruit_data/base/train/pineapple/IMG_03339.jpg  \n",
            "  inflating: new_veggie_fruit_data/base/train/pineapple/IMG_03351.jpg  \n",
            "  inflating: new_veggie_fruit_data/base/train/pineapple/IMG_03366.jpg  \n",
            "  inflating: new_veggie_fruit_data/base/train/pineapple/IMG_9857.jpg  \n",
            "  inflating: new_veggie_fruit_data/base/train/pineapple/IMG_03344.jpg  \n",
            "  inflating: new_veggie_fruit_data/base/train/pineapple/IMG_0134.jpg  \n",
            "  inflating: new_veggie_fruit_data/base/train/pineapple/IMG_03361.jpg  \n",
            "  inflating: new_veggie_fruit_data/base/train/pineapple/IMG_03333.jpg  \n",
            "  inflating: new_veggie_fruit_data/base/train/pineapple/IMG_03369.jpg  \n",
            "  inflating: new_veggie_fruit_data/base/train/pineapple/IMG_03355.jpg  \n",
            "  inflating: new_veggie_fruit_data/base/train/pineapple/IMG_03363.jpg  \n",
            "  inflating: new_veggie_fruit_data/base/train/pineapple/IMG_03353.jpg  \n",
            "  inflating: new_veggie_fruit_data/base/train/pineapple/IMG_03359.jpg  \n",
            "  inflating: new_veggie_fruit_data/base/train/pineapple/IMG_0102.jpg  \n",
            "  inflating: new_veggie_fruit_data/base/train/pineapple/IMG_03354.jpg  \n",
            "  inflating: new_veggie_fruit_data/base/train/pineapple/IMG_03346.jpg  \n",
            "  inflating: new_veggie_fruit_data/base/train/pineapple/IMG_03336.jpg  \n",
            "  inflating: new_veggie_fruit_data/base/train/pineapple/IMG_1209.JPG  \n",
            "  inflating: new_veggie_fruit_data/base/train/pineapple/IMG_03348.jpg  \n",
            "  inflating: new_veggie_fruit_data/base/train/pineapple/IMG_03360.jpg  \n",
            "  inflating: new_veggie_fruit_data/base/train/pineapple/IMG_1210.JPG  \n",
            "  inflating: new_veggie_fruit_data/base/train/pineapple/IMG_03332.jpg  \n",
            "  inflating: new_veggie_fruit_data/base/train/pineapple/IMG_03357.jpg  \n",
            "  inflating: new_veggie_fruit_data/base/train/pineapple/IMG_03349.jpg  \n",
            "  inflating: new_veggie_fruit_data/base/train/pineapple/IMG_03362.jpg  \n",
            "  inflating: new_veggie_fruit_data/base/train/pineapple/IMG_03365.jpg  \n",
            "  inflating: new_veggie_fruit_data/base/train/pineapple/IMG_03352.jpg  \n",
            "  inflating: new_veggie_fruit_data/base/train/pineapple/IMG_0133.jpg  \n",
            "  inflating: new_veggie_fruit_data/base/train/pineapple/IMG_1212.JPG  \n",
            "  inflating: new_veggie_fruit_data/base/train/pineapple/IMG_03367.jpg  \n",
            "  inflating: new_veggie_fruit_data/base/train/pineapple/IMG_03331.jpg  \n",
            "  inflating: new_veggie_fruit_data/base/train/pineapple/IMG_03356.jpg  \n",
            "  inflating: new_veggie_fruit_data/base/train/pineapple/IMG_03330.jpg  \n",
            "  inflating: new_veggie_fruit_data/base/train/pineapple/IMG_03338.jpg  \n",
            "  inflating: new_veggie_fruit_data/base/train/pineapple/IMG_03342.jpg  \n",
            "  inflating: new_veggie_fruit_data/base/train/pineapple/IMG_9859.jpg  \n",
            "  inflating: new_veggie_fruit_data/base/train/pineapple/IMG_03334.jpg  \n",
            "   creating: new_veggie_fruit_data/base/train/white_nectarine/\n",
            "  inflating: new_veggie_fruit_data/base/train/white_nectarine/IMG_7276.JPG  \n",
            "  inflating: new_veggie_fruit_data/base/train/white_nectarine/IMG_7274.JPG  \n",
            "  inflating: new_veggie_fruit_data/base/train/white_nectarine/IMG_7273.JPG  \n",
            "  inflating: new_veggie_fruit_data/base/train/white_nectarine/IMG_7275.JPG  \n",
            "  inflating: new_veggie_fruit_data/base/train/white_nectarine/IMG_7270.JPG  \n",
            "  inflating: new_veggie_fruit_data/base/train/white_nectarine/IMG_7237.JPG  \n",
            "  inflating: new_veggie_fruit_data/base/train/white_nectarine/IMG_7271.JPG  \n",
            "  inflating: new_veggie_fruit_data/base/train/white_nectarine/IMG_7235.JPG  \n",
            "  inflating: new_veggie_fruit_data/base/train/white_nectarine/IMG_7306.JPG  \n",
            "  inflating: new_veggie_fruit_data/base/train/white_nectarine/IMG_7307.JPG  \n",
            "   creating: new_veggie_fruit_data/base/train/papaya/\n",
            "  inflating: new_veggie_fruit_data/base/train/papaya/IMG_03381.jpg  \n",
            "  inflating: new_veggie_fruit_data/base/train/papaya/IMG_03343.jpg  \n",
            "  inflating: new_veggie_fruit_data/base/train/papaya/IMG_1214.JPG  \n",
            "  inflating: new_veggie_fruit_data/base/train/papaya/IMG_4940.JPG  \n",
            "  inflating: new_veggie_fruit_data/base/train/papaya/IMG_03335.jpg  \n",
            "  inflating: new_veggie_fruit_data/base/train/papaya/IMG_03374.jpg  \n",
            "  inflating: new_veggie_fruit_data/base/train/papaya/IMG_03340.jpg  \n",
            "  inflating: new_veggie_fruit_data/base/train/papaya/IMG_4939.JPG  \n",
            "  inflating: new_veggie_fruit_data/base/train/papaya/IMG_03377.jpg  \n",
            "  inflating: new_veggie_fruit_data/base/train/papaya/IMG_03394.jpg  \n",
            "  inflating: new_veggie_fruit_data/base/train/papaya/IMG_03337.jpg  \n",
            "  inflating: new_veggie_fruit_data/base/train/papaya/IMG_1233.JPG  \n",
            "  inflating: new_veggie_fruit_data/base/train/papaya/IMG_03347.jpg  \n",
            "  inflating: new_veggie_fruit_data/base/train/papaya/IMG_4873.JPG  \n",
            "  inflating: new_veggie_fruit_data/base/train/papaya/IMG_03351.jpg  \n",
            "  inflating: new_veggie_fruit_data/base/train/papaya/IMG_03380.jpg  \n",
            "  inflating: new_veggie_fruit_data/base/train/papaya/IMG_1215.JPG  \n",
            "  inflating: new_veggie_fruit_data/base/train/papaya/IMG_03371.jpg  \n",
            "  inflating: new_veggie_fruit_data/base/train/papaya/IMG_03366.jpg  \n",
            "  inflating: new_veggie_fruit_data/base/train/papaya/IMG_03341.jpg  \n",
            "  inflating: new_veggie_fruit_data/base/train/papaya/IMG_03344.jpg  \n",
            "  inflating: new_veggie_fruit_data/base/train/papaya/IMG_03372.jpg  \n",
            "  inflating: new_veggie_fruit_data/base/train/papaya/IMG_03398.jpg  \n",
            "  inflating: new_veggie_fruit_data/base/train/papaya/IMG_03384.jpg  \n",
            "  inflating: new_veggie_fruit_data/base/train/papaya/IMG_03361.jpg  \n",
            "  inflating: new_veggie_fruit_data/base/train/papaya/IMG_03333.jpg  \n",
            "  inflating: new_veggie_fruit_data/base/train/papaya/IMG_03385.jpg  \n",
            "  inflating: new_veggie_fruit_data/base/train/papaya/IMG_03369.jpg  \n",
            "  inflating: new_veggie_fruit_data/base/train/papaya/IMG_1232.JPG  \n",
            "  inflating: new_veggie_fruit_data/base/train/papaya/IMG_03363.jpg  \n",
            "  inflating: new_veggie_fruit_data/base/train/papaya/IMG_03353.jpg  \n",
            "  inflating: new_veggie_fruit_data/base/train/papaya/IMG_4937.JPG  \n",
            "  inflating: new_veggie_fruit_data/base/train/papaya/IMG_03359.jpg  \n",
            "  inflating: new_veggie_fruit_data/base/train/papaya/IMG_03350.jpg  \n",
            "  inflating: new_veggie_fruit_data/base/train/papaya/IMG_03387.jpg  \n",
            "  inflating: new_veggie_fruit_data/base/train/papaya/IMG_03354.jpg  \n",
            "  inflating: new_veggie_fruit_data/base/train/papaya/IMG_03399.jpg  \n",
            "  inflating: new_veggie_fruit_data/base/train/papaya/IMG_03376.jpg  \n",
            "  inflating: new_veggie_fruit_data/base/train/papaya/IMG_03346.jpg  \n",
            "  inflating: new_veggie_fruit_data/base/train/papaya/IMG_03389.jpg  \n",
            "  inflating: new_veggie_fruit_data/base/train/papaya/IMG_03370.jpg  \n",
            "  inflating: new_veggie_fruit_data/base/train/papaya/IMG_03373.jpg  \n",
            "  inflating: new_veggie_fruit_data/base/train/papaya/IMG_03393.jpg  \n",
            "  inflating: new_veggie_fruit_data/base/train/papaya/IMG_03336.jpg  \n",
            "  inflating: new_veggie_fruit_data/base/train/papaya/IMG_03348.jpg  \n",
            "  inflating: new_veggie_fruit_data/base/train/papaya/IMG_1219.JPG  \n",
            "  inflating: new_veggie_fruit_data/base/train/papaya/IMG_1218.JPG  \n",
            "  inflating: new_veggie_fruit_data/base/train/papaya/IMG_03360.jpg  \n",
            "  inflating: new_veggie_fruit_data/base/train/papaya/IMG_03332.jpg  \n",
            "  inflating: new_veggie_fruit_data/base/train/papaya/IMG_1230.JPG  \n",
            "  inflating: new_veggie_fruit_data/base/train/papaya/IMG_03357.jpg  \n",
            "  inflating: new_veggie_fruit_data/base/train/papaya/IMG_03349.jpg  \n",
            "  inflating: new_veggie_fruit_data/base/train/papaya/IMG_03386.jpg  \n",
            "  inflating: new_veggie_fruit_data/base/train/papaya/IMG_03375.jpg  \n",
            "  inflating: new_veggie_fruit_data/base/train/papaya/IMG_03362.jpg  \n",
            "  inflating: new_veggie_fruit_data/base/train/papaya/IMG_03392.jpg  \n",
            "  inflating: new_veggie_fruit_data/base/train/papaya/IMG_03365.jpg  \n",
            "  inflating: new_veggie_fruit_data/base/train/papaya/IMG_03352.jpg  \n",
            "  inflating: new_veggie_fruit_data/base/train/papaya/IMG_03400.jpg  \n",
            "  inflating: new_veggie_fruit_data/base/train/papaya/IMG_1217.JPG  \n",
            "  inflating: new_veggie_fruit_data/base/train/papaya/IMG_1216.JPG  \n",
            "  inflating: new_veggie_fruit_data/base/train/papaya/IMG_03367.jpg  \n",
            "  inflating: new_veggie_fruit_data/base/train/papaya/IMG_03331.jpg  \n",
            "  inflating: new_veggie_fruit_data/base/train/papaya/IMG_1235.JPG  \n",
            "  inflating: new_veggie_fruit_data/base/train/papaya/IMG_03395.jpg  \n",
            "  inflating: new_veggie_fruit_data/base/train/papaya/IMG_03356.jpg  \n",
            "  inflating: new_veggie_fruit_data/base/train/papaya/IMG_03401.jpg  \n",
            "  inflating: new_veggie_fruit_data/base/train/papaya/IMG_03330.jpg  \n",
            "  inflating: new_veggie_fruit_data/base/train/papaya/IMG_03338.jpg  \n",
            "  inflating: new_veggie_fruit_data/base/train/papaya/IMG_03342.jpg  \n",
            "  inflating: new_veggie_fruit_data/base/train/papaya/IMG_03382.jpg  \n",
            "  inflating: new_veggie_fruit_data/base/train/papaya/IMG_03334.jpg  \n",
            "   creating: new_veggie_fruit_data/base/train/cherry_tomato/\n",
            "  inflating: new_veggie_fruit_data/base/train/cherry_tomato/IMG_0466.jpg  \n",
            "  inflating: new_veggie_fruit_data/base/train/cherry_tomato/IMG_2731.JPG  \n",
            "  inflating: new_veggie_fruit_data/base/train/cherry_tomato/IMG_7778.jpg  \n",
            "  inflating: new_veggie_fruit_data/base/train/cherry_tomato/IMG_8875.jpg  \n",
            "  inflating: new_veggie_fruit_data/base/train/cherry_tomato/IMG_7912.jpg  \n",
            "  inflating: new_veggie_fruit_data/base/train/cherry_tomato/IMG_2666.JPG  \n",
            "  inflating: new_veggie_fruit_data/base/train/cherry_tomato/IMG_0465.jpg  \n",
            "  inflating: new_veggie_fruit_data/base/train/cherry_tomato/IMG_8873.jpg  \n",
            "  inflating: new_veggie_fruit_data/base/train/cherry_tomato/IMG_7911.jpg  \n",
            "  inflating: new_veggie_fruit_data/base/train/cherry_tomato/IMG_2732.JPG  \n",
            "  inflating: new_veggie_fruit_data/base/train/cherry_tomato/IMG_8874.jpg  \n",
            "   creating: new_veggie_fruit_data/base/train/bitter_melon/\n",
            "  inflating: new_veggie_fruit_data/base/train/bitter_melon/IMG_03343.jpg  \n",
            "  inflating: new_veggie_fruit_data/base/train/bitter_melon/IMG_03335.jpg  \n",
            "  inflating: new_veggie_fruit_data/base/train/bitter_melon/IMG_7802.jpg  \n",
            "  inflating: new_veggie_fruit_data/base/train/bitter_melon/IMG_7118.JPG  \n",
            "  inflating: new_veggie_fruit_data/base/train/bitter_melon/IMG_8753.jpg  \n",
            "  inflating: new_veggie_fruit_data/base/train/bitter_melon/IMG_03340.jpg  \n",
            "  inflating: new_veggie_fruit_data/base/train/bitter_melon/IMG_8781.jpg  \n",
            "  inflating: new_veggie_fruit_data/base/train/bitter_melon/IMG_8782.jpg  \n",
            "  inflating: new_veggie_fruit_data/base/train/bitter_melon/IMG_03337.jpg  \n",
            "  inflating: new_veggie_fruit_data/base/train/bitter_melon/IMG_03339.jpg  \n",
            "  inflating: new_veggie_fruit_data/base/train/bitter_melon/IMG_03351.jpg  \n",
            "  inflating: new_veggie_fruit_data/base/train/bitter_melon/IMG_03366.jpg  \n",
            "  inflating: new_veggie_fruit_data/base/train/bitter_melon/IMG_6972.JPG  \n",
            "  inflating: new_veggie_fruit_data/base/train/bitter_melon/IMG_03341.jpg  \n",
            "  inflating: new_veggie_fruit_data/base/train/bitter_melon/IMG_03344.jpg  \n",
            "  inflating: new_veggie_fruit_data/base/train/bitter_melon/IMG_03372.jpg  \n",
            "  inflating: new_veggie_fruit_data/base/train/bitter_melon/IMG_03361.jpg  \n",
            "  inflating: new_veggie_fruit_data/base/train/bitter_melon/IMG_03333.jpg  \n",
            "  inflating: new_veggie_fruit_data/base/train/bitter_melon/IMG_03369.jpg  \n",
            "  inflating: new_veggie_fruit_data/base/train/bitter_melon/IMG_7115.JPG  \n",
            "  inflating: new_veggie_fruit_data/base/train/bitter_melon/IMG_03355.jpg  \n",
            "  inflating: new_veggie_fruit_data/base/train/bitter_melon/IMG_03363.jpg  \n",
            "  inflating: new_veggie_fruit_data/base/train/bitter_melon/IMG_03353.jpg  \n",
            "  inflating: new_veggie_fruit_data/base/train/bitter_melon/IMG_03359.jpg  \n",
            "  inflating: new_veggie_fruit_data/base/train/bitter_melon/IMG_03350.jpg  \n",
            "  inflating: new_veggie_fruit_data/base/train/bitter_melon/IMG_03354.jpg  \n",
            "  inflating: new_veggie_fruit_data/base/train/bitter_melon/IMG_03376.jpg  \n",
            "  inflating: new_veggie_fruit_data/base/train/bitter_melon/IMG_03370.jpg  \n",
            "  inflating: new_veggie_fruit_data/base/train/bitter_melon/IMG_03373.jpg  \n",
            "  inflating: new_veggie_fruit_data/base/train/bitter_melon/IMG_03336.jpg  \n",
            "  inflating: new_veggie_fruit_data/base/train/bitter_melon/IMG_03348.jpg  \n",
            "  inflating: new_veggie_fruit_data/base/train/bitter_melon/IMG_03360.jpg  \n",
            "  inflating: new_veggie_fruit_data/base/train/bitter_melon/IMG_7129.JPG  \n",
            "  inflating: new_veggie_fruit_data/base/train/bitter_melon/IMG_7801.jpg  \n",
            "  inflating: new_veggie_fruit_data/base/train/bitter_melon/IMG_03332.jpg  \n",
            "  inflating: new_veggie_fruit_data/base/train/bitter_melon/IMG_03357.jpg  \n",
            "  inflating: new_veggie_fruit_data/base/train/bitter_melon/IMG_03349.jpg  \n",
            "  inflating: new_veggie_fruit_data/base/train/bitter_melon/IMG_03345.jpg  \n",
            "  inflating: new_veggie_fruit_data/base/train/bitter_melon/IMG_7117.JPG  \n",
            "  inflating: new_veggie_fruit_data/base/train/bitter_melon/IMG_03375.jpg  \n",
            "  inflating: new_veggie_fruit_data/base/train/bitter_melon/IMG_03362.jpg  \n",
            "  inflating: new_veggie_fruit_data/base/train/bitter_melon/IMG_03352.jpg  \n",
            "  inflating: new_veggie_fruit_data/base/train/bitter_melon/IMG_8780.jpg  \n",
            "  inflating: new_veggie_fruit_data/base/train/bitter_melon/IMG_03364.jpg  \n",
            "  inflating: new_veggie_fruit_data/base/train/bitter_melon/IMG_03358.jpg  \n",
            "  inflating: new_veggie_fruit_data/base/train/bitter_melon/IMG_03331.jpg  \n",
            "  inflating: new_veggie_fruit_data/base/train/bitter_melon/IMG_2780.JPG  \n",
            "  inflating: new_veggie_fruit_data/base/train/bitter_melon/IMG_03330.jpg  \n",
            "  inflating: new_veggie_fruit_data/base/train/bitter_melon/IMG_03338.jpg  \n",
            "  inflating: new_veggie_fruit_data/base/train/bitter_melon/IMG_03342.jpg  \n",
            "  inflating: new_veggie_fruit_data/base/train/bitter_melon/IMG_7120.JPG  \n",
            "  inflating: new_veggie_fruit_data/base/train/bitter_melon/IMG_8751.jpg  \n",
            "  inflating: new_veggie_fruit_data/base/train/bitter_melon/IMG_03334.jpg  \n",
            "   creating: new_veggie_fruit_data/base/train/red_radishes/\n",
            "  inflating: new_veggie_fruit_data/base/train/red_radishes/IMG_5354.JPG  \n",
            "  inflating: new_veggie_fruit_data/base/train/red_radishes/IMG_5350.JPG  \n",
            "  inflating: new_veggie_fruit_data/base/train/red_radishes/IMG_5353.JPG  \n",
            "  inflating: new_veggie_fruit_data/base/train/red_radishes/IMG_5351.JPG  \n",
            "   creating: new_veggie_fruit_data/base/train/peanut/\n",
            "  inflating: new_veggie_fruit_data/base/train/peanut/IMG_7088.JPG  \n",
            "  inflating: new_veggie_fruit_data/base/train/peanut/IMG_6997.JPG  \n",
            "  inflating: new_veggie_fruit_data/base/train/peanut/IMG_7005.JPG  \n",
            "  inflating: new_veggie_fruit_data/base/train/peanut/IMG_7084.JPG  \n",
            "  inflating: new_veggie_fruit_data/base/train/peanut/IMG_2791.JPG  \n",
            "  inflating: new_veggie_fruit_data/base/train/peanut/IMG_7210.JPG  \n",
            "  inflating: new_veggie_fruit_data/base/train/peanut/IMG_7004.JPG  \n",
            "  inflating: new_veggie_fruit_data/base/train/peanut/IMG_7089.JPG  \n",
            "  inflating: new_veggie_fruit_data/base/train/peanut/IMG_7085.JPG  \n",
            "  inflating: new_veggie_fruit_data/base/train/peanut/IMG_7002.JPG  \n",
            "  inflating: new_veggie_fruit_data/base/train/peanut/IMG_6998.JPG  \n",
            "  inflating: new_veggie_fruit_data/base/train/peanut/IMG_7083.JPG  \n",
            "  inflating: new_veggie_fruit_data/base/train/peanut/IMG_7209.JPG  \n",
            "  inflating: new_veggie_fruit_data/base/train/peanut/IMG_7087.JPG  \n",
            "  inflating: new_veggie_fruit_data/base/train/peanut/IMG_6999.JPG  \n",
            "   creating: new_veggie_fruit_data/base/validate/\n",
            "   creating: new_veggie_fruit_data/base/validate/water_melon/\n",
            "  inflating: new_veggie_fruit_data/base/validate/water_melon/IMG_1187.JPG  \n",
            "  inflating: new_veggie_fruit_data/base/validate/water_melon/IMG_03339.jpg  \n",
            "  inflating: new_veggie_fruit_data/base/validate/water_melon/IMG_03347.jpg  \n",
            "  inflating: new_veggie_fruit_data/base/validate/water_melon/IMG_6664.JPG  \n",
            "  inflating: new_veggie_fruit_data/base/validate/water_melon/IMG_03344.jpg  \n",
            "  inflating: new_veggie_fruit_data/base/validate/water_melon/IMG_1190.JPG  \n",
            "  inflating: new_veggie_fruit_data/base/validate/water_melon/IMG_03350.jpg  \n",
            "  inflating: new_veggie_fruit_data/base/validate/water_melon/IMG_03364.jpg  \n",
            "  inflating: new_veggie_fruit_data/base/validate/water_melon/IMG_0578.jpg  \n",
            "  inflating: new_veggie_fruit_data/base/validate/water_melon/IMG_03358.jpg  \n",
            "  inflating: new_veggie_fruit_data/base/validate/water_melon/IMG_03356.jpg  \n",
            "  inflating: new_veggie_fruit_data/base/validate/water_melon/IMG_6662.JPG  \n",
            "   creating: new_veggie_fruit_data/base/validate/tomato/\n",
            "  inflating: new_veggie_fruit_data/base/validate/tomato/IMG_03388.jpg  \n",
            "  inflating: new_veggie_fruit_data/base/validate/tomato/IMG_03381.jpg  \n",
            "  inflating: new_veggie_fruit_data/base/validate/tomato/IMG_7103.JPG  \n",
            "  inflating: new_veggie_fruit_data/base/validate/tomato/IMG_03433.jpg  \n",
            "  inflating: new_veggie_fruit_data/base/validate/tomato/IMG_6610.JPG  \n",
            "  inflating: new_veggie_fruit_data/base/validate/tomato/IMG_03377.jpg  \n",
            "  inflating: new_veggie_fruit_data/base/validate/tomato/IMG_03407.jpg  \n",
            "  inflating: new_veggie_fruit_data/base/validate/tomato/IMG_03366.jpg  \n",
            "  inflating: new_veggie_fruit_data/base/validate/tomato/IMG_03422.jpg  \n",
            "  inflating: new_veggie_fruit_data/base/validate/tomato/IMG_03412.jpg  \n",
            "  inflating: new_veggie_fruit_data/base/validate/tomato/IMG_03413.jpg  \n",
            "  inflating: new_veggie_fruit_data/base/validate/tomato/IMG_03361.jpg  \n",
            "  inflating: new_veggie_fruit_data/base/validate/tomato/IMG_03385.jpg  \n",
            "  inflating: new_veggie_fruit_data/base/validate/tomato/IMG_03355.jpg  \n",
            "  inflating: new_veggie_fruit_data/base/validate/tomato/IMG_03353.jpg  \n",
            "  inflating: new_veggie_fruit_data/base/validate/tomato/IMG_03393.jpg  \n",
            "  inflating: new_veggie_fruit_data/base/validate/tomato/IMG_03386.jpg  \n",
            "  inflating: new_veggie_fruit_data/base/validate/tomato/IMG_03410.jpg  \n",
            "  inflating: new_veggie_fruit_data/base/validate/tomato/IMG_03358.jpg  \n",
            "  inflating: new_veggie_fruit_data/base/validate/tomato/IMG_03420.jpg  \n",
            "  inflating: new_veggie_fruit_data/base/validate/tomato/IMG_03331.jpg  \n",
            "  inflating: new_veggie_fruit_data/base/validate/tomato/IMG_03379.jpg  \n",
            "  inflating: new_veggie_fruit_data/base/validate/tomato/IMG_03338.jpg  \n",
            "   creating: new_veggie_fruit_data/base/validate/celery/\n",
            "  inflating: new_veggie_fruit_data/base/validate/celery/IMG_5396.JPG  \n",
            "  inflating: new_veggie_fruit_data/base/validate/celery/IMG_9193.jpg  \n",
            "  inflating: new_veggie_fruit_data/base/validate/celery/IMG_6930.JPG  \n",
            "  inflating: new_veggie_fruit_data/base/validate/celery/IMG_6932.JPG  \n",
            "  inflating: new_veggie_fruit_data/base/validate/celery/IMG_6927.JPG  \n",
            "  inflating: new_veggie_fruit_data/base/validate/celery/IMG_6978.JPG  \n",
            "   creating: new_veggie_fruit_data/base/validate/cabbage/\n",
            "  inflating: new_veggie_fruit_data/base/validate/cabbage/IMG_03388.jpg  \n",
            "  inflating: new_veggie_fruit_data/base/validate/cabbage/IMG_9264.jpg  \n",
            "  inflating: new_veggie_fruit_data/base/validate/cabbage/IMG_03378.jpg  \n",
            "  inflating: new_veggie_fruit_data/base/validate/cabbage/IMG_03347.jpg  \n",
            "  inflating: new_veggie_fruit_data/base/validate/cabbage/IMG_03371.jpg  \n",
            "  inflating: new_veggie_fruit_data/base/validate/cabbage/IMG_03366.jpg  \n",
            "  inflating: new_veggie_fruit_data/base/validate/cabbage/IMG_03383.jpg  \n",
            "  inflating: new_veggie_fruit_data/base/validate/cabbage/IMG_03390.jpg  \n",
            "  inflating: new_veggie_fruit_data/base/validate/cabbage/IMG_03355.jpg  \n",
            "  inflating: new_veggie_fruit_data/base/validate/cabbage/IMG_03393.jpg  \n",
            "  inflating: new_veggie_fruit_data/base/validate/cabbage/IMG_03348.jpg  \n",
            "  inflating: new_veggie_fruit_data/base/validate/cabbage/IMG_03391.jpg  \n",
            "  inflating: new_veggie_fruit_data/base/validate/cabbage/IMG_03345.jpg  \n",
            "  inflating: new_veggie_fruit_data/base/validate/cabbage/IMG_03364.jpg  \n",
            "  inflating: new_veggie_fruit_data/base/validate/cabbage/IMG_03358.jpg  \n",
            "  inflating: new_veggie_fruit_data/base/validate/cabbage/IMG_9262.jpg  \n",
            "  inflating: new_veggie_fruit_data/base/validate/cabbage/IMG_03405.jpg  \n",
            "   creating: new_veggie_fruit_data/base/validate/durian/\n",
            "  inflating: new_veggie_fruit_data/base/validate/durian/IMG_9084.JPG  \n",
            "  inflating: new_veggie_fruit_data/base/validate/durian/IMG_9109.JPG  \n",
            "  inflating: new_veggie_fruit_data/base/validate/durian/IMG_9116.JPG  \n",
            "  inflating: new_veggie_fruit_data/base/validate/durian/IMG_9094.JPG  \n",
            "  inflating: new_veggie_fruit_data/base/validate/durian/IMG_9087.JPG  \n",
            "  inflating: new_veggie_fruit_data/base/validate/durian/IMG_9090.JPG  \n",
            "   creating: new_veggie_fruit_data/base/validate/eggplant/\n",
            "  inflating: new_veggie_fruit_data/base/validate/eggplant/IMG_03388.jpg  \n",
            "  inflating: new_veggie_fruit_data/base/validate/eggplant/IMG_0316.jpg  \n",
            "  inflating: new_veggie_fruit_data/base/validate/eggplant/IMG_03377.jpg  \n",
            "  inflating: new_veggie_fruit_data/base/validate/eggplant/IMG_03402.jpg  \n",
            "  inflating: new_veggie_fruit_data/base/validate/eggplant/IMG_03351.jpg  \n",
            "  inflating: new_veggie_fruit_data/base/validate/eggplant/IMG_03372.jpg  \n",
            "  inflating: new_veggie_fruit_data/base/validate/eggplant/IMG_3668.jpg  \n",
            "  inflating: new_veggie_fruit_data/base/validate/eggplant/IMG_7137.JPG  \n",
            "  inflating: new_veggie_fruit_data/base/validate/eggplant/IMG_03369.jpg  \n",
            "  inflating: new_veggie_fruit_data/base/validate/eggplant/IMG_03355.jpg  \n",
            "  inflating: new_veggie_fruit_data/base/validate/eggplant/IMG_03363.jpg  \n",
            "  inflating: new_veggie_fruit_data/base/validate/eggplant/IMG_03353.jpg  \n",
            "  inflating: new_veggie_fruit_data/base/validate/eggplant/IMG_03393.jpg  \n",
            "  inflating: new_veggie_fruit_data/base/validate/eggplant/IMG_0382.jpg  \n",
            "  inflating: new_veggie_fruit_data/base/validate/eggplant/IMG_0395.jpg  \n",
            "  inflating: new_veggie_fruit_data/base/validate/eggplant/IMG_7813.jpg  \n",
            "  inflating: new_veggie_fruit_data/base/validate/eggplant/IMG_7155.JPG  \n",
            "  inflating: new_veggie_fruit_data/base/validate/eggplant/IMG_03379.jpg  \n",
            "  inflating: new_veggie_fruit_data/base/validate/eggplant/IMG_03401.jpg  \n",
            "   creating: new_veggie_fruit_data/base/validate/lemon/\n",
            "  inflating: new_veggie_fruit_data/base/validate/lemon/IMG_4870.JPG  \n",
            "  inflating: new_veggie_fruit_data/base/validate/lemon/IMG_03340.jpg  \n",
            "  inflating: new_veggie_fruit_data/base/validate/lemon/IMG_03351.jpg  \n",
            "  inflating: new_veggie_fruit_data/base/validate/lemon/IMG_03350.jpg  \n",
            "  inflating: new_veggie_fruit_data/base/validate/lemon/IMG_03354.jpg  \n",
            "  inflating: new_veggie_fruit_data/base/validate/lemon/IMG_4872.JPG  \n",
            "  inflating: new_veggie_fruit_data/base/validate/lemon/IMG_03346.jpg  \n",
            "  inflating: new_veggie_fruit_data/base/validate/lemon/IMG_03370.jpg  \n",
            "  inflating: new_veggie_fruit_data/base/validate/lemon/IMG_03357.jpg  \n",
            "  inflating: new_veggie_fruit_data/base/validate/lemon/IMG_03362.jpg  \n",
            "   creating: new_veggie_fruit_data/base/validate/dragon_fruit/\n",
            "  inflating: new_veggie_fruit_data/base/validate/dragon_fruit/IMG_03388.jpg  \n",
            "  inflating: new_veggie_fruit_data/base/validate/dragon_fruit/IMG_03374.jpg  \n",
            "  inflating: new_veggie_fruit_data/base/validate/dragon_fruit/IMG_03372.jpg  \n",
            "  inflating: new_veggie_fruit_data/base/validate/dragon_fruit/IMG_03385.jpg  \n",
            "  inflating: new_veggie_fruit_data/base/validate/dragon_fruit/IMG_03390.jpg  \n",
            "  inflating: new_veggie_fruit_data/base/validate/dragon_fruit/IMG_03387.jpg  \n",
            "  inflating: new_veggie_fruit_data/base/validate/dragon_fruit/IMG_03354.jpg  \n",
            "  inflating: new_veggie_fruit_data/base/validate/dragon_fruit/IMG_03393.jpg  \n",
            "  inflating: new_veggie_fruit_data/base/validate/dragon_fruit/IMG_03357.jpg  \n",
            "  inflating: new_veggie_fruit_data/base/validate/dragon_fruit/IMG_03345.jpg  \n",
            "  inflating: new_veggie_fruit_data/base/validate/dragon_fruit/IMG_03362.jpg  \n",
            "  inflating: new_veggie_fruit_data/base/validate/dragon_fruit/IMG_03367.jpg  \n",
            "  inflating: new_veggie_fruit_data/base/validate/dragon_fruit/IMG_03356.jpg  \n",
            "  inflating: new_veggie_fruit_data/base/validate/dragon_fruit/IMG_03379.jpg  \n",
            "  inflating: new_veggie_fruit_data/base/validate/dragon_fruit/IMG_03330.jpg  \n",
            "   creating: new_veggie_fruit_data/base/validate/banana/\n",
            "  inflating: new_veggie_fruit_data/base/validate/banana/IMG_03388.jpg  \n",
            "  inflating: new_veggie_fruit_data/base/validate/banana/IMG_03335.jpg  \n",
            "  inflating: new_veggie_fruit_data/base/validate/banana/IMG_03406.jpg  \n",
            "  inflating: new_veggie_fruit_data/base/validate/banana/IMG_03337.jpg  \n",
            "  inflating: new_veggie_fruit_data/base/validate/banana/IMG_03339.jpg  \n",
            "  inflating: new_veggie_fruit_data/base/validate/banana/IMG_03347.jpg  \n",
            "  inflating: new_veggie_fruit_data/base/validate/banana/IMG_03361.jpg  \n",
            "  inflating: new_veggie_fruit_data/base/validate/banana/IMG_03399.jpg  \n",
            "  inflating: new_veggie_fruit_data/base/validate/banana/IMG_03393.jpg  \n",
            "  inflating: new_veggie_fruit_data/base/validate/banana/IMG_03391.jpg  \n",
            "  inflating: new_veggie_fruit_data/base/validate/banana/IMG_03396.jpg  \n",
            "  inflating: new_veggie_fruit_data/base/validate/banana/IMG_03357.jpg  \n",
            "  inflating: new_veggie_fruit_data/base/validate/banana/IMG_03362.jpg  \n",
            "  inflating: new_veggie_fruit_data/base/validate/banana/IMG_1193.JPG  \n",
            "  inflating: new_veggie_fruit_data/base/validate/banana/IMG_03358.jpg  \n",
            "  inflating: new_veggie_fruit_data/base/validate/banana/IMG_03356.jpg  \n",
            "  inflating: new_veggie_fruit_data/base/validate/banana/IMG_03379.jpg  \n",
            "  inflating: new_veggie_fruit_data/base/validate/banana/IMG_03405.jpg  \n",
            "   creating: new_veggie_fruit_data/base/validate/kabocha_squash/\n",
            "  inflating: new_veggie_fruit_data/base/validate/kabocha_squash/IMG_03456.jpg  \n",
            "  inflating: new_veggie_fruit_data/base/validate/kabocha_squash/IMG_03446.jpg  \n",
            "  inflating: new_veggie_fruit_data/base/validate/kabocha_squash/IMG_03451.jpg  \n",
            "  inflating: new_veggie_fruit_data/base/validate/kabocha_squash/IMG_03492.jpg  \n",
            "  inflating: new_veggie_fruit_data/base/validate/kabocha_squash/IMG_03493.jpg  \n",
            "  inflating: new_veggie_fruit_data/base/validate/kabocha_squash/IMG_03464.jpg  \n",
            "  inflating: new_veggie_fruit_data/base/validate/kabocha_squash/IMG_03476.jpg  \n",
            "  inflating: new_veggie_fruit_data/base/validate/kabocha_squash/IMG_3661.jpg  \n",
            "  inflating: new_veggie_fruit_data/base/validate/kabocha_squash/IMG_03475.jpg  \n",
            "  inflating: new_veggie_fruit_data/base/validate/kabocha_squash/IMG_03466.jpg  \n",
            "  inflating: new_veggie_fruit_data/base/validate/kabocha_squash/IMG_03490.jpg  \n",
            "  inflating: new_veggie_fruit_data/base/validate/kabocha_squash/IMG_03438.jpg  \n",
            "  inflating: new_veggie_fruit_data/base/validate/kabocha_squash/IMG_03484.jpg  \n",
            "   creating: new_veggie_fruit_data/base/validate/green_onion/\n",
            "  inflating: new_veggie_fruit_data/base/validate/green_onion/IMG_03411.jpg  \n",
            "  inflating: new_veggie_fruit_data/base/validate/green_onion/IMG_03414.jpg  \n",
            "  inflating: new_veggie_fruit_data/base/validate/green_onion/IMG_03397.jpg  \n",
            "  inflating: new_veggie_fruit_data/base/validate/green_onion/IMG_03366.jpg  \n",
            "  inflating: new_veggie_fruit_data/base/validate/green_onion/IMG_03383.jpg  \n",
            "  inflating: new_veggie_fruit_data/base/validate/green_onion/IMG_03341.jpg  \n",
            "  inflating: new_veggie_fruit_data/base/validate/green_onion/IMG_03422.jpg  \n",
            "  inflating: new_veggie_fruit_data/base/validate/green_onion/IMG_03398.jpg  \n",
            "  inflating: new_veggie_fruit_data/base/validate/green_onion/IMG_03333.jpg  \n",
            "  inflating: new_veggie_fruit_data/base/validate/green_onion/IMG_03390.jpg  \n",
            "  inflating: new_veggie_fruit_data/base/validate/green_onion/IMG_3221.jpg  \n",
            "  inflating: new_veggie_fruit_data/base/validate/green_onion/IMG_03399.jpg  \n",
            "  inflating: new_veggie_fruit_data/base/validate/green_onion/IMG_0302.jpg  \n",
            "  inflating: new_veggie_fruit_data/base/validate/green_onion/IMG_3169.jpg  \n",
            "  inflating: new_veggie_fruit_data/base/validate/green_onion/IMG_0301.jpg  \n",
            "  inflating: new_veggie_fruit_data/base/validate/green_onion/IMG_03357.jpg  \n",
            "  inflating: new_veggie_fruit_data/base/validate/green_onion/IMG_1266.JPG  \n",
            "  inflating: new_veggie_fruit_data/base/validate/green_onion/IMG_03368.jpg  \n",
            "  inflating: new_veggie_fruit_data/base/validate/green_onion/IMG_03426.jpg  \n",
            "  inflating: new_veggie_fruit_data/base/validate/green_onion/IMG_03358.jpg  \n",
            "  inflating: new_veggie_fruit_data/base/validate/green_onion/IMG_03409.jpg  \n",
            "  inflating: new_veggie_fruit_data/base/validate/green_onion/IMG_1268.JPG  \n",
            "  inflating: new_veggie_fruit_data/base/validate/green_onion/IMG_03356.jpg  \n",
            "  inflating: new_veggie_fruit_data/base/validate/green_onion/IMG_03379.jpg  \n",
            "  inflating: new_veggie_fruit_data/base/validate/green_onion/IMG_03338.jpg  \n",
            "  inflating: new_veggie_fruit_data/base/validate/green_onion/IMG_03342.jpg  \n",
            "  inflating: new_veggie_fruit_data/base/validate/green_onion/IMG_3220.jpg  \n",
            "   creating: new_veggie_fruit_data/base/validate/carrot/\n",
            "  inflating: new_veggie_fruit_data/base/validate/carrot/IMG_8664.jpg  \n",
            "  inflating: new_veggie_fruit_data/base/validate/carrot/IMG_9198.jpg  \n",
            "  inflating: new_veggie_fruit_data/base/validate/carrot/IMG_8665.jpg  \n",
            "  inflating: new_veggie_fruit_data/base/validate/carrot/IMG_3206.jpg  \n",
            "  inflating: new_veggie_fruit_data/base/validate/carrot/IMG_7224.JPG  \n",
            "  inflating: new_veggie_fruit_data/base/validate/carrot/IMG_7229.JPG  \n",
            "  inflating: new_veggie_fruit_data/base/validate/carrot/IMG_9208.jpg  \n",
            "   creating: new_veggie_fruit_data/base/validate/pomegranate/\n",
            "  inflating: new_veggie_fruit_data/base/validate/pomegranate/IMG_7303.JPG  \n",
            "  inflating: new_veggie_fruit_data/base/validate/pomegranate/IMG_7304.JPG  \n",
            "  inflating: new_veggie_fruit_data/base/validate/pomegranate/IMG_7280.JPG  \n",
            "  inflating: new_veggie_fruit_data/base/validate/pomegranate/IMG_7278.JPG  \n",
            "  inflating: new_veggie_fruit_data/base/validate/pomegranate/IMG_6621.JPG  \n",
            "  inflating: new_veggie_fruit_data/base/validate/pomegranate/IMG_7281.JPG  \n",
            "   creating: new_veggie_fruit_data/base/validate/long_bean/\n",
            "  inflating: new_veggie_fruit_data/base/validate/long_bean/IMG_6606.JPG  \n",
            "  inflating: new_veggie_fruit_data/base/validate/long_bean/IMG_6605.JPG  \n",
            "  inflating: new_veggie_fruit_data/base/validate/long_bean/IMG_6609.JPG  \n",
            "  inflating: new_veggie_fruit_data/base/validate/long_bean/IMG_7009.JPG  \n",
            "  inflating: new_veggie_fruit_data/base/validate/long_bean/IMG_7010.JPG  \n",
            "  inflating: new_veggie_fruit_data/base/validate/long_bean/IMG_5533.JPG  \n",
            "   creating: new_veggie_fruit_data/base/validate/okra/\n",
            "  inflating: new_veggie_fruit_data/base/validate/okra/IMG_8634.jpg  \n",
            "  inflating: new_veggie_fruit_data/base/validate/okra/IMG_7123.JPG  \n",
            "  inflating: new_veggie_fruit_data/base/validate/okra/IMG_2777.JPG  \n",
            "  inflating: new_veggie_fruit_data/base/validate/okra/IMG_0378.jpg  \n",
            "  inflating: new_veggie_fruit_data/base/validate/okra/IMG_7125.JPG  \n",
            "  inflating: new_veggie_fruit_data/base/validate/okra/IMG_7248.JPG  \n",
            "  inflating: new_veggie_fruit_data/base/validate/okra/IMG_8680.jpg  \n",
            "   creating: new_veggie_fruit_data/base/validate/lime/\n",
            "  inflating: new_veggie_fruit_data/base/validate/lime/IMG_2159.JPG  \n",
            "  inflating: new_veggie_fruit_data/base/validate/lime/IMG_03337.jpg  \n",
            "  inflating: new_veggie_fruit_data/base/validate/lime/IMG_03347.jpg  \n",
            "  inflating: new_veggie_fruit_data/base/validate/lime/IMG_03351.jpg  \n",
            "  inflating: new_veggie_fruit_data/base/validate/lime/IMG_03330.jpg  \n",
            "  inflating: new_veggie_fruit_data/base/validate/lime/IMG_03338.jpg  \n",
            "  inflating: new_veggie_fruit_data/base/validate/lime/IMG_03342.jpg  \n",
            "   creating: new_veggie_fruit_data/base/validate/red_chicory/\n",
            "  inflating: new_veggie_fruit_data/base/validate/red_chicory/IMG_3686.jpg  \n",
            "   creating: new_veggie_fruit_data/base/validate/yellow_peach/\n",
            "  inflating: new_veggie_fruit_data/base/validate/yellow_peach/IMG_7717.jpg  \n",
            "   creating: new_veggie_fruit_data/base/validate/corn/\n",
            "  inflating: new_veggie_fruit_data/base/validate/corn/IMG_03343.jpg  \n",
            "  inflating: new_veggie_fruit_data/base/validate/corn/IMG_1256.JPG  \n",
            "  inflating: new_veggie_fruit_data/base/validate/corn/IMG_03371.jpg  \n",
            "  inflating: new_veggie_fruit_data/base/validate/corn/IMG_03366.jpg  \n",
            "  inflating: new_veggie_fruit_data/base/validate/corn/IMG_03361.jpg  \n",
            "  inflating: new_veggie_fruit_data/base/validate/corn/IMG_03350.jpg  \n",
            "  inflating: new_veggie_fruit_data/base/validate/corn/IMG_03346.jpg  \n",
            "  inflating: new_veggie_fruit_data/base/validate/corn/IMG_03370.jpg  \n",
            "  inflating: new_veggie_fruit_data/base/validate/corn/IMG_03345.jpg  \n",
            "  inflating: new_veggie_fruit_data/base/validate/corn/IMG_03375.jpg  \n",
            "  inflating: new_veggie_fruit_data/base/validate/corn/IMG_03362.jpg  \n",
            "  inflating: new_veggie_fruit_data/base/validate/corn/IMG_03356.jpg  \n",
            "   creating: new_veggie_fruit_data/base/validate/cauliflower/\n",
            "  inflating: new_veggie_fruit_data/base/validate/cauliflower/IMG_7743.jpg  \n",
            "  inflating: new_veggie_fruit_data/base/validate/cauliflower/IMG_03381.jpg  \n",
            "  inflating: new_veggie_fruit_data/base/validate/cauliflower/IMG_03343.jpg  \n",
            "  inflating: new_veggie_fruit_data/base/validate/cauliflower/IMG_0289.jpg  \n",
            "  inflating: new_veggie_fruit_data/base/validate/cauliflower/IMG_03378.jpg  \n",
            "  inflating: new_veggie_fruit_data/base/validate/cauliflower/IMG_03383.jpg  \n",
            "  inflating: new_veggie_fruit_data/base/validate/cauliflower/IMG_03333.jpg  \n",
            "  inflating: new_veggie_fruit_data/base/validate/cauliflower/IMG_03390.jpg  \n",
            "  inflating: new_veggie_fruit_data/base/validate/cauliflower/IMG_03355.jpg  \n",
            "  inflating: new_veggie_fruit_data/base/validate/cauliflower/IMG_03363.jpg  \n",
            "  inflating: new_veggie_fruit_data/base/validate/cauliflower/IMG_03387.jpg  \n",
            "  inflating: new_veggie_fruit_data/base/validate/cauliflower/IMG_03368.jpg  \n",
            "  inflating: new_veggie_fruit_data/base/validate/cauliflower/IMG_3237.jpg  \n",
            "  inflating: new_veggie_fruit_data/base/validate/cauliflower/IMG_03358.jpg  \n",
            "  inflating: new_veggie_fruit_data/base/validate/cauliflower/IMG_03367.jpg  \n",
            "  inflating: new_veggie_fruit_data/base/validate/cauliflower/IMG_3197.jpg  \n",
            "  inflating: new_veggie_fruit_data/base/validate/cauliflower/IMG_03382.jpg  \n",
            "  inflating: new_veggie_fruit_data/base/validate/cauliflower/IMG_9177.jpg  \n",
            "  inflating: new_veggie_fruit_data/base/validate/cauliflower/IMG_03334.jpg  \n",
            "   creating: new_veggie_fruit_data/base/validate/chinese_cabbage/\n",
            "  inflating: new_veggie_fruit_data/base/validate/chinese_cabbage/IMG_9156.jpg  \n",
            "   creating: new_veggie_fruit_data/base/validate/broccoli/\n",
            "  inflating: new_veggie_fruit_data/base/validate/broccoli/IMG_3175.jpg  \n",
            "  inflating: new_veggie_fruit_data/base/validate/broccoli/IMG_03340.jpg  \n",
            "  inflating: new_veggie_fruit_data/base/validate/broccoli/IMG_03397.jpg  \n",
            "  inflating: new_veggie_fruit_data/base/validate/broccoli/IMG_1275.JPG  \n",
            "  inflating: new_veggie_fruit_data/base/validate/broccoli/IMG_03351.jpg  \n",
            "  inflating: new_veggie_fruit_data/base/validate/broccoli/IMG_03398.jpg  \n",
            "  inflating: new_veggie_fruit_data/base/validate/broccoli/IMG_03385.jpg  \n",
            "  inflating: new_veggie_fruit_data/base/validate/broccoli/IMG_9191.jpg  \n",
            "  inflating: new_veggie_fruit_data/base/validate/broccoli/IMG_03387.jpg  \n",
            "  inflating: new_veggie_fruit_data/base/validate/broccoli/IMG_03399.jpg  \n",
            "  inflating: new_veggie_fruit_data/base/validate/broccoli/IMG_3210.jpg  \n",
            "  inflating: new_veggie_fruit_data/base/validate/broccoli/IMG_03348.jpg  \n",
            "  inflating: new_veggie_fruit_data/base/validate/broccoli/IMG_3211.jpg  \n",
            "  inflating: new_veggie_fruit_data/base/validate/broccoli/IMG_0320.jpg  \n",
            "  inflating: new_veggie_fruit_data/base/validate/broccoli/IMG_0319.jpg  \n",
            "  inflating: new_veggie_fruit_data/base/validate/broccoli/IMG_03403.jpg  \n",
            "  inflating: new_veggie_fruit_data/base/validate/broccoli/IMG_03386.jpg  \n",
            "  inflating: new_veggie_fruit_data/base/validate/broccoli/IMG_03375.jpg  \n",
            "  inflating: new_veggie_fruit_data/base/validate/broccoli/IMG_03368.jpg  \n",
            "  inflating: new_veggie_fruit_data/base/validate/broccoli/IMG_03392.jpg  \n",
            "  inflating: new_veggie_fruit_data/base/validate/broccoli/IMG_9211.jpg  \n",
            "  inflating: new_veggie_fruit_data/base/validate/broccoli/IMG_03342.jpg  \n",
            "  inflating: new_veggie_fruit_data/base/validate/broccoli/IMG_03382.jpg  \n",
            "  inflating: new_veggie_fruit_data/base/validate/broccoli/IMG_3177.jpg  \n",
            "   creating: new_veggie_fruit_data/base/validate/strawberry/\n",
            "  inflating: new_veggie_fruit_data/base/validate/strawberry/IMG_8766.jpg  \n",
            "  inflating: new_veggie_fruit_data/base/validate/strawberry/IMG_7897.jpg  \n",
            "  inflating: new_veggie_fruit_data/base/validate/strawberry/IMG_7903.jpg  \n",
            "  inflating: new_veggie_fruit_data/base/validate/strawberry/IMG_8662.jpg  \n",
            "   creating: new_veggie_fruit_data/base/validate/fava_beans/\n",
            "  inflating: new_veggie_fruit_data/base/validate/fava_beans/IMG_5391.JPG  \n",
            "   creating: new_veggie_fruit_data/base/validate/white_peach/\n",
            "  inflating: new_veggie_fruit_data/base/validate/white_peach/IMG_7267.JPG  \n",
            "  inflating: new_veggie_fruit_data/base/validate/white_peach/IMG_7708.jpg  \n",
            "   creating: new_veggie_fruit_data/base/validate/kale/\n",
            "  inflating: new_veggie_fruit_data/base/validate/kale/IMG_6882.JPG  \n",
            "  inflating: new_veggie_fruit_data/base/validate/kale/IMG_7289.JPG  \n",
            "  inflating: new_veggie_fruit_data/base/validate/kale/IMG_7286.JPG  \n",
            "  inflating: new_veggie_fruit_data/base/validate/kale/IMG_6976.JPG  \n",
            "   creating: new_veggie_fruit_data/base/validate/green_bean/\n",
            "  inflating: new_veggie_fruit_data/base/validate/green_bean/IMG_6970.JPG  \n",
            "  inflating: new_veggie_fruit_data/base/validate/green_bean/IMG_6969.JPG  \n",
            "  inflating: new_veggie_fruit_data/base/validate/green_bean/IMG_03355.jpg  \n",
            "  inflating: new_veggie_fruit_data/base/validate/green_bean/IMG_03353.jpg  \n",
            "  inflating: new_veggie_fruit_data/base/validate/green_bean/IMG_03350.jpg  \n",
            "  inflating: new_veggie_fruit_data/base/validate/green_bean/IMG_6971.JPG  \n",
            "  inflating: new_veggie_fruit_data/base/validate/green_bean/IMG_03356.jpg  \n",
            "  inflating: new_veggie_fruit_data/base/validate/green_bean/IMG_03338.jpg  \n",
            "   creating: new_veggie_fruit_data/base/validate/ginger/\n",
            "  inflating: new_veggie_fruit_data/base/validate/ginger/IMG_4879.JPG  \n",
            "  inflating: new_veggie_fruit_data/base/validate/ginger/IMG_2214.JPG  \n",
            "  inflating: new_veggie_fruit_data/base/validate/ginger/IMG_1304.JPG  \n",
            "  inflating: new_veggie_fruit_data/base/validate/ginger/IMG_2213.JPG  \n",
            "   creating: new_veggie_fruit_data/base/validate/bok_choy/\n",
            "  inflating: new_veggie_fruit_data/base/validate/bok_choy/IMG_5383.JPG  \n",
            "  inflating: new_veggie_fruit_data/base/validate/bok_choy/IMG_3230.jpg  \n",
            "  inflating: new_veggie_fruit_data/base/validate/bok_choy/IMG_0480.jpg  \n",
            "  inflating: new_veggie_fruit_data/base/validate/bok_choy/IMG_3228.jpg  \n",
            "  inflating: new_veggie_fruit_data/base/validate/bok_choy/IMG_5380.JPG  \n",
            "  inflating: new_veggie_fruit_data/base/validate/bok_choy/IMG_0386.jpg  \n",
            "  inflating: new_veggie_fruit_data/base/validate/bok_choy/IMG_3216.jpg  \n",
            "   creating: new_veggie_fruit_data/base/validate/redbor_kale/\n",
            "  inflating: new_veggie_fruit_data/base/validate/redbor_kale/IMG_3732.jpg  \n",
            "   creating: new_veggie_fruit_data/base/validate/red_onion/\n",
            "  inflating: new_veggie_fruit_data/base/validate/red_onion/IMG_03343.jpg  \n",
            "  inflating: new_veggie_fruit_data/base/validate/red_onion/IMG_1297.JPG  \n",
            "  inflating: new_veggie_fruit_data/base/validate/red_onion/IMG_4948.JPG  \n",
            "  inflating: new_veggie_fruit_data/base/validate/red_onion/IMG_1295.JPG  \n",
            "  inflating: new_veggie_fruit_data/base/validate/red_onion/IMG_03351.jpg  \n",
            "  inflating: new_veggie_fruit_data/base/validate/red_onion/IMG_03372.jpg  \n",
            "  inflating: new_veggie_fruit_data/base/validate/red_onion/IMG_03348.jpg  \n",
            "  inflating: new_veggie_fruit_data/base/validate/red_onion/IMG_4947.JPG  \n",
            "  inflating: new_veggie_fruit_data/base/validate/red_onion/IMG_03345.jpg  \n",
            "  inflating: new_veggie_fruit_data/base/validate/red_onion/IMG_03368.jpg  \n",
            "  inflating: new_veggie_fruit_data/base/validate/red_onion/IMG_03352.jpg  \n",
            "  inflating: new_veggie_fruit_data/base/validate/red_onion/IMG_03367.jpg  \n",
            "  inflating: new_veggie_fruit_data/base/validate/red_onion/IMG_03330.jpg  \n",
            "  inflating: new_veggie_fruit_data/base/validate/red_onion/IMG_03338.jpg  \n",
            "  inflating: new_veggie_fruit_data/base/validate/red_onion/IMG_03382.jpg  \n",
            "   creating: new_veggie_fruit_data/base/validate/butternut/\n",
            "  inflating: new_veggie_fruit_data/base/validate/butternut/IMG_5362.JPG  \n",
            "   creating: new_veggie_fruit_data/base/validate/mandarin/\n",
            "  inflating: new_veggie_fruit_data/base/validate/mandarin/IMG_4954.JPG  \n",
            "  inflating: new_veggie_fruit_data/base/validate/mandarin/IMG_4952.JPG  \n",
            "  inflating: new_veggie_fruit_data/base/validate/mandarin/IMG_9229.jpg  \n",
            "  inflating: new_veggie_fruit_data/base/validate/mandarin/IMG_5332.JPG  \n",
            "   creating: new_veggie_fruit_data/base/validate/persimmon/\n",
            "  inflating: new_veggie_fruit_data/base/validate/persimmon/IMG_9222.jpg  \n",
            "   creating: new_veggie_fruit_data/base/validate/artichoke/\n",
            "  inflating: new_veggie_fruit_data/base/validate/artichoke/IMG_7222.JPG  \n",
            "  inflating: new_veggie_fruit_data/base/validate/artichoke/IMG_5358.JPG  \n",
            "  inflating: new_veggie_fruit_data/base/validate/artichoke/IMG_5357.JPG  \n",
            "   creating: new_veggie_fruit_data/base/validate/avocado/\n",
            "  inflating: new_veggie_fruit_data/base/validate/avocado/IMG_1919.JPG  \n",
            "  inflating: new_veggie_fruit_data/base/validate/avocado/IMG_1923.JPG  \n",
            "  inflating: new_veggie_fruit_data/base/validate/avocado/IMG_1916.JPG  \n",
            "  inflating: new_veggie_fruit_data/base/validate/avocado/IMG_03351.jpg  \n",
            "  inflating: new_veggie_fruit_data/base/validate/avocado/IMG_03350.jpg  \n",
            "  inflating: new_veggie_fruit_data/base/validate/avocado/IMG_03346.jpg  \n",
            "  inflating: new_veggie_fruit_data/base/validate/avocado/IMG_03357.jpg  \n",
            "  inflating: new_veggie_fruit_data/base/validate/avocado/IMG_03364.jpg  \n",
            "  inflating: new_veggie_fruit_data/base/validate/avocado/IMG_1920.JPG  \n",
            "  inflating: new_veggie_fruit_data/base/validate/avocado/IMG_03358.jpg  \n",
            "  inflating: new_veggie_fruit_data/base/validate/avocado/IMG_03342.jpg  \n",
            "   creating: new_veggie_fruit_data/base/validate/napa_cabbage/\n",
            "  inflating: new_veggie_fruit_data/base/validate/napa_cabbage/IMG_0411.jpg  \n",
            "  inflating: new_veggie_fruit_data/base/validate/napa_cabbage/IMG_0408.jpg  \n",
            "   creating: new_veggie_fruit_data/base/validate/pineapple/\n",
            "  inflating: new_veggie_fruit_data/base/validate/pineapple/IMG_03347.jpg  \n",
            "  inflating: new_veggie_fruit_data/base/validate/pineapple/IMG_03341.jpg  \n",
            "  inflating: new_veggie_fruit_data/base/validate/pineapple/IMG_1208.JPG  \n",
            "  inflating: new_veggie_fruit_data/base/validate/pineapple/IMG_03350.jpg  \n",
            "  inflating: new_veggie_fruit_data/base/validate/pineapple/IMG_4872.JPG  \n",
            "  inflating: new_veggie_fruit_data/base/validate/pineapple/IMG_0101.jpg  \n",
            "  inflating: new_veggie_fruit_data/base/validate/pineapple/IMG_03345.jpg  \n",
            "  inflating: new_veggie_fruit_data/base/validate/pineapple/IMG_0132.jpg  \n",
            "  inflating: new_veggie_fruit_data/base/validate/pineapple/IMG_03368.jpg  \n",
            "  inflating: new_veggie_fruit_data/base/validate/pineapple/IMG_03364.jpg  \n",
            "  inflating: new_veggie_fruit_data/base/validate/pineapple/IMG_03358.jpg  \n",
            "   creating: new_veggie_fruit_data/base/validate/white_nectarine/\n",
            "  inflating: new_veggie_fruit_data/base/validate/white_nectarine/IMG_7238.JPG  \n",
            "  inflating: new_veggie_fruit_data/base/validate/white_nectarine/IMG_7236.JPG  \n",
            "  inflating: new_veggie_fruit_data/base/validate/white_nectarine/IMG_7272.JPG  \n",
            "   creating: new_veggie_fruit_data/base/validate/papaya/\n",
            "  inflating: new_veggie_fruit_data/base/validate/papaya/IMG_03388.jpg  \n",
            "  inflating: new_veggie_fruit_data/base/validate/papaya/IMG_03397.jpg  \n",
            "  inflating: new_veggie_fruit_data/base/validate/papaya/IMG_03339.jpg  \n",
            "  inflating: new_veggie_fruit_data/base/validate/papaya/IMG_03378.jpg  \n",
            "  inflating: new_veggie_fruit_data/base/validate/papaya/IMG_03383.jpg  \n",
            "  inflating: new_veggie_fruit_data/base/validate/papaya/IMG_1231.JPG  \n",
            "  inflating: new_veggie_fruit_data/base/validate/papaya/IMG_03390.jpg  \n",
            "  inflating: new_veggie_fruit_data/base/validate/papaya/IMG_03355.jpg  \n",
            "  inflating: new_veggie_fruit_data/base/validate/papaya/IMG_03391.jpg  \n",
            "  inflating: new_veggie_fruit_data/base/validate/papaya/IMG_03396.jpg  \n",
            "  inflating: new_veggie_fruit_data/base/validate/papaya/IMG_03345.jpg  \n",
            "  inflating: new_veggie_fruit_data/base/validate/papaya/IMG_1234.JPG  \n",
            "  inflating: new_veggie_fruit_data/base/validate/papaya/IMG_03368.jpg  \n",
            "  inflating: new_veggie_fruit_data/base/validate/papaya/IMG_4938.JPG  \n",
            "  inflating: new_veggie_fruit_data/base/validate/papaya/IMG_03364.jpg  \n",
            "  inflating: new_veggie_fruit_data/base/validate/papaya/IMG_03358.jpg  \n",
            "  inflating: new_veggie_fruit_data/base/validate/papaya/IMG_4941.JPG  \n",
            "  inflating: new_veggie_fruit_data/base/validate/papaya/IMG_1213.JPG  \n",
            "  inflating: new_veggie_fruit_data/base/validate/papaya/IMG_03379.jpg  \n",
            "   creating: new_veggie_fruit_data/base/validate/cherry_tomato/\n",
            "  inflating: new_veggie_fruit_data/base/validate/cherry_tomato/IMG_7913.jpg  \n",
            "  inflating: new_veggie_fruit_data/base/validate/cherry_tomato/IMG_7793.jpg  \n",
            "  inflating: new_veggie_fruit_data/base/validate/cherry_tomato/IMG_2668.JPG  \n",
            "   creating: new_veggie_fruit_data/base/validate/bitter_melon/\n",
            "  inflating: new_veggie_fruit_data/base/validate/bitter_melon/IMG_8754.jpg  \n",
            "  inflating: new_veggie_fruit_data/base/validate/bitter_melon/IMG_7862.jpg  \n",
            "  inflating: new_veggie_fruit_data/base/validate/bitter_melon/IMG_7116.JPG  \n",
            "  inflating: new_veggie_fruit_data/base/validate/bitter_melon/IMG_03347.jpg  \n",
            "  inflating: new_veggie_fruit_data/base/validate/bitter_melon/IMG_6973.JPG  \n",
            "  inflating: new_veggie_fruit_data/base/validate/bitter_melon/IMG_03371.jpg  \n",
            "  inflating: new_veggie_fruit_data/base/validate/bitter_melon/IMG_03346.jpg  \n",
            "  inflating: new_veggie_fruit_data/base/validate/bitter_melon/IMG_7119.JPG  \n",
            "  inflating: new_veggie_fruit_data/base/validate/bitter_melon/IMG_03368.jpg  \n",
            "  inflating: new_veggie_fruit_data/base/validate/bitter_melon/IMG_03365.jpg  \n",
            "  inflating: new_veggie_fruit_data/base/validate/bitter_melon/IMG_03367.jpg  \n",
            "  inflating: new_veggie_fruit_data/base/validate/bitter_melon/IMG_7864.jpg  \n",
            "  inflating: new_veggie_fruit_data/base/validate/bitter_melon/IMG_03356.jpg  \n",
            "  inflating: new_veggie_fruit_data/base/validate/bitter_melon/IMG_7130.JPG  \n",
            "   creating: new_veggie_fruit_data/base/validate/red_radishes/\n",
            "  inflating: new_veggie_fruit_data/base/validate/red_radishes/IMG_5352.JPG  \n",
            "   creating: new_veggie_fruit_data/base/validate/peanut/\n",
            "  inflating: new_veggie_fruit_data/base/validate/peanut/IMG_7086.JPG  \n",
            "  inflating: new_veggie_fruit_data/base/validate/peanut/IMG_7208.JPG  \n",
            "  inflating: new_veggie_fruit_data/base/validate/peanut/IMG_2745.JPG  \n",
            "  inflating: new_veggie_fruit_data/base/validate/peanut/IMG_7001.JPG  \n",
            "   creating: new_veggie_fruit_data/fewshot/\n",
            "   creating: new_veggie_fruit_data/fewshot/train/\n",
            "   creating: new_veggie_fruit_data/fewshot/train/lemongrass/\n",
            "  inflating: new_veggie_fruit_data/fewshot/train/lemongrass/IMG_5562.JPG  \n",
            "  inflating: new_veggie_fruit_data/fewshot/train/lemongrass/IMG_5560.JPG  \n",
            "  inflating: new_veggie_fruit_data/fewshot/train/lemongrass/IMG_7015.JPG  \n",
            "  inflating: new_veggie_fruit_data/fewshot/train/lemongrass/IMG_7017.JPG  \n",
            "  inflating: new_veggie_fruit_data/fewshot/train/lemongrass/IMG_7012.JPG  \n",
            "  inflating: new_veggie_fruit_data/fewshot/train/lemongrass/IMG_7014.JPG  \n",
            "  inflating: new_veggie_fruit_data/fewshot/train/lemongrass/IMG_7019.JPG  \n",
            "  inflating: new_veggie_fruit_data/fewshot/train/lemongrass/IMG_7013.JPG  \n",
            "  inflating: new_veggie_fruit_data/fewshot/train/lemongrass/IMG_5559.JPG  \n",
            "  inflating: new_veggie_fruit_data/fewshot/train/lemongrass/IMG_5556.JPG  \n",
            "  inflating: new_veggie_fruit_data/fewshot/train/lemongrass/IMG_7011.JPG  \n",
            "  inflating: new_veggie_fruit_data/fewshot/train/lemongrass/IMG_5558.JPG  \n",
            "  inflating: new_veggie_fruit_data/fewshot/train/lemongrass/IMG_5554.JPG  \n",
            "  inflating: new_veggie_fruit_data/fewshot/train/lemongrass/IMG_7018.JPG  \n",
            "   creating: new_veggie_fruit_data/fewshot/train/lacinato_kale/\n",
            "  inflating: new_veggie_fruit_data/fewshot/train/lacinato_kale/IMG_3718.jpg  \n",
            "  inflating: new_veggie_fruit_data/fewshot/train/lacinato_kale/IMG_3716.jpg  \n",
            "   creating: new_veggie_fruit_data/fewshot/train/beets/\n",
            "  inflating: new_veggie_fruit_data/fewshot/train/beets/IMG_5374.JPG  \n",
            "  inflating: new_veggie_fruit_data/fewshot/train/beets/IMG_3755.JPG  \n",
            "  inflating: new_veggie_fruit_data/fewshot/train/beets/IMG_5377.JPG  \n",
            "  inflating: new_veggie_fruit_data/fewshot/train/beets/IMG_3754.JPG  \n",
            "  inflating: new_veggie_fruit_data/fewshot/train/beets/IMG_3750.JPG  \n",
            "  inflating: new_veggie_fruit_data/fewshot/train/beets/IMG_3756.JPG  \n",
            "  inflating: new_veggie_fruit_data/fewshot/train/beets/IMG_3753.JPG  \n",
            "  inflating: new_veggie_fruit_data/fewshot/train/beets/IMG_5375.JPG  \n",
            "   creating: new_veggie_fruit_data/fewshot/train/potato/\n",
            "  inflating: new_veggie_fruit_data/fewshot/train/potato/IMG_5402.JPG  \n",
            "  inflating: new_veggie_fruit_data/fewshot/train/potato/IMG_5404.JPG  \n",
            "  inflating: new_veggie_fruit_data/fewshot/train/potato/IMG_5401.JPG  \n",
            "  inflating: new_veggie_fruit_data/fewshot/train/potato/IMG_5403.JPG  \n",
            "   creating: new_veggie_fruit_data/fewshot/train/daikon/\n",
            "  inflating: new_veggie_fruit_data/fewshot/train/daikon/IMG_4919.JPG  \n",
            "  inflating: new_veggie_fruit_data/fewshot/train/daikon/IMG_1251.JPG  \n",
            "  inflating: new_veggie_fruit_data/fewshot/train/daikon/IMG_1249.JPG  \n",
            "  inflating: new_veggie_fruit_data/fewshot/train/daikon/IMG_4920.JPG  \n",
            "  inflating: new_veggie_fruit_data/fewshot/train/daikon/IMG_4922.JPG  \n",
            "  inflating: new_veggie_fruit_data/fewshot/train/daikon/IMG_1250.JPG  \n",
            "  inflating: new_veggie_fruit_data/fewshot/train/daikon/IMG_2747.JPG  \n",
            "  inflating: new_veggie_fruit_data/fewshot/train/daikon/IMG_4921.JPG  \n",
            "   creating: new_veggie_fruit_data/fewshot/train/english_peas/\n",
            "  inflating: new_veggie_fruit_data/fewshot/train/english_peas/IMG_5411.JPG  \n",
            "  inflating: new_veggie_fruit_data/fewshot/train/english_peas/IMG_5410.JPG  \n",
            "  inflating: new_veggie_fruit_data/fewshot/train/english_peas/IMG_5412.JPG  \n",
            "  inflating: new_veggie_fruit_data/fewshot/train/english_peas/IMG_5409.JPG  \n",
            "   creating: new_veggie_fruit_data/fewshot/train/savoy_cabbage/\n",
            "  inflating: new_veggie_fruit_data/fewshot/train/savoy_cabbage/IMG_3692.jpg  \n",
            "  inflating: new_veggie_fruit_data/fewshot/train/savoy_cabbage/IMG_3691.jpg  \n",
            "   creating: new_veggie_fruit_data/fewshot/train/curly_leaf_kale/\n",
            "  inflating: new_veggie_fruit_data/fewshot/train/curly_leaf_kale/IMG_3713.jpg  \n",
            "  inflating: new_veggie_fruit_data/fewshot/train/curly_leaf_kale/IMG_3711.jpg  \n",
            "   creating: new_veggie_fruit_data/fewshot/train/dandelion_greens/\n",
            "  inflating: new_veggie_fruit_data/fewshot/train/dandelion_greens/IMG_3739.jpg  \n",
            "  inflating: new_veggie_fruit_data/fewshot/train/dandelion_greens/IMG_3741.jpg  \n",
            "   creating: new_veggie_fruit_data/fewshot/train/leeks/\n",
            "  inflating: new_veggie_fruit_data/fewshot/train/leeks/IMG_3746.JPG  \n",
            "  inflating: new_veggie_fruit_data/fewshot/train/leeks/IMG_3743.JPG  \n",
            "  inflating: new_veggie_fruit_data/fewshot/train/leeks/IMG_3744.JPG  \n",
            "  inflating: new_veggie_fruit_data/fewshot/train/leeks/IMG_3747.JPG  \n",
            "   creating: new_veggie_fruit_data/fewshot/train/asparagus/\n",
            "  inflating: new_veggie_fruit_data/fewshot/train/asparagus/IMG_1888.JPG  \n",
            "  inflating: new_veggie_fruit_data/fewshot/train/asparagus/IMG_1893.JPG  \n",
            "  inflating: new_veggie_fruit_data/fewshot/train/asparagus/IMG_1890.JPG  \n",
            "  inflating: new_veggie_fruit_data/fewshot/train/asparagus/IMG_1897.JPG  \n",
            "  inflating: new_veggie_fruit_data/fewshot/train/asparagus/IMG_1894.JPG  \n",
            "  inflating: new_veggie_fruit_data/fewshot/train/asparagus/IMG_1895.JPG  \n",
            "  inflating: new_veggie_fruit_data/fewshot/train/asparagus/IMG_1896.JPG  \n",
            "  inflating: new_veggie_fruit_data/fewshot/train/asparagus/IMG_1898.JPG  \n",
            "  inflating: new_veggie_fruit_data/fewshot/train/asparagus/IMG_1892.JPG  \n",
            "  inflating: new_veggie_fruit_data/fewshot/train/asparagus/IMG_1886.JPG  \n",
            "   creating: new_veggie_fruit_data/fewshot/train/baby_head_lettuce/\n",
            "  inflating: new_veggie_fruit_data/fewshot/train/baby_head_lettuce/IMG_5372.JPG  \n",
            "  inflating: new_veggie_fruit_data/fewshot/train/baby_head_lettuce/IMG_5371.JPG  \n",
            "  inflating: new_veggie_fruit_data/fewshot/train/baby_head_lettuce/IMG_5370.JPG  \n",
            "  inflating: new_veggie_fruit_data/fewshot/train/baby_head_lettuce/IMG_5369.JPG  \n",
            "   creating: new_veggie_fruit_data/fewshot/train/korean_radish/\n",
            "  inflating: new_veggie_fruit_data/fewshot/train/korean_radish/IMG_1281.JPG  \n",
            "  inflating: new_veggie_fruit_data/fewshot/train/korean_radish/IMG_1279.JPG  \n",
            "  inflating: new_veggie_fruit_data/fewshot/train/korean_radish/IMG_1276.JPG  \n",
            "  inflating: new_veggie_fruit_data/fewshot/train/korean_radish/IMG_1280.JPG  \n",
            "  inflating: new_veggie_fruit_data/fewshot/train/korean_radish/IMG_1278.JPG  \n",
            "  inflating: new_veggie_fruit_data/fewshot/train/korean_radish/IMG_1283.JPG  \n",
            "   creating: new_veggie_fruit_data/fewshot/train/rainbow_chard/\n",
            "  inflating: new_veggie_fruit_data/fewshot/train/rainbow_chard/IMG_3725.jpg  \n",
            "   creating: new_veggie_fruit_data/fewshot/train/sugar_snap_peas/\n",
            "  inflating: new_veggie_fruit_data/fewshot/train/sugar_snap_peas/IMG_5385.JPG  \n",
            "  inflating: new_veggie_fruit_data/fewshot/train/sugar_snap_peas/IMG_5387.JPG  \n",
            "   creating: new_veggie_fruit_data/fewshot/train/collard/\n",
            "  inflating: new_veggie_fruit_data/fewshot/train/collard/IMG_3737.jpg  \n",
            "  inflating: new_veggie_fruit_data/fewshot/train/collard/IMG_3735.jpg  \n",
            "   creating: new_veggie_fruit_data/fewshot/train/onion/\n",
            "  inflating: new_veggie_fruit_data/fewshot/train/onion/IMG_3438.jpg  \n",
            "  inflating: new_veggie_fruit_data/fewshot/train/onion/IMG_7781.jpg  \n",
            "  inflating: new_veggie_fruit_data/fewshot/train/onion/IMG_3353.jpg  \n",
            "  inflating: new_veggie_fruit_data/fewshot/train/onion/IMG_3355.jpg  \n",
            "  inflating: new_veggie_fruit_data/fewshot/train/onion/IMG_0295.jpg  \n",
            "  inflating: new_veggie_fruit_data/fewshot/train/onion/IMG_9261.jpg  \n",
            "  inflating: new_veggie_fruit_data/fewshot/train/onion/IMG_7782.jpg  \n",
            "  inflating: new_veggie_fruit_data/fewshot/train/onion/IMG_7757.jpg  \n",
            "  inflating: new_veggie_fruit_data/fewshot/train/onion/IMG_0297.jpg  \n",
            "  inflating: new_veggie_fruit_data/fewshot/train/onion/IMG_3354.jpg  \n",
            "  inflating: new_veggie_fruit_data/fewshot/train/onion/IMG_7758.jpg  \n",
            "  inflating: new_veggie_fruit_data/fewshot/train/onion/IMG_0296.jpg  \n",
            "  inflating: new_veggie_fruit_data/fewshot/train/onion/IMG_3441.jpg  \n",
            "  inflating: new_veggie_fruit_data/fewshot/train/onion/IMG_9260.jpg  \n",
            "   creating: new_veggie_fruit_data/fewshot/train/summer_squash/\n",
            "  inflating: new_veggie_fruit_data/fewshot/train/summer_squash/IMG_5414.JPG  \n",
            "  inflating: new_veggie_fruit_data/fewshot/train/summer_squash/IMG_5417.JPG  \n",
            "  inflating: new_veggie_fruit_data/fewshot/train/summer_squash/IMG_5418.JPG  \n",
            "  inflating: new_veggie_fruit_data/fewshot/train/summer_squash/IMG_5420.JPG  \n",
            "  inflating: new_veggie_fruit_data/fewshot/train/summer_squash/IMG_5416.JPG  \n",
            "  inflating: new_veggie_fruit_data/fewshot/train/summer_squash/IMG_5419.JPG  \n",
            "   creating: new_veggie_fruit_data/fewshot/train/cantaloupe/\n",
            "  inflating: new_veggie_fruit_data/fewshot/train/cantaloupe/IMG_2134.JPG  \n",
            "  inflating: new_veggie_fruit_data/fewshot/train/cantaloupe/IMG_2136.JPG  \n",
            "  inflating: new_veggie_fruit_data/fewshot/train/cantaloupe/IMG_2133.JPG  \n",
            "  inflating: new_veggie_fruit_data/fewshot/train/cantaloupe/IMG_2137.JPG  \n",
            "  inflating: new_veggie_fruit_data/fewshot/train/cantaloupe/IMG_2132.JPG  \n",
            "  inflating: new_veggie_fruit_data/fewshot/train/cantaloupe/IMG_2135.JPG  \n",
            "   creating: new_veggie_fruit_data/fewshot/train/cilantro/\n",
            "  inflating: new_veggie_fruit_data/fewshot/train/cilantro/IMG_9181.jpg  \n",
            "  inflating: new_veggie_fruit_data/fewshot/train/cilantro/IMG_9180.jpg  \n",
            "   creating: new_veggie_fruit_data/fewshot/validate/\n",
            "   creating: new_veggie_fruit_data/fewshot/validate/lemongrass/\n",
            "  inflating: new_veggie_fruit_data/fewshot/validate/lemongrass/IMG_5557.JPG  \n",
            "  inflating: new_veggie_fruit_data/fewshot/validate/lemongrass/IMG_5555.JPG  \n",
            "  inflating: new_veggie_fruit_data/fewshot/validate/lemongrass/IMG_7016.JPG  \n",
            "  inflating: new_veggie_fruit_data/fewshot/validate/lemongrass/IMG_5561.JPG  \n",
            "   creating: new_veggie_fruit_data/fewshot/validate/lacinato_kale/\n",
            "  inflating: new_veggie_fruit_data/fewshot/validate/lacinato_kale/IMG_3717.jpg  \n",
            "   creating: new_veggie_fruit_data/fewshot/validate/beets/\n",
            "  inflating: new_veggie_fruit_data/fewshot/validate/beets/IMG_5376.JPG  \n",
            "  inflating: new_veggie_fruit_data/fewshot/validate/beets/IMG_3751.JPG  \n",
            "   creating: new_veggie_fruit_data/fewshot/validate/potato/\n",
            "  inflating: new_veggie_fruit_data/fewshot/validate/potato/IMG_5405.JPG  \n",
            "   creating: new_veggie_fruit_data/fewshot/validate/daikon/\n",
            "  inflating: new_veggie_fruit_data/fewshot/validate/daikon/IMG_4917.JPG  \n",
            "  inflating: new_veggie_fruit_data/fewshot/validate/daikon/IMG_4918.JPG  \n",
            "   creating: new_veggie_fruit_data/fewshot/validate/english_peas/\n",
            "  inflating: new_veggie_fruit_data/fewshot/validate/english_peas/IMG_5407.JPG  \n",
            "  inflating: new_veggie_fruit_data/fewshot/validate/english_peas/IMG_5408.JPG  \n",
            "   creating: new_veggie_fruit_data/fewshot/validate/savoy_cabbage/\n",
            "  inflating: new_veggie_fruit_data/fewshot/validate/savoy_cabbage/IMG_3690.jpg  \n",
            "   creating: new_veggie_fruit_data/fewshot/validate/curly_leaf_kale/\n",
            "  inflating: new_veggie_fruit_data/fewshot/validate/curly_leaf_kale/IMG_3712.jpg  \n",
            "   creating: new_veggie_fruit_data/fewshot/validate/dandelion_greens/\n",
            "  inflating: new_veggie_fruit_data/fewshot/validate/dandelion_greens/IMG_3740.jpg  \n",
            "   creating: new_veggie_fruit_data/fewshot/validate/leeks/\n",
            "  inflating: new_veggie_fruit_data/fewshot/validate/leeks/IMG_3745.JPG  \n",
            "   creating: new_veggie_fruit_data/fewshot/validate/asparagus/\n",
            "  inflating: new_veggie_fruit_data/fewshot/validate/asparagus/IMG_1891.JPG  \n",
            "  inflating: new_veggie_fruit_data/fewshot/validate/asparagus/IMG_1889.JPG  \n",
            "  inflating: new_veggie_fruit_data/fewshot/validate/asparagus/IMG_1887.JPG  \n",
            "   creating: new_veggie_fruit_data/fewshot/validate/baby_head_lettuce/\n",
            "  inflating: new_veggie_fruit_data/fewshot/validate/baby_head_lettuce/IMG_5368.JPG  \n",
            "   creating: new_veggie_fruit_data/fewshot/validate/korean_radish/\n",
            "  inflating: new_veggie_fruit_data/fewshot/validate/korean_radish/IMG_1282.JPG  \n",
            "  inflating: new_veggie_fruit_data/fewshot/validate/korean_radish/IMG_1277.JPG  \n",
            "   creating: new_veggie_fruit_data/fewshot/validate/rainbow_chard/\n",
            "  inflating: new_veggie_fruit_data/fewshot/validate/rainbow_chard/IMG_3723.jpg  \n",
            "   creating: new_veggie_fruit_data/fewshot/validate/sugar_snap_peas/\n",
            "  inflating: new_veggie_fruit_data/fewshot/validate/sugar_snap_peas/IMG_5386.JPG  \n",
            "   creating: new_veggie_fruit_data/fewshot/validate/collard/\n",
            "  inflating: new_veggie_fruit_data/fewshot/validate/collard/IMG_3736.jpg  \n",
            "   creating: new_veggie_fruit_data/fewshot/validate/onion/\n",
            "  inflating: new_veggie_fruit_data/fewshot/validate/onion/IMG_9259.jpg  \n",
            "  inflating: new_veggie_fruit_data/fewshot/validate/onion/IMG_7755.jpg  \n",
            "  inflating: new_veggie_fruit_data/fewshot/validate/onion/IMG_3437.jpg  \n",
            "  inflating: new_veggie_fruit_data/fewshot/validate/onion/IMG_3436.jpg  \n",
            "   creating: new_veggie_fruit_data/fewshot/validate/summer_squash/\n",
            "  inflating: new_veggie_fruit_data/fewshot/validate/summer_squash/IMG_5415.JPG  \n",
            "  inflating: new_veggie_fruit_data/fewshot/validate/summer_squash/IMG_5421.JPG  \n",
            "   creating: new_veggie_fruit_data/fewshot/validate/cantaloupe/\n",
            "  inflating: new_veggie_fruit_data/fewshot/validate/cantaloupe/IMG_2131.JPG  \n",
            "  inflating: new_veggie_fruit_data/fewshot/validate/cantaloupe/IMG_2130.JPG  \n",
            "   creating: new_veggie_fruit_data/fewshot/validate/cilantro/\n",
            "  inflating: new_veggie_fruit_data/fewshot/validate/cilantro/IMG_9182.jpg  \n"
          ],
          "name": "stdout"
        }
      ]
    },
    {
      "cell_type": "code",
      "metadata": {
        "id": "FSZS7uOxz7r3",
        "colab_type": "code",
        "outputId": "d1814e93-2394-4540-b3a3-934d955b44ff",
        "colab": {
          "base_uri": "https://localhost:8080/",
          "height": 1000
        }
      },
      "source": [
        "import torch                                                                                                                                                                                                \n",
        "import torchvision\n",
        "import torchvision.transforms as transforms\n",
        "from torch.utils import data\n",
        "import argparse\n",
        "import torch.nn as nn\n",
        "import tqdm\n",
        "import torch.optim as optim\n",
        "from sklearn.metrics import precision_recall_fscore_support\n",
        "\n",
        "def my_load_dict(model, base_pth, nbase):\n",
        "  base_state_dict = torch.load(base_pth)\n",
        "  model_dict = model.state_dict()\n",
        "  # 1. filter out unnecessary keys\n",
        "  base_state_dict = {k: v for k, v in base_state_dict.items() if k in model_dict}\n",
        "  for k, v in base_state_dict.items():\n",
        "      if 'classifier.6' in k:\n",
        "          base_state_dict[k] = torch.cat((base_state_dict[k], model_dict[k][nbase:]))\n",
        "  # 2. overwrite entries in the existing state dict\n",
        "  model_dict.update(base_state_dict)\n",
        "  model.load_state_dict(model_dict)\n",
        "\n",
        "def train():\n",
        "    data_dir = 'new_veggie_fruit_data/fewshot/'\n",
        "    total_classes = 64\n",
        "    val_every_nepochs = 1 \n",
        "    batch_size = 30\n",
        "    nepochs = 50\n",
        "    num_workers = 8\n",
        "    train_input_folder = data_dir + 'train/'\n",
        "    validate_input_folder = data_dir + 'validate/'\n",
        "\n",
        "    # Training Data Loader\n",
        "    train_transform = transforms.Compose([\n",
        "       transforms.RandomHorizontalFlip(),\n",
        "       transforms.RandomVerticalFlip(),\n",
        "       transforms.RandomAffine(scale=(0.9, 1.25), shear=0.2, degrees=0),\n",
        "       transforms.Resize((224,224)),\n",
        "       transforms.ToTensor(),\n",
        "       transforms.Normalize((0.485, 0.456, 0.406), (0.229, 0.224, 0.225)),\n",
        "    ])  \n",
        "    target_transform = lambda lbl: lbl+ 44\n",
        "    train_dataset = torchvision.datasets.ImageFolder(train_input_folder,\n",
        "                                                     transform=train_transform,\n",
        "                                                     target_transform=target_transform)\n",
        "    train_loader = data.DataLoader(train_dataset, batch_size=batch_size,\n",
        "                                   shuffle=True, num_workers=num_workers)\n",
        "\n",
        "    # Validation Data Loader\n",
        "    val_transform = transforms.Compose([\n",
        "       transforms.Resize((224,224)),\n",
        "       transforms.ToTensor(),\n",
        "       transforms.Normalize((0.485, 0.456, 0.406), (0.229, 0.224, 0.225)),\n",
        "    ])\n",
        "    val_dataset = torchvision.datasets.ImageFolder(validate_input_folder,\n",
        "                                                   transform=val_transform,\n",
        "                                                   target_transform=target_transform)\n",
        "    val_loader = data.DataLoader(val_dataset, batch_size=batch_size,\n",
        "                                   shuffle=False, num_workers=num_workers)\n",
        "\n",
        "    # Create Model\n",
        "    model = torchvision.models.vgg19(pretrained=True)\n",
        "    model.classifier[6] = nn.Linear(4096, total_classes, bias=True)\n",
        "    model = model.cuda()\n",
        "    my_load_dict(model, 'base_ckpt.pth', 44)\n",
        "\n",
        "    criterion = nn.CrossEntropyLoss(ignore_index=255).cuda()\n",
        "\n",
        "    # Create Optimizer and freeze backbone\n",
        "    for param in model.features.parameters():\n",
        "        param.requires_grad = False                                                                                                                                                                         \n",
        "    optimizer = optim.Adam(model.parameters(), lr=0.001)\n",
        "\n",
        "    # Training/Val Loop\n",
        "    model.train()\n",
        "    for epoch in range(nepochs):\n",
        "        print('Epoch ', epoch)\n",
        "        tqdm_train = tqdm.tqdm(train_loader)\n",
        "        for image, label in tqdm_train:\n",
        "            image = image.cuda()\n",
        "            label = label.cuda()\n",
        "\n",
        "            optimizer.zero_grad()\n",
        "            pred = model(image)\n",
        "            loss = criterion(pred, label)\n",
        "            loss.backward()\n",
        "            optimizer.step()\n",
        "        if epoch % val_every_nepochs == 0:\n",
        "            model.eval()\n",
        "            with torch.no_grad():\n",
        "                correct = 0.0\n",
        "                tqdm_val = tqdm.tqdm(val_loader)\n",
        "                metrics = {'macro': {'prec': 0.0, 'rec': 0.0, 'fscore': 0.0},                                                                                                                               \n",
        "                           'micro': {'prec': 0.0, 'rec': 0.0, 'fscore': 0.0},\n",
        "                           'weighted': {'prec': 0.0, 'rec': 0.0, 'fscore': 0.0}}\n",
        "\n",
        "                for image, label in tqdm_val:\n",
        "                    image = image.cuda()\n",
        "                    pred = model(image)\n",
        "                    pred_labels = pred.detach().cpu().argmax(dim=1)\n",
        "                    for key in metrics.keys():\n",
        "                        prec, recall, fscore, _ = precision_recall_fscore_support(label, pred_labels,\n",
        "                                                                                  average=key)\n",
        "                        metrics[key]['prec'] += prec\n",
        "                        metrics[key]['rec'] += recall\n",
        "                        metrics[key]['fscore'] += fscore\n",
        "                    correct += (pred_labels == label).sum().item()\n",
        "                print('Accuracy ', correct/(len(tqdm_val)*batch_size))\n",
        "                for key in metrics.keys():\n",
        "                    print(' Metric %s: prec rec fscore'%key)\n",
        "                    out_str = ''\n",
        "                    for k2 in metrics[key].keys():\n",
        "                        metrics[key][k2] /= (len(tqdm_val))\n",
        "                        out_str += str(metrics[key][k2]) + ' '\n",
        "                    print(out_str)\n",
        "                torch.save(model.state_dict(), 'fewshot_ckpt.pth')\n",
        "\n",
        "\n",
        "train()\n",
        "                                             "
      ],
      "execution_count": 9,
      "outputs": [
        {
          "output_type": "stream",
          "text": [
            "\n",
            "  0%|          | 0/4 [00:00<?, ?it/s]\u001b[A"
          ],
          "name": "stderr"
        },
        {
          "output_type": "stream",
          "text": [
            "Epoch  0\n"
          ],
          "name": "stdout"
        },
        {
          "output_type": "stream",
          "text": [
            "\n",
            " 25%|██▌       | 1/4 [00:22<01:07, 22.39s/it]\u001b[A\n",
            " 50%|█████     | 2/4 [00:23<00:31, 15.99s/it]\u001b[A\n",
            " 75%|███████▌  | 3/4 [00:23<00:11, 11.32s/it]\u001b[A\n",
            "100%|██████████| 4/4 [00:24<00:00,  6.05s/it]\n",
            "\n",
            "  0%|          | 0/2 [00:00<?, ?it/s]\u001b[A/usr/local/lib/python3.6/dist-packages/sklearn/metrics/_classification.py:1272: UndefinedMetricWarning: Precision and F-score are ill-defined and being set to 0.0 in labels with no predicted samples. Use `zero_division` parameter to control this behavior.\n",
            "  _warn_prf(average, modifier, msg_start, len(result))\n",
            "/usr/local/lib/python3.6/dist-packages/sklearn/metrics/_classification.py:1272: UndefinedMetricWarning: Recall and F-score are ill-defined and being set to 0.0 in labels with no true samples. Use `zero_division` parameter to control this behavior.\n",
            "  _warn_prf(average, modifier, msg_start, len(result))\n",
            "\n",
            "100%|██████████| 2/2 [00:08<00:00,  4.09s/it]\n"
          ],
          "name": "stderr"
        },
        {
          "output_type": "stream",
          "text": [
            "Accuracy  0.016666666666666666\n",
            " Metric macro: prec rec fscore\n",
            "0.014285714285714285 0.0047619047619047615 0.007142857142857143 \n",
            " Metric micro: prec rec fscore\n",
            "0.016666666666666666 0.016666666666666666 0.016666666666666666 \n",
            " Metric weighted: prec rec fscore\n",
            "0.05 0.016666666666666666 0.025 \n"
          ],
          "name": "stdout"
        },
        {
          "output_type": "stream",
          "text": [
            "\n",
            "  0%|          | 0/4 [00:00<?, ?it/s]\u001b[A"
          ],
          "name": "stderr"
        },
        {
          "output_type": "stream",
          "text": [
            "Epoch  1\n"
          ],
          "name": "stdout"
        },
        {
          "output_type": "stream",
          "text": [
            "\n",
            " 25%|██▌       | 1/4 [00:23<01:11, 23.73s/it]\u001b[A\n",
            " 50%|█████     | 2/4 [00:23<00:33, 16.64s/it]\u001b[A\n",
            " 75%|███████▌  | 3/4 [00:23<00:11, 11.68s/it]\u001b[A\n",
            "100%|██████████| 4/4 [00:24<00:00,  6.07s/it]\n",
            "\n",
            "  0%|          | 0/2 [00:00<?, ?it/s]\u001b[A\n",
            "100%|██████████| 2/2 [00:08<00:00,  4.03s/it]\n"
          ],
          "name": "stderr"
        },
        {
          "output_type": "stream",
          "text": [
            "Accuracy  0.13333333333333333\n",
            " Metric macro: prec rec fscore\n",
            "0.04642857142857143 0.05208333333333333 0.04591836734693877 \n",
            " Metric micro: prec rec fscore\n",
            "0.13333333333333333 0.13333333333333333 0.13333333333333333 \n",
            " Metric weighted: prec rec fscore\n",
            "0.14 0.13333333333333333 0.1285714285714286 \n"
          ],
          "name": "stdout"
        },
        {
          "output_type": "stream",
          "text": [
            "\n",
            "  0%|          | 0/4 [00:00<?, ?it/s]\u001b[A"
          ],
          "name": "stderr"
        },
        {
          "output_type": "stream",
          "text": [
            "Epoch  2\n"
          ],
          "name": "stdout"
        },
        {
          "output_type": "stream",
          "text": [
            "\n",
            " 25%|██▌       | 1/4 [00:23<01:10, 23.51s/it]\u001b[A\n",
            " 50%|█████     | 2/4 [00:23<00:32, 16.49s/it]\u001b[A\n",
            " 75%|███████▌  | 3/4 [00:23<00:11, 11.58s/it]\u001b[A\n",
            "100%|██████████| 4/4 [00:24<00:00,  6.02s/it]\n",
            "\n",
            "  0%|          | 0/2 [00:00<?, ?it/s]\u001b[A\n",
            "100%|██████████| 2/2 [00:08<00:00,  4.07s/it]\n"
          ],
          "name": "stderr"
        },
        {
          "output_type": "stream",
          "text": [
            "Accuracy  0.2833333333333333\n",
            " Metric macro: prec rec fscore\n",
            "0.21190476190476187 0.1818181818181818 0.1847107438016529 \n",
            " Metric micro: prec rec fscore\n",
            "0.39166666666666666 0.39166666666666666 0.39166666666666666 \n",
            " Metric weighted: prec rec fscore\n",
            "0.47238095238095235 0.39166666666666666 0.39996632996632997 \n"
          ],
          "name": "stdout"
        },
        {
          "output_type": "stream",
          "text": [
            "\n",
            "  0%|          | 0/4 [00:00<?, ?it/s]\u001b[A"
          ],
          "name": "stderr"
        },
        {
          "output_type": "stream",
          "text": [
            "Epoch  3\n"
          ],
          "name": "stdout"
        },
        {
          "output_type": "stream",
          "text": [
            "\n",
            " 25%|██▌       | 1/4 [00:23<01:10, 23.62s/it]\u001b[A\n",
            " 50%|█████     | 2/4 [00:23<00:33, 16.57s/it]\u001b[A\n",
            " 75%|███████▌  | 3/4 [00:24<00:11, 11.68s/it]\u001b[A\n",
            "100%|██████████| 4/4 [00:24<00:00,  6.08s/it]\n",
            "\n",
            "  0%|          | 0/2 [00:00<?, ?it/s]\u001b[A\n",
            "100%|██████████| 2/2 [00:07<00:00,  3.96s/it]\n"
          ],
          "name": "stderr"
        },
        {
          "output_type": "stream",
          "text": [
            "Accuracy  0.35\n",
            " Metric macro: prec rec fscore\n",
            "0.2838345864661654 0.26973684210526316 0.26608187134502925 \n",
            " Metric micro: prec rec fscore\n",
            "0.4583333333333333 0.4583333333333333 0.4583333333333333 \n",
            " Metric weighted: prec rec fscore\n",
            "0.5309523809523808 0.4583333333333333 0.4666666666666667 \n"
          ],
          "name": "stdout"
        },
        {
          "output_type": "stream",
          "text": [
            "\n",
            "  0%|          | 0/4 [00:00<?, ?it/s]\u001b[A"
          ],
          "name": "stderr"
        },
        {
          "output_type": "stream",
          "text": [
            "Epoch  4\n"
          ],
          "name": "stdout"
        },
        {
          "output_type": "stream",
          "text": [
            "\n",
            " 25%|██▌       | 1/4 [00:23<01:10, 23.56s/it]\u001b[A\n",
            " 50%|█████     | 2/4 [00:23<00:33, 16.52s/it]\u001b[A\n",
            " 75%|███████▌  | 3/4 [00:23<00:11, 11.60s/it]\u001b[A\n",
            "100%|██████████| 4/4 [00:24<00:00,  6.02s/it]\n",
            "\n",
            "  0%|          | 0/2 [00:00<?, ?it/s]\u001b[A\n",
            "100%|██████████| 2/2 [00:07<00:00,  3.93s/it]\n"
          ],
          "name": "stderr"
        },
        {
          "output_type": "stream",
          "text": [
            "Accuracy  0.36666666666666664\n",
            " Metric macro: prec rec fscore\n",
            "0.29736842105263156 0.27850877192982454 0.2763157894736842 \n",
            " Metric micro: prec rec fscore\n",
            "0.475 0.475 0.475 \n",
            " Metric weighted: prec rec fscore\n",
            "0.5533333333333333 0.475 0.4842592592592593 \n"
          ],
          "name": "stdout"
        },
        {
          "output_type": "stream",
          "text": [
            "\n",
            "  0%|          | 0/4 [00:00<?, ?it/s]\u001b[A"
          ],
          "name": "stderr"
        },
        {
          "output_type": "stream",
          "text": [
            "Epoch  5\n"
          ],
          "name": "stdout"
        },
        {
          "output_type": "stream",
          "text": [
            "\n",
            " 25%|██▌       | 1/4 [00:23<01:11, 23.80s/it]\u001b[A\n",
            " 50%|█████     | 2/4 [00:23<00:33, 16.69s/it]\u001b[A\n",
            " 75%|███████▌  | 3/4 [00:24<00:11, 11.72s/it]\u001b[A\n",
            "100%|██████████| 4/4 [00:24<00:00,  6.08s/it]\n",
            "\n",
            "  0%|          | 0/2 [00:00<?, ?it/s]\u001b[A\n",
            "100%|██████████| 2/2 [00:07<00:00,  3.97s/it]\n"
          ],
          "name": "stderr"
        },
        {
          "output_type": "stream",
          "text": [
            "Accuracy  0.45\n",
            " Metric macro: prec rec fscore\n",
            "0.4794117647058823 0.44705882352941173 0.44820261437908493 \n",
            " Metric micro: prec rec fscore\n",
            "0.5583333333333333 0.5583333333333333 0.5583333333333333 \n",
            " Metric weighted: prec rec fscore\n",
            "0.6583333333333333 0.5583333333333333 0.5800925925925926 \n"
          ],
          "name": "stdout"
        },
        {
          "output_type": "stream",
          "text": [
            "\n",
            "  0%|          | 0/4 [00:00<?, ?it/s]\u001b[A"
          ],
          "name": "stderr"
        },
        {
          "output_type": "stream",
          "text": [
            "Epoch  6\n"
          ],
          "name": "stdout"
        },
        {
          "output_type": "stream",
          "text": [
            "\n",
            " 25%|██▌       | 1/4 [00:23<01:10, 23.37s/it]\u001b[A\n",
            " 50%|█████     | 2/4 [00:23<00:32, 16.39s/it]\u001b[A\n",
            " 75%|███████▌  | 3/4 [00:23<00:11, 11.51s/it]\u001b[A\n",
            "100%|██████████| 4/4 [00:23<00:00,  5.97s/it]\n",
            "\n",
            "  0%|          | 0/2 [00:00<?, ?it/s]\u001b[A\n",
            "100%|██████████| 2/2 [00:07<00:00,  3.98s/it]\n"
          ],
          "name": "stderr"
        },
        {
          "output_type": "stream",
          "text": [
            "Accuracy  0.48333333333333334\n",
            " Metric macro: prec rec fscore\n",
            "0.6107843137254901 0.5813725490196078 0.5849673202614378 \n",
            " Metric micro: prec rec fscore\n",
            "0.7 0.7 0.7 \n",
            " Metric weighted: prec rec fscore\n",
            "0.8033333333333333 0.7 0.7287037037037036 \n"
          ],
          "name": "stdout"
        },
        {
          "output_type": "stream",
          "text": [
            "\n",
            "  0%|          | 0/4 [00:00<?, ?it/s]\u001b[A"
          ],
          "name": "stderr"
        },
        {
          "output_type": "stream",
          "text": [
            "Epoch  7\n"
          ],
          "name": "stdout"
        },
        {
          "output_type": "stream",
          "text": [
            "\n",
            " 25%|██▌       | 1/4 [00:23<01:10, 23.63s/it]\u001b[A\n",
            " 50%|█████     | 2/4 [00:23<00:33, 16.57s/it]\u001b[A\n",
            " 75%|███████▌  | 3/4 [00:23<00:11, 11.64s/it]\u001b[A\n",
            "100%|██████████| 4/4 [00:24<00:00,  6.04s/it]\n",
            "\n",
            "  0%|          | 0/2 [00:00<?, ?it/s]\u001b[A\n",
            "100%|██████████| 2/2 [00:07<00:00,  3.93s/it]\n"
          ],
          "name": "stderr"
        },
        {
          "output_type": "stream",
          "text": [
            "Accuracy  0.5\n",
            " Metric macro: prec rec fscore\n",
            "0.6279411764705882 0.5911764705882353 0.6003734827264239 \n",
            " Metric micro: prec rec fscore\n",
            "0.7166666666666667 0.7166666666666667 0.7166666666666667 \n",
            " Metric weighted: prec rec fscore\n",
            "0.8158333333333333 0.7166666666666667 0.7437830687830687 \n"
          ],
          "name": "stdout"
        },
        {
          "output_type": "stream",
          "text": [
            "\n",
            "  0%|          | 0/4 [00:00<?, ?it/s]\u001b[A"
          ],
          "name": "stderr"
        },
        {
          "output_type": "stream",
          "text": [
            "Epoch  8\n"
          ],
          "name": "stdout"
        },
        {
          "output_type": "stream",
          "text": [
            "\n",
            " 25%|██▌       | 1/4 [00:23<01:10, 23.40s/it]\u001b[A\n",
            " 50%|█████     | 2/4 [00:23<00:32, 16.42s/it]\u001b[A\n",
            " 75%|███████▌  | 3/4 [00:23<00:11, 11.52s/it]\u001b[A\n",
            "100%|██████████| 4/4 [00:23<00:00,  5.97s/it]\n",
            "\n",
            "  0%|          | 0/2 [00:00<?, ?it/s]\u001b[A\n",
            "100%|██████████| 2/2 [00:07<00:00,  3.93s/it]\n"
          ],
          "name": "stderr"
        },
        {
          "output_type": "stream",
          "text": [
            "Accuracy  0.5\n",
            " Metric macro: prec rec fscore\n",
            "0.6279411764705882 0.5911764705882353 0.6003734827264239 \n",
            " Metric micro: prec rec fscore\n",
            "0.7166666666666667 0.7166666666666667 0.7166666666666667 \n",
            " Metric weighted: prec rec fscore\n",
            "0.8158333333333333 0.7166666666666667 0.7437830687830687 \n"
          ],
          "name": "stdout"
        },
        {
          "output_type": "stream",
          "text": [
            "\n",
            "  0%|          | 0/4 [00:00<?, ?it/s]\u001b[A"
          ],
          "name": "stderr"
        },
        {
          "output_type": "stream",
          "text": [
            "Epoch  9\n"
          ],
          "name": "stdout"
        },
        {
          "output_type": "stream",
          "text": [
            "\n",
            " 25%|██▌       | 1/4 [00:23<01:09, 23.32s/it]\u001b[A\n",
            " 50%|█████     | 2/4 [00:23<00:32, 16.36s/it]\u001b[A\n",
            " 75%|███████▌  | 3/4 [00:23<00:11, 11.49s/it]\u001b[A\n",
            "100%|██████████| 4/4 [00:23<00:00,  5.96s/it]\n",
            "\n",
            "  0%|          | 0/2 [00:00<?, ?it/s]\u001b[A\n",
            "100%|██████████| 2/2 [00:07<00:00,  3.94s/it]\n"
          ],
          "name": "stderr"
        },
        {
          "output_type": "stream",
          "text": [
            "Accuracy  0.48333333333333334\n",
            " Metric macro: prec rec fscore\n",
            "0.5941176470588234 0.5617647058823529 0.5678104575163399 \n",
            " Metric micro: prec rec fscore\n",
            "0.7 0.7 0.7 \n",
            " Metric weighted: prec rec fscore\n",
            "0.7916666666666667 0.7 0.7217592592592592 \n"
          ],
          "name": "stdout"
        },
        {
          "output_type": "stream",
          "text": [
            "\n",
            "  0%|          | 0/4 [00:00<?, ?it/s]\u001b[A"
          ],
          "name": "stderr"
        },
        {
          "output_type": "stream",
          "text": [
            "Epoch  10\n"
          ],
          "name": "stdout"
        },
        {
          "output_type": "stream",
          "text": [
            "\n",
            " 25%|██▌       | 1/4 [00:22<01:08, 22.76s/it]\u001b[A\n",
            " 50%|█████     | 2/4 [00:23<00:32, 16.07s/it]\u001b[A\n",
            " 75%|███████▌  | 3/4 [00:23<00:11, 11.28s/it]\u001b[A\n",
            "100%|██████████| 4/4 [00:23<00:00,  5.91s/it]\n",
            "\n",
            "  0%|          | 0/2 [00:00<?, ?it/s]\u001b[A\n",
            "100%|██████████| 2/2 [00:07<00:00,  3.90s/it]\n"
          ],
          "name": "stderr"
        },
        {
          "output_type": "stream",
          "text": [
            "Accuracy  0.5\n",
            " Metric macro: prec rec fscore\n",
            "0.6205882352941177 0.5911764705882353 0.5947712418300654 \n",
            " Metric micro: prec rec fscore\n",
            "0.7166666666666667 0.7166666666666667 0.7166666666666667 \n",
            " Metric weighted: prec rec fscore\n",
            "0.8200000000000001 0.7166666666666667 0.7453703703703705 \n"
          ],
          "name": "stdout"
        },
        {
          "output_type": "stream",
          "text": [
            "\n",
            "  0%|          | 0/4 [00:00<?, ?it/s]\u001b[A"
          ],
          "name": "stderr"
        },
        {
          "output_type": "stream",
          "text": [
            "Epoch  11\n"
          ],
          "name": "stdout"
        },
        {
          "output_type": "stream",
          "text": [
            "\n",
            " 25%|██▌       | 1/4 [00:23<01:09, 23.02s/it]\u001b[A\n",
            " 75%|███████▌  | 3/4 [00:23<00:16, 16.14s/it]\u001b[A\n",
            "100%|██████████| 4/4 [00:23<00:00,  5.88s/it]\n",
            "\n",
            "  0%|          | 0/2 [00:00<?, ?it/s]\u001b[A\n",
            "100%|██████████| 2/2 [00:07<00:00,  3.95s/it]\n"
          ],
          "name": "stderr"
        },
        {
          "output_type": "stream",
          "text": [
            "Accuracy  0.5333333333333333\n",
            " Metric macro: prec rec fscore\n",
            "0.8397058823529412 0.7830882352941176 0.8006535947712419 \n",
            " Metric micro: prec rec fscore\n",
            "0.8583333333333334 0.8583333333333334 0.8583333333333334 \n",
            " Metric weighted: prec rec fscore\n",
            "0.97 0.8583333333333334 0.8925925925925926 \n"
          ],
          "name": "stdout"
        },
        {
          "output_type": "stream",
          "text": [
            "\n",
            "  0%|          | 0/4 [00:00<?, ?it/s]\u001b[A"
          ],
          "name": "stderr"
        },
        {
          "output_type": "stream",
          "text": [
            "Epoch  12\n"
          ],
          "name": "stdout"
        },
        {
          "output_type": "stream",
          "text": [
            "\n",
            " 25%|██▌       | 1/4 [00:22<01:07, 22.65s/it]\u001b[A\n",
            " 50%|█████     | 2/4 [00:23<00:31, 15.99s/it]\u001b[A\n",
            " 75%|███████▌  | 3/4 [00:23<00:11, 11.28s/it]\u001b[A\n",
            "100%|██████████| 4/4 [00:23<00:00,  5.91s/it]\n",
            "\n",
            "  0%|          | 0/2 [00:00<?, ?it/s]\u001b[A\n",
            "100%|██████████| 2/2 [00:07<00:00,  3.93s/it]\n"
          ],
          "name": "stderr"
        },
        {
          "output_type": "stream",
          "text": [
            "Accuracy  0.5166666666666667\n",
            " Metric macro: prec rec fscore\n",
            "0.6647058823529413 0.6205882352941177 0.6339869281045751 \n",
            " Metric micro: prec rec fscore\n",
            "0.7333333333333334 0.7333333333333334 0.7333333333333334 \n",
            " Metric weighted: prec rec fscore\n",
            "0.845 0.7333333333333334 0.7675925925925926 \n"
          ],
          "name": "stdout"
        },
        {
          "output_type": "stream",
          "text": [
            "\n",
            "  0%|          | 0/4 [00:00<?, ?it/s]\u001b[A"
          ],
          "name": "stderr"
        },
        {
          "output_type": "stream",
          "text": [
            "Epoch  13\n"
          ],
          "name": "stdout"
        },
        {
          "output_type": "stream",
          "text": [
            "\n",
            " 25%|██▌       | 1/4 [00:20<01:02, 20.73s/it]\u001b[A\n",
            " 50%|█████     | 2/4 [00:23<00:30, 15.28s/it]\u001b[A\n",
            " 75%|███████▌  | 3/4 [00:23<00:10, 10.73s/it]\u001b[A\n",
            "100%|██████████| 4/4 [00:23<00:00,  5.92s/it]\n",
            "\n",
            "  0%|          | 0/2 [00:00<?, ?it/s]\u001b[A\n",
            "100%|██████████| 2/2 [00:07<00:00,  3.88s/it]\n"
          ],
          "name": "stderr"
        },
        {
          "output_type": "stream",
          "text": [
            "Accuracy  0.5166666666666667\n",
            " Metric macro: prec rec fscore\n",
            "0.6647058823529413 0.6205882352941177 0.6339869281045751 \n",
            " Metric micro: prec rec fscore\n",
            "0.7333333333333334 0.7333333333333334 0.7333333333333334 \n",
            " Metric weighted: prec rec fscore\n",
            "0.845 0.7333333333333334 0.7675925925925926 \n"
          ],
          "name": "stdout"
        },
        {
          "output_type": "stream",
          "text": [
            "\n",
            "  0%|          | 0/4 [00:00<?, ?it/s]\u001b[A"
          ],
          "name": "stderr"
        },
        {
          "output_type": "stream",
          "text": [
            "Epoch  14\n"
          ],
          "name": "stdout"
        },
        {
          "output_type": "stream",
          "text": [
            "\n",
            " 25%|██▌       | 1/4 [00:22<01:08, 22.85s/it]\u001b[A\n",
            " 50%|█████     | 2/4 [00:22<00:32, 16.03s/it]\u001b[A\n",
            " 75%|███████▌  | 3/4 [00:23<00:11, 11.25s/it]\u001b[A\n",
            "100%|██████████| 4/4 [00:23<00:00,  5.84s/it]\n",
            "\n",
            "  0%|          | 0/2 [00:00<?, ?it/s]\u001b[A\n",
            "100%|██████████| 2/2 [00:07<00:00,  3.93s/it]\n"
          ],
          "name": "stderr"
        },
        {
          "output_type": "stream",
          "text": [
            "Accuracy  0.5166666666666667\n",
            " Metric macro: prec rec fscore\n",
            "0.6647058823529413 0.6205882352941177 0.6339869281045751 \n",
            " Metric micro: prec rec fscore\n",
            "0.7333333333333334 0.7333333333333334 0.7333333333333334 \n",
            " Metric weighted: prec rec fscore\n",
            "0.845 0.7333333333333334 0.7675925925925926 \n"
          ],
          "name": "stdout"
        },
        {
          "output_type": "stream",
          "text": [
            "\n",
            "  0%|          | 0/4 [00:00<?, ?it/s]\u001b[A"
          ],
          "name": "stderr"
        },
        {
          "output_type": "stream",
          "text": [
            "Epoch  15\n"
          ],
          "name": "stdout"
        },
        {
          "output_type": "stream",
          "text": [
            "\n",
            " 25%|██▌       | 1/4 [00:21<01:05, 21.94s/it]\u001b[A\n",
            " 50%|█████     | 2/4 [00:22<00:31, 15.67s/it]\u001b[A\n",
            " 75%|███████▌  | 3/4 [00:23<00:11, 11.01s/it]\u001b[A\n",
            "100%|██████████| 4/4 [00:23<00:00,  5.85s/it]\n",
            "\n",
            "  0%|          | 0/2 [00:00<?, ?it/s]\u001b[A\n",
            "100%|██████████| 2/2 [00:07<00:00,  3.97s/it]\n"
          ],
          "name": "stderr"
        },
        {
          "output_type": "stream",
          "text": [
            "Accuracy  0.5166666666666667\n",
            " Metric macro: prec rec fscore\n",
            "0.6647058823529413 0.6205882352941177 0.6339869281045751 \n",
            " Metric micro: prec rec fscore\n",
            "0.7333333333333334 0.7333333333333334 0.7333333333333334 \n",
            " Metric weighted: prec rec fscore\n",
            "0.845 0.7333333333333334 0.7675925925925926 \n"
          ],
          "name": "stdout"
        },
        {
          "output_type": "stream",
          "text": [
            "\n",
            "  0%|          | 0/4 [00:00<?, ?it/s]\u001b[A"
          ],
          "name": "stderr"
        },
        {
          "output_type": "stream",
          "text": [
            "Epoch  16\n"
          ],
          "name": "stdout"
        },
        {
          "output_type": "stream",
          "text": [
            "\n",
            " 25%|██▌       | 1/4 [00:23<01:09, 23.01s/it]\u001b[A\n",
            " 50%|█████     | 2/4 [00:23<00:32, 16.14s/it]\u001b[A\n",
            " 75%|███████▌  | 3/4 [00:23<00:11, 11.34s/it]\u001b[A\n",
            "100%|██████████| 4/4 [00:23<00:00,  5.88s/it]\n",
            "\n",
            "  0%|          | 0/2 [00:00<?, ?it/s]\u001b[A\n",
            "100%|██████████| 2/2 [00:07<00:00,  3.90s/it]\n"
          ],
          "name": "stderr"
        },
        {
          "output_type": "stream",
          "text": [
            "Accuracy  0.5\n",
            " Metric macro: prec rec fscore\n",
            "0.6279411764705882 0.5911764705882353 0.6003734827264239 \n",
            " Metric micro: prec rec fscore\n",
            "0.7166666666666667 0.7166666666666667 0.7166666666666667 \n",
            " Metric weighted: prec rec fscore\n",
            "0.8158333333333333 0.7166666666666667 0.7437830687830687 \n"
          ],
          "name": "stdout"
        },
        {
          "output_type": "stream",
          "text": [
            "\n",
            "  0%|          | 0/4 [00:00<?, ?it/s]\u001b[A"
          ],
          "name": "stderr"
        },
        {
          "output_type": "stream",
          "text": [
            "Epoch  17\n"
          ],
          "name": "stdout"
        },
        {
          "output_type": "stream",
          "text": [
            "\n",
            " 25%|██▌       | 1/4 [00:21<01:05, 21.77s/it]\u001b[A\n",
            " 50%|█████     | 2/4 [00:22<00:31, 15.55s/it]\u001b[A\n",
            " 75%|███████▌  | 3/4 [00:23<00:10, 10.99s/it]\u001b[A\n",
            "100%|██████████| 4/4 [00:23<00:00,  5.86s/it]\n",
            "\n",
            "  0%|          | 0/2 [00:00<?, ?it/s]\u001b[A\n",
            "100%|██████████| 2/2 [00:07<00:00,  3.85s/it]\n"
          ],
          "name": "stderr"
        },
        {
          "output_type": "stream",
          "text": [
            "Accuracy  0.5\n",
            " Metric macro: prec rec fscore\n",
            "0.6279411764705882 0.5911764705882353 0.6003734827264239 \n",
            " Metric micro: prec rec fscore\n",
            "0.7166666666666667 0.7166666666666667 0.7166666666666667 \n",
            " Metric weighted: prec rec fscore\n",
            "0.8158333333333333 0.7166666666666667 0.7437830687830687 \n"
          ],
          "name": "stdout"
        },
        {
          "output_type": "stream",
          "text": [
            "\n",
            "  0%|          | 0/4 [00:00<?, ?it/s]\u001b[A"
          ],
          "name": "stderr"
        },
        {
          "output_type": "stream",
          "text": [
            "Epoch  18\n"
          ],
          "name": "stdout"
        },
        {
          "output_type": "stream",
          "text": [
            "\n",
            " 25%|██▌       | 1/4 [00:22<01:07, 22.58s/it]\u001b[A\n",
            " 50%|█████     | 2/4 [00:22<00:31, 15.84s/it]\u001b[A\n",
            " 75%|███████▌  | 3/4 [00:22<00:11, 11.16s/it]\u001b[A\n",
            "100%|██████████| 4/4 [00:23<00:00,  5.80s/it]\n",
            "\n",
            "  0%|          | 0/2 [00:00<?, ?it/s]\u001b[A\n",
            "100%|██████████| 2/2 [00:07<00:00,  3.84s/it]\n"
          ],
          "name": "stderr"
        },
        {
          "output_type": "stream",
          "text": [
            "Accuracy  0.5\n",
            " Metric macro: prec rec fscore\n",
            "0.6279411764705882 0.5911764705882353 0.6003734827264239 \n",
            " Metric micro: prec rec fscore\n",
            "0.7166666666666667 0.7166666666666667 0.7166666666666667 \n",
            " Metric weighted: prec rec fscore\n",
            "0.8158333333333333 0.7166666666666667 0.7437830687830687 \n"
          ],
          "name": "stdout"
        },
        {
          "output_type": "stream",
          "text": [
            "\n",
            "  0%|          | 0/4 [00:00<?, ?it/s]\u001b[A"
          ],
          "name": "stderr"
        },
        {
          "output_type": "stream",
          "text": [
            "Epoch  19\n"
          ],
          "name": "stdout"
        },
        {
          "output_type": "stream",
          "text": [
            "\n",
            " 25%|██▌       | 1/4 [00:22<01:07, 22.51s/it]\u001b[A\n",
            " 50%|█████     | 2/4 [00:23<00:31, 15.96s/it]\u001b[A\n",
            " 75%|███████▌  | 3/4 [00:23<00:11, 11.21s/it]\u001b[A\n",
            "100%|██████████| 4/4 [00:23<00:00,  5.89s/it]\n",
            "\n",
            "  0%|          | 0/2 [00:00<?, ?it/s]\u001b[A\n",
            "100%|██████████| 2/2 [00:07<00:00,  3.92s/it]\n"
          ],
          "name": "stderr"
        },
        {
          "output_type": "stream",
          "text": [
            "Accuracy  0.5\n",
            " Metric macro: prec rec fscore\n",
            "0.6279411764705882 0.5911764705882353 0.6003734827264239 \n",
            " Metric micro: prec rec fscore\n",
            "0.7166666666666667 0.7166666666666667 0.7166666666666667 \n",
            " Metric weighted: prec rec fscore\n",
            "0.8158333333333333 0.7166666666666667 0.7437830687830687 \n"
          ],
          "name": "stdout"
        },
        {
          "output_type": "stream",
          "text": [
            "\n",
            "  0%|          | 0/4 [00:00<?, ?it/s]\u001b[A"
          ],
          "name": "stderr"
        },
        {
          "output_type": "stream",
          "text": [
            "Epoch  20\n"
          ],
          "name": "stdout"
        },
        {
          "output_type": "stream",
          "text": [
            "\n",
            " 25%|██▌       | 1/4 [00:22<01:07, 22.64s/it]\u001b[A\n",
            " 50%|█████     | 2/4 [00:22<00:31, 15.89s/it]\u001b[A\n",
            " 75%|███████▌  | 3/4 [00:23<00:11, 11.26s/it]\u001b[A\n",
            "100%|██████████| 4/4 [00:23<00:00,  5.88s/it]\n",
            "\n",
            "  0%|          | 0/2 [00:00<?, ?it/s]\u001b[A\n",
            "100%|██████████| 2/2 [00:07<00:00,  3.86s/it]\n"
          ],
          "name": "stderr"
        },
        {
          "output_type": "stream",
          "text": [
            "Accuracy  0.5\n",
            " Metric macro: prec rec fscore\n",
            "0.6279411764705882 0.5911764705882353 0.6003734827264239 \n",
            " Metric micro: prec rec fscore\n",
            "0.7166666666666667 0.7166666666666667 0.7166666666666667 \n",
            " Metric weighted: prec rec fscore\n",
            "0.8158333333333333 0.7166666666666667 0.7437830687830687 \n"
          ],
          "name": "stdout"
        },
        {
          "output_type": "stream",
          "text": [
            "\n",
            "  0%|          | 0/4 [00:00<?, ?it/s]\u001b[A"
          ],
          "name": "stderr"
        },
        {
          "output_type": "stream",
          "text": [
            "Epoch  21\n"
          ],
          "name": "stdout"
        },
        {
          "output_type": "stream",
          "text": [
            "\n",
            " 25%|██▌       | 1/4 [00:23<01:09, 23.23s/it]\u001b[A\n",
            " 50%|█████     | 2/4 [00:23<00:32, 16.30s/it]\u001b[A\n",
            " 75%|███████▌  | 3/4 [00:23<00:11, 11.44s/it]\u001b[A\n",
            "100%|██████████| 4/4 [00:23<00:00,  5.94s/it]\n",
            "\n",
            "  0%|          | 0/2 [00:00<?, ?it/s]\u001b[A\n",
            "100%|██████████| 2/2 [00:07<00:00,  3.87s/it]\n"
          ],
          "name": "stderr"
        },
        {
          "output_type": "stream",
          "text": [
            "Accuracy  0.5\n",
            " Metric macro: prec rec fscore\n",
            "0.6279411764705882 0.5911764705882353 0.6003734827264239 \n",
            " Metric micro: prec rec fscore\n",
            "0.7166666666666667 0.7166666666666667 0.7166666666666667 \n",
            " Metric weighted: prec rec fscore\n",
            "0.8158333333333333 0.7166666666666667 0.7437830687830687 \n"
          ],
          "name": "stdout"
        },
        {
          "output_type": "stream",
          "text": [
            "\n",
            "  0%|          | 0/4 [00:00<?, ?it/s]\u001b[A"
          ],
          "name": "stderr"
        },
        {
          "output_type": "stream",
          "text": [
            "Epoch  22\n"
          ],
          "name": "stdout"
        },
        {
          "output_type": "stream",
          "text": [
            "\n",
            " 25%|██▌       | 1/4 [00:22<01:06, 22.31s/it]\u001b[A\n",
            " 50%|█████     | 2/4 [00:22<00:31, 15.81s/it]\u001b[A\n",
            " 75%|███████▌  | 3/4 [00:23<00:11, 11.14s/it]\u001b[A\n",
            "100%|██████████| 4/4 [00:23<00:00,  5.87s/it]\n",
            "\n",
            "  0%|          | 0/2 [00:00<?, ?it/s]\u001b[A\n",
            "100%|██████████| 2/2 [00:07<00:00,  3.91s/it]\n"
          ],
          "name": "stderr"
        },
        {
          "output_type": "stream",
          "text": [
            "Accuracy  0.5166666666666667\n",
            " Metric macro: prec rec fscore\n",
            "0.6647058823529413 0.6205882352941177 0.6339869281045751 \n",
            " Metric micro: prec rec fscore\n",
            "0.7333333333333334 0.7333333333333334 0.7333333333333334 \n",
            " Metric weighted: prec rec fscore\n",
            "0.845 0.7333333333333334 0.7675925925925926 \n"
          ],
          "name": "stdout"
        },
        {
          "output_type": "stream",
          "text": [
            "\n",
            "  0%|          | 0/4 [00:00<?, ?it/s]\u001b[A"
          ],
          "name": "stderr"
        },
        {
          "output_type": "stream",
          "text": [
            "Epoch  23\n"
          ],
          "name": "stdout"
        },
        {
          "output_type": "stream",
          "text": [
            "\n",
            " 25%|██▌       | 1/4 [00:22<01:06, 22.16s/it]\u001b[A\n",
            " 50%|█████     | 2/4 [00:23<00:31, 15.92s/it]\u001b[A\n",
            " 75%|███████▌  | 3/4 [00:23<00:11, 11.18s/it]\u001b[A\n",
            "100%|██████████| 4/4 [00:23<00:00,  5.98s/it]\n",
            "\n",
            "  0%|          | 0/2 [00:00<?, ?it/s]\u001b[A\n",
            "100%|██████████| 2/2 [00:07<00:00,  3.90s/it]\n"
          ],
          "name": "stderr"
        },
        {
          "output_type": "stream",
          "text": [
            "Accuracy  0.5166666666666667\n",
            " Metric macro: prec rec fscore\n",
            "0.6647058823529413 0.6205882352941177 0.6339869281045751 \n",
            " Metric micro: prec rec fscore\n",
            "0.7333333333333334 0.7333333333333334 0.7333333333333334 \n",
            " Metric weighted: prec rec fscore\n",
            "0.845 0.7333333333333334 0.7675925925925926 \n"
          ],
          "name": "stdout"
        },
        {
          "output_type": "stream",
          "text": [
            "\n",
            "  0%|          | 0/4 [00:00<?, ?it/s]\u001b[A"
          ],
          "name": "stderr"
        },
        {
          "output_type": "stream",
          "text": [
            "Epoch  24\n"
          ],
          "name": "stdout"
        },
        {
          "output_type": "stream",
          "text": [
            "\n",
            " 25%|██▌       | 1/4 [00:22<01:07, 22.38s/it]\u001b[A\n",
            " 50%|█████     | 2/4 [00:23<00:31, 15.97s/it]\u001b[A\n",
            " 75%|███████▌  | 3/4 [00:23<00:11, 11.21s/it]\u001b[A\n",
            "100%|██████████| 4/4 [00:23<00:00,  5.95s/it]\n",
            "\n",
            "  0%|          | 0/2 [00:00<?, ?it/s]\u001b[A\n",
            "100%|██████████| 2/2 [00:07<00:00,  3.93s/it]\n"
          ],
          "name": "stderr"
        },
        {
          "output_type": "stream",
          "text": [
            "Accuracy  0.5166666666666667\n",
            " Metric macro: prec rec fscore\n",
            "0.6647058823529413 0.6205882352941177 0.6339869281045751 \n",
            " Metric micro: prec rec fscore\n",
            "0.7333333333333334 0.7333333333333334 0.7333333333333334 \n",
            " Metric weighted: prec rec fscore\n",
            "0.845 0.7333333333333334 0.7675925925925926 \n"
          ],
          "name": "stdout"
        },
        {
          "output_type": "stream",
          "text": [
            "\n",
            "  0%|          | 0/4 [00:00<?, ?it/s]\u001b[A"
          ],
          "name": "stderr"
        },
        {
          "output_type": "stream",
          "text": [
            "Epoch  25\n"
          ],
          "name": "stdout"
        },
        {
          "output_type": "stream",
          "text": [
            "\n",
            " 25%|██▌       | 1/4 [00:22<01:08, 22.82s/it]\u001b[A\n",
            " 50%|█████     | 2/4 [00:22<00:32, 16.00s/it]\u001b[A\n",
            " 75%|███████▌  | 3/4 [00:23<00:11, 11.29s/it]\u001b[A\n",
            "100%|██████████| 4/4 [00:23<00:00,  5.87s/it]\n",
            "\n",
            "  0%|          | 0/2 [00:00<?, ?it/s]\u001b[A\n",
            "100%|██████████| 2/2 [00:08<00:00,  4.04s/it]\n"
          ],
          "name": "stderr"
        },
        {
          "output_type": "stream",
          "text": [
            "Accuracy  0.5166666666666667\n",
            " Metric macro: prec rec fscore\n",
            "0.6647058823529413 0.6205882352941177 0.6339869281045751 \n",
            " Metric micro: prec rec fscore\n",
            "0.7333333333333334 0.7333333333333334 0.7333333333333334 \n",
            " Metric weighted: prec rec fscore\n",
            "0.845 0.7333333333333334 0.7675925925925926 \n"
          ],
          "name": "stdout"
        },
        {
          "output_type": "stream",
          "text": [
            "\n",
            "  0%|          | 0/4 [00:00<?, ?it/s]\u001b[A"
          ],
          "name": "stderr"
        },
        {
          "output_type": "stream",
          "text": [
            "Epoch  26\n"
          ],
          "name": "stdout"
        },
        {
          "output_type": "stream",
          "text": [
            "\n",
            " 25%|██▌       | 1/4 [00:24<01:12, 24.14s/it]\u001b[A\n",
            " 50%|█████     | 2/4 [00:24<00:33, 16.93s/it]\u001b[A\n",
            " 75%|███████▌  | 3/4 [00:24<00:11, 11.89s/it]\u001b[A\n",
            "100%|██████████| 4/4 [00:24<00:00,  6.16s/it]\n",
            "\n",
            "  0%|          | 0/2 [00:00<?, ?it/s]\u001b[A\n",
            "100%|██████████| 2/2 [00:08<00:00,  4.11s/it]\n"
          ],
          "name": "stderr"
        },
        {
          "output_type": "stream",
          "text": [
            "Accuracy  0.5166666666666667\n",
            " Metric macro: prec rec fscore\n",
            "0.6647058823529413 0.6205882352941177 0.6339869281045751 \n",
            " Metric micro: prec rec fscore\n",
            "0.7333333333333334 0.7333333333333334 0.7333333333333334 \n",
            " Metric weighted: prec rec fscore\n",
            "0.845 0.7333333333333334 0.7675925925925926 \n"
          ],
          "name": "stdout"
        },
        {
          "output_type": "stream",
          "text": [
            "\n",
            "  0%|          | 0/4 [00:00<?, ?it/s]\u001b[A"
          ],
          "name": "stderr"
        },
        {
          "output_type": "stream",
          "text": [
            "Epoch  27\n"
          ],
          "name": "stdout"
        },
        {
          "output_type": "stream",
          "text": [
            "\n",
            " 25%|██▌       | 1/4 [00:23<01:10, 23.39s/it]\u001b[A\n",
            " 50%|█████     | 2/4 [00:23<00:33, 16.51s/it]\u001b[A\n",
            " 75%|███████▌  | 3/4 [00:24<00:11, 11.69s/it]\u001b[A\n",
            "100%|██████████| 4/4 [00:24<00:00,  6.14s/it]\n",
            "\n",
            "  0%|          | 0/2 [00:00<?, ?it/s]\u001b[A\n",
            "100%|██████████| 2/2 [00:07<00:00,  3.96s/it]\n"
          ],
          "name": "stderr"
        },
        {
          "output_type": "stream",
          "text": [
            "Accuracy  0.5166666666666667\n",
            " Metric macro: prec rec fscore\n",
            "0.6647058823529413 0.6205882352941177 0.6339869281045751 \n",
            " Metric micro: prec rec fscore\n",
            "0.7333333333333334 0.7333333333333334 0.7333333333333334 \n",
            " Metric weighted: prec rec fscore\n",
            "0.845 0.7333333333333334 0.7675925925925926 \n"
          ],
          "name": "stdout"
        },
        {
          "output_type": "stream",
          "text": [
            "\n",
            "  0%|          | 0/4 [00:00<?, ?it/s]\u001b[A"
          ],
          "name": "stderr"
        },
        {
          "output_type": "stream",
          "text": [
            "Epoch  28\n"
          ],
          "name": "stdout"
        },
        {
          "output_type": "stream",
          "text": [
            "\n",
            " 25%|██▌       | 1/4 [00:23<01:11, 23.71s/it]\u001b[A\n",
            " 50%|█████     | 2/4 [00:23<00:33, 16.63s/it]\u001b[A\n",
            " 75%|███████▌  | 3/4 [00:23<00:11, 11.68s/it]\u001b[A\n",
            "100%|██████████| 4/4 [00:24<00:00,  6.06s/it]\n",
            "\n",
            "  0%|          | 0/2 [00:00<?, ?it/s]\u001b[A\n",
            "100%|██████████| 2/2 [00:07<00:00,  4.00s/it]\n"
          ],
          "name": "stderr"
        },
        {
          "output_type": "stream",
          "text": [
            "Accuracy  0.5166666666666667\n",
            " Metric macro: prec rec fscore\n",
            "0.8138888888888889 0.7430555555555556 0.7654320987654321 \n",
            " Metric micro: prec rec fscore\n",
            "0.8416666666666667 0.8416666666666667 0.8416666666666667 \n",
            " Metric weighted: prec rec fscore\n",
            "0.97 0.8416666666666667 0.8814814814814813 \n"
          ],
          "name": "stdout"
        },
        {
          "output_type": "stream",
          "text": [
            "\n",
            "  0%|          | 0/4 [00:00<?, ?it/s]\u001b[A"
          ],
          "name": "stderr"
        },
        {
          "output_type": "stream",
          "text": [
            "Epoch  29\n"
          ],
          "name": "stdout"
        },
        {
          "output_type": "stream",
          "text": [
            "\n",
            " 25%|██▌       | 1/4 [00:23<01:09, 23.11s/it]\u001b[A\n",
            " 50%|█████     | 2/4 [00:23<00:32, 16.21s/it]\u001b[A\n",
            " 75%|███████▌  | 3/4 [00:23<00:11, 11.38s/it]\u001b[A\n",
            "100%|██████████| 4/4 [00:23<00:00,  5.90s/it]\n",
            "\n",
            "  0%|          | 0/2 [00:00<?, ?it/s]\u001b[A\n",
            "100%|██████████| 2/2 [00:07<00:00,  3.87s/it]\n"
          ],
          "name": "stderr"
        },
        {
          "output_type": "stream",
          "text": [
            "Accuracy  0.55\n",
            " Metric macro: prec rec fscore\n",
            "0.875 0.8125 0.8333333333333333 \n",
            " Metric micro: prec rec fscore\n",
            "0.875 0.875 0.875 \n",
            " Metric weighted: prec rec fscore\n",
            "1.0 0.875 0.9166666666666666 \n"
          ],
          "name": "stdout"
        },
        {
          "output_type": "stream",
          "text": [
            "\n",
            "  0%|          | 0/4 [00:00<?, ?it/s]\u001b[A"
          ],
          "name": "stderr"
        },
        {
          "output_type": "stream",
          "text": [
            "Epoch  30\n"
          ],
          "name": "stdout"
        },
        {
          "output_type": "stream",
          "text": [
            "\n",
            " 25%|██▌       | 1/4 [00:22<01:08, 22.83s/it]\u001b[A\n",
            " 50%|█████     | 2/4 [00:22<00:32, 16.03s/it]\u001b[A\n",
            " 75%|███████▌  | 3/4 [00:23<00:11, 11.36s/it]\u001b[A\n",
            "100%|██████████| 4/4 [00:23<00:00,  5.94s/it]\n",
            "\n",
            "  0%|          | 0/2 [00:00<?, ?it/s]\u001b[A\n",
            "100%|██████████| 2/2 [00:08<00:00,  4.08s/it]\n"
          ],
          "name": "stderr"
        },
        {
          "output_type": "stream",
          "text": [
            "Accuracy  0.55\n",
            " Metric macro: prec rec fscore\n",
            "0.875 0.8125 0.8333333333333333 \n",
            " Metric micro: prec rec fscore\n",
            "0.875 0.875 0.875 \n",
            " Metric weighted: prec rec fscore\n",
            "1.0 0.875 0.9166666666666666 \n"
          ],
          "name": "stdout"
        },
        {
          "output_type": "stream",
          "text": [
            "\n",
            "  0%|          | 0/4 [00:00<?, ?it/s]\u001b[A"
          ],
          "name": "stderr"
        },
        {
          "output_type": "stream",
          "text": [
            "Epoch  31\n"
          ],
          "name": "stdout"
        },
        {
          "output_type": "stream",
          "text": [
            "\n",
            " 25%|██▌       | 1/4 [00:24<01:12, 24.09s/it]\u001b[A\n",
            " 50%|█████     | 2/4 [00:24<00:33, 16.89s/it]\u001b[A\n",
            " 75%|███████▌  | 3/4 [00:24<00:11, 11.86s/it]\u001b[A\n",
            "100%|██████████| 4/4 [00:24<00:00,  6.15s/it]\n",
            "\n",
            "  0%|          | 0/2 [00:00<?, ?it/s]\u001b[A\n",
            "100%|██████████| 2/2 [00:08<00:00,  4.14s/it]\n"
          ],
          "name": "stderr"
        },
        {
          "output_type": "stream",
          "text": [
            "Accuracy  0.55\n",
            " Metric macro: prec rec fscore\n",
            "0.875 0.8125 0.8333333333333333 \n",
            " Metric micro: prec rec fscore\n",
            "0.875 0.875 0.875 \n",
            " Metric weighted: prec rec fscore\n",
            "1.0 0.875 0.9166666666666666 \n"
          ],
          "name": "stdout"
        },
        {
          "output_type": "stream",
          "text": [
            "\n",
            "  0%|          | 0/4 [00:00<?, ?it/s]\u001b[A"
          ],
          "name": "stderr"
        },
        {
          "output_type": "stream",
          "text": [
            "Epoch  32\n"
          ],
          "name": "stdout"
        },
        {
          "output_type": "stream",
          "text": [
            "\n",
            " 25%|██▌       | 1/4 [00:23<01:09, 23.17s/it]\u001b[A\n",
            " 50%|█████     | 2/4 [00:24<00:33, 16.57s/it]\u001b[A\n",
            " 75%|███████▌  | 3/4 [00:24<00:11, 11.64s/it]\u001b[A\n",
            "100%|██████████| 4/4 [00:24<00:00,  6.19s/it]\n",
            "\n",
            "  0%|          | 0/2 [00:00<?, ?it/s]\u001b[A\n",
            "100%|██████████| 2/2 [00:07<00:00,  3.97s/it]\n"
          ],
          "name": "stderr"
        },
        {
          "output_type": "stream",
          "text": [
            "Accuracy  0.55\n",
            " Metric macro: prec rec fscore\n",
            "0.875 0.8125 0.8333333333333333 \n",
            " Metric micro: prec rec fscore\n",
            "0.875 0.875 0.875 \n",
            " Metric weighted: prec rec fscore\n",
            "1.0 0.875 0.9166666666666666 \n"
          ],
          "name": "stdout"
        },
        {
          "output_type": "stream",
          "text": [
            "\n",
            "  0%|          | 0/4 [00:00<?, ?it/s]\u001b[A"
          ],
          "name": "stderr"
        },
        {
          "output_type": "stream",
          "text": [
            "Epoch  33\n"
          ],
          "name": "stdout"
        },
        {
          "output_type": "stream",
          "text": [
            "\n",
            " 25%|██▌       | 1/4 [00:23<01:10, 23.37s/it]\u001b[A\n",
            " 50%|█████     | 2/4 [00:23<00:32, 16.39s/it]\u001b[A\n",
            " 75%|███████▌  | 3/4 [00:23<00:11, 11.51s/it]\u001b[A\n",
            "100%|██████████| 4/4 [00:23<00:00,  5.97s/it]\n",
            "\n",
            "  0%|          | 0/2 [00:00<?, ?it/s]\u001b[A\n",
            "100%|██████████| 2/2 [00:07<00:00,  3.93s/it]\n"
          ],
          "name": "stderr"
        },
        {
          "output_type": "stream",
          "text": [
            "Accuracy  0.55\n",
            " Metric macro: prec rec fscore\n",
            "0.875 0.8125 0.8333333333333333 \n",
            " Metric micro: prec rec fscore\n",
            "0.875 0.875 0.875 \n",
            " Metric weighted: prec rec fscore\n",
            "1.0 0.875 0.9166666666666666 \n"
          ],
          "name": "stdout"
        },
        {
          "output_type": "stream",
          "text": [
            "\n",
            "  0%|          | 0/4 [00:00<?, ?it/s]\u001b[A"
          ],
          "name": "stderr"
        },
        {
          "output_type": "stream",
          "text": [
            "Epoch  34\n"
          ],
          "name": "stdout"
        },
        {
          "output_type": "stream",
          "text": [
            "\n",
            " 25%|██▌       | 1/4 [00:23<01:10, 23.39s/it]\u001b[A\n",
            " 50%|█████     | 2/4 [00:23<00:32, 16.41s/it]\u001b[A\n",
            " 75%|███████▌  | 3/4 [00:23<00:11, 11.52s/it]\u001b[A\n",
            "100%|██████████| 4/4 [00:23<00:00,  5.98s/it]\n",
            "\n",
            "  0%|          | 0/2 [00:00<?, ?it/s]\u001b[A\n",
            "100%|██████████| 2/2 [00:07<00:00,  3.92s/it]\n"
          ],
          "name": "stderr"
        },
        {
          "output_type": "stream",
          "text": [
            "Accuracy  0.55\n",
            " Metric macro: prec rec fscore\n",
            "0.875 0.8125 0.8333333333333333 \n",
            " Metric micro: prec rec fscore\n",
            "0.875 0.875 0.875 \n",
            " Metric weighted: prec rec fscore\n",
            "1.0 0.875 0.9166666666666666 \n"
          ],
          "name": "stdout"
        },
        {
          "output_type": "stream",
          "text": [
            "\n",
            "  0%|          | 0/4 [00:00<?, ?it/s]\u001b[A"
          ],
          "name": "stderr"
        },
        {
          "output_type": "stream",
          "text": [
            "Epoch  35\n"
          ],
          "name": "stdout"
        },
        {
          "output_type": "stream",
          "text": [
            "\n",
            " 25%|██▌       | 1/4 [00:23<01:09, 23.31s/it]\u001b[A\n",
            " 50%|█████     | 2/4 [00:23<00:32, 16.35s/it]\u001b[A\n",
            " 75%|███████▌  | 3/4 [00:23<00:11, 11.52s/it]\u001b[A\n",
            "100%|██████████| 4/4 [00:23<00:00,  5.99s/it]\n",
            "\n",
            "  0%|          | 0/2 [00:00<?, ?it/s]\u001b[A\n",
            "100%|██████████| 2/2 [00:07<00:00,  3.96s/it]\n"
          ],
          "name": "stderr"
        },
        {
          "output_type": "stream",
          "text": [
            "Accuracy  0.55\n",
            " Metric macro: prec rec fscore\n",
            "0.875 0.8125 0.8333333333333333 \n",
            " Metric micro: prec rec fscore\n",
            "0.875 0.875 0.875 \n",
            " Metric weighted: prec rec fscore\n",
            "1.0 0.875 0.9166666666666666 \n"
          ],
          "name": "stdout"
        },
        {
          "output_type": "stream",
          "text": [
            "\n",
            "  0%|          | 0/4 [00:00<?, ?it/s]\u001b[A"
          ],
          "name": "stderr"
        },
        {
          "output_type": "stream",
          "text": [
            "Epoch  36\n"
          ],
          "name": "stdout"
        },
        {
          "output_type": "stream",
          "text": [
            "\n",
            " 25%|██▌       | 1/4 [00:23<01:10, 23.42s/it]\u001b[A\n",
            " 50%|█████     | 2/4 [00:23<00:32, 16.42s/it]\u001b[A\n",
            " 75%|███████▌  | 3/4 [00:23<00:11, 11.53s/it]\u001b[A\n",
            "100%|██████████| 4/4 [00:23<00:00,  5.98s/it]\n",
            "\n",
            "  0%|          | 0/2 [00:00<?, ?it/s]\u001b[A\n",
            "100%|██████████| 2/2 [00:07<00:00,  3.91s/it]\n"
          ],
          "name": "stderr"
        },
        {
          "output_type": "stream",
          "text": [
            "Accuracy  0.5166666666666667\n",
            " Metric macro: prec rec fscore\n",
            "0.8029411764705883 0.7536764705882353 0.7670401493930905 \n",
            " Metric micro: prec rec fscore\n",
            "0.8416666666666667 0.8416666666666667 0.8416666666666667 \n",
            " Metric weighted: prec rec fscore\n",
            "0.9408333333333333 0.8416666666666667 0.8687830687830687 \n"
          ],
          "name": "stdout"
        },
        {
          "output_type": "stream",
          "text": [
            "\n",
            "  0%|          | 0/4 [00:00<?, ?it/s]\u001b[A"
          ],
          "name": "stderr"
        },
        {
          "output_type": "stream",
          "text": [
            "Epoch  37\n"
          ],
          "name": "stdout"
        },
        {
          "output_type": "stream",
          "text": [
            "\n",
            " 25%|██▌       | 1/4 [00:23<01:09, 23.11s/it]\u001b[A\n",
            " 50%|█████     | 2/4 [00:23<00:32, 16.21s/it]\u001b[A\n",
            " 75%|███████▌  | 3/4 [00:23<00:11, 11.38s/it]\u001b[A\n",
            "100%|██████████| 4/4 [00:23<00:00,  5.90s/it]\n",
            "\n",
            "  0%|          | 0/2 [00:00<?, ?it/s]\u001b[A\n",
            "100%|██████████| 2/2 [00:07<00:00,  3.92s/it]\n"
          ],
          "name": "stderr"
        },
        {
          "output_type": "stream",
          "text": [
            "Accuracy  0.5166666666666667\n",
            " Metric macro: prec rec fscore\n",
            "0.8029411764705883 0.7536764705882353 0.7670401493930905 \n",
            " Metric micro: prec rec fscore\n",
            "0.8416666666666667 0.8416666666666667 0.8416666666666667 \n",
            " Metric weighted: prec rec fscore\n",
            "0.9408333333333333 0.8416666666666667 0.8687830687830687 \n"
          ],
          "name": "stdout"
        },
        {
          "output_type": "stream",
          "text": [
            "\n",
            "  0%|          | 0/4 [00:00<?, ?it/s]\u001b[A"
          ],
          "name": "stderr"
        },
        {
          "output_type": "stream",
          "text": [
            "Epoch  38\n"
          ],
          "name": "stdout"
        },
        {
          "output_type": "stream",
          "text": [
            "\n",
            " 25%|██▌       | 1/4 [00:23<01:10, 23.37s/it]\u001b[A\n",
            " 50%|█████     | 2/4 [00:23<00:32, 16.40s/it]\u001b[A\n",
            " 75%|███████▌  | 3/4 [00:23<00:11, 11.55s/it]\u001b[A\n",
            "100%|██████████| 4/4 [00:24<00:00,  6.00s/it]\n",
            "\n",
            "  0%|          | 0/2 [00:00<?, ?it/s]\u001b[A\n",
            "100%|██████████| 2/2 [00:07<00:00,  3.94s/it]\n"
          ],
          "name": "stderr"
        },
        {
          "output_type": "stream",
          "text": [
            "Accuracy  0.5166666666666667\n",
            " Metric macro: prec rec fscore\n",
            "0.8029411764705883 0.7536764705882353 0.7670401493930905 \n",
            " Metric micro: prec rec fscore\n",
            "0.8416666666666667 0.8416666666666667 0.8416666666666667 \n",
            " Metric weighted: prec rec fscore\n",
            "0.9408333333333333 0.8416666666666667 0.8687830687830687 \n"
          ],
          "name": "stdout"
        },
        {
          "output_type": "stream",
          "text": [
            "\n",
            "  0%|          | 0/4 [00:00<?, ?it/s]\u001b[A"
          ],
          "name": "stderr"
        },
        {
          "output_type": "stream",
          "text": [
            "Epoch  39\n"
          ],
          "name": "stdout"
        },
        {
          "output_type": "stream",
          "text": [
            "\n",
            " 25%|██▌       | 1/4 [00:22<01:07, 22.43s/it]\u001b[A\n",
            " 50%|█████     | 2/4 [00:22<00:31, 15.74s/it]\u001b[A\n",
            " 75%|███████▌  | 3/4 [00:23<00:11, 11.26s/it]\u001b[A\n",
            "100%|██████████| 4/4 [00:23<00:00,  5.91s/it]\n",
            "\n",
            "  0%|          | 0/2 [00:00<?, ?it/s]\u001b[A\n",
            "100%|██████████| 2/2 [00:07<00:00,  3.91s/it]\n"
          ],
          "name": "stderr"
        },
        {
          "output_type": "stream",
          "text": [
            "Accuracy  0.5333333333333333\n",
            " Metric macro: prec rec fscore\n",
            "0.8397058823529412 0.7830882352941176 0.8006535947712419 \n",
            " Metric micro: prec rec fscore\n",
            "0.8583333333333334 0.8583333333333334 0.8583333333333334 \n",
            " Metric weighted: prec rec fscore\n",
            "0.97 0.8583333333333334 0.8925925925925926 \n"
          ],
          "name": "stdout"
        },
        {
          "output_type": "stream",
          "text": [
            "\n",
            "  0%|          | 0/4 [00:00<?, ?it/s]\u001b[A"
          ],
          "name": "stderr"
        },
        {
          "output_type": "stream",
          "text": [
            "Epoch  40\n"
          ],
          "name": "stdout"
        },
        {
          "output_type": "stream",
          "text": [
            "\n",
            " 25%|██▌       | 1/4 [00:22<01:06, 22.17s/it]\u001b[A\n",
            " 50%|█████     | 2/4 [00:23<00:31, 15.77s/it]\u001b[A\n",
            " 75%|███████▌  | 3/4 [00:23<00:11, 11.21s/it]\u001b[A\n",
            "100%|██████████| 4/4 [00:23<00:00,  5.97s/it]\n",
            "\n",
            "  0%|          | 0/2 [00:00<?, ?it/s]\u001b[A\n",
            "100%|██████████| 2/2 [00:07<00:00,  3.94s/it]\n"
          ],
          "name": "stderr"
        },
        {
          "output_type": "stream",
          "text": [
            "Accuracy  0.55\n",
            " Metric macro: prec rec fscore\n",
            "0.875 0.8125 0.8333333333333333 \n",
            " Metric micro: prec rec fscore\n",
            "0.875 0.875 0.875 \n",
            " Metric weighted: prec rec fscore\n",
            "1.0 0.875 0.9166666666666666 \n"
          ],
          "name": "stdout"
        },
        {
          "output_type": "stream",
          "text": [
            "\n",
            "  0%|          | 0/4 [00:00<?, ?it/s]\u001b[A"
          ],
          "name": "stderr"
        },
        {
          "output_type": "stream",
          "text": [
            "Epoch  41\n"
          ],
          "name": "stdout"
        },
        {
          "output_type": "stream",
          "text": [
            "\n",
            " 25%|██▌       | 1/4 [00:22<01:08, 22.93s/it]\u001b[A\n",
            " 50%|█████     | 2/4 [00:23<00:32, 16.08s/it]\u001b[A\n",
            " 75%|███████▌  | 3/4 [00:23<00:11, 11.42s/it]\u001b[A\n",
            "100%|██████████| 4/4 [00:23<00:00,  5.97s/it]\n",
            "\n",
            "  0%|          | 0/2 [00:00<?, ?it/s]\u001b[A\n",
            "100%|██████████| 2/2 [00:07<00:00,  3.93s/it]\n"
          ],
          "name": "stderr"
        },
        {
          "output_type": "stream",
          "text": [
            "Accuracy  0.55\n",
            " Metric macro: prec rec fscore\n",
            "0.875 0.8125 0.8333333333333333 \n",
            " Metric micro: prec rec fscore\n",
            "0.875 0.875 0.875 \n",
            " Metric weighted: prec rec fscore\n",
            "1.0 0.875 0.9166666666666666 \n"
          ],
          "name": "stdout"
        },
        {
          "output_type": "stream",
          "text": [
            "\n",
            "  0%|          | 0/4 [00:00<?, ?it/s]\u001b[A"
          ],
          "name": "stderr"
        },
        {
          "output_type": "stream",
          "text": [
            "Epoch  42\n"
          ],
          "name": "stdout"
        },
        {
          "output_type": "stream",
          "text": [
            "\n",
            " 25%|██▌       | 1/4 [00:22<01:08, 22.84s/it]\u001b[A\n",
            " 50%|█████     | 2/4 [00:23<00:32, 16.25s/it]\u001b[A\n",
            " 75%|███████▌  | 3/4 [00:23<00:11, 11.41s/it]\u001b[A\n",
            "100%|██████████| 4/4 [00:24<00:00,  6.03s/it]\n",
            "\n",
            "  0%|          | 0/2 [00:00<?, ?it/s]\u001b[A\n",
            "100%|██████████| 2/2 [00:07<00:00,  3.96s/it]\n"
          ],
          "name": "stderr"
        },
        {
          "output_type": "stream",
          "text": [
            "Accuracy  0.55\n",
            " Metric macro: prec rec fscore\n",
            "0.875 0.8125 0.8333333333333333 \n",
            " Metric micro: prec rec fscore\n",
            "0.875 0.875 0.875 \n",
            " Metric weighted: prec rec fscore\n",
            "1.0 0.875 0.9166666666666666 \n"
          ],
          "name": "stdout"
        },
        {
          "output_type": "stream",
          "text": [
            "\n",
            "  0%|          | 0/4 [00:00<?, ?it/s]\u001b[A"
          ],
          "name": "stderr"
        },
        {
          "output_type": "stream",
          "text": [
            "Epoch  43\n"
          ],
          "name": "stdout"
        },
        {
          "output_type": "stream",
          "text": [
            "\n",
            " 25%|██▌       | 1/4 [00:22<01:07, 22.39s/it]\u001b[A\n",
            " 50%|█████     | 2/4 [00:23<00:32, 16.10s/it]\u001b[A\n",
            " 75%|███████▌  | 3/4 [00:23<00:11, 11.30s/it]\u001b[A\n",
            "100%|██████████| 4/4 [00:24<00:00,  6.05s/it]\n",
            "\n",
            "  0%|          | 0/2 [00:00<?, ?it/s]\u001b[A\n",
            "100%|██████████| 2/2 [00:08<00:00,  4.03s/it]\n"
          ],
          "name": "stderr"
        },
        {
          "output_type": "stream",
          "text": [
            "Accuracy  0.55\n",
            " Metric macro: prec rec fscore\n",
            "0.875 0.8125 0.8333333333333333 \n",
            " Metric micro: prec rec fscore\n",
            "0.875 0.875 0.875 \n",
            " Metric weighted: prec rec fscore\n",
            "1.0 0.875 0.9166666666666666 \n"
          ],
          "name": "stdout"
        },
        {
          "output_type": "stream",
          "text": [
            "\n",
            "  0%|          | 0/4 [00:00<?, ?it/s]\u001b[A"
          ],
          "name": "stderr"
        },
        {
          "output_type": "stream",
          "text": [
            "Epoch  44\n"
          ],
          "name": "stdout"
        },
        {
          "output_type": "stream",
          "text": [
            "\n",
            " 25%|██▌       | 1/4 [00:23<01:09, 23.12s/it]\u001b[A\n",
            " 50%|█████     | 2/4 [00:23<00:32, 16.26s/it]\u001b[A\n",
            " 75%|███████▌  | 3/4 [00:23<00:11, 11.46s/it]\u001b[A\n",
            "100%|██████████| 4/4 [00:23<00:00,  5.98s/it]\n",
            "\n",
            "  0%|          | 0/2 [00:00<?, ?it/s]\u001b[A\n",
            "100%|██████████| 2/2 [00:08<00:00,  4.03s/it]\n"
          ],
          "name": "stderr"
        },
        {
          "output_type": "stream",
          "text": [
            "Accuracy  0.55\n",
            " Metric macro: prec rec fscore\n",
            "0.875 0.8125 0.8333333333333333 \n",
            " Metric micro: prec rec fscore\n",
            "0.875 0.875 0.875 \n",
            " Metric weighted: prec rec fscore\n",
            "1.0 0.875 0.9166666666666666 \n"
          ],
          "name": "stdout"
        },
        {
          "output_type": "stream",
          "text": [
            "\n",
            "  0%|          | 0/4 [00:00<?, ?it/s]\u001b[A"
          ],
          "name": "stderr"
        },
        {
          "output_type": "stream",
          "text": [
            "Epoch  45\n"
          ],
          "name": "stdout"
        },
        {
          "output_type": "stream",
          "text": [
            "\n",
            " 25%|██▌       | 1/4 [00:24<01:12, 24.18s/it]\u001b[A\n",
            " 50%|█████     | 2/4 [00:24<00:33, 16.95s/it]\u001b[A\n",
            " 75%|███████▌  | 3/4 [00:24<00:11, 11.91s/it]\u001b[A\n",
            "100%|██████████| 4/4 [00:24<00:00,  6.18s/it]\n",
            "\n",
            "  0%|          | 0/2 [00:00<?, ?it/s]\u001b[A\n",
            "100%|██████████| 2/2 [00:08<00:00,  4.04s/it]\n"
          ],
          "name": "stderr"
        },
        {
          "output_type": "stream",
          "text": [
            "Accuracy  0.5333333333333333\n",
            " Metric macro: prec rec fscore\n",
            "0.8397058823529412 0.7830882352941176 0.8006535947712419 \n",
            " Metric micro: prec rec fscore\n",
            "0.8583333333333334 0.8583333333333334 0.8583333333333334 \n",
            " Metric weighted: prec rec fscore\n",
            "0.97 0.8583333333333334 0.8925925925925926 \n"
          ],
          "name": "stdout"
        },
        {
          "output_type": "stream",
          "text": [
            "\n",
            "  0%|          | 0/4 [00:00<?, ?it/s]\u001b[A"
          ],
          "name": "stderr"
        },
        {
          "output_type": "stream",
          "text": [
            "Epoch  46\n"
          ],
          "name": "stdout"
        },
        {
          "output_type": "stream",
          "text": [
            "\n",
            " 25%|██▌       | 1/4 [00:23<01:10, 23.38s/it]\u001b[A\n",
            " 50%|█████     | 2/4 [00:23<00:32, 16.40s/it]\u001b[A\n",
            " 75%|███████▌  | 3/4 [00:23<00:11, 11.58s/it]\u001b[A\n",
            "100%|██████████| 4/4 [00:24<00:00,  6.03s/it]\n",
            "\n",
            "  0%|          | 0/2 [00:00<?, ?it/s]\u001b[A\n",
            "100%|██████████| 2/2 [00:08<00:00,  4.03s/it]\n"
          ],
          "name": "stderr"
        },
        {
          "output_type": "stream",
          "text": [
            "Accuracy  0.5333333333333333\n",
            " Metric macro: prec rec fscore\n",
            "0.8397058823529412 0.7830882352941176 0.8006535947712419 \n",
            " Metric micro: prec rec fscore\n",
            "0.8583333333333334 0.8583333333333334 0.8583333333333334 \n",
            " Metric weighted: prec rec fscore\n",
            "0.97 0.8583333333333334 0.8925925925925926 \n"
          ],
          "name": "stdout"
        },
        {
          "output_type": "stream",
          "text": [
            "\n",
            "  0%|          | 0/4 [00:00<?, ?it/s]\u001b[A"
          ],
          "name": "stderr"
        },
        {
          "output_type": "stream",
          "text": [
            "Epoch  47\n"
          ],
          "name": "stdout"
        },
        {
          "output_type": "stream",
          "text": [
            "\n",
            " 25%|██▌       | 1/4 [00:23<01:10, 23.53s/it]\u001b[A\n",
            " 50%|█████     | 2/4 [00:23<00:33, 16.60s/it]\u001b[A\n",
            " 75%|███████▌  | 3/4 [00:24<00:11, 11.65s/it]\u001b[A\n",
            "100%|██████████| 4/4 [00:24<00:00,  6.09s/it]\n",
            "\n",
            "  0%|          | 0/2 [00:00<?, ?it/s]\u001b[A\n",
            "100%|██████████| 2/2 [00:08<00:00,  4.06s/it]\n"
          ],
          "name": "stderr"
        },
        {
          "output_type": "stream",
          "text": [
            "Accuracy  0.55\n",
            " Metric macro: prec rec fscore\n",
            "0.875 0.8125 0.8333333333333333 \n",
            " Metric micro: prec rec fscore\n",
            "0.875 0.875 0.875 \n",
            " Metric weighted: prec rec fscore\n",
            "1.0 0.875 0.9166666666666666 \n"
          ],
          "name": "stdout"
        },
        {
          "output_type": "stream",
          "text": [
            "\n",
            "  0%|          | 0/4 [00:00<?, ?it/s]\u001b[A"
          ],
          "name": "stderr"
        },
        {
          "output_type": "stream",
          "text": [
            "Epoch  48\n"
          ],
          "name": "stdout"
        },
        {
          "output_type": "stream",
          "text": [
            "\n",
            " 25%|██▌       | 1/4 [00:23<01:11, 23.88s/it]\u001b[A\n",
            " 50%|█████     | 2/4 [00:23<00:33, 16.75s/it]\u001b[A\n",
            " 75%|███████▌  | 3/4 [00:24<00:11, 11.76s/it]\u001b[A\n",
            "100%|██████████| 4/4 [00:24<00:00,  6.10s/it]\n",
            "\n",
            "  0%|          | 0/2 [00:00<?, ?it/s]\u001b[A\n",
            "100%|██████████| 2/2 [00:08<00:00,  4.06s/it]\n"
          ],
          "name": "stderr"
        },
        {
          "output_type": "stream",
          "text": [
            "Accuracy  0.5333333333333333\n",
            " Metric macro: prec rec fscore\n",
            "0.8397058823529412 0.7830882352941176 0.8006535947712419 \n",
            " Metric micro: prec rec fscore\n",
            "0.8583333333333334 0.8583333333333334 0.8583333333333334 \n",
            " Metric weighted: prec rec fscore\n",
            "0.97 0.8583333333333334 0.8925925925925926 \n"
          ],
          "name": "stdout"
        },
        {
          "output_type": "stream",
          "text": [
            "\n",
            "  0%|          | 0/4 [00:00<?, ?it/s]\u001b[A"
          ],
          "name": "stderr"
        },
        {
          "output_type": "stream",
          "text": [
            "Epoch  49\n"
          ],
          "name": "stdout"
        },
        {
          "output_type": "stream",
          "text": [
            "\n",
            " 25%|██▌       | 1/4 [00:23<01:10, 23.51s/it]\u001b[A\n",
            " 50%|█████     | 2/4 [00:24<00:33, 16.71s/it]\u001b[A\n",
            " 75%|███████▌  | 3/4 [00:24<00:11, 11.73s/it]\u001b[A\n",
            "100%|██████████| 4/4 [00:24<00:00,  6.19s/it]\n",
            "\n",
            "  0%|          | 0/2 [00:00<?, ?it/s]\u001b[A\n",
            "100%|██████████| 2/2 [00:08<00:00,  4.06s/it]\n"
          ],
          "name": "stderr"
        },
        {
          "output_type": "stream",
          "text": [
            "Accuracy  0.5333333333333333\n",
            " Metric macro: prec rec fscore\n",
            "0.8397058823529412 0.7830882352941176 0.8006535947712419 \n",
            " Metric micro: prec rec fscore\n",
            "0.8583333333333334 0.8583333333333334 0.8583333333333334 \n",
            " Metric weighted: prec rec fscore\n",
            "0.97 0.8583333333333334 0.8925925925925926 \n"
          ],
          "name": "stdout"
        }
      ]
    },
    {
      "cell_type": "code",
      "metadata": {
        "id": "aCLYecAMAoWN",
        "colab_type": "code",
        "colab": {
          "base_uri": "https://localhost:8080/",
          "height": 1000
        },
        "outputId": "7c7ec131-687b-48cf-f432-2f91ac0025b4"
      },
      "source": [
        "import torch\n",
        "import torchvision\n",
        "from sklearn.metrics import precision_recall_fscore_support\n",
        "\n",
        "def validate(class_set='base'):\n",
        "  total_classes = 64\n",
        "  batch_size = 30\n",
        "  num_workers = 8\n",
        "  \n",
        "  # Validation Data Loader\n",
        "  val_transform = transforms.Compose([\n",
        "      transforms.Resize((224,224)),\n",
        "      transforms.ToTensor(),\n",
        "      transforms.Normalize((0.485, 0.456, 0.406), (0.229, 0.224, 0.225)),\n",
        "  ])\n",
        "  if class_set == 'base':\n",
        "    data_dir = 'new_veggie_fruit_data/base/'\n",
        "    validate_input_folder = data_dir + 'validate/'\n",
        "\n",
        "    val_dataset = torchvision.datasets.ImageFolder(validate_input_folder,\n",
        "                                                    transform=val_transform)\n",
        "  else:\n",
        "    data_dir = 'new_veggie_fruit_data/fewshot/'\n",
        "    validate_input_folder = data_dir + 'validate/'\n",
        "\n",
        "    target_transform = lambda lbl: lbl + 44 \n",
        "    val_dataset = torchvision.datasets.ImageFolder(validate_input_folder,\n",
        "                                                    transform=val_transform,\n",
        "                                                  target_transform=target_transform)\n",
        "    \n",
        "  val_loader = data.DataLoader(val_dataset, batch_size=batch_size,\n",
        "                                  shuffle=False, num_workers=num_workers)\n",
        "  # Create Model\n",
        "  model = torchvision.models.vgg19(pretrained=True)\n",
        "  model.classifier[6] = nn.Linear(4096, total_classes, bias=True)\n",
        "  model = model.cuda()\n",
        "\n",
        "  model.load_state_dict(torch.load(\"fewshot_ckpt.pth\"))\n",
        "\n",
        "  model.eval()\n",
        "  with torch.no_grad():\n",
        "      correct = 0.0\n",
        "      tqdm_val = tqdm.tqdm(val_loader)\n",
        "      metrics = {'macro': {'prec': 0.0, 'rec': 0.0, 'fscore': 0.0},                                                                                                                               \n",
        "                  'micro': {'prec': 0.0, 'rec': 0.0, 'fscore': 0.0},\n",
        "                  'weighted': {'prec': 0.0, 'rec': 0.0, 'fscore': 0.0}}\n",
        "      labels = None\n",
        "      preds = None\n",
        "      count_cls = {}\n",
        "      for image, label in tqdm_val:\n",
        "          image = image.cuda()\n",
        "          pred = model(image)\n",
        "          pred_labels = pred.detach().cpu().argmax(dim=1)\n",
        "          if labels is None:\n",
        "            labels = label\n",
        "            preds = pred_labels\n",
        "          else:\n",
        "            labels = torch.cat((labels, label), dim=0)\n",
        "            preds = torch.cat((preds, pred_labels), dim=0)\n",
        "\n",
        "          for key in metrics.keys():\n",
        "              prec, recall, fscore, _ = precision_recall_fscore_support(label, pred_labels,\n",
        "                                                                        average=key)\n",
        "              metrics[key]['prec'] += prec\n",
        "              metrics[key]['rec'] += recall\n",
        "              metrics[key]['fscore'] += fscore\n",
        "          correct += (pred_labels == label).sum().item()\n",
        "      \n",
        "      print('Accuracy ', correct/(len(tqdm_val)*batch_size))\n",
        "      for key in metrics.keys():\n",
        "          print(' Metric %s: prec rec fscore'%key)\n",
        "          out_str = ''\n",
        "          for k2 in metrics[key].keys():\n",
        "              metrics[key][k2] /= (len(tqdm_val))\n",
        "              out_str += str(metrics[key][k2]) + ' '\n",
        "          print(out_str)\n",
        "\n",
        "      print('Fscore per class ') \n",
        "      prec, recall, fscore, sprt = precision_recall_fscore_support(labels, preds, average=None)\n",
        "      for i in range(len(fscore)):\n",
        "        print('Class : ', i, 'Fscore : ', fscore[i], ' Support: ', sprt[i])\n",
        "\n",
        "print('Evaluation on Base Classes ')\n",
        "validate(class_set='base')\n",
        "\n",
        "print('Evaluation on fewshot classes')\n",
        "validate(class_set='fewshot')"
      ],
      "execution_count": 10,
      "outputs": [
        {
          "output_type": "stream",
          "text": [
            "Evaluation on Base Classes \n"
          ],
          "name": "stdout"
        },
        {
          "output_type": "stream",
          "text": [
            "\n",
            "  0%|          | 0/13 [00:00<?, ?it/s]\u001b[A/usr/local/lib/python3.6/dist-packages/sklearn/metrics/_classification.py:1272: UndefinedMetricWarning: Precision and F-score are ill-defined and being set to 0.0 in labels with no predicted samples. Use `zero_division` parameter to control this behavior.\n",
            "  _warn_prf(average, modifier, msg_start, len(result))\n",
            "/usr/local/lib/python3.6/dist-packages/sklearn/metrics/_classification.py:1272: UndefinedMetricWarning: Recall and F-score are ill-defined and being set to 0.0 in labels with no true samples. Use `zero_division` parameter to control this behavior.\n",
            "  _warn_prf(average, modifier, msg_start, len(result))\n",
            "\n",
            "  8%|▊         | 1/13 [00:19<03:58, 19.91s/it]\u001b[A\n",
            " 15%|█▌        | 2/13 [00:20<02:33, 13.99s/it]\u001b[A\n",
            " 23%|██▎       | 3/13 [00:20<01:38,  9.84s/it]\u001b[A\n",
            " 31%|███       | 4/13 [00:20<01:02,  6.94s/it]\u001b[A\n",
            " 38%|███▊      | 5/13 [00:24<00:47,  5.94s/it]\u001b[A\n",
            " 46%|████▌     | 6/13 [00:24<00:29,  4.20s/it]\u001b[A\n",
            " 54%|█████▍    | 7/13 [00:24<00:18,  3.02s/it]\u001b[A\n",
            " 62%|██████▏   | 8/13 [00:24<00:10,  2.15s/it]\u001b[A\n",
            " 69%|██████▉   | 9/13 [00:35<00:19,  4.79s/it]\u001b[A\n",
            " 77%|███████▋  | 10/13 [00:35<00:10,  3.42s/it]\u001b[A\n",
            "100%|██████████| 13/13 [00:36<00:00,  2.78s/it]\n"
          ],
          "name": "stderr"
        },
        {
          "output_type": "stream",
          "text": [
            "Accuracy  0.6846153846153846\n",
            " Metric macro: prec rec fscore\n",
            "0.44246031746031744 0.3636301049829568 0.3824937790961539 \n",
            " Metric micro: prec rec fscore\n",
            "0.7 0.7 0.7 \n",
            " Metric weighted: prec rec fscore\n",
            "0.885897435897436 0.7 0.7411167568386754 \n",
            "Fscore per class \n",
            "Class :  0 Fscore :  0.0  Support:  3\n",
            "Class :  1 Fscore :  0.9  Support:  11\n",
            "Class :  2 Fscore :  1.0  Support:  18\n",
            "Class :  3 Fscore :  0.8333333333333333  Support:  14\n",
            "Class :  4 Fscore :  0.0  Support:  7\n",
            "Class :  5 Fscore :  0.15384615384615385  Support:  24\n",
            "Class :  6 Fscore :  0.0  Support:  1\n",
            "Class :  7 Fscore :  1.0  Support:  17\n",
            "Class :  8 Fscore :  0.0  Support:  7\n",
            "Class :  9 Fscore :  0.972972972972973  Support:  19\n",
            "Class :  10 Fscore :  0.0  Support:  6\n",
            "Class :  11 Fscore :  1.0  Support:  3\n",
            "Class :  12 Fscore :  0.0  Support:  1\n",
            "Class :  13 Fscore :  0.9565217391304348  Support:  12\n",
            "Class :  14 Fscore :  1.0  Support:  15\n",
            "Class :  15 Fscore :  0.9090909090909091  Support:  6\n",
            "Class :  16 Fscore :  1.0  Support:  19\n",
            "Class :  17 Fscore :  0.0  Support:  1\n",
            "Class :  18 Fscore :  1.0  Support:  4\n",
            "Class :  19 Fscore :  0.9333333333333333  Support:  8\n",
            "Class :  20 Fscore :  0.8979591836734693  Support:  27\n",
            "Class :  21 Fscore :  1.0  Support:  13\n",
            "Class :  22 Fscore :  0.0  Support:  4\n",
            "Class :  23 Fscore :  0.888888888888889  Support:  10\n",
            "Class :  24 Fscore :  1.0  Support:  7\n",
            "Class :  25 Fscore :  0.9090909090909091  Support:  6\n",
            "Class :  26 Fscore :  1.0  Support:  4\n",
            "Class :  27 Fscore :  0.0  Support:  2\n",
            "Class :  28 Fscore :  0.7272727272727273  Support:  7\n",
            "Class :  29 Fscore :  0.1904761904761905  Support:  19\n",
            "Class :  30 Fscore :  0.8571428571428571  Support:  4\n",
            "Class :  31 Fscore :  1.0  Support:  1\n",
            "Class :  32 Fscore :  1.0  Support:  11\n",
            "Class :  33 Fscore :  0.2857142857142857  Support:  6\n",
            "Class :  34 Fscore :  1.0  Support:  1\n",
            "Class :  35 Fscore :  0.888888888888889  Support:  15\n",
            "Class :  36 Fscore :  0.0  Support:  1\n",
            "Class :  37 Fscore :  0.0  Support:  1\n",
            "Class :  38 Fscore :  0.8571428571428571  Support:  4\n",
            "Class :  39 Fscore :  0.9302325581395349  Support:  23\n",
            "Class :  40 Fscore :  0.9565217391304348  Support:  12\n",
            "Class :  41 Fscore :  0.0  Support:  3\n",
            "Class :  42 Fscore :  0.0  Support:  2\n",
            "Class :  43 Fscore :  1.0  Support:  1\n",
            "Class :  44 Fscore :  0.0  Support:  0\n",
            "Class :  45 Fscore :  0.0  Support:  0\n",
            "Class :  46 Fscore :  0.0  Support:  0\n",
            "Class :  47 Fscore :  0.0  Support:  0\n",
            "Class :  48 Fscore :  0.0  Support:  0\n",
            "Class :  49 Fscore :  0.0  Support:  0\n",
            "Class :  50 Fscore :  0.0  Support:  0\n",
            "Class :  51 Fscore :  0.0  Support:  0\n",
            "Class :  52 Fscore :  0.0  Support:  0\n",
            "Class :  53 Fscore :  0.0  Support:  0\n",
            "Class :  54 Fscore :  0.0  Support:  0\n",
            "Class :  55 Fscore :  0.0  Support:  0\n",
            "Class :  56 Fscore :  0.0  Support:  0\n",
            "Class :  57 Fscore :  0.0  Support:  0\n",
            "Class :  58 Fscore :  0.0  Support:  0\n",
            "Class :  59 Fscore :  0.0  Support:  0\n",
            "Evaluation on fewshot classes\n"
          ],
          "name": "stdout"
        },
        {
          "output_type": "stream",
          "text": [
            "\n",
            "  0%|          | 0/2 [00:00<?, ?it/s]\u001b[A\n",
            "100%|██████████| 2/2 [00:08<00:00,  4.14s/it]"
          ],
          "name": "stderr"
        },
        {
          "output_type": "stream",
          "text": [
            "Accuracy  0.5333333333333333\n",
            " Metric macro: prec rec fscore\n",
            "0.8397058823529412 0.7830882352941176 0.8006535947712419 \n",
            " Metric micro: prec rec fscore\n",
            "0.8583333333333334 0.8583333333333334 0.8583333333333334 \n",
            " Metric weighted: prec rec fscore\n",
            "0.97 0.8583333333333334 0.8925925925925926 \n",
            "Fscore per class \n",
            "Class :  0 Fscore :  1.0  Support:  3\n",
            "Class :  1 Fscore :  1.0  Support:  1\n",
            "Class :  2 Fscore :  1.0  Support:  2\n",
            "Class :  3 Fscore :  1.0  Support:  2\n",
            "Class :  4 Fscore :  1.0  Support:  1\n",
            "Class :  5 Fscore :  1.0  Support:  1\n",
            "Class :  6 Fscore :  1.0  Support:  1\n",
            "Class :  7 Fscore :  1.0  Support:  2\n",
            "Class :  8 Fscore :  0.0  Support:  1\n",
            "Class :  9 Fscore :  1.0  Support:  2\n",
            "Class :  10 Fscore :  0.8  Support:  2\n",
            "Class :  11 Fscore :  1.0  Support:  1\n",
            "Class :  12 Fscore :  1.0  Support:  1\n",
            "Class :  13 Fscore :  0.888888888888889  Support:  4\n",
            "Class :  14 Fscore :  1.0  Support:  4\n",
            "Class :  15 Fscore :  1.0  Support:  1\n",
            "Class :  16 Fscore :  1.0  Support:  1\n",
            "Class :  17 Fscore :  1.0  Support:  1\n",
            "Class :  18 Fscore :  1.0  Support:  1\n",
            "Class :  19 Fscore :  0.6666666666666666  Support:  2\n"
          ],
          "name": "stdout"
        },
        {
          "output_type": "stream",
          "text": [
            "\n"
          ],
          "name": "stderr"
        }
      ]
    },
    {
      "cell_type": "markdown",
      "metadata": {
        "id": "a0SmGaCbaDGr",
        "colab_type": "text"
      },
      "source": [
        "# Base Training and Finetuning using CosSim Model\n"
      ]
    },
    {
      "cell_type": "code",
      "metadata": {
        "id": "m5GlT4WJaMMe",
        "colab_type": "code",
        "colab": {}
      },
      "source": [
        "\n",
        "import torch                                                                                                                                                                                                \n",
        "import torchvision\n",
        "import torchvision.transforms as transforms\n",
        "from torch.utils import data\n",
        "import argparse\n",
        "import torch.nn as nn\n",
        "import tqdm\n",
        "import torch.optim as optim\n",
        "from sklearn.metrics import precision_recall_fscore_support\n",
        "\n",
        "class CosSimVGG19(nn.Module):\n",
        "    def __init__(self, num_classes):\n",
        "        super().__init__()\n",
        "        self.num_classes = num_classes\n",
        "        temp_backbone = torchvision.models.vgg19(pretrained=True)\n",
        "        self.features = temp_backbone.features\n",
        "        self.backbone_classifier = temp_backbone.classifier[:-1]\n",
        "        self.cls_score = nn.Linear(4096, num_classes, bias=True)\n",
        "        self.scale = nn.Parameter(torch.tensor(1.0))\n",
        "\n",
        "    def forward(self, x):\n",
        "        x = self.features(x)\n",
        "        x = self.backbone_classifier(x.view(-1, 512*7*7))\n",
        "\n",
        "        x_norm = torch.norm(x, p=2, dim=1).unsqueeze(1).expand_as(x)\n",
        "        x_normalized = x.div(x_norm + 1e-5)\n",
        "\n",
        "        # normalize weight\n",
        "        temp_norm = torch.norm(self.cls_score.weight.data,\n",
        "                               p=2, dim=1).unsqueeze(1).expand_as(\n",
        "            self.cls_score.weight.data)\n",
        "        self.cls_score.weight.data = \\\n",
        "                self.cls_score.weight.data.div(temp_norm + 1e-5)\n",
        "\n",
        "        cos_dist = self.cls_score(x_normalized)\n",
        "        scores = self.scale * cos_dist\n",
        "        return scores\n",
        "\n",
        "def my_load_dict(model, base_pth, nbase):\n",
        "  base_state_dict = torch.load(base_pth)\n",
        "  model_dict = model.state_dict()\n",
        "  # 1. filter out unnecessary keys\n",
        "  base_state_dict = {k: v for k, v in base_state_dict.items() if k in model_dict}\n",
        "  for k, v in base_state_dict.items():\n",
        "      if 'classifier.6' in k:\n",
        "          base_state_dict[k] = torch.cat((base_state_dict[k], model_dict[k][nbase:]))\n",
        "  # 2. overwrite entries in the existing state dict\n",
        "  model_dict.update(base_state_dict)\n",
        "  model.load_state_dict(model_dict)\n",
        "\n",
        "def train(class_set='base', model_type='fc'):\n",
        "    val_every_nepochs = 1 \n",
        "    batch_size = 30\n",
        "    nepochs = 50\n",
        "    num_workers = 8\n",
        "    \n",
        "    if class_set == 'base':\n",
        "      total_classes = 44\n",
        "      data_dir = 'new_veggie_fruit_data/base/'\n",
        "      train_input_folder = data_dir + 'train/'\n",
        "      validate_input_folder = data_dir + 'validate/'\n",
        "    else:\n",
        "      total_classes = 64\n",
        "      data_dir = 'new_veggie_fruit_data/fewshot/'\n",
        "      train_input_folder = data_dir + 'train/'\n",
        "      validate_input_folder = data_dir + 'validate/'\n",
        "\n",
        "    # Training Data Loader\n",
        "    train_transform = transforms.Compose([\n",
        "       transforms.RandomHorizontalFlip(),\n",
        "       transforms.RandomVerticalFlip(),\n",
        "       transforms.RandomAffine(scale=(0.9, 1.25), shear=0.2, degrees=0),\n",
        "       transforms.Resize((224,224)),\n",
        "       transforms.ToTensor(),\n",
        "       transforms.Normalize((0.485, 0.456, 0.406), (0.229, 0.224, 0.225)),\n",
        "    ])  \n",
        "    if class_set == 'fewshot':\n",
        "      target_transform = lambda lbl: lbl+ 44\n",
        "      train_dataset = torchvision.datasets.ImageFolder(train_input_folder,\n",
        "                                                       transform=train_transform,\n",
        "                                                       target_transform=target_transform)\n",
        "    else:\n",
        "        train_dataset = torchvision.datasets.ImageFolder(train_input_folder,\n",
        "                                                       transform=train_transform)\n",
        "    train_loader = data.DataLoader(train_dataset, batch_size=batch_size,\n",
        "                                   shuffle=True, num_workers=num_workers)\n",
        "\n",
        "    # Validation Data Loader\n",
        "    val_transform = transforms.Compose([\n",
        "       transforms.Resize((224,224)),\n",
        "       transforms.ToTensor(),\n",
        "       transforms.Normalize((0.485, 0.456, 0.406), (0.229, 0.224, 0.225)),\n",
        "    ])\n",
        "\n",
        "    if class_set == 'fewshot':\n",
        "      val_dataset = torchvision.datasets.ImageFolder(validate_input_folder,\n",
        "                                                     transform=val_transform,\n",
        "                                                     target_transform=target_transform)\n",
        "    else:\n",
        "        val_dataset = torchvision.datasets.ImageFolder(validate_input_folder,\n",
        "                                                     transform=val_transform)\n",
        "        \n",
        "    val_loader = data.DataLoader(val_dataset, batch_size=batch_size,\n",
        "                                   shuffle=False, num_workers=num_workers)\n",
        "\n",
        "    # Create Model\n",
        "    if model_type == 'cossim':\n",
        "      model = CosSimVGG19(total_classes)\n",
        "    else:\n",
        "      model = torchvision.models.vgg19(pretrained=True)\n",
        "      model.classifier[6] = nn.Linear(4096, total_classes, bias=True)\n",
        "\n",
        "    model = model.cuda()\n",
        "\n",
        "    if class_set == 'fewshot':\n",
        "      my_load_dict(model, 'base_ckpt.pth', 44)\n",
        "\n",
        "    criterion = nn.CrossEntropyLoss(ignore_index=255).cuda()\n",
        "\n",
        "    # Create Optimizer and freeze backbone\n",
        "    for param in model.features.parameters():\n",
        "        param.requires_grad = False                                                                                                                                                                         \n",
        "    optimizer = optim.Adam(model.parameters(), lr=0.001)\n",
        "\n",
        "    # Training/Val Loop\n",
        "    model.train()\n",
        "    for epoch in range(nepochs):\n",
        "        print('Epoch ', epoch)\n",
        "        tqdm_train = tqdm.tqdm(train_loader)\n",
        "        for image, label in tqdm_train:\n",
        "            image = image.cuda()\n",
        "            label = label.cuda()\n",
        "\n",
        "            optimizer.zero_grad()\n",
        "            pred = model(image)\n",
        "            loss = criterion(pred, label)\n",
        "            loss.backward()\n",
        "            optimizer.step()\n",
        "        if epoch % val_every_nepochs == 0:\n",
        "            model.eval()\n",
        "            with torch.no_grad():\n",
        "                correct = 0.0\n",
        "                tqdm_val = tqdm.tqdm(val_loader)\n",
        "                metrics = {'macro': {'prec': 0.0, 'rec': 0.0, 'fscore': 0.0},                                                                                                                               \n",
        "                           'micro': {'prec': 0.0, 'rec': 0.0, 'fscore': 0.0},\n",
        "                           'weighted': {'prec': 0.0, 'rec': 0.0, 'fscore': 0.0}}\n",
        "\n",
        "                for image, label in tqdm_val:\n",
        "                    image = image.cuda()\n",
        "                    pred = model(image)\n",
        "                    pred_labels = pred.detach().cpu().argmax(dim=1)\n",
        "                    for key in metrics.keys():\n",
        "                        prec, recall, fscore, _ = precision_recall_fscore_support(label, pred_labels,\n",
        "                                                                                  average=key)\n",
        "                        metrics[key]['prec'] += prec\n",
        "                        metrics[key]['rec'] += recall\n",
        "                        metrics[key]['fscore'] += fscore\n",
        "                    correct += (pred_labels == label).sum().item()\n",
        "                print('Accuracy ', correct/(len(tqdm_val)*batch_size))\n",
        "                for key in metrics.keys():\n",
        "                    print(' Metric %s: prec rec fscore'%key)\n",
        "                    out_str = ''\n",
        "                    for k2 in metrics[key].keys():\n",
        "                        metrics[key][k2] /= (len(tqdm_val))\n",
        "                        out_str += str(metrics[key][k2]) + ' '\n",
        "                    print(out_str)\n",
        "                torch.save(model.state_dict(), '%s_ckpt.pth'%class_set)"
      ],
      "execution_count": 0,
      "outputs": []
    },
    {
      "cell_type": "code",
      "metadata": {
        "id": "kXzlTgonb6nI",
        "colab_type": "code",
        "colab": {
          "base_uri": "https://localhost:8080/",
          "height": 52
        },
        "outputId": "695097a0-9143-4ce8-f401-7d97d252a0de"
      },
      "source": [
        "train(class_set='base', model_type='cossim')"
      ],
      "execution_count": 0,
      "outputs": [
        {
          "output_type": "stream",
          "text": [
            "\r  0%|          | 0/48 [00:00<?, ?it/s]"
          ],
          "name": "stderr"
        },
        {
          "output_type": "stream",
          "text": [
            "Epoch  0\n"
          ],
          "name": "stdout"
        },
        {
          "output_type": "stream",
          "text": [
            " 50%|█████     | 24/48 [01:24<00:24,  1.04s/it]"
          ],
          "name": "stderr"
        }
      ]
    },
    {
      "cell_type": "code",
      "metadata": {
        "id": "dW4IXGxNcsBf",
        "colab_type": "code",
        "colab": {}
      },
      "source": [
        "import torch\n",
        "import torchvision\n",
        "from sklearn.metrics import precision_recall_fscore_support\n",
        "\n",
        "def validate(class_set='base'):\n",
        "  total_classes = 64\n",
        "  batch_size = 30\n",
        "  num_workers = 8\n",
        "  \n",
        "  # Validation Data Loader\n",
        "  val_transform = transforms.Compose([\n",
        "      transforms.Resize((224,224)),\n",
        "      transforms.ToTensor(),\n",
        "      transforms.Normalize((0.485, 0.456, 0.406), (0.229, 0.224, 0.225)),\n",
        "  ])\n",
        "  if class_set == 'base':\n",
        "    data_dir = 'new_veggie_fruit_data/base/'\n",
        "    validate_input_folder = data_dir + 'validate/'\n",
        "\n",
        "    val_dataset = torchvision.datasets.ImageFolder(validate_input_folder,\n",
        "                                                    transform=val_transform)\n",
        "  else:\n",
        "    data_dir = 'new_veggie_fruit_data/fewshot/'\n",
        "    validate_input_folder = data_dir + 'validate/'\n",
        "\n",
        "    target_transform = lambda lbl: lbl + 44 \n",
        "    val_dataset = torchvision.datasets.ImageFolder(validate_input_folder,\n",
        "                                                    transform=val_transform,\n",
        "                                                  target_transform=target_transform)\n",
        "    \n",
        "  val_loader = data.DataLoader(val_dataset, batch_size=batch_size,\n",
        "                                  shuffle=False, num_workers=num_workers)\n",
        "  # Create Model\n",
        "  model = torchvision.models.vgg19(pretrained=True)\n",
        "  model.classifier[6] = nn.Linear(4096, total_classes, bias=True)\n",
        "  model = model.cuda()\n",
        "\n",
        "  model.load_state_dict(torch.load(\"fewshot_ckpt.pth\"))\n",
        "\n",
        "  model.eval()\n",
        "  with torch.no_grad():\n",
        "      correct = 0.0\n",
        "      tqdm_val = tqdm.tqdm(val_loader)\n",
        "      metrics = {'macro': {'prec': 0.0, 'rec': 0.0, 'fscore': 0.0},                                                                                                                               \n",
        "                  'micro': {'prec': 0.0, 'rec': 0.0, 'fscore': 0.0},\n",
        "                  'weighted': {'prec': 0.0, 'rec': 0.0, 'fscore': 0.0}}\n",
        "      labels = None\n",
        "      preds = None\n",
        "      count_cls = {}\n",
        "      for image, label in tqdm_val:\n",
        "          image = image.cuda()\n",
        "          pred = model(image)\n",
        "          pred_labels = pred.detach().cpu().argmax(dim=1)\n",
        "          if labels is None:\n",
        "            labels = label\n",
        "            preds = pred_labels\n",
        "          else:\n",
        "            labels = torch.cat((labels, label), dim=0)\n",
        "            preds = torch.cat((preds, pred_labels), dim=0)\n",
        "\n",
        "          for key in metrics.keys():\n",
        "              prec, recall, fscore, _ = precision_recall_fscore_support(label, pred_labels,\n",
        "                                                                        average=key)\n",
        "              metrics[key]['prec'] += prec\n",
        "              metrics[key]['rec'] += recall\n",
        "              metrics[key]['fscore'] += fscore\n",
        "          correct += (pred_labels == label).sum().item()\n",
        "      \n",
        "      print('Accuracy ', correct/(len(tqdm_val)*batch_size))\n",
        "      for key in metrics.keys():\n",
        "          print(' Metric %s: prec rec fscore'%key)\n",
        "          out_str = ''\n",
        "          for k2 in metrics[key].keys():\n",
        "              metrics[key][k2] /= (len(tqdm_val))\n",
        "              out_str += str(metrics[key][k2]) + ' '\n",
        "          print(out_str)\n",
        "\n",
        "      print('Fscore per class ') \n",
        "      prec, recall, fscore, sprt = precision_recall_fscore_support(labels, preds, average=None)\n",
        "      for i in range(len(fscore)):\n",
        "        print('Class : ', i, 'Fscore : ', fscore[i], ' Support: ', sprt[i])\n",
        "\n",
        "print('Evaluation on Base Classes ')\n",
        "validate(class_set='base')\n",
        "\n",
        "print('Evaluation on fewshot classes')\n",
        "validate(class_set='fewshot')"
      ],
      "execution_count": 0,
      "outputs": []
    }
  ]
}